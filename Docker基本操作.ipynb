{
 "cells": [
  {
   "cell_type": "markdown",
   "metadata": {
    "lc_cell_meme": {
     "current": "11efc8c2-49df-11e9-91dd-0242ac120002",
     "history": [
      {
       "current": "11efc8c2-49df-11e9-91dd-0242ac120002",
       "next": "11efcdd6-49df-11e9-91dd-0242ac120002",
       "previous": null
      },
      {
       "current": "11efc8c2-49df-11e9-91dd-0242ac120002",
       "next": "a0fc2c40-49df-11e9-91dd-0242ac120002",
       "previous": null
      },
      {
       "current": "11efc8c2-49df-11e9-91dd-0242ac120002",
       "next": "069d92b8-49e1-11e9-91dd-0242ac120002",
       "previous": null
      },
      {
       "current": "11efc8c2-49df-11e9-91dd-0242ac120002",
       "next": "c0af8558-0ce6-11ea-9309-0242ac120004",
       "previous": null
      }
     ],
     "next": "130806f8-0cfc-11ea-9309-0242ac120004",
     "previous": null
    }
   },
   "source": [
    "# sshでログイン"
   ]
  },
  {
   "cell_type": "code",
   "execution_count": null,
   "metadata": {
    "lc_cell_meme": {
     "current": "130806f8-0cfc-11ea-9309-0242ac120004",
     "next": "c0af8558-0ce6-11ea-9309-0242ac120004",
     "previous": "11efc8c2-49df-11e9-91dd-0242ac120002"
    }
   },
   "outputs": [],
   "source": [
    "%param TARGET user1-target"
   ]
  },
  {
   "cell_type": "code",
   "execution_count": null,
   "metadata": {
    "lc_cell_meme": {
     "current": "c0af8558-0ce6-11ea-9309-0242ac120004",
     "history": [
      {
       "current": "c0af8558-0ce6-11ea-9309-0242ac120004",
       "next": "069d92b8-49e1-11e9-91dd-0242ac120002",
       "previous": "11efc8c2-49df-11e9-91dd-0242ac120002"
      }
     ],
     "next": "069d92b8-49e1-11e9-91dd-0242ac120002",
     "previous": "130806f8-0cfc-11ea-9309-0242ac120004"
    },
    "pinned_outputs": [
     {
      "execution_count": 2,
      "outputs": [
       {
        "name": "stdout",
        "output_type": "stream",
        "text": "[ssh] Login to {TARGET}...\n[ssh] host=user1-target hostname=10.138.0.21 other_conf={'user': 'user1', 'port': 22, 'keyfile': ['/home/user1/.ssh/sshkey']}\n[ssh] Successfully logged in.\n"
       }
      ]
     }
    ]
   },
   "outputs": [],
   "source": [
    "%login {TARGET}"
   ]
  },
  {
   "cell_type": "markdown",
   "metadata": {
    "lc_cell_meme": {
     "current": "069d92b8-49e1-11e9-91dd-0242ac120002",
     "history": [
      {
       "current": "069d92b8-49e1-11e9-91dd-0242ac120002",
       "next": "a0fc2c40-49df-11e9-91dd-0242ac120002",
       "previous": "11efc8c2-49df-11e9-91dd-0242ac120002"
      }
     ],
     "next": "a0fc2c40-49df-11e9-91dd-0242ac120002",
     "previous": "c0af8558-0ce6-11ea-9309-0242ac120004"
    }
   },
   "source": [
    "# Docker基本操作"
   ]
  },
  {
   "cell_type": "markdown",
   "metadata": {
    "lc_cell_meme": {
     "current": "a0fc2c40-49df-11e9-91dd-0242ac120002",
     "history": [
      {
       "current": "a0fc2c40-49df-11e9-91dd-0242ac120002",
       "next": "11efcdd6-49df-11e9-91dd-0242ac120002",
       "previous": "11efc8c2-49df-11e9-91dd-0242ac120002"
      }
     ],
     "next": "11efcdd6-49df-11e9-91dd-0242ac120002",
     "previous": "069d92b8-49e1-11e9-91dd-0242ac120002"
    }
   },
   "source": [
    "dockerコマンドのバージョン"
   ]
  },
  {
   "cell_type": "code",
   "execution_count": null,
   "metadata": {
    "lc_cell_meme": {
     "current": "11efcdd6-49df-11e9-91dd-0242ac120002",
     "history": [
      {
       "current": "11efcdd6-49df-11e9-91dd-0242ac120002",
       "next": "11efd010-49df-11e9-91dd-0242ac120002",
       "previous": "11efc8c2-49df-11e9-91dd-0242ac120002"
      },
      {
       "current": "11efcdd6-49df-11e9-91dd-0242ac120002",
       "next": "11efd010-49df-11e9-91dd-0242ac120002",
       "previous": "a0fc2c40-49df-11e9-91dd-0242ac120002"
      }
     ],
     "next": "e8802e18-49df-11e9-91dd-0242ac120002",
     "previous": "a0fc2c40-49df-11e9-91dd-0242ac120002"
    },
    "pinned_outputs": [
     {
      "execution_count": 3,
      "outputs": [
       {
        "name": "stdout",
        "output_type": "stream",
        "text": "[ssh] host = user1-target, cwd = /home/user1\nDocker version 1.13.1, build 7f2769b/1.13.1\n"
       }
      ]
     }
    ],
    "scrolled": true
   },
   "outputs": [],
   "source": [
    "sudo docker --version"
   ]
  },
  {
   "cell_type": "markdown",
   "metadata": {
    "lc_cell_meme": {
     "current": "e8802e18-49df-11e9-91dd-0242ac120002",
     "next": "11efd010-49df-11e9-91dd-0242ac120002",
     "previous": "11efcdd6-49df-11e9-91dd-0242ac120002"
    }
   },
   "source": [
    "dockerデーモンのデーモンの稼働状況"
   ]
  },
  {
   "cell_type": "code",
   "execution_count": null,
   "metadata": {
    "lc_cell_meme": {
     "current": "11efd010-49df-11e9-91dd-0242ac120002",
     "history": [
      {
       "current": "11efd010-49df-11e9-91dd-0242ac120002",
       "next": null,
       "previous": "11efcdd6-49df-11e9-91dd-0242ac120002"
      },
      {
       "current": "11efd010-49df-11e9-91dd-0242ac120002",
       "next": "59766340-49df-11e9-91dd-0242ac120002",
       "previous": "11efcdd6-49df-11e9-91dd-0242ac120002"
      }
     ],
     "next": "e88036b0-49df-11e9-91dd-0242ac120002",
     "previous": "e8802e18-49df-11e9-91dd-0242ac120002"
    },
    "pinned_outputs": [
     {
      "execution_count": 4,
      "outputs": [
       {
        "name": "stdout",
        "output_type": "stream",
        "text": "[ssh] host = user1-target, cwd = /home/user1\nContainers: 0\n Running: 0\n  WARNING: You're not using the default seccomp profile\n Paused: 0\n Stopped: 0\nImages: 0\nServer Version: 1.13.1\nStorage Driver: overlay2\n Backing Filesystem: xfs\n Supports d_type: true\n Native Overlay Diff: true\nLogging Driver: journald\nCgroup Driver: systemd\nPlugins: \n Volume: local\n Network: bridge host macvlan null overlay\nSwarm: inactive\nRuntimes: docker-runc runc\nDefault Runtime: docker-runc\nInit Binary: /usr/libexec/docker/docker-init-current\ncontainerd version:  (expected: aa8187dbd3b7ad67d8e5e3a15115d3eef43a7ed1)\nrunc version: 9c3c5f853ebf0ffac0d087e94daef462133b69c7 (expected: 9df8b306d01f59d3a8029be411de015b7304dd8f)\ninit version: fec3683b971d9c3ef73f284f176672c44b448662 (expected: 949e6facb77383876aeff8a6944dde66b3089574)\nSecurity Options:\n seccomp\n  Profile: /etc/docker/seccomp.json\n selinux\nKernel Version: 3.10.0-1062.4.3.el7.x86_64\nOperating System: CentOS Linux 7 (Core)\nOSType: linux\nArchitecture: x86_64\nNumber of Docker Hooks: 3\nCPUs: 2\nTotal Memory: 7.146 GiB\nName: user1-target\nID: 64PG:52F3:HY6I:UQBV:WFCF:Z53Q:KDQC:62CA:NDJI:WCK7:ICCT:NGXI\nDocker Root Dir: /var/lib/docker\nDebug Mode (client): false\nDebug Mode (server): false\nRegistry: https://index.docker.io/v1/\nExperimental: false\nInsecure Registries:\n 127.0.0.0/8\nLive Restore Enabled: false\nRegistries: docker.io (secure)\n"
       }
      ]
     }
    ]
   },
   "outputs": [],
   "source": [
    "sudo docker info"
   ]
  },
  {
   "cell_type": "markdown",
   "metadata": {
    "lc_cell_meme": {
     "current": "e88036b0-49df-11e9-91dd-0242ac120002",
     "next": "59766340-49df-11e9-91dd-0242ac120002",
     "previous": "11efd010-49df-11e9-91dd-0242ac120002"
    }
   },
   "source": [
    "コンテナを動かしてみる（サーバではなくコマンドの実行を行うテスト用のコンテナ）\n",
    "\n",
    "https://hub.docker.com/_/hello-world"
   ]
  },
  {
   "cell_type": "code",
   "execution_count": null,
   "metadata": {
    "lc_cell_meme": {
     "current": "59766340-49df-11e9-91dd-0242ac120002",
     "history": [
      {
       "current": "59766340-49df-11e9-91dd-0242ac120002",
       "next": "59766746-49df-11e9-91dd-0242ac120002",
       "previous": "11efd010-49df-11e9-91dd-0242ac120002"
      },
      {
       "current": "59766340-49df-11e9-91dd-0242ac120002",
       "next": "59766746-49df-11e9-91dd-0242ac120002",
       "previous": "e88036b0-49df-11e9-91dd-0242ac120002"
      }
     ],
     "next": "3008b232-49e0-11e9-91dd-0242ac120002",
     "previous": "e88036b0-49df-11e9-91dd-0242ac120002"
    },
    "pinned_outputs": [
     {
      "execution_count": 5,
      "outputs": [
       {
        "name": "stdout",
        "output_type": "stream",
        "text": "[ssh] host = user1-target, cwd = /home/user1\nUnable to find image 'hello-world:latest' locally\nTrying to pull repository docker.io/library/hello-world ... \nlatest: Pulling from docker.io/library/hello-world\n1b930d010525: Pulling fs layer\n1b930d010525: Verifying Checksum\n1b930d010525: Download complete\n1b930d010525: Pull complete\nDigest: sha256:4df8ca8a7e309c256d60d7971ea14c27672fc0d10c5f303856d7bc48f8cc17ff\nStatus: Downloaded newer image for docker.io/hello-world:latest\n\nHello from Docker!\nThis message shows that your installation appears to be working correctly.\n\nTo generate this message, Docker took the following steps:\n 1. The Docker client contacted the Docker daemon.\n 2. The Docker daemon pulled the \"hello-world\" image from the Docker Hub.\n    (amd64)\n 3. The Docker daemon created a new container from that image which runs the\n    executable that produces the output you are currently reading.\n 4. The Docker daemon streamed that output to the Docker client, which sent it\n    to your terminal.\n\nTo try something more ambitious, you can run an Ubuntu container with:\n $ docker run -it ubuntu bash\n\nShare images, automate workflows, and more with a free Docker ID:\n https://hub.docker.com/\n\nFor more examples and ideas, visit:\n https://docs.docker.com/get-started/\n\n"
       }
      ]
     }
    ]
   },
   "outputs": [],
   "source": [
    "sudo docker run hello-world"
   ]
  },
  {
   "cell_type": "markdown",
   "metadata": {
    "lc_cell_meme": {
     "current": "3008b232-49e0-11e9-91dd-0242ac120002",
     "next": "59766746-49df-11e9-91dd-0242ac120002",
     "previous": "59766340-49df-11e9-91dd-0242ac120002"
    }
   },
   "source": [
    "コンテナイメージの一覧"
   ]
  },
  {
   "cell_type": "code",
   "execution_count": null,
   "metadata": {
    "lc_cell_meme": {
     "current": "59766746-49df-11e9-91dd-0242ac120002",
     "history": [
      {
       "current": "59766746-49df-11e9-91dd-0242ac120002",
       "next": "597669f8-49df-11e9-91dd-0242ac120002",
       "previous": "59766340-49df-11e9-91dd-0242ac120002"
      }
     ],
     "next": "3008b6ce-49e0-11e9-91dd-0242ac120002",
     "previous": "3008b232-49e0-11e9-91dd-0242ac120002"
    },
    "pinned_outputs": [
     {
      "execution_count": 6,
      "outputs": [
       {
        "name": "stdout",
        "output_type": "stream",
        "text": "[ssh] host = user1-target, cwd = /home/user1\nREPOSITORY              TAG                 IMAGE ID            CREATED             SIZE\ndocker.io/hello-world   latest              fce289e99eb9        10 months ago       1.84 kB\n"
       }
      ]
     }
    ]
   },
   "outputs": [],
   "source": [
    "sudo docker image ls"
   ]
  },
  {
   "cell_type": "markdown",
   "metadata": {
    "lc_cell_meme": {
     "current": "3008b6ce-49e0-11e9-91dd-0242ac120002",
     "next": "597669f8-49df-11e9-91dd-0242ac120002",
     "previous": "59766746-49df-11e9-91dd-0242ac120002"
    }
   },
   "source": [
    "コンテナの一覧"
   ]
  },
  {
   "cell_type": "code",
   "execution_count": null,
   "metadata": {
    "lc_cell_meme": {
     "current": "597669f8-49df-11e9-91dd-0242ac120002",
     "history": [
      {
       "current": "597669f8-49df-11e9-91dd-0242ac120002",
       "next": null,
       "previous": "59766746-49df-11e9-91dd-0242ac120002"
      },
      {
       "current": "597669f8-49df-11e9-91dd-0242ac120002",
       "next": "a0fc3384-49df-11e9-91dd-0242ac120002",
       "previous": "59766746-49df-11e9-91dd-0242ac120002"
      },
      {
       "current": "597669f8-49df-11e9-91dd-0242ac120002",
       "next": "a0fc3384-49df-11e9-91dd-0242ac120002",
       "previous": "3008b6ce-49e0-11e9-91dd-0242ac120002"
      },
      {
       "current": "597669f8-49df-11e9-91dd-0242ac120002",
       "next": "bf15684e-49e0-11e9-91dd-0242ac120002",
       "previous": "3008b6ce-49e0-11e9-91dd-0242ac120002"
      }
     ],
     "next": "75650be8-0ced-11ea-9309-0242ac120004",
     "previous": "3008b6ce-49e0-11e9-91dd-0242ac120002"
    },
    "pinned_outputs": [
     {
      "execution_count": 7,
      "outputs": [
       {
        "name": "stdout",
        "output_type": "stream",
        "text": "[ssh] host = user1-target, cwd = /home/user1\nCONTAINER ID        IMAGE               COMMAND             CREATED             STATUS                     PORTS               NAMES\n153d36618167        hello-world         \"/hello\"            9 seconds ago       Exited (0) 8 seconds ago                       silly_dijkstra\n"
       }
      ]
     }
    ]
   },
   "outputs": [],
   "source": [
    "sudo docker container ls --all"
   ]
  },
  {
   "cell_type": "markdown",
   "metadata": {
    "lc_cell_meme": {
     "current": "75650be8-0ced-11ea-9309-0242ac120004",
     "history": [
      {
       "current": "75650be8-0ced-11ea-9309-0242ac120004",
       "next": "f18c4748-0cea-11ea-9309-0242ac120004",
       "previous": "bf15684e-49e0-11e9-91dd-0242ac120002"
      }
     ],
     "next": "f18c4748-0cea-11ea-9309-0242ac120004",
     "previous": "597669f8-49df-11e9-91dd-0242ac120002"
    }
   },
   "source": [
    "※セッションのリセット"
   ]
  },
  {
   "cell_type": "code",
   "execution_count": null,
   "metadata": {
    "lc_cell_meme": {
     "current": "f18c4748-0cea-11ea-9309-0242ac120004",
     "history": [
      {
       "current": "f18c4748-0cea-11ea-9309-0242ac120004",
       "next": "f18c4c0c-0cea-11ea-9309-0242ac120004",
       "previous": "a0fc3384-49df-11e9-91dd-0242ac120002"
      },
      {
       "current": "f18c4748-0cea-11ea-9309-0242ac120004",
       "next": "f18c4c0c-0cea-11ea-9309-0242ac120004",
       "previous": "bf15684e-49e0-11e9-91dd-0242ac120002"
      }
     ],
     "next": "f18c4c0c-0cea-11ea-9309-0242ac120004",
     "previous": "75650be8-0ced-11ea-9309-0242ac120004"
    },
    "pinned_outputs": [
     {
      "execution_count": 8,
      "outputs": [
       {
        "name": "stdout",
        "output_type": "stream",
        "text": "[ssh] Successfully logged out.\n"
       }
      ]
     }
    ]
   },
   "outputs": [],
   "source": [
    "%logout"
   ]
  },
  {
   "cell_type": "code",
   "execution_count": null,
   "metadata": {
    "lc_cell_meme": {
     "current": "f18c4c0c-0cea-11ea-9309-0242ac120004",
     "history": [
      {
       "current": "f18c4c0c-0cea-11ea-9309-0242ac120004",
       "next": "778f56f6-49e0-11e9-91dd-0242ac120002",
       "previous": "f18c4748-0cea-11ea-9309-0242ac120004"
      },
      {
       "current": "f18c4c0c-0cea-11ea-9309-0242ac120004",
       "next": "a0fc3384-49df-11e9-91dd-0242ac120002",
       "previous": "f18c4748-0cea-11ea-9309-0242ac120004"
      }
     ],
     "next": "bf15684e-49e0-11e9-91dd-0242ac120002",
     "previous": "f18c4748-0cea-11ea-9309-0242ac120004"
    },
    "pinned_outputs": [
     {
      "execution_count": 9,
      "outputs": [
       {
        "name": "stdout",
        "output_type": "stream",
        "text": "[ssh] Closing existing connection.\n[ssh] Login to {TARGET}...\n[ssh] host=user1-target hostname=10.138.0.21 other_conf={'user': 'user1', 'port': 22, 'keyfile': ['/home/user1/.ssh/sshkey']}\n[ssh] Successfully logged in.\n"
       }
      ]
     }
    ]
   },
   "outputs": [],
   "source": [
    "%login {TARGET}"
   ]
  },
  {
   "cell_type": "markdown",
   "metadata": {
    "lc_cell_meme": {
     "current": "bf15684e-49e0-11e9-91dd-0242ac120002",
     "history": [
      {
       "current": "bf15684e-49e0-11e9-91dd-0242ac120002",
       "next": "a0fc3384-49df-11e9-91dd-0242ac120002",
       "previous": "597669f8-49df-11e9-91dd-0242ac120002"
      },
      {
       "current": "bf15684e-49e0-11e9-91dd-0242ac120002",
       "next": "f18c4748-0cea-11ea-9309-0242ac120004",
       "previous": "597669f8-49df-11e9-91dd-0242ac120002"
      },
      {
       "current": "bf15684e-49e0-11e9-91dd-0242ac120002",
       "next": "75650be8-0ced-11ea-9309-0242ac120004",
       "previous": "597669f8-49df-11e9-91dd-0242ac120002"
      }
     ],
     "next": "a0fc3384-49df-11e9-91dd-0242ac120002",
     "previous": "f18c4c0c-0cea-11ea-9309-0242ac120004"
    }
   },
   "source": [
    "# ここまでのおさらい"
   ]
  },
  {
   "cell_type": "markdown",
   "metadata": {
    "lc_cell_meme": {
     "current": "a0fc3384-49df-11e9-91dd-0242ac120002",
     "history": [
      {
       "current": "a0fc3384-49df-11e9-91dd-0242ac120002",
       "next": null,
       "previous": "597669f8-49df-11e9-91dd-0242ac120002"
      },
      {
       "current": "a0fc3384-49df-11e9-91dd-0242ac120002",
       "next": "778f56f6-49e0-11e9-91dd-0242ac120002",
       "previous": "597669f8-49df-11e9-91dd-0242ac120002"
      },
      {
       "current": "a0fc3384-49df-11e9-91dd-0242ac120002",
       "next": "778f56f6-49e0-11e9-91dd-0242ac120002",
       "previous": "bf15684e-49e0-11e9-91dd-0242ac120002"
      },
      {
       "current": "a0fc3384-49df-11e9-91dd-0242ac120002",
       "next": "f18c4748-0cea-11ea-9309-0242ac120004",
       "previous": "bf15684e-49e0-11e9-91dd-0242ac120002"
      },
      {
       "current": "a0fc3384-49df-11e9-91dd-0242ac120002",
       "next": "778f56f6-49e0-11e9-91dd-0242ac120002",
       "previous": "f18c4c0c-0cea-11ea-9309-0242ac120004"
      }
     ],
     "next": "778f56f6-49e0-11e9-91dd-0242ac120002",
     "previous": "bf15684e-49e0-11e9-91dd-0242ac120002"
    }
   },
   "source": [
    "List Docker CLI commands"
   ]
  },
  {
   "cell_type": "code",
   "execution_count": null,
   "metadata": {
    "lc_cell_meme": {
     "current": "778f56f6-49e0-11e9-91dd-0242ac120002",
     "history": [
      {
       "current": "778f56f6-49e0-11e9-91dd-0242ac120002",
       "next": "778f5b24-49e0-11e9-91dd-0242ac120002",
       "previous": "a0fc3384-49df-11e9-91dd-0242ac120002"
      },
      {
       "current": "778f56f6-49e0-11e9-91dd-0242ac120002",
       "next": "778f5b24-49e0-11e9-91dd-0242ac120002",
       "previous": "f18c4c0c-0cea-11ea-9309-0242ac120004"
      }
     ],
     "next": "778f5b24-49e0-11e9-91dd-0242ac120002",
     "previous": "a0fc3384-49df-11e9-91dd-0242ac120002"
    },
    "pinned_outputs": [
     {
      "execution_count": 10,
      "outputs": [
       {
        "name": "stdout",
        "output_type": "stream",
        "text": "[ssh] host = user1-target, cwd = /home/user1\n\nUsage:\tdocker COMMAND\n\nA self-sufficient runtime for containers\n\nOptions:\n      --config string      Location of client config files (default \"/root/.docker\")\n  -D, --debug              Enable debug mode\n      --help               Print usage\n  -H, --host list          Daemon socket(s) to connect to (default [])\n  -l, --log-level string   Set the logging level (\"debug\", \"info\", \"warn\", \"error\", \"fatal\") (default \"info\")\n      --tls                Use TLS; implied by --tlsverify\n      --tlscacert string   Trust certs signed only by this CA (default \"/root/.docker/ca.pem\")\n      --tlscert string     Path to TLS certificate file (default \"/root/.docker/cert.pem\")\n      --tlskey string      Path to TLS key file (default \"/root/.docker/key.pem\")\n      --tlsverify          Use TLS and verify the remote\n  -v, --version            Print version information and quit\n\nManagement Commands:\n  container   Manage containers\n  image       Manage images\n  network     Manage networks\n  node        Manage Swarm nodes\n  plugin      Manage plugins\n  secret      Manage Docker secrets\n  service     Manage services\n  stack       Manage Docker stacks\n  swarm       Manage Swarm\n  system      Manage Docker\n  volume      Manage volumes\n\nCommands:\n  attach      Attach to a running container\n  build       Build an image from a Dockerfile\n  commit      Create a new image from a container's changes\n  cp          Copy files/folders between a container and the local filesystem\n  create      Create a new container\n  diff        Inspect changes on a container's filesystem\n  events      Get real time events from the server\n  exec        Run a command in a running container\n  export      Export a container's filesystem as a tar archive\n  history     Show the history of an image\n  images      List images\n  import      Import the contents from a tarball to create a filesystem image\n  info        Display system-wide information\n  inspect     Return low-level information on Docker objects\n  kill        Kill one or more running containers\n  load        Load an image from a tar archive or STDIN\n  login       Log in to a Docker registry\n  logout      Log out from a Docker registry\n  logs        Fetch the logs of a container\n  pause       Pause all processes within one or more containers\n  port        List port mappings or a specific mapping for the container\n  ps          List containers\n  pull        Pull an image or a repository from a registry\n  push        Push an image or a repository to a registry\n  rename      Rename a container\n  restart     Restart one or more containers\n  rm          Remove one or more containers\n  rmi         Remove one or more images\n  run         Run a command in a new container\n  save        Save one or more images to a tar archive (streamed to STDOUT by default)\n  search      Search the Docker Hub for images\n  start       Start one or more stopped containers\n  stats       Display a live stream of container(s) resource usage statistics\n  stop        Stop one or more running containers\n  tag         Create a tag TARGET_IMAGE that refers to SOURCE_IMAGE\n  top         Display the running processes of a container\n  unpause     Unpause all processes within one or more containers\n  update      Update configuration of one or more containers\n  version     Show the Docker version information\n  wait        Block until one or more containers stop, then print their exit codes\n\nRun 'docker COMMAND --help' for more information on a command.\n"
       }
      ]
     }
    ]
   },
   "outputs": [],
   "source": [
    "sudo docker"
   ]
  },
  {
   "cell_type": "code",
   "execution_count": null,
   "metadata": {
    "lc_cell_meme": {
     "current": "778f5b24-49e0-11e9-91dd-0242ac120002",
     "next": "778f5dfe-49e0-11e9-91dd-0242ac120002",
     "previous": "778f56f6-49e0-11e9-91dd-0242ac120002"
    },
    "pinned_outputs": [
     {
      "execution_count": 11,
      "outputs": [
       {
        "name": "stdout",
        "output_type": "stream",
        "text": "[ssh] host = user1-target, cwd = /home/user1\n\nUsage:\tdocker container COMMAND\n\nManage containers\n\nOptions:\n      --help   Print usage\n\nCommands:\n  attach      Attach to a running container\n  commit      Create a new image from a container's changes\n  cp          Copy files/folders between a container and the local filesystem\n  create      Create a new container\n  diff        Inspect changes on a container's filesystem\n  exec        Run a command in a running container\n  export      Export a container's filesystem as a tar archive\n  inspect     Display detailed information on one or more containers\n  kill        Kill one or more running containers\n  logs        Fetch the logs of a container\n  ls          List containers\n  pause       Pause all processes within one or more containers\n  port        List port mappings or a specific mapping for the container\n  prune       Remove all stopped containers\n  rename      Rename a container\n  restart     Restart one or more containers\n  rm          Remove one or more containers\n  run         Run a command in a new container\n  start       Start one or more stopped containers\n  stats       Display a live stream of container(s) resource usage statistics\n  stop        Stop one or more running containers\n  top         Display the running processes of a container\n  unpause     Unpause all processes within one or more containers\n  update      Update configuration of one or more containers\n  wait        Block until one or more containers stop, then print their exit codes\n\nRun 'docker container COMMAND --help' for more information on a command.\n"
       }
      ]
     }
    ]
   },
   "outputs": [],
   "source": [
    "sudo docker container --help"
   ]
  },
  {
   "cell_type": "markdown",
   "metadata": {
    "lc_cell_meme": {
     "current": "778f5dfe-49e0-11e9-91dd-0242ac120002",
     "next": "778f607e-49e0-11e9-91dd-0242ac120002",
     "previous": "778f5b24-49e0-11e9-91dd-0242ac120002"
    }
   },
   "source": [
    "Display Docker version and info"
   ]
  },
  {
   "cell_type": "code",
   "execution_count": null,
   "metadata": {
    "lc_cell_meme": {
     "current": "778f607e-49e0-11e9-91dd-0242ac120002",
     "next": "778f62ea-49e0-11e9-91dd-0242ac120002",
     "previous": "778f5dfe-49e0-11e9-91dd-0242ac120002"
    },
    "pinned_outputs": [
     {
      "execution_count": 12,
      "outputs": [
       {
        "name": "stdout",
        "output_type": "stream",
        "text": "[ssh] host = user1-target, cwd = /home/user1\nDocker version 1.13.1, build 7f2769b/1.13.1\n"
       }
      ]
     }
    ]
   },
   "outputs": [],
   "source": [
    "sudo docker --version"
   ]
  },
  {
   "cell_type": "code",
   "execution_count": null,
   "metadata": {
    "lc_cell_meme": {
     "current": "778f62ea-49e0-11e9-91dd-0242ac120002",
     "next": "778f654c-49e0-11e9-91dd-0242ac120002",
     "previous": "778f607e-49e0-11e9-91dd-0242ac120002"
    },
    "pinned_outputs": [
     {
      "execution_count": 13,
      "outputs": [
       {
        "name": "stdout",
        "output_type": "stream",
        "text": "[ssh] host = user1-target, cwd = /home/user1\nClient:\n Version:         1.13.1\n API version:     1.26\n Package version: docker-1.13.1-103.git7f2769b.el7.centos.x86_64\n Go version:      go1.10.3\n Git commit:      7f2769b/1.13.1\n Built:           Sun Sep 15 14:06:47 2019\n OS/Arch:         linux/amd64\n\nServer:\n Version:         1.13.1\n API version:     1.26 (minimum version 1.12)\n Package version: docker-1.13.1-103.git7f2769b.el7.centos.x86_64\n Go version:      go1.10.3\n Git commit:      7f2769b/1.13.1\n Built:           Sun Sep 15 14:06:47 2019\n OS/Arch:         linux/amd64\n Experimental:    false\n"
       }
      ]
     }
    ],
    "scrolled": true
   },
   "outputs": [],
   "source": [
    "sudo docker version"
   ]
  },
  {
   "cell_type": "code",
   "execution_count": null,
   "metadata": {
    "lc_cell_meme": {
     "current": "778f654c-49e0-11e9-91dd-0242ac120002",
     "history": [
      {
       "current": "778f654c-49e0-11e9-91dd-0242ac120002",
       "next": "778f679a-49e0-11e9-91dd-0242ac120002",
       "previous": "778f62ea-49e0-11e9-91dd-0242ac120002"
      }
     ],
     "next": "75650be8-0ced-11ea-9309-0242ac120004",
     "previous": "778f62ea-49e0-11e9-91dd-0242ac120002"
    },
    "pinned_outputs": [
     {
      "execution_count": 14,
      "outputs": [
       {
        "name": "stdout",
        "output_type": "stream",
        "text": "[ssh] host = user1-target, cwd = /home/user1\nContainers: 1\n  WARNING: You're not using the default seccomp profile\n Running: 0\n Paused: 0\n Stopped: 1\nImages: 1\nServer Version: 1.13.1\nStorage Driver: overlay2\n Backing Filesystem: xfs\n Supports d_type: true\n Native Overlay Diff: true\nLogging Driver: journald\nCgroup Driver: systemd\nPlugins: \n Volume: local\n Network: bridge host macvlan null overlay\nSwarm: inactive\nRuntimes: docker-runc runc\nDefault Runtime: docker-runc\nInit Binary: /usr/libexec/docker/docker-init-current\ncontainerd version:  (expected: aa8187dbd3b7ad67d8e5e3a15115d3eef43a7ed1)\nrunc version: 9c3c5f853ebf0ffac0d087e94daef462133b69c7 (expected: 9df8b306d01f59d3a8029be411de015b7304dd8f)\ninit version: fec3683b971d9c3ef73f284f176672c44b448662 (expected: 949e6facb77383876aeff8a6944dde66b3089574)\nSecurity Options:\n seccomp\n  Profile: /etc/docker/seccomp.json\n selinux\nKernel Version: 3.10.0-1062.4.3.el7.x86_64\nOperating System: CentOS Linux 7 (Core)\nOSType: linux\nArchitecture: x86_64\nNumber of Docker Hooks: 3\nCPUs: 2\nTotal Memory: 7.146 GiB\nName: user1-target\nID: 64PG:52F3:HY6I:UQBV:WFCF:Z53Q:KDQC:62CA:NDJI:WCK7:ICCT:NGXI\nDocker Root Dir: /var/lib/docker\nDebug Mode (client): false\nDebug Mode (server): false\nRegistry: https://index.docker.io/v1/\nExperimental: false\nInsecure Registries:\n 127.0.0.0/8\nLive Restore Enabled: false\nRegistries: docker.io (secure)\n"
       }
      ]
     }
    ]
   },
   "outputs": [],
   "source": [
    "sudo docker info"
   ]
  },
  {
   "cell_type": "markdown",
   "metadata": {
    "lc_cell_meme": {
     "current": "75650be8-0ced-11ea-9309-0242ac120004",
     "history": [
      {
       "current": "75650be8-0ced-11ea-9309-0242ac120004",
       "next": "f18c4748-0cea-11ea-9309-0242ac120004",
       "previous": "bf15684e-49e0-11e9-91dd-0242ac120002"
      }
     ],
     "next": "f18c4748-0cea-11ea-9309-0242ac120004",
     "previous": "778f654c-49e0-11e9-91dd-0242ac120002"
    }
   },
   "source": [
    "※セッションのリセット"
   ]
  },
  {
   "cell_type": "code",
   "execution_count": null,
   "metadata": {
    "lc_cell_meme": {
     "current": "f18c4748-0cea-11ea-9309-0242ac120004",
     "history": [
      {
       "current": "f18c4748-0cea-11ea-9309-0242ac120004",
       "next": "f18c4c0c-0cea-11ea-9309-0242ac120004",
       "previous": "a0fc3384-49df-11e9-91dd-0242ac120002"
      },
      {
       "current": "f18c4748-0cea-11ea-9309-0242ac120004",
       "next": "f18c4c0c-0cea-11ea-9309-0242ac120004",
       "previous": "bf15684e-49e0-11e9-91dd-0242ac120002"
      }
     ],
     "next": "f18c4c0c-0cea-11ea-9309-0242ac120004",
     "previous": "75650be8-0ced-11ea-9309-0242ac120004"
    },
    "pinned_outputs": [
     {
      "execution_count": 15,
      "outputs": [
       {
        "name": "stdout",
        "output_type": "stream",
        "text": "[ssh] Successfully logged out.\n"
       }
      ]
     }
    ]
   },
   "outputs": [],
   "source": [
    "%logout"
   ]
  },
  {
   "cell_type": "code",
   "execution_count": null,
   "metadata": {
    "lc_cell_meme": {
     "current": "f18c4c0c-0cea-11ea-9309-0242ac120004",
     "history": [
      {
       "current": "f18c4c0c-0cea-11ea-9309-0242ac120004",
       "next": "778f56f6-49e0-11e9-91dd-0242ac120002",
       "previous": "f18c4748-0cea-11ea-9309-0242ac120004"
      },
      {
       "current": "f18c4c0c-0cea-11ea-9309-0242ac120004",
       "next": "a0fc3384-49df-11e9-91dd-0242ac120002",
       "previous": "f18c4748-0cea-11ea-9309-0242ac120004"
      }
     ],
     "next": "778f679a-49e0-11e9-91dd-0242ac120002",
     "previous": "f18c4748-0cea-11ea-9309-0242ac120004"
    },
    "pinned_outputs": [
     {
      "execution_count": 16,
      "outputs": [
       {
        "name": "stdout",
        "output_type": "stream",
        "text": "[ssh] Closing existing connection.\n[ssh] Login to {TARGET}...\n[ssh] host=user1-target hostname=10.138.0.21 other_conf={'user': 'user1', 'port': 22, 'keyfile': ['/home/user1/.ssh/sshkey']}\n[ssh] Successfully logged in.\n"
       }
      ]
     }
    ]
   },
   "outputs": [],
   "source": [
    "%login {TARGET}"
   ]
  },
  {
   "cell_type": "markdown",
   "metadata": {
    "lc_cell_meme": {
     "current": "778f679a-49e0-11e9-91dd-0242ac120002",
     "history": [
      {
       "current": "778f679a-49e0-11e9-91dd-0242ac120002",
       "next": null,
       "previous": "778f654c-49e0-11e9-91dd-0242ac120002"
      },
      {
       "current": "778f679a-49e0-11e9-91dd-0242ac120002",
       "next": "bf15746a-49e0-11e9-91dd-0242ac120002",
       "previous": "778f654c-49e0-11e9-91dd-0242ac120002"
      }
     ],
     "next": "bf15746a-49e0-11e9-91dd-0242ac120002",
     "previous": "f18c4c0c-0cea-11ea-9309-0242ac120004"
    }
   },
   "source": [
    "Execute Docker image"
   ]
  },
  {
   "cell_type": "code",
   "execution_count": null,
   "metadata": {
    "lc_cell_meme": {
     "current": "bf15746a-49e0-11e9-91dd-0242ac120002",
     "history": [
      {
       "current": "bf15746a-49e0-11e9-91dd-0242ac120002",
       "next": null,
       "previous": "778f679a-49e0-11e9-91dd-0242ac120002"
      }
     ],
     "next": "069d96f0-49e1-11e9-91dd-0242ac120002",
     "previous": "778f679a-49e0-11e9-91dd-0242ac120002"
    },
    "pinned_outputs": [
     {
      "execution_count": 17,
      "outputs": [
       {
        "name": "stdout",
        "output_type": "stream",
        "text": "[ssh] host = user1-target, cwd = /home/user1\n\nHello from Docker!\nThis message shows that your installation appears to be working correctly.\n\nTo generate this message, Docker took the following steps:\n 1. The Docker client contacted the Docker daemon.\n 2. The Docker daemon pulled the \"hello-world\" image from the Docker Hub.\n    (amd64)\n 3. The Docker daemon created a new container from that image which runs the\n    executable that produces the output you are currently reading.\n 4. The Docker daemon streamed that output to the Docker client, which sent it\n    to your terminal.\n\nTo try something more ambitious, you can run an Ubuntu container with:\n $ docker run -it ubuntu bash\n\nShare images, automate workflows, and more with a free Docker ID:\n https://hub.docker.com/\n\nFor more examples and ideas, visit:\n https://docs.docker.com/get-started/\n\n"
       }
      ]
     }
    ]
   },
   "outputs": [],
   "source": [
    "sudo docker run hello-world"
   ]
  },
  {
   "cell_type": "markdown",
   "metadata": {
    "lc_cell_meme": {
     "current": "069d96f0-49e1-11e9-91dd-0242ac120002",
     "next": "069d99c0-49e1-11e9-91dd-0242ac120002",
     "previous": "bf15746a-49e0-11e9-91dd-0242ac120002"
    }
   },
   "source": [
    "List Docker images"
   ]
  },
  {
   "cell_type": "code",
   "execution_count": null,
   "metadata": {
    "lc_cell_meme": {
     "current": "069d99c0-49e1-11e9-91dd-0242ac120002",
     "next": "069d9c40-49e1-11e9-91dd-0242ac120002",
     "previous": "069d96f0-49e1-11e9-91dd-0242ac120002"
    },
    "pinned_outputs": [
     {
      "execution_count": 18,
      "outputs": [
       {
        "name": "stdout",
        "output_type": "stream",
        "text": "[ssh] host = user1-target, cwd = /home/user1\nREPOSITORY              TAG                 IMAGE ID            CREATED             SIZE\ndocker.io/hello-world   latest              fce289e99eb9        10 months ago       1.84 kB\n"
       }
      ]
     }
    ]
   },
   "outputs": [],
   "source": [
    "sudo docker image ls"
   ]
  },
  {
   "cell_type": "markdown",
   "metadata": {
    "lc_cell_meme": {
     "current": "069d9c40-49e1-11e9-91dd-0242ac120002",
     "history": [
      {
       "current": "069d9c40-49e1-11e9-91dd-0242ac120002",
       "next": null,
       "previous": "069d99c0-49e1-11e9-91dd-0242ac120002"
      }
     ],
     "next": "4e2827f6-49e1-11e9-91dd-0242ac120002",
     "previous": "069d99c0-49e1-11e9-91dd-0242ac120002"
    }
   },
   "source": [
    "List Docker containers (running, all, all in quiet mode)"
   ]
  },
  {
   "cell_type": "code",
   "execution_count": null,
   "metadata": {
    "lc_cell_meme": {
     "current": "4e2827f6-49e1-11e9-91dd-0242ac120002",
     "next": "4e282a9e-49e1-11e9-91dd-0242ac120002",
     "previous": "069d9c40-49e1-11e9-91dd-0242ac120002"
    },
    "pinned_outputs": [
     {
      "execution_count": 19,
      "outputs": [
       {
        "name": "stdout",
        "output_type": "stream",
        "text": "[ssh] host = user1-target, cwd = /home/user1\nCONTAINER ID        IMAGE               COMMAND             CREATED             STATUS              PORTS               NAMES\n"
       }
      ]
     }
    ]
   },
   "outputs": [],
   "source": [
    "sudo docker container ls"
   ]
  },
  {
   "cell_type": "code",
   "execution_count": null,
   "metadata": {
    "lc_cell_meme": {
     "current": "4e282a9e-49e1-11e9-91dd-0242ac120002",
     "next": "4e282bde-49e1-11e9-91dd-0242ac120002",
     "previous": "4e2827f6-49e1-11e9-91dd-0242ac120002"
    },
    "pinned_outputs": [
     {
      "execution_count": 20,
      "outputs": [
       {
        "name": "stdout",
        "output_type": "stream",
        "text": "[ssh] host = user1-target, cwd = /home/user1\nCONTAINER ID        IMAGE               COMMAND             CREATED             STATUS                     PORTS               NAMES\n8a4b3964602a        hello-world         \"/hello\"            8 seconds ago       Exited (0) 6 seconds ago                       angry_ardinghelli\n153d36618167        hello-world         \"/hello\"            2 minutes ago       Exited (0) 2 minutes ago                       silly_dijkstra\n"
       }
      ]
     }
    ]
   },
   "outputs": [],
   "source": [
    "sudo docker container ls --all"
   ]
  },
  {
   "cell_type": "code",
   "execution_count": null,
   "metadata": {
    "lc_cell_meme": {
     "current": "4e282bde-49e1-11e9-91dd-0242ac120002",
     "next": "4e282ce2-49e1-11e9-91dd-0242ac120002",
     "previous": "4e282a9e-49e1-11e9-91dd-0242ac120002"
    },
    "pinned_outputs": [
     {
      "execution_count": 21,
      "outputs": [
       {
        "name": "stdout",
        "output_type": "stream",
        "text": "[ssh] host = user1-target, cwd = /home/user1\n8a4b3964602a\n153d36618167\n"
       }
      ]
     }
    ]
   },
   "outputs": [],
   "source": [
    "sudo docker container ls -aq"
   ]
  },
  {
   "cell_type": "markdown",
   "metadata": {
    "lc_cell_meme": {
     "current": "4e282ce2-49e1-11e9-91dd-0242ac120002",
     "history": [
      {
       "current": "4e282ce2-49e1-11e9-91dd-0242ac120002",
       "next": null,
       "previous": "4e282bde-49e1-11e9-91dd-0242ac120002"
      },
      {
       "current": "4e282ce2-49e1-11e9-91dd-0242ac120002",
       "next": "95a9402e-49e1-11e9-91dd-0242ac120002",
       "previous": "4e282bde-49e1-11e9-91dd-0242ac120002"
      },
      {
       "current": "4e282ce2-49e1-11e9-91dd-0242ac120002",
       "next": "f18c4d60-0cea-11ea-9309-0242ac120004",
       "previous": "4e282bde-49e1-11e9-91dd-0242ac120002"
      }
     ],
     "next": "75650be8-0ced-11ea-9309-0242ac120004",
     "previous": "4e282bde-49e1-11e9-91dd-0242ac120002"
    }
   },
   "source": [
    "# おまけ"
   ]
  },
  {
   "cell_type": "markdown",
   "metadata": {
    "lc_cell_meme": {
     "current": "75650be8-0ced-11ea-9309-0242ac120004",
     "history": [
      {
       "current": "75650be8-0ced-11ea-9309-0242ac120004",
       "next": "f18c4748-0cea-11ea-9309-0242ac120004",
       "previous": "bf15684e-49e0-11e9-91dd-0242ac120002"
      },
      {
       "current": "75650be8-0ced-11ea-9309-0242ac120004",
       "next": "f18c4748-0cea-11ea-9309-0242ac120004",
       "previous": "778f654c-49e0-11e9-91dd-0242ac120002"
      }
     ],
     "next": "f18c4748-0cea-11ea-9309-0242ac120004",
     "previous": "4e282ce2-49e1-11e9-91dd-0242ac120002"
    }
   },
   "source": [
    "※セッションのリセット"
   ]
  },
  {
   "cell_type": "code",
   "execution_count": null,
   "metadata": {
    "lc_cell_meme": {
     "current": "f18c4748-0cea-11ea-9309-0242ac120004",
     "history": [
      {
       "current": "f18c4748-0cea-11ea-9309-0242ac120004",
       "next": "f18c4c0c-0cea-11ea-9309-0242ac120004",
       "previous": "a0fc3384-49df-11e9-91dd-0242ac120002"
      },
      {
       "current": "f18c4748-0cea-11ea-9309-0242ac120004",
       "next": "f18c4c0c-0cea-11ea-9309-0242ac120004",
       "previous": "bf15684e-49e0-11e9-91dd-0242ac120002"
      }
     ],
     "next": "f18c4c0c-0cea-11ea-9309-0242ac120004",
     "previous": "75650be8-0ced-11ea-9309-0242ac120004"
    },
    "pinned_outputs": [
     {
      "execution_count": 22,
      "outputs": [
       {
        "name": "stdout",
        "output_type": "stream",
        "text": "[ssh] Successfully logged out.\n"
       }
      ]
     }
    ]
   },
   "outputs": [],
   "source": [
    "%logout"
   ]
  },
  {
   "cell_type": "code",
   "execution_count": null,
   "metadata": {
    "lc_cell_meme": {
     "current": "f18c4c0c-0cea-11ea-9309-0242ac120004",
     "history": [
      {
       "current": "f18c4c0c-0cea-11ea-9309-0242ac120004",
       "next": "778f56f6-49e0-11e9-91dd-0242ac120002",
       "previous": "f18c4748-0cea-11ea-9309-0242ac120004"
      },
      {
       "current": "f18c4c0c-0cea-11ea-9309-0242ac120004",
       "next": "a0fc3384-49df-11e9-91dd-0242ac120002",
       "previous": "f18c4748-0cea-11ea-9309-0242ac120004"
      },
      {
       "current": "f18c4c0c-0cea-11ea-9309-0242ac120004",
       "next": "778f679a-49e0-11e9-91dd-0242ac120002",
       "previous": "f18c4748-0cea-11ea-9309-0242ac120004"
      }
     ],
     "next": "95a9402e-49e1-11e9-91dd-0242ac120002",
     "previous": "f18c4748-0cea-11ea-9309-0242ac120004"
    },
    "pinned_outputs": [
     {
      "execution_count": 23,
      "outputs": [
       {
        "name": "stdout",
        "output_type": "stream",
        "text": "[ssh] Closing existing connection.\n[ssh] Login to {TARGET}...\n[ssh] host=user1-target hostname=10.138.0.21 other_conf={'user': 'user1', 'port': 22, 'keyfile': ['/home/user1/.ssh/sshkey']}\n[ssh] Successfully logged in.\n"
       }
      ]
     }
    ]
   },
   "outputs": [],
   "source": [
    "%login {TARGET}"
   ]
  },
  {
   "cell_type": "markdown",
   "metadata": {
    "lc_cell_meme": {
     "current": "95a9402e-49e1-11e9-91dd-0242ac120002",
     "history": [
      {
       "current": "95a9402e-49e1-11e9-91dd-0242ac120002",
       "next": "95a94808-49e1-11e9-91dd-0242ac120002",
       "previous": "4e282ce2-49e1-11e9-91dd-0242ac120002"
      },
      {
       "current": "95a9402e-49e1-11e9-91dd-0242ac120002",
       "next": "95a94808-49e1-11e9-91dd-0242ac120002",
       "previous": "f18c4e64-0cea-11ea-9309-0242ac120004"
      }
     ],
     "next": "95a94808-49e1-11e9-91dd-0242ac120002",
     "previous": "f18c4c0c-0cea-11ea-9309-0242ac120004"
    }
   },
   "source": [
    "Exitedなコンテナがゴミとして残る問題\n",
    "\n",
    "生きてるコンテナにはrmが効かないので、コンテナ全部にrmをかけることができます。（本番環境とかは、ちゃんとコードで判別した方が良いけど）"
   ]
  },
  {
   "cell_type": "code",
   "execution_count": null,
   "metadata": {
    "lc_cell_meme": {
     "current": "95a94808-49e1-11e9-91dd-0242ac120002",
     "next": "95a94dd0-49e1-11e9-91dd-0242ac120002",
     "previous": "95a9402e-49e1-11e9-91dd-0242ac120002"
    },
    "pinned_outputs": [
     {
      "execution_count": 24,
      "outputs": [
       {
        "name": "stdout",
        "output_type": "stream",
        "text": "[ssh] host = user1-target, cwd = /home/user1\n8a4b3964602a\n153d36618167\n"
       }
      ]
     }
    ]
   },
   "outputs": [],
   "source": [
    "sudo docker container rm $(sudo docker container ls -aq)"
   ]
  },
  {
   "cell_type": "code",
   "execution_count": null,
   "metadata": {
    "lc_cell_meme": {
     "current": "95a94dd0-49e1-11e9-91dd-0242ac120002",
     "history": [
      {
       "current": "95a94dd0-49e1-11e9-91dd-0242ac120002",
       "next": null,
       "previous": "95a94808-49e1-11e9-91dd-0242ac120002"
      },
      {
       "current": "95a94dd0-49e1-11e9-91dd-0242ac120002",
       "next": "dd2fadd4-49e1-11e9-91dd-0242ac120002",
       "previous": "95a94808-49e1-11e9-91dd-0242ac120002"
      }
     ],
     "next": "24b6f428-49e2-11e9-91dd-0242ac120002",
     "previous": "95a94808-49e1-11e9-91dd-0242ac120002"
    },
    "pinned_outputs": [
     {
      "execution_count": 25,
      "outputs": [
       {
        "name": "stdout",
        "output_type": "stream",
        "text": "[ssh] host = user1-target, cwd = /home/user1\nCONTAINER ID        IMAGE               COMMAND             CREATED             STATUS              PORTS               NAMES\n"
       }
      ]
     }
    ]
   },
   "outputs": [],
   "source": [
    "sudo docker container ls --all"
   ]
  },
  {
   "cell_type": "markdown",
   "metadata": {
    "lc_cell_meme": {
     "current": "24b6f428-49e2-11e9-91dd-0242ac120002",
     "next": "dd2fadd4-49e1-11e9-91dd-0242ac120002",
     "previous": "95a94dd0-49e1-11e9-91dd-0242ac120002"
    }
   },
   "source": [
    "いらないコンテナイメージは消したい。ディスク食うし。\n",
    "\n",
    "生きてるコンテナの元になったコンテナイメージにはrmがきかないので（以下省略）"
   ]
  },
  {
   "cell_type": "code",
   "execution_count": null,
   "metadata": {
    "lc_cell_meme": {
     "current": "dd2fadd4-49e1-11e9-91dd-0242ac120002",
     "history": [
      {
       "current": "dd2fadd4-49e1-11e9-91dd-0242ac120002",
       "next": null,
       "previous": "95a94dd0-49e1-11e9-91dd-0242ac120002"
      },
      {
       "current": "dd2fadd4-49e1-11e9-91dd-0242ac120002",
       "next": null,
       "previous": "24b6f428-49e2-11e9-91dd-0242ac120002"
      }
     ],
     "next": "6c3c3416-49e2-11e9-91dd-0242ac120002",
     "previous": "24b6f428-49e2-11e9-91dd-0242ac120002"
    },
    "pinned_outputs": [
     {
      "execution_count": 26,
      "outputs": [
       {
        "name": "stdout",
        "output_type": "stream",
        "text": "[ssh] host = user1-target, cwd = /home/user1\nUntagged: docker.io/hello-world:latest\nUntagged: docker.io/hello-world@sha256:4df8ca8a7e309c256d60d7971ea14c27672fc0d10c5f303856d7bc48f8cc17ff\nDeleted: sha256:fce289e99eb9bca977dae136fbe2a82b6b7d4c372474c9235adc1741675f587e\nDeleted: sha256:af0b15c8625bb1938f1d7b17081031f649fd14e6b233688eea3c5483994a66a3\n"
       }
      ]
     }
    ]
   },
   "outputs": [],
   "source": [
    "sudo docker image rm $(sudo docker image ls -aq)"
   ]
  },
  {
   "cell_type": "code",
   "execution_count": null,
   "metadata": {
    "lc_cell_meme": {
     "current": "6c3c3416-49e2-11e9-91dd-0242ac120002",
     "next": "6c3c386c-49e2-11e9-91dd-0242ac120002",
     "previous": "dd2fadd4-49e1-11e9-91dd-0242ac120002"
    },
    "pinned_outputs": [
     {
      "execution_count": 27,
      "outputs": [
       {
        "name": "stdout",
        "output_type": "stream",
        "text": "[ssh] host = user1-target, cwd = /home/user1\nREPOSITORY          TAG                 IMAGE ID            CREATED             SIZE\n"
       }
      ]
     }
    ]
   },
   "outputs": [],
   "source": [
    "sudo docker image ls"
   ]
  },
  {
   "cell_type": "code",
   "execution_count": null,
   "metadata": {
    "lc_cell_meme": {
     "current": "6c3c386c-49e2-11e9-91dd-0242ac120002",
     "next": null,
     "previous": "6c3c3416-49e2-11e9-91dd-0242ac120002"
    }
   },
   "outputs": [],
   "source": []
  }
 ],
 "metadata": {
  "kernelspec": {
   "display_name": "SSH",
   "language": "bash",
   "name": "ssh"
  },
  "language_info": {
   "codemirror_mode": "shell",
   "file_extension": ".sh",
   "mimetype": "text/x-sh",
   "name": "ssh"
  },
  "lc_notebook_meme": {
   "current": "11efc2fa-49df-11e9-91dd-0242ac120002",
   "lc_server_signature": {
    "current": {
     "notebook_dir": "/home/user1/notebooks",
     "notebook_path": "/docker-handson",
     "server_url": "https://operationhub.kgr-lab.com/user/user1/",
     "signature_id": "ae27fcb2-043f-11ea-b29c-0242ac120002"
    },
    "history": [
     {
      "notebook_dir": "/home/jovyan",
      "notebook_path": "/docker-handson",
      "server_url": "http://localhost:8888/",
      "signature_id": "8241fd1c-49de-11e9-91dd-0242ac120002"
     },
     {
      "notebook_dir": "/home/jovyan",
      "notebook_path": "/docker-handson",
      "server_url": "http://localhost:8888/",
      "signature_id": "31eff266-49f1-11e9-8353-0242ac120002"
     }
    ]
   }
  },
  "toc": {
   "base_numbering": 1,
   "nav_menu": {},
   "number_sections": true,
   "sideBar": true,
   "skip_h1_title": false,
   "title_cell": "Table of Contents",
   "title_sidebar": "Contents",
   "toc_cell": false,
   "toc_position": {},
   "toc_section_display": true,
   "toc_window_display": true
  }
 },
 "nbformat": 4,
 "nbformat_minor": 2
}
