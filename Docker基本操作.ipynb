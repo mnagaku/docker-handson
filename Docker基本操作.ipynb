{
 "cells": [
  {
   "cell_type": "markdown",
   "metadata": {
    "lc_cell_meme": {
     "current": "2b45aa66-1a45-11eb-b030-0242ac140004",
     "next": "11efc8c2-49df-11e9-91dd-0242ac120002-1-9a50",
     "previous": null
    }
   },
   "source": [
    "# Docker基本操作"
   ]
  },
  {
   "cell_type": "markdown",
   "metadata": {
    "lc_cell_meme": {
     "current": "11efc8c2-49df-11e9-91dd-0242ac120002-1-9a50",
     "history": [
      {
       "current": "11efc8c2-49df-11e9-91dd-0242ac120002",
       "next": "11efcdd6-49df-11e9-91dd-0242ac120002",
       "previous": null
      },
      {
       "current": "11efc8c2-49df-11e9-91dd-0242ac120002",
       "next": "a0fc2c40-49df-11e9-91dd-0242ac120002",
       "previous": null
      },
      {
       "current": "11efc8c2-49df-11e9-91dd-0242ac120002",
       "next": "069d92b8-49e1-11e9-91dd-0242ac120002",
       "previous": null
      },
      {
       "current": "11efc8c2-49df-11e9-91dd-0242ac120002",
       "next": "c0af8558-0ce6-11ea-9309-0242ac120004",
       "previous": null
      },
      {
       "current": "11efc8c2-49df-11e9-91dd-0242ac120002-1-9a50",
       "next": "130806f8-0cfc-11ea-9309-0242ac120004",
       "previous": null
      },
      {
       "current": "11efc8c2-49df-11e9-91dd-0242ac120002-1-9a50",
       "next": "130806f8-0cfc-11ea-9309-0242ac120004-1-d8db",
       "previous": null
      },
      {
       "current": "11efc8c2-49df-11e9-91dd-0242ac120002-1-9a50",
       "next": "310f6bb2-19cd-11eb-a66f-0242ac140004",
       "previous": null
      },
      {
       "current": "11efc8c2-49df-11e9-91dd-0242ac120002-1-9a50",
       "next": "bff85a0a-19cd-11eb-a66f-0242ac140004",
       "previous": null
      },
      {
       "current": "11efc8c2-49df-11e9-91dd-0242ac120002-1-9a50",
       "next": "c0af8558-0ce6-11ea-9309-0242ac120004-1-d91a",
       "previous": null
      }
     ],
     "next": "c0af8558-0ce6-11ea-9309-0242ac120004-1-d91a",
     "previous": "2b45aa66-1a45-11eb-b030-0242ac140004"
    }
   },
   "source": [
    "## sshでログイン"
   ]
  },
  {
   "cell_type": "code",
   "execution_count": null,
   "metadata": {
    "lc_cell_meme": {
     "current": "c0af8558-0ce6-11ea-9309-0242ac120004-1-d91a",
     "history": [
      {
       "current": "c0af8558-0ce6-11ea-9309-0242ac120004",
       "next": "069d92b8-49e1-11e9-91dd-0242ac120002",
       "previous": "11efc8c2-49df-11e9-91dd-0242ac120002"
      },
      {
       "current": "c0af8558-0ce6-11ea-9309-0242ac120004-1-d91a",
       "next": "069d92b8-49e1-11e9-91dd-0242ac120002",
       "previous": "130806f8-0cfc-11ea-9309-0242ac120004"
      },
      {
       "current": "c0af8558-0ce6-11ea-9309-0242ac120004-1-d91a",
       "next": "069d92b8-49e1-11e9-91dd-0242ac120002-1-d4c4",
       "previous": "130806f8-0cfc-11ea-9309-0242ac120004-1-d8db"
      },
      {
       "current": "c0af8558-0ce6-11ea-9309-0242ac120004-1-d91a",
       "next": "069d92b8-49e1-11e9-91dd-0242ac120002-1-d4c4",
       "previous": "11efc8c2-49df-11e9-91dd-0242ac120002-1-9a50"
      }
     ],
     "next": "72f06338-1a45-11eb-b030-0242ac140004",
     "previous": "11efc8c2-49df-11e9-91dd-0242ac120002-1-9a50"
    },
    "pinned_outputs": [
     {
      "execution_count": 1,
      "outputs": [
       {
        "name": "stdout",
        "output_type": "stream",
        "text": "[ssh] Login to target...\n[ssh] host=target hostname=172.31.55.60 other_conf={'user': 'centos', 'port': 22, 'keyfile': ['/home/nagaku/notebooks/docker-handson/nagaku.pem'], 'load_system_ssh_config': False, 'missing_host_policy': <paramiko.client.WarningPolicy object at 0x7f7de05e0550>}\n[ssh] Successfully logged in.\n"
       }
      ]
     }
    ]
   },
   "outputs": [],
   "source": [
    "%login target"
   ]
  },
  {
   "cell_type": "code",
   "execution_count": null,
   "metadata": {
    "lc_cell_meme": {
     "current": "72f06338-1a45-11eb-b030-0242ac140004",
     "next": "72f06518-1a45-11eb-b030-0242ac140004",
     "previous": "c0af8558-0ce6-11ea-9309-0242ac120004-1-d91a"
    },
    "pinned_outputs": [
     {
      "execution_count": 2,
      "outputs": [
       {
        "name": "stdout",
        "output_type": "stream",
        "text": "[ssh] host = target, cwd = /home/centos\n/home/centos\n"
       }
      ]
     }
    ]
   },
   "outputs": [],
   "source": [
    "pwd"
   ]
  },
  {
   "cell_type": "markdown",
   "metadata": {
    "lc_cell_meme": {
     "current": "72f06518-1a45-11eb-b030-0242ac140004",
     "next": "72f065ea-1a45-11eb-b030-0242ac140004",
     "previous": "72f06338-1a45-11eb-b030-0242ac140004"
    }
   },
   "source": [
    "## Dockerのコマンド体系"
   ]
  },
  {
   "cell_type": "markdown",
   "metadata": {
    "lc_cell_meme": {
     "current": "72f065ea-1a45-11eb-b030-0242ac140004",
     "history": [
      {
       "current": "72f065ea-1a45-11eb-b030-0242ac140004",
       "next": "069d92b8-49e1-11e9-91dd-0242ac120002-1-d4c4",
       "previous": "72f06518-1a45-11eb-b030-0242ac140004"
      }
     ],
     "next": "f4dd2398-1a47-11eb-b030-0242ac140004",
     "previous": "72f06518-1a45-11eb-b030-0242ac140004"
    }
   },
   "source": [
    "[docker container / image コマンド新旧比較](https://qiita.com/zembutsu/items/6e1ad18f0d548ce6c266)\n",
    "\n",
    "dockerにはコマンド体系が新旧の2種類があり、現時点ではどちらの書き方でも動きます。機能追加を続けてたらコマンド体系が汚くなったので整理しました、ぐらいの感じです。今後、大きな機能追加が入った場合、新体系にしか入らない感じにはなると思います。ただ、k8sやdocker-composeを使う場合が多くなり、dockerコマンドを直接使うことが減っているので、新体系に移行が進んでいるかと言うと微妙です。公式チュートリアルにも、まだ旧コマンドが載っているぐらいです。"
   ]
  },
  {
   "cell_type": "code",
   "execution_count": null,
   "metadata": {
    "lc_cell_meme": {
     "current": "f4dd2398-1a47-11eb-b030-0242ac140004",
     "next": "f4dd2532-1a47-11eb-b030-0242ac140004",
     "previous": "72f065ea-1a45-11eb-b030-0242ac140004"
    },
    "pinned_outputs": [
     {
      "execution_count": 3,
      "outputs": [
       {
        "name": "stdout",
        "output_type": "stream",
        "text": "[ssh] host = target, cwd = /home/centos\n\nUsage:\tdocker [OPTIONS] COMMAND\n\nA self-sufficient runtime for containers\n\nOptions:\n      --config string      Location of client config files (default\n                           \"/home/centos/.docker\")\n  -c, --context string     Name of the context to use to connect to the\n                           daemon (overrides DOCKER_HOST env var and\n                           default context set with \"docker context use\")\n  -D, --debug              Enable debug mode\n  -H, --host list          Daemon socket(s) to connect to\n  -l, --log-level string   Set the logging level\n                           (\"debug\"|\"info\"|\"warn\"|\"error\"|\"fatal\")\n                           (default \"info\")\n      --tls                Use TLS; implied by --tlsverify\n      --tlscacert string   Trust certs signed only by this CA (default\n                           \"/home/centos/.docker/ca.pem\")\n      --tlscert string     Path to TLS certificate file (default\n                           \"/home/centos/.docker/cert.pem\")\n      --tlskey string      Path to TLS key file (default\n                           \"/home/centos/.docker/key.pem\")\n      --tlsverify          Use TLS and verify the remote\n  -v, --version            Print version information and quit\n\nManagement Commands:\n  builder     Manage builds\n  config      Manage Docker configs\n  container   Manage containers\n  context     Manage contexts\n  engine      Manage the docker engine\n  image       Manage images\n  network     Manage networks\n  node        Manage Swarm nodes\n  plugin      Manage plugins\n  secret      Manage Docker secrets\n  service     Manage services\n  stack       Manage Docker stacks\n  swarm       Manage Swarm\n  system      Manage Docker\n  trust       Manage trust on Docker images\n  volume      Manage volumes\n\nCommands:\n  attach      Attach local standard input, output, and error streams to a running container\n  build       Build an image from a Dockerfile\n  commit      Create a new image from a container's changes\n  cp          Copy files/folders between a container and the local filesystem\n  create      Create a new container\n  deploy      Deploy a new stack or update an existing stack\n  diff        Inspect changes to files or directories on a container's filesystem\n  events      Get real time events from the server\n  exec        Run a command in a running container\n  export      Export a container's filesystem as a tar archive\n  history     Show the history of an image\n  images      List images\n  import      Import the contents from a tarball to create a filesystem image\n  info        Display system-wide information\n  inspect     Return low-level information on Docker objects\n  kill        Kill one or more running containers\n  load        Load an image from a tar archive or STDIN\n  login       Log in to a Docker registry\n  logout      Log out from a Docker registry\n  logs        Fetch the logs of a container\n  pause       Pause all processes within one or more containers\n  port        List port mappings or a specific mapping for the container\n  ps          List containers\n  pull        Pull an image or a repository from a registry\n  push        Push an image or a repository to a registry\n  rename      Rename a container\n  restart     Restart one or more containers\n  rm          Remove one or more containers\n  rmi         Remove one or more images\n  run         Run a command in a new container\n  save        Save one or more images to a tar archive (streamed to STDOUT by default)\n  search      Search the Docker Hub for images\n  start       Start one or more stopped containers\n  stats       Display a live stream of container(s) resource usage statistics\n  stop        Stop one or more running containers\n  tag         Create a tag TARGET_IMAGE that refers to SOURCE_IMAGE\n  top         Display the running processes of a container\n  unpause     Unpause all processes within one or more containers\n  update      Update configuration of one or more containers\n  version     Show the Docker version information\n  wait        Block until one or more containers stop, then print their exit codes\n\nRun 'docker COMMAND --help' for more information on a command.\n"
       }
      ]
     }
    ]
   },
   "outputs": [],
   "source": [
    "docker --help"
   ]
  },
  {
   "cell_type": "code",
   "execution_count": null,
   "metadata": {
    "lc_cell_meme": {
     "current": "f4dd2532-1a47-11eb-b030-0242ac140004",
     "next": "f4dd260e-1a47-11eb-b030-0242ac140004",
     "previous": "f4dd2398-1a47-11eb-b030-0242ac140004"
    },
    "pinned_outputs": [
     {
      "execution_count": 4,
      "outputs": [
       {
        "name": "stdout",
        "output_type": "stream",
        "text": "[ssh] host = target, cwd = /home/centos\n\nUsage:\tdocker container COMMAND\n\nManage containers\n\nCommands:\n  attach      Attach local standard input, output, and error streams to a running container\n  commit      Create a new image from a container's changes\n  cp          Copy files/folders between a container and the local filesystem\n  create      Create a new container\n  diff        Inspect changes to files or directories on a container's filesystem\n  exec        Run a command in a running container\n  export      Export a container's filesystem as a tar archive\n  inspect     Display detailed information on one or more containers\n  kill        Kill one or more running containers\n  logs        Fetch the logs of a container\n  ls          List containers\n  pause       Pause all processes within one or more containers\n  port        List port mappings or a specific mapping for the container\n  prune       Remove all stopped containers\n  rename      Rename a container\n  restart     Restart one or more containers\n  rm          Remove one or more containers\n  run         Run a command in a new container\n  start       Start one or more stopped containers\n  stats       Display a live stream of container(s) resource usage statistics\n  stop        Stop one or more running containers\n  top         Display the running processes of a container\n  unpause     Unpause all processes within one or more containers\n  update      Update configuration of one or more containers\n  wait        Block until one or more containers stop, then print their exit codes\n\nRun 'docker container COMMAND --help' for more information on a command.\n"
       }
      ]
     }
    ]
   },
   "outputs": [],
   "source": [
    "docker container --help"
   ]
  },
  {
   "cell_type": "code",
   "execution_count": null,
   "metadata": {
    "lc_cell_meme": {
     "current": "f4dd260e-1a47-11eb-b030-0242ac140004",
     "next": "069d92b8-49e1-11e9-91dd-0242ac120002-1-d4c4",
     "previous": "f4dd2532-1a47-11eb-b030-0242ac140004"
    },
    "pinned_outputs": [
     {
      "execution_count": 5,
      "outputs": [
       {
        "name": "stdout",
        "output_type": "stream",
        "text": "[ssh] host = target, cwd = /home/centos\n\nUsage:\tdocker image COMMAND\n\nManage images\n\nCommands:\n  build       Build an image from a Dockerfile\n  history     Show the history of an image\n  import      Import the contents from a tarball to create a filesystem image\n  inspect     Display detailed information on one or more images\n  load        Load an image from a tar archive or STDIN\n  ls          List images\n  prune       Remove unused images\n  pull        Pull an image or a repository from a registry\n  push        Push an image or a repository to a registry\n  rm          Remove one or more images\n  save        Save one or more images to a tar archive (streamed to STDOUT by default)\n  tag         Create a tag TARGET_IMAGE that refers to SOURCE_IMAGE\n\nRun 'docker image COMMAND --help' for more information on a command.\n"
       }
      ]
     }
    ]
   },
   "outputs": [],
   "source": [
    "docker image --help"
   ]
  },
  {
   "cell_type": "markdown",
   "metadata": {
    "lc_cell_meme": {
     "current": "069d92b8-49e1-11e9-91dd-0242ac120002-1-d4c4",
     "history": [
      {
       "current": "069d92b8-49e1-11e9-91dd-0242ac120002",
       "next": "a0fc2c40-49df-11e9-91dd-0242ac120002",
       "previous": "11efc8c2-49df-11e9-91dd-0242ac120002"
      },
      {
       "current": "069d92b8-49e1-11e9-91dd-0242ac120002-1-d4c4",
       "next": "a0fc2c40-49df-11e9-91dd-0242ac120002",
       "previous": "c0af8558-0ce6-11ea-9309-0242ac120004"
      },
      {
       "current": "069d92b8-49e1-11e9-91dd-0242ac120002-1-d4c4",
       "next": "a0fc2c40-49df-11e9-91dd-0242ac120002-1-bf93",
       "previous": "c0af8558-0ce6-11ea-9309-0242ac120004-1-d91a"
      },
      {
       "current": "069d92b8-49e1-11e9-91dd-0242ac120002-1-d4c4",
       "next": "a0fc2c40-49df-11e9-91dd-0242ac120002-1-bf93",
       "previous": "72f065ea-1a45-11eb-b030-0242ac140004"
      }
     ],
     "next": "a0fc2c40-49df-11e9-91dd-0242ac120002-1-bf93",
     "previous": "f4dd260e-1a47-11eb-b030-0242ac140004"
    }
   },
   "source": [
    "## 基本操作"
   ]
  },
  {
   "cell_type": "markdown",
   "metadata": {
    "lc_cell_meme": {
     "current": "a0fc2c40-49df-11e9-91dd-0242ac120002-1-bf93",
     "history": [
      {
       "current": "a0fc2c40-49df-11e9-91dd-0242ac120002",
       "next": "11efcdd6-49df-11e9-91dd-0242ac120002",
       "previous": "11efc8c2-49df-11e9-91dd-0242ac120002"
      },
      {
       "current": "a0fc2c40-49df-11e9-91dd-0242ac120002-1-bf93",
       "next": "11efcdd6-49df-11e9-91dd-0242ac120002",
       "previous": "069d92b8-49e1-11e9-91dd-0242ac120002"
      }
     ],
     "next": "11efcdd6-49df-11e9-91dd-0242ac120002-1-c926",
     "previous": "069d92b8-49e1-11e9-91dd-0242ac120002-1-d4c4"
    }
   },
   "source": [
    "dockerコマンドのバージョン"
   ]
  },
  {
   "cell_type": "code",
   "execution_count": null,
   "metadata": {
    "lc_cell_meme": {
     "current": "11efcdd6-49df-11e9-91dd-0242ac120002-1-c926",
     "history": [
      {
       "current": "11efcdd6-49df-11e9-91dd-0242ac120002",
       "next": "11efd010-49df-11e9-91dd-0242ac120002",
       "previous": "11efc8c2-49df-11e9-91dd-0242ac120002"
      },
      {
       "current": "11efcdd6-49df-11e9-91dd-0242ac120002",
       "next": "11efd010-49df-11e9-91dd-0242ac120002",
       "previous": "a0fc2c40-49df-11e9-91dd-0242ac120002"
      },
      {
       "current": "11efcdd6-49df-11e9-91dd-0242ac120002-1-c926",
       "next": "e8802e18-49df-11e9-91dd-0242ac120002",
       "previous": "a0fc2c40-49df-11e9-91dd-0242ac120002"
      },
      {
       "current": "11efcdd6-49df-11e9-91dd-0242ac120002-1-c926",
       "next": "e8802e18-49df-11e9-91dd-0242ac120002-1-1b5b",
       "previous": "a0fc2c40-49df-11e9-91dd-0242ac120002-1-bf93"
      }
     ],
     "next": "6cf958b6-1a4c-11eb-b030-0242ac140004",
     "previous": "a0fc2c40-49df-11e9-91dd-0242ac120002-1-bf93"
    },
    "pinned_outputs": [
     {
      "execution_count": 6,
      "outputs": [
       {
        "name": "stdout",
        "output_type": "stream",
        "text": "[ssh] host = target, cwd = /home/centos\nDocker version 19.03.13, build 4484c46d9d\n"
       }
      ]
     }
    ],
    "scrolled": true
   },
   "outputs": [],
   "source": [
    "sudo docker --version"
   ]
  },
  {
   "cell_type": "markdown",
   "metadata": {
    "lc_cell_meme": {
     "current": "6cf958b6-1a4c-11eb-b030-0242ac140004",
     "next": "6cf95a32-1a4c-11eb-b030-0242ac140004",
     "previous": "11efcdd6-49df-11e9-91dd-0242ac120002-1-c926"
    }
   },
   "source": [
    "dockerコマンドとデーモンのバージョン"
   ]
  },
  {
   "cell_type": "code",
   "execution_count": null,
   "metadata": {
    "lc_cell_meme": {
     "current": "6cf95a32-1a4c-11eb-b030-0242ac140004",
     "next": "e8802e18-49df-11e9-91dd-0242ac120002-1-1b5b",
     "previous": "6cf958b6-1a4c-11eb-b030-0242ac140004"
    },
    "pinned_outputs": [
     {
      "execution_count": 7,
      "outputs": [
       {
        "name": "stdout",
        "output_type": "stream",
        "text": "[ssh] host = target, cwd = /home/centos\nClient: Docker Engine - Community\n Version:           19.03.13\n API version:       1.40\n Go version:        go1.13.15\n Git commit:        4484c46d9d\n Built:             Wed Sep 16 17:03:45 2020\n OS/Arch:           linux/amd64\n Experimental:      false\n\nServer: Docker Engine - Community\n Engine:\n  Version:          19.03.13\n  API version:      1.40 (minimum version 1.12)\n  Go version:       go1.13.15\n  Git commit:       4484c46d9d\n  Built:            Wed Sep 16 17:02:21 2020\n  OS/Arch:          linux/amd64\n  Experimental:     false\n containerd:\n  Version:          1.3.7\n  GitCommit:        8fba4e9a7d01810a393d5d25a3621dc101981175\n runc:\n  Version:          1.0.0-rc10\n  GitCommit:        dc9208a3303feef5b3839f4323d9beb36df0a9dd\n docker-init:\n  Version:          0.18.0\n  GitCommit:        fec3683\n"
       }
      ]
     }
    ]
   },
   "outputs": [],
   "source": [
    "sudo docker version"
   ]
  },
  {
   "cell_type": "markdown",
   "metadata": {
    "lc_cell_meme": {
     "current": "e8802e18-49df-11e9-91dd-0242ac120002-1-1b5b",
     "history": [
      {
       "current": "e8802e18-49df-11e9-91dd-0242ac120002-1-1b5b",
       "next": "11efd010-49df-11e9-91dd-0242ac120002",
       "previous": "11efcdd6-49df-11e9-91dd-0242ac120002"
      },
      {
       "current": "e8802e18-49df-11e9-91dd-0242ac120002-1-1b5b",
       "next": "11efd010-49df-11e9-91dd-0242ac120002-1-0b47",
       "previous": "11efcdd6-49df-11e9-91dd-0242ac120002-1-c926"
      }
     ],
     "next": "11efd010-49df-11e9-91dd-0242ac120002-1-0b47",
     "previous": "6cf95a32-1a4c-11eb-b030-0242ac140004"
    }
   },
   "source": [
    "dockerデーモンのデーモンの稼働状況"
   ]
  },
  {
   "cell_type": "code",
   "execution_count": null,
   "metadata": {
    "lc_cell_meme": {
     "current": "11efd010-49df-11e9-91dd-0242ac120002-1-0b47",
     "history": [
      {
       "current": "11efd010-49df-11e9-91dd-0242ac120002",
       "next": null,
       "previous": "11efcdd6-49df-11e9-91dd-0242ac120002"
      },
      {
       "current": "11efd010-49df-11e9-91dd-0242ac120002",
       "next": "59766340-49df-11e9-91dd-0242ac120002",
       "previous": "11efcdd6-49df-11e9-91dd-0242ac120002"
      },
      {
       "current": "11efd010-49df-11e9-91dd-0242ac120002-1-0b47",
       "next": "e88036b0-49df-11e9-91dd-0242ac120002",
       "previous": "e8802e18-49df-11e9-91dd-0242ac120002"
      }
     ],
     "next": "e88036b0-49df-11e9-91dd-0242ac120002-1-c38c",
     "previous": "e8802e18-49df-11e9-91dd-0242ac120002-1-1b5b"
    },
    "pinned_outputs": [
     {
      "execution_count": 8,
      "outputs": [
       {
        "name": "stdout",
        "output_type": "stream",
        "text": "[ssh] host = target, cwd = /home/centos\nClient:\n Debug Mode: false\n\nServer:\n Containers: 0\n  Running: 0\n  Paused: 0\n  Stopped: 0\n Images: 0\n Server Version: 19.03.13\n Storage Driver: overlay2\n  Backing Filesystem: xfs\n  Supports d_type: true\n  Native Overlay Diff: true\n Logging Driver: json-file\n Cgroup Driver: cgroupfs\n Plugins:\n  Volume: local\n  Network: bridge host ipvlan macvlan null overlay\n  Log: awslogs fluentd gcplogs gelf journald json-file local logentries splunk syslog\n Swarm: inactive\n Runtimes: runc\n Default Runtime: runc\n Init Binary: docker-init\n containerd version: 8fba4e9a7d01810a393d5d25a3621dc101981175\n runc version: dc9208a3303feef5b3839f4323d9beb36df0a9dd\n init version: fec3683\n Security Options:\n  seccomp\n   Profile: default\n Kernel Version: 3.10.0-1062.12.1.el7.x86_64\n Operating System: CentOS Linux 7 (Core)\n OSType: linux\n Architecture: x86_64\n CPUs: 2\n Total Memory: 3.654GiB\n Name: ip-172-31-55-60.us-west-2.compute.internal\n ID: VBJE:W2VX:PRTB:OBFP:EEQH:6KFU:HKUY:6LEQ:OXYH:SI7M:OV5C:5LQS\n Docker Root Dir: /var/lib/docker\n Debug Mode: false\n Registry: https://index.docker.io/v1/\n Labels:\n Experimental: false\n Insecure Registries:\n  127.0.0.0/8\n Live Restore Enabled: false\n\n"
       }
      ]
     }
    ]
   },
   "outputs": [],
   "source": [
    "sudo docker system info"
   ]
  },
  {
   "cell_type": "markdown",
   "metadata": {
    "lc_cell_meme": {
     "current": "e88036b0-49df-11e9-91dd-0242ac120002-1-c38c",
     "history": [
      {
       "current": "e88036b0-49df-11e9-91dd-0242ac120002-1-c38c",
       "next": "59766340-49df-11e9-91dd-0242ac120002",
       "previous": "11efd010-49df-11e9-91dd-0242ac120002"
      }
     ],
     "next": "59766340-49df-11e9-91dd-0242ac120002-1-7c9c",
     "previous": "11efd010-49df-11e9-91dd-0242ac120002-1-0b47"
    }
   },
   "source": [
    "コンテナを動かしてみる（サーバではなくコマンドの実行を行うテスト用のコンテナ）\n",
    "\n",
    "https://hub.docker.com/_/hello-world"
   ]
  },
  {
   "cell_type": "code",
   "execution_count": null,
   "metadata": {
    "lc_cell_meme": {
     "current": "59766340-49df-11e9-91dd-0242ac120002-1-7c9c",
     "history": [
      {
       "current": "59766340-49df-11e9-91dd-0242ac120002",
       "next": "59766746-49df-11e9-91dd-0242ac120002",
       "previous": "11efd010-49df-11e9-91dd-0242ac120002"
      },
      {
       "current": "59766340-49df-11e9-91dd-0242ac120002",
       "next": "59766746-49df-11e9-91dd-0242ac120002",
       "previous": "e88036b0-49df-11e9-91dd-0242ac120002"
      },
      {
       "current": "59766340-49df-11e9-91dd-0242ac120002-1-7c9c",
       "next": "3008b232-49e0-11e9-91dd-0242ac120002",
       "previous": "e88036b0-49df-11e9-91dd-0242ac120002"
      }
     ],
     "next": "3008b232-49e0-11e9-91dd-0242ac120002-1-4f41",
     "previous": "e88036b0-49df-11e9-91dd-0242ac120002-1-c38c"
    },
    "pinned_outputs": [
     {
      "execution_count": 9,
      "outputs": [
       {
        "name": "stdout",
        "output_type": "stream",
        "text": "[ssh] host = target, cwd = /home/centos\nUnable to find image 'hello-world:latest' locally\nlatest: Pulling from library/hello-world\n0e03bdcc26d7: Pulling fs layer\n0e03bdcc26d7: Download complete\n0e03bdcc26d7: Pull complete\nDigest: sha256:8c5aeeb6a5f3ba4883347d3747a7249f491766ca1caa47e5da5dfcf6b9b717c0\nStatus: Downloaded newer image for hello-world:latest\n\nHello from Docker!\nThis message shows that your installation appears to be working correctly.\n\nTo generate this message, Docker took the following steps:\n 1. The Docker client contacted the Docker daemon.\n 2. The Docker daemon pulled the \"hello-world\" image from the Docker Hub.\n    (amd64)\n 3. The Docker daemon created a new container from that image which runs the\n    executable that produces the output you are currently reading.\n 4. The Docker daemon streamed that output to the Docker client, which sent it\n    to your terminal.\n\nTo try something more ambitious, you can run an Ubuntu container with:\n $ docker run -it ubuntu bash\n\nShare images, automate workflows, and more with a free Docker ID:\n https://hub.docker.com/\n\nFor more examples and ideas, visit:\n https://docs.docker.com/get-started/\n\n"
       }
      ]
     }
    ]
   },
   "outputs": [],
   "source": [
    "sudo docker container run hello-world"
   ]
  },
  {
   "cell_type": "markdown",
   "metadata": {
    "lc_cell_meme": {
     "current": "3008b232-49e0-11e9-91dd-0242ac120002-1-4f41",
     "history": [
      {
       "current": "3008b232-49e0-11e9-91dd-0242ac120002-1-4f41",
       "next": "59766746-49df-11e9-91dd-0242ac120002",
       "previous": "59766340-49df-11e9-91dd-0242ac120002"
      }
     ],
     "next": "59766746-49df-11e9-91dd-0242ac120002-1-660a",
     "previous": "59766340-49df-11e9-91dd-0242ac120002-1-7c9c"
    }
   },
   "source": [
    "コンテナイメージの一覧"
   ]
  },
  {
   "cell_type": "code",
   "execution_count": null,
   "metadata": {
    "lc_cell_meme": {
     "current": "59766746-49df-11e9-91dd-0242ac120002-1-660a",
     "history": [
      {
       "current": "59766746-49df-11e9-91dd-0242ac120002",
       "next": "597669f8-49df-11e9-91dd-0242ac120002",
       "previous": "59766340-49df-11e9-91dd-0242ac120002"
      },
      {
       "current": "59766746-49df-11e9-91dd-0242ac120002-1-660a",
       "next": "3008b6ce-49e0-11e9-91dd-0242ac120002",
       "previous": "3008b232-49e0-11e9-91dd-0242ac120002"
      }
     ],
     "next": "3008b6ce-49e0-11e9-91dd-0242ac120002-1-a126",
     "previous": "3008b232-49e0-11e9-91dd-0242ac120002-1-4f41"
    },
    "pinned_outputs": [
     {
      "execution_count": 10,
      "outputs": [
       {
        "name": "stdout",
        "output_type": "stream",
        "text": "[ssh] host = target, cwd = /home/centos\nREPOSITORY          TAG                 IMAGE ID            CREATED             SIZE\nhello-world         latest              bf756fb1ae65        10 months ago       13.3kB\n"
       }
      ]
     }
    ]
   },
   "outputs": [],
   "source": [
    "sudo docker image ls"
   ]
  },
  {
   "cell_type": "markdown",
   "metadata": {
    "lc_cell_meme": {
     "current": "3008b6ce-49e0-11e9-91dd-0242ac120002-1-a126",
     "history": [
      {
       "current": "3008b6ce-49e0-11e9-91dd-0242ac120002-1-a126",
       "next": "597669f8-49df-11e9-91dd-0242ac120002",
       "previous": "59766746-49df-11e9-91dd-0242ac120002"
      },
      {
       "current": "3008b6ce-49e0-11e9-91dd-0242ac120002-1-a126",
       "next": "597669f8-49df-11e9-91dd-0242ac120002-1-96ec",
       "previous": "59766746-49df-11e9-91dd-0242ac120002-1-660a"
      }
     ],
     "next": "4e2827f6-49e1-11e9-91dd-0242ac120002-1-4a6b",
     "previous": "59766746-49df-11e9-91dd-0242ac120002-1-660a"
    }
   },
   "source": [
    "コンテナの一覧"
   ]
  },
  {
   "cell_type": "code",
   "execution_count": null,
   "metadata": {
    "lc_cell_meme": {
     "current": "4e2827f6-49e1-11e9-91dd-0242ac120002-1-4a6b",
     "history": [
      {
       "current": "4e2827f6-49e1-11e9-91dd-0242ac120002-1-4a6b",
       "next": "4e282a9e-49e1-11e9-91dd-0242ac120002",
       "previous": "069d9c40-49e1-11e9-91dd-0242ac120002"
      },
      {
       "current": "4e2827f6-49e1-11e9-91dd-0242ac120002-1-4a6b",
       "next": "4e282a9e-49e1-11e9-91dd-0242ac120002-1-d4f8",
       "previous": "069d9c40-49e1-11e9-91dd-0242ac120002-1-7ccd"
      }
     ],
     "next": "4e282a9e-49e1-11e9-91dd-0242ac120002-1-d4f8",
     "previous": "3008b6ce-49e0-11e9-91dd-0242ac120002-1-a126"
    },
    "pinned_outputs": [
     {
      "execution_count": 11,
      "outputs": [
       {
        "name": "stdout",
        "output_type": "stream",
        "text": "[ssh] host = target, cwd = /home/centos\nCONTAINER ID        IMAGE               COMMAND             CREATED             STATUS              PORTS               NAMES\n"
       }
      ]
     }
    ]
   },
   "outputs": [],
   "source": [
    "sudo docker container ls"
   ]
  },
  {
   "cell_type": "code",
   "execution_count": null,
   "metadata": {
    "lc_cell_meme": {
     "current": "4e282a9e-49e1-11e9-91dd-0242ac120002-1-d4f8",
     "history": [
      {
       "current": "4e282a9e-49e1-11e9-91dd-0242ac120002-1-d4f8",
       "next": "4e282bde-49e1-11e9-91dd-0242ac120002",
       "previous": "4e2827f6-49e1-11e9-91dd-0242ac120002"
      }
     ],
     "next": "4e282bde-49e1-11e9-91dd-0242ac120002-1-7bc6",
     "previous": "4e2827f6-49e1-11e9-91dd-0242ac120002-1-4a6b"
    },
    "pinned_outputs": [
     {
      "execution_count": 12,
      "outputs": [
       {
        "name": "stdout",
        "output_type": "stream",
        "text": "[ssh] host = target, cwd = /home/centos\nCONTAINER ID        IMAGE               COMMAND             CREATED             STATUS                              PORTS               NAMES\na03a5084f66b        hello-world         \"/hello\"            2 seconds ago       Exited (0) Less than a second ago                       relaxed_mclean\n"
       }
      ]
     }
    ]
   },
   "outputs": [],
   "source": [
    "sudo docker container ls --all"
   ]
  },
  {
   "cell_type": "code",
   "execution_count": null,
   "metadata": {
    "lc_cell_meme": {
     "current": "4e282bde-49e1-11e9-91dd-0242ac120002-1-7bc6",
     "history": [
      {
       "current": "4e282bde-49e1-11e9-91dd-0242ac120002-1-7bc6",
       "next": "4e282ce2-49e1-11e9-91dd-0242ac120002",
       "previous": "4e282a9e-49e1-11e9-91dd-0242ac120002"
      },
      {
       "current": "4e282bde-49e1-11e9-91dd-0242ac120002-1-7bc6",
       "next": "4e282ce2-49e1-11e9-91dd-0242ac120002-1-575f",
       "previous": "4e282a9e-49e1-11e9-91dd-0242ac120002-1-d4f8"
      },
      {
       "current": "4e282bde-49e1-11e9-91dd-0242ac120002-1-7bc6",
       "next": "bf15684e-49e0-11e9-91dd-0242ac120002-1-a894",
       "previous": "4e282a9e-49e1-11e9-91dd-0242ac120002-1-d4f8"
      },
      {
       "current": "4e282bde-49e1-11e9-91dd-0242ac120002-1-7bc6",
       "next": "4e282ce2-49e1-11e9-91dd-0242ac120002-1-575f",
       "previous": "4e282a9e-49e1-11e9-91dd-0242ac120002-1-d4f8"
      }
     ],
     "next": "fcb3deae-1a4c-11eb-b030-0242ac140004",
     "previous": "4e282a9e-49e1-11e9-91dd-0242ac120002-1-d4f8"
    },
    "pinned_outputs": [
     {
      "execution_count": 13,
      "outputs": [
       {
        "name": "stdout",
        "output_type": "stream",
        "text": "[ssh] host = target, cwd = /home/centos\na03a5084f66b\n"
       }
      ]
     }
    ]
   },
   "outputs": [],
   "source": [
    "sudo docker container ls -aq"
   ]
  },
  {
   "cell_type": "markdown",
   "metadata": {
    "lc_cell_meme": {
     "current": "fcb3deae-1a4c-11eb-b030-0242ac140004",
     "next": "95a94808-49e1-11e9-91dd-0242ac120002-1-7b96",
     "previous": "4e282bde-49e1-11e9-91dd-0242ac120002-1-7bc6"
    }
   },
   "source": [
    "Exitedなコンテナがゴミとして残る問題。まとめて削除できる。"
   ]
  },
  {
   "cell_type": "code",
   "execution_count": null,
   "metadata": {
    "lc_cell_meme": {
     "current": "95a94808-49e1-11e9-91dd-0242ac120002-1-7b96",
     "history": [
      {
       "current": "95a94808-49e1-11e9-91dd-0242ac120002-1-7b96",
       "next": "95a94dd0-49e1-11e9-91dd-0242ac120002",
       "previous": "95a9402e-49e1-11e9-91dd-0242ac120002"
      },
      {
       "current": "95a94808-49e1-11e9-91dd-0242ac120002-1-7b96",
       "next": "95a94dd0-49e1-11e9-91dd-0242ac120002-1-a7ce",
       "previous": "95a9402e-49e1-11e9-91dd-0242ac120002-1-dcf7"
      },
      {
       "current": "95a94808-49e1-11e9-91dd-0242ac120002-1-7b96",
       "next": "4e282ce2-49e1-11e9-91dd-0242ac120002-1-575f",
       "previous": "fcb3deae-1a4c-11eb-b030-0242ac140004"
      },
      {
       "current": "95a94808-49e1-11e9-91dd-0242ac120002-1-7b96",
       "next": "43ac0c78-1a4d-11eb-b030-0242ac140004",
       "previous": "fcb3deae-1a4c-11eb-b030-0242ac140004"
      }
     ],
     "next": "7ad52f22-1a4d-11eb-b030-0242ac140004",
     "previous": "fcb3deae-1a4c-11eb-b030-0242ac140004"
    },
    "pinned_outputs": [
     {
      "execution_count": 14,
      "outputs": [
       {
        "name": "stdout",
        "output_type": "stream",
        "text": "[ssh] host = target, cwd = /home/centos\nDeleted Containers:\na03a5084f66b2901d2f60eab3c4f57b3d1b7c2694b44cd19c40d009d3ae13b4b\n\nTotal reclaimed space: 0B\n"
       }
      ]
     }
    ]
   },
   "outputs": [],
   "source": [
    "sudo docker container prune --force"
   ]
  },
  {
   "cell_type": "code",
   "execution_count": null,
   "metadata": {
    "lc_cell_meme": {
     "current": "7ad52f22-1a4d-11eb-b030-0242ac140004",
     "next": "43ac0c78-1a4d-11eb-b030-0242ac140004",
     "previous": "95a94808-49e1-11e9-91dd-0242ac120002-1-7b96"
    },
    "pinned_outputs": [
     {
      "execution_count": 15,
      "outputs": [
       {
        "name": "stdout",
        "output_type": "stream",
        "text": "[ssh] host = target, cwd = /home/centos\nCONTAINER ID        IMAGE               COMMAND             CREATED             STATUS              PORTS               NAMES\n"
       }
      ]
     }
    ]
   },
   "outputs": [],
   "source": [
    "sudo docker container ls --all"
   ]
  },
  {
   "cell_type": "markdown",
   "metadata": {
    "lc_cell_meme": {
     "current": "43ac0c78-1a4d-11eb-b030-0242ac140004",
     "history": [
      {
       "current": "43ac0c78-1a4d-11eb-b030-0242ac140004",
       "next": "4e282ce2-49e1-11e9-91dd-0242ac120002-1-575f",
       "previous": "95a94808-49e1-11e9-91dd-0242ac120002-1-7b96"
      }
     ],
     "next": "dd2fadd4-49e1-11e9-91dd-0242ac120002-1-a684",
     "previous": "7ad52f22-1a4d-11eb-b030-0242ac140004"
    }
   },
   "source": [
    "動作中のコンテナで使用していないイメージを削除する。"
   ]
  },
  {
   "cell_type": "code",
   "execution_count": null,
   "metadata": {
    "lc_cell_meme": {
     "current": "dd2fadd4-49e1-11e9-91dd-0242ac120002-1-a684",
     "history": [
      {
       "current": "dd2fadd4-49e1-11e9-91dd-0242ac120002",
       "next": null,
       "previous": "95a94dd0-49e1-11e9-91dd-0242ac120002"
      },
      {
       "current": "dd2fadd4-49e1-11e9-91dd-0242ac120002",
       "next": null,
       "previous": "24b6f428-49e2-11e9-91dd-0242ac120002"
      },
      {
       "current": "dd2fadd4-49e1-11e9-91dd-0242ac120002-1-a684",
       "next": "6c3c3416-49e2-11e9-91dd-0242ac120002",
       "previous": "24b6f428-49e2-11e9-91dd-0242ac120002"
      },
      {
       "current": "dd2fadd4-49e1-11e9-91dd-0242ac120002-1-a684",
       "next": "6c3c3416-49e2-11e9-91dd-0242ac120002-1-821e",
       "previous": "24b6f428-49e2-11e9-91dd-0242ac120002-1-d113"
      },
      {
       "current": "dd2fadd4-49e1-11e9-91dd-0242ac120002-1-a684",
       "next": "95a94dd0-49e1-11e9-91dd-0242ac120002-1-a7ce",
       "previous": "95a9402e-49e1-11e9-91dd-0242ac120002-1-dcf7"
      }
     ],
     "next": "7ad5309e-1a4d-11eb-b030-0242ac140004",
     "previous": "43ac0c78-1a4d-11eb-b030-0242ac140004"
    },
    "pinned_outputs": [
     {
      "execution_count": 16,
      "outputs": [
       {
        "name": "stdout",
        "output_type": "stream",
        "text": "[ssh] host = target, cwd = /home/centos\nDeleted Images:\nuntagged: hello-world:latest\nuntagged: hello-world@sha256:8c5aeeb6a5f3ba4883347d3747a7249f491766ca1caa47e5da5dfcf6b9b717c0\ndeleted: sha256:bf756fb1ae65adf866bd8c456593cd24beb6a0a061dedf42b26a993176745f6b\ndeleted: sha256:9c27e219663c25e0f28493790cc0b88bc973ba3b1686355f221c38a36978ac63\n\nTotal reclaimed space: 13.34kB\n"
       }
      ]
     }
    ]
   },
   "outputs": [],
   "source": [
    "sudo docker image prune -af"
   ]
  },
  {
   "cell_type": "code",
   "execution_count": null,
   "metadata": {
    "lc_cell_meme": {
     "current": "7ad5309e-1a4d-11eb-b030-0242ac140004",
     "next": "74519578-19c1-11eb-a66f-0242ac140004",
     "previous": "dd2fadd4-49e1-11e9-91dd-0242ac120002-1-a684"
    },
    "pinned_outputs": [
     {
      "execution_count": 17,
      "outputs": [
       {
        "name": "stdout",
        "output_type": "stream",
        "text": "[ssh] host = target, cwd = /home/centos\nREPOSITORY          TAG                 IMAGE ID            CREATED             SIZE\n"
       }
      ]
     }
    ]
   },
   "outputs": [],
   "source": [
    "sudo docker image ls"
   ]
  },
  {
   "cell_type": "markdown",
   "metadata": {
    "lc_cell_meme": {
     "current": "74519578-19c1-11eb-a66f-0242ac140004",
     "history": [
      {
       "current": "74519578-19c1-11eb-a66f-0242ac140004",
       "next": "6c3c386c-49e2-11e9-91dd-0242ac120002-1-7bd5",
       "previous": "6c3c3416-49e2-11e9-91dd-0242ac120002-1-821e"
      }
     ],
     "next": "6c3c386c-49e2-11e9-91dd-0242ac120002-1-7bd5",
     "previous": "7ad5309e-1a4d-11eb-b030-0242ac140004"
    }
   },
   "source": [
    "## sshからログアウト"
   ]
  },
  {
   "cell_type": "code",
   "execution_count": null,
   "metadata": {
    "lc_cell_meme": {
     "current": "6c3c386c-49e2-11e9-91dd-0242ac120002-1-7bd5",
     "history": [
      {
       "current": "6c3c386c-49e2-11e9-91dd-0242ac120002-1-7bd5",
       "next": null,
       "previous": "6c3c3416-49e2-11e9-91dd-0242ac120002"
      },
      {
       "current": "6c3c386c-49e2-11e9-91dd-0242ac120002-1-7bd5",
       "next": null,
       "previous": "6c3c3416-49e2-11e9-91dd-0242ac120002-1-821e"
      }
     ],
     "next": "745196fe-19c1-11eb-a66f-0242ac140004",
     "previous": "74519578-19c1-11eb-a66f-0242ac140004"
    },
    "pinned_outputs": [
     {
      "execution_count": 18,
      "outputs": [
       {
        "name": "stdout",
        "output_type": "stream",
        "text": "[ssh] Closing existing connection.\n[ssh] Successfully logged out.\n"
       }
      ]
     }
    ]
   },
   "outputs": [],
   "source": [
    "%logout"
   ]
  },
  {
   "cell_type": "code",
   "execution_count": null,
   "metadata": {
    "lc_cell_meme": {
     "current": "745196fe-19c1-11eb-a66f-0242ac140004",
     "next": null,
     "previous": "6c3c386c-49e2-11e9-91dd-0242ac120002-1-7bd5"
    }
   },
   "outputs": [],
   "source": []
  }
 ],
 "metadata": {
  "kernelspec": {
   "display_name": "SSH",
   "language": "bash",
   "name": "ssh"
  },
  "language_info": {
   "codemirror_mode": "shell",
   "file_extension": ".sh",
   "mimetype": "text/x-sh",
   "name": "ssh"
  },
  "lc_notebook_meme": {
   "current": "11efc2fa-49df-11e9-91dd-0242ac120002",
   "lc_server_signature": {
    "current": {
     "notebook_dir": "/home/nagaku/notebooks",
     "notebook_path": "/docker-handson",
     "server_url": "https://operationhub.kgr-lab.com/user/nagaku/",
     "signature_id": "95e8698e-1505-11eb-a6b9-0242ac120002"
    },
    "history": [
     {
      "notebook_dir": "/home/jovyan",
      "notebook_path": "/docker-handson",
      "server_url": "http://localhost:8888/",
      "signature_id": "8241fd1c-49de-11e9-91dd-0242ac120002"
     },
     {
      "notebook_dir": "/home/jovyan",
      "notebook_path": "/docker-handson",
      "server_url": "http://localhost:8888/",
      "signature_id": "31eff266-49f1-11e9-8353-0242ac120002"
     },
     {
      "notebook_dir": "/home/user1/notebooks",
      "notebook_path": "/docker-handson",
      "server_url": "https://operationhub.kgr-lab.com/user/user1/",
      "signature_id": "ae27fcb2-043f-11ea-b29c-0242ac120002"
     }
    ]
   }
  },
  "toc": {
   "base_numbering": 1,
   "nav_menu": {},
   "number_sections": true,
   "sideBar": true,
   "skip_h1_title": false,
   "title_cell": "Table of Contents",
   "title_sidebar": "Contents",
   "toc_cell": false,
   "toc_position": {},
   "toc_section_display": true,
   "toc_window_display": true
  }
 },
 "nbformat": 4,
 "nbformat_minor": 2
}
