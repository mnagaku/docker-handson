{
 "cells": [
  {
   "cell_type": "markdown",
   "metadata": {
    "lc_cell_meme": {
     "current": "0dc26130-0ce7-11ea-9309-0242ac120004-1-e8ff",
     "history": [
      {
       "current": "0dc26130-0ce7-11ea-9309-0242ac120004-1-e8ff",
       "next": "a8b96da2-0ce5-11ea-9309-0242ac120004",
       "previous": null
      }
     ],
     "next": "a8b96da2-0ce5-11ea-9309-0242ac120004-1-146f",
     "previous": null
    }
   },
   "source": [
    "# コンテンツの準備"
   ]
  },
  {
   "cell_type": "code",
   "execution_count": null,
   "metadata": {
    "lc_cell_meme": {
     "current": "a8b96da2-0ce5-11ea-9309-0242ac120004-1-146f",
     "history": [
      {
       "current": "a8b96da2-0ce5-11ea-9309-0242ac120004",
       "next": "a8b96ee2-0ce5-11ea-9309-0242ac120004",
       "previous": null
      },
      {
       "current": "a8b96da2-0ce5-11ea-9309-0242ac120004-1-146f",
       "next": "a8b96ee2-0ce5-11ea-9309-0242ac120004",
       "previous": "0dc26130-0ce7-11ea-9309-0242ac120004"
      },
      {
       "current": "a8b96da2-0ce5-11ea-9309-0242ac120004-1-146f",
       "next": "a8b96ee2-0ce5-11ea-9309-0242ac120004-1-75ea",
       "previous": "0dc26130-0ce7-11ea-9309-0242ac120004-1-e8ff"
      }
     ],
     "next": "a8b96fe6-0ce5-11ea-9309-0242ac120004-1-d2dc",
     "previous": "0dc26130-0ce7-11ea-9309-0242ac120004-1-e8ff"
    },
    "lc_wrapper": {
     "log_history": [
      "/home/user1/notebooks/.log/20191122/20191122-050339-0806.log",
      "/home/nagaku/notebooks/.log/20201026/20201026-111939-0150.log",
      "/home/nagaku/notebooks/.log/20201030/20201030-070543-0550.log"
     ]
    },
    "pinned_outputs": [
     {
      "execution_count": 1,
      "outputs": [
       {
        "name": "stdout",
        "output_type": "stream",
        "text": "Cloning into 'docker-handson'...\nremote: Enumerating objects: 17, done.\u001b[K\nremote: Counting objects: 100% (17/17), done.\u001b[K\nremote: Compressing objects: 100% (14/14), done.\u001b[K\nremote: Total 17 (delta 3), reused 16 (delta 2), pack-reused 0\u001b[K\nUnpacking objects: 100% (17/17), 568.73 KiB | 2.02 MiB/s, done.\n"
       }
      ]
     }
    ]
   },
   "outputs": [],
   "source": [
    "!git clone --depth 1 https://github.com/mnagaku/docker-handson.git"
   ]
  },
  {
   "cell_type": "code",
   "execution_count": null,
   "metadata": {
    "lc_cell_meme": {
     "current": "a8b96fe6-0ce5-11ea-9309-0242ac120004-1-d2dc",
     "history": [
      {
       "current": "a8b96fe6-0ce5-11ea-9309-0242ac120004-1-d2dc",
       "next": null,
       "previous": "a8b96ee2-0ce5-11ea-9309-0242ac120004"
      },
      {
       "current": "a8b96fe6-0ce5-11ea-9309-0242ac120004-1-d2dc",
       "next": null,
       "previous": "a8b96ee2-0ce5-11ea-9309-0242ac120004-1-75ea"
      }
     ],
     "next": null,
     "previous": "a8b96da2-0ce5-11ea-9309-0242ac120004-1-146f"
    }
   },
   "outputs": [],
   "source": []
  }
 ],
 "metadata": {
  "kernelspec": {
   "display_name": "Python 3",
   "language": "python",
   "name": "python3"
  },
  "language_info": {
   "file_extension": ".py",
   "mimetype": "text/x-python",
   "name": "python",
   "nbconvert_exporter": "python",
   "pygments_lexer": "ipython3",
   "version": "3.8.6"
  },
  "lc_notebook_meme": {
   "current": "a8b96a78-0ce5-11ea-9309-0242ac120004",
   "lc_server_signature": {
    "current": {
     "notebook_dir": "/home/nagaku/notebooks",
     "notebook_path": "/",
     "server_url": "https://operationhub.kgr-lab.com/user/nagaku/",
     "signature_id": "95e8698e-1505-11eb-a6b9-0242ac120002"
    },
    "history": [
     {
      "notebook_dir": "/home/user1/notebooks",
      "notebook_path": "/",
      "server_url": "https://operationhub.kgr-lab.com/user/user1/",
      "signature_id": "ae27fcb2-043f-11ea-b29c-0242ac120002"
     }
    ]
   }
  },
  "toc": {
   "base_numbering": 1,
   "nav_menu": {},
   "number_sections": true,
   "sideBar": true,
   "skip_h1_title": false,
   "title_cell": "Table of Contents",
   "title_sidebar": "Contents",
   "toc_cell": false,
   "toc_position": {},
   "toc_section_display": true,
   "toc_window_display": true
  }
 },
 "nbformat": 4,
 "nbformat_minor": 2
}
