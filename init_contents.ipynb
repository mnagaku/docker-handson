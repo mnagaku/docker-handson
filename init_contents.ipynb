{
 "cells": [
  {
   "cell_type": "markdown",
   "metadata": {
    "lc_cell_meme": {
     "current": "0dc26130-0ce7-11ea-9309-0242ac120004",
     "next": "a8b96da2-0ce5-11ea-9309-0242ac120004",
     "previous": null
    }
   },
   "source": [
    "# コンテンツの準備"
   ]
  },
  {
   "cell_type": "code",
   "execution_count": null,
   "metadata": {
    "lc_cell_meme": {
     "current": "a8b96da2-0ce5-11ea-9309-0242ac120004",
     "history": [
      {
       "current": "a8b96da2-0ce5-11ea-9309-0242ac120004",
       "next": "a8b96ee2-0ce5-11ea-9309-0242ac120004",
       "previous": null
      }
     ],
     "next": "a8b96ee2-0ce5-11ea-9309-0242ac120004",
     "previous": "0dc26130-0ce7-11ea-9309-0242ac120004"
    },
    "lc_wrapper": {
     "log_history": [
      "/home/user1/notebooks/.log/20191122/20191122-050339-0806.log"
     ]
    },
    "pinned_outputs": [
     {
      "execution_count": 1,
      "outputs": [
       {
        "name": "stdout",
        "output_type": "stream",
        "text": "Cloning into 'docker-handson'...\nremote: Enumerating objects: 15, done.\u001b[K\nremote: Counting objects: 100% (15/15), done.\u001b[K\nremote: Compressing objects: 100% (13/13), done.\u001b[K\nremote: Total 15 (delta 2), reused 14 (delta 1), pack-reused 0\u001b[K\nUnpacking objects: 100% (15/15), done.\n"
       }
      ]
     }
    ]
   },
   "outputs": [],
   "source": [
    "!git clone --depth 1 https://github.com/mnagaku/docker-handson.git"
   ]
  },
  {
   "cell_type": "code",
   "execution_count": null,
   "metadata": {
    "lc_cell_meme": {
     "current": "a8b96ee2-0ce5-11ea-9309-0242ac120004",
     "next": "a8b96fe6-0ce5-11ea-9309-0242ac120004",
     "previous": "a8b96da2-0ce5-11ea-9309-0242ac120004"
    },
    "lc_wrapper": {
     "log_history": [
      "/home/user1/notebooks/.log/20191122/20191122-050431-0569.log"
     ]
    }
   },
   "outputs": [],
   "source": [
    "!cp share/topse-nagaku-4052cd1840ff.json docker-handson"
   ]
  },
  {
   "cell_type": "code",
   "execution_count": null,
   "metadata": {
    "lc_cell_meme": {
     "current": "a8b96fe6-0ce5-11ea-9309-0242ac120004",
     "next": null,
     "previous": "a8b96ee2-0ce5-11ea-9309-0242ac120004"
    }
   },
   "outputs": [],
   "source": []
  }
 ],
 "metadata": {
  "kernelspec": {
   "display_name": "Python 3",
   "language": "python",
   "name": "python3"
  },
  "language_info": {
   "file_extension": ".py",
   "mimetype": "text/x-python",
   "name": "python",
   "nbconvert_exporter": "python",
   "pygments_lexer": "ipython3",
   "version": "3.7.3"
  },
  "lc_notebook_meme": {
   "current": "a8b96a78-0ce5-11ea-9309-0242ac120004",
   "lc_server_signature": {
    "current": {
     "notebook_dir": "/home/user1/notebooks",
     "notebook_path": "/",
     "server_url": "https://operationhub.kgr-lab.com/user/user1/",
     "signature_id": "ae27fcb2-043f-11ea-b29c-0242ac120002"
    },
    "history": []
   }
  },
  "toc": {
   "base_numbering": 1,
   "nav_menu": {},
   "number_sections": true,
   "sideBar": true,
   "skip_h1_title": false,
   "title_cell": "Table of Contents",
   "title_sidebar": "Contents",
   "toc_cell": false,
   "toc_position": {},
   "toc_section_display": true,
   "toc_window_display": true
  }
 },
 "nbformat": 4,
 "nbformat_minor": 2
}
