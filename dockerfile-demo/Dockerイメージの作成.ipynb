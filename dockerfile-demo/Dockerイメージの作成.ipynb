{
 "cells": [
  {
   "cell_type": "markdown",
   "metadata": {
    "lc_cell_meme": {
     "current": "813e2468-49e8-11e9-91dd-0242ac120002",
     "history": [
      {
       "current": "813e2468-49e8-11e9-91dd-0242ac120002",
       "next": null,
       "previous": null
      }
     ],
     "next": "4e97efd8-49ea-11e9-91dd-0242ac120002",
     "previous": null
    }
   },
   "source": [
    "[公式チュートリアル](https://docs.docker.com/get-started/part2)を元に、dockerコマンドの基本操作を試してみます。"
   ]
  },
  {
   "cell_type": "markdown",
   "metadata": {
    "lc_cell_meme": {
     "current": "4e97efd8-49ea-11e9-91dd-0242ac120002",
     "history": [
      {
       "current": "4e97efd8-49ea-11e9-91dd-0242ac120002",
       "next": null,
       "previous": "813e2468-49e8-11e9-91dd-0242ac120002"
      }
     ],
     "next": "961d481c-49ea-11e9-91dd-0242ac120002",
     "previous": "813e2468-49e8-11e9-91dd-0242ac120002"
    }
   },
   "source": [
    "# Dockerイメージの作成"
   ]
  },
  {
   "cell_type": "code",
   "execution_count": null,
   "metadata": {
    "lc_cell_meme": {
     "current": "961d481c-49ea-11e9-91dd-0242ac120002",
     "history": [
      {
       "current": "961d481c-49ea-11e9-91dd-0242ac120002",
       "next": null,
       "previous": "4e97efd8-49ea-11e9-91dd-0242ac120002"
      },
      {
       "current": "961d481c-49ea-11e9-91dd-0242ac120002",
       "next": "dda2d2f6-49ea-11e9-91dd-0242ac120002",
       "previous": "4e97efd8-49ea-11e9-91dd-0242ac120002"
      }
     ],
     "next": "f55c48de-49f2-11e9-8353-0242ac120002",
     "previous": "4e97efd8-49ea-11e9-91dd-0242ac120002"
    }
   },
   "outputs": [],
   "source": [
    "!ls"
   ]
  },
  {
   "cell_type": "markdown",
   "metadata": {
    "lc_cell_meme": {
     "current": "f55c48de-49f2-11e9-8353-0242ac120002",
     "next": "dda2d2f6-49ea-11e9-91dd-0242ac120002",
     "previous": "961d481c-49ea-11e9-91dd-0242ac120002"
    }
   },
   "source": [
    "各ファイルの中身を確認してみましょう。\n",
    "\n",
    "コンテナイメージをビルドします。"
   ]
  },
  {
   "cell_type": "code",
   "execution_count": null,
   "metadata": {
    "lc_cell_meme": {
     "current": "dda2d2f6-49ea-11e9-91dd-0242ac120002",
     "history": [
      {
       "current": "dda2d2f6-49ea-11e9-91dd-0242ac120002",
       "next": "dda2d616-49ea-11e9-91dd-0242ac120002",
       "previous": "961d481c-49ea-11e9-91dd-0242ac120002"
      },
      {
       "current": "dda2d2f6-49ea-11e9-91dd-0242ac120002",
       "next": "dda2d616-49ea-11e9-91dd-0242ac120002",
       "previous": "f55c48de-49f2-11e9-8353-0242ac120002"
      }
     ],
     "next": "3ce37e8e-49f3-11e9-8353-0242ac120002",
     "previous": "f55c48de-49f2-11e9-8353-0242ac120002"
    }
   },
   "outputs": [],
   "source": [
    "!sudo docker build --tag=friendlyhello ."
   ]
  },
  {
   "cell_type": "markdown",
   "metadata": {
    "lc_cell_meme": {
     "current": "3ce37e8e-49f3-11e9-8353-0242ac120002",
     "next": "dda2d616-49ea-11e9-91dd-0242ac120002",
     "previous": "dda2d2f6-49ea-11e9-91dd-0242ac120002"
    }
   },
   "source": [
    "新しいコンテナイメージが確認できます。"
   ]
  },
  {
   "cell_type": "code",
   "execution_count": null,
   "metadata": {
    "lc_cell_meme": {
     "current": "dda2d616-49ea-11e9-91dd-0242ac120002",
     "history": [
      {
       "current": "dda2d616-49ea-11e9-91dd-0242ac120002",
       "next": null,
       "previous": "dda2d2f6-49ea-11e9-91dd-0242ac120002"
      },
      {
       "current": "dda2d616-49ea-11e9-91dd-0242ac120002",
       "next": "252a0676-49eb-11e9-91dd-0242ac120002",
       "previous": "dda2d2f6-49ea-11e9-91dd-0242ac120002"
      }
     ],
     "next": "3ce38186-49f3-11e9-8353-0242ac120002",
     "previous": "3ce37e8e-49f3-11e9-8353-0242ac120002"
    }
   },
   "outputs": [],
   "source": [
    "!sudo docker image ls"
   ]
  },
  {
   "cell_type": "markdown",
   "metadata": {
    "lc_cell_meme": {
     "current": "3ce38186-49f3-11e9-8353-0242ac120002",
     "next": "252a0676-49eb-11e9-91dd-0242ac120002",
     "previous": "dda2d616-49ea-11e9-91dd-0242ac120002"
    }
   },
   "source": [
    "コンテナを起動してみます。"
   ]
  },
  {
   "cell_type": "code",
   "execution_count": null,
   "metadata": {
    "lc_cell_meme": {
     "current": "252a0676-49eb-11e9-91dd-0242ac120002",
     "history": [
      {
       "current": "252a0676-49eb-11e9-91dd-0242ac120002",
       "next": "252a0a04-49eb-11e9-91dd-0242ac120002",
       "previous": "dda2d616-49ea-11e9-91dd-0242ac120002"
      },
      {
       "current": "252a0676-49eb-11e9-91dd-0242ac120002",
       "next": "1ec87784-49f2-11e9-8353-0242ac120002",
       "previous": "dda2d616-49ea-11e9-91dd-0242ac120002"
      }
     ],
     "next": "1ec87784-49f2-11e9-8353-0242ac120002",
     "previous": "3ce38186-49f3-11e9-8353-0242ac120002"
    }
   },
   "outputs": [],
   "source": [
    "!sudo docker run -d -p 4000:80 friendlyhello"
   ]
  },
  {
   "cell_type": "markdown",
   "metadata": {
    "lc_cell_meme": {
     "current": "1ec87784-49f2-11e9-8353-0242ac120002",
     "next": "252a0a04-49eb-11e9-91dd-0242ac120002",
     "previous": "252a0676-49eb-11e9-91dd-0242ac120002"
    }
   },
   "source": [
    "webブラウザで\n",
    "\n",
    "localhost:4000\n",
    "\n",
    "を確認してみましょう。\n",
    "\n",
    "コンテナが動いているのが確認できたら、コンテナを捨てます。"
   ]
  },
  {
   "cell_type": "code",
   "execution_count": null,
   "metadata": {
    "lc_cell_meme": {
     "current": "252a0a04-49eb-11e9-91dd-0242ac120002",
     "history": [
      {
       "current": "252a0a04-49eb-11e9-91dd-0242ac120002",
       "next": null,
       "previous": "252a0676-49eb-11e9-91dd-0242ac120002"
      },
      {
       "current": "252a0a04-49eb-11e9-91dd-0242ac120002",
       "next": "6c34e658-49eb-11e9-91dd-0242ac120002",
       "previous": "252a0676-49eb-11e9-91dd-0242ac120002"
      }
     ],
     "next": "6c34e658-49eb-11e9-91dd-0242ac120002",
     "previous": "1ec87784-49f2-11e9-8353-0242ac120002"
    }
   },
   "outputs": [],
   "source": [
    "!sudo docker container ls"
   ]
  },
  {
   "cell_type": "code",
   "execution_count": null,
   "metadata": {
    "lc_cell_meme": {
     "current": "6c34e658-49eb-11e9-91dd-0242ac120002",
     "history": [
      {
       "current": "6c34e658-49eb-11e9-91dd-0242ac120002",
       "next": null,
       "previous": "252a0a04-49eb-11e9-91dd-0242ac120002"
      },
      {
       "current": "6c34e658-49eb-11e9-91dd-0242ac120002",
       "next": "b437e9f0-49eb-11e9-91dd-0242ac120002",
       "previous": "252a0a04-49eb-11e9-91dd-0242ac120002"
      }
     ],
     "next": "84691674-49f3-11e9-8353-0242ac120002",
     "previous": "252a0a04-49eb-11e9-91dd-0242ac120002"
    }
   },
   "outputs": [],
   "source": [
    "!sudo docker container stop 3339a29eff44"
   ]
  },
  {
   "cell_type": "code",
   "execution_count": null,
   "metadata": {
    "lc_cell_meme": {
     "current": "84691674-49f3-11e9-8353-0242ac120002",
     "next": "84691a0c-49f3-11e9-8353-0242ac120002",
     "previous": "6c34e658-49eb-11e9-91dd-0242ac120002"
    }
   },
   "outputs": [],
   "source": [
    "!sudo docker container rm 3339a29eff44"
   ]
  },
  {
   "cell_type": "code",
   "execution_count": null,
   "metadata": {
    "lc_cell_meme": {
     "current": "84691a0c-49f3-11e9-8353-0242ac120002",
     "next": "b437e9f0-49eb-11e9-91dd-0242ac120002",
     "previous": "84691674-49f3-11e9-8353-0242ac120002"
    }
   },
   "outputs": [],
   "source": [
    "!sudo docker container ls"
   ]
  },
  {
   "cell_type": "markdown",
   "metadata": {
    "lc_cell_meme": {
     "current": "b437e9f0-49eb-11e9-91dd-0242ac120002",
     "history": [
      {
       "current": "b437e9f0-49eb-11e9-91dd-0242ac120002",
       "next": null,
       "previous": "6c34e658-49eb-11e9-91dd-0242ac120002"
      },
      {
       "current": "b437e9f0-49eb-11e9-91dd-0242ac120002",
       "next": "4356e94c-49ec-11e9-91dd-0242ac120002",
       "previous": "6c34e658-49eb-11e9-91dd-0242ac120002"
      }
     ],
     "next": "4356e94c-49ec-11e9-91dd-0242ac120002",
     "previous": "84691a0c-49f3-11e9-8353-0242ac120002"
    }
   },
   "source": [
    "作成したコンテナイメージをdocker hubに上げてみます。\n",
    "\n",
    "一応、パスワードに配慮して、Jupyterのターミナルから、\n",
    "\n",
    "sudo docker login\n",
    "\n",
    "します。\n",
    "\n",
    "コンテナイメージの名前を、docker hubに合わせて、追加します。"
   ]
  },
  {
   "cell_type": "code",
   "execution_count": null,
   "metadata": {
    "lc_cell_meme": {
     "current": "4356e94c-49ec-11e9-91dd-0242ac120002",
     "history": [
      {
       "current": "4356e94c-49ec-11e9-91dd-0242ac120002",
       "next": null,
       "previous": "b437e9f0-49eb-11e9-91dd-0242ac120002"
      }
     ],
     "next": "8a4d8aa4-49ec-11e9-91dd-0242ac120002",
     "previous": "b437e9f0-49eb-11e9-91dd-0242ac120002"
    }
   },
   "outputs": [],
   "source": [
    "!sudo docker tag friendlyhello mnagaku/get-started:part2"
   ]
  },
  {
   "cell_type": "code",
   "execution_count": null,
   "metadata": {
    "lc_cell_meme": {
     "current": "8a4d8aa4-49ec-11e9-91dd-0242ac120002",
     "history": [
      {
       "current": "8a4d8aa4-49ec-11e9-91dd-0242ac120002",
       "next": "8a4d8e46-49ec-11e9-91dd-0242ac120002",
       "previous": "4356e94c-49ec-11e9-91dd-0242ac120002"
      }
     ],
     "next": "cbefe176-49f3-11e9-8353-0242ac120002",
     "previous": "4356e94c-49ec-11e9-91dd-0242ac120002"
    }
   },
   "outputs": [],
   "source": [
    "!sudo docker image ls"
   ]
  },
  {
   "cell_type": "markdown",
   "metadata": {
    "lc_cell_meme": {
     "current": "cbefe176-49f3-11e9-8353-0242ac120002",
     "next": "8a4d8e46-49ec-11e9-91dd-0242ac120002",
     "previous": "8a4d8aa4-49ec-11e9-91dd-0242ac120002"
    }
   },
   "source": [
    "docker hubにpushします。"
   ]
  },
  {
   "cell_type": "code",
   "execution_count": null,
   "metadata": {
    "lc_cell_meme": {
     "current": "8a4d8e46-49ec-11e9-91dd-0242ac120002",
     "history": [
      {
       "current": "8a4d8e46-49ec-11e9-91dd-0242ac120002",
       "next": null,
       "previous": "8a4d8aa4-49ec-11e9-91dd-0242ac120002"
      },
      {
       "current": "8a4d8e46-49ec-11e9-91dd-0242ac120002",
       "next": "d1d4d4f4-49ec-11e9-91dd-0242ac120002",
       "previous": "8a4d8aa4-49ec-11e9-91dd-0242ac120002"
      }
     ],
     "next": "d1d4d4f4-49ec-11e9-91dd-0242ac120002",
     "previous": "cbefe176-49f3-11e9-8353-0242ac120002"
    }
   },
   "outputs": [],
   "source": [
    "!sudo docker push mnagaku/get-started:part2"
   ]
  },
  {
   "cell_type": "markdown",
   "metadata": {
    "lc_cell_meme": {
     "current": "d1d4d4f4-49ec-11e9-91dd-0242ac120002",
     "history": [
      {
       "current": "d1d4d4f4-49ec-11e9-91dd-0242ac120002",
       "next": null,
       "previous": "8a4d8e46-49ec-11e9-91dd-0242ac120002"
      }
     ],
     "next": "13761c36-49f4-11e9-8353-0242ac120002",
     "previous": "8a4d8e46-49ec-11e9-91dd-0242ac120002"
    }
   },
   "source": [
    "https://hub.docker.com/ でpushできていることを確認しましょう。\n",
    "\n",
    "ローカルのイメージを捨ててから、pullして動くことを確認してみましょう。"
   ]
  },
  {
   "cell_type": "code",
   "execution_count": null,
   "metadata": {
    "lc_cell_meme": {
     "current": "13761c36-49f4-11e9-8353-0242ac120002",
     "history": [
      {
       "current": "13761c36-49f4-11e9-8353-0242ac120002",
       "next": null,
       "previous": "d1d4d4f4-49ec-11e9-91dd-0242ac120002"
      }
     ],
     "next": "a2841bf8-49f4-11e9-8353-0242ac120002",
     "previous": "d1d4d4f4-49ec-11e9-91dd-0242ac120002"
    }
   },
   "outputs": [],
   "source": [
    "!sudo docker image rm $(sudo docker image ls -aq)"
   ]
  },
  {
   "cell_type": "code",
   "execution_count": null,
   "metadata": {
    "lc_cell_meme": {
     "current": "a2841bf8-49f4-11e9-8353-0242ac120002",
     "history": [
      {
       "current": "a2841bf8-49f4-11e9-8353-0242ac120002",
       "next": null,
       "previous": "13761c36-49f4-11e9-8353-0242ac120002"
      }
     ],
     "next": "bbf962a0-49f4-11e9-8353-0242ac120002",
     "previous": "13761c36-49f4-11e9-8353-0242ac120002"
    }
   },
   "outputs": [],
   "source": [
    "!sudo docker run -d -p 4000:80 mnagaku/get-started:part2"
   ]
  },
  {
   "cell_type": "code",
   "execution_count": null,
   "metadata": {
    "lc_cell_meme": {
     "current": "bbf962a0-49f4-11e9-8353-0242ac120002",
     "next": null,
     "previous": "a2841bf8-49f4-11e9-8353-0242ac120002"
    }
   },
   "outputs": [],
   "source": []
  }
 ],
 "metadata": {
  "kernelspec": {
   "display_name": "Python 3 (LC_wrapper)",
   "language": "python",
   "name": "python3-wrapper"
  },
  "language_info": {
   "file_extension": ".py",
   "mimetype": "text/x-python",
   "name": "python",
   "nbconvert_exporter": "python",
   "pygments_lexer": "ipython3",
   "version": "3.7.1"
  },
  "lc_notebook_meme": {
   "current": "813e21de-49e8-11e9-91dd-0242ac120002",
   "lc_server_signature": {
    "current": {
     "notebook_dir": "/home/jovyan",
     "notebook_path": "/docker-handson/dockerfile-demo",
     "server_url": "http://localhost:8888/",
     "signature_id": "31eff266-49f1-11e9-8353-0242ac120002"
    },
    "history": [
     {
      "notebook_dir": "/home/jovyan",
      "notebook_path": "/docker-handson",
      "server_url": "http://localhost:8888/",
      "signature_id": "8241fd1c-49de-11e9-91dd-0242ac120002"
     },
     {
      "notebook_dir": "/home/jovyan",
      "notebook_path": "/docker-handson/dockerfile-demo",
      "server_url": "http://localhost:8888/",
      "signature_id": "8241fd1c-49de-11e9-91dd-0242ac120002"
     }
    ]
   }
  },
  "toc": {
   "base_numbering": 1,
   "nav_menu": {},
   "number_sections": true,
   "sideBar": true,
   "skip_h1_title": false,
   "title_cell": "Table of Contents",
   "title_sidebar": "Contents",
   "toc_cell": false,
   "toc_position": {},
   "toc_section_display": true,
   "toc_window_display": false
  }
 },
 "nbformat": 4,
 "nbformat_minor": 2
}
