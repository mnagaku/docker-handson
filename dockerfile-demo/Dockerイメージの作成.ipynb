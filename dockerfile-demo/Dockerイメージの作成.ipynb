{
 "cells": [
  {
   "cell_type": "markdown",
   "metadata": {
    "lc_cell_meme": {
     "current": "813e2468-49e8-11e9-91dd-0242ac120002",
     "history": [
      {
       "current": "813e2468-49e8-11e9-91dd-0242ac120002",
       "next": null,
       "previous": null
      },
      {
       "current": "813e2468-49e8-11e9-91dd-0242ac120002",
       "next": "4e97efd8-49ea-11e9-91dd-0242ac120002",
       "previous": null
      },
      {
       "current": "813e2468-49e8-11e9-91dd-0242ac120002",
       "next": "88dd59be-0cf2-11ea-9309-0242ac120004",
       "previous": null
      }
     ],
     "next": "35af7ff0-0cfd-11ea-9309-0242ac120004",
     "previous": null
    }
   },
   "source": [
    "# sshでログイン"
   ]
  },
  {
   "cell_type": "code",
   "execution_count": null,
   "metadata": {
    "lc_cell_meme": {
     "current": "35af7ff0-0cfd-11ea-9309-0242ac120004",
     "next": "88dd59be-0cf2-11ea-9309-0242ac120004",
     "previous": "813e2468-49e8-11e9-91dd-0242ac120002"
    }
   },
   "outputs": [],
   "source": [
    "%param TARGET user1-target"
   ]
  },
  {
   "cell_type": "code",
   "execution_count": null,
   "metadata": {
    "lc_cell_meme": {
     "current": "88dd59be-0cf2-11ea-9309-0242ac120004",
     "history": [
      {
       "current": "88dd59be-0cf2-11ea-9309-0242ac120004",
       "next": "4e97efd8-49ea-11e9-91dd-0242ac120002",
       "previous": "813e2468-49e8-11e9-91dd-0242ac120002"
      },
      {
       "current": "88dd59be-0cf2-11ea-9309-0242ac120004",
       "next": "fd15a654-0cf4-11ea-9309-0242ac120004",
       "previous": "813e2468-49e8-11e9-91dd-0242ac120002"
      }
     ],
     "next": "fd15a654-0cf4-11ea-9309-0242ac120004",
     "previous": "35af7ff0-0cfd-11ea-9309-0242ac120004"
    }
   },
   "outputs": [],
   "source": [
    "%login {TARGET}"
   ]
  },
  {
   "cell_type": "markdown",
   "metadata": {
    "lc_cell_meme": {
     "current": "fd15a654-0cf4-11ea-9309-0242ac120004",
     "history": [
      {
       "current": "fd15a654-0cf4-11ea-9309-0242ac120004",
       "next": "fd15a8de-0cf4-11ea-9309-0242ac120004",
       "previous": "88dd59be-0cf2-11ea-9309-0242ac120004"
      }
     ],
     "next": "449a8a6c-0cf5-11ea-9309-0242ac120004",
     "previous": "88dd59be-0cf2-11ea-9309-0242ac120004"
    }
   },
   "source": [
    "# 準備"
   ]
  },
  {
   "cell_type": "code",
   "execution_count": null,
   "metadata": {
    "lc_cell_meme": {
     "current": "449a8a6c-0cf5-11ea-9309-0242ac120004",
     "next": "fd15a8de-0cf4-11ea-9309-0242ac120004",
     "previous": "fd15a654-0cf4-11ea-9309-0242ac120004"
    }
   },
   "outputs": [],
   "source": [
    "sudo yum install -y git"
   ]
  },
  {
   "cell_type": "code",
   "execution_count": null,
   "metadata": {
    "lc_cell_meme": {
     "current": "fd15a8de-0cf4-11ea-9309-0242ac120004",
     "history": [
      {
       "current": "fd15a8de-0cf4-11ea-9309-0242ac120004",
       "next": "4e97efd8-49ea-11e9-91dd-0242ac120002",
       "previous": "fd15a654-0cf4-11ea-9309-0242ac120004"
      }
     ],
     "next": "449a8cb0-0cf5-11ea-9309-0242ac120004",
     "previous": "449a8a6c-0cf5-11ea-9309-0242ac120004"
    }
   },
   "outputs": [],
   "source": [
    "git clone --depth 1 https://github.com/mnagaku/docker-handson.git"
   ]
  },
  {
   "cell_type": "code",
   "execution_count": null,
   "metadata": {
    "lc_cell_meme": {
     "current": "449a8cb0-0cf5-11ea-9309-0242ac120004",
     "next": "4e97efd8-49ea-11e9-91dd-0242ac120002",
     "previous": "fd15a8de-0cf4-11ea-9309-0242ac120004"
    }
   },
   "outputs": [],
   "source": [
    "cd docker-handson/dockerfile-demo"
   ]
  },
  {
   "cell_type": "markdown",
   "metadata": {
    "lc_cell_meme": {
     "current": "4e97efd8-49ea-11e9-91dd-0242ac120002",
     "history": [
      {
       "current": "4e97efd8-49ea-11e9-91dd-0242ac120002",
       "next": null,
       "previous": "813e2468-49e8-11e9-91dd-0242ac120002"
      },
      {
       "current": "4e97efd8-49ea-11e9-91dd-0242ac120002",
       "next": "961d481c-49ea-11e9-91dd-0242ac120002",
       "previous": "813e2468-49e8-11e9-91dd-0242ac120002"
      },
      {
       "current": "4e97efd8-49ea-11e9-91dd-0242ac120002",
       "next": "961d481c-49ea-11e9-91dd-0242ac120002",
       "previous": "88dd59be-0cf2-11ea-9309-0242ac120004"
      },
      {
       "current": "4e97efd8-49ea-11e9-91dd-0242ac120002",
       "next": "961d481c-49ea-11e9-91dd-0242ac120002",
       "previous": "fd15a8de-0cf4-11ea-9309-0242ac120004"
      }
     ],
     "next": "961d481c-49ea-11e9-91dd-0242ac120002",
     "previous": "449a8cb0-0cf5-11ea-9309-0242ac120004"
    }
   },
   "source": [
    "# Dockerイメージの作成"
   ]
  },
  {
   "cell_type": "code",
   "execution_count": null,
   "metadata": {
    "lc_cell_meme": {
     "current": "961d481c-49ea-11e9-91dd-0242ac120002",
     "history": [
      {
       "current": "961d481c-49ea-11e9-91dd-0242ac120002",
       "next": null,
       "previous": "4e97efd8-49ea-11e9-91dd-0242ac120002"
      },
      {
       "current": "961d481c-49ea-11e9-91dd-0242ac120002",
       "next": "dda2d2f6-49ea-11e9-91dd-0242ac120002",
       "previous": "4e97efd8-49ea-11e9-91dd-0242ac120002"
      }
     ],
     "next": "f55c48de-49f2-11e9-8353-0242ac120002",
     "previous": "4e97efd8-49ea-11e9-91dd-0242ac120002"
    },
    "pinned_outputs": [
     {
      "execution_count": 6,
      "outputs": [
       {
        "name": "stdout",
        "output_type": "stream",
        "text": "[ssh] host = user1-target, cwd = /home/user1/docker-handson/dockerfile-demo\napp.py\nDockerfile\nDockerイメージの作成.ipynb\nrequirements.txt\n"
       }
      ]
     }
    ]
   },
   "outputs": [],
   "source": [
    "ls"
   ]
  },
  {
   "cell_type": "markdown",
   "metadata": {
    "lc_cell_meme": {
     "current": "f55c48de-49f2-11e9-8353-0242ac120002",
     "history": [
      {
       "current": "f55c48de-49f2-11e9-8353-0242ac120002",
       "next": "dda2d2f6-49ea-11e9-91dd-0242ac120002",
       "previous": "961d481c-49ea-11e9-91dd-0242ac120002"
      }
     ],
     "next": "df686c8c-0cf8-11ea-9309-0242ac120004",
     "previous": "961d481c-49ea-11e9-91dd-0242ac120002"
    }
   },
   "source": [
    "各ファイルの中身を確認してみましょう。"
   ]
  },
  {
   "cell_type": "code",
   "execution_count": null,
   "metadata": {
    "lc_cell_meme": {
     "current": "df686c8c-0cf8-11ea-9309-0242ac120004",
     "next": "df686f02-0cf8-11ea-9309-0242ac120004",
     "previous": "f55c48de-49f2-11e9-8353-0242ac120002"
    },
    "pinned_outputs": [
     {
      "execution_count": 7,
      "outputs": [
       {
        "name": "stdout",
        "output_type": "stream",
        "text": "[ssh] host = user1-target, cwd = /home/user1/docker-handson/dockerfile-demo\n# Use an official Python runtime as a parent image\nFROM python:2.7-slim\n\n# Set the working directory to /app\nWORKDIR /app\n\n# Copy the current directory contents into the container at /app\nCOPY . /app\n\n# Install any needed packages specified in requirements.txt\nRUN pip install --trusted-host pypi.python.org -r requirements.txt\n\n# Make port 80 available to the world outside this container\nEXPOSE 80\n\n# Define environment variable\nENV NAME World\n\n# Run app.py when the container launches\nCMD [\"python\", \"app.py\"]\n"
       }
      ]
     }
    ]
   },
   "outputs": [],
   "source": [
    "cat Dockerfile"
   ]
  },
  {
   "cell_type": "code",
   "execution_count": null,
   "metadata": {
    "lc_cell_meme": {
     "current": "df686f02-0cf8-11ea-9309-0242ac120004",
     "next": "df687042-0cf8-11ea-9309-0242ac120004",
     "previous": "df686c8c-0cf8-11ea-9309-0242ac120004"
    },
    "pinned_outputs": [
     {
      "execution_count": 8,
      "outputs": [
       {
        "name": "stdout",
        "output_type": "stream",
        "text": "[ssh] host = user1-target, cwd = /home/user1/docker-handson/dockerfile-demo\nFlask\nRedis\n"
       }
      ]
     }
    ]
   },
   "outputs": [],
   "source": [
    "cat requirements.txt"
   ]
  },
  {
   "cell_type": "code",
   "execution_count": null,
   "metadata": {
    "lc_cell_meme": {
     "current": "df687042-0cf8-11ea-9309-0242ac120004",
     "history": [
      {
       "current": "df687042-0cf8-11ea-9309-0242ac120004",
       "next": "f55c48de-49f2-11e9-8353-0242ac120002",
       "previous": "df686f02-0cf8-11ea-9309-0242ac120004"
      }
     ],
     "next": "6e0bf24c-0cf4-11ea-9309-0242ac120004",
     "previous": "df686f02-0cf8-11ea-9309-0242ac120004"
    },
    "pinned_outputs": [
     {
      "execution_count": 9,
      "outputs": [
       {
        "name": "stdout",
        "output_type": "stream",
        "text": "[ssh] host = user1-target, cwd = /home/user1/docker-handson/dockerfile-demo\nfrom flask import Flask\nfrom redis import Redis, RedisError\nimport os\nimport socket\n\n# Connect to Redis\nredis = Redis(host=\"redis\", db=0, socket_connect_timeout=2, socket_timeout=2)\n\napp = Flask(__name__)\n\n@app.route(\"/\")\ndef hello():\n    try:\n        visits = redis.incr(\"counter\")\n    except RedisError:\n        visits = \"<i>cannot connect to Redis, counter disabled</i>\"\n\n    html = \"<h3>Hello {name}!</h3>\" \\\n           \"<b>Hostname:</b> {hostname}<br/>\" \\\n           \"<b>Visits:</b> {visits}\"\n    return html.format(name=os.getenv(\"NAME\", \"world\"), hostname=socket.gethostname(), visits=visits)\n\nif __name__ == \"__main__\":\n    app.run(host='0.0.0.0', port=80)\n"
       }
      ]
     }
    ]
   },
   "outputs": [],
   "source": [
    "cat app.py"
   ]
  },
  {
   "cell_type": "markdown",
   "metadata": {
    "lc_cell_meme": {
     "current": "6e0bf24c-0cf4-11ea-9309-0242ac120004",
     "history": [
      {
       "current": "6e0bf24c-0cf4-11ea-9309-0242ac120004",
       "next": "6e0bf6fc-0cf4-11ea-9309-0242ac120004",
       "previous": "1ec87784-49f2-11e9-8353-0242ac120002"
      },
      {
       "current": "6e0bf24c-0cf4-11ea-9309-0242ac120004",
       "next": "6e0bf6fc-0cf4-11ea-9309-0242ac120004",
       "previous": "3ce38186-49f3-11e9-8353-0242ac120002"
      },
      {
       "current": "6e0bf24c-0cf4-11ea-9309-0242ac120004",
       "next": "6e0bf6fc-0cf4-11ea-9309-0242ac120004",
       "previous": "dda2d616-49ea-11e9-91dd-0242ac120002"
      }
     ],
     "next": "6e0bf6fc-0cf4-11ea-9309-0242ac120004",
     "previous": "df687042-0cf8-11ea-9309-0242ac120004"
    }
   },
   "source": [
    "※セッションのリセット"
   ]
  },
  {
   "cell_type": "code",
   "execution_count": null,
   "metadata": {
    "lc_cell_meme": {
     "current": "6e0bf6fc-0cf4-11ea-9309-0242ac120004",
     "next": "6e0bf8be-0cf4-11ea-9309-0242ac120004",
     "previous": "6e0bf24c-0cf4-11ea-9309-0242ac120004"
    }
   },
   "outputs": [],
   "source": [
    "%logout"
   ]
  },
  {
   "cell_type": "code",
   "execution_count": null,
   "metadata": {
    "lc_cell_meme": {
     "current": "6e0bf8be-0cf4-11ea-9309-0242ac120004",
     "history": [
      {
       "current": "6e0bf8be-0cf4-11ea-9309-0242ac120004",
       "next": "1ec87784-49f2-11e9-8353-0242ac120002",
       "previous": "6e0bf6fc-0cf4-11ea-9309-0242ac120004"
      },
      {
       "current": "6e0bf8be-0cf4-11ea-9309-0242ac120004",
       "next": "252a0676-49eb-11e9-91dd-0242ac120002",
       "previous": "6e0bf6fc-0cf4-11ea-9309-0242ac120004"
      },
      {
       "current": "6e0bf8be-0cf4-11ea-9309-0242ac120004",
       "next": "3ce38186-49f3-11e9-8353-0242ac120002",
       "previous": "6e0bf6fc-0cf4-11ea-9309-0242ac120004"
      }
     ],
     "next": "f55c48de-49f2-11e9-8353-0242ac120002",
     "previous": "6e0bf6fc-0cf4-11ea-9309-0242ac120004"
    }
   },
   "outputs": [],
   "source": [
    "%login {TARGET}"
   ]
  },
  {
   "cell_type": "markdown",
   "metadata": {
    "lc_cell_meme": {
     "current": "f55c48de-49f2-11e9-8353-0242ac120002",
     "history": [
      {
       "current": "f55c48de-49f2-11e9-8353-0242ac120002",
       "next": "dda2d2f6-49ea-11e9-91dd-0242ac120002",
       "previous": "961d481c-49ea-11e9-91dd-0242ac120002"
      },
      {
       "current": "f55c48de-49f2-11e9-8353-0242ac120002",
       "next": "dda2d2f6-49ea-11e9-91dd-0242ac120002",
       "previous": "df687042-0cf8-11ea-9309-0242ac120004"
      }
     ],
     "next": "dda2d2f6-49ea-11e9-91dd-0242ac120002",
     "previous": "6e0bf8be-0cf4-11ea-9309-0242ac120004"
    }
   },
   "source": [
    "コンテナイメージをビルドします。"
   ]
  },
  {
   "cell_type": "code",
   "execution_count": null,
   "metadata": {
    "lc_cell_meme": {
     "current": "dda2d2f6-49ea-11e9-91dd-0242ac120002",
     "history": [
      {
       "current": "dda2d2f6-49ea-11e9-91dd-0242ac120002",
       "next": "dda2d616-49ea-11e9-91dd-0242ac120002",
       "previous": "961d481c-49ea-11e9-91dd-0242ac120002"
      },
      {
       "current": "dda2d2f6-49ea-11e9-91dd-0242ac120002",
       "next": "dda2d616-49ea-11e9-91dd-0242ac120002",
       "previous": "f55c48de-49f2-11e9-8353-0242ac120002"
      }
     ],
     "next": "3ce37e8e-49f3-11e9-8353-0242ac120002",
     "previous": "f55c48de-49f2-11e9-8353-0242ac120002"
    },
    "pinned_outputs": [
     {
      "execution_count": 12,
      "outputs": [
       {
        "name": "stdout",
        "output_type": "stream",
        "text": "[ssh] host = user1-target, cwd = /home/user1\nSending build context to Docker daemon 24.58 kB\nStep 1/7 : FROM python:2.7-slim\nTrying to pull repository docker.io/library/python ... \n2.7-slim: Pulling from docker.io/library/python\n8d691f585fa8: Pulling fs layer\n3fd6980f9df6: Pulling fs layer\n53d750196b33: Pulling fs layer\n5a1ef03724f3: Pulling fs layer\n5a1ef03724f3: Waiting\n3fd6980f9df6: Verifying Checksum\n3fd6980f9df6: Download complete\n53d750196b33: Verifying Checksum\n53d750196b33: Download complete\n8d691f585fa8: Download complete\n5a1ef03724f3: Verifying Checksum\n5a1ef03724f3: Download complete\n8d691f585fa8: Pull complete\n3fd6980f9df6: Pull complete\n53d750196b33: Pull complete\n5a1ef03724f3: Pull complete\nDigest: sha256:af6dd30067ebf0f312e9f3c76b8e2b67a21a9d1239761e167303773b48be19c9\nStatus: Downloaded newer image for docker.io/python:2.7-slim\n ---> ea85a3a4491c\nStep 2/7 : WORKDIR /app\n ---> 398b66ea3923\nRemoving intermediate container 56011181086b\nStep 3/7 : COPY . /app\n ---> 662bead0763a\nRemoving intermediate container 8c7084c2c2bd\nStep 4/7 : RUN pip install --trusted-host pypi.python.org -r requirements.txt\n ---> Running in 4327072259b4\n\n\u001b[91m\u001b[0m\u001b[91mDEPRECATION: Python 2.7 will reach the end of its life on January 1st, 2020. Please upgrade your Python as Python 2.7 won't be maintained after that date. A future version of pip will drop support for Python 2.7. More details about Python 2 support in pip, can be found at https://pip.pypa.io/en/latest/development/release-process/#python-2-support\n\u001b[0mCollecting Flask\n  Downloading https://files.pythonhosted.org/packages/9b/93/628509b8d5dc749656a9641f4caf13540e2cdec85276964ff8f43bbb1d3b/Flask-1.1.1-py2.py3-none-any.whl (94kB)\nCollecting Redis\n  Downloading https://files.pythonhosted.org/packages/32/ae/28613a62eea0d53d3db3147f8715f90da07667e99baeedf1010eb400f8c0/redis-3.3.11-py2.py3-none-any.whl (66kB)\nCollecting click>=5.1\n  Downloading https://files.pythonhosted.org/packages/fa/37/45185cb5abbc30d7257104c434fe0b07e5a195a6847506c074527aa599ec/Click-7.0-py2.py3-none-any.whl (81kB)\nCollecting Werkzeug>=0.15\n  Downloading https://files.pythonhosted.org/packages/ce/42/3aeda98f96e85fd26180534d36570e4d18108d62ae36f87694b476b83d6f/Werkzeug-0.16.0-py2.py3-none-any.whl (327kB)\nCollecting itsdangerous>=0.24\n  Downloading https://files.pythonhosted.org/packages/76/ae/44b03b253d6fade317f32c24d100b3b35c2239807046a4c953c7b89fa49e/itsdangerous-1.1.0-py2.py3-none-any.whl\nCollecting Jinja2>=2.10.1\n  Downloading https://files.pythonhosted.org/packages/65/e0/eb35e762802015cab1ccee04e8a277b03f1d8e53da3ec3106882ec42558b/Jinja2-2.10.3-py2.py3-none-any.whl (125kB)\nCollecting MarkupSafe>=0.23\n  Downloading https://files.pythonhosted.org/packages/fb/40/f3adb7cf24a8012813c5edb20329eb22d5d8e2a0ecf73d21d6b85865da11/MarkupSafe-1.1.1-cp27-cp27mu-manylinux1_x86_64.whl\nInstalling collected packages: click, Werkzeug, itsdangerous, MarkupSafe, Jinja2, Flask, Redis\nSuccessfully installed Flask-1.1.1 Jinja2-2.10.3 MarkupSafe-1.1.1 Redis-3.3.11 Werkzeug-0.16.0 click-7.0 itsdangerous-1.1.0\n ---> ddd79041716c\nRemoving intermediate container 4327072259b4\nStep 5/7 : EXPOSE 80\n ---> Running in 20d12272131d\n ---> 74a22f5da528\nRemoving intermediate container 20d12272131d\nStep 6/7 : ENV NAME World\n ---> Running in a779ff5496af\n ---> 3464d0b05c37\nRemoving intermediate container a779ff5496af\nStep 7/7 : CMD python app.py\n ---> Running in 00e000999568\n ---> 3f6f2f94e100\nRemoving intermediate container 00e000999568\nSuccessfully built 3f6f2f94e100\n[ssh] new cwd: /home/user1/docker-handson/dockerfile-demo\n"
       }
      ]
     }
    ]
   },
   "outputs": [],
   "source": [
    "cd docker-handson/dockerfile-demo\n",
    "sudo docker build --tag=friendlyhello ."
   ]
  },
  {
   "cell_type": "markdown",
   "metadata": {
    "lc_cell_meme": {
     "current": "3ce37e8e-49f3-11e9-8353-0242ac120002",
     "next": "dda2d616-49ea-11e9-91dd-0242ac120002",
     "previous": "dda2d2f6-49ea-11e9-91dd-0242ac120002"
    }
   },
   "source": [
    "新しいコンテナイメージが確認できます。"
   ]
  },
  {
   "cell_type": "code",
   "execution_count": null,
   "metadata": {
    "lc_cell_meme": {
     "current": "dda2d616-49ea-11e9-91dd-0242ac120002",
     "history": [
      {
       "current": "dda2d616-49ea-11e9-91dd-0242ac120002",
       "next": null,
       "previous": "dda2d2f6-49ea-11e9-91dd-0242ac120002"
      },
      {
       "current": "dda2d616-49ea-11e9-91dd-0242ac120002",
       "next": "252a0676-49eb-11e9-91dd-0242ac120002",
       "previous": "dda2d2f6-49ea-11e9-91dd-0242ac120002"
      },
      {
       "current": "dda2d616-49ea-11e9-91dd-0242ac120002",
       "next": "3ce38186-49f3-11e9-8353-0242ac120002",
       "previous": "3ce37e8e-49f3-11e9-8353-0242ac120002"
      }
     ],
     "next": "6e0bf24c-0cf4-11ea-9309-0242ac120004",
     "previous": "3ce37e8e-49f3-11e9-8353-0242ac120002"
    },
    "pinned_outputs": [
     {
      "execution_count": 13,
      "outputs": [
       {
        "name": "stdout",
        "output_type": "stream",
        "text": "[ssh] host = user1-target, cwd = /home/user1/docker-handson/dockerfile-demo\nREPOSITORY          TAG                 IMAGE ID            CREATED             SIZE\nfriendlyhello       latest              3f6f2f94e100        18 seconds ago      148 MB\ndocker.io/python    2.7-slim            ea85a3a4491c        7 days ago          137 MB\n"
       }
      ]
     }
    ]
   },
   "outputs": [],
   "source": [
    "sudo docker image ls"
   ]
  },
  {
   "cell_type": "markdown",
   "metadata": {
    "lc_cell_meme": {
     "current": "6e0bf24c-0cf4-11ea-9309-0242ac120004",
     "history": [
      {
       "current": "6e0bf24c-0cf4-11ea-9309-0242ac120004",
       "next": "6e0bf6fc-0cf4-11ea-9309-0242ac120004",
       "previous": "1ec87784-49f2-11e9-8353-0242ac120002"
      },
      {
       "current": "6e0bf24c-0cf4-11ea-9309-0242ac120004",
       "next": "6e0bf6fc-0cf4-11ea-9309-0242ac120004",
       "previous": "3ce38186-49f3-11e9-8353-0242ac120002"
      }
     ],
     "next": "6e0bf6fc-0cf4-11ea-9309-0242ac120004",
     "previous": "dda2d616-49ea-11e9-91dd-0242ac120002"
    }
   },
   "source": [
    "※セッションのリセット"
   ]
  },
  {
   "cell_type": "code",
   "execution_count": null,
   "metadata": {
    "lc_cell_meme": {
     "current": "6e0bf6fc-0cf4-11ea-9309-0242ac120004",
     "next": "6e0bf8be-0cf4-11ea-9309-0242ac120004",
     "previous": "6e0bf24c-0cf4-11ea-9309-0242ac120004"
    }
   },
   "outputs": [],
   "source": [
    "%logout"
   ]
  },
  {
   "cell_type": "code",
   "execution_count": null,
   "metadata": {
    "lc_cell_meme": {
     "current": "6e0bf8be-0cf4-11ea-9309-0242ac120004",
     "history": [
      {
       "current": "6e0bf8be-0cf4-11ea-9309-0242ac120004",
       "next": "1ec87784-49f2-11e9-8353-0242ac120002",
       "previous": "6e0bf6fc-0cf4-11ea-9309-0242ac120004"
      },
      {
       "current": "6e0bf8be-0cf4-11ea-9309-0242ac120004",
       "next": "252a0676-49eb-11e9-91dd-0242ac120002",
       "previous": "6e0bf6fc-0cf4-11ea-9309-0242ac120004"
      }
     ],
     "next": "3ce38186-49f3-11e9-8353-0242ac120002",
     "previous": "6e0bf6fc-0cf4-11ea-9309-0242ac120004"
    }
   },
   "outputs": [],
   "source": [
    "%login {TARGET}"
   ]
  },
  {
   "cell_type": "markdown",
   "metadata": {
    "lc_cell_meme": {
     "current": "3ce38186-49f3-11e9-8353-0242ac120002",
     "history": [
      {
       "current": "3ce38186-49f3-11e9-8353-0242ac120002",
       "next": "252a0676-49eb-11e9-91dd-0242ac120002",
       "previous": "dda2d616-49ea-11e9-91dd-0242ac120002"
      },
      {
       "current": "3ce38186-49f3-11e9-8353-0242ac120002",
       "next": "6e0bf24c-0cf4-11ea-9309-0242ac120004",
       "previous": "dda2d616-49ea-11e9-91dd-0242ac120002"
      }
     ],
     "next": "252a0676-49eb-11e9-91dd-0242ac120002",
     "previous": "6e0bf8be-0cf4-11ea-9309-0242ac120004"
    }
   },
   "source": [
    "コンテナを起動してみます。"
   ]
  },
  {
   "cell_type": "code",
   "execution_count": null,
   "metadata": {
    "lc_cell_meme": {
     "current": "252a0676-49eb-11e9-91dd-0242ac120002",
     "history": [
      {
       "current": "252a0676-49eb-11e9-91dd-0242ac120002",
       "next": "252a0a04-49eb-11e9-91dd-0242ac120002",
       "previous": "dda2d616-49ea-11e9-91dd-0242ac120002"
      },
      {
       "current": "252a0676-49eb-11e9-91dd-0242ac120002",
       "next": "1ec87784-49f2-11e9-8353-0242ac120002",
       "previous": "dda2d616-49ea-11e9-91dd-0242ac120002"
      },
      {
       "current": "252a0676-49eb-11e9-91dd-0242ac120002",
       "next": "1ec87784-49f2-11e9-8353-0242ac120002",
       "previous": "3ce38186-49f3-11e9-8353-0242ac120002"
      },
      {
       "current": "252a0676-49eb-11e9-91dd-0242ac120002",
       "next": "1ec87784-49f2-11e9-8353-0242ac120002",
       "previous": "6e0bf8be-0cf4-11ea-9309-0242ac120004"
      }
     ],
     "next": "1ec87784-49f2-11e9-8353-0242ac120002",
     "previous": "3ce38186-49f3-11e9-8353-0242ac120002"
    },
    "pinned_outputs": [
     {
      "execution_count": 16,
      "outputs": [
       {
        "name": "stdout",
        "output_type": "stream",
        "text": "[ssh] host = user1-target, cwd = /home/user1\n872823e9df5b9e73fcf4aad3722d1b6916cc30b7abec457c275a5e5f2d68d155\n"
       }
      ]
     }
    ]
   },
   "outputs": [],
   "source": [
    "sudo docker run -d -p 80:80 --name fh friendlyhello"
   ]
  },
  {
   "cell_type": "markdown",
   "metadata": {
    "lc_cell_meme": {
     "current": "1ec87784-49f2-11e9-8353-0242ac120002",
     "history": [
      {
       "current": "1ec87784-49f2-11e9-8353-0242ac120002",
       "next": "252a0a04-49eb-11e9-91dd-0242ac120002",
       "previous": "252a0676-49eb-11e9-91dd-0242ac120002"
      },
      {
       "current": "1ec87784-49f2-11e9-8353-0242ac120002",
       "next": "6e0bf24c-0cf4-11ea-9309-0242ac120004",
       "previous": "252a0676-49eb-11e9-91dd-0242ac120002"
      }
     ],
     "next": "1ec87784-49f2-11e9-8353-0242ac120002",
     "previous": "252a0676-49eb-11e9-91dd-0242ac120002"
    }
   },
   "source": [
    "仮想マシン起動時のログでEXTERNAL_IPを確認し、webブラウザで\n",
    "\n",
    "http://EXTERNAL_IP\n",
    "\n",
    "を確認してみましょう。"
   ]
  },
  {
   "cell_type": "markdown",
   "metadata": {
    "lc_cell_meme": {
     "current": "1ec87784-49f2-11e9-8353-0242ac120002",
     "history": [
      {
       "current": "1ec87784-49f2-11e9-8353-0242ac120002",
       "next": "252a0a04-49eb-11e9-91dd-0242ac120002",
       "previous": "252a0676-49eb-11e9-91dd-0242ac120002"
      },
      {
       "current": "1ec87784-49f2-11e9-8353-0242ac120002",
       "next": "252a0a04-49eb-11e9-91dd-0242ac120002",
       "previous": "6e0bf8be-0cf4-11ea-9309-0242ac120004"
      }
     ],
     "next": "252a0a04-49eb-11e9-91dd-0242ac120002",
     "previous": "1ec87784-49f2-11e9-8353-0242ac120002"
    }
   },
   "source": [
    "コンテナが動いているのが確認できたら、コンテナを捨てます。"
   ]
  },
  {
   "cell_type": "code",
   "execution_count": null,
   "metadata": {
    "lc_cell_meme": {
     "current": "252a0a04-49eb-11e9-91dd-0242ac120002",
     "history": [
      {
       "current": "252a0a04-49eb-11e9-91dd-0242ac120002",
       "next": null,
       "previous": "252a0676-49eb-11e9-91dd-0242ac120002"
      },
      {
       "current": "252a0a04-49eb-11e9-91dd-0242ac120002",
       "next": "6c34e658-49eb-11e9-91dd-0242ac120002",
       "previous": "252a0676-49eb-11e9-91dd-0242ac120002"
      }
     ],
     "next": "6c34e658-49eb-11e9-91dd-0242ac120002",
     "previous": "1ec87784-49f2-11e9-8353-0242ac120002"
    },
    "pinned_outputs": [
     {
      "execution_count": 17,
      "outputs": [
       {
        "name": "stdout",
        "output_type": "stream",
        "text": "[ssh] host = user1-target, cwd = /home/user1\nCONTAINER ID        IMAGE               COMMAND             CREATED             STATUS              PORTS                NAMES\n872823e9df5b        friendlyhello       \"python app.py\"     41 seconds ago      Up 40 seconds       0.0.0.0:80->80/tcp   fh\n"
       }
      ]
     }
    ]
   },
   "outputs": [],
   "source": [
    "sudo docker container ls"
   ]
  },
  {
   "cell_type": "code",
   "execution_count": null,
   "metadata": {
    "lc_cell_meme": {
     "current": "6c34e658-49eb-11e9-91dd-0242ac120002",
     "history": [
      {
       "current": "6c34e658-49eb-11e9-91dd-0242ac120002",
       "next": null,
       "previous": "252a0a04-49eb-11e9-91dd-0242ac120002"
      },
      {
       "current": "6c34e658-49eb-11e9-91dd-0242ac120002",
       "next": "b437e9f0-49eb-11e9-91dd-0242ac120002",
       "previous": "252a0a04-49eb-11e9-91dd-0242ac120002"
      }
     ],
     "next": "84691674-49f3-11e9-8353-0242ac120002",
     "previous": "252a0a04-49eb-11e9-91dd-0242ac120002"
    },
    "pinned_outputs": [
     {
      "execution_count": 18,
      "outputs": [
       {
        "name": "stdout",
        "output_type": "stream",
        "text": "[ssh] host = user1-target, cwd = /home/user1\nfh\n"
       }
      ]
     }
    ]
   },
   "outputs": [],
   "source": [
    "sudo docker container stop fh"
   ]
  },
  {
   "cell_type": "code",
   "execution_count": null,
   "metadata": {
    "lc_cell_meme": {
     "current": "84691674-49f3-11e9-8353-0242ac120002",
     "next": "84691a0c-49f3-11e9-8353-0242ac120002",
     "previous": "6c34e658-49eb-11e9-91dd-0242ac120002"
    },
    "pinned_outputs": [
     {
      "execution_count": 19,
      "outputs": [
       {
        "name": "stdout",
        "output_type": "stream",
        "text": "[ssh] host = user1-target, cwd = /home/user1\nfh\n"
       }
      ]
     }
    ]
   },
   "outputs": [],
   "source": [
    "sudo docker container rm fh"
   ]
  },
  {
   "cell_type": "code",
   "execution_count": null,
   "metadata": {
    "lc_cell_meme": {
     "current": "84691a0c-49f3-11e9-8353-0242ac120002",
     "history": [
      {
       "current": "84691a0c-49f3-11e9-8353-0242ac120002",
       "next": "b437e9f0-49eb-11e9-91dd-0242ac120002",
       "previous": "84691674-49f3-11e9-8353-0242ac120002"
      }
     ],
     "next": "6e0bf24c-0cf4-11ea-9309-0242ac120004",
     "previous": "84691674-49f3-11e9-8353-0242ac120002"
    },
    "pinned_outputs": [
     {
      "execution_count": 20,
      "outputs": [
       {
        "name": "stdout",
        "output_type": "stream",
        "text": "[ssh] host = user1-target, cwd = /home/user1\nCONTAINER ID        IMAGE               COMMAND             CREATED             STATUS              PORTS               NAMES\n"
       }
      ]
     }
    ]
   },
   "outputs": [],
   "source": [
    "sudo docker container ls"
   ]
  },
  {
   "cell_type": "markdown",
   "metadata": {
    "lc_cell_meme": {
     "current": "6e0bf24c-0cf4-11ea-9309-0242ac120004",
     "history": [
      {
       "current": "6e0bf24c-0cf4-11ea-9309-0242ac120004",
       "next": "6e0bf6fc-0cf4-11ea-9309-0242ac120004",
       "previous": "1ec87784-49f2-11e9-8353-0242ac120002"
      },
      {
       "current": "6e0bf24c-0cf4-11ea-9309-0242ac120004",
       "next": "6e0bf6fc-0cf4-11ea-9309-0242ac120004",
       "previous": "d1d4d4f4-49ec-11e9-91dd-0242ac120002"
      }
     ],
     "next": "6e0bf6fc-0cf4-11ea-9309-0242ac120004",
     "previous": "84691a0c-49f3-11e9-8353-0242ac120002"
    }
   },
   "source": [
    "※セッションのリセット"
   ]
  },
  {
   "cell_type": "code",
   "execution_count": null,
   "metadata": {
    "lc_cell_meme": {
     "current": "6e0bf6fc-0cf4-11ea-9309-0242ac120004",
     "next": "6e0bf8be-0cf4-11ea-9309-0242ac120004",
     "previous": "6e0bf24c-0cf4-11ea-9309-0242ac120004"
    }
   },
   "outputs": [],
   "source": [
    "%logout"
   ]
  },
  {
   "cell_type": "code",
   "execution_count": null,
   "metadata": {
    "lc_cell_meme": {
     "current": "6e0bf8be-0cf4-11ea-9309-0242ac120004",
     "history": [
      {
       "current": "6e0bf8be-0cf4-11ea-9309-0242ac120004",
       "next": "1ec87784-49f2-11e9-8353-0242ac120002",
       "previous": "6e0bf6fc-0cf4-11ea-9309-0242ac120004"
      },
      {
       "current": "6e0bf8be-0cf4-11ea-9309-0242ac120004",
       "next": "d1d4d4f4-49ec-11e9-91dd-0242ac120002",
       "previous": "6e0bf6fc-0cf4-11ea-9309-0242ac120004"
      }
     ],
     "next": "b437e9f0-49eb-11e9-91dd-0242ac120002",
     "previous": "6e0bf6fc-0cf4-11ea-9309-0242ac120004"
    }
   },
   "outputs": [],
   "source": [
    "%login {TARGET}"
   ]
  },
  {
   "cell_type": "markdown",
   "metadata": {
    "lc_cell_meme": {
     "current": "b437e9f0-49eb-11e9-91dd-0242ac120002",
     "history": [
      {
       "current": "b437e9f0-49eb-11e9-91dd-0242ac120002",
       "next": null,
       "previous": "6c34e658-49eb-11e9-91dd-0242ac120002"
      },
      {
       "current": "b437e9f0-49eb-11e9-91dd-0242ac120002",
       "next": "4356e94c-49ec-11e9-91dd-0242ac120002",
       "previous": "6c34e658-49eb-11e9-91dd-0242ac120002"
      },
      {
       "current": "b437e9f0-49eb-11e9-91dd-0242ac120002",
       "next": "4356e94c-49ec-11e9-91dd-0242ac120002",
       "previous": "84691a0c-49f3-11e9-8353-0242ac120002"
      }
     ],
     "next": "4356e94c-49ec-11e9-91dd-0242ac120002",
     "previous": "6e0bf8be-0cf4-11ea-9309-0242ac120004"
    }
   },
   "source": [
    "作成したコンテナイメージをdocker hubに上げてみます。\n",
    "\n",
    "一応、パスワードに配慮して、Jupyterのターミナルからssh接続の後、\n",
    "\n",
    "sudo docker login\n",
    "\n",
    "します。\n",
    "\n",
    "コンテナイメージの名前を、docker hubに合わせて、追加します。"
   ]
  },
  {
   "cell_type": "code",
   "execution_count": null,
   "metadata": {
    "lc_cell_meme": {
     "current": "4356e94c-49ec-11e9-91dd-0242ac120002",
     "history": [
      {
       "current": "4356e94c-49ec-11e9-91dd-0242ac120002",
       "next": null,
       "previous": "b437e9f0-49eb-11e9-91dd-0242ac120002"
      }
     ],
     "next": "8a4d8aa4-49ec-11e9-91dd-0242ac120002",
     "previous": "b437e9f0-49eb-11e9-91dd-0242ac120002"
    },
    "pinned_outputs": [
     {
      "execution_count": 23,
      "outputs": [
       {
        "name": "stdout",
        "output_type": "stream",
        "text": "[ssh] host = user1-target, cwd = /home/user1\n"
       }
      ]
     }
    ]
   },
   "outputs": [],
   "source": [
    "sudo docker tag friendlyhello mnagaku/get-started:part1"
   ]
  },
  {
   "cell_type": "code",
   "execution_count": null,
   "metadata": {
    "lc_cell_meme": {
     "current": "8a4d8aa4-49ec-11e9-91dd-0242ac120002",
     "history": [
      {
       "current": "8a4d8aa4-49ec-11e9-91dd-0242ac120002",
       "next": "8a4d8e46-49ec-11e9-91dd-0242ac120002",
       "previous": "4356e94c-49ec-11e9-91dd-0242ac120002"
      }
     ],
     "next": "cbefe176-49f3-11e9-8353-0242ac120002",
     "previous": "4356e94c-49ec-11e9-91dd-0242ac120002"
    },
    "pinned_outputs": [
     {
      "execution_count": 24,
      "outputs": [
       {
        "name": "stdout",
        "output_type": "stream",
        "text": "[ssh] host = user1-target, cwd = /home/user1\nREPOSITORY            TAG                 IMAGE ID            CREATED              SIZE\nfriendlyhello         latest              3f6f2f94e100        About a minute ago   148 MB\nmnagaku/get-started   part1               3f6f2f94e100        About a minute ago   148 MB\ndocker.io/python      2.7-slim            ea85a3a4491c        7 days ago           137 MB\n"
       }
      ]
     }
    ]
   },
   "outputs": [],
   "source": [
    "sudo docker image ls"
   ]
  },
  {
   "cell_type": "markdown",
   "metadata": {
    "lc_cell_meme": {
     "current": "cbefe176-49f3-11e9-8353-0242ac120002",
     "next": "8a4d8e46-49ec-11e9-91dd-0242ac120002",
     "previous": "8a4d8aa4-49ec-11e9-91dd-0242ac120002"
    }
   },
   "source": [
    "docker hubにpushします。"
   ]
  },
  {
   "cell_type": "code",
   "execution_count": null,
   "metadata": {
    "lc_cell_meme": {
     "current": "8a4d8e46-49ec-11e9-91dd-0242ac120002",
     "history": [
      {
       "current": "8a4d8e46-49ec-11e9-91dd-0242ac120002",
       "next": null,
       "previous": "8a4d8aa4-49ec-11e9-91dd-0242ac120002"
      },
      {
       "current": "8a4d8e46-49ec-11e9-91dd-0242ac120002",
       "next": "d1d4d4f4-49ec-11e9-91dd-0242ac120002",
       "previous": "8a4d8aa4-49ec-11e9-91dd-0242ac120002"
      }
     ],
     "next": "d1d4d4f4-49ec-11e9-91dd-0242ac120002",
     "previous": "cbefe176-49f3-11e9-8353-0242ac120002"
    },
    "pinned_outputs": [
     {
      "execution_count": 26,
      "outputs": [
       {
        "name": "stdout",
        "output_type": "stream",
        "text": "[ssh] host = user1-target, cwd = /home/user1\nThe push refers to a repository [docker.io/mnagaku/get-started]\nb065c389de90: Preparing\nb50a521dd655: Preparing\nf5c848e2f13e: Preparing\nc9a68a92e2f7: Preparing\n9136b4189759: Preparing\nbb8510b5f598: Preparing\nb67d19e65ef6: Preparing\nbb8510b5f598: Waiting\nb67d19e65ef6: Waiting\nf5c848e2f13e: Pushed\nb50a521dd655: Pushed\nc9a68a92e2f7: Pushed\nb065c389de90: Pushed\nbb8510b5f598: Pushed\n9136b4189759: Pushed\nb67d19e65ef6: Pushed\npart1: digest: sha256:5fe1e0acdd3ff925cd261a3a9f31a18f8e40476a0e923548307502eada302ab0 size: 1789\n"
       }
      ]
     }
    ]
   },
   "outputs": [],
   "source": [
    "sudo docker push mnagaku/get-started:part1"
   ]
  },
  {
   "cell_type": "markdown",
   "metadata": {
    "lc_cell_meme": {
     "current": "d1d4d4f4-49ec-11e9-91dd-0242ac120002",
     "history": [
      {
       "current": "d1d4d4f4-49ec-11e9-91dd-0242ac120002",
       "next": null,
       "previous": "8a4d8e46-49ec-11e9-91dd-0242ac120002"
      },
      {
       "current": "d1d4d4f4-49ec-11e9-91dd-0242ac120002",
       "next": "13761c36-49f4-11e9-8353-0242ac120002",
       "previous": "8a4d8e46-49ec-11e9-91dd-0242ac120002"
      }
     ],
     "next": "6e0bf24c-0cf4-11ea-9309-0242ac120004",
     "previous": "8a4d8e46-49ec-11e9-91dd-0242ac120002"
    }
   },
   "source": [
    "https://hub.docker.com/ でpushできていることを確認しましょう。"
   ]
  },
  {
   "cell_type": "markdown",
   "metadata": {
    "lc_cell_meme": {
     "current": "6e0bf24c-0cf4-11ea-9309-0242ac120004",
     "history": [
      {
       "current": "6e0bf24c-0cf4-11ea-9309-0242ac120004",
       "next": "6e0bf6fc-0cf4-11ea-9309-0242ac120004",
       "previous": "1ec87784-49f2-11e9-8353-0242ac120002"
      }
     ],
     "next": "6e0bf6fc-0cf4-11ea-9309-0242ac120004",
     "previous": "d1d4d4f4-49ec-11e9-91dd-0242ac120002"
    }
   },
   "source": [
    "※セッションのリセット"
   ]
  },
  {
   "cell_type": "code",
   "execution_count": null,
   "metadata": {
    "lc_cell_meme": {
     "current": "6e0bf6fc-0cf4-11ea-9309-0242ac120004",
     "next": "6e0bf8be-0cf4-11ea-9309-0242ac120004",
     "previous": "6e0bf24c-0cf4-11ea-9309-0242ac120004"
    }
   },
   "outputs": [],
   "source": [
    "%logout"
   ]
  },
  {
   "cell_type": "code",
   "execution_count": null,
   "metadata": {
    "lc_cell_meme": {
     "current": "6e0bf8be-0cf4-11ea-9309-0242ac120004",
     "history": [
      {
       "current": "6e0bf8be-0cf4-11ea-9309-0242ac120004",
       "next": "1ec87784-49f2-11e9-8353-0242ac120002",
       "previous": "6e0bf6fc-0cf4-11ea-9309-0242ac120004"
      }
     ],
     "next": "d1d4d4f4-49ec-11e9-91dd-0242ac120002",
     "previous": "6e0bf6fc-0cf4-11ea-9309-0242ac120004"
    }
   },
   "outputs": [],
   "source": [
    "%login {TARGET}"
   ]
  },
  {
   "cell_type": "markdown",
   "metadata": {
    "lc_cell_meme": {
     "current": "d1d4d4f4-49ec-11e9-91dd-0242ac120002",
     "history": [
      {
       "current": "d1d4d4f4-49ec-11e9-91dd-0242ac120002",
       "next": null,
       "previous": "8a4d8e46-49ec-11e9-91dd-0242ac120002"
      },
      {
       "current": "d1d4d4f4-49ec-11e9-91dd-0242ac120002",
       "next": "13761c36-49f4-11e9-8353-0242ac120002",
       "previous": "8a4d8e46-49ec-11e9-91dd-0242ac120002"
      }
     ],
     "next": "13761c36-49f4-11e9-8353-0242ac120002",
     "previous": "6e0bf8be-0cf4-11ea-9309-0242ac120004"
    }
   },
   "source": [
    "ローカルのイメージを捨ててから、pullして動くことを確認してみましょう。"
   ]
  },
  {
   "cell_type": "code",
   "execution_count": null,
   "metadata": {
    "lc_cell_meme": {
     "current": "13761c36-49f4-11e9-8353-0242ac120002",
     "history": [
      {
       "current": "13761c36-49f4-11e9-8353-0242ac120002",
       "next": null,
       "previous": "d1d4d4f4-49ec-11e9-91dd-0242ac120002"
      }
     ],
     "next": "a2841bf8-49f4-11e9-8353-0242ac120002",
     "previous": "d1d4d4f4-49ec-11e9-91dd-0242ac120002"
    },
    "pinned_outputs": [
     {
      "execution_count": 29,
      "outputs": [
       {
        "name": "stdout",
        "output_type": "stream",
        "text": "[ssh] host = user1-target, cwd = /home/user1\nUntagged: friendlyhello:latest\nUntagged: mnagaku/get-started@sha256:5fe1e0acdd3ff925cd261a3a9f31a18f8e40476a0e923548307502eada302ab0\nUntagged: mnagaku/get-started:part1\nDeleted: sha256:3f6f2f94e10043fcce90469a915a851c40f41113e3b979a624fb494f559cf260\nDeleted: sha256:3464d0b05c374a3c65219ae142e5d582b18464d37e54a736e4fa6dd2d8d06f45\nDeleted: sha256:74a22f5da528b3225f25b8b887dba6682bc7f80262b4e77adf14c8aedb56cb55\nDeleted: sha256:ddd79041716c244cfe70490ec0fd220977327ecda871f77056173bef3a490576\nDeleted: sha256:23a2939c8c571824d46291386e5f955b1c03e3d244a64f8c1210fbc6cd12ccf7\nDeleted: sha256:662bead0763a01881d77ddb4e971998fa08c8f40f29316c32d5b3ddcfae77387\nDeleted: sha256:713a50f4c914783da09c2f5e10faf18f4965d4b2d2f79f3313a607aa7f01d180\nDeleted: sha256:398b66ea392362c7c4065cc32989adbc4269a7c8a6e7b088b7e59218f61ccdd1\nDeleted: sha256:b98e776ae42075800380c225f3b55b0b60228fc3e7f0850db90a1e80d14f01d2\n"
       }
      ]
     }
    ]
   },
   "outputs": [],
   "source": [
    "sudo docker image rm friendlyhello mnagaku/get-started:part1"
   ]
  },
  {
   "cell_type": "code",
   "execution_count": null,
   "metadata": {
    "lc_cell_meme": {
     "current": "a2841bf8-49f4-11e9-8353-0242ac120002",
     "history": [
      {
       "current": "a2841bf8-49f4-11e9-8353-0242ac120002",
       "next": null,
       "previous": "13761c36-49f4-11e9-8353-0242ac120002"
      },
      {
       "current": "a2841bf8-49f4-11e9-8353-0242ac120002",
       "next": "bbf962a0-49f4-11e9-8353-0242ac120002",
       "previous": "13761c36-49f4-11e9-8353-0242ac120002"
      }
     ],
     "next": "252a0a04-49eb-11e9-91dd-0242ac120002",
     "previous": "13761c36-49f4-11e9-8353-0242ac120002"
    },
    "pinned_outputs": [
     {
      "execution_count": 30,
      "outputs": [
       {
        "name": "stdout",
        "output_type": "stream",
        "text": "[ssh] host = user1-target, cwd = /home/user1\nUnable to find image 'mnagaku/get-started:part1' locally\nTrying to pull repository docker.io/mnagaku/get-started ... \npart1: Pulling from docker.io/mnagaku/get-started\n8d691f585fa8: Already exists\n3fd6980f9df6: Already exists\n53d750196b33: Already exists\n5a1ef03724f3: Already exists\nb7fa4bff13e6: Pulling fs layer\n22f44980082e: Pulling fs layer\n0528421e82dc: Pulling fs layer\n22f44980082e: Verifying Checksum\n22f44980082e: Download complete\nb7fa4bff13e6: Verifying Checksum\nb7fa4bff13e6: Download complete\n0528421e82dc: Verifying Checksum\n0528421e82dc: Download complete\nb7fa4bff13e6: Pull complete\n22f44980082e: Pull complete\n0528421e82dc: Pull complete\nDigest: sha256:5fe1e0acdd3ff925cd261a3a9f31a18f8e40476a0e923548307502eada302ab0\nStatus: Downloaded newer image for docker.io/mnagaku/get-started:part1\nc03cbb1cc074ab58ca69b74239820702866c8b79aef97550bc55fdf5e9227d2e\n"
       }
      ]
     }
    ]
   },
   "outputs": [],
   "source": [
    "sudo docker run -d -p 80:80 --name getstarted mnagaku/get-started:part1"
   ]
  },
  {
   "cell_type": "code",
   "execution_count": null,
   "metadata": {
    "lc_cell_meme": {
     "current": "252a0a04-49eb-11e9-91dd-0242ac120002",
     "history": [
      {
       "current": "252a0a04-49eb-11e9-91dd-0242ac120002",
       "next": null,
       "previous": "252a0676-49eb-11e9-91dd-0242ac120002"
      },
      {
       "current": "252a0a04-49eb-11e9-91dd-0242ac120002",
       "next": "6c34e658-49eb-11e9-91dd-0242ac120002",
       "previous": "252a0676-49eb-11e9-91dd-0242ac120002"
      },
      {
       "current": "252a0a04-49eb-11e9-91dd-0242ac120002",
       "next": "6c34e658-49eb-11e9-91dd-0242ac120002",
       "previous": "1ec87784-49f2-11e9-8353-0242ac120002"
      },
      {
       "current": "252a0a04-49eb-11e9-91dd-0242ac120002",
       "next": "6c34e658-49eb-11e9-91dd-0242ac120002",
       "previous": "bbf962a0-49f4-11e9-8353-0242ac120002"
      },
      {
       "current": "252a0a04-49eb-11e9-91dd-0242ac120002",
       "next": "6c34e658-49eb-11e9-91dd-0242ac120002",
       "previous": "a2841bf8-49f4-11e9-8353-0242ac120002"
      }
     ],
     "next": "ea4e701e-0d03-11ea-9309-0242ac120004",
     "previous": "a2841bf8-49f4-11e9-8353-0242ac120002"
    },
    "pinned_outputs": [
     {
      "execution_count": 31,
      "outputs": [
       {
        "name": "stdout",
        "output_type": "stream",
        "text": "[ssh] host = user1-target, cwd = /home/user1\nCONTAINER ID        IMAGE                       COMMAND             CREATED             STATUS              PORTS                NAMES\nc03cbb1cc074        mnagaku/get-started:part1   \"python app.py\"     3 seconds ago       Up 2 seconds        0.0.0.0:80->80/tcp   getstarted\n"
       }
      ]
     }
    ]
   },
   "outputs": [],
   "source": [
    "sudo docker container ls"
   ]
  },
  {
   "cell_type": "markdown",
   "metadata": {
    "lc_cell_meme": {
     "current": "ea4e701e-0d03-11ea-9309-0242ac120004",
     "next": "6c34e658-49eb-11e9-91dd-0242ac120002",
     "previous": "252a0a04-49eb-11e9-91dd-0242ac120002"
    }
   },
   "source": [
    "仮想マシン起動時のログでEXTERNAL_IPを確認し、webブラウザで\n",
    "\n",
    "http://EXTERNAL_IP\n",
    "\n",
    "を確認してみましょう。\n",
    "\n",
    "コンテナが動いているのが確認できたら、コンテナを捨てます。"
   ]
  },
  {
   "cell_type": "code",
   "execution_count": null,
   "metadata": {
    "lc_cell_meme": {
     "current": "6c34e658-49eb-11e9-91dd-0242ac120002",
     "history": [
      {
       "current": "6c34e658-49eb-11e9-91dd-0242ac120002",
       "next": null,
       "previous": "252a0a04-49eb-11e9-91dd-0242ac120002"
      },
      {
       "current": "6c34e658-49eb-11e9-91dd-0242ac120002",
       "next": "b437e9f0-49eb-11e9-91dd-0242ac120002",
       "previous": "252a0a04-49eb-11e9-91dd-0242ac120002"
      },
      {
       "current": "6c34e658-49eb-11e9-91dd-0242ac120002",
       "next": "84691674-49f3-11e9-8353-0242ac120002",
       "previous": "252a0a04-49eb-11e9-91dd-0242ac120002"
      }
     ],
     "next": "84691674-49f3-11e9-8353-0242ac120002",
     "previous": "ea4e701e-0d03-11ea-9309-0242ac120004"
    },
    "pinned_outputs": [
     {
      "execution_count": 32,
      "outputs": [
       {
        "name": "stdout",
        "output_type": "stream",
        "text": "[ssh] host = user1-target, cwd = /home/user1\ngetstarted\n"
       }
      ]
     }
    ]
   },
   "outputs": [],
   "source": [
    "sudo docker container stop getstarted"
   ]
  },
  {
   "cell_type": "code",
   "execution_count": null,
   "metadata": {
    "lc_cell_meme": {
     "current": "84691674-49f3-11e9-8353-0242ac120002",
     "next": "84691a0c-49f3-11e9-8353-0242ac120002",
     "previous": "6c34e658-49eb-11e9-91dd-0242ac120002"
    },
    "pinned_outputs": [
     {
      "execution_count": 33,
      "outputs": [
       {
        "name": "stdout",
        "output_type": "stream",
        "text": "[ssh] host = user1-target, cwd = /home/user1\ngetstarted\n"
       }
      ]
     }
    ]
   },
   "outputs": [],
   "source": [
    "sudo docker container rm getstarted"
   ]
  },
  {
   "cell_type": "code",
   "execution_count": null,
   "metadata": {
    "lc_cell_meme": {
     "current": "84691a0c-49f3-11e9-8353-0242ac120002",
     "history": [
      {
       "current": "84691a0c-49f3-11e9-8353-0242ac120002",
       "next": null,
       "previous": "84691674-49f3-11e9-8353-0242ac120002"
      }
     ],
     "next": "61c40190-4a09-11e9-9bd0-0242ac120002",
     "previous": "84691674-49f3-11e9-8353-0242ac120002"
    },
    "pinned_outputs": [
     {
      "execution_count": 34,
      "outputs": [
       {
        "name": "stdout",
        "output_type": "stream",
        "text": "[ssh] host = user1-target, cwd = /home/user1\nCONTAINER ID        IMAGE               COMMAND             CREATED             STATUS              PORTS               NAMES\n"
       }
      ]
     }
    ]
   },
   "outputs": [],
   "source": [
    "sudo docker container ls"
   ]
  },
  {
   "cell_type": "code",
   "execution_count": null,
   "metadata": {
    "lc_cell_meme": {
     "current": "61c40190-4a09-11e9-9bd0-0242ac120002",
     "next": null,
     "previous": "84691a0c-49f3-11e9-8353-0242ac120002"
    }
   },
   "outputs": [],
   "source": []
  }
 ],
 "metadata": {
  "kernelspec": {
   "display_name": "SSH",
   "language": "bash",
   "name": "ssh"
  },
  "language_info": {
   "codemirror_mode": "shell",
   "file_extension": ".sh",
   "mimetype": "text/x-sh",
   "name": "ssh"
  },
  "lc_notebook_meme": {
   "current": "813e21de-49e8-11e9-91dd-0242ac120002",
   "lc_server_signature": {
    "current": {
     "notebook_dir": "/home/user1/notebooks",
     "notebook_path": "/docker-handson/dockerfile-demo",
     "server_url": "https://operationhub.kgr-lab.com/user/user1/",
     "signature_id": "ae27fcb2-043f-11ea-b29c-0242ac120002"
    },
    "history": [
     {
      "notebook_dir": "/home/jovyan",
      "notebook_path": "/docker-handson",
      "server_url": "http://localhost:8888/",
      "signature_id": "8241fd1c-49de-11e9-91dd-0242ac120002"
     },
     {
      "notebook_dir": "/home/jovyan",
      "notebook_path": "/docker-handson/dockerfile-demo",
      "server_url": "http://localhost:8888/",
      "signature_id": "8241fd1c-49de-11e9-91dd-0242ac120002"
     },
     {
      "notebook_dir": "/home/jovyan",
      "notebook_path": "/docker-handson/dockerfile-demo",
      "server_url": "http://localhost:8888/",
      "signature_id": "31eff266-49f1-11e9-8353-0242ac120002"
     },
     {
      "notebook_dir": "/home/jovyan",
      "notebook_path": "/docker-handson/dockerfile-demo",
      "server_url": "http://localhost:8888/",
      "signature_id": "e181c450-4a07-11e9-9bd0-0242ac120002"
     }
    ]
   }
  },
  "toc": {
   "base_numbering": 1,
   "nav_menu": {},
   "number_sections": true,
   "sideBar": true,
   "skip_h1_title": false,
   "title_cell": "Table of Contents",
   "title_sidebar": "Contents",
   "toc_cell": false,
   "toc_position": {},
   "toc_section_display": true,
   "toc_window_display": true
  }
 },
 "nbformat": 4,
 "nbformat_minor": 2
}
