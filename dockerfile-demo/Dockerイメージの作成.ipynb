{
 "cells": [
  {
   "cell_type": "markdown",
   "metadata": {
    "lc_cell_meme": {
     "current": "da1bb186-1a4d-11eb-b030-0242ac140004",
     "next": "813e2468-49e8-11e9-91dd-0242ac120002-1-38bb",
     "previous": null
    }
   },
   "source": [
    "# Dockerイメージの作成"
   ]
  },
  {
   "cell_type": "markdown",
   "metadata": {
    "lc_cell_meme": {
     "current": "813e2468-49e8-11e9-91dd-0242ac120002-1-38bb",
     "history": [
      {
       "current": "813e2468-49e8-11e9-91dd-0242ac120002",
       "next": null,
       "previous": null
      },
      {
       "current": "813e2468-49e8-11e9-91dd-0242ac120002",
       "next": "4e97efd8-49ea-11e9-91dd-0242ac120002",
       "previous": null
      },
      {
       "current": "813e2468-49e8-11e9-91dd-0242ac120002",
       "next": "88dd59be-0cf2-11ea-9309-0242ac120004",
       "previous": null
      },
      {
       "current": "813e2468-49e8-11e9-91dd-0242ac120002-1-38bb",
       "next": "35af7ff0-0cfd-11ea-9309-0242ac120004",
       "previous": null
      },
      {
       "current": "813e2468-49e8-11e9-91dd-0242ac120002-1-38bb",
       "next": "35af7ff0-0cfd-11ea-9309-0242ac120004-1-8c13",
       "previous": null
      }
     ],
     "next": "35af7ff0-0cfd-11ea-9309-0242ac120004-1-8c13",
     "previous": "da1bb186-1a4d-11eb-b030-0242ac140004"
    }
   },
   "source": [
    "## sshでログイン"
   ]
  },
  {
   "cell_type": "code",
   "execution_count": null,
   "metadata": {
    "lc_cell_meme": {
     "current": "35af7ff0-0cfd-11ea-9309-0242ac120004-1-8c13",
     "history": [
      {
       "current": "35af7ff0-0cfd-11ea-9309-0242ac120004-1-8c13",
       "next": "88dd59be-0cf2-11ea-9309-0242ac120004",
       "previous": "813e2468-49e8-11e9-91dd-0242ac120002"
      }
     ],
     "next": "88dd59be-0cf2-11ea-9309-0242ac120004-1-697f",
     "previous": "813e2468-49e8-11e9-91dd-0242ac120002-1-38bb"
    },
    "pinned_outputs": [
     {
      "execution_count": 1,
      "outputs": [
       {
        "name": "stdout",
        "output_type": "stream",
        "text": "[ssh] Login to target...\n[ssh] host=target hostname=172.31.63.5 other_conf={'user': 'centos', 'port': 22, 'keyfile': ['/home/nagaku/notebooks/docker-handson/nagaku.pem'], 'load_system_ssh_config': False, 'missing_host_policy': <paramiko.client.WarningPolicy object at 0x7f06f0840610>}\n[ssh] Successfully logged in.\n"
       }
      ]
     }
    ]
   },
   "outputs": [],
   "source": [
    "%login target"
   ]
  },
  {
   "cell_type": "code",
   "execution_count": null,
   "metadata": {
    "lc_cell_meme": {
     "current": "88dd59be-0cf2-11ea-9309-0242ac120004-1-697f",
     "history": [
      {
       "current": "88dd59be-0cf2-11ea-9309-0242ac120004",
       "next": "4e97efd8-49ea-11e9-91dd-0242ac120002",
       "previous": "813e2468-49e8-11e9-91dd-0242ac120002"
      },
      {
       "current": "88dd59be-0cf2-11ea-9309-0242ac120004",
       "next": "fd15a654-0cf4-11ea-9309-0242ac120004",
       "previous": "813e2468-49e8-11e9-91dd-0242ac120002"
      },
      {
       "current": "88dd59be-0cf2-11ea-9309-0242ac120004-1-697f",
       "next": "fd15a654-0cf4-11ea-9309-0242ac120004",
       "previous": "35af7ff0-0cfd-11ea-9309-0242ac120004"
      }
     ],
     "next": "fd15a654-0cf4-11ea-9309-0242ac120004-1-92ad",
     "previous": "35af7ff0-0cfd-11ea-9309-0242ac120004-1-8c13"
    },
    "pinned_outputs": [
     {
      "execution_count": 2,
      "outputs": [
       {
        "name": "stdout",
        "output_type": "stream",
        "text": "[ssh] host = target, cwd = /home/centos\n/home/centos\n"
       }
      ]
     }
    ]
   },
   "outputs": [],
   "source": [
    "pwd"
   ]
  },
  {
   "cell_type": "markdown",
   "metadata": {
    "lc_cell_meme": {
     "current": "fd15a654-0cf4-11ea-9309-0242ac120004-1-92ad",
     "history": [
      {
       "current": "fd15a654-0cf4-11ea-9309-0242ac120004",
       "next": "fd15a8de-0cf4-11ea-9309-0242ac120004",
       "previous": "88dd59be-0cf2-11ea-9309-0242ac120004"
      },
      {
       "current": "fd15a654-0cf4-11ea-9309-0242ac120004-1-92ad",
       "next": "449a8a6c-0cf5-11ea-9309-0242ac120004",
       "previous": "88dd59be-0cf2-11ea-9309-0242ac120004"
      }
     ],
     "next": "449a8a6c-0cf5-11ea-9309-0242ac120004-1-1648",
     "previous": "88dd59be-0cf2-11ea-9309-0242ac120004-1-697f"
    }
   },
   "source": [
    "## 準備"
   ]
  },
  {
   "cell_type": "code",
   "execution_count": null,
   "metadata": {
    "lc_cell_meme": {
     "current": "449a8a6c-0cf5-11ea-9309-0242ac120004-1-1648",
     "history": [
      {
       "current": "449a8a6c-0cf5-11ea-9309-0242ac120004-1-1648",
       "next": "fd15a8de-0cf4-11ea-9309-0242ac120004",
       "previous": "fd15a654-0cf4-11ea-9309-0242ac120004"
      }
     ],
     "next": "fd15a8de-0cf4-11ea-9309-0242ac120004-1-ae5c",
     "previous": "fd15a654-0cf4-11ea-9309-0242ac120004-1-92ad"
    },
    "pinned_outputs": [
     {
      "execution_count": 3,
      "outputs": [
       {
        "name": "stdout",
        "output_type": "stream",
        "text": "[ssh] host = target, cwd = /home/centos\nLoaded plugins: fastestmirror\nLoading mirror speeds from cached hostfile\n * base: d36uatko69830t.cloudfront.net\n * extras: d36uatko69830t.cloudfront.net\n * updates: d36uatko69830t.cloudfront.net\nResolving Dependencies\n--> Running transaction check\n---> Package git.x86_64 0:1.8.3.1-23.el7_8 will be installed\n--> Processing Dependency: perl-Git = 1.8.3.1-23.el7_8 for package: git-1.8.3.1-23.el7_8.x86_64\n--> Processing Dependency: perl >= 5.008 for package: git-1.8.3.1-23.el7_8.x86_64\n--> Processing Dependency: perl(warnings) for package: git-1.8.3.1-23.el7_8.x86_64\n--> Processing Dependency: perl(vars) for package: git-1.8.3.1-23.el7_8.x86_64\n--> Processing Dependency: perl(strict) for package: git-1.8.3.1-23.el7_8.x86_64\n--> Processing Dependency: perl(lib) for package: git-1.8.3.1-23.el7_8.x86_64\n--> Processing Dependency: perl(Term::ReadKey) for package: git-1.8.3.1-23.el7_8.x86_64\n--> Processing Dependency: perl(Git) for package: git-1.8.3.1-23.el7_8.x86_64\n--> Processing Dependency: perl(Getopt::Long) for package: git-1.8.3.1-23.el7_8.x86_64\n--> Processing Dependency: perl(File::stat) for package: git-1.8.3.1-23.el7_8.x86_64\n--> Processing Dependency: perl(File::Temp) for package: git-1.8.3.1-23.el7_8.x86_64\n--> Processing Dependency: perl(File::Spec) for package: git-1.8.3.1-23.el7_8.x86_64\n--> Processing Dependency: perl(File::Path) for package: git-1.8.3.1-23.el7_8.x86_64\n--> Processing Dependency: perl(File::Find) for package: git-1.8.3.1-23.el7_8.x86_64\n--> Processing Dependency: perl(File::Copy) for package: git-1.8.3.1-23.el7_8.x86_64\n--> Processing Dependency: perl(File::Basename) for package: git-1.8.3.1-23.el7_8.x86_64\n--> Processing Dependency: perl(Exporter) for package: git-1.8.3.1-23.el7_8.x86_64\n--> Processing Dependency: perl(Error) for package: git-1.8.3.1-23.el7_8.x86_64\n--> Processing Dependency: /usr/bin/perl for package: git-1.8.3.1-23.el7_8.x86_64\n--> Running transaction check\n---> Package perl.x86_64 4:5.16.3-295.el7 will be installed\n--> Processing Dependency: perl-libs = 4:5.16.3-295.el7 for package: 4:perl-5.16.3-295.el7.x86_64\n--> Processing Dependency: perl(Socket) >= 1.3 for package: 4:perl-5.16.3-295.el7.x86_64\n--> Processing Dependency: perl(Scalar::Util) >= 1.10 for package: 4:perl-5.16.3-295.el7.x86_64\n--> Processing Dependency: perl-macros for package: 4:perl-5.16.3-295.el7.x86_64\n--> Processing Dependency: perl-libs for package: 4:perl-5.16.3-295.el7.x86_64\n--> Processing Dependency: perl(threads::shared) for package: 4:perl-5.16.3-295.el7.x86_64\n--> Processing Dependency: perl(threads) for package: 4:perl-5.16.3-295.el7.x86_64\n--> Processing Dependency: perl(constant) for package: 4:perl-5.16.3-295.el7.x86_64\n--> Processing Dependency: perl(Time::Local) for package: 4:perl-5.16.3-295.el7.x86_64\n--> Processing Dependency: perl(Time::HiRes) for package: 4:perl-5.16.3-295.el7.x86_64\n--> Processing Dependency: perl(Storable) for package: 4:perl-5.16.3-295.el7.x86_64\n--> Processing Dependency: perl(Socket) for package: 4:perl-5.16.3-295.el7.x86_64\n--> Processing Dependency: perl(Scalar::Util) for package: 4:perl-5.16.3-295.el7.x86_64\n--> Processing Dependency: perl(Pod::Simple::XHTML) for package: 4:perl-5.16.3-295.el7.x86_64\n--> Processing Dependency: perl(Pod::Simple::Search) for package: 4:perl-5.16.3-295.el7.x86_64\n--> Processing Dependency: perl(Filter::Util::Call) for package: 4:perl-5.16.3-295.el7.x86_64\n--> Processing Dependency: perl(Carp) for package: 4:perl-5.16.3-295.el7.x86_64\n--> Processing Dependency: libperl.so()(64bit) for package: 4:perl-5.16.3-295.el7.x86_64\n---> Package perl-Error.noarch 1:0.17020-2.el7 will be installed\n---> Package perl-Exporter.noarch 0:5.68-3.el7 will be installed\n---> Package perl-File-Path.noarch 0:2.09-2.el7 will be installed\n---> Package perl-File-Temp.noarch 0:0.23.01-3.el7 will be installed\n---> Package perl-Getopt-Long.noarch 0:2.40-3.el7 will be installed\n--> Processing Dependency: perl(Pod::Usage) >= 1.14 for package: perl-Getopt-Long-2.40-3.el7.noarch\n--> Processing Dependency: perl(Text::ParseWords) for package: perl-Getopt-Long-2.40-3.el7.noarch\n---> Package perl-Git.noarch 0:1.8.3.1-23.el7_8 will be installed\n---> Package perl-PathTools.x86_64 0:3.40-5.el7 will be installed\n---> Package perl-TermReadKey.x86_64 0:2.30-20.el7 will be installed\n--> Running transaction check\n---> Package perl-Carp.noarch 0:1.26-244.el7 will be installed\n---> Package perl-Filter.x86_64 0:1.49-3.el7 will be installed\n---> Package perl-Pod-Simple.noarch 1:3.28-4.el7 will be installed\n--> Processing Dependency: perl(Pod::Escapes) >= 1.04 for package: 1:perl-Pod-Simple-3.28-4.el7.noarch\n--> Processing Dependency: perl(Encode) for package: 1:perl-Pod-Simple-3.28-4.el7.noarch\n---> Package perl-Pod-Usage.noarch 0:1.63-3.el7 will be installed\n--> Processing Dependency: perl(Pod::Text) >= 3.15 for package: perl-Pod-Usage-1.63-3.el7.noarch\n--> Processing Dependency: perl-Pod-Perldoc for package: perl-Pod-Usage-1.63-3.el7.noarch\n---> Package perl-Scalar-List-Utils.x86_64 0:1.27-248.el7 will be installed\n---> Package perl-Socket.x86_64 0:2.010-5.el7 will be installed\n---> Package perl-Storable.x86_64 0:2.45-3.el7 will be installed\n---> Package perl-Text-ParseWords.noarch 0:3.29-4.el7 will be installed\n---> Package perl-Time-HiRes.x86_64 4:1.9725-3.el7 will be installed\n---> Package perl-Time-Local.noarch 0:1.2300-2.el7 will be installed\n---> Package perl-constant.noarch 0:1.27-2.el7 will be installed\n---> Package perl-libs.x86_64 4:5.16.3-295.el7 will be installed\n---> Package perl-macros.x86_64 4:5.16.3-295.el7 will be installed\n---> Package perl-threads.x86_64 0:1.87-4.el7 will be installed\n---> Package perl-threads-shared.x86_64 0:1.43-6.el7 will be installed\n--> Running transaction check\n---> Package perl-Encode.x86_64 0:2.51-7.el7 will be installed\n---> Package perl-Pod-Escapes.noarch 1:1.04-295.el7 will be installed\n---> Package perl-Pod-Perldoc.noarch 0:3.20-4.el7 will be installed\n--> Processing Dependency: perl(parent) for package: perl-Pod-Perldoc-3.20-4.el7.noarch\n--> Processing Dependency: perl(HTTP::Tiny) for package: perl-Pod-Perldoc-3.20-4.el7.noarch\n---> Package perl-podlators.noarch 0:2.5.1-3.el7 will be installed\n--> Running transaction check\n---> Package perl-HTTP-Tiny.noarch 0:0.033-3.el7 will be installed\n---> Package perl-parent.noarch 1:0.225-244.el7 will be installed\n--> Finished Dependency Resolution\n\nDependencies Resolved\n\n================================================================================\n Package                    Arch       Version                Repository   Size\n================================================================================\nInstalling:\n git                        x86_64     1.8.3.1-23.el7_8       updates     4.4 M\nInstalling for dependencies:\n perl                       x86_64     4:5.16.3-295.el7       base        8.0 M\n perl-Carp                  noarch     1.26-244.el7           base         19 k\n perl-Encode                x86_64     2.51-7.el7             base        1.5 M\n perl-Error                 noarch     1:0.17020-2.el7        base         32 k\n perl-Exporter              noarch     5.68-3.el7             base         28 k\n perl-File-Path             noarch     2.09-2.el7             base         26 k\n perl-File-Temp             noarch     0.23.01-3.el7          base         56 k\n perl-Filter                x86_64     1.49-3.el7             base         76 k\n perl-Getopt-Long           noarch     2.40-3.el7             base         56 k\n perl-Git                   noarch     1.8.3.1-23.el7_8       updates      56 k\n perl-HTTP-Tiny             noarch     0.033-3.el7            base         38 k\n perl-PathTools             x86_64     3.40-5.el7             base         82 k\n perl-Pod-Escapes           noarch     1:1.04-295.el7         base         51 k\n perl-Pod-Perldoc           noarch     3.20-4.el7             base         87 k\n perl-Pod-Simple            noarch     1:3.28-4.el7           base        216 k\n perl-Pod-Usage             noarch     1.63-3.el7             base         27 k\n perl-Scalar-List-Utils     x86_64     1.27-248.el7           base         36 k\n perl-Socket                x86_64     2.010-5.el7            base         49 k\n"
       },
       {
        "name": "stdout",
        "output_type": "stream",
        "text": " perl-Storable              x86_64     2.45-3.el7             base         77 k\n perl-TermReadKey           x86_64     2.30-20.el7            base         31 k\n perl-Text-ParseWords       noarch     3.29-4.el7             base         14 k\n perl-Time-HiRes            x86_64     4:1.9725-3.el7         base         45 k\n perl-Time-Local            noarch     1.2300-2.el7           base         24 k\n perl-constant              noarch     1.27-2.el7             base         19 k\n perl-libs                  x86_64     4:5.16.3-295.el7       base        689 k\n perl-macros                x86_64     4:5.16.3-295.el7       base         44 k\n perl-parent                noarch     1:0.225-244.el7        base         12 k\n perl-podlators             noarch     2.5.1-3.el7            base        112 k\n perl-threads               x86_64     1.87-4.el7             base         49 k\n perl-threads-shared        x86_64     1.43-6.el7             base         39 k\n\nTransaction Summary\n================================================================================\nInstall  1 Package (+30 Dependent packages)\n\nTotal download size: 16 M\nInstalled size: 59 M\nDownloading packages:\n--------------------------------------------------------------------------------\nTotal                                               16 MB/s |  16 MB  00:00     \nRunning transaction check\nRunning transaction test\nTransaction test succeeded\nRunning transaction\n  Installing : 1:perl-parent-0.225-244.el7.noarch                          1/31 \n  Installing : perl-HTTP-Tiny-0.033-3.el7.noarch                           2/31 \n  Installing : perl-podlators-2.5.1-3.el7.noarch                           3/31 \n  Installing : perl-Pod-Perldoc-3.20-4.el7.noarch                          4/31 \n  Installing : 1:perl-Pod-Escapes-1.04-295.el7.noarch                      5/31 \n  Installing : perl-Text-ParseWords-3.29-4.el7.noarch                      6/31 \n  Installing : perl-Encode-2.51-7.el7.x86_64                               7/31 \n  Installing : perl-Pod-Usage-1.63-3.el7.noarch                            8/31 \n  Installing : 4:perl-libs-5.16.3-295.el7.x86_64                           9/31 \n  Installing : 4:perl-macros-5.16.3-295.el7.x86_64                        10/31 \n  Installing : perl-Storable-2.45-3.el7.x86_64                            11/31 \n  Installing : perl-Exporter-5.68-3.el7.noarch                            12/31 \n  Installing : perl-constant-1.27-2.el7.noarch                            13/31 \n  Installing : perl-Socket-2.010-5.el7.x86_64                             14/31 \n  Installing : perl-Time-Local-1.2300-2.el7.noarch                        15/31 \n  Installing : perl-Carp-1.26-244.el7.noarch                              16/31 \n  Installing : 4:perl-Time-HiRes-1.9725-3.el7.x86_64                      17/31 \n  Installing : perl-PathTools-3.40-5.el7.x86_64                           18/31 \n  Installing : perl-Scalar-List-Utils-1.27-248.el7.x86_64                 19/31 \n  Installing : perl-File-Temp-0.23.01-3.el7.noarch                        20/31 \n  Installing : perl-File-Path-2.09-2.el7.noarch                           21/31 \n  Installing : perl-threads-shared-1.43-6.el7.x86_64                      22/31 \n  Installing : perl-threads-1.87-4.el7.x86_64                             23/31 \n  Installing : perl-Filter-1.49-3.el7.x86_64                              24/31 \n  Installing : 1:perl-Pod-Simple-3.28-4.el7.noarch                        25/31 \n  Installing : perl-Getopt-Long-2.40-3.el7.noarch                         26/31 \n  Installing : 4:perl-5.16.3-295.el7.x86_64                               27/31 \n  Installing : 1:perl-Error-0.17020-2.el7.noarch                          28/31 \n  Installing : perl-TermReadKey-2.30-20.el7.x86_64                        29/31 \n  Installing : git-1.8.3.1-23.el7_8.x86_64                                30/31 \n  Installing : perl-Git-1.8.3.1-23.el7_8.noarch                           31/31 \n  Verifying  : perl-HTTP-Tiny-0.033-3.el7.noarch                           1/31 \n  Verifying  : perl-threads-shared-1.43-6.el7.x86_64                       2/31 \n  Verifying  : perl-Storable-2.45-3.el7.x86_64                             3/31 \n  Verifying  : 1:perl-Pod-Escapes-1.04-295.el7.noarch                      4/31 \n  Verifying  : perl-Exporter-5.68-3.el7.noarch                             5/31 \n  Verifying  : perl-constant-1.27-2.el7.noarch                             6/31 \n  Verifying  : perl-PathTools-3.40-5.el7.x86_64                            7/31 \n  Verifying  : perl-Socket-2.010-5.el7.x86_64                              8/31 \n  Verifying  : git-1.8.3.1-23.el7_8.x86_64                                 9/31 \n  Verifying  : 1:perl-parent-0.225-244.el7.noarch                         10/31 \n  Verifying  : perl-TermReadKey-2.30-20.el7.x86_64                        11/31 \n  Verifying  : 4:perl-libs-5.16.3-295.el7.x86_64                          12/31 \n  Verifying  : perl-File-Temp-0.23.01-3.el7.noarch                        13/31 \n  Verifying  : 1:perl-Pod-Simple-3.28-4.el7.noarch                        14/31 \n  Verifying  : perl-Time-Local-1.2300-2.el7.noarch                        15/31 \n  Verifying  : 4:perl-macros-5.16.3-295.el7.x86_64                        16/31 \n  Verifying  : 4:perl-5.16.3-295.el7.x86_64                               17/31 \n  Verifying  : perl-Carp-1.26-244.el7.noarch                              18/31 \n  Verifying  : 1:perl-Error-0.17020-2.el7.noarch                          19/31 \n  Verifying  : 4:perl-Time-HiRes-1.9725-3.el7.x86_64                      20/31 \n  Verifying  : perl-Scalar-List-Utils-1.27-248.el7.x86_64                 21/31 \n  Verifying  : perl-Pod-Usage-1.63-3.el7.noarch                           22/31 \n  Verifying  : perl-Encode-2.51-7.el7.x86_64                              23/31 \n  Verifying  : perl-Pod-Perldoc-3.20-4.el7.noarch                         24/31 \n  Verifying  : perl-podlators-2.5.1-3.el7.noarch                          25/31 \n  Verifying  : perl-File-Path-2.09-2.el7.noarch                           26/31 \n  Verifying  : perl-threads-1.87-4.el7.x86_64                             27/31 \n  Verifying  : perl-Git-1.8.3.1-23.el7_8.noarch                           28/31 \n  Verifying  : perl-Filter-1.49-3.el7.x86_64                              29/31 \n  Verifying  : perl-Getopt-Long-2.40-3.el7.noarch                         30/31 \n  Verifying  : perl-Text-ParseWords-3.29-4.el7.noarch                     31/31 \n\nInstalled:\n  git.x86_64 0:1.8.3.1-23.el7_8                                                 \n\nDependency Installed:\n  perl.x86_64 4:5.16.3-295.el7                                                  \n  perl-Carp.noarch 0:1.26-244.el7                                               \n  perl-Encode.x86_64 0:2.51-7.el7                                               \n  perl-Error.noarch 1:0.17020-2.el7                                             \n  perl-Exporter.noarch 0:5.68-3.el7                                             \n  perl-File-Path.noarch 0:2.09-2.el7                                            \n  perl-File-Temp.noarch 0:0.23.01-3.el7                                         \n  perl-Filter.x86_64 0:1.49-3.el7                                               \n  perl-Getopt-Long.noarch 0:2.40-3.el7                                          \n  perl-Git.noarch 0:1.8.3.1-23.el7_8                                            \n  perl-HTTP-Tiny.noarch 0:0.033-3.el7                                           \n  perl-PathTools.x86_64 0:3.40-5.el7                                            \n  perl-Pod-Escapes.noarch 1:1.04-295.el7                                        \n  perl-Pod-Perldoc.noarch 0:3.20-4.el7                                          \n  perl-Pod-Simple.noarch 1:3.28-4.el7                                           \n  perl-Pod-Usage.noarch 0:1.63-3.el7                                            \n  perl-Scalar-List-Utils.x86_64 0:1.27-248.el7                                  \n  perl-Socket.x86_64 0:2.010-5.el7                                              \n  perl-Storable.x86_64 0:2.45-3.el7                                             \n  perl-TermReadKey.x86_64 0:2.30-20.el7                                         \n"
       },
       {
        "name": "stdout",
        "output_type": "stream",
        "text": "  perl-Text-ParseWords.noarch 0:3.29-4.el7                                      \n  perl-Time-HiRes.x86_64 4:1.9725-3.el7                                         \n  perl-Time-Local.noarch 0:1.2300-2.el7                                         \n  perl-constant.noarch 0:1.27-2.el7                                             \n  perl-libs.x86_64 4:5.16.3-295.el7                                             \n  perl-macros.x86_64 4:5.16.3-295.el7                                           \n  perl-parent.noarch 1:0.225-244.el7                                            \n  perl-podlators.noarch 0:2.5.1-3.el7                                           \n  perl-threads.x86_64 0:1.87-4.el7                                              \n  perl-threads-shared.x86_64 0:1.43-6.el7                                       \n\nComplete!\n"
       }
      ]
     }
    ]
   },
   "outputs": [],
   "source": [
    "sudo yum install -y git"
   ]
  },
  {
   "cell_type": "code",
   "execution_count": null,
   "metadata": {
    "lc_cell_meme": {
     "current": "fd15a8de-0cf4-11ea-9309-0242ac120004-1-ae5c",
     "history": [
      {
       "current": "fd15a8de-0cf4-11ea-9309-0242ac120004",
       "next": "4e97efd8-49ea-11e9-91dd-0242ac120002",
       "previous": "fd15a654-0cf4-11ea-9309-0242ac120004"
      },
      {
       "current": "fd15a8de-0cf4-11ea-9309-0242ac120004-1-ae5c",
       "next": "449a8cb0-0cf5-11ea-9309-0242ac120004",
       "previous": "449a8a6c-0cf5-11ea-9309-0242ac120004"
      }
     ],
     "next": "449a8cb0-0cf5-11ea-9309-0242ac120004-1-1751",
     "previous": "449a8a6c-0cf5-11ea-9309-0242ac120004-1-1648"
    },
    "pinned_outputs": [
     {
      "execution_count": 4,
      "outputs": [
       {
        "name": "stdout",
        "output_type": "stream",
        "text": "[ssh] host = target, cwd = /home/centos\nCloning into 'docker-handson'...\n"
       }
      ]
     }
    ]
   },
   "outputs": [],
   "source": [
    "git clone --depth 1 https://github.com/mnagaku/docker-handson.git"
   ]
  },
  {
   "cell_type": "code",
   "execution_count": null,
   "metadata": {
    "lc_cell_meme": {
     "current": "449a8cb0-0cf5-11ea-9309-0242ac120004-1-1751",
     "history": [
      {
       "current": "449a8cb0-0cf5-11ea-9309-0242ac120004-1-1751",
       "next": "4e97efd8-49ea-11e9-91dd-0242ac120002",
       "previous": "fd15a8de-0cf4-11ea-9309-0242ac120004"
      }
     ],
     "next": "4e97efd8-49ea-11e9-91dd-0242ac120002-1-6474",
     "previous": "fd15a8de-0cf4-11ea-9309-0242ac120004-1-ae5c"
    },
    "pinned_outputs": [
     {
      "execution_count": 5,
      "outputs": [
       {
        "name": "stdout",
        "output_type": "stream",
        "text": "[ssh] host = target, cwd = /home/centos\n[ssh] new cwd: /home/centos/docker-handson/dockerfile-demo\n"
       }
      ]
     }
    ]
   },
   "outputs": [],
   "source": [
    "cd docker-handson/dockerfile-demo"
   ]
  },
  {
   "cell_type": "markdown",
   "metadata": {
    "lc_cell_meme": {
     "current": "4e97efd8-49ea-11e9-91dd-0242ac120002-1-6474",
     "history": [
      {
       "current": "4e97efd8-49ea-11e9-91dd-0242ac120002",
       "next": null,
       "previous": "813e2468-49e8-11e9-91dd-0242ac120002"
      },
      {
       "current": "4e97efd8-49ea-11e9-91dd-0242ac120002",
       "next": "961d481c-49ea-11e9-91dd-0242ac120002",
       "previous": "813e2468-49e8-11e9-91dd-0242ac120002"
      },
      {
       "current": "4e97efd8-49ea-11e9-91dd-0242ac120002",
       "next": "961d481c-49ea-11e9-91dd-0242ac120002",
       "previous": "88dd59be-0cf2-11ea-9309-0242ac120004"
      },
      {
       "current": "4e97efd8-49ea-11e9-91dd-0242ac120002",
       "next": "961d481c-49ea-11e9-91dd-0242ac120002",
       "previous": "fd15a8de-0cf4-11ea-9309-0242ac120004"
      },
      {
       "current": "4e97efd8-49ea-11e9-91dd-0242ac120002-1-6474",
       "next": "961d481c-49ea-11e9-91dd-0242ac120002",
       "previous": "449a8cb0-0cf5-11ea-9309-0242ac120004"
      }
     ],
     "next": "961d481c-49ea-11e9-91dd-0242ac120002-1-aac4",
     "previous": "449a8cb0-0cf5-11ea-9309-0242ac120004-1-1751"
    }
   },
   "source": [
    "## Dockerイメージの作成"
   ]
  },
  {
   "cell_type": "code",
   "execution_count": null,
   "metadata": {
    "lc_cell_meme": {
     "current": "961d481c-49ea-11e9-91dd-0242ac120002-1-aac4",
     "history": [
      {
       "current": "961d481c-49ea-11e9-91dd-0242ac120002",
       "next": null,
       "previous": "4e97efd8-49ea-11e9-91dd-0242ac120002"
      },
      {
       "current": "961d481c-49ea-11e9-91dd-0242ac120002",
       "next": "dda2d2f6-49ea-11e9-91dd-0242ac120002",
       "previous": "4e97efd8-49ea-11e9-91dd-0242ac120002"
      },
      {
       "current": "961d481c-49ea-11e9-91dd-0242ac120002-1-aac4",
       "next": "f55c48de-49f2-11e9-8353-0242ac120002",
       "previous": "4e97efd8-49ea-11e9-91dd-0242ac120002"
      }
     ],
     "next": "f55c48de-49f2-11e9-8353-0242ac120002-1-3596",
     "previous": "4e97efd8-49ea-11e9-91dd-0242ac120002-1-6474"
    },
    "pinned_outputs": [
     {
      "execution_count": 6,
      "outputs": [
       {
        "name": "stdout",
        "output_type": "stream",
        "text": "[ssh] host = target, cwd = /home/centos/docker-handson/dockerfile-demo\napp.py\nDockerfile\nDockerイメージの作成.ipynb\nrequirements.txt\n"
       }
      ]
     }
    ]
   },
   "outputs": [],
   "source": [
    "ls"
   ]
  },
  {
   "cell_type": "markdown",
   "metadata": {
    "lc_cell_meme": {
     "current": "f55c48de-49f2-11e9-8353-0242ac120002-1-3596",
     "history": [
      {
       "current": "f55c48de-49f2-11e9-8353-0242ac120002",
       "next": "dda2d2f6-49ea-11e9-91dd-0242ac120002",
       "previous": "961d481c-49ea-11e9-91dd-0242ac120002"
      },
      {
       "current": "f55c48de-49f2-11e9-8353-0242ac120002-1-3596",
       "next": "df686c8c-0cf8-11ea-9309-0242ac120004",
       "previous": "961d481c-49ea-11e9-91dd-0242ac120002"
      }
     ],
     "next": "df686c8c-0cf8-11ea-9309-0242ac120004-1-72e7",
     "previous": "961d481c-49ea-11e9-91dd-0242ac120002-1-aac4"
    }
   },
   "source": [
    "各ファイルの中身を確認してみましょう。"
   ]
  },
  {
   "cell_type": "code",
   "execution_count": null,
   "metadata": {
    "lc_cell_meme": {
     "current": "df686c8c-0cf8-11ea-9309-0242ac120004-1-72e7",
     "history": [
      {
       "current": "df686c8c-0cf8-11ea-9309-0242ac120004-1-72e7",
       "next": "df686f02-0cf8-11ea-9309-0242ac120004",
       "previous": "f55c48de-49f2-11e9-8353-0242ac120002"
      }
     ],
     "next": "df686f02-0cf8-11ea-9309-0242ac120004-1-d28f",
     "previous": "f55c48de-49f2-11e9-8353-0242ac120002-1-3596"
    },
    "pinned_outputs": [
     {
      "execution_count": 7,
      "outputs": [
       {
        "name": "stdout",
        "output_type": "stream",
        "text": "[ssh] host = target, cwd = /home/centos/docker-handson/dockerfile-demo\n# Use an official Python runtime as a parent image\nFROM python:2.7-slim\n\n# Set the working directory to /app\nWORKDIR /app\n\n# Copy the current directory contents into the container at /app\nCOPY . /app\n\n# Install any needed packages specified in requirements.txt\nRUN pip install --trusted-host pypi.python.org -r requirements.txt\n\n# Make port 80 available to the world outside this container\nEXPOSE 80\n\n# Define environment variable\nENV NAME World\n\n# Run app.py when the container launches\nCMD [\"python\", \"app.py\"]\n"
       }
      ]
     }
    ]
   },
   "outputs": [],
   "source": [
    "cat Dockerfile"
   ]
  },
  {
   "cell_type": "code",
   "execution_count": null,
   "metadata": {
    "lc_cell_meme": {
     "current": "df686f02-0cf8-11ea-9309-0242ac120004-1-d28f",
     "history": [
      {
       "current": "df686f02-0cf8-11ea-9309-0242ac120004-1-d28f",
       "next": "df687042-0cf8-11ea-9309-0242ac120004",
       "previous": "df686c8c-0cf8-11ea-9309-0242ac120004"
      }
     ],
     "next": "df687042-0cf8-11ea-9309-0242ac120004-1-c139",
     "previous": "df686c8c-0cf8-11ea-9309-0242ac120004-1-72e7"
    },
    "pinned_outputs": [
     {
      "execution_count": 8,
      "outputs": [
       {
        "name": "stdout",
        "output_type": "stream",
        "text": "[ssh] host = target, cwd = /home/centos/docker-handson/dockerfile-demo\nFlask\nRedis\n"
       }
      ]
     }
    ],
    "scrolled": true
   },
   "outputs": [],
   "source": [
    "cat requirements.txt"
   ]
  },
  {
   "cell_type": "code",
   "execution_count": null,
   "metadata": {
    "lc_cell_meme": {
     "current": "df687042-0cf8-11ea-9309-0242ac120004-1-c139",
     "history": [
      {
       "current": "df687042-0cf8-11ea-9309-0242ac120004",
       "next": "f55c48de-49f2-11e9-8353-0242ac120002",
       "previous": "df686f02-0cf8-11ea-9309-0242ac120004"
      },
      {
       "current": "df687042-0cf8-11ea-9309-0242ac120004-1-c139",
       "next": "6e0bf24c-0cf4-11ea-9309-0242ac120004",
       "previous": "df686f02-0cf8-11ea-9309-0242ac120004"
      }
     ],
     "next": "f55c48de-49f2-11e9-8353-0242ac120002-1-d874",
     "previous": "df686f02-0cf8-11ea-9309-0242ac120004-1-d28f"
    },
    "pinned_outputs": [
     {
      "execution_count": 9,
      "outputs": [
       {
        "name": "stdout",
        "output_type": "stream",
        "text": "[ssh] host = target, cwd = /home/centos/docker-handson/dockerfile-demo\nfrom flask import Flask\nfrom redis import Redis, RedisError\nimport os\nimport socket\n\n# Connect to Redis\nredis = Redis(host=\"redis\", db=0, socket_connect_timeout=2, socket_timeout=2)\n\napp = Flask(__name__)\n\n@app.route(\"/\")\ndef hello():\n    try:\n        visits = redis.incr(\"counter\")\n    except RedisError:\n        visits = \"<i>cannot connect to Redis, counter disabled</i>\"\n\n    html = \"<h3>Hello {name}!</h3>\" \\\n           \"<b>Hostname:</b> {hostname}<br/>\" \\\n           \"<b>Visits:</b> {visits}\"\n    return html.format(name=os.getenv(\"NAME\", \"world\"), hostname=socket.gethostname(), visits=visits)\n\nif __name__ == \"__main__\":\n    app.run(host='0.0.0.0', port=80)\n"
       }
      ]
     }
    ]
   },
   "outputs": [],
   "source": [
    "cat app.py"
   ]
  },
  {
   "cell_type": "markdown",
   "metadata": {
    "lc_cell_meme": {
     "current": "f55c48de-49f2-11e9-8353-0242ac120002-1-d874",
     "history": [
      {
       "current": "f55c48de-49f2-11e9-8353-0242ac120002",
       "next": "dda2d2f6-49ea-11e9-91dd-0242ac120002",
       "previous": "961d481c-49ea-11e9-91dd-0242ac120002"
      },
      {
       "current": "f55c48de-49f2-11e9-8353-0242ac120002",
       "next": "dda2d2f6-49ea-11e9-91dd-0242ac120002",
       "previous": "df687042-0cf8-11ea-9309-0242ac120004"
      },
      {
       "current": "f55c48de-49f2-11e9-8353-0242ac120002-1-d874",
       "next": "dda2d2f6-49ea-11e9-91dd-0242ac120002",
       "previous": "6e0bf8be-0cf4-11ea-9309-0242ac120004"
      }
     ],
     "next": "dda2d2f6-49ea-11e9-91dd-0242ac120002-1-4f20",
     "previous": "df687042-0cf8-11ea-9309-0242ac120004-1-c139"
    }
   },
   "source": [
    "コンテナイメージをビルドします。"
   ]
  },
  {
   "cell_type": "code",
   "execution_count": null,
   "metadata": {
    "lc_cell_meme": {
     "current": "dda2d2f6-49ea-11e9-91dd-0242ac120002-1-4f20",
     "history": [
      {
       "current": "dda2d2f6-49ea-11e9-91dd-0242ac120002",
       "next": "dda2d616-49ea-11e9-91dd-0242ac120002",
       "previous": "961d481c-49ea-11e9-91dd-0242ac120002"
      },
      {
       "current": "dda2d2f6-49ea-11e9-91dd-0242ac120002",
       "next": "dda2d616-49ea-11e9-91dd-0242ac120002",
       "previous": "f55c48de-49f2-11e9-8353-0242ac120002"
      },
      {
       "current": "dda2d2f6-49ea-11e9-91dd-0242ac120002-1-4f20",
       "next": "3ce37e8e-49f3-11e9-8353-0242ac120002",
       "previous": "f55c48de-49f2-11e9-8353-0242ac120002"
      }
     ],
     "next": "3ce37e8e-49f3-11e9-8353-0242ac120002-1-70b4",
     "previous": "f55c48de-49f2-11e9-8353-0242ac120002-1-d874"
    },
    "pinned_outputs": [
     {
      "execution_count": 10,
      "outputs": [
       {
        "name": "stdout",
        "output_type": "stream",
        "text": "[ssh] host = target, cwd = /home/centos/docker-handson/dockerfile-demo\nSending build context to Docker daemon   55.3kB\nStep 1/7 : FROM python:2.7-slim\n2.7-slim: Pulling from library/python\n123275d6e508: Pulling fs layer\ndd1cd6637523: Pulling fs layer\n0c4e6d630f2c: Pulling fs layer\n13e9cd8f0ea1: Pulling fs layer\n13e9cd8f0ea1: Waiting\ndd1cd6637523: Verifying Checksum\ndd1cd6637523: Download complete\n0c4e6d630f2c: Verifying Checksum\n0c4e6d630f2c: Download complete\n123275d6e508: Download complete\n13e9cd8f0ea1: Verifying Checksum\n13e9cd8f0ea1: Download complete\n123275d6e508: Pull complete\ndd1cd6637523: Pull complete\n0c4e6d630f2c: Pull complete\n13e9cd8f0ea1: Pull complete\nDigest: sha256:6c1ffdff499e29ea663e6e67c9b6b9a3b401d554d2c9f061f9a45344e3992363\nStatus: Downloaded newer image for python:2.7-slim\n ---> eeb27ee6b893\nStep 2/7 : WORKDIR /app\n ---> Running in 159707d8a149\nRemoving intermediate container 159707d8a149\n ---> 491954aafab4\nStep 3/7 : COPY . /app\n ---> ec2529274add\nStep 4/7 : RUN pip install --trusted-host pypi.python.org -r requirements.txt\n ---> Running in 6445fbe5f182\n\u001b[91mDEPRECATION: Python 2.7 reached the end of its life on January 1st, 2020. Please upgrade your Python as Python 2.7 is no longer maintained. A future version of pip will drop support for Python 2.7. More details about Python 2 support in pip, can be found at https://pip.pypa.io/en/latest/development/release-process/#python-2-support\n\u001b[0mCollecting Flask\n  Downloading Flask-1.1.2-py2.py3-none-any.whl (94 kB)\nCollecting Redis\n  Downloading redis-3.5.3-py2.py3-none-any.whl (72 kB)\nCollecting click>=5.1\n  Downloading click-7.1.2-py2.py3-none-any.whl (82 kB)\nCollecting itsdangerous>=0.24\n  Downloading itsdangerous-1.1.0-py2.py3-none-any.whl (16 kB)\nCollecting Werkzeug>=0.15\n  Downloading Werkzeug-1.0.1-py2.py3-none-any.whl (298 kB)\nCollecting Jinja2>=2.10.1\n  Downloading Jinja2-2.11.2-py2.py3-none-any.whl (125 kB)\nCollecting MarkupSafe>=0.23\n  Downloading MarkupSafe-1.1.1-cp27-cp27mu-manylinux1_x86_64.whl (24 kB)\nInstalling collected packages: click, itsdangerous, Werkzeug, MarkupSafe, Jinja2, Flask, Redis\nSuccessfully installed Flask-1.1.2 Jinja2-2.11.2 MarkupSafe-1.1.1 Redis-3.5.3 Werkzeug-1.0.1 click-7.1.2 itsdangerous-1.1.0\n\u001b[91mWARNING: You are using pip version 20.0.2; however, version 20.2.4 is available.\nYou should consider upgrading via the '/usr/local/bin/python -m pip install --upgrade pip' command.\n\u001b[0mRemoving intermediate container 6445fbe5f182\n ---> 233f9a27f2b3\nStep 5/7 : EXPOSE 80\n ---> Running in 163f0fa71cd5\nRemoving intermediate container 163f0fa71cd5\n ---> 0237a70752c2\nStep 6/7 : ENV NAME World\n ---> Running in 240e6170c1bb\nRemoving intermediate container 240e6170c1bb\n ---> bb7561c4f4bc\nStep 7/7 : CMD [\"python\", \"app.py\"]\n ---> Running in c493bf9ddf92\nRemoving intermediate container c493bf9ddf92\n ---> e279f01ad94a\nSuccessfully built e279f01ad94a\nSuccessfully tagged friendlyhello:latest\n"
       }
      ]
     }
    ]
   },
   "outputs": [],
   "source": [
    "sudo docker image build --tag friendlyhello ."
   ]
  },
  {
   "cell_type": "markdown",
   "metadata": {
    "lc_cell_meme": {
     "current": "3ce37e8e-49f3-11e9-8353-0242ac120002-1-70b4",
     "history": [
      {
       "current": "3ce37e8e-49f3-11e9-8353-0242ac120002-1-70b4",
       "next": "dda2d616-49ea-11e9-91dd-0242ac120002",
       "previous": "dda2d2f6-49ea-11e9-91dd-0242ac120002"
      }
     ],
     "next": "dda2d616-49ea-11e9-91dd-0242ac120002-1-0dbd",
     "previous": "dda2d2f6-49ea-11e9-91dd-0242ac120002-1-4f20"
    }
   },
   "source": [
    "新しいコンテナイメージが確認できます。"
   ]
  },
  {
   "cell_type": "code",
   "execution_count": null,
   "metadata": {
    "lc_cell_meme": {
     "current": "dda2d616-49ea-11e9-91dd-0242ac120002-1-0dbd",
     "history": [
      {
       "current": "dda2d616-49ea-11e9-91dd-0242ac120002",
       "next": null,
       "previous": "dda2d2f6-49ea-11e9-91dd-0242ac120002"
      },
      {
       "current": "dda2d616-49ea-11e9-91dd-0242ac120002",
       "next": "252a0676-49eb-11e9-91dd-0242ac120002",
       "previous": "dda2d2f6-49ea-11e9-91dd-0242ac120002"
      },
      {
       "current": "dda2d616-49ea-11e9-91dd-0242ac120002",
       "next": "3ce38186-49f3-11e9-8353-0242ac120002",
       "previous": "3ce37e8e-49f3-11e9-8353-0242ac120002"
      },
      {
       "current": "dda2d616-49ea-11e9-91dd-0242ac120002-1-0dbd",
       "next": "6e0bf24c-0cf4-11ea-9309-0242ac120004",
       "previous": "3ce37e8e-49f3-11e9-8353-0242ac120002"
      }
     ],
     "next": "3ce38186-49f3-11e9-8353-0242ac120002-1-ea97",
     "previous": "3ce37e8e-49f3-11e9-8353-0242ac120002-1-70b4"
    },
    "pinned_outputs": [
     {
      "execution_count": 11,
      "outputs": [
       {
        "name": "stdout",
        "output_type": "stream",
        "text": "[ssh] host = target, cwd = /home/centos/docker-handson/dockerfile-demo\nREPOSITORY          TAG                 IMAGE ID            CREATED             SIZE\nfriendlyhello       latest              e279f01ad94a        1 second ago        159MB\npython              2.7-slim            eeb27ee6b893        6 months ago        148MB\n"
       }
      ]
     }
    ]
   },
   "outputs": [],
   "source": [
    "sudo docker image ls"
   ]
  },
  {
   "cell_type": "markdown",
   "metadata": {
    "lc_cell_meme": {
     "current": "3ce38186-49f3-11e9-8353-0242ac120002-1-ea97",
     "history": [
      {
       "current": "3ce38186-49f3-11e9-8353-0242ac120002",
       "next": "252a0676-49eb-11e9-91dd-0242ac120002",
       "previous": "dda2d616-49ea-11e9-91dd-0242ac120002"
      },
      {
       "current": "3ce38186-49f3-11e9-8353-0242ac120002",
       "next": "6e0bf24c-0cf4-11ea-9309-0242ac120004",
       "previous": "dda2d616-49ea-11e9-91dd-0242ac120002"
      },
      {
       "current": "3ce38186-49f3-11e9-8353-0242ac120002-1-ea97",
       "next": "252a0676-49eb-11e9-91dd-0242ac120002",
       "previous": "6e0bf8be-0cf4-11ea-9309-0242ac120004"
      }
     ],
     "next": "252a0676-49eb-11e9-91dd-0242ac120002-1-9bd4",
     "previous": "dda2d616-49ea-11e9-91dd-0242ac120002-1-0dbd"
    }
   },
   "source": [
    "コンテナを起動してみます。"
   ]
  },
  {
   "cell_type": "code",
   "execution_count": null,
   "metadata": {
    "lc_cell_meme": {
     "current": "252a0676-49eb-11e9-91dd-0242ac120002-1-9bd4",
     "history": [
      {
       "current": "252a0676-49eb-11e9-91dd-0242ac120002",
       "next": "252a0a04-49eb-11e9-91dd-0242ac120002",
       "previous": "dda2d616-49ea-11e9-91dd-0242ac120002"
      },
      {
       "current": "252a0676-49eb-11e9-91dd-0242ac120002",
       "next": "1ec87784-49f2-11e9-8353-0242ac120002",
       "previous": "dda2d616-49ea-11e9-91dd-0242ac120002"
      },
      {
       "current": "252a0676-49eb-11e9-91dd-0242ac120002",
       "next": "1ec87784-49f2-11e9-8353-0242ac120002",
       "previous": "3ce38186-49f3-11e9-8353-0242ac120002"
      },
      {
       "current": "252a0676-49eb-11e9-91dd-0242ac120002",
       "next": "1ec87784-49f2-11e9-8353-0242ac120002",
       "previous": "6e0bf8be-0cf4-11ea-9309-0242ac120004"
      },
      {
       "current": "252a0676-49eb-11e9-91dd-0242ac120002-1-9bd4",
       "next": "1ec87784-49f2-11e9-8353-0242ac120002",
       "previous": "3ce38186-49f3-11e9-8353-0242ac120002"
      },
      {
       "current": "252a0676-49eb-11e9-91dd-0242ac120002-1-9bd4",
       "next": "1ec87784-49f2-11e9-8353-0242ac120002-1-200f",
       "previous": "3ce38186-49f3-11e9-8353-0242ac120002-1-ea97"
      }
     ],
     "next": "e1c69946-1a52-11eb-b030-0242ac140004",
     "previous": "3ce38186-49f3-11e9-8353-0242ac120002-1-ea97"
    },
    "pinned_outputs": [
     {
      "execution_count": 12,
      "outputs": [
       {
        "name": "stdout",
        "output_type": "stream",
        "text": "[ssh] host = target, cwd = /home/centos/docker-handson/dockerfile-demo\n19bb64f2c8b58d73304e6a12881483e26bf3dddbba806f99a313cc7d1859cc7e\n"
       }
      ]
     }
    ]
   },
   "outputs": [],
   "source": [
    "sudo docker container run -d -p 80:80 --name fh friendlyhello"
   ]
  },
  {
   "cell_type": "markdown",
   "metadata": {
    "lc_cell_meme": {
     "current": "e1c69946-1a52-11eb-b030-0242ac140004",
     "next": "e1c69b58-1a52-11eb-b030-0242ac140004",
     "previous": "252a0676-49eb-11e9-91dd-0242ac120002-1-9bd4"
    }
   },
   "source": [
    "「~/.ssh/config」でインターネットからアクセスできるIPアドレスを確認します。"
   ]
  },
  {
   "cell_type": "code",
   "execution_count": null,
   "metadata": {
    "lc_cell_meme": {
     "current": "e1c69b58-1a52-11eb-b030-0242ac140004",
     "history": [
      {
       "current": "e1c69b58-1a52-11eb-b030-0242ac140004",
       "next": "1ec87784-49f2-11e9-8353-0242ac120002-1-200f",
       "previous": "e1c69946-1a52-11eb-b030-0242ac140004"
      }
     ],
     "next": "1ec87784-49f2-11e9-8353-0242ac120002-1-5d92",
     "previous": "e1c69946-1a52-11eb-b030-0242ac140004"
    },
    "pinned_outputs": [
     {
      "execution_count": 13,
      "outputs": [
       {
        "name": "stdout",
        "output_type": "stream",
        "text": "Host target\r\n  Hostname 172.31.63.5\r\n  User centos\r\n  Port 22\r\n  IdentityFile /home/nagaku/notebooks/docker-handson/nagaku.pem\r\n#public_ip 44.226.199.178\r\n\n"
       }
      ]
     }
    ]
   },
   "outputs": [],
   "source": [
    "!cat ~/.ssh/config"
   ]
  },
  {
   "cell_type": "markdown",
   "metadata": {
    "lc_cell_meme": {
     "current": "1ec87784-49f2-11e9-8353-0242ac120002-1-5d92",
     "history": [
      {
       "current": "1ec87784-49f2-11e9-8353-0242ac120002",
       "next": "252a0a04-49eb-11e9-91dd-0242ac120002",
       "previous": "252a0676-49eb-11e9-91dd-0242ac120002"
      },
      {
       "current": "1ec87784-49f2-11e9-8353-0242ac120002",
       "next": "252a0a04-49eb-11e9-91dd-0242ac120002",
       "previous": "6e0bf8be-0cf4-11ea-9309-0242ac120004"
      },
      {
       "current": "1ec87784-49f2-11e9-8353-0242ac120002-1-5d92",
       "next": "252a0a04-49eb-11e9-91dd-0242ac120002",
       "previous": "1ec87784-49f2-11e9-8353-0242ac120002"
      },
      {
       "current": "1ec87784-49f2-11e9-8353-0242ac120002-1-5d92",
       "next": "252a0a04-49eb-11e9-91dd-0242ac120002-1-05ad",
       "previous": "1ec87784-49f2-11e9-8353-0242ac120002-1-200f"
      }
     ],
     "next": "252a0a04-49eb-11e9-91dd-0242ac120002-1-05ad",
     "previous": "e1c69b58-1a52-11eb-b030-0242ac140004"
    }
   },
   "source": [
    "webブラウザでアクセスして確認してみましょう。\n",
    "\n",
    "コンテナが動いているのが確認できたら、コンテナを捨てます。"
   ]
  },
  {
   "cell_type": "code",
   "execution_count": null,
   "metadata": {
    "lc_cell_meme": {
     "current": "252a0a04-49eb-11e9-91dd-0242ac120002-1-05ad",
     "history": [
      {
       "current": "252a0a04-49eb-11e9-91dd-0242ac120002",
       "next": null,
       "previous": "252a0676-49eb-11e9-91dd-0242ac120002"
      },
      {
       "current": "252a0a04-49eb-11e9-91dd-0242ac120002",
       "next": "6c34e658-49eb-11e9-91dd-0242ac120002",
       "previous": "252a0676-49eb-11e9-91dd-0242ac120002"
      },
      {
       "current": "252a0a04-49eb-11e9-91dd-0242ac120002-1-05ad",
       "next": "6c34e658-49eb-11e9-91dd-0242ac120002",
       "previous": "1ec87784-49f2-11e9-8353-0242ac120002"
      }
     ],
     "next": "6c34e658-49eb-11e9-91dd-0242ac120002-1-3d8f",
     "previous": "1ec87784-49f2-11e9-8353-0242ac120002-1-5d92"
    },
    "pinned_outputs": [
     {
      "execution_count": 14,
      "outputs": [
       {
        "name": "stdout",
        "output_type": "stream",
        "text": "[ssh] host = target, cwd = /home/centos/docker-handson/dockerfile-demo\nCONTAINER ID        IMAGE               COMMAND             CREATED                  STATUS                  PORTS                NAMES\n19bb64f2c8b5        friendlyhello       \"python app.py\"     Less than a second ago   Up Less than a second   0.0.0.0:80->80/tcp   fh\n"
       }
      ]
     }
    ]
   },
   "outputs": [],
   "source": [
    "sudo docker container ls"
   ]
  },
  {
   "cell_type": "code",
   "execution_count": null,
   "metadata": {
    "lc_cell_meme": {
     "current": "6c34e658-49eb-11e9-91dd-0242ac120002-1-3d8f",
     "history": [
      {
       "current": "6c34e658-49eb-11e9-91dd-0242ac120002",
       "next": null,
       "previous": "252a0a04-49eb-11e9-91dd-0242ac120002"
      },
      {
       "current": "6c34e658-49eb-11e9-91dd-0242ac120002",
       "next": "b437e9f0-49eb-11e9-91dd-0242ac120002",
       "previous": "252a0a04-49eb-11e9-91dd-0242ac120002"
      },
      {
       "current": "6c34e658-49eb-11e9-91dd-0242ac120002-1-3d8f",
       "next": "84691674-49f3-11e9-8353-0242ac120002",
       "previous": "252a0a04-49eb-11e9-91dd-0242ac120002"
      }
     ],
     "next": "84691674-49f3-11e9-8353-0242ac120002-1-848a",
     "previous": "252a0a04-49eb-11e9-91dd-0242ac120002-1-05ad"
    },
    "pinned_outputs": [
     {
      "execution_count": 15,
      "outputs": [
       {
        "name": "stdout",
        "output_type": "stream",
        "text": "[ssh] host = target, cwd = /home/centos/docker-handson/dockerfile-demo\nfh\n"
       }
      ]
     }
    ]
   },
   "outputs": [],
   "source": [
    "sudo docker container stop fh"
   ]
  },
  {
   "cell_type": "code",
   "execution_count": null,
   "metadata": {
    "lc_cell_meme": {
     "current": "84691674-49f3-11e9-8353-0242ac120002-1-848a",
     "history": [
      {
       "current": "84691674-49f3-11e9-8353-0242ac120002-1-848a",
       "next": "84691a0c-49f3-11e9-8353-0242ac120002",
       "previous": "6c34e658-49eb-11e9-91dd-0242ac120002"
      }
     ],
     "next": "84691a0c-49f3-11e9-8353-0242ac120002-1-a9c1",
     "previous": "6c34e658-49eb-11e9-91dd-0242ac120002-1-3d8f"
    },
    "pinned_outputs": [
     {
      "execution_count": 16,
      "outputs": [
       {
        "name": "stdout",
        "output_type": "stream",
        "text": "[ssh] host = target, cwd = /home/centos/docker-handson/dockerfile-demo\nfh\n"
       }
      ]
     }
    ]
   },
   "outputs": [],
   "source": [
    "sudo docker container rm fh"
   ]
  },
  {
   "cell_type": "code",
   "execution_count": null,
   "metadata": {
    "lc_cell_meme": {
     "current": "84691a0c-49f3-11e9-8353-0242ac120002-1-a9c1",
     "history": [
      {
       "current": "84691a0c-49f3-11e9-8353-0242ac120002",
       "next": "b437e9f0-49eb-11e9-91dd-0242ac120002",
       "previous": "84691674-49f3-11e9-8353-0242ac120002"
      },
      {
       "current": "84691a0c-49f3-11e9-8353-0242ac120002-1-a9c1",
       "next": "6e0bf24c-0cf4-11ea-9309-0242ac120004",
       "previous": "84691674-49f3-11e9-8353-0242ac120002"
      },
      {
       "current": "84691a0c-49f3-11e9-8353-0242ac120002-1-a9c1",
       "next": "b437e9f0-49eb-11e9-91dd-0242ac120002-1-9706",
       "previous": "84691674-49f3-11e9-8353-0242ac120002-1-848a"
      }
     ],
     "next": "b437e9f0-49eb-11e9-91dd-0242ac120002-2-9706-f193",
     "previous": "84691674-49f3-11e9-8353-0242ac120002-1-848a"
    },
    "pinned_outputs": [
     {
      "execution_count": 17,
      "outputs": [
       {
        "name": "stdout",
        "output_type": "stream",
        "text": "[ssh] host = target, cwd = /home/centos/docker-handson/dockerfile-demo\nCONTAINER ID        IMAGE               COMMAND             CREATED             STATUS              PORTS               NAMES\n"
       }
      ]
     }
    ]
   },
   "outputs": [],
   "source": [
    "sudo docker container ls"
   ]
  },
  {
   "cell_type": "markdown",
   "metadata": {
    "lc_cell_meme": {
     "current": "b437e9f0-49eb-11e9-91dd-0242ac120002-2-9706-f193",
     "history": [
      {
       "current": "b437e9f0-49eb-11e9-91dd-0242ac120002",
       "next": null,
       "previous": "6c34e658-49eb-11e9-91dd-0242ac120002"
      },
      {
       "current": "b437e9f0-49eb-11e9-91dd-0242ac120002",
       "next": "4356e94c-49ec-11e9-91dd-0242ac120002",
       "previous": "6c34e658-49eb-11e9-91dd-0242ac120002"
      },
      {
       "current": "b437e9f0-49eb-11e9-91dd-0242ac120002",
       "next": "4356e94c-49ec-11e9-91dd-0242ac120002",
       "previous": "84691a0c-49f3-11e9-8353-0242ac120002"
      },
      {
       "current": "b437e9f0-49eb-11e9-91dd-0242ac120002-1-9706",
       "next": "4356e94c-49ec-11e9-91dd-0242ac120002",
       "previous": "6e0bf8be-0cf4-11ea-9309-0242ac120004"
      },
      {
       "current": "b437e9f0-49eb-11e9-91dd-0242ac120002-1-9706",
       "next": "4356e94c-49ec-11e9-91dd-0242ac120002-1-aac8",
       "previous": "84691a0c-49f3-11e9-8353-0242ac120002-1-a9c1"
      }
     ],
     "next": "4da88608-1a79-11eb-a035-0242ac140004",
     "previous": "84691a0c-49f3-11e9-8353-0242ac120002-1-a9c1"
    }
   },
   "source": [
    "作成したコンテナイメージをdocker hubに上げてみます。\n",
    "\n",
    "一応、パスワードに配慮して、Jupyterのターミナルからssh接続の後、\n",
    "```\n",
    "$ sudo docker login\n",
    "```\n",
    "します。\n",
    "\n",
    "人手の作業を見落とさないように、必ず失敗するセルを置いておきます。"
   ]
  },
  {
   "cell_type": "code",
   "execution_count": null,
   "metadata": {
    "lc_cell_meme": {
     "current": "4da88608-1a79-11eb-a035-0242ac140004",
     "history": [
      {
       "current": "4da88608-1a79-11eb-a035-0242ac140004",
       "next": "4356e94c-49ec-11e9-91dd-0242ac120002-1-aac8",
       "previous": "b437e9f0-49eb-11e9-91dd-0242ac120002-1-9706"
      }
     ],
     "next": "b437e9f0-49eb-11e9-91dd-0242ac120002-1-9706",
     "previous": "b437e9f0-49eb-11e9-91dd-0242ac120002-2-9706-f193"
    },
    "pinned_outputs": [
     {
      "execution_count": 18,
      "outputs": [
       {
        "ename": "Exception",
        "evalue": "()",
        "output_type": "error",
        "traceback": [
         "Traceback (most recent call last):",
         "  File \"python cell\", line 1, in <module>",
         "Exception: "
        ]
       }
      ]
     }
    ],
    "scrolled": false
   },
   "outputs": [],
   "source": [
    "%python raise Exception"
   ]
  },
  {
   "cell_type": "markdown",
   "metadata": {
    "lc_cell_meme": {
     "current": "b437e9f0-49eb-11e9-91dd-0242ac120002-1-9706",
     "history": [
      {
       "current": "b437e9f0-49eb-11e9-91dd-0242ac120002",
       "next": null,
       "previous": "6c34e658-49eb-11e9-91dd-0242ac120002"
      },
      {
       "current": "b437e9f0-49eb-11e9-91dd-0242ac120002",
       "next": "4356e94c-49ec-11e9-91dd-0242ac120002",
       "previous": "6c34e658-49eb-11e9-91dd-0242ac120002"
      },
      {
       "current": "b437e9f0-49eb-11e9-91dd-0242ac120002",
       "next": "4356e94c-49ec-11e9-91dd-0242ac120002",
       "previous": "84691a0c-49f3-11e9-8353-0242ac120002"
      },
      {
       "current": "b437e9f0-49eb-11e9-91dd-0242ac120002-1-9706",
       "next": "4356e94c-49ec-11e9-91dd-0242ac120002",
       "previous": "6e0bf8be-0cf4-11ea-9309-0242ac120004"
      },
      {
       "current": "b437e9f0-49eb-11e9-91dd-0242ac120002-1-9706",
       "next": "4356e94c-49ec-11e9-91dd-0242ac120002-1-aac8",
       "previous": "84691a0c-49f3-11e9-8353-0242ac120002-1-a9c1"
      },
      {
       "current": "b437e9f0-49eb-11e9-91dd-0242ac120002-1-9706",
       "next": "4da88608-1a79-11eb-a035-0242ac140004",
       "previous": "84691a0c-49f3-11e9-8353-0242ac120002-1-a9c1"
      }
     ],
     "next": "4356e94c-49ec-11e9-91dd-0242ac120002-1-aac8",
     "previous": "4da88608-1a79-11eb-a035-0242ac140004"
    }
   },
   "source": [
    "コンテナイメージの名前を、docker hubに合わせて、追加します。"
   ]
  },
  {
   "cell_type": "code",
   "execution_count": null,
   "metadata": {
    "lc_cell_meme": {
     "current": "4356e94c-49ec-11e9-91dd-0242ac120002-1-aac8",
     "history": [
      {
       "current": "4356e94c-49ec-11e9-91dd-0242ac120002",
       "next": null,
       "previous": "b437e9f0-49eb-11e9-91dd-0242ac120002"
      },
      {
       "current": "4356e94c-49ec-11e9-91dd-0242ac120002-1-aac8",
       "next": "8a4d8aa4-49ec-11e9-91dd-0242ac120002",
       "previous": "b437e9f0-49eb-11e9-91dd-0242ac120002"
      },
      {
       "current": "4356e94c-49ec-11e9-91dd-0242ac120002-1-aac8",
       "next": "8a4d8aa4-49ec-11e9-91dd-0242ac120002-1-858f",
       "previous": "b437e9f0-49eb-11e9-91dd-0242ac120002-1-9706"
      },
      {
       "current": "4356e94c-49ec-11e9-91dd-0242ac120002-1-aac8",
       "next": "8a4d8aa4-49ec-11e9-91dd-0242ac120002-1-858f",
       "previous": "4da88608-1a79-11eb-a035-0242ac140004"
      }
     ],
     "next": "8a4d8aa4-49ec-11e9-91dd-0242ac120002-1-858f",
     "previous": "b437e9f0-49eb-11e9-91dd-0242ac120002-1-9706"
    },
    "pinned_outputs": [
     {
      "execution_count": 19,
      "outputs": [
       {
        "name": "stdout",
        "output_type": "stream",
        "text": "[ssh] host = target, cwd = /home/centos/docker-handson/dockerfile-demo\n"
       }
      ]
     }
    ]
   },
   "outputs": [],
   "source": [
    "sudo docker image tag friendlyhello mnagaku/get-started:part1"
   ]
  },
  {
   "cell_type": "code",
   "execution_count": null,
   "metadata": {
    "lc_cell_meme": {
     "current": "8a4d8aa4-49ec-11e9-91dd-0242ac120002-1-858f",
     "history": [
      {
       "current": "8a4d8aa4-49ec-11e9-91dd-0242ac120002",
       "next": "8a4d8e46-49ec-11e9-91dd-0242ac120002",
       "previous": "4356e94c-49ec-11e9-91dd-0242ac120002"
      },
      {
       "current": "8a4d8aa4-49ec-11e9-91dd-0242ac120002-1-858f",
       "next": "cbefe176-49f3-11e9-8353-0242ac120002",
       "previous": "4356e94c-49ec-11e9-91dd-0242ac120002"
      }
     ],
     "next": "cbefe176-49f3-11e9-8353-0242ac120002-1-1f70",
     "previous": "4356e94c-49ec-11e9-91dd-0242ac120002-1-aac8"
    },
    "pinned_outputs": [
     {
      "execution_count": 20,
      "outputs": [
       {
        "name": "stdout",
        "output_type": "stream",
        "text": "[ssh] host = target, cwd = /home/centos/docker-handson/dockerfile-demo\nREPOSITORY            TAG                 IMAGE ID            CREATED              SIZE\nfriendlyhello         latest              e279f01ad94a        About a minute ago   159MB\nmnagaku/get-started   part1               e279f01ad94a        About a minute ago   159MB\npython                2.7-slim            eeb27ee6b893        6 months ago         148MB\n"
       }
      ]
     }
    ]
   },
   "outputs": [],
   "source": [
    "sudo docker image ls"
   ]
  },
  {
   "cell_type": "markdown",
   "metadata": {
    "lc_cell_meme": {
     "current": "cbefe176-49f3-11e9-8353-0242ac120002-1-1f70",
     "history": [
      {
       "current": "cbefe176-49f3-11e9-8353-0242ac120002-1-1f70",
       "next": "8a4d8e46-49ec-11e9-91dd-0242ac120002",
       "previous": "8a4d8aa4-49ec-11e9-91dd-0242ac120002"
      }
     ],
     "next": "8a4d8e46-49ec-11e9-91dd-0242ac120002-1-e121",
     "previous": "8a4d8aa4-49ec-11e9-91dd-0242ac120002-1-858f"
    }
   },
   "source": [
    "docker hubにpushします。"
   ]
  },
  {
   "cell_type": "code",
   "execution_count": null,
   "metadata": {
    "lc_cell_meme": {
     "current": "8a4d8e46-49ec-11e9-91dd-0242ac120002-1-e121",
     "history": [
      {
       "current": "8a4d8e46-49ec-11e9-91dd-0242ac120002",
       "next": null,
       "previous": "8a4d8aa4-49ec-11e9-91dd-0242ac120002"
      },
      {
       "current": "8a4d8e46-49ec-11e9-91dd-0242ac120002",
       "next": "d1d4d4f4-49ec-11e9-91dd-0242ac120002",
       "previous": "8a4d8aa4-49ec-11e9-91dd-0242ac120002"
      },
      {
       "current": "8a4d8e46-49ec-11e9-91dd-0242ac120002-1-e121",
       "next": "d1d4d4f4-49ec-11e9-91dd-0242ac120002",
       "previous": "cbefe176-49f3-11e9-8353-0242ac120002"
      }
     ],
     "next": "d1d4d4f4-49ec-11e9-91dd-0242ac120002-1-7605",
     "previous": "cbefe176-49f3-11e9-8353-0242ac120002-1-1f70"
    },
    "pinned_outputs": [
     {
      "execution_count": 21,
      "outputs": [
       {
        "name": "stdout",
        "output_type": "stream",
        "text": "[ssh] host = target, cwd = /home/centos/docker-handson/dockerfile-demo\nThe push refers to repository [docker.io/mnagaku/get-started]\nb438a194da38: Preparing\n5a3b82d11f89: Preparing\nb7a0a243a507: Preparing\n7a287aad297b: Preparing\n7ea2b60b0a08: Preparing\n568944187d93: Preparing\nb60e5c3bcef2: Preparing\n568944187d93: Waiting\nb60e5c3bcef2: Waiting\n7ea2b60b0a08: Mounted from library/python\n7a287aad297b: Mounted from library/python\n568944187d93: Mounted from library/python\n5a3b82d11f89: Pushed\nb7a0a243a507: Pushed\nb60e5c3bcef2: Mounted from library/python\nb438a194da38: Pushed\npart1: digest: sha256:79a4adf98b1b44d94040e146046a5bbd75a6a08a2620681bdd33dc54944e4b09 size: 1789\n"
       }
      ]
     }
    ]
   },
   "outputs": [],
   "source": [
    "sudo docker push mnagaku/get-started:part1"
   ]
  },
  {
   "cell_type": "markdown",
   "metadata": {
    "lc_cell_meme": {
     "current": "d1d4d4f4-49ec-11e9-91dd-0242ac120002-1-7605",
     "history": [
      {
       "current": "d1d4d4f4-49ec-11e9-91dd-0242ac120002",
       "next": null,
       "previous": "8a4d8e46-49ec-11e9-91dd-0242ac120002"
      },
      {
       "current": "d1d4d4f4-49ec-11e9-91dd-0242ac120002",
       "next": "13761c36-49f4-11e9-8353-0242ac120002",
       "previous": "8a4d8e46-49ec-11e9-91dd-0242ac120002"
      },
      {
       "current": "d1d4d4f4-49ec-11e9-91dd-0242ac120002-1-7605",
       "next": "6e0bf24c-0cf4-11ea-9309-0242ac120004",
       "previous": "8a4d8e46-49ec-11e9-91dd-0242ac120002"
      }
     ],
     "next": "d1d4d4f4-49ec-11e9-91dd-0242ac120002-1-ee7c",
     "previous": "8a4d8e46-49ec-11e9-91dd-0242ac120002-1-e121"
    }
   },
   "source": [
    "https://hub.docker.com/ でpushできていることを確認しましょう。"
   ]
  },
  {
   "cell_type": "markdown",
   "metadata": {
    "lc_cell_meme": {
     "current": "d1d4d4f4-49ec-11e9-91dd-0242ac120002-1-ee7c",
     "history": [
      {
       "current": "d1d4d4f4-49ec-11e9-91dd-0242ac120002",
       "next": null,
       "previous": "8a4d8e46-49ec-11e9-91dd-0242ac120002"
      },
      {
       "current": "d1d4d4f4-49ec-11e9-91dd-0242ac120002",
       "next": "13761c36-49f4-11e9-8353-0242ac120002",
       "previous": "8a4d8e46-49ec-11e9-91dd-0242ac120002"
      },
      {
       "current": "d1d4d4f4-49ec-11e9-91dd-0242ac120002-1-ee7c",
       "next": "13761c36-49f4-11e9-8353-0242ac120002",
       "previous": "6e0bf8be-0cf4-11ea-9309-0242ac120004"
      }
     ],
     "next": "13761c36-49f4-11e9-8353-0242ac120002-1-8701",
     "previous": "d1d4d4f4-49ec-11e9-91dd-0242ac120002-1-7605"
    }
   },
   "source": [
    "ローカルのイメージを捨ててから、pullして動くことを確認してみましょう。"
   ]
  },
  {
   "cell_type": "code",
   "execution_count": null,
   "metadata": {
    "lc_cell_meme": {
     "current": "13761c36-49f4-11e9-8353-0242ac120002-1-8701",
     "history": [
      {
       "current": "13761c36-49f4-11e9-8353-0242ac120002",
       "next": null,
       "previous": "d1d4d4f4-49ec-11e9-91dd-0242ac120002"
      },
      {
       "current": "13761c36-49f4-11e9-8353-0242ac120002-1-8701",
       "next": "a2841bf8-49f4-11e9-8353-0242ac120002",
       "previous": "d1d4d4f4-49ec-11e9-91dd-0242ac120002"
      }
     ],
     "next": "a2841bf8-49f4-11e9-8353-0242ac120002-1-205c",
     "previous": "d1d4d4f4-49ec-11e9-91dd-0242ac120002-1-ee7c"
    },
    "pinned_outputs": [
     {
      "execution_count": 22,
      "outputs": [
       {
        "name": "stdout",
        "output_type": "stream",
        "text": "[ssh] host = target, cwd = /home/centos/docker-handson/dockerfile-demo\nUntagged: friendlyhello:latest\nUntagged: mnagaku/get-started:part1\nUntagged: mnagaku/get-started@sha256:79a4adf98b1b44d94040e146046a5bbd75a6a08a2620681bdd33dc54944e4b09\nDeleted: sha256:e279f01ad94ab24ba988a2402f83402cc0befd8f851c801dafd732e3d0185337\nDeleted: sha256:bb7561c4f4bcf1de912e9d74fc7d49650338915467c555bf504e3a3797dbdc52\nDeleted: sha256:0237a70752c2e73cfc89fdeb5b1a6792f61bc45b4a6c8534e870c5d29671ca83\nDeleted: sha256:233f9a27f2b3b844177f78cfd87bf2003843c53adeb6b9fec82da1bdd4c85e5a\nDeleted: sha256:95a2101379ef98f1edd6124fb7b670654cb73c704c1ec359f6aae92b56c5ddfa\nDeleted: sha256:ec2529274add004ee74acf28a4e51034276be1672c63efce49fcaa9a0e0fb95c\nDeleted: sha256:7ec5a4d58a0dc0b04c4e3180b7944ce7a981589cbc97ffd186c39b43be23280a\nDeleted: sha256:491954aafab48d931093a64ac3a47348ae8bf0f549e1d9d04f933ca7b6762b42\nDeleted: sha256:81e19671347868542d3416a3bd5cbb31e60ddde7512cbd03f81a668147da33d9\n"
       }
      ]
     }
    ]
   },
   "outputs": [],
   "source": [
    "sudo docker image rm friendlyhello mnagaku/get-started:part1"
   ]
  },
  {
   "cell_type": "code",
   "execution_count": null,
   "metadata": {
    "lc_cell_meme": {
     "current": "a2841bf8-49f4-11e9-8353-0242ac120002-1-205c",
     "history": [
      {
       "current": "a2841bf8-49f4-11e9-8353-0242ac120002",
       "next": null,
       "previous": "13761c36-49f4-11e9-8353-0242ac120002"
      },
      {
       "current": "a2841bf8-49f4-11e9-8353-0242ac120002",
       "next": "bbf962a0-49f4-11e9-8353-0242ac120002",
       "previous": "13761c36-49f4-11e9-8353-0242ac120002"
      },
      {
       "current": "a2841bf8-49f4-11e9-8353-0242ac120002-1-205c",
       "next": "252a0a04-49eb-11e9-91dd-0242ac120002",
       "previous": "13761c36-49f4-11e9-8353-0242ac120002"
      }
     ],
     "next": "252a0a04-49eb-11e9-91dd-0242ac120002-1-857d",
     "previous": "13761c36-49f4-11e9-8353-0242ac120002-1-8701"
    },
    "pinned_outputs": [
     {
      "execution_count": 23,
      "outputs": [
       {
        "name": "stdout",
        "output_type": "stream",
        "text": "[ssh] host = target, cwd = /home/centos/docker-handson/dockerfile-demo\nUnable to find image 'mnagaku/get-started:part1' locally\npart1: Pulling from mnagaku/get-started\n123275d6e508: Already exists\ndd1cd6637523: Already exists\n0c4e6d630f2c: Already exists\n13e9cd8f0ea1: Already exists\n37c2e9a6a98e: Pulling fs layer\nc0fb15291f1d: Pulling fs layer\n6f237348460d: Pulling fs layer\nc0fb15291f1d: Verifying Checksum\nc0fb15291f1d: Download complete\n37c2e9a6a98e: Verifying Checksum\n37c2e9a6a98e: Download complete\n37c2e9a6a98e: Pull complete\n6f237348460d: Verifying Checksum\n6f237348460d: Download complete\nc0fb15291f1d: Pull complete\n6f237348460d: Pull complete\nDigest: sha256:79a4adf98b1b44d94040e146046a5bbd75a6a08a2620681bdd33dc54944e4b09\nStatus: Downloaded newer image for mnagaku/get-started:part1\n4a49968d772950343d9d4eed9da62343f732e6f38b0d9f572390b2d43b0e10f5\n"
       }
      ]
     }
    ]
   },
   "outputs": [],
   "source": [
    "sudo docker container run -d -p 80:80 --name getstarted mnagaku/get-started:part1"
   ]
  },
  {
   "cell_type": "code",
   "execution_count": null,
   "metadata": {
    "lc_cell_meme": {
     "current": "252a0a04-49eb-11e9-91dd-0242ac120002-1-857d",
     "history": [
      {
       "current": "252a0a04-49eb-11e9-91dd-0242ac120002",
       "next": null,
       "previous": "252a0676-49eb-11e9-91dd-0242ac120002"
      },
      {
       "current": "252a0a04-49eb-11e9-91dd-0242ac120002",
       "next": "6c34e658-49eb-11e9-91dd-0242ac120002",
       "previous": "252a0676-49eb-11e9-91dd-0242ac120002"
      },
      {
       "current": "252a0a04-49eb-11e9-91dd-0242ac120002",
       "next": "6c34e658-49eb-11e9-91dd-0242ac120002",
       "previous": "1ec87784-49f2-11e9-8353-0242ac120002"
      },
      {
       "current": "252a0a04-49eb-11e9-91dd-0242ac120002",
       "next": "6c34e658-49eb-11e9-91dd-0242ac120002",
       "previous": "bbf962a0-49f4-11e9-8353-0242ac120002"
      },
      {
       "current": "252a0a04-49eb-11e9-91dd-0242ac120002",
       "next": "6c34e658-49eb-11e9-91dd-0242ac120002",
       "previous": "a2841bf8-49f4-11e9-8353-0242ac120002"
      },
      {
       "current": "252a0a04-49eb-11e9-91dd-0242ac120002-1-857d",
       "next": "ea4e701e-0d03-11ea-9309-0242ac120004",
       "previous": "a2841bf8-49f4-11e9-8353-0242ac120002"
      }
     ],
     "next": "ea4e701e-0d03-11ea-9309-0242ac120004-1-cb99",
     "previous": "a2841bf8-49f4-11e9-8353-0242ac120002-1-205c"
    },
    "pinned_outputs": [
     {
      "execution_count": 24,
      "outputs": [
       {
        "name": "stdout",
        "output_type": "stream",
        "text": "[ssh] host = target, cwd = /home/centos/docker-handson/dockerfile-demo\nCONTAINER ID        IMAGE                       COMMAND             CREATED             STATUS                  PORTS                NAMES\n4a49968d7729        mnagaku/get-started:part1   \"python app.py\"     1 second ago        Up Less than a second   0.0.0.0:80->80/tcp   getstarted\n"
       }
      ]
     }
    ]
   },
   "outputs": [],
   "source": [
    "sudo docker container ls"
   ]
  },
  {
   "cell_type": "markdown",
   "metadata": {
    "lc_cell_meme": {
     "current": "ea4e701e-0d03-11ea-9309-0242ac120004-1-cb99",
     "history": [
      {
       "current": "ea4e701e-0d03-11ea-9309-0242ac120004-1-cb99",
       "next": "6c34e658-49eb-11e9-91dd-0242ac120002",
       "previous": "252a0a04-49eb-11e9-91dd-0242ac120002"
      }
     ],
     "next": "6c34e658-49eb-11e9-91dd-0242ac120002-1-8db7",
     "previous": "252a0a04-49eb-11e9-91dd-0242ac120002-1-857d"
    }
   },
   "source": [
    "webブラウザでアクセスして確認してみましょう。\n",
    "\n",
    "コンテナが動いているのが確認できたら、コンテナを捨てます。"
   ]
  },
  {
   "cell_type": "code",
   "execution_count": null,
   "metadata": {
    "lc_cell_meme": {
     "current": "6c34e658-49eb-11e9-91dd-0242ac120002-1-8db7",
     "history": [
      {
       "current": "6c34e658-49eb-11e9-91dd-0242ac120002",
       "next": null,
       "previous": "252a0a04-49eb-11e9-91dd-0242ac120002"
      },
      {
       "current": "6c34e658-49eb-11e9-91dd-0242ac120002",
       "next": "b437e9f0-49eb-11e9-91dd-0242ac120002",
       "previous": "252a0a04-49eb-11e9-91dd-0242ac120002"
      },
      {
       "current": "6c34e658-49eb-11e9-91dd-0242ac120002",
       "next": "84691674-49f3-11e9-8353-0242ac120002",
       "previous": "252a0a04-49eb-11e9-91dd-0242ac120002"
      },
      {
       "current": "6c34e658-49eb-11e9-91dd-0242ac120002-1-8db7",
       "next": "84691674-49f3-11e9-8353-0242ac120002",
       "previous": "ea4e701e-0d03-11ea-9309-0242ac120004"
      }
     ],
     "next": "84691674-49f3-11e9-8353-0242ac120002-1-ed75",
     "previous": "ea4e701e-0d03-11ea-9309-0242ac120004-1-cb99"
    },
    "pinned_outputs": [
     {
      "execution_count": 25,
      "outputs": [
       {
        "name": "stdout",
        "output_type": "stream",
        "text": "[ssh] host = target, cwd = /home/centos/docker-handson/dockerfile-demo\ngetstarted\n"
       }
      ]
     }
    ]
   },
   "outputs": [],
   "source": [
    "sudo docker container stop getstarted"
   ]
  },
  {
   "cell_type": "code",
   "execution_count": null,
   "metadata": {
    "lc_cell_meme": {
     "current": "84691674-49f3-11e9-8353-0242ac120002-1-ed75",
     "history": [
      {
       "current": "84691674-49f3-11e9-8353-0242ac120002-1-ed75",
       "next": "84691a0c-49f3-11e9-8353-0242ac120002",
       "previous": "6c34e658-49eb-11e9-91dd-0242ac120002"
      }
     ],
     "next": "84691a0c-49f3-11e9-8353-0242ac120002-1-06c1",
     "previous": "6c34e658-49eb-11e9-91dd-0242ac120002-1-8db7"
    },
    "pinned_outputs": [
     {
      "execution_count": 26,
      "outputs": [
       {
        "name": "stdout",
        "output_type": "stream",
        "text": "[ssh] host = target, cwd = /home/centos/docker-handson/dockerfile-demo\ngetstarted\n"
       }
      ]
     }
    ]
   },
   "outputs": [],
   "source": [
    "sudo docker container rm getstarted"
   ]
  },
  {
   "cell_type": "code",
   "execution_count": null,
   "metadata": {
    "lc_cell_meme": {
     "current": "84691a0c-49f3-11e9-8353-0242ac120002-1-06c1",
     "history": [
      {
       "current": "84691a0c-49f3-11e9-8353-0242ac120002",
       "next": null,
       "previous": "84691674-49f3-11e9-8353-0242ac120002"
      },
      {
       "current": "84691a0c-49f3-11e9-8353-0242ac120002-1-06c1",
       "next": "61c40190-4a09-11e9-9bd0-0242ac120002",
       "previous": "84691674-49f3-11e9-8353-0242ac120002"
      },
      {
       "current": "84691a0c-49f3-11e9-8353-0242ac120002-1-06c1",
       "next": "6e0bf6fc-0cf4-11ea-9309-0242ac120004-1-a8ad",
       "previous": "84691674-49f3-11e9-8353-0242ac120002-1-ed75"
      }
     ],
     "next": "70d791d0-1a53-11eb-b030-0242ac140004",
     "previous": "84691674-49f3-11e9-8353-0242ac120002-1-ed75"
    },
    "pinned_outputs": [
     {
      "execution_count": 27,
      "outputs": [
       {
        "name": "stdout",
        "output_type": "stream",
        "text": "[ssh] host = target, cwd = /home/centos/docker-handson/dockerfile-demo\nCONTAINER ID        IMAGE               COMMAND             CREATED             STATUS              PORTS               NAMES\n"
       }
      ]
     }
    ]
   },
   "outputs": [],
   "source": [
    "sudo docker container ls"
   ]
  },
  {
   "cell_type": "markdown",
   "metadata": {
    "lc_cell_meme": {
     "current": "70d791d0-1a53-11eb-b030-0242ac140004",
     "next": "6e0bf6fc-0cf4-11ea-9309-0242ac120004-1-a8ad",
     "previous": "84691a0c-49f3-11e9-8353-0242ac120002-1-06c1"
    }
   },
   "source": [
    "## sshからログアウト"
   ]
  },
  {
   "cell_type": "code",
   "execution_count": null,
   "metadata": {
    "lc_cell_meme": {
     "current": "6e0bf6fc-0cf4-11ea-9309-0242ac120004-1-a8ad",
     "history": [
      {
       "current": "6e0bf6fc-0cf4-11ea-9309-0242ac120004-1-a8ad",
       "next": "6e0bf8be-0cf4-11ea-9309-0242ac120004",
       "previous": "6e0bf24c-0cf4-11ea-9309-0242ac120004"
      },
      {
       "current": "6e0bf6fc-0cf4-11ea-9309-0242ac120004-1-a8ad",
       "next": "61c40190-4a09-11e9-9bd0-0242ac120002-1-9aed",
       "previous": "84691a0c-49f3-11e9-8353-0242ac120002-1-06c1"
      }
     ],
     "next": "61c40190-4a09-11e9-9bd0-0242ac120002-1-9aed",
     "previous": "70d791d0-1a53-11eb-b030-0242ac140004"
    },
    "pinned_outputs": [
     {
      "execution_count": 28,
      "outputs": [
       {
        "name": "stdout",
        "output_type": "stream",
        "text": "[ssh] Closing existing connection.\n[ssh] Successfully logged out.\n"
       }
      ]
     }
    ]
   },
   "outputs": [],
   "source": [
    "%logout"
   ]
  },
  {
   "cell_type": "code",
   "execution_count": null,
   "metadata": {
    "lc_cell_meme": {
     "current": "61c40190-4a09-11e9-9bd0-0242ac120002-1-9aed",
     "history": [
      {
       "current": "61c40190-4a09-11e9-9bd0-0242ac120002-1-9aed",
       "next": null,
       "previous": "84691a0c-49f3-11e9-8353-0242ac120002"
      }
     ],
     "next": null,
     "previous": "6e0bf6fc-0cf4-11ea-9309-0242ac120004-1-a8ad"
    }
   },
   "outputs": [],
   "source": []
  }
 ],
 "metadata": {
  "kernelspec": {
   "display_name": "SSH",
   "language": "bash",
   "name": "ssh"
  },
  "language_info": {
   "codemirror_mode": "shell",
   "file_extension": ".sh",
   "mimetype": "text/x-sh",
   "name": "ssh"
  },
  "lc_notebook_meme": {
   "current": "813e21de-49e8-11e9-91dd-0242ac120002",
   "lc_server_signature": {
    "current": {
     "notebook_dir": "/home/nagaku/notebooks",
     "notebook_path": "/docker-handson/dockerfile-demo",
     "server_url": "https://operationhub.kgr-lab.com/user/nagaku/",
     "signature_id": "95e8698e-1505-11eb-a6b9-0242ac120002"
    },
    "history": [
     {
      "notebook_dir": "/home/jovyan",
      "notebook_path": "/docker-handson",
      "server_url": "http://localhost:8888/",
      "signature_id": "8241fd1c-49de-11e9-91dd-0242ac120002"
     },
     {
      "notebook_dir": "/home/jovyan",
      "notebook_path": "/docker-handson/dockerfile-demo",
      "server_url": "http://localhost:8888/",
      "signature_id": "8241fd1c-49de-11e9-91dd-0242ac120002"
     },
     {
      "notebook_dir": "/home/jovyan",
      "notebook_path": "/docker-handson/dockerfile-demo",
      "server_url": "http://localhost:8888/",
      "signature_id": "31eff266-49f1-11e9-8353-0242ac120002"
     },
     {
      "notebook_dir": "/home/jovyan",
      "notebook_path": "/docker-handson/dockerfile-demo",
      "server_url": "http://localhost:8888/",
      "signature_id": "e181c450-4a07-11e9-9bd0-0242ac120002"
     },
     {
      "notebook_dir": "/home/user1/notebooks",
      "notebook_path": "/docker-handson/dockerfile-demo",
      "server_url": "https://operationhub.kgr-lab.com/user/user1/",
      "signature_id": "ae27fcb2-043f-11ea-b29c-0242ac120002"
     }
    ]
   }
  },
  "toc": {
   "base_numbering": 1,
   "nav_menu": {},
   "number_sections": true,
   "sideBar": true,
   "skip_h1_title": false,
   "title_cell": "Table of Contents",
   "title_sidebar": "Contents",
   "toc_cell": false,
   "toc_position": {},
   "toc_section_display": true,
   "toc_window_display": true
  }
 },
 "nbformat": 4,
 "nbformat_minor": 2
}
