{
 "cells": [
  {
   "cell_type": "markdown",
   "metadata": {
    "lc_cell_meme": {
     "current": "edbf5590-0cce-11ea-9309-0242ac120004",
     "history": [
      {
       "current": "edbf5590-0cce-11ea-9309-0242ac120004",
       "next": "b4a5bf0e-045b-11ea-bca4-0242ac120004",
       "previous": null
      },
      {
       "current": "edbf5590-0cce-11ea-9309-0242ac120004",
       "next": "edbf5590-0cce-11ea-9309-0242ac120004",
       "previous": null
      }
     ],
     "next": "5383adbc-0cd0-11ea-9309-0242ac120004",
     "previous": null
    }
   },
   "source": [
    "# 作業場所をGCP上に構築"
   ]
  },
  {
   "cell_type": "markdown",
   "metadata": {
    "lc_cell_meme": {
     "current": "5383adbc-0cd0-11ea-9309-0242ac120004",
     "next": "5383b0be-0cd0-11ea-9309-0242ac120004",
     "previous": "edbf5590-0cce-11ea-9309-0242ac120004"
    }
   },
   "source": [
    "## ユーザ名を識別子として保存"
   ]
  },
  {
   "cell_type": "code",
   "execution_count": null,
   "metadata": {
    "lc_cell_meme": {
     "current": "5383b0be-0cd0-11ea-9309-0242ac120004",
     "history": [
      {
       "current": "5383b0be-0cd0-11ea-9309-0242ac120004",
       "next": "edbf5590-0cce-11ea-9309-0242ac120004",
       "previous": "5383adbc-0cd0-11ea-9309-0242ac120004"
      }
     ],
     "next": "9aead978-0cd0-11ea-9309-0242ac120004",
     "previous": "5383adbc-0cd0-11ea-9309-0242ac120004"
    },
    "lc_wrapper": {
     "log_history": [
      "/home/user1/notebooks/.log/20191122/20191122-024027-0360.log",
      "/home/user1/notebooks/.log/20191122/20191122-030459-0158.log",
      "/home/user1/notebooks/.log/20191122/20191122-032216-0357.log",
      "/home/user1/notebooks/.log/20191122/20191122-042251-0616.log"
     ]
    },
    "pinned_outputs": [
     {
      "execution_count": 44,
      "outputs": [
       {
        "data": {
         "text/plain": "'user1'"
        },
        "execution_count": 44,
        "metadata": {},
        "output_type": "execute_result"
       }
      ]
     }
    ]
   },
   "outputs": [],
   "source": [
    "pwd = !pwd\n",
    "username = pwd[0].split(\"/\")[2]\n",
    "username"
   ]
  },
  {
   "cell_type": "markdown",
   "metadata": {
    "lc_cell_meme": {
     "current": "9aead978-0cd0-11ea-9309-0242ac120004",
     "next": "9aeadbbc-0cd0-11ea-9309-0242ac120004",
     "previous": "5383b0be-0cd0-11ea-9309-0242ac120004"
    }
   },
   "source": [
    "## ssh鍵の準備"
   ]
  },
  {
   "cell_type": "code",
   "execution_count": null,
   "metadata": {
    "lc_cell_meme": {
     "current": "9aeadbbc-0cd0-11ea-9309-0242ac120004",
     "next": "edbf5590-0cce-11ea-9309-0242ac120004",
     "previous": "9aead978-0cd0-11ea-9309-0242ac120004"
    },
    "lc_wrapper": {
     "log_history": [
      "/home/user1/notebooks/.log/20191122/20191122-024028-0746.log",
      "/home/user1/notebooks/.log/20191122/20191122-030500-0122.log",
      "/home/user1/notebooks/.log/20191122/20191122-032217-0478.log",
      "/home/user1/notebooks/.log/20191122/20191122-032451-0848.log",
      "/home/user1/notebooks/.log/20191122/20191122-032517-0823.log",
      "/home/user1/notebooks/.log/20191122/20191122-032535-0176.log",
      "/home/user1/notebooks/.log/20191122/20191122-032601-0934.log",
      "/home/user1/notebooks/.log/20191122/20191122-042253-0059.log"
     ]
    },
    "pinned_outputs": [
     {
      "execution_count": 45,
      "outputs": [
       {
        "name": "stdout",
        "output_type": "stream",
        "text": "removed '/home/user1/.ssh/sshkey'\nremoved '/home/user1/.ssh/sshkey.pub'\ntotal 16\ndrwx------.  2 user1 users   71 Nov 22 04:22 .\ndrwx------. 12 user1  1002  242 Nov 21 07:55 ..\n-rw-r--r--.  1 user1 users   93 Nov 22 03:42 config\n-rw-r--r--.  1 user1 users 2060 Nov 22 03:27 known_hosts\n-rw-------.  1 user1 users 1679 Nov 22 04:22 sshkey\n-rw-r--r--.  1 user1 users  387 Nov 22 04:22 sshkey.pub\n"
       }
      ]
     }
    ]
   },
   "outputs": [],
   "source": [
    "!mkdir -p ~/.ssh\n",
    "!rm -fv ~/.ssh/sshkey\n",
    "!rm -fv ~/.ssh/sshkey.pub\n",
    "!ssh-keygen -t rsa -C $username -f ~/.ssh/sshkey -q -N \"\"\n",
    "!chmod 600 ~/.ssh/sshkey\n",
    "r = !cat ~/.ssh/sshkey.pub\n",
    "sshkeypub = r[0]\n",
    "!ls -la ~/.ssh/"
   ]
  },
  {
   "cell_type": "markdown",
   "metadata": {
    "lc_cell_meme": {
     "current": "edbf5590-0cce-11ea-9309-0242ac120004",
     "history": [
      {
       "current": "edbf5590-0cce-11ea-9309-0242ac120004",
       "next": "b4a5bf0e-045b-11ea-bca4-0242ac120004",
       "previous": null
      },
      {
       "current": "edbf5590-0cce-11ea-9309-0242ac120004",
       "next": "b4a5bf0e-045b-11ea-bca4-0242ac120004",
       "previous": "edbf5590-0cce-11ea-9309-0242ac120004"
      },
      {
       "current": "edbf5590-0cce-11ea-9309-0242ac120004",
       "next": "b4a5bf0e-045b-11ea-bca4-0242ac120004",
       "previous": "5383b0be-0cd0-11ea-9309-0242ac120004"
      }
     ],
     "next": "b4a5bf0e-045b-11ea-bca4-0242ac120004",
     "previous": "9aeadbbc-0cd0-11ea-9309-0242ac120004"
    }
   },
   "source": [
    "## 認証"
   ]
  },
  {
   "cell_type": "code",
   "execution_count": null,
   "metadata": {
    "lc_cell_meme": {
     "current": "b4a5bf0e-045b-11ea-bca4-0242ac120004",
     "history": [
      {
       "current": "b4a5bf0e-045b-11ea-bca4-0242ac120004",
       "next": "fdef7916-044c-11ea-9d36-0242ac120004",
       "previous": "b4a5be28-045b-11ea-bca4-0242ac120004"
      },
      {
       "current": "b4a5bf0e-045b-11ea-bca4-0242ac120004",
       "next": "bd924214-0766-11ea-a0cf-0242ac120005",
       "previous": null
      },
      {
       "current": "b4a5bf0e-045b-11ea-bca4-0242ac120004",
       "next": "bd924214-0766-11ea-a0cf-0242ac120005",
       "previous": "edbf5590-0cce-11ea-9309-0242ac120004"
      }
     ],
     "next": "5383b208-0cd0-11ea-9309-0242ac120004",
     "previous": "edbf5590-0cce-11ea-9309-0242ac120004"
    },
    "lc_wrapper": {
     "log_history": [
      "/home/user1/notebooks/.log/20191115/20191115-051331-0618.log",
      "/home/user1/notebooks/.log/20191115/20191115-051340-0397.log",
      "/home/user1/notebooks/.log/20191115/20191115-053055-0151.log",
      "/home/user1/notebooks/.log/20191115/20191115-054800-0749.log",
      "/home/user1/notebooks/.log/20191115/20191115-055021-0490.log",
      "/home/user1/notebooks/.log/20191118/20191118-093912-0063.log",
      "/home/user1/notebooks/.log/20191121/20191121-070201-0216.log",
      "/home/user1/notebooks/.log/20191122/20191122-024033-0799.log",
      "/home/user1/notebooks/.log/20191122/20191122-030502-0473.log",
      "/home/user1/notebooks/.log/20191122/20191122-030727-0574.log",
      "/home/user1/notebooks/.log/20191122/20191122-032617-0222.log",
      "/home/user1/notebooks/.log/20191122/20191122-042300-0936.log"
     ]
    },
    "pinned_outputs": [
     {
      "execution_count": 46,
      "outputs": [
       {
        "name": "stdout",
        "output_type": "stream",
        "text": "Activated service account credentials for: [topse-students@topse-nagaku.iam.gserviceaccount.com]\r\n"
       }
      ]
     }
    ]
   },
   "outputs": [],
   "source": [
    "!gcloud auth activate-service-account --key-file topse-nagaku-4052cd1840ff.json"
   ]
  },
  {
   "cell_type": "markdown",
   "metadata": {
    "lc_cell_meme": {
     "current": "5383b208-0cd0-11ea-9309-0242ac120004",
     "next": "bd924214-0766-11ea-a0cf-0242ac120005",
     "previous": "b4a5bf0e-045b-11ea-bca4-0242ac120004"
    }
   },
   "source": [
    "## デフォルトのリージョンとゾーンを設定"
   ]
  },
  {
   "cell_type": "code",
   "execution_count": null,
   "metadata": {
    "lc_cell_meme": {
     "current": "bd924214-0766-11ea-a0cf-0242ac120005",
     "history": [
      {
       "current": "bd924214-0766-11ea-a0cf-0242ac120005",
       "next": "bd924584-0766-11ea-a0cf-0242ac120005",
       "previous": "b4a5bf0e-045b-11ea-bca4-0242ac120004"
      },
      {
       "current": "bd924214-0766-11ea-a0cf-0242ac120005",
       "next": "4cc086d0-0767-11ea-a0cf-0242ac120005",
       "previous": "b4a5bf0e-045b-11ea-bca4-0242ac120004"
      },
      {
       "current": "bd924214-0766-11ea-a0cf-0242ac120005",
       "next": "4cc086d0-0767-11ea-a0cf-0242ac120005",
       "previous": "5383b208-0cd0-11ea-9309-0242ac120004"
      }
     ],
     "next": "e28310c0-0cd0-11ea-9309-0242ac120004",
     "previous": "5383b208-0cd0-11ea-9309-0242ac120004"
    },
    "lc_wrapper": {
     "log_history": [
      "/home/user1/notebooks/.log/20191115/20191115-052004-0874.log",
      "/home/user1/notebooks/.log/20191115/20191115-053058-0907.log",
      "/home/user1/notebooks/.log/20191115/20191115-054802-0250.log",
      "/home/user1/notebooks/.log/20191115/20191115-055023-0072.log",
      "/home/user1/notebooks/.log/20191118/20191118-093913-0642.log",
      "/home/user1/notebooks/.log/20191121/20191121-070206-0612.log",
      "/home/user1/notebooks/.log/20191122/20191122-024039-0369.log",
      "/home/user1/notebooks/.log/20191122/20191122-024222-0588.log",
      "/home/user1/notebooks/.log/20191122/20191122-030734-0492.log",
      "/home/user1/notebooks/.log/20191122/20191122-032622-0146.log",
      "/home/user1/notebooks/.log/20191122/20191122-042305-0200.log"
     ]
    },
    "pinned_outputs": [
     {
      "execution_count": 47,
      "outputs": [
       {
        "name": "stdout",
        "output_type": "stream",
        "text": "Updated property [compute/zone].\nUpdated property [compute/region].\n"
       }
      ]
     }
    ]
   },
   "outputs": [],
   "source": [
    "!gcloud config set compute/zone us-west1-b\n",
    "!gcloud config set compute/region us-west1"
   ]
  },
  {
   "cell_type": "markdown",
   "metadata": {
    "lc_cell_meme": {
     "current": "e28310c0-0cd0-11ea-9309-0242ac120004",
     "next": "4cc08a68-0767-11ea-a0cf-0242ac120005",
     "previous": "bd924214-0766-11ea-a0cf-0242ac120005"
    }
   },
   "source": [
    "## gcloudコマンドの動作確認"
   ]
  },
  {
   "cell_type": "code",
   "execution_count": null,
   "metadata": {
    "lc_cell_meme": {
     "current": "4cc08a68-0767-11ea-a0cf-0242ac120005",
     "history": [
      {
       "current": "4cc08a68-0767-11ea-a0cf-0242ac120005",
       "next": "bd924584-0766-11ea-a0cf-0242ac120005",
       "previous": "4cc086d0-0767-11ea-a0cf-0242ac120005"
      },
      {
       "current": "4cc08a68-0767-11ea-a0cf-0242ac120005",
       "next": "17db3b2e-076a-11ea-a0cf-0242ac120005",
       "previous": "4cc086d0-0767-11ea-a0cf-0242ac120005"
      }
     ],
     "next": "17db3b2e-076a-11ea-a0cf-0242ac120005",
     "previous": "e28310c0-0cd0-11ea-9309-0242ac120004"
    },
    "lc_wrapper": {
     "log_history": [
      "/home/user1/notebooks/.log/20191115/20191115-052026-0632.log",
      "/home/user1/notebooks/.log/20191115/20191115-053100-0787.log",
      "/home/user1/notebooks/.log/20191115/20191115-054804-0126.log",
      "/home/user1/notebooks/.log/20191115/20191115-055024-0950.log",
      "/home/user1/notebooks/.log/20191118/20191118-093919-0565.log",
      "/home/user1/notebooks/.log/20191121/20191121-070210-0385.log",
      "/home/user1/notebooks/.log/20191122/20191122-024233-0825.log",
      "/home/user1/notebooks/.log/20191122/20191122-030737-0181.log",
      "/home/user1/notebooks/.log/20191122/20191122-032625-0949.log",
      "/home/user1/notebooks/.log/20191122/20191122-042308-0970.log"
     ]
    },
    "pinned_outputs": [
     {
      "execution_count": 48,
      "outputs": [
       {
        "name": "stdout",
        "output_type": "stream",
        "text": "NAME          ZONE        MACHINE_TYPE   PREEMPTIBLE  INTERNAL_IP  EXTERNAL_IP   STATUS\r\noperationhub  us-west1-b  n1-standard-4  true         10.138.0.2   34.82.78.204  RUNNING\r\n"
       }
      ]
     }
    ]
   },
   "outputs": [],
   "source": [
    "!gcloud compute instances list"
   ]
  },
  {
   "cell_type": "code",
   "execution_count": null,
   "metadata": {
    "lc_cell_meme": {
     "current": "17db3b2e-076a-11ea-a0cf-0242ac120005",
     "history": [
      {
       "current": "17db3b2e-076a-11ea-a0cf-0242ac120005",
       "next": "bd924584-0766-11ea-a0cf-0242ac120005",
       "previous": "4cc08a68-0767-11ea-a0cf-0242ac120005"
      },
      {
       "current": "17db3b2e-076a-11ea-a0cf-0242ac120005",
       "next": "7ce4dc6e-0c2e-11ea-a3bf-0242ac120004",
       "previous": "4cc08a68-0767-11ea-a0cf-0242ac120005"
      },
      {
       "current": "17db3b2e-076a-11ea-a0cf-0242ac120005",
       "next": "a338c8e8-0c34-11ea-a3bf-0242ac120004",
       "previous": "4cc08a68-0767-11ea-a0cf-0242ac120005"
      },
      {
       "current": "17db3b2e-076a-11ea-a0cf-0242ac120005",
       "next": "c46439cc-0c2e-11ea-a3bf-0242ac120004",
       "previous": "4cc08a68-0767-11ea-a0cf-0242ac120005"
      }
     ],
     "next": "e283132c-0cd0-11ea-9309-0242ac120004",
     "previous": "4cc08a68-0767-11ea-a0cf-0242ac120005"
    },
    "lc_wrapper": {
     "log_history": [
      "/home/user1/notebooks/.log/20191115/20191115-053719-0012.log",
      "/home/user1/notebooks/.log/20191115/20191115-053952-0109.log",
      "/home/user1/notebooks/.log/20191115/20191115-054020-0052.log",
      "/home/user1/notebooks/.log/20191115/20191115-054034-0137.log",
      "/home/user1/notebooks/.log/20191115/20191115-054808-0505.log",
      "/home/user1/notebooks/.log/20191115/20191115-055813-0360.log",
      "/home/user1/notebooks/.log/20191118/20191118-093932-0045.log",
      "/home/user1/notebooks/.log/20191121/20191121-070215-0430.log",
      "/home/user1/notebooks/.log/20191122/20191122-024236-0385.log",
      "/home/user1/notebooks/.log/20191122/20191122-030739-0765.log",
      "/home/user1/notebooks/.log/20191122/20191122-032628-0428.log",
      "/home/user1/notebooks/.log/20191122/20191122-042312-0620.log"
     ]
    },
    "pinned_outputs": [
     {
      "execution_count": 49,
      "outputs": [
       {
        "name": "stdout",
        "output_type": "stream",
        "text": "NAME                                                  PROJECT            FAMILY                            DEPRECATED  STATUS\ncentos-6-v20191121                                    centos-cloud       centos-6                                      READY\ncentos-7-v20191121                                    centos-cloud       centos-7                                      READY\ncentos-8-v20191121                                    centos-cloud       centos-8                                      READY\ncoreos-alpha-2331-0-0-v20191120                       coreos-cloud       coreos-alpha                                  READY\ncoreos-beta-2303-2-0-v20191120                        coreos-cloud       coreos-beta                                   READY\ncoreos-stable-2247-7-0-v20191120                      coreos-cloud       coreos-stable                                 READY\ncos-69-10895-385-0                                    cos-cloud          cos-69-lts                                    READY\ncos-73-11647-348-0                                    cos-cloud          cos-73-lts                                    READY\ncos-77-12371-114-0                                    cos-cloud          cos-77-lts                                    READY\ncos-beta-79-12607-32-0                                cos-cloud          cos-beta                                      READY\ncos-dev-80-12688-0-0                                  cos-cloud          cos-dev                                       READY\ncos-stable-78-12499-59-0                              cos-cloud          cos-stable                                    READY\ndebian-10-buster-v20191121                            debian-cloud       debian-10                                     READY\ndebian-9-stretch-v20191121                            debian-cloud       debian-9                                      READY\nrhel-6-v20191121                                      rhel-cloud         rhel-6                                        READY\nrhel-7-v20191121                                      rhel-cloud         rhel-7                                        READY\nrhel-8-v20191121                                      rhel-cloud         rhel-8                                        READY\nrhel-7-4-sap-v20191121                                rhel-sap-cloud     rhel-7-4-sap                                  READY\nrhel-7-6-sap-v20191121                                rhel-sap-cloud     rhel-7-6-sap-ha                               READY\nrhel-7-7-sap-v20191121                                rhel-sap-cloud     rhel-7-7-sap-ha                               READY\nsles-12-sp4-v20191113                                 suse-cloud         sles-12                                       READY\nsles-15-sp1-v20191113                                 suse-cloud         sles-15                                       READY\nsles-12-sp1-sap-v20191113                             suse-sap-cloud     sles-12-sp1-sap                               READY\nsles-12-sp2-sap-v20190617                             suse-sap-cloud     sles-12-sp2-sap                               READY\nsles-12-sp3-sap-v20191113                             suse-sap-cloud     sles-12-sp3-sap                               READY\nsles-12-sp4-sap-v20191113                             suse-sap-cloud     sles-12-sp4-sap                               READY\nsles-15-sap-v20191116                                 suse-sap-cloud     sles-15-sap                                   READY\nsles-15-sp1-sap-v20191113                             suse-sap-cloud     sles-15-sp1-sap                               READY\nubuntu-1404-trusty-v20191107                          ubuntu-os-cloud    ubuntu-1404-lts                               READY\nubuntu-1604-xenial-v20191113                          ubuntu-os-cloud    ubuntu-1604-lts                               READY\nubuntu-1804-bionic-v20191113                          ubuntu-os-cloud    ubuntu-1804-lts                               READY\nubuntu-1904-disco-v20191113a                          ubuntu-os-cloud    ubuntu-1904                                   READY\nubuntu-1910-eoan-v20191114                            ubuntu-os-cloud    ubuntu-1910                                   READY\nubuntu-minimal-1604-xenial-v20191113                  ubuntu-os-cloud    ubuntu-minimal-1604-lts                       READY\nubuntu-minimal-1804-bionic-v20191113                  ubuntu-os-cloud    ubuntu-minimal-1804-lts                       READY\nwindows-server-1803-dc-core-for-containers-v20191112  windows-cloud      windows-1803-core-for-containers              READY\nwindows-server-1803-dc-core-v20191112                 windows-cloud      windows-1803-core                             READY\nwindows-server-1809-dc-core-for-containers-v20191112  windows-cloud      windows-1809-core-for-containers              READY\nwindows-server-1809-dc-core-v20191112                 windows-cloud      windows-1809-core                             READY\nwindows-server-1903-dc-core-v20191112                 windows-cloud      windows-1903-core                             READY\nwindows-server-2008-r2-dc-v20191112                   windows-cloud      windows-2008-r2                               READY\nwindows-server-2012-r2-dc-core-v20191112              windows-cloud      windows-2012-r2-core                          READY\nwindows-server-2012-r2-dc-v20191112                   windows-cloud      windows-2012-r2                               READY\nwindows-server-2016-dc-core-v20191112                 windows-cloud      windows-2016-core                             READY\nwindows-server-2016-dc-v20191112                      windows-cloud      windows-2016                                  READY\nwindows-server-2019-dc-core-for-containers-v20191112  windows-cloud      windows-2019-core-for-containers              READY\nwindows-server-2019-dc-core-v20191112                 windows-cloud      windows-2019-core                             READY\nwindows-server-2019-dc-for-containers-v20191112       windows-cloud      windows-2019-for-containers                   READY\nwindows-server-2019-dc-v20191112                      windows-cloud      windows-2019                                  READY\nsql-2012-enterprise-windows-2012-r2-dc-v20191112      windows-sql-cloud  sql-ent-2012-win-2012-r2                      READY\nsql-2012-standard-windows-2012-r2-dc-v20191112        windows-sql-cloud  sql-std-2012-win-2012-r2                      READY\nsql-2012-web-windows-2012-r2-dc-v20191112             windows-sql-cloud  sql-web-2012-win-2012-r2                      READY\nsql-2014-enterprise-windows-2012-r2-dc-v20191112      windows-sql-cloud  sql-ent-2014-win-2012-r2                      READY\nsql-2014-enterprise-windows-2016-dc-v20191112         windows-sql-cloud  sql-ent-2014-win-2016                         READY\nsql-2014-standard-windows-2012-r2-dc-v20191112        windows-sql-cloud  sql-std-2014-win-2012-r2                      READY\nsql-2014-web-windows-2012-r2-dc-v20191112             windows-sql-cloud  sql-web-2014-win-2012-r2                      READY\nsql-2016-enterprise-windows-2012-r2-dc-v20191112      windows-sql-cloud  sql-ent-2016-win-2012-r2                      READY\nsql-2016-enterprise-windows-2016-dc-v20191112         windows-sql-cloud  sql-ent-2016-win-2016                         READY\nsql-2016-enterprise-windows-2019-dc-v20191112         windows-sql-cloud  sql-ent-2016-win-2019                         READY\nsql-2016-standard-windows-2012-r2-dc-v20191112        windows-sql-cloud  sql-std-2016-win-2012-r2                      READY\nsql-2016-standard-windows-2016-dc-v20191112           windows-sql-cloud  sql-std-2016-win-2016                         READY\nsql-2016-standard-windows-2019-dc-v20191112           windows-sql-cloud  sql-std-2016-win-2019                         READY\nsql-2016-web-windows-2012-r2-dc-v20191112             windows-sql-cloud  sql-web-2016-win-2012-r2                      READY\nubuntu-minimal-1904-disco-v20191113                   ubuntu-os-cloud    ubuntu-minimal-1904                           READY\nubuntu-minimal-1910-eoan-v20191113                    ubuntu-os-cloud    ubuntu-minimal-1910                           READY\nsql-2016-web-windows-2016-dc-v20191112                windows-sql-cloud  sql-web-2016-win-2016                         READY\nsql-2016-web-windows-2019-dc-v20191112                windows-sql-cloud  sql-web-2016-win-2019                         READY\nsql-2017-enterprise-windows-2016-dc-v20191112         windows-sql-cloud  sql-ent-2017-win-2016                         READY\nsql-2017-enterprise-windows-2019-dc-v20191112         windows-sql-cloud  sql-ent-2017-win-2019                         READY\nsql-2017-express-windows-2012-r2-dc-v20191112         windows-sql-cloud  sql-exp-2017-win-2012-r2                      READY\nsql-2017-express-windows-2016-dc-v20191112            windows-sql-cloud  sql-exp-2017-win-2016                         READY\nsql-2017-express-windows-2019-dc-v20191112            windows-sql-cloud  sql-exp-2017-win-2019                         READY\nsql-2017-standard-windows-2016-dc-v20191112           windows-sql-cloud  sql-std-2017-win-2016                         READY\nsql-2017-standard-windows-2019-dc-v20191112           windows-sql-cloud  sql-std-2017-win-2019                         READY\nsql-2017-web-windows-2016-dc-v20191112                windows-sql-cloud  sql-web-2017-win-2016                         READY\nsql-2017-web-windows-2019-dc-v20191112                windows-sql-cloud  sql-web-2017-win-2019                         READY\n"
       }
      ]
     }
    ]
   },
   "outputs": [],
   "source": [
    "!gcloud compute images list"
   ]
  },
  {
   "cell_type": "markdown",
   "metadata": {
    "lc_cell_meme": {
     "current": "e283132c-0cd0-11ea-9309-0242ac120004",
     "next": "c46439cc-0c2e-11ea-a3bf-0242ac120004",
     "previous": "17db3b2e-076a-11ea-a0cf-0242ac120005"
    }
   },
   "source": [
    "## 仮想マシンの起動"
   ]
  },
  {
   "cell_type": "code",
   "execution_count": null,
   "metadata": {
    "lc_cell_meme": {
     "current": "c46439cc-0c2e-11ea-a3bf-0242ac120004",
     "history": [
      {
       "current": "c46439cc-0c2e-11ea-a3bf-0242ac120004",
       "next": "bd924584-0766-11ea-a0cf-0242ac120005",
       "previous": "7ce4dc6e-0c2e-11ea-a3bf-0242ac120004"
      },
      {
       "current": "c46439cc-0c2e-11ea-a3bf-0242ac120004",
       "next": "f6037a34-0c32-11ea-a3bf-0242ac120004",
       "previous": "7ce4dc6e-0c2e-11ea-a3bf-0242ac120004"
      },
      {
       "current": "c46439cc-0c2e-11ea-a3bf-0242ac120004",
       "next": "f6037d0e-0c32-11ea-a3bf-0242ac120004",
       "previous": "7ce4dc6e-0c2e-11ea-a3bf-0242ac120004"
      },
      {
       "current": "c46439cc-0c2e-11ea-a3bf-0242ac120004",
       "next": "f6037d0e-0c32-11ea-a3bf-0242ac120004",
       "previous": "a338cc62-0c34-11ea-a3bf-0242ac120004"
      },
      {
       "current": "c46439cc-0c2e-11ea-a3bf-0242ac120004",
       "next": "db534448-0c3d-11ea-a3bf-0242ac120004",
       "previous": "a338cc62-0c34-11ea-a3bf-0242ac120004"
      },
      {
       "current": "c46439cc-0c2e-11ea-a3bf-0242ac120004",
       "next": "db534448-0c3d-11ea-a3bf-0242ac120004",
       "previous": "17db3b2e-076a-11ea-a0cf-0242ac120005"
      },
      {
       "current": "c46439cc-0c2e-11ea-a3bf-0242ac120004",
       "next": "db534448-0c3d-11ea-a3bf-0242ac120004",
       "previous": "e283132c-0cd0-11ea-9309-0242ac120004"
      }
     ],
     "next": "663f3b3a-0cd3-11ea-9309-0242ac120004",
     "previous": "e283132c-0cd0-11ea-9309-0242ac120004"
    },
    "lc_wrapper": {
     "log_history": [
      "/home/user1/notebooks/.log/20191121/20191121-071530-0515.log",
      "/home/user1/notebooks/.log/20191121/20191121-071558-0228.log",
      "/home/user1/notebooks/.log/20191121/20191121-071900-0616.log",
      "/home/user1/notebooks/.log/20191121/20191121-072245-0209.log",
      "/home/user1/notebooks/.log/20191121/20191121-073133-0692.log",
      "/home/user1/notebooks/.log/20191121/20191121-084838-0370.log",
      "/home/user1/notebooks/.log/20191121/20191121-084905-0281.log",
      "/home/user1/notebooks/.log/20191121/20191121-085554-0777.log",
      "/home/user1/notebooks/.log/20191121/20191121-085623-0090.log",
      "/home/user1/notebooks/.log/20191121/20191121-085701-0510.log",
      "/home/user1/notebooks/.log/20191121/20191121-090324-0268.log",
      "/home/user1/notebooks/.log/20191122/20191122-022048-0153.log",
      "/home/user1/notebooks/.log/20191122/20191122-024312-0100.log",
      "/home/user1/notebooks/.log/20191122/20191122-024528-0234.log",
      "/home/user1/notebooks/.log/20191122/20191122-030742-0676.log",
      "/home/user1/notebooks/.log/20191122/20191122-032635-0555.log",
      "/home/user1/notebooks/.log/20191122/20191122-042316-0442.log"
     ]
    },
    "pinned_outputs": [
     {
      "execution_count": 50,
      "outputs": [
       {
        "name": "stdout",
        "output_type": "stream",
        "text": "['Created [https://www.googleapis.com/compute/v1/projects/topse-nagaku/zones/us-west1-b/instances/user1-target].', 'NAME          ZONE        MACHINE_TYPE   PREEMPTIBLE  INTERNAL_IP  EXTERNAL_IP   STATUS', 'user1-target  us-west1-b  n1-standard-2  true         10.138.0.18  34.82.110.77  RUNNING']\n"
       },
       {
        "data": {
         "text/plain": "'10.138.0.18'"
        },
        "execution_count": 50,
        "metadata": {},
        "output_type": "execute_result"
       }
      ]
     }
    ],
    "scrolled": true
   },
   "outputs": [],
   "source": [
    "r = !gcloud compute instances create $username-target \\\n",
    "--machine-type=n1-standard-2 --metadata ssh-keys=\"$username:$sshkeypub\" \\\n",
    "--preemptible --tags=http-server --image-family=centos-7 \\\n",
    "--image-project=centos-cloud\n",
    "print(r)\n",
    "linux = r[2].split()\n",
    "host = linux[4]\n",
    "host"
   ]
  },
  {
   "cell_type": "markdown",
   "metadata": {
    "lc_cell_meme": {
     "current": "663f3b3a-0cd3-11ea-9309-0242ac120004",
     "next": "db534448-0c3d-11ea-a3bf-0242ac120004",
     "previous": "c46439cc-0c2e-11ea-a3bf-0242ac120004"
    }
   },
   "source": [
    "## 仮想マシンにansibleでdocker環境を作る"
   ]
  },
  {
   "cell_type": "code",
   "execution_count": null,
   "metadata": {
    "lc_cell_meme": {
     "current": "db534448-0c3d-11ea-a3bf-0242ac120004",
     "history": [
      {
       "current": "db534448-0c3d-11ea-a3bf-0242ac120004",
       "next": "c420a6cc-0c41-11ea-a3bf-0242ac120004",
       "previous": "c46439cc-0c2e-11ea-a3bf-0242ac120004"
      },
      {
       "current": "db534448-0c3d-11ea-a3bf-0242ac120004",
       "next": "c420a6cc-0c41-11ea-a3bf-0242ac120004",
       "previous": "663f3b3a-0cd3-11ea-9309-0242ac120004"
      }
     ],
     "next": "a278bb4c-0cd5-11ea-9309-0242ac120004",
     "previous": "663f3b3a-0cd3-11ea-9309-0242ac120004"
    },
    "lc_wrapper": {
     "log_history": [
      "/home/user1/notebooks/.log/20191121/20191121-093116-0992.log",
      "/home/user1/notebooks/.log/20191121/20191121-093124-0770.log",
      "/home/user1/notebooks/.log/20191122/20191122-030804-0920.log",
      "/home/user1/notebooks/.log/20191122/20191122-032646-0135.log",
      "/home/user1/notebooks/.log/20191122/20191122-042329-0596.log"
     ]
    }
   },
   "outputs": [],
   "source": [
    "ansible_ssh_private_key_file = \"~/.ssh/sshkey\"\n",
    "\n",
    "with open('hosts', mode='w') as f:\n",
    "    f.write(host + ' ansible_user=' + username + ' ansible_ssh_private_key_file='\n",
    "            + ansible_ssh_private_key_file)"
   ]
  },
  {
   "cell_type": "markdown",
   "metadata": {
    "lc_cell_meme": {
     "current": "a278bb4c-0cd5-11ea-9309-0242ac120004",
     "history": [
      {
       "current": "a278bb4c-0cd5-11ea-9309-0242ac120004",
       "next": "c420a6cc-0c41-11ea-a3bf-0242ac120004",
       "previous": "db534448-0c3d-11ea-a3bf-0242ac120004"
      }
     ],
     "next": "a278bb4c-0cd5-11ea-9309-0242ac120004",
     "previous": "db534448-0c3d-11ea-a3bf-0242ac120004"
    }
   },
   "source": [
    "作成した接続情報を使う前に、対象となるLinuxマシンを信頼できるホストとして、fingerprint登録しておきます。JupyterのTerminalを使って、ダミーのssh実行を行うと登録されます。"
   ]
  },
  {
   "cell_type": "code",
   "execution_count": null,
   "metadata": {
    "lc_cell_meme": {
     "current": "a278bb4c-0cd5-11ea-9309-0242ac120004",
     "history": [
      {
       "current": "a278bb4c-0cd5-11ea-9309-0242ac120004",
       "next": "c420a6cc-0c41-11ea-a3bf-0242ac120004",
       "previous": "db534448-0c3d-11ea-a3bf-0242ac120004"
      },
      {
       "current": "a278bb4c-0cd5-11ea-9309-0242ac120004",
       "next": "c420a6cc-0c41-11ea-a3bf-0242ac120004",
       "previous": "a278bb4c-0cd5-11ea-9309-0242ac120004"
      }
     ],
     "next": "a278bb4c-0cd5-11ea-9309-0242ac120004",
     "previous": "a278bb4c-0cd5-11ea-9309-0242ac120004"
    },
    "lc_wrapper": {
     "log_history": [
      "/home/user1/notebooks/.log/20191122/20191122-031504-0059.log",
      "/home/user1/notebooks/.log/20191122/20191122-031607-0230.log",
      "/home/user1/notebooks/.log/20191122/20191122-032648-0152.log",
      "/home/user1/notebooks/.log/20191122/20191122-042330-0499.log"
     ]
    },
    "pinned_outputs": [
     {
      "execution_count": 52,
      "outputs": [
       {
        "name": "stdout",
        "output_type": "stream",
        "text": "$ ssh -i ~/.ssh/sshkey user1@10.138.0.18\n"
       }
      ]
     }
    ]
   },
   "outputs": [],
   "source": [
    "print(\"$ ssh -i \"+ansible_ssh_private_key_file+\" \"+username+\"@\"+host)"
   ]
  },
  {
   "cell_type": "markdown",
   "metadata": {
    "lc_cell_meme": {
     "current": "a278bb4c-0cd5-11ea-9309-0242ac120004",
     "history": [
      {
       "current": "a278bb4c-0cd5-11ea-9309-0242ac120004",
       "next": "c420a6cc-0c41-11ea-a3bf-0242ac120004",
       "previous": "db534448-0c3d-11ea-a3bf-0242ac120004"
      }
     ],
     "next": "c420a6cc-0c41-11ea-a3bf-0242ac120004",
     "previous": "a278bb4c-0cd5-11ea-9309-0242ac120004"
    }
   },
   "source": [
    "上記のコマンドを実行し\n",
    "```\n",
    "（中略）\n",
    "Are you sure you want to continue connecting (yes/no)? yes←信頼しますよの意味で入力する\n",
    "（以下略）\n",
    "```\n",
    "として、fingerprint登録します。ssh接続は\n",
    "```\n",
    "exit\n",
    "```\n",
    "で終了させてください。\n",
    "\n",
    "ansible経由でdocker環境を構築します。"
   ]
  },
  {
   "cell_type": "code",
   "execution_count": null,
   "metadata": {
    "lc_cell_meme": {
     "current": "c420a6cc-0c41-11ea-a3bf-0242ac120004",
     "history": [
      {
       "current": "c420a6cc-0c41-11ea-a3bf-0242ac120004",
       "next": "c420aa64-0c41-11ea-a3bf-0242ac120004",
       "previous": "db534448-0c3d-11ea-a3bf-0242ac120004"
      },
      {
       "current": "c420a6cc-0c41-11ea-a3bf-0242ac120004",
       "next": "e23bce2e-0c42-11ea-a3bf-0242ac120004",
       "previous": "db534448-0c3d-11ea-a3bf-0242ac120004"
      }
     ],
     "next": "e23bce2e-0c42-11ea-a3bf-0242ac120004",
     "previous": "a278bb4c-0cd5-11ea-9309-0242ac120004"
    },
    "lc_wrapper": {
     "log_history": [
      "/home/user1/notebooks/.log/20191121/20191121-093147-0470.log",
      "/home/user1/notebooks/.log/20191122/20191122-030805-0858.log",
      "/home/user1/notebooks/.log/20191122/20191122-032759-0305.log",
      "/home/user1/notebooks/.log/20191122/20191122-042405-0698.log"
     ]
    },
    "pinned_outputs": [
     {
      "execution_count": 53,
      "outputs": [
       {
        "name": "stdout",
        "output_type": "stream",
        "text": "\u001b[0;32m10.138.0.18 | SUCCESS => {\u001b[0m\r\n\u001b[0;32m    \"ansible_facts\": {\u001b[0m\r\n\u001b[0;32m        \"discovered_interpreter_python\": \"/usr/bin/python\"\u001b[0m\r\n\u001b[0;32m    },\u001b[0m\r\n\u001b[0;32m    \"changed\": false,\u001b[0m\r\n\u001b[0;32m    \"msg\": \"\",\u001b[0m\r\n\u001b[0;32m    \"rc\": 0,\u001b[0m\r\n\u001b[0;32m    \"results\": [\u001b[0m\r\n\u001b[0;32m        \"Nothing to do here, all packages are up to date\"\u001b[0m\r\n\u001b[0;32m    ]\u001b[0m\r\n\u001b[0;32m}\u001b[0m\r\n"
       }
      ]
     }
    ]
   },
   "outputs": [],
   "source": [
    "!ansible -i hosts $host -m yum -a \"name=* state=latest\" --become"
   ]
  },
  {
   "cell_type": "code",
   "execution_count": null,
   "metadata": {
    "lc_cell_meme": {
     "current": "e23bce2e-0c42-11ea-a3bf-0242ac120004",
     "history": [
      {
       "current": "e23bce2e-0c42-11ea-a3bf-0242ac120004",
       "next": null,
       "previous": "e23bcb2c-0c42-11ea-a3bf-0242ac120004"
      },
      {
       "current": "e23bce2e-0c42-11ea-a3bf-0242ac120004",
       "next": null,
       "previous": "c420a6cc-0c41-11ea-a3bf-0242ac120004"
      },
      {
       "current": "e23bce2e-0c42-11ea-a3bf-0242ac120004",
       "next": "6db3ba94-0cd8-11ea-9309-0242ac120004",
       "previous": "c420a6cc-0c41-11ea-a3bf-0242ac120004"
      }
     ],
     "next": "fcca0210-0cd8-11ea-9309-0242ac120004",
     "previous": "c420a6cc-0c41-11ea-a3bf-0242ac120004"
    },
    "lc_wrapper": {
     "log_history": [
      "/home/user1/notebooks/.log/20191122/20191122-032851-0174.log",
      "/home/user1/notebooks/.log/20191122/20191122-042423-0490.log"
     ]
    },
    "pinned_outputs": [
     {
      "execution_count": 54,
      "outputs": [
       {
        "name": "stdout",
        "output_type": "stream",
        "text": "\u001b[0;33m10.138.0.18 | CHANGED => {\u001b[0m\n\u001b[0;33m    \"ansible_facts\": {\u001b[0m\n\u001b[0;33m        \"discovered_interpreter_python\": \"/usr/bin/python\"\u001b[0m\n\u001b[0;33m    },\u001b[0m\n\u001b[0;33m    \"changed\": true,\u001b[0m\n\u001b[0;33m    \"changes\": {\u001b[0m\n\u001b[0;33m        \"installed\": [\u001b[0m\n\u001b[0;33m            \"docker\",\u001b[0m\n\u001b[0;33m            \"docker-compose\"\u001b[0m\n\u001b[0;33m        ],\u001b[0m\n\u001b[0;33m        \"updated\": []\u001b[0m\n\u001b[0;33m    },\u001b[0m\n\u001b[0;33m    \"msg\": \"\",\u001b[0m\n\u001b[0;33m    \"rc\": 0,\u001b[0m\n\u001b[0;33m    \"results\": [\u001b[0m\n\u001b[0;33m        \"Loaded plugins: fastestmirror\\nLoading mirror speeds from cached hostfile\\n * base: mirrors.xtom.com\\n * epel: mirrors.sonic.net\\n * extras: mirrors.sonic.net\\n * updates: mirrors.vcea.wsu.edu\\nResolving Dependencies\\n--> Running transaction check\\n---> Package docker.x86_64 2:1.13.1-103.git7f2769b.el7.centos will be installed\\n--> Processing Dependency: docker-common = 2:1.13.1-103.git7f2769b.el7.centos for package: 2:docker-1.13.1-103.git7f2769b.el7.centos.x86_64\\n--> Processing Dependency: docker-client = 2:1.13.1-103.git7f2769b.el7.centos for package: 2:docker-1.13.1-103.git7f2769b.el7.centos.x86_64\\n--> Processing Dependency: subscription-manager-rhsm-certificates for package: 2:docker-1.13.1-103.git7f2769b.el7.centos.x86_64\\n---> Package docker-compose.noarch 0:1.18.0-4.el7 will be installed\\n--> Processing Dependency: python(abi) = 3.6 for package: docker-compose-1.18.0-4.el7.noarch\\n--> Processing Dependency: python36-cached_property >= 1.2.0 for package: docker-compose-1.18.0-4.el7.noarch\\n--> Processing Dependency: python36-docker >= 2.6.1 for package: docker-compose-1.18.0-4.el7.noarch\\n--> Processing Dependency: python36-dockerpty >= 0.4.1 for package: docker-compose-1.18.0-4.el7.noarch\\n--> Processing Dependency: python36-docopt >= 0.6.1 for package: docker-compose-1.18.0-4.el7.noarch\\n--> Processing Dependency: python36-jsonschema >= 2.5.1 for package: docker-compose-1.18.0-4.el7.noarch\\n--> Processing Dependency: python36-pysocks >= 1.5.6 for package: docker-compose-1.18.0-4.el7.noarch\\n--> Processing Dependency: python36-requests >= 2.6.1 for package: docker-compose-1.18.0-4.el7.noarch\\n--> Processing Dependency: python36-six >= 1.3.0 for package: docker-compose-1.18.0-4.el7.noarch\\n--> Processing Dependency: python36-texttable >= 0.9.0 for package: docker-compose-1.18.0-4.el7.noarch\\n--> Processing Dependency: python36-websocket-client >= 0.32.0 for package: docker-compose-1.18.0-4.el7.noarch\\n--> Processing Dependency: python36-yaml >= 3.10 for package: docker-compose-1.18.0-4.el7.noarch\\n--> Processing Dependency: /usr/bin/python3.6 for package: docker-compose-1.18.0-4.el7.noarch\\n--> Processing Dependency: python36-setuptools for package: docker-compose-1.18.0-4.el7.noarch\\n--> Running transaction check\\n---> Package docker-client.x86_64 2:1.13.1-103.git7f2769b.el7.centos will be installed\\n---> Package docker-common.x86_64 2:1.13.1-103.git7f2769b.el7.centos will be installed\\n--> Processing Dependency: skopeo-containers >= 1:0.1.26-2 for package: 2:docker-common-1.13.1-103.git7f2769b.el7.centos.x86_64\\n--> Processing Dependency: oci-umount >= 2:2.3.3-3 for package: 2:docker-common-1.13.1-103.git7f2769b.el7.centos.x86_64\\n--> Processing Dependency: oci-systemd-hook >= 1:0.1.4-9 for package: 2:docker-common-1.13.1-103.git7f2769b.el7.centos.x86_64\\n--> Processing Dependency: oci-register-machine >= 1:0-5.13 for package: 2:docker-common-1.13.1-103.git7f2769b.el7.centos.x86_64\\n--> Processing Dependency: lvm2 >= 2.02.112 for package: 2:docker-common-1.13.1-103.git7f2769b.el7.centos.x86_64\\n--> Processing Dependency: container-storage-setup >= 0.9.0-1 for package: 2:docker-common-1.13.1-103.git7f2769b.el7.centos.x86_64\\n--> Processing Dependency: container-selinux >= 2:2.51-1 for package: 2:docker-common-1.13.1-103.git7f2769b.el7.centos.x86_64\\n--> Processing Dependency: atomic-registries for package: 2:docker-common-1.13.1-103.git7f2769b.el7.centos.x86_64\\n---> Package python3.x86_64 0:3.6.8-10.el7 will be installed\\n--> Processing Dependency: python3-libs(x86-64) = 3.6.8-10.el7 for package: python3-3.6.8-10.el7.x86_64\\n--> Processing Dependency: python3-pip for package: python3-3.6.8-10.el7.x86_64\\n--> Processing Dependency: libpython3.6m.so.1.0()(64bit) for package: python3-3.6.8-10.el7.x86_64\\n---> Package python3-setuptools.noarch 0:39.2.0-10.el7 will be installed\\n---> Package python36-PyYAML.x86_64 0:3.12-1.el7 will be installed\\n--> Processing Dependency: libyaml-0.so.2()(64bit) for package: python36-PyYAML-3.12-1.el7.x86_64\\n---> Package python36-cached_property.noarch 0:1.5.1-2.el7 will be installed\\n---> Package python36-docker.noarch 0:2.6.1-3.el7 will be installed\\n--> Processing Dependency: python36-docker-pycreds >= 0.2.1 for package: python36-docker-2.6.1-3.el7.noarch\\n---> Package python36-dockerpty.noarch 0:0.4.1-10.el7 will be installed\\n---> Package python36-docopt.noarch 0:0.6.2-8.el7 will be installed\\n---> Package python36-jsonschema.noarch 0:2.5.1-4.el7 will be installed\\n---> Package python36-pysocks.noarch 0:1.6.8-6.el7 will be installed\\n---> Package python36-requests.noarch 0:2.14.2-1.el7 will be installed\\n--> Processing Dependency: python36-chardet for package: python36-requests-2.14.2-1.el7.noarch\\n--> Processing Dependency: python36-idna for package: python36-requests-2.14.2-1.el7.noarch\\n--> Processing Dependency: python36-urllib3 for package: python36-requests-2.14.2-1.el7.noarch\\n---> Package python36-six.noarch 0:1.11.0-3.el7 will be installed\\n---> Package python36-texttable.noarch 0:1.6.2-1.el7 will be installed\\n---> Package python36-websocket-client.noarch 0:0.47.0-2.el7 will be installed\\n---> Package subscription-manager-rhsm-certificates.x86_64 0:1.24.13-3.el7.centos will be installed\\n--> Running transaction check\\n---> Package atomic-registries.x86_64 1:1.22.1-29.gitb507039.el7 will be installed\\n--> Processing Dependency: python-yaml for package: 1:atomic-registries-1.22.1-29.gitb507039.el7.x86_64\\n--> Processing Dependency: python-pytoml for package: 1:atomic-registries-1.22.1-29.gitb507039.el7.x86_64\\n---> Package container-selinux.noarch 2:2.107-3.el7 will be installed\\n---> Package container-storage-setup.noarch 0:0.11.0-2.git5eaf76c.el7 will be installed\\n---> Package containers-common.x86_64 1:0.1.37-3.el7.centos will be installed\\n---> Package libyaml.x86_64 0:0.1.4-11.el7_0 will be installed\\n---> Package lvm2.x86_64 7:2.02.185-2.el7_7.2 will be installed\\n--> Processing Dependency: lvm2-libs = 7:2.02.185-2.el7_7.2 for package: 7:lvm2-2.02.185-2.el7_7.2.x86_64\\n--> Processing Dependency: device-mapper-persistent-data >= 0.7.0-0.1.rc6 for package: 7:lvm2-2.02.185-2.el7_7.2.x86_64\\n--> Processing Dependency: liblvm2app.so.2.2(Base)(64bit) for package: 7:lvm2-2.02.185-2.el7_7.2.x86_64\\n--> Processing Dependency: libdevmapper-event.so.1.02(Base)(64bit) for package: 7:lvm2-2.02.185-2.el7_7.2.x86_64\\n--> Processing Dependency: libaio.so.1(LIBAIO_0.4)(64bit) for package: 7:lvm2-2.02.185-2.el7_7.2.x86_64\\n--> Processing Dependency: libaio.so.1(LIBAIO_0.1)(64bit) for package: 7:lvm2-2.02.185-2.el7_7.2.x86_64\\n--> Processing Dependency: liblvm2app.so.2.2()(64bit) for package: 7:lvm2-2.02.185-2.el7_7.2.x86_64\\n--> Processing Dependency: libdevmapper-event.so.1.02()(64bit) for package: 7:lvm2-2.02.185-2.el7_7.2.x86_64\\n--> Processing Dependency: libaio.so.1()(64bit) for package: 7:lvm2-2.02.185-2.el7_7.2.x86_64\\n---> Package oci-register-machine.x86_64 1:0-6.git2b44233.el7 will be installed\\n---> Package oci-systemd-hook.x86_64 1:0.2.0-1.git05e6923.el7_6 will be installed\\n--> Processing Dependency: libyajl.so.2()(64bit) for package: 1:oci-systemd-hook-0.2.0-1.git05e6923.el7_6.x86_64\\n---> Package oci-umount.x86_64 2:2.5-3.el7 will be installed\\n---> Package python3-libs.x86_64 0:3.6.8-10.el7 will be installed\\n--> Processing Dependency: libtirpc.so.1()(64bit) for package: python3-libs-3.6.8-10.el7.x86_64\\n---> Package python3-pip.noarch 0:9.0.3-5.el7 will be installed\\n---> Package python36-chardet.noarch 0:3.0.4-1.el7 will be installed\\n---> Package python36-docker-pycreds.noarch 0:0.2.1-2.el7 will be installed\\n---> Package python36-idna.noarch 0:2.7-2.el7 will be installed\\n---> Package python36-urllib3.noarch 0:1.25.1-1.el7 will be installed\\n--> Processing Dependency: python36-rfc3986 for package: python36-urllib3-1.25.1-1.el7.noarch\\n--> Running transaction check\\n---> Package PyYAML.x86_64 0:3.10-11.el7 will be installed\\n---> Package device-mapper-event-libs.x86_64 7:1.02.158-2.el7_7.2 will be installed\\n---> Package device-mapper-persistent-data.x86_64 0:0.8.5-1.el7 will be installed\\n---> Package libaio.x86_64 0:0.3.109-13.el7 will be installed\\n---> Package libtirpc.x86_64 0:0.2.4-0.16.el7 will be installed\\n---> Package lvm2-libs.x86_64 7:2.02.185-2.el7_7.2 will be installed\\n--> Processing Dependency: device-mapper-event = 7:1.02.158-2.el7_7.2 for package: 7:lvm2-libs-2.02.185-2.el7_7.2.x86_64\\n---> Package python-pytoml.noarch 0:0.1.14-1.git7dea353.el7 will be installed\\n---> Package python36-rfc3986.noarch 0:1.3.0-1.el7 will be installed\\n---> Package yajl.x86_64 0:2.0.4-4.el7 will be installed\\n--> Running transaction check\\n---> Package device-mapper-event.x86_64 7:1.02.158-2.el7_7.2 will be installed\\n--> Finished Dependency Resolution\\n\\nDependencies Resolved\\n\\n================================================================================\\n Package                       Arch   Version                     Repository\\n                                                                           Size\\n================================================================================\\nInstalling:\\n docker                        x86_64 2:1.13.1-103.git7f2769b.el7.centos\\n                                                                  extras   18 M\\n docker-compose                noarch 1.18.0-4.el7                epel    222 k\\nInstalling for dependencies:\\n PyYAML                        x86_64 3.10-11.el7                 base    153 k\\n atomic-registries             x86_64 1:1.22.1-29.gitb507039.el7  extras   35 k\\n container-selinux             noarch 2:2.107-3.el7               extras   39 k\\n container-storage-setup       noarch 0.11.0-2.git5eaf76c.el7     extras   35 k\\n containers-common             x86_64 1:0.1.37-3.el7.centos       extras   21 k\\n device-mapper-event           x86_64 7:1.02.158-2.el7_7.2        updates 190 k\\n device-mapper-event-libs      x86_64 7:1.02.158-2.el7_7.2        updates 189 k\\n device-mapper-persistent-data x86_64 0.8.5-1.el7                 base    423 k\\n docker-client                 x86_64 2:1.13.1-103.git7f2769b.el7.centos\\n                                                                  extras  3.9 M\\n docker-common                 x86_64 2:1.13.1-103.git7f2769b.el7.centos\\n                                                                  extras   97 k\\n libaio                        x86_64 0.3.109-13.el7              base     24 k\\n libtirpc                      x86_64 0.2.4-0.16.el7              base     89 k\\n libyaml                       x86_64 0.1.4-11.el7_0              base     55 k\\n lvm2                          x86_64 7:2.02.185-2.el7_7.2        updates 1.3 M\\n lvm2-libs                     x86_64 7:2.02.185-2.el7_7.2        updates 1.1 M\\n oci-register-machine          x86_64 1:0-6.git2b44233.el7        extras  1.1 M\\n oci-systemd-hook              x86_64 1:0.2.0-1.git05e6923.el7_6  extras   34 k\\n oci-umount                    x86_64 2:2.5-3.el7                 extras   33 k\\n python-pytoml                 noarch 0.1.14-1.git7dea353.el7     extras   18 k\\n python3                       x86_64 3.6.8-10.el7                base     69 k\\n python3-libs                  x86_64 3.6.8-10.el7                base    7.0 M\\n python3-pip                   noarch 9.0.3-5.el7                 base    1.8 M\\n python3-setuptools            noarch 39.2.0-10.el7               base    629 k\\n python36-PyYAML               x86_64 3.12-1.el7                  epel    149 k\\n python36-cached_property      noarch 1.5.1-2.el7                 epel     18 k\\n python36-chardet              noarch 3.0.4-1.el7                 epel    190 k\\n python36-docker               noarch 2.6.1-3.el7                 epel    180 k\\n python36-docker-pycreds       noarch 0.2.1-2.el7                 epel     15 k\\n python36-dockerpty            noarch 0.4.1-10.el7                epel     29 k\\n python36-docopt               noarch 0.6.2-8.el7                 epel     29 k\\n python36-idna                 noarch 2.7-2.el7                   epel     98 k\\n python36-jsonschema           noarch 2.5.1-4.el7                 epel     76 k\\n python36-pysocks              noarch 1.6.8-6.el7                 epel     30 k\\n python36-requests             noarch 2.14.2-1.el7                epel    111 k\\n python36-rfc3986              noarch 1.3.0-1.el7                 epel     49 k\\n python36-six                  noarch 1.11.0-3.el7                epel     33 k\\n python36-texttable            noarch 1.6.2-1.el7                 epel     23 k\\n python36-urllib3              noarch 1.25.1-1.el7                epel    173 k\\n python36-websocket-client     noarch 0.47.0-2.el7                epel     59 k\\n subscription-manager-rhsm-certificates\\n                               x86_64 1.24.13-3.el7.centos        updates 228 k\\n yajl                          x86_64 2.0.4-4.el7                 base     39 k\\n\\nTransaction Summary\\n================================================================================\\nInstall  2 Packages (+41 Dependent packages)\\n\\nTotal download size: 38 M\\nInstalled size: 145 M\\nDownloading packages:\\n--------------------------------------------------------------------------------\\nTotal                                               17 MB/s |  38 MB  00:02     \\nRunning transaction check\\nRunning transaction test\\nTransaction test succeeded\\nRunning transaction\\n  Installing : libaio-0.3.109-13.el7.x86_64                                1/43 \\n  Installing : 7:device-mapper-event-libs-1.02.158-2.el7_7.2.x86_64        2/43 \\n  Installing : libyaml-0.1.4-11.el7_0.x86_64                               3/43 \\n  Installing : yajl-2.0.4-4.el7.x86_64                                     4/43 \\n  Installing : 2:oci-umount-2.5-3.el7.x86_64                               5/43 \\n  Installing : 1:oci-systemd-hook-0.2.0-1.git05e6923.el7_6.x86_64          6/43 \\n  Installing : PyYAML-3.10-11.el7.x86_64                                   7/43 \\n  Installing : 7:device-mapper-event-1.02.158-2.el7_7.2.x86_64             8/43 \\n  Installing : 7:lvm2-libs-2.02.185-2.el7_7.2.x86_64                       9/43 \\n  Installing : device-mapper-persistent-data-0.8.5-1.el7.x86_64           10/43 \\n  Installing : 7:lvm2-2.02.185-2.el7_7.2.x86_64                           11/43 \\n  Installing : container-storage-setup-0.11.0-2.git5eaf76c.el7.noarch     12/43 \\n  Installing : subscription-manager-rhsm-certificates-1.24.13-3.el7.cen   13/43 \\n  Installing : libtirpc-0.2.4-0.16.el7.x86_64                             14/43 \\n  Installing : python3-pip-9.0.3-5.el7.noarch                             15/43 \\n  Installing : python3-setuptools-39.2.0-10.el7.noarch                    16/43 \\n  Installing : python3-3.6.8-10.el7.x86_64                                17/43 \\n  Installing : python3-libs-3.6.8-10.el7.x86_64                           18/43 \\n  Installing : python36-six-1.11.0-3.el7.noarch                           19/43 \\n  Installing : python36-websocket-client-0.47.0-2.el7.noarch              20/43 \\n  Installing : python36-pysocks-1.6.8-6.el7.noarch                        21/43 \\n  Installing : python36-dockerpty-0.4.1-10.el7.noarch                     22/43 \\n  Installing : python36-docker-pycreds-0.2.1-2.el7.noarch                 23/43 \\n  Installing : python36-PyYAML-3.12-1.el7.x86_64                          24/43 \\n  Installing : python36-texttable-1.6.2-1.el7.noarch                      25/43 \\n  Installing : python36-jsonschema-2.5.1-4.el7.noarch                     26/43 \\n  Installing : python36-idna-2.7-2.el7.noarch                             27/43 \\n  Installing : python36-docopt-0.6.2-8.el7.noarch                         28/43 \\n  Installing : python36-cached_property-1.5.1-2.el7.noarch                29/43 \\n  Installing : python36-chardet-3.0.4-1.el7.noarch                        30/43 \\n  Installing : python36-rfc3986-1.3.0-1.el7.noarch                        31/43 \\n  Installing : python36-urllib3-1.25.1-1.el7.noarch                       32/43 \\n  Installing : python36-requests-2.14.2-1.el7.noarch                      33/43 \\n  Installing : python36-docker-2.6.1-3.el7.noarch                         34/43 \\n  Installing : 1:oci-register-machine-0-6.git2b44233.el7.x86_64           35/43 \\n  Installing : python-pytoml-0.1.14-1.git7dea353.el7.noarch               36/43 \\n  Installing : 1:atomic-registries-1.22.1-29.gitb507039.el7.x86_64        37/43 \\n  Installing : 1:containers-common-0.1.37-3.el7.centos.x86_64             38/43 \\n  Installing : 2:container-selinux-2.107-3.el7.noarch                     39/43 \\n  Installing : 2:docker-common-1.13.1-103.git7f2769b.el7.centos.x86_64    40/43 \\n  Installing : 2:docker-client-1.13.1-103.git7f2769b.el7.centos.x86_64    41/43 \\n  Installing : 2:docker-1.13.1-103.git7f2769b.el7.centos.x86_64           42/43 \\n  Installing : docker-compose-1.18.0-4.el7.noarch                         43/43 \\n  Verifying  : 2:docker-common-1.13.1-103.git7f2769b.el7.centos.x86_64     1/43 \\n  Verifying  : 2:docker-1.13.1-103.git7f2769b.el7.centos.x86_64            2/43 \\n  Verifying  : device-mapper-persistent-data-0.8.5-1.el7.x86_64            3/43 \\n  Verifying  : python36-pysocks-1.6.8-6.el7.noarch                         4/43 \\n  Verifying  : 2:container-selinux-2.107-3.el7.noarch                      5/43 \\n  Verifying  : python3-libs-3.6.8-10.el7.x86_64                            6/43 \\n  Verifying  : python36-requests-2.14.2-1.el7.noarch                       7/43 \\n  Verifying  : docker-compose-1.18.0-4.el7.noarch                          8/43 \\n  Verifying  : container-storage-setup-0.11.0-2.git5eaf76c.el7.noarch      9/43 \\n  Verifying  : 1:atomic-registries-1.22.1-29.gitb507039.el7.x86_64        10/43 \\n  Verifying  : 7:device-mapper-event-libs-1.02.158-2.el7_7.2.x86_64       11/43 \\n  Verifying  : python3-pip-9.0.3-5.el7.noarch                             12/43 \\n  Verifying  : python36-urllib3-1.25.1-1.el7.noarch                       13/43 \\n  Verifying  : yajl-2.0.4-4.el7.x86_64                                    14/43 \\n  Verifying  : python36-texttable-1.6.2-1.el7.noarch                      15/43 \\n  Verifying  : python36-jsonschema-2.5.1-4.el7.noarch                     16/43 \\n  Verifying  : python36-idna-2.7-2.el7.noarch                             17/43 \\n  Verifying  : 7:lvm2-libs-2.02.185-2.el7_7.2.x86_64                      18/43 \\n  Verifying  : 1:containers-common-0.1.37-3.el7.centos.x86_64             19/43 \\n  Verifying  : 2:oci-umount-2.5-3.el7.x86_64                              20/43 \\n  Verifying  : 7:device-mapper-event-1.02.158-2.el7_7.2.x86_64            21/43 \\n  Verifying  : python-pytoml-0.1.14-1.git7dea353.el7.noarch               22/43 \\n  Verifying  : libaio-0.3.109-13.el7.x86_64                               23/43 \\n  Verifying  : python36-six-1.11.0-3.el7.noarch                           24/43 \\n  Verifying  : python36-websocket-client-0.47.0-2.el7.noarch              25/43 \\n  Verifying  : python36-PyYAML-3.12-1.el7.x86_64                          26/43 \\n  Verifying  : python36-dockerpty-0.4.1-10.el7.noarch                     27/43 \\n  Verifying  : python36-docker-2.6.1-3.el7.noarch                         28/43 \\n  Verifying  : 1:oci-systemd-hook-0.2.0-1.git05e6923.el7_6.x86_64         29/43 \\n  Verifying  : 1:oci-register-machine-0-6.git2b44233.el7.x86_64           30/43 \\n  Verifying  : 2:docker-client-1.13.1-103.git7f2769b.el7.centos.x86_64    31/43 \\n  Verifying  : python3-setuptools-39.2.0-10.el7.noarch                    32/43 \\n  Verifying  : python36-docopt-0.6.2-8.el7.noarch                         33/43 \\n  Verifying  : python36-cached_property-1.5.1-2.el7.noarch                34/43 \\n  Verifying  : python3-3.6.8-10.el7.x86_64                                35/43 \\n  Verifying  : libyaml-0.1.4-11.el7_0.x86_64                              36/43 \\n  Verifying  : python36-chardet-3.0.4-1.el7.noarch                        37/43 \\n  Verifying  : python36-docker-pycreds-0.2.1-2.el7.noarch                 38/43 \\n  Verifying  : 7:lvm2-2.02.185-2.el7_7.2.x86_64                           39/43 \\n  Verifying  : libtirpc-0.2.4-0.16.el7.x86_64                             40/43 \\n  Verifying  : PyYAML-3.10-11.el7.x86_64                                  41/43 \\n  Verifying  : subscription-manager-rhsm-certificates-1.24.13-3.el7.cen   42/43 \\n  Verifying  : python36-rfc3986-1.3.0-1.el7.noarch                        43/43 \\n\\nInstalled:\\n  docker.x86_64 2:1.13.1-103.git7f2769b.el7.centos                              \\n  docker-compose.noarch 0:1.18.0-4.el7                                          \\n\\nDependency Installed:\\n  PyYAML.x86_64 0:3.10-11.el7                                                   \\n  atomic-registries.x86_64 1:1.22.1-29.gitb507039.el7                           \\n  container-selinux.noarch 2:2.107-3.el7                                        \\n  container-storage-setup.noarch 0:0.11.0-2.git5eaf76c.el7                      \\n  containers-common.x86_64 1:0.1.37-3.el7.centos                                \\n  device-mapper-event.x86_64 7:1.02.158-2.el7_7.2                               \\n  device-mapper-event-libs.x86_64 7:1.02.158-2.el7_7.2                          \\n  device-mapper-persistent-data.x86_64 0:0.8.5-1.el7                            \\n  docker-client.x86_64 2:1.13.1-103.git7f2769b.el7.centos                       \\n  docker-common.x86_64 2:1.13.1-103.git7f2769b.el7.centos                       \\n  libaio.x86_64 0:0.3.109-13.el7                                                \\n  libtirpc.x86_64 0:0.2.4-0.16.el7                                              \\n  libyaml.x86_64 0:0.1.4-11.el7_0                                               \\n  lvm2.x86_64 7:2.02.185-2.el7_7.2                                              \\n  lvm2-libs.x86_64 7:2.02.185-2.el7_7.2                                         \\n  oci-register-machine.x86_64 1:0-6.git2b44233.el7                              \\n  oci-systemd-hook.x86_64 1:0.2.0-1.git05e6923.el7_6                            \\n  oci-umount.x86_64 2:2.5-3.el7                                                 \\n  python-pytoml.noarch 0:0.1.14-1.git7dea353.el7                                \\n  python3.x86_64 0:3.6.8-10.el7                                                 \\n  python3-libs.x86_64 0:3.6.8-10.el7                                            \\n  python3-pip.noarch 0:9.0.3-5.el7                                              \\n  python3-setuptools.noarch 0:39.2.0-10.el7                                     \\n  python36-PyYAML.x86_64 0:3.12-1.el7                                           \\n  python36-cached_property.noarch 0:1.5.1-2.el7                                 \\n  python36-chardet.noarch 0:3.0.4-1.el7                                         \\n  python36-docker.noarch 0:2.6.1-3.el7                                          \\n  python36-docker-pycreds.noarch 0:0.2.1-2.el7                                  \\n  python36-dockerpty.noarch 0:0.4.1-10.el7                                      \\n  python36-docopt.noarch 0:0.6.2-8.el7                                          \\n  python36-idna.noarch 0:2.7-2.el7                                              \\n  python36-jsonschema.noarch 0:2.5.1-4.el7                                      \\n  python36-pysocks.noarch 0:1.6.8-6.el7                                         \\n  python36-requests.noarch 0:2.14.2-1.el7                                       \\n  python36-rfc3986.noarch 0:1.3.0-1.el7                                         \\n  python36-six.noarch 0:1.11.0-3.el7                                            \\n  python36-texttable.noarch 0:1.6.2-1.el7                                       \\n  python36-urllib3.noarch 0:1.25.1-1.el7                                        \\n  python36-websocket-client.noarch 0:0.47.0-2.el7                               \\n  subscription-manager-rhsm-certificates.x86_64 0:1.24.13-3.el7.centos          \\n  yajl.x86_64 0:2.0.4-4.el7                                                     \\n\\nComplete!\\n\"\u001b[0m\n\u001b[0;33m    ]\u001b[0m\n\u001b[0;33m}\u001b[0m\n"
       },
       {
        "name": "stdout",
        "output_type": "stream",
        "text": "\u001b[0;33m        \"Loaded plugins: fastestmirror\\nLoading mirror speeds from cached hostfile\\n * base: mirrors.xtom.com\\n * epel: mirrors.sonic.net\\n * extras: mirrors.sonic.net\\n * updates: mirrors.vcea.wsu.edu\\nResolving Dependencies\\n--> Running transaction check\\n---> Package docker.x86_64 2:1.13.1-103.git7f2769b.el7.centos will be installed\\n--> Processing Dependency: docker-common = 2:1.13.1-103.git7f2769b.el7.centos for package: 2:docker-1.13.1-103.git7f2769b.el7.centos.x86_64\\n--> Processing Dependency: docker-client = 2:1.13.1-103.git7f2769b.el7.centos for package: 2:docker-1.13.1-103.git7f2769b.el7.centos.x86_64\\n--> Processing Dependency: subscription-manager-rhsm-certificates for package: 2:docker-1.13.1-103.git7f2769b.el7.centos.x86_64\\n---> Package docker-compose.noarch 0:1.18.0-4.el7 will be installed\\n--> Processing Dependency: python(abi) = 3.6 for package: docker-compose-1.18.0-4.el7.noarch\\n--> Processing Dependency: python36-cached_property >= 1.2.0 for package: docker-compose-1.18.0-4.el7.noarch\\n--> Processing Dependency: python36-docker >= 2.6.1 for package: docker-compose-1.18.0-4.el7.noarch\\n--> Processing Dependency: python36-dockerpty >= 0.4.1 for package: docker-compose-1.18.0-4.el7.noarch\\n--> Processing Dependency: python36-docopt >= 0.6.1 for package: docker-compose-1.18.0-4.el7.noarch\\n--> Processing Dependency: python36-jsonschema >= 2.5.1 for package: docker-compose-1.18.0-4.el7.noarch\\n--> Processing Dependency: python36-pysocks >= 1.5.6 for package: docker-compose-1.18.0-4.el7.noarch\\n--> Processing Dependency: python36-requests >= 2.6.1 for package: docker-compose-1.18.0-4.el7.noarch\\n--> Processing Dependency: python36-six >= 1.3.0 for package: docker-compose-1.18.0-4.el7.noarch\\n--> Processing Dependency: python36-texttable >= 0.9.0 for package: docker-compose-1.18.0-4.el7.noarch\\n--> Processing Dependency: python36-websocket-client >= 0.32.0 for package: docker-compose-1.18.0-4.el7.noarch\\n--> Processing Dependency: python36-yaml >= 3.10 for package: docker-compose-1.18.0-4.el7.noarch\\n--> Processing Dependency: /usr/bin/python3.6 for package: docker-compose-1.18.0-4.el7.noarch\\n--> Processing Dependency: python36-setuptools for package: docker-compose-1.18.0-4.el7.noarch\\n--> Running transaction check\\n---> Package docker-client.x86_64 2:1.13.1-103.git7f2769b.el7.centos will be installed\\n---> Package docker-common.x86_64 2:1.13.1-103.git7f2769b.el7.centos will be installed\\n--> Processing Dependency: skopeo-containers >= 1:0.1.26-2 for package: 2:docker-common-1.13.1-103.git7f2769b.el7.centos.x86_64\\n--> Processing Dependency: oci-umount >= 2:2.3.3-3 for package: 2:docker-common-1.13.1-103.git7f2769b.el7.centos.x86_64\\n--> Processing Dependency: oci-systemd-hook >= 1:0.1.4-9 for package: 2:docker-common-1.13.1-103.git7f2769b.el7.centos.x86_64\\n--> Processing Dependency: oci-register-machine >= 1:0-5.13 for package: 2:docker-common-1.13.1-103.git7f2769b.el7.centos.x86_64\\n--> Processing Dependency: lvm2 >= 2.02.112 for package: 2:docker-common-1.13.1-103.git7f2769b.el7.centos.x86_64\\n--> Processing Dependency: container-storage-setup >= 0.9.0-1 for package: 2:docker-common-1.13.1-103.git7f2769b.el7.centos.x86_64\\n--> Processing Dependency: container-selinux >= 2:2.51-1 for package: 2:docker-common-1.13.1-103.git7f2769b.el7.centos.x86_64\\n--> Processing Dependency: atomic-registries for package: 2:docker-common-1.13.1-103.git7f2769b.el7.centos.x86_64\\n---> Package python3.x86_64 0:3.6.8-10.el7 will be installed\\n--> Processing Dependency: python3-libs(x86-64) = 3.6.8-10.el7 for package: python3-3.6.8-10.el7.x86_64\\n--> Processing Dependency: python3-pip for package: python3-3.6.8-10.el7.x86_64\\n--> Processing Dependency: libpython3.6m.so.1.0()(64bit) for package: python3-3.6.8-10.el7.x86_64\\n---> Package python3-setuptools.noarch 0:39.2.0-10.el7 will be installed\\n---> Package python36-PyYAML.x86_64 0:3.12-1.el7 will be installed\\n--> Processing Dependency: libyaml-0.so.2()(64bit) for package: python36-PyYAML-3.12-1.el7.x86_64\\n---> Package python36-cached_property.noarch 0:1.5.1-2.el7 will be installed\\n---> Package python36-docker.noarch 0:2.6.1-3.el7 will be installed\\n--> Processing Dependency: python36-docker-pycreds >= 0.2.1 for package: python36-docker-2.6.1-3.el7.noarch\\n---> Package python36-dockerpty.noarch 0:0.4.1-10.el7 will be installed\\n---> Package python36-docopt.noarch 0:0.6.2-8.el7 will be installed\\n---> Package python36-jsonschema.noarch 0:2.5.1-4.el7 will be installed\\n---> Package python36-pysocks.noarch 0:1.6.8-6.el7 will be installed\\n---> Package python36-requests.noarch 0:2.14.2-1.el7 will be installed\\n--> Processing Dependency: python36-chardet for package: python36-requests-2.14.2-1.el7.noarch\\n--> Processing Dependency: python36-idna for package: python36-requests-2.14.2-1.el7.noarch\\n--> Processing Dependency: python36-urllib3 for package: python36-requests-2.14.2-1.el7.noarch\\n---> Package python36-six.noarch 0:1.11.0-3.el7 will be installed\\n---> Package python36-texttable.noarch 0:1.6.2-1.el7 will be installed\\n---> Package python36-websocket-client.noarch 0:0.47.0-2.el7 will be installed\\n---> Package subscription-manager-rhsm-certificates.x86_64 0:1.24.13-3.el7.centos will be installed\\n--> Running transaction check\\n---> Package atomic-registries.x86_64 1:1.22.1-29.gitb507039.el7 will be installed\\n--> Processing Dependency: python-yaml for package: 1:atomic-registries-1.22.1-29.gitb507039.el7.x86_64\\n--> Processing Dependency: python-pytoml for package: 1:atomic-registries-1.22.1-29.gitb507039.el7.x86_64\\n---> Package container-selinux.noarch 2:2.107-3.el7 will be installed\\n---> Package container-storage-setup.noarch 0:0.11.0-2.git5eaf76c.el7 will be installed\\n---> Package containers-common.x86_64 1:0.1.37-3.el7.centos will be installed\\n---> Package libyaml.x86_64 0:0.1.4-11.el7_0 will be installed\\n---> Package lvm2.x86_64 7:2.02.185-2.el7_7.2 will be installed\\n--> Processing Dependency: lvm2-libs = 7:2.02.185-2.el7_7.2 for package: 7:lvm2-2.02.185-2.el7_7.2.x86_64\\n--> Processing Dependency: device-mapper-persistent-data >= 0.7.0-0.1.rc6 for package: 7:lvm2-2.02.185-2.el7_7.2.x86_64\\n--> Processing Dependency: liblvm2app.so.2.2(Base)(64bit) for package: 7:lvm2-2.02.185-2.el7_7.2.x86_64\\n--> Processing Dependency: libdevmapper-event.so.1.02(Base)(64bit) for package: 7:lvm2-2.02.185-2.el7_7.2.x86_64\\n--> Processing Dependency: libaio.so.1(LIBAIO_0.4)(64bit) for package: 7:lvm2-2.02.185-2.el7_7.2.x86_64\\n--> Processing Dependency: libaio.so.1(LIBAIO_0.1)(64bit) for package: 7:lvm2-2.02.185-2.el7_7.2.x86_64\\n--> Processing Dependency: liblvm2app.so.2.2()(64bit) for package: 7:lvm2-2.02.185-2.el7_7.2.x86_64\\n--> Processing Dependency: libdevmapper-event.so.1.02()(64bit) for package: 7:lvm2-2.02.185-2.el7_7.2.x86_64\\n--> Processing Dependency: libaio.so.1()(64bit) for package: 7:lvm2-2.02.185-2.el7_7.2.x86_64\\n---> Package oci-register-machine.x86_64 1:0-6.git2b44233.el7 will be installed\\n---> Package oci-systemd-hook.x86_64 1:0.2.0-1.git05e6923.el7_6 will be installed\\n--> Processing Dependency: libyajl.so.2()(64bit) for package: 1:oci-systemd-hook-0.2.0-1.git05e6923.el7_6.x86_64\\n---> Package oci-umount.x86_64 2:2.5-3.el7 will be installed\\n---> Package python3-libs.x86_64 0:3.6.8-10.el7 will be installed\\n--> Processing Dependency: libtirpc.so.1()(64bit) for package: python3-libs-3.6.8-10.el7.x86_64\\n---> Package python3-pip.noarch 0:9.0.3-5.el7 will be installed\\n---> Package python36-chardet.noarch 0:3.0.4-1.el7 will be installed\\n---> Package python36-docker-pycreds.noarch 0:0.2.1-2.el7 will be installed\\n---> Package python36-idna.noarch 0:2.7-2.el7 will be installed\\n---> Package python36-urllib3.noarch 0:1.25.1-1.el7 will be installed\\n--> Processing Dependency: python36-rfc3986 for package: python36-urllib3-1.25.1-1.el7.noarch\\n--> Running transaction check\\n---> Package PyYAML.x86_64 0:3.10-11.el7 will be installed\\n---> Package device-mapper-event-libs.x86_64 7:1.02.158-2.el7_7.2 will be installed\\n---> Package device-mapper-persistent-data.x86_64 0:0.8.5-1.el7 will be installed\\n---> Package libaio.x86_64 0:0.3.109-13.el7 will be installed\\n---> Package libtirpc.x86_64 0:0.2.4-0.16.el7 will be installed\\n---> Package lvm2-libs.x86_64 7:2.02.185-2.el7_7.2 will be installed\\n--> Processing Dependency: device-mapper-event = 7:1.02.158-2.el7_7.2 for package: 7:lvm2-libs-2.02.185-2.el7_7.2.x86_64\\n---> Package python-pytoml.noarch 0:0.1.14-1.git7dea353.el7 will be installed\\n---> Package python36-rfc3986.noarch 0:1.3.0-1.el7 will be installed\\n---> Package yajl.x86_64 0:2.0.4-4.el7 will be installed\\n--> Running transaction check\\n---> Package device-mapper-event.x86_64 7:1.02.158-2.el7_7.2 will be installed\\n--> Finished Dependency Resolution\\n\\nDependencies Resolved\\n\\n================================================================================\\n Package                       Arch   Version                     Repository\\n                                                                           Size\\n================================================================================\\nInstalling:\\n docker                        x86_64 2:1.13.1-103.git7f2769b.el7.centos\\n                                                                  extras   18 M\\n docker-compose                noarch 1.18.0-4.el7                epel    222 k\\nInstalling for dependencies:\\n PyYAML                        x86_64 3.10-11.el7                 base    153 k\\n atomic-registries             x86_64 1:1.22.1-29.gitb507039.el7  extras   35 k\\n container-selinux             noarch 2:2.107-3.el7               extras   39 k\\n container-storage-setup       noarch 0.11.0-2.git5eaf76c.el7     extras   35 k\\n containers-common             x86_64 1:0.1.37-3.el7.centos       extras   21 k\\n device-mapper-event           x86_64 7:1.02.158-2.el7_7.2        updates 190 k\\n device-mapper-event-libs      x86_64 7:1.02.158-2.el7_7.2        updates 189 k\\n device-mapper-persistent-data x86_64 0.8.5-1.el7                 base    423 k\\n docker-client                 x86_64 2:1.13.1-103.git7f2769b.el7.centos\\n                                                                  extras  3.9 M\\n docker-common                 x86_64 2:1.13.1-103.git7f2769b.el7.centos\\n                                                                  extras   97 k\\n libaio                        x86_64 0.3.109-13.el7              base     24 k\\n libtirpc                      x86_64 0.2.4-0.16.el7              base     89 k\\n libyaml                       x86_64 0.1.4-11.el7_0              base     55 k\\n lvm2                          x86_64 7:2.02.185-2.el7_7.2        updates 1.3 M\\n lvm2-libs                     x86_64 7:2.02.185-2.el7_7.2        updates 1.1 M\\n oci-register-machine          x86_64 1:0-6.git2b44233.el7        extras  1.1 M\\n oci-systemd-hook              x86_64 1:0.2.0-1.git05e6923.el7_6  extras   34 k\\n oci-umount                    x86_64 2:2.5-3.el7                 extras   33 k\\n python-pytoml                 noarch 0.1.14-1.git7dea353.el7     extras   18 k\\n python3                       x86_64 3.6.8-10.el7                base     69 k\\n python3-libs                  x86_64 3.6.8-10.el7                base    7.0 M\\n python3-pip                   noarch 9.0.3-5.el7                 base    1.8 M\\n python3-setuptools            noarch 39.2.0-10.el7               base    629 k\\n python36-PyYAML               x86_64 3.12-1.el7                  epel    149 k\\n python36-cached_property      noarch 1.5.1-2.el7                 epel     18 k\\n python36-chardet              noarch 3.0.4-1.el7                 epel    190 k\\n python36-docker               noarch 2.6.1-3.el7                 epel    180 k\\n python36-docker-pycreds       noarch 0.2.1-2.el7                 epel     15 k\\n python36-dockerpty            noarch 0.4.1-10.el7                epel     29 k\\n python36-docopt               noarch 0.6.2-8.el7                 epel     29 k\\n python36-idna                 noarch 2.7-2.el7                   epel     98 k\\n python36-jsonschema           noarch 2.5.1-4.el7                 epel     76 k\\n python36-pysocks              noarch 1.6.8-6.el7                 epel     30 k\\n python36-requests             noarch 2.14.2-1.el7                epel    111 k\\n python36-rfc3986              noarch 1.3.0-1.el7                 epel     49 k\\n python36-six                  noarch 1.11.0-3.el7                epel     33 k\\n python36-texttable            noarch 1.6.2-1.el7                 epel     23 k\\n python36-urllib3              noarch 1.25.1-1.el7                epel    173 k\\n python36-websocket-client     noarch 0.47.0-2.el7                epel     59 k\\n subscription-manager-rhsm-certificates\\n                               x86_64 1.24.13-3.el7.centos        updates 228 k\\n yajl                          x86_64 2.0.4-4.el7                 base     39 k\\n\\nTransaction Summary\\n================================================================================\\nInstall  2 Packages (+41 Dependent packages)\\n\\nTotal download size: 38 M\\nInstalled size: 145 M\\nDownloading packages:\\n--------------------------------------------------------------------------------\\nTotal                                               17 MB/s |  38 MB  00:02     \\nRunning transaction check\\nRunning transaction test\\nTransaction test succeeded\\nRunning transaction\\n  Installing : libaio-0.3.109-13.el7.x86_64                                1/43 \\n  Installing : 7:device-mapper-event-libs-1.02.158-2.el7_7.2.x86_64        2/43 \\n  Installing : libyaml-0.1.4-11.el7_0.x86_64                               3/43 \\n  Installing : yajl-2.0.4-4.el7.x86_64                                     4/43 \\n  Installing : 2:oci-umount-2.5-3.el7.x86_64                               5/43 \\n  Installing : 1:oci-systemd-hook-0.2.0-1.git05e6923.el7_6.x86_64          6/43 \\n  Installing : PyYAML-3.10-11.el7.x86_64                                   7/43 \\n  Installing : 7:device-mapper-event-1.02.158-2.el7_7.2.x86_64             8/43 \\n  Installing : 7:lvm2-libs-2.02.185-2.el7_7.2.x86_64                       9/43 \\n  Installing : device-mapper-persistent-data-0.8.5-1.el7.x86_64           10/43 \\n  Installing : 7:lvm2-2.02.185-2.el7_7.2.x86_64                           11/43 \\n  Installing : container-storage-setup-0.11.0-2.git5eaf76c.el7.noarch     12/43 \\n  Installing : subscription-manager-rhsm-certificates-1.24.13-3.el7.cen   13/43 \\n  Installing : libtirpc-0.2.4-0.16.el7.x86_64                             14/43 \\n  Installing : python3-pip-9.0.3-5.el7.noarch                             15/43 \\n  Installing : python3-setuptools-39.2.0-10.el7.noarch                    16/43 \\n  Installing : python3-3.6.8-10.el7.x86_64                                17/43 \\n  Installing : python3-libs-3.6.8-10.el7.x86_64                           18/43 \\n  Installing : python36-six-1.11.0-3.el7.noarch                           19/43 \\n  Installing : python36-websocket-client-0.47.0-2.el7.noarch              20/43 \\n  Installing : python36-pysocks-1.6.8-6.el7.noarch                        21/43 \\n  Installing : python36-dockerpty-0.4.1-10.el7.noarch                     22/43 \\n  Installing : python36-docker-pycreds-0.2.1-2.el7.noarch                 23/43 \\n  Installing : python36-PyYAML-3.12-1.el7.x86_64                          24/43 \\n  Installing : python36-texttable-1.6.2-1.el7.noarch                      25/43 \\n  Installing : python36-jsonschema-2.5.1-4.el7.noarch                     26/43 \\n  Installing : python36-idna-2.7-2.el7.noarch                             27/43 \\n  Installing : python36-docopt-0.6.2-8.el7.noarch                         28/43 \\n  Installing : python36-cached_property-1.5.1-2.el7.noarch                29/43 \\n  Installing : python36-chardet-3.0.4-1.el7.noarch                        30/43 \\n  Installing : python36-rfc3986-1.3.0-1.el7.noarch                        31/43 \\n  Installing : python36-urllib3-1.25.1-1.el7.noarch                       32/43 \\n  Installing : python36-requests-2.14.2-1.el7.noarch                      33/43 \\n  Installing : python36-docker-2.6.1-3.el7.noarch                         34/43 \\n  Installing : 1:oci-register-machine-0-6.git2b44233.el7.x86_64           35/43 \\n  Installing : python-pytoml-0.1.14-1.git7dea353.el7.noarch               36/43 \\n  Installing : 1:atomic-registries-1.22.1-29.gitb507039.el7.x86_64        37/43 \\n  Installing : 1:containers-common-0.1.37-3.el7.centos.x86_64             38/43 \\n  Installing : 2:container-selinux-2.107-3.el7.noarch                     39/43 \\n  Installing : 2:docker-common-1.13.1-103.git7f2769b.el7.centos.x86_64    40/43 \\n  Installing : 2:docker-client-1.13.1-103.git7f2769b.el7.centos.x86_64    41/43 \\n  Installing : 2:docker-1.13.1-103.git7f2769b.el7.centos.x86_64           42/43 \\n  Installing : docker-compose-1.18.0-4.el7.noarch                         43/43 \\n  Verifying  : 2:docker-common-1.13.1-103.git7f2769b.el7.centos.x86_64     1/43 \\n  Verifying  : 2:docker-1.13.1-103.git7f2769b.el7.centos.x86_64            2/43 \\n  Verifying  : device-mapper-persistent-data-0.8.5-1.el7.x86_64            3/43 \\n  Verifying  : python36-pysocks-1.6.8-6.el7.noarch                         4/43 \\n  Verifying  : 2:container-selinux-2.107-3.el7.noarch                      5/43 \\n  Verifying  : python3-libs-3.6.8-10.el7.x86_64                            6/43 \\n  Verifying  : python36-requests-2.14.2-1.el7.noarch                       7/43 \\n  Verifying  : docker-compose-1.18.0-4.el7.noarch                          8/43 \\n  Verifying  : container-storage-setup-0.11.0-2.git5eaf76c.el7.noarch      9/43 \\n  Verifying  : 1:atomic-registries-1.22.1-29.gitb507039.el7.x86_64        10/43 \\n  Verifying  : 7:device-mapper-event-libs-1.02.158-2.el7_7.2.x86_64       11/43 \\n  Verifying  : python3-pip-9.0.3-5.el7.noarch                             12/43 \\n  Verifying  : python36-urllib3-1.25.1-1.el7.noarch                       13/43 \\n  Verifying  : yajl-2.0.4-4.el7.x86_64                                    14/43 \\n  Verifying  : python36-texttable-1.6.2-1.el7.noarch                      15/43 \\n  Verifying  : python36-jsonschema-2.5.1-4.el7.noarch                     16/43 \\n  Verifying  : python36-idna-2.7-2.el7.noarch                             17/43 \\n  Verifying  : 7:lvm2-libs-2.02.185-2.el7_7.2.x86_64                      18/43 \\n  Verifying  : 1:containers-common-0.1.37-3.el7.centos.x86_64             19/43 \\n  Verifying  : 2:oci-umount-2.5-3.el7.x86_64                              20/43 \\n  Verifying  : 7:device-mapper-event-1.02.158-2.el7_7.2.x86_64            21/43 \\n  Verifying  : python-pytoml-0.1.14-1.git7dea353.el7.noarch               22/43 \\n  Verifying  : libaio-0.3.109-13.el7.x86_64                               23/43 \\n  Verifying  : python36-six-1.11.0-3.el7.noarch                           24/43 \\n  Verifying  : python36-websocket-client-0.47.0-2.el7.noarch              25/43 \\n  Verifying  : python36-PyYAML-3.12-1.el7.x86_64                          26/43 \\n  Verifying  : python36-dockerpty-0.4.1-10.el7.noarch                     27/43 \\n  Verifying  : python36-docker-2.6.1-3.el7.noarch                         28/43 \\n  Verifying  : 1:oci-systemd-hook-0.2.0-1.git05e6923.el7_6.x86_64         29/43 \\n  Verifying  : 1:oci-register-machine-0-6.git2b44233.el7.x86_64           30/43 \\n  Verifying  : 2:docker-client-1.13.1-103.git7f2769b.el7.centos.x86_64    31/43 \\n  Verifying  : python3-setuptools-39.2.0-10.el7.noarch                    32/43 \\n  Verifying  : python36-docopt-0.6.2-8.el7.noarch                         33/43 \\n  Verifying  : python36-cached_property-1.5.1-2.el7.noarch                34/43 \\n  Verifying  : python3-3.6.8-10.el7.x86_64                                35/43 \\n  Verifying  : libyaml-0.1.4-11.el7_0.x86_64                              36/43 \\n  Verifying  : python36-chardet-3.0.4-1.el7.noarch                        37/43 \\n  Verifying  : python36-docker-pycreds-0.2.1-2.el7.noarch                 38/43 \\n  Verifying  : 7:lvm2-2.02.185-2.el7_7.2.x86_64                           39/43 \\n  Verifying  : libtirpc-0.2.4-0.16.el7.x86_64                             40/43 \\n  Verifying  : PyYAML-3.10-11.el7.x86_64                                  41/43 \\n  Verifying  : subscription-manager-rhsm-certificates-1.24.13-3.el7.cen   42/43 \\n  Verifying  : python36-rfc3986-1.3.0-1.el7.noarch                        43/43 \\n\\nInstalled:\\n  docker.x86_64 2:1.13.1-103.git7f2769b.el7.centos                              \\n  docker-compose.noarch 0:1.18.0-4.el7                                          \\n\\nDependency Installed:\\n  PyYAML.x86_64 0:3.10-11.el7                                                   \\n  atomic-registries.x86_64 1:1.22.1-29.gitb507039.el7                           \\n  container-selinux.noarch 2:2.107-3.el7                                        \\n  container-storage-setup.noarch 0:0.11.0-2.git5eaf76c.el7                      \\n  containers-common.x86_64 1:0.1.37-3.el7.centos                                \\n  device-mapper-event.x86_64 7:1.02.158-2.el7_7.2                               \\n  device-mapper-event-libs.x86_64 7:1.02.158-2.el7_7.2                          \\n  device-mapper-persistent-data.x86_64 0:0.8.5-1.el7                            \\n  docker-client.x86_64 2:1.13.1-103.git7f2769b.el7.centos                       \\n  docker-common.x86_64 2:1.13.1-103.git7f2769b.el7.centos                       \\n  libaio.x86_64 0:0.3.109-13.el7                                                \\n  libtirpc.x86_64 0:0.2.4-0.16.el7                                              \\n  libyaml.x86_64 0:0.1.4-11.el7_0                                               \\n  lvm2.x86_64 7:2.02.185-2.el7_7.2                                              \\n  lvm2-libs.x86_64 7:2.02.185-2.el7_7.2                                         \\n  oci-register-machine.x86_64 1:0-6.git2b44233.el7                              \\n  oci-systemd-hook.x86_64 1:0.2.0-1.git05e6923.el7_6                            \\n  oci-umount.x86_64 2:2.5-3.el7                                                 \\n  python-pytoml.noarch 0:0.1.14-1.git7dea353.el7                                \\n  python3.x86_64 0:3.6.8-10.el7                                                 \\n  python3-libs.x86_64 0:3.6.8-10.el7                                            \\n  python3-pip.noarch 0:9.0.3-5.el7                                              \\n  python3-setuptools.noarch 0:39.2.0-10.el7                                     \\n  python36-PyYAML.x86_64 0:3.12-1.el7                                           \\n  python36-cached_property.noarch 0:1.5.1-2.el7                                 \\n  python36-chardet.noarch 0:3.0.4-1.el7                                         \\n  python36-docker.noarch 0:2.6.1-3.el7                                          \\n  python36-docker-pycreds.noarch 0:0.2.1-2.el7                                  \\n  python36-dockerpty.noarch 0:0.4.1-10.el7                                      \\n  python36-docopt.noarch 0:0.6.2-8.el7                                          \\n  python36-idna.noarch 0:2.7-2.el7                                              \\n  python36-jsonschema.noarch 0:2.5.1-4.el7                                      \\n  python36-pysocks.noarch 0:1.6.8-6.el7                                         \\n  python36-requests.noarch 0:2.14.2-1.el7                                       \\n  python36-rfc3986.noarch 0:1.3.0-1.el7                                         \\n  python36-six.noarch 0:1.11.0-3.el7                                            \\n  python36-texttable.noarch 0:1.6.2-1.el7                                       \\n  python36-urllib3.noarch 0:1.25.1-1.el7                                        \\n  python36-websocket-client.noarch 0:0.47.0-2.el7                               \\n  subscription-manager-rhsm-certificates.x86_64 0:1.24.13-3.el7.centos          \\n  yajl.x86_64 0:2.0.4-4.el7                                                     \\n\\nComplete!\\n\"\u001b[0m\r\n\u001b[0;33m    ]\u001b[0m\r\n\u001b[0;33m}\u001b[0m\r\n"
       }
      ]
     }
    ]
   },
   "outputs": [],
   "source": [
    "!ansible -i hosts $host -m yum -a \"name=docker,docker-compose state=latest\" --become"
   ]
  },
  {
   "cell_type": "code",
   "execution_count": null,
   "metadata": {
    "lc_cell_meme": {
     "current": "fcca0210-0cd8-11ea-9309-0242ac120004",
     "next": "6db3ba94-0cd8-11ea-9309-0242ac120004",
     "previous": "e23bce2e-0c42-11ea-a3bf-0242ac120004"
    },
    "lc_wrapper": {
     "log_history": [
      "/home/user1/notebooks/.log/20191122/20191122-033516-0339.log",
      "/home/user1/notebooks/.log/20191122/20191122-042456-0452.log"
     ]
    },
    "pinned_outputs": [
     {
      "execution_count": 55,
      "outputs": [
       {
        "name": "stdout",
        "output_type": "stream",
        "text": "\u001b[0;33m10.138.0.18 | CHANGED => {\u001b[0m\r\n\u001b[0;33m    \"ansible_facts\": {\u001b[0m\r\n\u001b[0;33m        \"discovered_interpreter_python\": \"/usr/bin/python\"\u001b[0m\r\n\u001b[0;33m    },\u001b[0m\r\n\u001b[0;33m    \"changed\": true,\u001b[0m\r\n\u001b[0;33m    \"enabled\": true,\u001b[0m\r\n\u001b[0;33m    \"name\": \"docker\",\u001b[0m\r\n\u001b[0;33m    \"state\": \"started\",\u001b[0m\r\n\u001b[0;33m    \"status\": {\u001b[0m\r\n\u001b[0;33m        \"ActiveEnterTimestampMonotonic\": \"0\",\u001b[0m\r\n\u001b[0;33m        \"ActiveExitTimestampMonotonic\": \"0\",\u001b[0m\r\n\u001b[0;33m        \"ActiveState\": \"inactive\",\u001b[0m\r\n\u001b[0;33m        \"After\": \"system.slice network.target basic.target docker-storage-setup.service systemd-journald.socket\",\u001b[0m\r\n\u001b[0;33m        \"AllowIsolate\": \"no\",\u001b[0m\r\n\u001b[0;33m        \"AmbientCapabilities\": \"0\",\u001b[0m\r\n\u001b[0;33m        \"AssertResult\": \"no\",\u001b[0m\r\n\u001b[0;33m        \"AssertTimestampMonotonic\": \"0\",\u001b[0m\r\n\u001b[0;33m        \"Before\": \"shutdown.target\",\u001b[0m\r\n\u001b[0;33m        \"BlockIOAccounting\": \"no\",\u001b[0m\r\n\u001b[0;33m        \"BlockIOWeight\": \"18446744073709551615\",\u001b[0m\r\n\u001b[0;33m        \"CPUAccounting\": \"no\",\u001b[0m\r\n\u001b[0;33m        \"CPUQuotaPerSecUSec\": \"infinity\",\u001b[0m\r\n\u001b[0;33m        \"CPUSchedulingPolicy\": \"0\",\u001b[0m\r\n\u001b[0;33m        \"CPUSchedulingPriority\": \"0\",\u001b[0m\r\n\u001b[0;33m        \"CPUSchedulingResetOnFork\": \"no\",\u001b[0m\r\n\u001b[0;33m        \"CPUShares\": \"18446744073709551615\",\u001b[0m\r\n\u001b[0;33m        \"CanIsolate\": \"no\",\u001b[0m\r\n\u001b[0;33m        \"CanReload\": \"yes\",\u001b[0m\r\n\u001b[0;33m        \"CanStart\": \"yes\",\u001b[0m\r\n\u001b[0;33m        \"CanStop\": \"yes\",\u001b[0m\r\n\u001b[0;33m        \"CapabilityBoundingSet\": \"18446744073709551615\",\u001b[0m\r\n\u001b[0;33m        \"ConditionResult\": \"no\",\u001b[0m\r\n\u001b[0;33m        \"ConditionTimestampMonotonic\": \"0\",\u001b[0m\r\n\u001b[0;33m        \"Conflicts\": \"shutdown.target\",\u001b[0m\r\n\u001b[0;33m        \"ControlPID\": \"0\",\u001b[0m\r\n\u001b[0;33m        \"DefaultDependencies\": \"yes\",\u001b[0m\r\n\u001b[0;33m        \"Delegate\": \"no\",\u001b[0m\r\n\u001b[0;33m        \"Description\": \"Docker Application Container Engine\",\u001b[0m\r\n\u001b[0;33m        \"DevicePolicy\": \"auto\",\u001b[0m\r\n\u001b[0;33m        \"Documentation\": \"http://docs.docker.com\",\u001b[0m\r\n\u001b[0;33m        \"Environment\": \"GOTRACEBACK=crash DOCKER_HTTP_HOST_COMPAT=1 PATH=/usr/libexec/docker:/usr/bin:/usr/sbin\",\u001b[0m\r\n\u001b[0;33m        \"EnvironmentFile\": \"/etc/sysconfig/docker-network (ignore_errors=yes)\",\u001b[0m\r\n\u001b[0;33m        \"ExecMainCode\": \"0\",\u001b[0m\r\n\u001b[0;33m        \"ExecMainExitTimestampMonotonic\": \"0\",\u001b[0m\r\n\u001b[0;33m        \"ExecMainPID\": \"0\",\u001b[0m\r\n\u001b[0;33m        \"ExecMainStartTimestampMonotonic\": \"0\",\u001b[0m\r\n\u001b[0;33m        \"ExecMainStatus\": \"0\",\u001b[0m\r\n\u001b[0;33m        \"ExecReload\": \"{ path=/bin/kill ; argv[]=/bin/kill -s HUP $MAINPID ; ignore_errors=no ; start_time=[n/a] ; stop_time=[n/a] ; pid=0 ; code=(null) ; status=0/0 }\",\u001b[0m\r\n\u001b[0;33m        \"ExecStart\": \"{ path=/usr/bin/dockerd-current ; argv[]=/usr/bin/dockerd-current --add-runtime docker-runc=/usr/libexec/docker/docker-runc-current --default-runtime=docker-runc --exec-opt native.cgroupdriver=systemd --userland-proxy-path=/usr/libexec/docker/docker-proxy-current --init-path=/usr/libexec/docker/docker-init-current --seccomp-profile=/etc/docker/seccomp.json $OPTIONS $DOCKER_STORAGE_OPTIONS $DOCKER_NETWORK_OPTIONS $ADD_REGISTRY $BLOCK_REGISTRY $INSECURE_REGISTRY $REGISTRIES ; ignore_errors=no ; start_time=[n/a] ; stop_time=[n/a] ; pid=0 ; code=(null) ; status=0/0 }\",\u001b[0m\r\n\u001b[0;33m        \"FailureAction\": \"none\",\u001b[0m\r\n\u001b[0;33m        \"FileDescriptorStoreMax\": \"0\",\u001b[0m\r\n\u001b[0;33m        \"FragmentPath\": \"/usr/lib/systemd/system/docker.service\",\u001b[0m\r\n\u001b[0;33m        \"GuessMainPID\": \"yes\",\u001b[0m\r\n\u001b[0;33m        \"IOScheduling\": \"0\",\u001b[0m\r\n\u001b[0;33m        \"Id\": \"docker.service\",\u001b[0m\r\n\u001b[0;33m        \"IgnoreOnIsolate\": \"no\",\u001b[0m\r\n\u001b[0;33m        \"IgnoreOnSnapshot\": \"no\",\u001b[0m\r\n\u001b[0;33m        \"IgnoreSIGPIPE\": \"yes\",\u001b[0m\r\n\u001b[0;33m        \"InactiveEnterTimestampMonotonic\": \"0\",\u001b[0m\r\n\u001b[0;33m        \"InactiveExitTimestampMonotonic\": \"0\",\u001b[0m\r\n\u001b[0;33m        \"JobTimeoutAction\": \"none\",\u001b[0m\r\n\u001b[0;33m        \"JobTimeoutUSec\": \"0\",\u001b[0m\r\n\u001b[0;33m        \"KillMode\": \"process\",\u001b[0m\r\n\u001b[0;33m        \"KillSignal\": \"15\",\u001b[0m\r\n\u001b[0;33m        \"LimitAS\": \"18446744073709551615\",\u001b[0m\r\n\u001b[0;33m        \"LimitCORE\": \"18446744073709551615\",\u001b[0m\r\n\u001b[0;33m        \"LimitCPU\": \"18446744073709551615\",\u001b[0m\r\n\u001b[0;33m        \"LimitDATA\": \"18446744073709551615\",\u001b[0m\r\n\u001b[0;33m        \"LimitFSIZE\": \"18446744073709551615\",\u001b[0m\r\n\u001b[0;33m        \"LimitLOCKS\": \"18446744073709551615\",\u001b[0m\r\n\u001b[0;33m        \"LimitMEMLOCK\": \"65536\",\u001b[0m\r\n\u001b[0;33m        \"LimitMSGQUEUE\": \"819200\",\u001b[0m\r\n\u001b[0;33m        \"LimitNICE\": \"0\",\u001b[0m\r\n\u001b[0;33m        \"LimitNOFILE\": \"1048576\",\u001b[0m\r\n\u001b[0;33m        \"LimitNPROC\": \"1048576\",\u001b[0m\r\n\u001b[0;33m        \"LimitRSS\": \"18446744073709551615\",\u001b[0m\r\n\u001b[0;33m        \"LimitRTPRIO\": \"0\",\u001b[0m\r\n\u001b[0;33m        \"LimitRTTIME\": \"18446744073709551615\",\u001b[0m\r\n\u001b[0;33m        \"LimitSIGPENDING\": \"29210\",\u001b[0m\r\n\u001b[0;33m        \"LimitSTACK\": \"18446744073709551615\",\u001b[0m\r\n\u001b[0;33m        \"LoadState\": \"loaded\",\u001b[0m\r\n\u001b[0;33m        \"MainPID\": \"0\",\u001b[0m\r\n\u001b[0;33m        \"MemoryAccounting\": \"no\",\u001b[0m\r\n\u001b[0;33m        \"MemoryCurrent\": \"18446744073709551615\",\u001b[0m\r\n\u001b[0;33m        \"MemoryLimit\": \"18446744073709551615\",\u001b[0m\r\n\u001b[0;33m        \"MountFlags\": \"0\",\u001b[0m\r\n\u001b[0;33m        \"Names\": \"docker.service\",\u001b[0m\r\n\u001b[0;33m        \"NeedDaemonReload\": \"no\",\u001b[0m\r\n\u001b[0;33m        \"Nice\": \"0\",\u001b[0m\r\n\u001b[0;33m        \"NoNewPrivileges\": \"no\",\u001b[0m\r\n\u001b[0;33m        \"NonBlocking\": \"no\",\u001b[0m\r\n\u001b[0;33m        \"NotifyAccess\": \"main\",\u001b[0m\r\n\u001b[0;33m        \"OOMScoreAdjust\": \"0\",\u001b[0m\r\n\u001b[0;33m        \"OnFailureJobMode\": \"replace\",\u001b[0m\r\n\u001b[0;33m        \"PermissionsStartOnly\": \"no\",\u001b[0m\r\n\u001b[0;33m        \"PrivateDevices\": \"no\",\u001b[0m\r\n\u001b[0;33m        \"PrivateNetwork\": \"no\",\u001b[0m\r\n\u001b[0;33m        \"PrivateTmp\": \"no\",\u001b[0m\r\n\u001b[0;33m        \"ProtectHome\": \"no\",\u001b[0m\r\n\u001b[0;33m        \"ProtectSystem\": \"no\",\u001b[0m\r\n\u001b[0;33m        \"RefuseManualStart\": \"no\",\u001b[0m\r\n\u001b[0;33m        \"RefuseManualStop\": \"no\",\u001b[0m\r\n\u001b[0;33m        \"RemainAfterExit\": \"no\",\u001b[0m\r\n\u001b[0;33m        \"RequiredBy\": \"docker-cleanup.service\",\u001b[0m\r\n\u001b[0;33m        \"Requires\": \"docker-cleanup.timer basic.target system.slice\",\u001b[0m\r\n\u001b[0;33m        \"Restart\": \"on-abnormal\",\u001b[0m\r\n\u001b[0;33m        \"RestartUSec\": \"100ms\",\u001b[0m\r\n\u001b[0;33m        \"Result\": \"success\",\u001b[0m\r\n\u001b[0;33m        \"RootDirectoryStartOnly\": \"no\",\u001b[0m\r\n\u001b[0;33m        \"RuntimeDirectoryMode\": \"0755\",\u001b[0m\r\n\u001b[0;33m        \"SameProcessGroup\": \"no\",\u001b[0m\r\n\u001b[0;33m        \"SecureBits\": \"0\",\u001b[0m\r\n\u001b[0;33m        \"SendSIGHUP\": \"no\",\u001b[0m\r\n\u001b[0;33m        \"SendSIGKILL\": \"yes\",\u001b[0m\r\n\u001b[0;33m        \"Slice\": \"system.slice\",\u001b[0m\r\n\u001b[0;33m        \"StandardError\": \"inherit\",\u001b[0m\r\n\u001b[0;33m        \"StandardInput\": \"null\",\u001b[0m\r\n\u001b[0;33m        \"StandardOutput\": \"journal\",\u001b[0m\r\n\u001b[0;33m        \"StartLimitAction\": \"none\",\u001b[0m\r\n\u001b[0;33m        \"StartLimitBurst\": \"5\",\u001b[0m\r\n\u001b[0;33m        \"StartLimitInterval\": \"10000000\",\u001b[0m\r\n\u001b[0;33m        \"StartupBlockIOWeight\": \"18446744073709551615\",\u001b[0m\r\n\u001b[0;33m        \"StartupCPUShares\": \"18446744073709551615\",\u001b[0m\r\n\u001b[0;33m        \"StatusErrno\": \"0\",\u001b[0m\r\n\u001b[0;33m        \"StopWhenUnneeded\": \"no\",\u001b[0m\r\n\u001b[0;33m        \"SubState\": \"dead\",\u001b[0m\r\n\u001b[0;33m        \"SyslogLevelPrefix\": \"yes\",\u001b[0m\r\n\u001b[0;33m        \"SyslogPriority\": \"30\",\u001b[0m\r\n\u001b[0;33m        \"SystemCallErrorNumber\": \"0\",\u001b[0m\r\n\u001b[0;33m        \"TTYReset\": \"no\",\u001b[0m\r\n\u001b[0;33m        \"TTYVHangup\": \"no\",\u001b[0m\r\n\u001b[0;33m        \"TTYVTDisallocate\": \"no\",\u001b[0m\r\n\u001b[0;33m        \"TasksAccounting\": \"no\",\u001b[0m\r\n\u001b[0;33m        \"TasksCurrent\": \"18446744073709551615\",\u001b[0m\r\n\u001b[0;33m        \"TasksMax\": \"18446744073709551615\",\u001b[0m\r\n\u001b[0;33m        \"TimeoutStartUSec\": \"0\",\u001b[0m\r\n\u001b[0;33m        \"TimeoutStopUSec\": \"1min 30s\",\u001b[0m\r\n\u001b[0;33m        \"TimerSlackNSec\": \"50000\",\u001b[0m\r\n\u001b[0;33m        \"Transient\": \"no\",\u001b[0m\r\n\u001b[0;33m        \"Type\": \"notify\",\u001b[0m\r\n\u001b[0;33m        \"UMask\": \"0022\",\u001b[0m\r\n\u001b[0;33m        \"UnitFilePreset\": \"disabled\",\u001b[0m\r\n\u001b[0;33m        \"UnitFileState\": \"disabled\",\u001b[0m\r\n\u001b[0;33m        \"Wants\": \"docker-storage-setup.service\",\u001b[0m\r\n\u001b[0;33m        \"WatchdogTimestampMonotonic\": \"0\",\u001b[0m\r\n\u001b[0;33m        \"WatchdogUSec\": \"0\"\u001b[0m\r\n\u001b[0;33m    }\u001b[0m\r\n\u001b[0;33m}\u001b[0m\r\n"
       }
      ]
     }
    ]
   },
   "outputs": [],
   "source": [
    "!ansible -i hosts $host -m service \\\n",
    "-a \"name=docker state=started enabled=yes\" --become"
   ]
  },
  {
   "cell_type": "markdown",
   "metadata": {
    "lc_cell_meme": {
     "current": "6db3ba94-0cd8-11ea-9309-0242ac120004",
     "history": [
      {
       "current": "6db3ba94-0cd8-11ea-9309-0242ac120004",
       "next": "6db3bd46-0cd8-11ea-9309-0242ac120004",
       "previous": "e23bce2e-0c42-11ea-a3bf-0242ac120004"
      }
     ],
     "next": "6db3bd46-0cd8-11ea-9309-0242ac120004",
     "previous": "fcca0210-0cd8-11ea-9309-0242ac120004"
    }
   },
   "source": [
    "dockerコマンド、docker-composeコマンドが動くことを確認します。"
   ]
  },
  {
   "cell_type": "code",
   "execution_count": null,
   "metadata": {
    "lc_cell_meme": {
     "current": "6db3bd46-0cd8-11ea-9309-0242ac120004",
     "history": [
      {
       "current": "6db3bd46-0cd8-11ea-9309-0242ac120004",
       "next": null,
       "previous": "6db3ba94-0cd8-11ea-9309-0242ac120004"
      }
     ],
     "next": "b5a12846-0cd8-11ea-9309-0242ac120004",
     "previous": "6db3ba94-0cd8-11ea-9309-0242ac120004"
    },
    "lc_wrapper": {
     "log_history": [
      "/home/user1/notebooks/.log/20191122/20191122-033115-0364.log",
      "/home/user1/notebooks/.log/20191122/20191122-033535-0304.log",
      "/home/user1/notebooks/.log/20191122/20191122-042503-0854.log"
     ]
    },
    "pinned_outputs": [
     {
      "execution_count": 56,
      "outputs": [
       {
        "name": "stdout",
        "output_type": "stream",
        "text": "\u001b[0;33m10.138.0.18 | CHANGED | rc=0 >>\u001b[0m\n\u001b[0;33mCONTAINER ID        IMAGE               COMMAND             CREATED             STATUS              PORTS               NAMES\u001b[0m\n\u001b[0;33m\u001b[0m\n\u001b[0;33m10.138.0.18 | CHANGED | rc=0 >>\u001b[0m\n\u001b[0;33mdocker-compose version 1.18.0, build 8dd22a9\u001b[0m\n\u001b[0;33m\u001b[0m\n"
       }
      ]
     }
    ]
   },
   "outputs": [],
   "source": [
    "!ansible -i hosts $host -a \"docker ps -a\" --become\n",
    "!ansible -i hosts $host -a \"docker-compose --version\" --become"
   ]
  },
  {
   "cell_type": "markdown",
   "metadata": {
    "lc_cell_meme": {
     "current": "b5a12846-0cd8-11ea-9309-0242ac120004",
     "history": [
      {
       "current": "b5a12846-0cd8-11ea-9309-0242ac120004",
       "next": null,
       "previous": "6db3bd46-0cd8-11ea-9309-0242ac120004"
      }
     ],
     "next": "8bccd1fe-0cd9-11ea-9309-0242ac120004",
     "previous": "6db3bd46-0cd8-11ea-9309-0242ac120004"
    }
   },
   "source": [
    "## sshカーネル用の設定ファイルを作成"
   ]
  },
  {
   "cell_type": "code",
   "execution_count": null,
   "metadata": {
    "lc_cell_meme": {
     "current": "8bccd1fe-0cd9-11ea-9309-0242ac120004",
     "history": [
      {
       "current": "8bccd1fe-0cd9-11ea-9309-0242ac120004",
       "next": null,
       "previous": "b5a12846-0cd8-11ea-9309-0242ac120004"
      }
     ],
     "next": "1abe8844-0cda-11ea-9309-0242ac120004",
     "previous": "b5a12846-0cd8-11ea-9309-0242ac120004"
    },
    "lc_wrapper": {
     "log_history": [
      "/home/user1/notebooks/.log/20191122/20191122-034203-0285.log",
      "/home/user1/notebooks/.log/20191122/20191122-034226-0380.log",
      "/home/user1/notebooks/.log/20191122/20191122-042509-0028.log"
     ]
    },
    "pinned_outputs": [
     {
      "execution_count": 57,
      "outputs": [
       {
        "name": "stdout",
        "output_type": "stream",
        "text": "Host user1-target\r\n  Hostname 10.138.0.18\r\n  User user1\r\n  Port 22\r\n  IdentityFile ~/.ssh/sshkey\r\n"
       }
      ]
     }
    ]
   },
   "outputs": [],
   "source": [
    "!echo \"Host $username-target\" > ~/.ssh/config\n",
    "!echo \"  Hostname $host\" >> ~/.ssh/config\n",
    "!echo \"  User $username\" >> ~/.ssh/config\n",
    "!echo \"  Port 22\" >> ~/.ssh/config\n",
    "!echo \"  IdentityFile $ansible_ssh_private_key_file\" >> ~/.ssh/config\n",
    "!cat ~/.ssh/config"
   ]
  },
  {
   "cell_type": "code",
   "execution_count": null,
   "metadata": {
    "lc_cell_meme": {
     "current": "1abe8844-0cda-11ea-9309-0242ac120004",
     "next": null,
     "previous": "8bccd1fe-0cd9-11ea-9309-0242ac120004"
    }
   },
   "outputs": [],
   "source": []
  }
 ],
 "metadata": {
  "kernelspec": {
   "display_name": "Python 3",
   "language": "python",
   "name": "python3"
  },
  "language_info": {
   "file_extension": ".py",
   "mimetype": "text/x-python",
   "name": "python",
   "nbconvert_exporter": "python",
   "pygments_lexer": "ipython3",
   "version": "3.7.3"
  },
  "lc_notebook_meme": {
   "current": "fdef740c-044c-11ea-9d36-0242ac120004",
   "lc_server_signature": {
    "current": {
     "notebook_dir": "/home/user1/notebooks",
     "notebook_path": "/",
     "server_url": "https://operationhub.kgr-lab.com/user/user1/",
     "signature_id": "ae27fcb2-043f-11ea-b29c-0242ac120002"
    },
    "history": []
   }
  },
  "toc": {
   "base_numbering": 1,
   "nav_menu": {},
   "number_sections": true,
   "sideBar": true,
   "skip_h1_title": false,
   "title_cell": "Table of Contents",
   "title_sidebar": "Contents",
   "toc_cell": false,
   "toc_position": {},
   "toc_section_display": true,
   "toc_window_display": true
  }
 },
 "nbformat": 4,
 "nbformat_minor": 2
}
