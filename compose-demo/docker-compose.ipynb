{
 "cells": [
  {
   "cell_type": "markdown",
   "metadata": {
    "lc_cell_meme": {
     "current": "f88137b8-1a7a-11eb-a035-0242ac140004",
     "next": "b5bbf206-0cf7-11ea-9309-0242ac120004-1-b7bc",
     "previous": null
    }
   },
   "source": [
    "# docker-compose"
   ]
  },
  {
   "cell_type": "markdown",
   "metadata": {
    "lc_cell_meme": {
     "current": "b5bbf206-0cf7-11ea-9309-0242ac120004-1-b7bc",
     "history": [
      {
       "current": "b5bbf206-0cf7-11ea-9309-0242ac120004",
       "next": "b5bbf530-0cf7-11ea-9309-0242ac120004",
       "previous": null
      },
      {
       "current": "b5bbf206-0cf7-11ea-9309-0242ac120004-1-b7bc",
       "next": "8cd410fa-0d04-11ea-9309-0242ac120004",
       "previous": null
      }
     ],
     "next": "b5bbf530-0cf7-11ea-9309-0242ac120004-1-8231",
     "previous": "f88137b8-1a7a-11eb-a035-0242ac140004"
    }
   },
   "source": [
    "## sshでログイン"
   ]
  },
  {
   "cell_type": "code",
   "execution_count": null,
   "metadata": {
    "lc_cell_meme": {
     "current": "b5bbf530-0cf7-11ea-9309-0242ac120004-1-8231",
     "history": [
      {
       "current": "b5bbf530-0cf7-11ea-9309-0242ac120004",
       "next": "167a7d7c-4941-11e9-892e-0242ac120002",
       "previous": "b5bbf206-0cf7-11ea-9309-0242ac120004"
      },
      {
       "current": "b5bbf530-0cf7-11ea-9309-0242ac120004-1-8231",
       "next": "167a7d7c-4941-11e9-892e-0242ac120002",
       "previous": "8cd410fa-0d04-11ea-9309-0242ac120004"
      }
     ],
     "next": "167a7d7c-4941-11e9-892e-0242ac120002-1-8302",
     "previous": "b5bbf206-0cf7-11ea-9309-0242ac120004-1-b7bc"
    },
    "pinned_outputs": [
     {
      "execution_count": 1,
      "outputs": [
       {
        "name": "stdout",
        "output_type": "stream",
        "text": "[ssh] Login to target...\n[ssh] host=target hostname=172.31.63.5 other_conf={'user': 'centos', 'port': 22, 'keyfile': ['/home/nagaku/notebooks/docker-handson/nagaku.pem'], 'load_system_ssh_config': False, 'missing_host_policy': <paramiko.client.WarningPolicy object at 0x7fa3ae68b040>}\n[ssh] Successfully logged in.\n"
       }
      ]
     }
    ]
   },
   "outputs": [],
   "source": [
    "%login target"
   ]
  },
  {
   "cell_type": "markdown",
   "metadata": {
    "lc_cell_meme": {
     "current": "167a7d7c-4941-11e9-892e-0242ac120002-1-8302",
     "history": [
      {
       "current": "167a7d7c-4941-11e9-892e-0242ac120002",
       "next": "167a7eb2-4941-11e9-892e-0242ac120002",
       "previous": null
      },
      {
       "current": "167a7d7c-4941-11e9-892e-0242ac120002-1-8302",
       "next": "b5bbf670-0cf7-11ea-9309-0242ac120004",
       "previous": "b5bbf530-0cf7-11ea-9309-0242ac120004"
      }
     ],
     "next": "b5bbf670-0cf7-11ea-9309-0242ac120004-1-d041",
     "previous": "b5bbf530-0cf7-11ea-9309-0242ac120004-1-8231"
    }
   },
   "source": [
    "## 資材の確認"
   ]
  },
  {
   "cell_type": "code",
   "execution_count": null,
   "metadata": {
    "lc_cell_meme": {
     "current": "b5bbf670-0cf7-11ea-9309-0242ac120004-1-d041",
     "history": [
      {
       "current": "b5bbf670-0cf7-11ea-9309-0242ac120004",
       "next": "167a7eb2-4941-11e9-892e-0242ac120002",
       "previous": "167a7d7c-4941-11e9-892e-0242ac120002"
      },
      {
       "current": "b5bbf670-0cf7-11ea-9309-0242ac120004-1-d041",
       "next": "fd63ee74-0cf7-11ea-9309-0242ac120004",
       "previous": "167a7d7c-4941-11e9-892e-0242ac120002"
      }
     ],
     "next": "fd63ee74-0cf7-11ea-9309-0242ac120004-1-9ff4",
     "previous": "167a7d7c-4941-11e9-892e-0242ac120002-1-8302"
    },
    "pinned_outputs": [
     {
      "execution_count": 2,
      "outputs": [
       {
        "name": "stdout",
        "output_type": "stream",
        "text": "[ssh] host = target, cwd = /home/centos\n[ssh] new cwd: /home/centos/docker-handson/compose-demo\n"
       }
      ]
     }
    ]
   },
   "outputs": [],
   "source": [
    "cd docker-handson/compose-demo"
   ]
  },
  {
   "cell_type": "code",
   "execution_count": null,
   "metadata": {
    "lc_cell_meme": {
     "current": "fd63ee74-0cf7-11ea-9309-0242ac120004-1-9ff4",
     "history": [
      {
       "current": "fd63ee74-0cf7-11ea-9309-0242ac120004-1-9ff4",
       "next": "fd63f266-0cf7-11ea-9309-0242ac120004",
       "previous": "b5bbf670-0cf7-11ea-9309-0242ac120004"
      }
     ],
     "next": "fd63f266-0cf7-11ea-9309-0242ac120004-1-c080",
     "previous": "b5bbf670-0cf7-11ea-9309-0242ac120004-1-d041"
    },
    "pinned_outputs": [
     {
      "execution_count": 3,
      "outputs": [
       {
        "name": "stdout",
        "output_type": "stream",
        "text": "[ssh] host = target, cwd = /home/centos/docker-handson/compose-demo\ndocker-compose.ipynb\ndocker-compose.yml\n"
       }
      ]
     }
    ]
   },
   "outputs": [],
   "source": [
    "ls"
   ]
  },
  {
   "cell_type": "code",
   "execution_count": null,
   "metadata": {
    "lc_cell_meme": {
     "current": "fd63f266-0cf7-11ea-9309-0242ac120004-1-c080",
     "history": [
      {
       "current": "fd63f266-0cf7-11ea-9309-0242ac120004",
       "next": "167a7eb2-4941-11e9-892e-0242ac120002",
       "previous": "fd63ee74-0cf7-11ea-9309-0242ac120004"
      },
      {
       "current": "fd63f266-0cf7-11ea-9309-0242ac120004-1-c080",
       "next": "8c9120f8-0cf8-11ea-9309-0242ac120004",
       "previous": "fd63ee74-0cf7-11ea-9309-0242ac120004"
      }
     ],
     "next": "8c9120f8-0cf8-11ea-9309-0242ac120004-1-659c",
     "previous": "fd63ee74-0cf7-11ea-9309-0242ac120004-1-9ff4"
    },
    "pinned_outputs": [
     {
      "execution_count": 4,
      "outputs": [
       {
        "name": "stdout",
        "output_type": "stream",
        "text": "[ssh] host = target, cwd = /home/centos/docker-handson/compose-demo\nversion: '3.3'\n\nservices:\n  web:\n    # replace username/repo:tag with your name and image details\n    image: mnagaku/get-started:part1\n    ports:\n      - \"80:80\"\n  redis:\n    image: redis\n"
       }
      ]
     }
    ]
   },
   "outputs": [],
   "source": [
    "cat docker-compose.yml"
   ]
  },
  {
   "cell_type": "markdown",
   "metadata": {
    "lc_cell_meme": {
     "current": "8c9120f8-0cf8-11ea-9309-0242ac120004-1-659c",
     "history": [
      {
       "current": "8c9120f8-0cf8-11ea-9309-0242ac120004-1-659c",
       "next": "167a7eb2-4941-11e9-892e-0242ac120002",
       "previous": "fd63f266-0cf7-11ea-9309-0242ac120004"
      }
     ],
     "next": "167a7eb2-4941-11e9-892e-0242ac120002-1-73fa",
     "previous": "fd63f266-0cf7-11ea-9309-0242ac120004-1-c080"
    }
   },
   "source": [
    "## コンテナの起動"
   ]
  },
  {
   "cell_type": "code",
   "execution_count": null,
   "metadata": {
    "lc_cell_meme": {
     "current": "167a7eb2-4941-11e9-892e-0242ac120002-1-73fa",
     "history": [
      {
       "current": "167a7eb2-4941-11e9-892e-0242ac120002",
       "next": "167a7fc0-4941-11e9-892e-0242ac120002",
       "previous": "167a7d7c-4941-11e9-892e-0242ac120002"
      },
      {
       "current": "167a7eb2-4941-11e9-892e-0242ac120002",
       "next": "167a7fc0-4941-11e9-892e-0242ac120002",
       "previous": "b5bbf670-0cf7-11ea-9309-0242ac120004"
      },
      {
       "current": "167a7eb2-4941-11e9-892e-0242ac120002",
       "next": "167a7fc0-4941-11e9-892e-0242ac120002",
       "previous": "fd63f266-0cf7-11ea-9309-0242ac120004"
      },
      {
       "current": "167a7eb2-4941-11e9-892e-0242ac120002",
       "next": "8c9123c8-0cf8-11ea-9309-0242ac120004",
       "previous": "8c9120f8-0cf8-11ea-9309-0242ac120004"
      },
      {
       "current": "167a7eb2-4941-11e9-892e-0242ac120002-1-73fa",
       "next": "167a7fc0-4941-11e9-892e-0242ac120002",
       "previous": "8c9120f8-0cf8-11ea-9309-0242ac120004"
      }
     ],
     "next": "167a7fc0-4941-11e9-892e-0242ac120002-1-5f6b",
     "previous": "8c9120f8-0cf8-11ea-9309-0242ac120004-1-659c"
    },
    "pinned_outputs": [
     {
      "execution_count": 5,
      "outputs": [
       {
        "name": "stdout",
        "output_type": "stream",
        "text": "[ssh] host = target, cwd = /home/centos/docker-handson/compose-demo\nCreating network \"compose-demo_default\" with the default driver\nPulling redis (redis:)...\nlatest: Pulling from library/redis\nDigest: sha256:a0494b60a0bc6de161d26dc2d2f9d2f1c5435e86a9e5d48862a161131affa6bd\nStatus: Downloaded newer image for redis:latest\nCreating compose-demo_web_1 ... \nCreating compose-demo_redis_1 ... \n\u001b[1Bting compose-demo_redis_1 ... \u001b[32mdone\u001b[0m"
       }
      ]
     }
    ]
   },
   "outputs": [],
   "source": [
    "sudo docker-compose up -d"
   ]
  },
  {
   "cell_type": "code",
   "execution_count": null,
   "metadata": {
    "lc_cell_meme": {
     "current": "167a7fc0-4941-11e9-892e-0242ac120002-1-5f6b",
     "history": [
      {
       "current": "167a7fc0-4941-11e9-892e-0242ac120002",
       "next": null,
       "previous": "167a7eb2-4941-11e9-892e-0242ac120002"
      },
      {
       "current": "167a7fc0-4941-11e9-892e-0242ac120002",
       "next": "5d9e35ea-4941-11e9-892e-0242ac120002",
       "previous": "167a7eb2-4941-11e9-892e-0242ac120002"
      },
      {
       "current": "167a7fc0-4941-11e9-892e-0242ac120002",
       "next": "5d9e35ea-4941-11e9-892e-0242ac120002",
       "previous": "8c9123c8-0cf8-11ea-9309-0242ac120004"
      },
      {
       "current": "167a7fc0-4941-11e9-892e-0242ac120002-1-5f6b",
       "next": "8c9123c8-0cf8-11ea-9309-0242ac120004",
       "previous": "167a7eb2-4941-11e9-892e-0242ac120002"
      }
     ],
     "next": "8c9123c8-0cf8-11ea-9309-0242ac120004-1-5cb6",
     "previous": "167a7eb2-4941-11e9-892e-0242ac120002-1-73fa"
    },
    "pinned_outputs": [
     {
      "execution_count": 6,
      "outputs": [
       {
        "name": "stdout",
        "output_type": "stream",
        "text": "[ssh] host = target, cwd = /home/centos/docker-handson/compose-demo\n        Name                      Command               State         Ports       \n----------------------------------------------------------------------------------\ncompose-demo_redis_1   docker-entrypoint.sh redis ...   Up      6379/tcp          \ncompose-demo_web_1     python app.py                    Up      0.0.0.0:80->80/tcp\n"
       }
      ]
     }
    ],
    "scrolled": true
   },
   "outputs": [],
   "source": [
    "sudo docker-compose ps"
   ]
  },
  {
   "cell_type": "markdown",
   "metadata": {
    "lc_cell_meme": {
     "current": "8c9123c8-0cf8-11ea-9309-0242ac120004-1-5cb6",
     "history": [
      {
       "current": "8c9123c8-0cf8-11ea-9309-0242ac120004",
       "next": "167a7fc0-4941-11e9-892e-0242ac120002",
       "previous": "167a7eb2-4941-11e9-892e-0242ac120002"
      },
      {
       "current": "8c9123c8-0cf8-11ea-9309-0242ac120004-1-5cb6",
       "next": "1b8579d0-0cf9-11ea-9309-0242ac120004",
       "previous": "167a7fc0-4941-11e9-892e-0242ac120002"
      }
     ],
     "next": "1b8579d0-0cf9-11ea-9309-0242ac120004-1-3c34",
     "previous": "167a7fc0-4941-11e9-892e-0242ac120002-1-5f6b"
    }
   },
   "source": [
    "webブラウザでアクセスして確認してみましょう。"
   ]
  },
  {
   "cell_type": "markdown",
   "metadata": {
    "lc_cell_meme": {
     "current": "1b8579d0-0cf9-11ea-9309-0242ac120004-1-3c34",
     "history": [
      {
       "current": "1b8579d0-0cf9-11ea-9309-0242ac120004-1-3c34",
       "next": "5d9e35ea-4941-11e9-892e-0242ac120002",
       "previous": "8c9123c8-0cf8-11ea-9309-0242ac120004"
      }
     ],
     "next": "5d9e35ea-4941-11e9-892e-0242ac120002-1-3dcc",
     "previous": "8c9123c8-0cf8-11ea-9309-0242ac120004-1-5cb6"
    }
   },
   "source": [
    "## コンテナの停止"
   ]
  },
  {
   "cell_type": "code",
   "execution_count": null,
   "metadata": {
    "lc_cell_meme": {
     "current": "5d9e35ea-4941-11e9-892e-0242ac120002-1-3dcc",
     "history": [
      {
       "current": "5d9e35ea-4941-11e9-892e-0242ac120002",
       "next": null,
       "previous": "167a7fc0-4941-11e9-892e-0242ac120002"
      },
      {
       "current": "5d9e35ea-4941-11e9-892e-0242ac120002",
       "next": "af641f70-4946-11e9-892e-0242ac120002",
       "previous": "167a7fc0-4941-11e9-892e-0242ac120002"
      },
      {
       "current": "5d9e35ea-4941-11e9-892e-0242ac120002-1-3dcc",
       "next": "af641f70-4946-11e9-892e-0242ac120002",
       "previous": "1b8579d0-0cf9-11ea-9309-0242ac120004"
      },
      {
       "current": "5d9e35ea-4941-11e9-892e-0242ac120002-1-3dcc",
       "next": "af641f70-4946-11e9-892e-0242ac120002-1-4519",
       "previous": "1b8579d0-0cf9-11ea-9309-0242ac120004-1-3c34"
      }
     ],
     "next": "af641f70-4946-11e9-892e-0242ac120002-2-4519-0ee8",
     "previous": "1b8579d0-0cf9-11ea-9309-0242ac120004-1-3c34"
    },
    "pinned_outputs": [
     {
      "execution_count": 7,
      "outputs": [
       {
        "name": "stdout",
        "output_type": "stream",
        "text": "[ssh] host = target, cwd = /home/centos/docker-handson/compose-demo\nStopping compose-demo_redis_1 ... \nStopping compose-demo_web_1   ... \n\u001b[1BRemoving compose-demo_redis_1 ... mdone\u001b[0m\nRemoving compose-demo_web_1   ... \n\u001b[1BRemoving network compose-demo_defaultne\u001b[0m\n"
       }
      ]
     }
    ]
   },
   "outputs": [],
   "source": [
    "sudo docker-compose down"
   ]
  },
  {
   "cell_type": "markdown",
   "metadata": {
    "lc_cell_meme": {
     "current": "af641f70-4946-11e9-892e-0242ac120002-2-4519-0ee8",
     "history": [
      {
       "current": "af641f70-4946-11e9-892e-0242ac120002-1-4519",
       "next": null,
       "previous": "5d9e35ea-4941-11e9-892e-0242ac120002"
      }
     ],
     "next": "4008ef54-1a7b-11eb-a035-0242ac140004",
     "previous": "5d9e35ea-4941-11e9-892e-0242ac120002-1-3dcc"
    }
   },
   "source": [
    "## sshからログアウト"
   ]
  },
  {
   "cell_type": "code",
   "execution_count": null,
   "metadata": {
    "lc_cell_meme": {
     "current": "4008ef54-1a7b-11eb-a035-0242ac140004",
     "next": "4008f0da-1a7b-11eb-a035-0242ac140004",
     "previous": "af641f70-4946-11e9-892e-0242ac120002-2-4519-0ee8"
    },
    "pinned_outputs": [
     {
      "execution_count": 8,
      "outputs": [
       {
        "name": "stdout",
        "output_type": "stream",
        "text": "[ssh] Closing existing connection.\n[ssh] Successfully logged out.\n"
       }
      ]
     }
    ]
   },
   "outputs": [],
   "source": [
    "%logout"
   ]
  },
  {
   "cell_type": "code",
   "execution_count": null,
   "metadata": {
    "lc_cell_meme": {
     "current": "4008f0da-1a7b-11eb-a035-0242ac140004",
     "next": null,
     "previous": "4008ef54-1a7b-11eb-a035-0242ac140004"
    }
   },
   "outputs": [],
   "source": []
  }
 ],
 "metadata": {
  "kernelspec": {
   "display_name": "SSH",
   "language": "bash",
   "name": "ssh"
  },
  "language_info": {
   "codemirror_mode": "shell",
   "file_extension": ".sh",
   "mimetype": "text/x-sh",
   "name": "ssh"
  },
  "lc_notebook_meme": {
   "current": "167a7b24-4941-11e9-892e-0242ac120002",
   "lc_server_signature": {
    "current": {
     "notebook_dir": "/home/nagaku/notebooks",
     "notebook_path": "/docker-handson/compose-demo",
     "server_url": "https://operationhub.kgr-lab.com/user/nagaku/",
     "signature_id": "95e8698e-1505-11eb-a6b9-0242ac120002"
    },
    "history": [
     {
      "notebook_dir": "/home/jovyan",
      "notebook_path": "/docker-handson/compose-demo",
      "server_url": "http://localhost:8888/",
      "signature_id": "d9588906-493c-11e9-892e-0242ac120002"
     },
     {
      "notebook_dir": "/home/jovyan",
      "notebook_path": "/docker-handson/compose-demo",
      "server_url": "http://localhost:8888/",
      "signature_id": "70f8869c-49fd-11e9-95a3-0242ac120002"
     },
     {
      "notebook_dir": "/home/jovyan",
      "notebook_path": "/docker-handson/compose-demo",
      "server_url": "http://localhost:8888/",
      "signature_id": "e181c450-4a07-11e9-9bd0-0242ac120002"
     },
     {
      "notebook_dir": "/home/user1/notebooks",
      "notebook_path": "/docker-handson/compose-demo",
      "server_url": "https://operationhub.kgr-lab.com/user/user1/",
      "signature_id": "ae27fcb2-043f-11ea-b29c-0242ac120002"
     }
    ]
   }
  },
  "toc": {
   "base_numbering": 1,
   "nav_menu": {},
   "number_sections": true,
   "sideBar": true,
   "skip_h1_title": false,
   "title_cell": "Table of Contents",
   "title_sidebar": "Contents",
   "toc_cell": false,
   "toc_position": {},
   "toc_section_display": true,
   "toc_window_display": true
  }
 },
 "nbformat": 4,
 "nbformat_minor": 2
}
