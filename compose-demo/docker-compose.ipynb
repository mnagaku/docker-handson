{
 "cells": [
  {
   "cell_type": "markdown",
   "metadata": {
    "lc_cell_meme": {
     "current": "b5bbf206-0cf7-11ea-9309-0242ac120004",
     "history": [
      {
       "current": "b5bbf206-0cf7-11ea-9309-0242ac120004",
       "next": "b5bbf530-0cf7-11ea-9309-0242ac120004",
       "previous": null
      }
     ],
     "next": "8cd410fa-0d04-11ea-9309-0242ac120004",
     "previous": null
    }
   },
   "source": [
    "# sshでログイン"
   ]
  },
  {
   "cell_type": "code",
   "execution_count": null,
   "metadata": {
    "lc_cell_meme": {
     "current": "8cd410fa-0d04-11ea-9309-0242ac120004",
     "next": "b5bbf530-0cf7-11ea-9309-0242ac120004",
     "previous": "b5bbf206-0cf7-11ea-9309-0242ac120004"
    }
   },
   "outputs": [],
   "source": [
    "%param TARGET user1-target"
   ]
  },
  {
   "cell_type": "code",
   "execution_count": null,
   "metadata": {
    "lc_cell_meme": {
     "current": "b5bbf530-0cf7-11ea-9309-0242ac120004",
     "history": [
      {
       "current": "b5bbf530-0cf7-11ea-9309-0242ac120004",
       "next": "167a7d7c-4941-11e9-892e-0242ac120002",
       "previous": "b5bbf206-0cf7-11ea-9309-0242ac120004"
      }
     ],
     "next": "167a7d7c-4941-11e9-892e-0242ac120002",
     "previous": "8cd410fa-0d04-11ea-9309-0242ac120004"
    }
   },
   "outputs": [],
   "source": [
    "%login {TARGET}"
   ]
  },
  {
   "cell_type": "markdown",
   "metadata": {
    "lc_cell_meme": {
     "current": "167a7d7c-4941-11e9-892e-0242ac120002",
     "history": [
      {
       "current": "167a7d7c-4941-11e9-892e-0242ac120002",
       "next": "167a7eb2-4941-11e9-892e-0242ac120002",
       "previous": null
      }
     ],
     "next": "b5bbf670-0cf7-11ea-9309-0242ac120004",
     "previous": "b5bbf530-0cf7-11ea-9309-0242ac120004"
    }
   },
   "source": [
    "# 資材の確認"
   ]
  },
  {
   "cell_type": "code",
   "execution_count": null,
   "metadata": {
    "lc_cell_meme": {
     "current": "b5bbf670-0cf7-11ea-9309-0242ac120004",
     "history": [
      {
       "current": "b5bbf670-0cf7-11ea-9309-0242ac120004",
       "next": "167a7eb2-4941-11e9-892e-0242ac120002",
       "previous": "167a7d7c-4941-11e9-892e-0242ac120002"
      }
     ],
     "next": "fd63ee74-0cf7-11ea-9309-0242ac120004",
     "previous": "167a7d7c-4941-11e9-892e-0242ac120002"
    },
    "pinned_outputs": []
   },
   "outputs": [],
   "source": [
    "cd docker-handson/compose-demo"
   ]
  },
  {
   "cell_type": "code",
   "execution_count": null,
   "metadata": {
    "lc_cell_meme": {
     "current": "fd63ee74-0cf7-11ea-9309-0242ac120004",
     "next": "fd63f266-0cf7-11ea-9309-0242ac120004",
     "previous": "b5bbf670-0cf7-11ea-9309-0242ac120004"
    },
    "pinned_outputs": [
     {
      "execution_count": 4,
      "outputs": [
       {
        "name": "stdout",
        "output_type": "stream",
        "text": "[ssh] host = user1-target, cwd = /home/user1/docker-handson/compose-demo\ndocker-compose.ipynb\ndocker-compose.yml\n"
       }
      ]
     }
    ]
   },
   "outputs": [],
   "source": [
    "ls"
   ]
  },
  {
   "cell_type": "code",
   "execution_count": null,
   "metadata": {
    "lc_cell_meme": {
     "current": "fd63f266-0cf7-11ea-9309-0242ac120004",
     "history": [
      {
       "current": "fd63f266-0cf7-11ea-9309-0242ac120004",
       "next": "167a7eb2-4941-11e9-892e-0242ac120002",
       "previous": "fd63ee74-0cf7-11ea-9309-0242ac120004"
      }
     ],
     "next": "8c9120f8-0cf8-11ea-9309-0242ac120004",
     "previous": "fd63ee74-0cf7-11ea-9309-0242ac120004"
    },
    "pinned_outputs": [
     {
      "execution_count": 6,
      "outputs": [
       {
        "name": "stdout",
        "output_type": "stream",
        "text": "[ssh] host = user1-target, cwd = /home/user1/docker-handson/compose-demo\nversion: '3.3'\n\nservices:\n  web:\n    # replace username/repo:tag with your name and image details\n    image: mnagaku/get-started:part1\n    ports:\n      - \"80:80\"\n  redis:\n    image: redis\n"
       }
      ]
     }
    ]
   },
   "outputs": [],
   "source": [
    "cat docker-compose.yml"
   ]
  },
  {
   "cell_type": "markdown",
   "metadata": {
    "lc_cell_meme": {
     "current": "8c9120f8-0cf8-11ea-9309-0242ac120004",
     "next": "167a7eb2-4941-11e9-892e-0242ac120002",
     "previous": "fd63f266-0cf7-11ea-9309-0242ac120004"
    }
   },
   "source": [
    "# コンテナの起動"
   ]
  },
  {
   "cell_type": "code",
   "execution_count": null,
   "metadata": {
    "lc_cell_meme": {
     "current": "167a7eb2-4941-11e9-892e-0242ac120002",
     "history": [
      {
       "current": "167a7eb2-4941-11e9-892e-0242ac120002",
       "next": "167a7fc0-4941-11e9-892e-0242ac120002",
       "previous": "167a7d7c-4941-11e9-892e-0242ac120002"
      },
      {
       "current": "167a7eb2-4941-11e9-892e-0242ac120002",
       "next": "167a7fc0-4941-11e9-892e-0242ac120002",
       "previous": "b5bbf670-0cf7-11ea-9309-0242ac120004"
      },
      {
       "current": "167a7eb2-4941-11e9-892e-0242ac120002",
       "next": "167a7fc0-4941-11e9-892e-0242ac120002",
       "previous": "fd63f266-0cf7-11ea-9309-0242ac120004"
      },
      {
       "current": "167a7eb2-4941-11e9-892e-0242ac120002",
       "next": "8c9123c8-0cf8-11ea-9309-0242ac120004",
       "previous": "8c9120f8-0cf8-11ea-9309-0242ac120004"
      }
     ],
     "next": "167a7fc0-4941-11e9-892e-0242ac120002",
     "previous": "8c9120f8-0cf8-11ea-9309-0242ac120004"
    },
    "pinned_outputs": [
     {
      "execution_count": 7,
      "outputs": [
       {
        "name": "stdout",
        "output_type": "stream",
        "text": "[ssh] host = user1-target, cwd = /home/user1/docker-handson/compose-demo\nCreating network \"composedemo_default\" with the default driver\nPulling redis (redis:latest)...\nTrying to pull repository docker.io/library/redis ... \nlatest: Pulling from docker.io/library/redis\nDigest: sha256:be610493a65135fc7e434ebe268a6e2ef384b09505d47080fb1344600562aeb7\nStatus: Downloaded newer image for docker.io/redis:latest\nCreating composedemo_web_1   ... \nCreating composedemo_redis_1 ... \n\u001b[2Bting composedemo_web_1   ... \u001b[32mdone\u001b[0m"
       }
      ]
     }
    ]
   },
   "outputs": [],
   "source": [
    "sudo docker-compose up -d"
   ]
  },
  {
   "cell_type": "code",
   "execution_count": null,
   "metadata": {
    "lc_cell_meme": {
     "current": "167a7fc0-4941-11e9-892e-0242ac120002",
     "history": [
      {
       "current": "167a7fc0-4941-11e9-892e-0242ac120002",
       "next": null,
       "previous": "167a7eb2-4941-11e9-892e-0242ac120002"
      },
      {
       "current": "167a7fc0-4941-11e9-892e-0242ac120002",
       "next": "5d9e35ea-4941-11e9-892e-0242ac120002",
       "previous": "167a7eb2-4941-11e9-892e-0242ac120002"
      },
      {
       "current": "167a7fc0-4941-11e9-892e-0242ac120002",
       "next": "5d9e35ea-4941-11e9-892e-0242ac120002",
       "previous": "8c9123c8-0cf8-11ea-9309-0242ac120004"
      }
     ],
     "next": "8c9123c8-0cf8-11ea-9309-0242ac120004",
     "previous": "167a7eb2-4941-11e9-892e-0242ac120002"
    },
    "pinned_outputs": [
     {
      "execution_count": 8,
      "outputs": [
       {
        "name": "stdout",
        "output_type": "stream",
        "text": "[ssh] host = user1-target, cwd = /home/user1/docker-handson/compose-demo\n       Name                      Command               State         Ports       \n---------------------------------------------------------------------------------\ncomposedemo_redis_1   docker-entrypoint.sh redis ...   Up      6379/tcp          \ncomposedemo_web_1     python app.py                    Up      0.0.0.0:80->80/tcp\n"
       }
      ]
     }
    ],
    "scrolled": true
   },
   "outputs": [],
   "source": [
    "sudo docker-compose ps"
   ]
  },
  {
   "cell_type": "markdown",
   "metadata": {
    "lc_cell_meme": {
     "current": "8c9123c8-0cf8-11ea-9309-0242ac120004",
     "history": [
      {
       "current": "8c9123c8-0cf8-11ea-9309-0242ac120004",
       "next": "167a7fc0-4941-11e9-892e-0242ac120002",
       "previous": "167a7eb2-4941-11e9-892e-0242ac120002"
      }
     ],
     "next": "1b8579d0-0cf9-11ea-9309-0242ac120004",
     "previous": "167a7fc0-4941-11e9-892e-0242ac120002"
    }
   },
   "source": [
    "仮想マシン起動時のログでEXTERNAL_IPを確認し、webブラウザで\n",
    "\n",
    "http://EXTERNAL_IP\n",
    "\n",
    "を確認してみましょう。"
   ]
  },
  {
   "cell_type": "markdown",
   "metadata": {
    "lc_cell_meme": {
     "current": "1b8579d0-0cf9-11ea-9309-0242ac120004",
     "next": "5d9e35ea-4941-11e9-892e-0242ac120002",
     "previous": "8c9123c8-0cf8-11ea-9309-0242ac120004"
    }
   },
   "source": [
    "# コンテナの停止"
   ]
  },
  {
   "cell_type": "code",
   "execution_count": null,
   "metadata": {
    "lc_cell_meme": {
     "current": "5d9e35ea-4941-11e9-892e-0242ac120002",
     "history": [
      {
       "current": "5d9e35ea-4941-11e9-892e-0242ac120002",
       "next": null,
       "previous": "167a7fc0-4941-11e9-892e-0242ac120002"
      },
      {
       "current": "5d9e35ea-4941-11e9-892e-0242ac120002",
       "next": "af641f70-4946-11e9-892e-0242ac120002",
       "previous": "167a7fc0-4941-11e9-892e-0242ac120002"
      }
     ],
     "next": "af641f70-4946-11e9-892e-0242ac120002",
     "previous": "1b8579d0-0cf9-11ea-9309-0242ac120004"
    },
    "pinned_outputs": [
     {
      "execution_count": 9,
      "outputs": [
       {
        "name": "stdout",
        "output_type": "stream",
        "text": "[ssh] host = user1-target, cwd = /home/user1/docker-handson/compose-demo\nStopping composedemo_web_1   ... \nStopping composedemo_redis_1 ... \n\u001b[2BRemoving composedemo_web_1   ... mdone\u001b[0m\nRemoving composedemo_redis_1 ... \n\u001b[1BRemoving network composedemo_defaultne\u001b[0m\n"
       }
      ]
     }
    ]
   },
   "outputs": [],
   "source": [
    "sudo docker-compose down"
   ]
  },
  {
   "cell_type": "code",
   "execution_count": null,
   "metadata": {
    "lc_cell_meme": {
     "current": "af641f70-4946-11e9-892e-0242ac120002",
     "next": null,
     "previous": "5d9e35ea-4941-11e9-892e-0242ac120002"
    }
   },
   "outputs": [],
   "source": []
  }
 ],
 "metadata": {
  "kernelspec": {
   "display_name": "SSH",
   "language": "bash",
   "name": "ssh"
  },
  "language_info": {
   "codemirror_mode": "shell",
   "file_extension": ".sh",
   "mimetype": "text/x-sh",
   "name": "ssh"
  },
  "lc_notebook_meme": {
   "current": "167a7b24-4941-11e9-892e-0242ac120002",
   "lc_server_signature": {
    "current": {
     "notebook_dir": "/home/user1/notebooks",
     "notebook_path": "/docker-handson/compose-demo",
     "server_url": "https://operationhub.kgr-lab.com/user/user1/",
     "signature_id": "ae27fcb2-043f-11ea-b29c-0242ac120002"
    },
    "history": [
     {
      "notebook_dir": "/home/jovyan",
      "notebook_path": "/docker-handson/compose-demo",
      "server_url": "http://localhost:8888/",
      "signature_id": "d9588906-493c-11e9-892e-0242ac120002"
     },
     {
      "notebook_dir": "/home/jovyan",
      "notebook_path": "/docker-handson/compose-demo",
      "server_url": "http://localhost:8888/",
      "signature_id": "70f8869c-49fd-11e9-95a3-0242ac120002"
     },
     {
      "notebook_dir": "/home/jovyan",
      "notebook_path": "/docker-handson/compose-demo",
      "server_url": "http://localhost:8888/",
      "signature_id": "e181c450-4a07-11e9-9bd0-0242ac120002"
     }
    ]
   }
  },
  "toc": {
   "base_numbering": 1,
   "nav_menu": {},
   "number_sections": true,
   "sideBar": true,
   "skip_h1_title": false,
   "title_cell": "Table of Contents",
   "title_sidebar": "Contents",
   "toc_cell": false,
   "toc_position": {},
   "toc_section_display": true,
   "toc_window_display": true
  }
 },
 "nbformat": 4,
 "nbformat_minor": 2
}
