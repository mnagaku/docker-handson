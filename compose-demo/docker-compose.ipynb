{
 "cells": [
  {
   "cell_type": "code",
   "execution_count": null,
   "metadata": {
    "lc_cell_meme": {
     "current": "167a7d7c-4941-11e9-892e-0242ac120002",
     "next": "167a7eb2-4941-11e9-892e-0242ac120002",
     "previous": null
    }
   },
   "outputs": [],
   "source": [
    "!ls"
   ]
  },
  {
   "cell_type": "code",
   "execution_count": null,
   "metadata": {
    "lc_cell_meme": {
     "current": "167a7eb2-4941-11e9-892e-0242ac120002",
     "next": "167a7fc0-4941-11e9-892e-0242ac120002",
     "previous": "167a7d7c-4941-11e9-892e-0242ac120002"
    }
   },
   "outputs": [],
   "source": [
    "!sudo docker-compose up -d"
   ]
  },
  {
   "cell_type": "code",
   "execution_count": null,
   "metadata": {
    "lc_cell_meme": {
     "current": "167a7fc0-4941-11e9-892e-0242ac120002",
     "history": [
      {
       "current": "167a7fc0-4941-11e9-892e-0242ac120002",
       "next": null,
       "previous": "167a7eb2-4941-11e9-892e-0242ac120002"
      }
     ],
     "next": "5d9e35ea-4941-11e9-892e-0242ac120002",
     "previous": "167a7eb2-4941-11e9-892e-0242ac120002"
    }
   },
   "outputs": [],
   "source": [
    "!sudo docker-compose ps"
   ]
  },
  {
   "cell_type": "code",
   "execution_count": null,
   "metadata": {
    "lc_cell_meme": {
     "current": "5d9e35ea-4941-11e9-892e-0242ac120002",
     "history": [
      {
       "current": "5d9e35ea-4941-11e9-892e-0242ac120002",
       "next": null,
       "previous": "167a7fc0-4941-11e9-892e-0242ac120002"
      }
     ],
     "next": "af641f70-4946-11e9-892e-0242ac120002",
     "previous": "167a7fc0-4941-11e9-892e-0242ac120002"
    }
   },
   "outputs": [],
   "source": [
    "!sudo docker-compose down"
   ]
  },
  {
   "cell_type": "code",
   "execution_count": null,
   "metadata": {
    "lc_cell_meme": {
     "current": "af641f70-4946-11e9-892e-0242ac120002",
     "next": null,
     "previous": "5d9e35ea-4941-11e9-892e-0242ac120002"
    }
   },
   "outputs": [],
   "source": []
  }
 ],
 "metadata": {
  "kernelspec": {
   "display_name": "Python 3 (LC_wrapper)",
   "language": "python",
   "name": "python3-wrapper"
  },
  "language_info": {
   "file_extension": ".py",
   "mimetype": "text/x-python",
   "name": "python",
   "nbconvert_exporter": "python",
   "pygments_lexer": "ipython3",
   "version": "3.7.1"
  },
  "lc_notebook_meme": {
   "current": "167a7b24-4941-11e9-892e-0242ac120002",
   "lc_server_signature": {
    "current": {
     "notebook_dir": "/home/jovyan",
     "notebook_path": "/docker-handson/compose-demo",
     "server_url": "http://localhost:8888/",
     "signature_id": "70f8869c-49fd-11e9-95a3-0242ac120002"
    },
    "history": [
     {
      "notebook_dir": "/home/jovyan",
      "notebook_path": "/docker-handson/compose-demo",
      "server_url": "http://localhost:8888/",
      "signature_id": "d9588906-493c-11e9-892e-0242ac120002"
     }
    ]
   }
  },
  "toc": {
   "base_numbering": 1,
   "nav_menu": {},
   "number_sections": true,
   "sideBar": true,
   "skip_h1_title": false,
   "title_cell": "Table of Contents",
   "title_sidebar": "Contents",
   "toc_cell": false,
   "toc_position": {},
   "toc_section_display": true,
   "toc_window_display": false
  }
 },
 "nbformat": 4,
 "nbformat_minor": 2
}
