{
 "cells": [
  {
   "cell_type": "markdown",
   "metadata": {
    "lc_cell_meme": {
     "current": "11efc8c2-49df-11e9-91dd-0242ac120002",
     "history": [
      {
       "current": "11efc8c2-49df-11e9-91dd-0242ac120002",
       "next": "11efcdd6-49df-11e9-91dd-0242ac120002",
       "previous": null
      },
      {
       "current": "11efc8c2-49df-11e9-91dd-0242ac120002",
       "next": "a0fc2c40-49df-11e9-91dd-0242ac120002",
       "previous": null
      }
     ],
     "next": "069d92b8-49e1-11e9-91dd-0242ac120002",
     "previous": null
    }
   },
   "source": [
    "[公式チュートリアル](https://docs.docker.com/get-started/)を元に、dockerコマンドの基本操作を試してみます。"
   ]
  },
  {
   "cell_type": "markdown",
   "metadata": {
    "lc_cell_meme": {
     "current": "069d92b8-49e1-11e9-91dd-0242ac120002",
     "next": "a0fc2c40-49df-11e9-91dd-0242ac120002",
     "previous": "11efc8c2-49df-11e9-91dd-0242ac120002"
    }
   },
   "source": [
    "# 基本操作"
   ]
  },
  {
   "cell_type": "markdown",
   "metadata": {
    "lc_cell_meme": {
     "current": "a0fc2c40-49df-11e9-91dd-0242ac120002",
     "history": [
      {
       "current": "a0fc2c40-49df-11e9-91dd-0242ac120002",
       "next": "11efcdd6-49df-11e9-91dd-0242ac120002",
       "previous": "11efc8c2-49df-11e9-91dd-0242ac120002"
      }
     ],
     "next": "11efcdd6-49df-11e9-91dd-0242ac120002",
     "previous": "069d92b8-49e1-11e9-91dd-0242ac120002"
    }
   },
   "source": [
    "dockerコマンドのバージョン"
   ]
  },
  {
   "cell_type": "code",
   "execution_count": null,
   "metadata": {
    "lc_cell_meme": {
     "current": "11efcdd6-49df-11e9-91dd-0242ac120002",
     "history": [
      {
       "current": "11efcdd6-49df-11e9-91dd-0242ac120002",
       "next": "11efd010-49df-11e9-91dd-0242ac120002",
       "previous": "11efc8c2-49df-11e9-91dd-0242ac120002"
      },
      {
       "current": "11efcdd6-49df-11e9-91dd-0242ac120002",
       "next": "11efd010-49df-11e9-91dd-0242ac120002",
       "previous": "a0fc2c40-49df-11e9-91dd-0242ac120002"
      }
     ],
     "next": "e8802e18-49df-11e9-91dd-0242ac120002",
     "previous": "a0fc2c40-49df-11e9-91dd-0242ac120002"
    }
   },
   "outputs": [],
   "source": [
    "!sudo docker --version"
   ]
  },
  {
   "cell_type": "markdown",
   "metadata": {
    "lc_cell_meme": {
     "current": "e8802e18-49df-11e9-91dd-0242ac120002",
     "next": "11efd010-49df-11e9-91dd-0242ac120002",
     "previous": "11efcdd6-49df-11e9-91dd-0242ac120002"
    }
   },
   "source": [
    "dockerデーモンのデーモンの稼働状況"
   ]
  },
  {
   "cell_type": "code",
   "execution_count": null,
   "metadata": {
    "lc_cell_meme": {
     "current": "11efd010-49df-11e9-91dd-0242ac120002",
     "history": [
      {
       "current": "11efd010-49df-11e9-91dd-0242ac120002",
       "next": null,
       "previous": "11efcdd6-49df-11e9-91dd-0242ac120002"
      },
      {
       "current": "11efd010-49df-11e9-91dd-0242ac120002",
       "next": "59766340-49df-11e9-91dd-0242ac120002",
       "previous": "11efcdd6-49df-11e9-91dd-0242ac120002"
      }
     ],
     "next": "e88036b0-49df-11e9-91dd-0242ac120002",
     "previous": "e8802e18-49df-11e9-91dd-0242ac120002"
    }
   },
   "outputs": [],
   "source": [
    "!sudo docker info"
   ]
  },
  {
   "cell_type": "markdown",
   "metadata": {
    "lc_cell_meme": {
     "current": "e88036b0-49df-11e9-91dd-0242ac120002",
     "next": "59766340-49df-11e9-91dd-0242ac120002",
     "previous": "11efd010-49df-11e9-91dd-0242ac120002"
    }
   },
   "source": [
    "コンテナを動かしてみる（サーバではなくコマンドの実行を行うテスト用のコンテナ）\n",
    "\n",
    "https://hub.docker.com/_/hello-world"
   ]
  },
  {
   "cell_type": "code",
   "execution_count": null,
   "metadata": {
    "lc_cell_meme": {
     "current": "59766340-49df-11e9-91dd-0242ac120002",
     "history": [
      {
       "current": "59766340-49df-11e9-91dd-0242ac120002",
       "next": "59766746-49df-11e9-91dd-0242ac120002",
       "previous": "11efd010-49df-11e9-91dd-0242ac120002"
      },
      {
       "current": "59766340-49df-11e9-91dd-0242ac120002",
       "next": "59766746-49df-11e9-91dd-0242ac120002",
       "previous": "e88036b0-49df-11e9-91dd-0242ac120002"
      }
     ],
     "next": "3008b232-49e0-11e9-91dd-0242ac120002",
     "previous": "e88036b0-49df-11e9-91dd-0242ac120002"
    }
   },
   "outputs": [],
   "source": [
    "!sudo docker run hello-world"
   ]
  },
  {
   "cell_type": "markdown",
   "metadata": {
    "lc_cell_meme": {
     "current": "3008b232-49e0-11e9-91dd-0242ac120002",
     "next": "59766746-49df-11e9-91dd-0242ac120002",
     "previous": "59766340-49df-11e9-91dd-0242ac120002"
    }
   },
   "source": [
    "コンテナイメージの一覧"
   ]
  },
  {
   "cell_type": "code",
   "execution_count": null,
   "metadata": {
    "lc_cell_meme": {
     "current": "59766746-49df-11e9-91dd-0242ac120002",
     "history": [
      {
       "current": "59766746-49df-11e9-91dd-0242ac120002",
       "next": "597669f8-49df-11e9-91dd-0242ac120002",
       "previous": "59766340-49df-11e9-91dd-0242ac120002"
      }
     ],
     "next": "3008b6ce-49e0-11e9-91dd-0242ac120002",
     "previous": "3008b232-49e0-11e9-91dd-0242ac120002"
    }
   },
   "outputs": [],
   "source": [
    "!sudo docker image ls"
   ]
  },
  {
   "cell_type": "markdown",
   "metadata": {
    "lc_cell_meme": {
     "current": "3008b6ce-49e0-11e9-91dd-0242ac120002",
     "next": "597669f8-49df-11e9-91dd-0242ac120002",
     "previous": "59766746-49df-11e9-91dd-0242ac120002"
    }
   },
   "source": [
    "コンテナの一覧"
   ]
  },
  {
   "cell_type": "code",
   "execution_count": null,
   "metadata": {
    "lc_cell_meme": {
     "current": "597669f8-49df-11e9-91dd-0242ac120002",
     "history": [
      {
       "current": "597669f8-49df-11e9-91dd-0242ac120002",
       "next": null,
       "previous": "59766746-49df-11e9-91dd-0242ac120002"
      },
      {
       "current": "597669f8-49df-11e9-91dd-0242ac120002",
       "next": "a0fc3384-49df-11e9-91dd-0242ac120002",
       "previous": "59766746-49df-11e9-91dd-0242ac120002"
      },
      {
       "current": "597669f8-49df-11e9-91dd-0242ac120002",
       "next": "a0fc3384-49df-11e9-91dd-0242ac120002",
       "previous": "3008b6ce-49e0-11e9-91dd-0242ac120002"
      }
     ],
     "next": "bf15684e-49e0-11e9-91dd-0242ac120002",
     "previous": "3008b6ce-49e0-11e9-91dd-0242ac120002"
    }
   },
   "outputs": [],
   "source": [
    "!sudo docker container ls --all"
   ]
  },
  {
   "cell_type": "markdown",
   "metadata": {
    "lc_cell_meme": {
     "current": "bf15684e-49e0-11e9-91dd-0242ac120002",
     "next": "a0fc3384-49df-11e9-91dd-0242ac120002",
     "previous": "597669f8-49df-11e9-91dd-0242ac120002"
    }
   },
   "source": [
    "# ここまでのおさらい"
   ]
  },
  {
   "cell_type": "markdown",
   "metadata": {
    "lc_cell_meme": {
     "current": "a0fc3384-49df-11e9-91dd-0242ac120002",
     "history": [
      {
       "current": "a0fc3384-49df-11e9-91dd-0242ac120002",
       "next": null,
       "previous": "597669f8-49df-11e9-91dd-0242ac120002"
      },
      {
       "current": "a0fc3384-49df-11e9-91dd-0242ac120002",
       "next": "778f56f6-49e0-11e9-91dd-0242ac120002",
       "previous": "597669f8-49df-11e9-91dd-0242ac120002"
      }
     ],
     "next": "778f56f6-49e0-11e9-91dd-0242ac120002",
     "previous": "bf15684e-49e0-11e9-91dd-0242ac120002"
    }
   },
   "source": [
    "List Docker CLI commands"
   ]
  },
  {
   "cell_type": "code",
   "execution_count": null,
   "metadata": {
    "lc_cell_meme": {
     "current": "778f56f6-49e0-11e9-91dd-0242ac120002",
     "next": "778f5b24-49e0-11e9-91dd-0242ac120002",
     "previous": "a0fc3384-49df-11e9-91dd-0242ac120002"
    }
   },
   "outputs": [],
   "source": [
    "!sudo docker"
   ]
  },
  {
   "cell_type": "code",
   "execution_count": null,
   "metadata": {
    "lc_cell_meme": {
     "current": "778f5b24-49e0-11e9-91dd-0242ac120002",
     "next": "778f5dfe-49e0-11e9-91dd-0242ac120002",
     "previous": "778f56f6-49e0-11e9-91dd-0242ac120002"
    }
   },
   "outputs": [],
   "source": [
    "!sudo docker container --help"
   ]
  },
  {
   "cell_type": "markdown",
   "metadata": {
    "lc_cell_meme": {
     "current": "778f5dfe-49e0-11e9-91dd-0242ac120002",
     "next": "778f607e-49e0-11e9-91dd-0242ac120002",
     "previous": "778f5b24-49e0-11e9-91dd-0242ac120002"
    }
   },
   "source": [
    "Display Docker version and info"
   ]
  },
  {
   "cell_type": "code",
   "execution_count": null,
   "metadata": {
    "lc_cell_meme": {
     "current": "778f607e-49e0-11e9-91dd-0242ac120002",
     "next": "778f62ea-49e0-11e9-91dd-0242ac120002",
     "previous": "778f5dfe-49e0-11e9-91dd-0242ac120002"
    }
   },
   "outputs": [],
   "source": [
    "!sudo docker --version"
   ]
  },
  {
   "cell_type": "code",
   "execution_count": null,
   "metadata": {
    "lc_cell_meme": {
     "current": "778f62ea-49e0-11e9-91dd-0242ac120002",
     "next": "778f654c-49e0-11e9-91dd-0242ac120002",
     "previous": "778f607e-49e0-11e9-91dd-0242ac120002"
    }
   },
   "outputs": [],
   "source": [
    "!sudo docker version"
   ]
  },
  {
   "cell_type": "code",
   "execution_count": null,
   "metadata": {
    "lc_cell_meme": {
     "current": "778f654c-49e0-11e9-91dd-0242ac120002",
     "next": "778f679a-49e0-11e9-91dd-0242ac120002",
     "previous": "778f62ea-49e0-11e9-91dd-0242ac120002"
    }
   },
   "outputs": [],
   "source": [
    "!sudo docker info"
   ]
  },
  {
   "cell_type": "markdown",
   "metadata": {
    "lc_cell_meme": {
     "current": "778f679a-49e0-11e9-91dd-0242ac120002",
     "history": [
      {
       "current": "778f679a-49e0-11e9-91dd-0242ac120002",
       "next": null,
       "previous": "778f654c-49e0-11e9-91dd-0242ac120002"
      }
     ],
     "next": "bf15746a-49e0-11e9-91dd-0242ac120002",
     "previous": "778f654c-49e0-11e9-91dd-0242ac120002"
    }
   },
   "source": [
    "Execute Docker image"
   ]
  },
  {
   "cell_type": "code",
   "execution_count": null,
   "metadata": {
    "lc_cell_meme": {
     "current": "bf15746a-49e0-11e9-91dd-0242ac120002",
     "history": [
      {
       "current": "bf15746a-49e0-11e9-91dd-0242ac120002",
       "next": null,
       "previous": "778f679a-49e0-11e9-91dd-0242ac120002"
      }
     ],
     "next": "069d96f0-49e1-11e9-91dd-0242ac120002",
     "previous": "778f679a-49e0-11e9-91dd-0242ac120002"
    }
   },
   "outputs": [],
   "source": [
    "!sudo docker run hello-world"
   ]
  },
  {
   "cell_type": "markdown",
   "metadata": {
    "lc_cell_meme": {
     "current": "069d96f0-49e1-11e9-91dd-0242ac120002",
     "next": "069d99c0-49e1-11e9-91dd-0242ac120002",
     "previous": "bf15746a-49e0-11e9-91dd-0242ac120002"
    }
   },
   "source": [
    "List Docker images"
   ]
  },
  {
   "cell_type": "code",
   "execution_count": null,
   "metadata": {
    "lc_cell_meme": {
     "current": "069d99c0-49e1-11e9-91dd-0242ac120002",
     "next": "069d9c40-49e1-11e9-91dd-0242ac120002",
     "previous": "069d96f0-49e1-11e9-91dd-0242ac120002"
    }
   },
   "outputs": [],
   "source": [
    "!sudo docker image ls"
   ]
  },
  {
   "cell_type": "markdown",
   "metadata": {
    "lc_cell_meme": {
     "current": "069d9c40-49e1-11e9-91dd-0242ac120002",
     "history": [
      {
       "current": "069d9c40-49e1-11e9-91dd-0242ac120002",
       "next": null,
       "previous": "069d99c0-49e1-11e9-91dd-0242ac120002"
      }
     ],
     "next": "4e2827f6-49e1-11e9-91dd-0242ac120002",
     "previous": "069d99c0-49e1-11e9-91dd-0242ac120002"
    }
   },
   "source": [
    "List Docker containers (running, all, all in quiet mode)"
   ]
  },
  {
   "cell_type": "code",
   "execution_count": null,
   "metadata": {
    "lc_cell_meme": {
     "current": "4e2827f6-49e1-11e9-91dd-0242ac120002",
     "next": "4e282a9e-49e1-11e9-91dd-0242ac120002",
     "previous": "069d9c40-49e1-11e9-91dd-0242ac120002"
    }
   },
   "outputs": [],
   "source": [
    "!sudo docker container ls"
   ]
  },
  {
   "cell_type": "code",
   "execution_count": null,
   "metadata": {
    "lc_cell_meme": {
     "current": "4e282a9e-49e1-11e9-91dd-0242ac120002",
     "next": "4e282bde-49e1-11e9-91dd-0242ac120002",
     "previous": "4e2827f6-49e1-11e9-91dd-0242ac120002"
    }
   },
   "outputs": [],
   "source": [
    "!sudo docker container ls --all"
   ]
  },
  {
   "cell_type": "code",
   "execution_count": null,
   "metadata": {
    "lc_cell_meme": {
     "current": "4e282bde-49e1-11e9-91dd-0242ac120002",
     "next": "4e282ce2-49e1-11e9-91dd-0242ac120002",
     "previous": "4e282a9e-49e1-11e9-91dd-0242ac120002"
    }
   },
   "outputs": [],
   "source": [
    "!sudo docker container ls -aq"
   ]
  },
  {
   "cell_type": "markdown",
   "metadata": {
    "lc_cell_meme": {
     "current": "4e282ce2-49e1-11e9-91dd-0242ac120002",
     "history": [
      {
       "current": "4e282ce2-49e1-11e9-91dd-0242ac120002",
       "next": null,
       "previous": "4e282bde-49e1-11e9-91dd-0242ac120002"
      }
     ],
     "next": "95a9402e-49e1-11e9-91dd-0242ac120002",
     "previous": "4e282bde-49e1-11e9-91dd-0242ac120002"
    }
   },
   "source": [
    "# おまけ"
   ]
  },
  {
   "cell_type": "markdown",
   "metadata": {
    "lc_cell_meme": {
     "current": "95a9402e-49e1-11e9-91dd-0242ac120002",
     "next": "95a94808-49e1-11e9-91dd-0242ac120002",
     "previous": "4e282ce2-49e1-11e9-91dd-0242ac120002"
    }
   },
   "source": [
    "Exitedなコンテナがゴミとして残る問題\n",
    "\n",
    "生きてるコンテナにはrmが効かないので、コンテナ全部にrmをかけることができます。（本番環境とかは、ちゃんとコードで判別した方が良いけど）"
   ]
  },
  {
   "cell_type": "code",
   "execution_count": null,
   "metadata": {
    "lc_cell_meme": {
     "current": "95a94808-49e1-11e9-91dd-0242ac120002",
     "next": "95a94dd0-49e1-11e9-91dd-0242ac120002",
     "previous": "95a9402e-49e1-11e9-91dd-0242ac120002"
    }
   },
   "outputs": [],
   "source": [
    "!sudo docker container rm $(sudo docker container ls -aq)"
   ]
  },
  {
   "cell_type": "code",
   "execution_count": null,
   "metadata": {
    "lc_cell_meme": {
     "current": "95a94dd0-49e1-11e9-91dd-0242ac120002",
     "history": [
      {
       "current": "95a94dd0-49e1-11e9-91dd-0242ac120002",
       "next": null,
       "previous": "95a94808-49e1-11e9-91dd-0242ac120002"
      },
      {
       "current": "95a94dd0-49e1-11e9-91dd-0242ac120002",
       "next": "dd2fadd4-49e1-11e9-91dd-0242ac120002",
       "previous": "95a94808-49e1-11e9-91dd-0242ac120002"
      }
     ],
     "next": "24b6f428-49e2-11e9-91dd-0242ac120002",
     "previous": "95a94808-49e1-11e9-91dd-0242ac120002"
    }
   },
   "outputs": [],
   "source": [
    "!sudo docker container ls --all"
   ]
  },
  {
   "cell_type": "markdown",
   "metadata": {
    "lc_cell_meme": {
     "current": "24b6f428-49e2-11e9-91dd-0242ac120002",
     "next": "dd2fadd4-49e1-11e9-91dd-0242ac120002",
     "previous": "95a94dd0-49e1-11e9-91dd-0242ac120002"
    }
   },
   "source": [
    "いらないコンテナイメージは消したい。ディスク食うし。\n",
    "\n",
    "生きてるコンテナの元になったコンテナイメージにはrmがきかないので（以下省略）"
   ]
  },
  {
   "cell_type": "code",
   "execution_count": null,
   "metadata": {
    "lc_cell_meme": {
     "current": "dd2fadd4-49e1-11e9-91dd-0242ac120002",
     "history": [
      {
       "current": "dd2fadd4-49e1-11e9-91dd-0242ac120002",
       "next": null,
       "previous": "95a94dd0-49e1-11e9-91dd-0242ac120002"
      },
      {
       "current": "dd2fadd4-49e1-11e9-91dd-0242ac120002",
       "next": null,
       "previous": "24b6f428-49e2-11e9-91dd-0242ac120002"
      }
     ],
     "next": "6c3c3416-49e2-11e9-91dd-0242ac120002",
     "previous": "24b6f428-49e2-11e9-91dd-0242ac120002"
    }
   },
   "outputs": [],
   "source": [
    "!sudo docker image rm $(sudo docker image ls -aq)"
   ]
  },
  {
   "cell_type": "code",
   "execution_count": null,
   "metadata": {
    "lc_cell_meme": {
     "current": "6c3c3416-49e2-11e9-91dd-0242ac120002",
     "next": "6c3c386c-49e2-11e9-91dd-0242ac120002",
     "previous": "dd2fadd4-49e1-11e9-91dd-0242ac120002"
    }
   },
   "outputs": [],
   "source": [
    "!sudo docker image ls"
   ]
  },
  {
   "cell_type": "code",
   "execution_count": null,
   "metadata": {
    "lc_cell_meme": {
     "current": "6c3c386c-49e2-11e9-91dd-0242ac120002",
     "next": null,
     "previous": "6c3c3416-49e2-11e9-91dd-0242ac120002"
    }
   },
   "outputs": [],
   "source": []
  }
 ],
 "metadata": {
  "kernelspec": {
   "display_name": "Python 3 (LC_wrapper)",
   "language": "python",
   "name": "python3-wrapper"
  },
  "language_info": {
   "file_extension": ".py",
   "mimetype": "text/x-python",
   "name": "python",
   "nbconvert_exporter": "python",
   "pygments_lexer": "ipython3",
   "version": "3.7.1"
  },
  "lc_notebook_meme": {
   "current": "11efc2fa-49df-11e9-91dd-0242ac120002",
   "lc_server_signature": {
    "current": {
     "notebook_dir": "/home/jovyan",
     "notebook_path": "/docker-handson",
     "server_url": "http://localhost:8888/",
     "signature_id": "31eff266-49f1-11e9-8353-0242ac120002"
    },
    "history": [
     {
      "notebook_dir": "/home/jovyan",
      "notebook_path": "/docker-handson",
      "server_url": "http://localhost:8888/",
      "signature_id": "8241fd1c-49de-11e9-91dd-0242ac120002"
     }
    ]
   }
  },
  "toc": {
   "base_numbering": 1,
   "nav_menu": {},
   "number_sections": true,
   "sideBar": true,
   "skip_h1_title": false,
   "title_cell": "Table of Contents",
   "title_sidebar": "Contents",
   "toc_cell": false,
   "toc_position": {},
   "toc_section_display": true,
   "toc_window_display": true
  }
 },
 "nbformat": 4,
 "nbformat_minor": 2
}
