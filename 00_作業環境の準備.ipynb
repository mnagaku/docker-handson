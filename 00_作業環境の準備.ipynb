{
 "cells": [
  {
   "cell_type": "markdown",
   "metadata": {
    "lc_cell_meme": {
     "current": "c694a8e4-8fcf-11e8-9258-0242ac110003",
     "next": "c694a97a-8fcf-11e8-9258-0242ac110003",
     "previous": null
    }
   },
   "source": [
    "# 作業環境の準備"
   ]
  },
  {
   "cell_type": "markdown",
   "metadata": {
    "lc_cell_meme": {
     "current": "c694a97a-8fcf-11e8-9258-0242ac110003",
     "history": [
      {
       "current": "c694a97a-8fcf-11e8-9258-0242ac110003",
       "next": "c694a9f2-8fcf-11e8-9258-0242ac110003",
       "previous": "c694a8e4-8fcf-11e8-9258-0242ac110003"
      },
      {
       "current": "c694a97a-8fcf-11e8-9258-0242ac110003",
       "next": "ebae6f7a-8fcf-11e8-9258-0242ac110003",
       "previous": "c694a8e4-8fcf-11e8-9258-0242ac110003"
      },
      {
       "current": "c694a97a-8fcf-11e8-9258-0242ac110003",
       "next": "e1efcf58-8fd2-11e8-acbe-0242ac110004",
       "previous": "c694a8e4-8fcf-11e8-9258-0242ac110003"
      },
      {
       "current": "c694a97a-8fcf-11e8-9258-0242ac110003",
       "next": "cd5f58c4-8fe1-11e8-9cef-0242ac110004",
       "previous": "c694a8e4-8fcf-11e8-9258-0242ac110003"
      },
      {
       "current": "c694a97a-8fcf-11e8-9258-0242ac110003",
       "next": "923c2048-9157-11e8-8094-0242ac110004",
       "previous": "c694a8e4-8fcf-11e8-9258-0242ac110003"
      }
     ],
     "next": "c2c79e46-915b-11e8-8094-0242ac110004",
     "previous": "c694a8e4-8fcf-11e8-9258-0242ac110003"
    }
   },
   "source": [
    "## dockerコマンドのインストール"
   ]
  },
  {
   "cell_type": "markdown",
   "metadata": {
    "lc_cell_meme": {
     "current": "c2c79e46-915b-11e8-8094-0242ac110004",
     "next": "923c2048-9157-11e8-8094-0242ac110004",
     "previous": "c694a97a-8fcf-11e8-9258-0242ac110003"
    }
   },
   "source": [
    "dockerコマンドが入ってないことを確認してから始める"
   ]
  },
  {
   "cell_type": "code",
   "execution_count": 1,
   "metadata": {
    "deletable": false,
    "editable": false,
    "lc_cell_meme": {
     "current": "923c2048-9157-11e8-8094-0242ac110004",
     "history": [
      {
       "current": "923c2048-9157-11e8-8094-0242ac110004",
       "next": "cd5f58c4-8fe1-11e8-9cef-0242ac110004",
       "previous": "c694a97a-8fcf-11e8-9258-0242ac110003"
      }
     ],
     "next": "cd5f58c4-8fe1-11e8-9cef-0242ac110004",
     "previous": "c2c79e46-915b-11e8-8094-0242ac110004"
    },
    "run_through_control": {
     "frozen": true
    }
   },
   "outputs": [
    {
     "name": "stdout",
     "output_type": "stream",
     "text": [
      "/bin/sh: 1: docker: not found\r\n"
     ]
    }
   ],
   "source": [
    "! ! docker"
   ]
  },
  {
   "cell_type": "markdown",
   "metadata": {
    "lc_cell_meme": {
     "current": "cd5f58c4-8fe1-11e8-9cef-0242ac110004",
     "history": [
      {
       "current": "cd5f58c4-8fe1-11e8-9cef-0242ac110004",
       "next": "e1efcf58-8fd2-11e8-acbe-0242ac110004",
       "previous": "c694a97a-8fcf-11e8-9258-0242ac110003"
      }
     ],
     "next": "e1efcf58-8fd2-11e8-acbe-0242ac110004",
     "previous": "923c2048-9157-11e8-8094-0242ac110004"
    }
   },
   "source": [
    "[Docker for Windows 18.03で/var/run/docker.sockがマウントできなくなってた](https://taiyoh.hatenablog.com/entry/2018/04/01/100313)\n",
    "\n",
    "d4wで使う場合は、docker-composeで起動する前に、環境変数の設定が必要。"
   ]
  },
  {
   "cell_type": "code",
   "execution_count": 4,
   "metadata": {
    "deletable": false,
    "editable": false,
    "lc_cell_meme": {
     "current": "e1efcf58-8fd2-11e8-acbe-0242ac110004",
     "history": [
      {
       "current": "e1efcf58-8fd2-11e8-acbe-0242ac110004",
       "next": "ebae6f7a-8fcf-11e8-9258-0242ac110003",
       "previous": "c694a97a-8fcf-11e8-9258-0242ac110003"
      },
      {
       "current": "e1efcf58-8fd2-11e8-acbe-0242ac110004",
       "next": "ebae6f7a-8fcf-11e8-9258-0242ac110003",
       "previous": "cd5f58c4-8fe1-11e8-9cef-0242ac110004"
      }
     ],
     "next": "a3f27e3e-8fe2-11e8-9cef-0242ac110004",
     "previous": "cd5f58c4-8fe1-11e8-9cef-0242ac110004"
    },
    "run_through_control": {
     "frozen": true
    }
   },
   "outputs": [],
   "source": [
    "!curl -fsSL https://download.docker.com/linux/static/stable/x86_64/docker-18.09.3.tgz | sudo tar -xzC /usr/local/bin --strip=1 docker/docker"
   ]
  },
  {
   "cell_type": "code",
   "execution_count": 5,
   "metadata": {
    "deletable": false,
    "editable": false,
    "lc_cell_meme": {
     "current": "a3f27e3e-8fe2-11e8-9cef-0242ac110004",
     "history": [
      {
       "current": "a3f27e3e-8fe2-11e8-9cef-0242ac110004",
       "next": "ebae6f7a-8fcf-11e8-9258-0242ac110003",
       "previous": "e1efcf58-8fd2-11e8-acbe-0242ac110004"
      }
     ],
     "next": "a0cd4f46-4715-11e9-bf43-0242ac130004",
     "previous": "e1efcf58-8fd2-11e8-acbe-0242ac110004"
    },
    "run_through_control": {
     "frozen": true
    }
   },
   "outputs": [
    {
     "name": "stdout",
     "output_type": "stream",
     "text": [
      "CONTAINER ID        IMAGE                         COMMAND                  CREATED             STATUS              PORTS                    NAMES\r\n",
      "b288f5152bc2        mnagaku/lc-minimal-notebook   \"tini -g -- bash -c …\"   42 minutes ago      Up 42 minutes       0.0.0.0:8888->8888/tcp   docker-handson_jupyter_1\r\n",
      "f4f99a836f2e        adminer                       \"entrypoint.sh docke…\"   42 minutes ago      Up 42 minutes       0.0.0.0:8080->8080/tcp   docker-handson_adminer_1\r\n",
      "e2cc869dd301        mariadb                       \"docker-entrypoint.s…\"   42 minutes ago      Up 42 minutes       3306/tcp                 docker-handson_mariadb_1\r\n"
     ]
    }
   ],
   "source": [
    "!sudo docker ps -a"
   ]
  },
  {
   "cell_type": "code",
   "execution_count": 11,
   "metadata": {
    "deletable": false,
    "editable": false,
    "lc_cell_meme": {
     "current": "a0cd4f46-4715-11e9-bf43-0242ac130004",
     "history": [
      {
       "current": "a0cd4f46-4715-11e9-bf43-0242ac130004",
       "next": "ebae6f7a-8fcf-11e8-9258-0242ac110003",
       "previous": "a3f27e3e-8fe2-11e8-9cef-0242ac110004"
      }
     ],
     "next": "77a8dbf2-4716-11e9-bf43-0242ac130004",
     "previous": "a3f27e3e-8fe2-11e8-9cef-0242ac110004"
    },
    "run_through_control": {
     "frozen": true
    }
   },
   "outputs": [
    {
     "name": "stdout",
     "output_type": "stream",
     "text": [
      "bin\r\n",
      "boot\r\n",
      "dev\r\n",
      "docker-entrypoint-initdb.d\r\n",
      "docker-entrypoint.sh\r\n",
      "etc\r\n",
      "home\r\n",
      "lib\r\n",
      "lib64\r\n",
      "media\r\n",
      "mnt\r\n",
      "opt\r\n",
      "proc\r\n",
      "root\r\n",
      "run\r\n",
      "sbin\r\n",
      "srv\r\n",
      "sys\r\n",
      "tmp\r\n",
      "usr\r\n",
      "var\r\n"
     ]
    }
   ],
   "source": [
    "!sudo docker exec docker-handson_mariadb_1 ls"
   ]
  },
  {
   "cell_type": "code",
   "execution_count": 12,
   "metadata": {
    "deletable": false,
    "editable": false,
    "lc_cell_meme": {
     "current": "77a8dbf2-4716-11e9-bf43-0242ac130004",
     "next": "77a8df08-4716-11e9-bf43-0242ac130004",
     "previous": "a0cd4f46-4715-11e9-bf43-0242ac130004"
    },
    "run_through_control": {
     "frozen": true
    }
   },
   "outputs": [
    {
     "name": "stdout",
     "output_type": "stream",
     "text": [
      "/\r\n"
     ]
    }
   ],
   "source": [
    "!sudo docker exec docker-handson_mariadb_1 pwd"
   ]
  },
  {
   "cell_type": "code",
   "execution_count": 14,
   "metadata": {
    "deletable": false,
    "editable": false,
    "lc_cell_meme": {
     "current": "77a8df08-4716-11e9-bf43-0242ac130004",
     "history": [
      {
       "current": "77a8df08-4716-11e9-bf43-0242ac130004",
       "next": null,
       "previous": "77a8dbf2-4716-11e9-bf43-0242ac130004"
      }
     ],
     "next": "bee4c56c-4716-11e9-bf43-0242ac130004",
     "previous": "77a8dbf2-4716-11e9-bf43-0242ac130004"
    },
    "run_through_control": {
     "frozen": true
    }
   },
   "outputs": [],
   "source": [
    "!sudo docker exec docker-handson_mariadb_1 mysql -u root -pexample -e 'create database ls'"
   ]
  },
  {
   "cell_type": "code",
   "execution_count": null,
   "metadata": {
    "lc_cell_meme": {
     "current": "bee4c56c-4716-11e9-bf43-0242ac130004",
     "next": null,
     "previous": "77a8df08-4716-11e9-bf43-0242ac130004"
    }
   },
   "outputs": [],
   "source": []
  }
 ],
 "metadata": {
  "kernelspec": {
   "display_name": "Python 3 (LC_wrapper)",
   "language": "python",
   "name": "python3-wrapper"
  },
  "language_info": {
   "file_extension": ".py",
   "mimetype": "text/x-python",
   "name": "python",
   "nbconvert_exporter": "python",
   "pygments_lexer": "ipython3",
   "version": "3.7.1"
  },
  "lc_notebook_meme": {
   "current": "c694a772-8fcf-11e8-9258-0242ac110003",
   "lc_server_signature": {
    "current": {
     "notebook_dir": "/home/jovyan",
     "notebook_path": "/docker-handson",
     "server_url": "http://localhost:8888/",
     "signature_id": "6be8f178-470f-11e9-bf43-0242ac130004"
    },
    "history": [
     {
      "notebook_dir": "/home/jovyan",
      "notebook_path": "/openforum2018",
      "server_url": "http://localhost:8888/",
      "signature_id": "e9d7c404-8fce-11e8-9258-0242ac110003"
     },
     {
      "notebook_dir": "/home/jovyan",
      "notebook_path": "/openforum2018",
      "server_url": "http://localhost:8888/",
      "signature_id": "8701e43c-8fd2-11e8-acbe-0242ac110004"
     },
     {
      "notebook_dir": "/home/jovyan",
      "notebook_path": "/openforum2018",
      "server_url": "http://localhost:8888/",
      "signature_id": "9e4d37b6-8fde-11e8-9cef-0242ac110004"
     },
     {
      "notebook_dir": "/home/jovyan",
      "notebook_path": "/openforum2018",
      "server_url": "http://localhost:8888/",
      "signature_id": "d0d4ecbc-9081-11e8-b68b-0242ac110003"
     },
     {
      "notebook_dir": "/home/jovyan",
      "notebook_path": "/openforum2018",
      "server_url": "http://localhost:8888/",
      "signature_id": "90a924e0-9082-11e8-83c9-0242ac110004"
     },
     {
      "notebook_dir": "/home/jovyan",
      "notebook_path": "/openforum2018",
      "server_url": "http://localhost:8888/",
      "signature_id": "817f4af0-9085-11e8-a148-0242ac110004"
     },
     {
      "notebook_dir": "/home/jovyan",
      "notebook_path": "/openforum2018",
      "server_url": "http://localhost:8888/",
      "signature_id": "7ecf8670-9090-11e8-bec3-0242ac110004"
     },
     {
      "notebook_dir": "/home/jovyan",
      "notebook_path": "/openforum2018",
      "server_url": "http://localhost:8888/",
      "signature_id": "832e7ef0-9091-11e8-8886-0242ac110004"
     },
     {
      "notebook_dir": "/home/jovyan",
      "notebook_path": "/openforum2018",
      "server_url": "http://localhost:8888/",
      "signature_id": "dd07d3ae-90b9-11e8-87fa-0242ac110003"
     },
     {
      "notebook_dir": "/home/jovyan",
      "notebook_path": "/openforum2018",
      "server_url": "http://localhost:8888/",
      "signature_id": "e6b007f0-9154-11e8-8094-0242ac110004"
     },
     {
      "notebook_dir": "/home/jovyan",
      "notebook_path": "/jtf2018",
      "server_url": "http://localhost:8888/",
      "signature_id": "339a2bb2-916a-11e8-9bb4-0242ac110004"
     },
     {
      "notebook_dir": "/home/jovyan",
      "notebook_path": "/jtf2018",
      "server_url": "http://localhost:8888/",
      "signature_id": "fd0ae980-9194-11e8-970c-0242ac110003"
     }
    ]
   }
  },
  "toc": {
   "base_numbering": 1,
   "nav_menu": {},
   "number_sections": true,
   "sideBar": true,
   "skip_h1_title": false,
   "title_cell": "Table of Contents",
   "title_sidebar": "Contents",
   "toc_cell": false,
   "toc_position": {},
   "toc_section_display": true,
   "toc_window_display": true
  }
 },
 "nbformat": 4,
 "nbformat_minor": 2
}
