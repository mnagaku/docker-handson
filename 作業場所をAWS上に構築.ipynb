{
 "cells": [
  {
   "cell_type": "markdown",
   "metadata": {
    "lc_cell_meme": {
     "current": "fd1fc1be-bd78-11e9-897b-0242ac130003-6-0504-8a3e-761b-a6b6-53cf-1e98",
     "history": [
      {
       "current": "fd1fc1be-bd78-11e9-897b-0242ac130003",
       "next": "fd1fc524-bd78-11e9-897b-0242ac130003",
       "previous": null
      },
      {
       "current": "fd1fc1be-bd78-11e9-897b-0242ac130003-1-0504",
       "next": "19374dd2-bd9b-11e9-897b-0242ac130003",
       "previous": null
      },
      {
       "current": "fd1fc1be-bd78-11e9-897b-0242ac130003-2-0504-8a3e",
       "next": "19374dd2-bd9b-11e9-897b-0242ac130003-1-3b16",
       "previous": null
      },
      {
       "current": "fd1fc1be-bd78-11e9-897b-0242ac130003-3-0504-8a3e-761b",
       "next": "19374dd2-bd9b-11e9-897b-0242ac130003-2-3b16-8478",
       "previous": null
      },
      {
       "current": "fd1fc1be-bd78-11e9-897b-0242ac130003-4-0504-8a3e-761b-a6b6",
       "next": "19374dd2-bd9b-11e9-897b-0242ac130003-3-3b16-8478-51f8",
       "previous": null
      },
      {
       "current": "fd1fc1be-bd78-11e9-897b-0242ac130003-5-0504-8a3e-761b-a6b6-53cf",
       "next": "19374dd2-bd9b-11e9-897b-0242ac130003-4-3b16-8478-51f8-c7f8",
       "previous": null
      },
      {
       "current": "fd1fc1be-bd78-11e9-897b-0242ac130003-6-0504-8a3e-761b-a6b6-53cf-1e98",
       "next": "19374dd2-bd9b-11e9-897b-0242ac130003-5-3b16-8478-51f8-c7f8-2625",
       "previous": null
      }
     ],
     "next": "37962844-18f2-11eb-8a40-0242ac140004",
     "previous": null
    }
   },
   "source": [
    "# 作業場所をAWS上に構築"
   ]
  },
  {
   "cell_type": "markdown",
   "metadata": {
    "lc_cell_meme": {
     "current": "37962844-18f2-11eb-8a40-0242ac140004",
     "next": "19374dd2-bd9b-11e9-897b-0242ac130003-6-3b16-8478-51f8-c7f8-2625-36db",
     "previous": "fd1fc1be-bd78-11e9-897b-0242ac130003-6-0504-8a3e-761b-a6b6-53cf-1e98"
    }
   },
   "source": [
    "## ユーザ名を識別子として保存"
   ]
  },
  {
   "cell_type": "code",
   "execution_count": null,
   "metadata": {
    "lc_cell_meme": {
     "current": "19374dd2-bd9b-11e9-897b-0242ac130003-6-3b16-8478-51f8-c7f8-2625-36db",
     "history": [
      {
       "current": "19374dd2-bd9b-11e9-897b-0242ac130003-1-3b16",
       "next": "fd1fc1be-bd78-11e9-897b-0242ac130003",
       "previous": "fd1fc1be-bd78-11e9-897b-0242ac130003"
      },
      {
       "current": "19374dd2-bd9b-11e9-897b-0242ac130003-2-3b16-8478",
       "next": "fd1fc1be-bd78-11e9-897b-0242ac130003-1-4388",
       "previous": "fd1fc1be-bd78-11e9-897b-0242ac130003-1-0504"
      },
      {
       "current": "19374dd2-bd9b-11e9-897b-0242ac130003-3-3b16-8478-51f8",
       "next": "fd1fc1be-bd78-11e9-897b-0242ac130003-2-4388-584b",
       "previous": "fd1fc1be-bd78-11e9-897b-0242ac130003-2-0504-8a3e"
      },
      {
       "current": "19374dd2-bd9b-11e9-897b-0242ac130003-4-3b16-8478-51f8-c7f8",
       "next": "fd1fc1be-bd78-11e9-897b-0242ac130003-3-4388-584b-a5da",
       "previous": "fd1fc1be-bd78-11e9-897b-0242ac130003-3-0504-8a3e-761b"
      },
      {
       "current": "19374dd2-bd9b-11e9-897b-0242ac130003-5-3b16-8478-51f8-c7f8-2625",
       "next": "fd1fc1be-bd78-11e9-897b-0242ac130003-4-4388-584b-a5da-268c",
       "previous": "fd1fc1be-bd78-11e9-897b-0242ac130003-4-0504-8a3e-761b-a6b6"
      },
      {
       "current": "19374dd2-bd9b-11e9-897b-0242ac130003-6-3b16-8478-51f8-c7f8-2625-36db",
       "next": "fd1fc1be-bd78-11e9-897b-0242ac130003-5-4388-584b-a5da-268c-69d7",
       "previous": "fd1fc1be-bd78-11e9-897b-0242ac130003-5-0504-8a3e-761b-a6b6-53cf"
      }
     ],
     "next": "fd1fc1be-bd78-11e9-897b-0242ac130003-6-4388-584b-a5da-268c-69d7-6b06",
     "previous": "37962844-18f2-11eb-8a40-0242ac140004"
    },
    "lc_wrapper": {
     "log_history": [
      "/home/jovyan/data/notebooks/mnagaku/seminar-lc4ri/.log/20190813/20190813-164011-0376.log",
      "/home/jovyan/data/notebooks/mnagaku/seminar-lc4ri/.log/20190814/20190814-101858-0834.log",
      "/home/jovyan/data/notebooks/mnagaku/seminar-lc4ri/.log/20190819/20190819-111343-0446.log",
      "/home/jovyan/data/notebooks/mnagaku/seminar-lc4ri/.log/20190819/20190819-121503-0194.log",
      "/home/jovyan/data/notebooks/mnagaku/seminar-lc4ri/.log/20190819/20190819-175205-0169.log",
      "/home/jovyan/data/notebooks/mnagaku/seminar-lc4ri/.log/20190820/20190820-140836-0438.log",
      "/home/jovyan/data/notebooks/mnagaku/seminar-lc4ri/.log/20190820/20190820-171654-0270.log",
      "/home/jovyan/data/notebooks/mnagaku/seminar-lc4ri/.log/20190821/20190821-162300-0555.log",
      "/home/jovyan/data/notebooks/mnagaku/seminar-lc4ri/.log/20190821/20190821-165809-0818.log",
      "/home/jovyan/data/notebooks/mnagaku/seminar-lc4ri/.log/20190829/20190829-224037-0723.log",
      "/home/jovyan/data/notebooks/mnagaku/seminar-lc4ri/.log/20190830/20190830-125925-0833.log",
      "/home/jovyan/data/notebooks/mnagaku/seminar-lc4ri/.log/20190830/20190830-183944-0868.log",
      "/home/jovyan/data/notebooks/mnagaku/seminar-lc4ri/.log/20190831/20190831-141206-0680.log",
      "/home/jovyan/data/notebooks/mnagaku/seminar-lc4ri/.log/20190831/20190831-170354-0131.log",
      "/home/jovyan/opehub-deploy/.log/20191216/20191216-060709-0304.log",
      "/home/jovyan/opehub-deploy/.log/20191216/20191216-101456-0963.log",
      "/home/jovyan/opehub-deploy/.log/20191217/20191217-045653-0303.log",
      "/home/nagaku/notebooks/.log/20200309/20200309-111644-0440.log",
      "/home/nagaku/notebooks/.log/20200309/20200309-112735-0437.log",
      "/home/jovyan/.log/20200309/20200309-113816-0917.log",
      "/home/jovyan/.log/20200309/20200309-114033-0441.log",
      "/home/jovyan/.log/20200310/20200310-023530-0019.log",
      "/home/nagaku/notebooks/share/ngs/.log/20201027/20201027-004324-0561.log",
      "/home/nagaku/notebooks/share/ngs/.log/20201027/20201027-050136-0026.log",
      "/home/nagaku/notebooks/share/ngs/.log/20201027/20201027-074022-0732.log",
      "/home/nagaku/notebooks/docker-handson/.log/20201028/20201028-075008-0242.log",
      "/home/nagaku/notebooks/docker-handson/.log/20201028/20201028-093141-0297.log",
      "/home/nagaku/notebooks/docker-handson/.log/20201029/20201029-072052-0807.log",
      "/home/nagaku/notebooks/docker-handson/.log/20201029/20201029-235347-0117.log",
      "/home/nagaku/notebooks/docker-handson/.log/20201030/20201030-003828-0983.log",
      "/home/nagaku/notebooks/docker-handson/.log/20201030/20201030-012605-0694.log",
      "/home/nagaku/notebooks/docker-handson/.log/20201030/20201030-061504-0355.log"
     ]
    },
    "pinned_outputs": [
     {
      "execution_count": 1,
      "outputs": [
       {
        "data": {
         "text/plain": "'nagaku'"
        },
        "execution_count": 1,
        "metadata": {},
        "output_type": "execute_result"
       }
      ]
     }
    ]
   },
   "outputs": [],
   "source": [
    "pwd = !pwd\n",
    "username = pwd[0].split(\"/\")[2]\n",
    "username"
   ]
  },
  {
   "cell_type": "markdown",
   "metadata": {
    "lc_cell_meme": {
     "current": "fd1fc1be-bd78-11e9-897b-0242ac130003-6-4388-584b-a5da-268c-69d7-6b06",
     "history": [
      {
       "current": "fd1fc1be-bd78-11e9-897b-0242ac130003",
       "next": "fd1fc524-bd78-11e9-897b-0242ac130003",
       "previous": null
      },
      {
       "current": "fd1fc1be-bd78-11e9-897b-0242ac130003",
       "next": "fd1fc524-bd78-11e9-897b-0242ac130003",
       "previous": "19374dd2-bd9b-11e9-897b-0242ac130003"
      },
      {
       "current": "fd1fc1be-bd78-11e9-897b-0242ac130003-1-4388",
       "next": "fd1fc786-bd78-11e9-897b-0242ac130003",
       "previous": "19374dd2-bd9b-11e9-897b-0242ac130003"
      },
      {
       "current": "fd1fc1be-bd78-11e9-897b-0242ac130003-2-4388-584b",
       "next": "fd1fc786-bd78-11e9-897b-0242ac130003-1-3bc3",
       "previous": "19374dd2-bd9b-11e9-897b-0242ac130003-1-3b16"
      },
      {
       "current": "fd1fc1be-bd78-11e9-897b-0242ac130003-3-4388-584b-a5da",
       "next": "fd1fc786-bd78-11e9-897b-0242ac130003-2-3bc3-b3fd",
       "previous": "19374dd2-bd9b-11e9-897b-0242ac130003-2-3b16-8478"
      },
      {
       "current": "fd1fc1be-bd78-11e9-897b-0242ac130003-4-4388-584b-a5da-268c",
       "next": "fd1fc786-bd78-11e9-897b-0242ac130003-3-3bc3-b3fd-8fdc",
       "previous": "19374dd2-bd9b-11e9-897b-0242ac130003-3-3b16-8478-51f8"
      },
      {
       "current": "fd1fc1be-bd78-11e9-897b-0242ac130003-5-4388-584b-a5da-268c-69d7",
       "next": "fd1fc786-bd78-11e9-897b-0242ac130003-4-3bc3-b3fd-8fdc-eb55",
       "previous": "19374dd2-bd9b-11e9-897b-0242ac130003-4-3b16-8478-51f8-c7f8"
      },
      {
       "current": "fd1fc1be-bd78-11e9-897b-0242ac130003-6-4388-584b-a5da-268c-69d7-6b06",
       "next": "fd1fc786-bd78-11e9-897b-0242ac130003-5-3bc3-b3fd-8fdc-eb55-d2a1",
       "previous": "19374dd2-bd9b-11e9-897b-0242ac130003-5-3b16-8478-51f8-c7f8-2625"
      }
     ],
     "next": "fd1fc786-bd78-11e9-897b-0242ac130003-6-3bc3-b3fd-8fdc-eb55-d2a1-3980",
     "previous": "19374dd2-bd9b-11e9-897b-0242ac130003-6-3b16-8478-51f8-c7f8-2625-36db"
    }
   },
   "source": [
    "## awscliの確認"
   ]
  },
  {
   "cell_type": "code",
   "execution_count": null,
   "metadata": {
    "lc_cell_meme": {
     "current": "fd1fc786-bd78-11e9-897b-0242ac130003-6-3bc3-b3fd-8fdc-eb55-d2a1-3980",
     "history": [
      {
       "current": "fd1fc786-bd78-11e9-897b-0242ac130003",
       "next": "fd1fcb00-bd78-11e9-897b-0242ac130003",
       "previous": "fd1fc524-bd78-11e9-897b-0242ac130003"
      },
      {
       "current": "fd1fc786-bd78-11e9-897b-0242ac130003",
       "next": "1937505c-bd9b-11e9-897b-0242ac130003",
       "previous": "fd1fc524-bd78-11e9-897b-0242ac130003"
      },
      {
       "current": "fd1fc786-bd78-11e9-897b-0242ac130003-1-3bc3",
       "next": "1937505c-bd9b-11e9-897b-0242ac130003",
       "previous": "fd1fc1be-bd78-11e9-897b-0242ac130003"
      },
      {
       "current": "fd1fc786-bd78-11e9-897b-0242ac130003-2-3bc3-b3fd",
       "next": "1937505c-bd9b-11e9-897b-0242ac130003-1-9307",
       "previous": "fd1fc1be-bd78-11e9-897b-0242ac130003-1-4388"
      },
      {
       "current": "fd1fc786-bd78-11e9-897b-0242ac130003-3-3bc3-b3fd-8fdc",
       "next": "1937505c-bd9b-11e9-897b-0242ac130003-2-9307-c490",
       "previous": "fd1fc1be-bd78-11e9-897b-0242ac130003-2-4388-584b"
      },
      {
       "current": "fd1fc786-bd78-11e9-897b-0242ac130003-4-3bc3-b3fd-8fdc-eb55",
       "next": "1937505c-bd9b-11e9-897b-0242ac130003-3-9307-c490-cce8",
       "previous": "fd1fc1be-bd78-11e9-897b-0242ac130003-3-4388-584b-a5da"
      },
      {
       "current": "fd1fc786-bd78-11e9-897b-0242ac130003-5-3bc3-b3fd-8fdc-eb55-d2a1",
       "next": "1937505c-bd9b-11e9-897b-0242ac130003-4-9307-c490-cce8-7821",
       "previous": "fd1fc1be-bd78-11e9-897b-0242ac130003-4-4388-584b-a5da-268c"
      },
      {
       "current": "fd1fc786-bd78-11e9-897b-0242ac130003-6-3bc3-b3fd-8fdc-eb55-d2a1-3980",
       "next": "1937505c-bd9b-11e9-897b-0242ac130003-5-9307-c490-cce8-7821-2e72",
       "previous": "fd1fc1be-bd78-11e9-897b-0242ac130003-5-4388-584b-a5da-268c-69d7"
      }
     ],
     "next": "1937505c-bd9b-11e9-897b-0242ac130003-6-9307-c490-cce8-7821-2e72-ca47",
     "previous": "fd1fc1be-bd78-11e9-897b-0242ac130003-6-4388-584b-a5da-268c-69d7-6b06"
    },
    "lc_wrapper": {
     "log_history": [
      "/home/jovyan/data/notebooks/mnagaku/seminar-lc4ri/.log/20190814/20190814-102235-0212.log",
      "/home/jovyan/data/notebooks/mnagaku/seminar-lc4ri/.log/20190819/20190819-111445-0288.log",
      "/home/jovyan/data/notebooks/mnagaku/seminar-lc4ri/.log/20190819/20190819-121518-0052.log",
      "/home/jovyan/data/notebooks/mnagaku/seminar-lc4ri/.log/20190820/20190820-140933-0284.log",
      "/home/jovyan/data/notebooks/mnagaku/seminar-lc4ri/.log/20190820/20190820-171702-0363.log",
      "/home/jovyan/data/notebooks/mnagaku/seminar-lc4ri/.log/20190821/20190821-162419-0951.log",
      "/home/jovyan/data/notebooks/mnagaku/seminar-lc4ri/.log/20190829/20190829-224159-0110.log",
      "/home/jovyan/data/notebooks/mnagaku/seminar-lc4ri/.log/20190830/20190830-130343-0700.log",
      "/home/jovyan/data/notebooks/mnagaku/seminar-lc4ri/.log/20190830/20190830-184043-0596.log",
      "/home/jovyan/data/notebooks/mnagaku/seminar-lc4ri/.log/20190831/20190831-141320-0003.log",
      "/home/jovyan/data/notebooks/mnagaku/seminar-lc4ri/.log/20190831/20190831-170402-0479.log",
      "/home/jovyan/opehub-deploy/.log/20191216/20191216-060710-0360.log",
      "/home/jovyan/opehub-deploy/.log/20191216/20191216-101457-0773.log",
      "/home/jovyan/opehub-deploy/.log/20191217/20191217-045653-0972.log",
      "/home/nagaku/notebooks/.log/20200309/20200309-111645-0318.log",
      "/home/nagaku/notebooks/.log/20200309/20200309-112736-0019.log",
      "/home/jovyan/.log/20200309/20200309-113817-0903.log",
      "/home/jovyan/.log/20200309/20200309-114034-0544.log",
      "/home/jovyan/.log/20200310/20200310-023530-0705.log",
      "/home/nagaku/notebooks/share/ngs/.log/20201027/20201027-004325-0428.log",
      "/home/nagaku/notebooks/share/ngs/.log/20201027/20201027-050136-0545.log",
      "/home/nagaku/notebooks/share/ngs/.log/20201027/20201027-074023-0356.log",
      "/home/nagaku/notebooks/docker-handson/.log/20201028/20201028-075100-0428.log",
      "/home/nagaku/notebooks/docker-handson/.log/20201028/20201028-093142-0618.log",
      "/home/nagaku/notebooks/docker-handson/.log/20201029/20201029-072054-0434.log",
      "/home/nagaku/notebooks/docker-handson/.log/20201029/20201029-235348-0136.log",
      "/home/nagaku/notebooks/docker-handson/.log/20201030/20201030-003829-0005.log",
      "/home/nagaku/notebooks/docker-handson/.log/20201030/20201030-012605-0722.log",
      "/home/nagaku/notebooks/docker-handson/.log/20201030/20201030-061504-0383.log"
     ]
    },
    "pinned_outputs": [
     {
      "execution_count": 2,
      "outputs": [
       {
        "name": "stdout",
        "output_type": "stream",
        "text": "aws-cli/2.0.59 Python/3.7.3 Linux/3.10.0-1062.12.1.el7.x86_64 exe/x86_64.ubuntu.20\r\n"
       }
      ]
     }
    ]
   },
   "outputs": [],
   "source": [
    "!aws --version"
   ]
  },
  {
   "cell_type": "markdown",
   "metadata": {
    "lc_cell_meme": {
     "current": "1937505c-bd9b-11e9-897b-0242ac130003-6-9307-c490-cce8-7821-2e72-ca47",
     "history": [
      {
       "current": "1937505c-bd9b-11e9-897b-0242ac130003-1-9307",
       "next": "fd1fcb00-bd78-11e9-897b-0242ac130003",
       "previous": "fd1fc786-bd78-11e9-897b-0242ac130003"
      },
      {
       "current": "1937505c-bd9b-11e9-897b-0242ac130003-2-9307-c490",
       "next": "fd1fcb00-bd78-11e9-897b-0242ac130003-1-c486",
       "previous": "fd1fc786-bd78-11e9-897b-0242ac130003-1-3bc3"
      },
      {
       "current": "1937505c-bd9b-11e9-897b-0242ac130003-3-9307-c490-cce8",
       "next": "fd1fcb00-bd78-11e9-897b-0242ac130003-2-c486-aee3",
       "previous": "fd1fc786-bd78-11e9-897b-0242ac130003-2-3bc3-b3fd"
      },
      {
       "current": "1937505c-bd9b-11e9-897b-0242ac130003-4-9307-c490-cce8-7821",
       "next": "fd1fcb00-bd78-11e9-897b-0242ac130003-3-c486-aee3-d5a4",
       "previous": "fd1fc786-bd78-11e9-897b-0242ac130003-3-3bc3-b3fd-8fdc"
      },
      {
       "current": "1937505c-bd9b-11e9-897b-0242ac130003-5-9307-c490-cce8-7821-2e72",
       "next": "fd1fcb00-bd78-11e9-897b-0242ac130003-4-c486-aee3-d5a4-f646",
       "previous": "fd1fc786-bd78-11e9-897b-0242ac130003-4-3bc3-b3fd-8fdc-eb55"
      },
      {
       "current": "1937505c-bd9b-11e9-897b-0242ac130003-6-9307-c490-cce8-7821-2e72-ca47",
       "next": "fd1fcb00-bd78-11e9-897b-0242ac130003-5-c486-aee3-d5a4-f646-db78",
       "previous": "fd1fc786-bd78-11e9-897b-0242ac130003-5-3bc3-b3fd-8fdc-eb55-d2a1"
      }
     ],
     "next": "fd1fcb00-bd78-11e9-897b-0242ac130003-6-c486-aee3-d5a4-f646-db78-2965",
     "previous": "fd1fc786-bd78-11e9-897b-0242ac130003-6-3bc3-b3fd-8fdc-eb55-d2a1-3980"
    }
   },
   "source": [
    "## 認証情報の設定"
   ]
  },
  {
   "cell_type": "code",
   "execution_count": null,
   "metadata": {
    "lc_cell_meme": {
     "current": "fd1fcb00-bd78-11e9-897b-0242ac130003-6-c486-aee3-d5a4-f646-db78-2965",
     "history": [
      {
       "current": "fd1fcb00-bd78-11e9-897b-0242ac130003",
       "next": null,
       "previous": "fd1fc786-bd78-11e9-897b-0242ac130003"
      },
      {
       "current": "fd1fcb00-bd78-11e9-897b-0242ac130003",
       "next": "443279ac-bd79-11e9-897b-0242ac130003",
       "previous": "fd1fc786-bd78-11e9-897b-0242ac130003"
      },
      {
       "current": "fd1fcb00-bd78-11e9-897b-0242ac130003-1-c486",
       "next": "443279ac-bd79-11e9-897b-0242ac130003",
       "previous": "1937505c-bd9b-11e9-897b-0242ac130003"
      },
      {
       "current": "fd1fcb00-bd78-11e9-897b-0242ac130003-2-c486-aee3",
       "next": "443279ac-bd79-11e9-897b-0242ac130003-1-fe6a",
       "previous": "1937505c-bd9b-11e9-897b-0242ac130003-1-9307"
      },
      {
       "current": "fd1fcb00-bd78-11e9-897b-0242ac130003-3-c486-aee3-d5a4",
       "next": "443279ac-bd79-11e9-897b-0242ac130003-2-fe6a-5d9a",
       "previous": "1937505c-bd9b-11e9-897b-0242ac130003-2-9307-c490"
      },
      {
       "current": "fd1fcb00-bd78-11e9-897b-0242ac130003-4-c486-aee3-d5a4-f646",
       "next": "443279ac-bd79-11e9-897b-0242ac130003-3-fe6a-5d9a-3cb4",
       "previous": "1937505c-bd9b-11e9-897b-0242ac130003-3-9307-c490-cce8"
      },
      {
       "current": "fd1fcb00-bd78-11e9-897b-0242ac130003-5-c486-aee3-d5a4-f646-db78",
       "next": "443279ac-bd79-11e9-897b-0242ac130003-4-fe6a-5d9a-3cb4-6938",
       "previous": "1937505c-bd9b-11e9-897b-0242ac130003-4-9307-c490-cce8-7821"
      },
      {
       "current": "fd1fcb00-bd78-11e9-897b-0242ac130003-6-c486-aee3-d5a4-f646-db78-2965",
       "next": "443279ac-bd79-11e9-897b-0242ac130003-5-fe6a-5d9a-3cb4-6938-bd05",
       "previous": "1937505c-bd9b-11e9-897b-0242ac130003-5-9307-c490-cce8-7821-2e72"
      }
     ],
     "next": "443279ac-bd79-11e9-897b-0242ac130003-6-fe6a-5d9a-3cb4-6938-bd05-9e26",
     "previous": "1937505c-bd9b-11e9-897b-0242ac130003-6-9307-c490-cce8-7821-2e72-ca47"
    },
    "lc_wrapper": {
     "log_history": [
      "/home/jovyan/data/notebooks/mnagaku/seminar-lc4ri/.log/20190813/20190813-121931-0775.log",
      "/home/jovyan/data/notebooks/mnagaku/seminar-lc4ri/.log/20190814/20190814-102241-0727.log",
      "/home/jovyan/data/notebooks/mnagaku/seminar-lc4ri/.log/20190819/20190819-111450-0333.log",
      "/home/jovyan/data/notebooks/mnagaku/seminar-lc4ri/.log/20190819/20190819-121521-0211.log",
      "/home/jovyan/data/notebooks/mnagaku/seminar-lc4ri/.log/20190819/20190819-175209-0328.log",
      "/home/jovyan/data/notebooks/mnagaku/seminar-lc4ri/.log/20190820/20190820-140934-0180.log",
      "/home/jovyan/data/notebooks/mnagaku/seminar-lc4ri/.log/20190820/20190820-171703-0238.log",
      "/home/jovyan/data/notebooks/mnagaku/seminar-lc4ri/.log/20190821/20190821-162427-0578.log",
      "/home/jovyan/data/notebooks/mnagaku/seminar-lc4ri/.log/20190829/20190829-224204-0974.log",
      "/home/jovyan/data/notebooks/mnagaku/seminar-lc4ri/.log/20190830/20190830-132603-0825.log",
      "/home/jovyan/data/notebooks/mnagaku/seminar-lc4ri/.log/20190830/20190830-184044-0516.log",
      "/home/jovyan/data/notebooks/mnagaku/seminar-lc4ri/.log/20190831/20190831-141320-0881.log",
      "/home/jovyan/data/notebooks/mnagaku/seminar-lc4ri/.log/20190831/20190831-170406-0806.log",
      "/home/jovyan/opehub-deploy/.log/20191216/20191216-060715-0565.log",
      "/home/jovyan/opehub-deploy/.log/20191216/20191216-064054-0130.log",
      "/home/jovyan/opehub-deploy/.log/20191216/20191216-101458-0903.log",
      "/home/jovyan/opehub-deploy/.log/20191217/20191217-045655-0086.log",
      "/home/nagaku/notebooks/.log/20200309/20200309-111646-0828.log",
      "/home/nagaku/notebooks/.log/20200309/20200309-112737-0343.log",
      "/home/jovyan/.log/20200309/20200309-113820-0800.log",
      "/home/jovyan/.log/20200309/20200309-114037-0036.log",
      "/home/jovyan/.log/20200310/20200310-023531-0802.log",
      "/home/nagaku/notebooks/share/ngs/.log/20201027/20201027-004327-0211.log",
      "/home/nagaku/notebooks/share/ngs/.log/20201027/20201027-050138-0070.log",
      "/home/nagaku/notebooks/share/ngs/.log/20201027/20201027-074024-0809.log",
      "/home/nagaku/notebooks/docker-handson/.log/20201028/20201028-075133-0264.log",
      "/home/nagaku/notebooks/docker-handson/.log/20201028/20201028-093144-0473.log",
      "/home/nagaku/notebooks/docker-handson/.log/20201029/20201029-072101-0430.log",
      "/home/nagaku/notebooks/docker-handson/.log/20201029/20201029-235349-0783.log",
      "/home/nagaku/notebooks/docker-handson/.log/20201030/20201030-003830-0369.log",
      "/home/nagaku/notebooks/docker-handson/.log/20201030/20201030-012607-0082.log",
      "/home/nagaku/notebooks/docker-handson/.log/20201030/20201030-061505-0769.log"
     ]
    }
   },
   "outputs": [],
   "source": [
    "target_region = 'us-west-2'\n",
    "!aws configure set default.region {target_region}\n",
    "!aws configure set default.output json"
   ]
  },
  {
   "cell_type": "markdown",
   "metadata": {
    "lc_cell_meme": {
     "current": "443279ac-bd79-11e9-897b-0242ac130003-6-fe6a-5d9a-3cb4-6938-bd05-9e26",
     "history": [
      {
       "current": "443279ac-bd79-11e9-897b-0242ac130003",
       "next": null,
       "previous": "fd1fcb00-bd78-11e9-897b-0242ac130003"
      },
      {
       "current": "443279ac-bd79-11e9-897b-0242ac130003",
       "next": "8c2ca728-bd79-11e9-897b-0242ac130003",
       "previous": "fd1fcb00-bd78-11e9-897b-0242ac130003"
      },
      {
       "current": "443279ac-bd79-11e9-897b-0242ac130003",
       "next": "19375192-bd9b-11e9-897b-0242ac130003",
       "previous": "fd1fcb00-bd78-11e9-897b-0242ac130003"
      },
      {
       "current": "443279ac-bd79-11e9-897b-0242ac130003-1-fe6a",
       "next": "193752a0-bd9b-11e9-897b-0242ac130003",
       "previous": "fd1fcb00-bd78-11e9-897b-0242ac130003"
      },
      {
       "current": "443279ac-bd79-11e9-897b-0242ac130003-2-fe6a-5d9a",
       "next": "193752a0-bd9b-11e9-897b-0242ac130003-1-65ce",
       "previous": "fd1fcb00-bd78-11e9-897b-0242ac130003-1-c486"
      },
      {
       "current": "443279ac-bd79-11e9-897b-0242ac130003-3-fe6a-5d9a-3cb4",
       "next": "193752a0-bd9b-11e9-897b-0242ac130003-2-65ce-551e",
       "previous": "fd1fcb00-bd78-11e9-897b-0242ac130003-2-c486-aee3"
      },
      {
       "current": "443279ac-bd79-11e9-897b-0242ac130003-4-fe6a-5d9a-3cb4-6938",
       "next": "193752a0-bd9b-11e9-897b-0242ac130003-3-65ce-551e-7738",
       "previous": "fd1fcb00-bd78-11e9-897b-0242ac130003-3-c486-aee3-d5a4"
      },
      {
       "current": "443279ac-bd79-11e9-897b-0242ac130003-5-fe6a-5d9a-3cb4-6938-bd05",
       "next": "193752a0-bd9b-11e9-897b-0242ac130003-4-65ce-551e-7738-4d90",
       "previous": "fd1fcb00-bd78-11e9-897b-0242ac130003-4-c486-aee3-d5a4-f646"
      },
      {
       "current": "443279ac-bd79-11e9-897b-0242ac130003-6-fe6a-5d9a-3cb4-6938-bd05-9e26",
       "next": "193752a0-bd9b-11e9-897b-0242ac130003-5-65ce-551e-7738-4d90-e704",
       "previous": "fd1fcb00-bd78-11e9-897b-0242ac130003-5-c486-aee3-d5a4-f646-db78"
      },
      {
       "current": "443279ac-bd79-11e9-897b-0242ac130003-6-fe6a-5d9a-3cb4-6938-bd05-9e26",
       "next": "193752a0-bd9b-11e9-897b-0242ac130003-6-65ce-551e-7738-4d90-e704-5e1a",
       "previous": "fd1fcb00-bd78-11e9-897b-0242ac130003-6-c486-aee3-d5a4-f646-db78-2965"
      }
     ],
     "next": "193752a0-bd9b-11e9-897b-0242ac130003-7-65ce-551e-7738-4d90-e704-5e1a-926b",
     "previous": "fd1fcb00-bd78-11e9-897b-0242ac130003-6-c486-aee3-d5a4-f646-db78-2965"
    }
   },
   "source": [
    "このノートブックをEC2インスタンス上で実行していて、かつ、EC2インスタンスに必要なAPI発行可能なロールが付与されている場合、以下のKey設定手順は不要です。\n",
    "\n",
    "----\n",
    "\n",
    "認証情報としてAccessKeyIdとSecretAccessKeyを設定します。\n",
    "\n",
    "コマンドに対する対話的な操作が必要ですから、JupyterのTerminal(treeページの[New] - [Terminal]から選択できます)から、 `aws configure` を実施してください。\n",
    "\n",
    "`aws configure` の実施例:\n",
    "\n",
    "```\n",
    "$ aws configure\n",
    "AWS Access Key ID [None]: (自身のアカウントのアクセスキー)\n",
    "AWS Secret Access Key [None]: (自身のアカウントのシークレットアクセスキー)\n",
    "Default region name [us-west-2]: (Enter)\n",
    "Default output format [json]: (Enter)\n",
    "```\n"
   ]
  },
  {
   "cell_type": "markdown",
   "metadata": {
    "lc_cell_meme": {
     "current": "193752a0-bd9b-11e9-897b-0242ac130003-7-65ce-551e-7738-4d90-e704-5e1a-926b",
     "history": [
      {
       "current": "193752a0-bd9b-11e9-897b-0242ac130003",
       "next": "193753ae-bd9b-11e9-897b-0242ac130003",
       "previous": "19375192-bd9b-11e9-897b-0242ac130003"
      },
      {
       "current": "193752a0-bd9b-11e9-897b-0242ac130003-1-65ce",
       "next": "193753ae-bd9b-11e9-897b-0242ac130003",
       "previous": "443279ac-bd79-11e9-897b-0242ac130003"
      },
      {
       "current": "193752a0-bd9b-11e9-897b-0242ac130003-2-65ce-551e",
       "next": "193753ae-bd9b-11e9-897b-0242ac130003-1-1448",
       "previous": "443279ac-bd79-11e9-897b-0242ac130003-1-fe6a"
      },
      {
       "current": "193752a0-bd9b-11e9-897b-0242ac130003-3-65ce-551e-7738",
       "next": "193753ae-bd9b-11e9-897b-0242ac130003-2-1448-202b",
       "previous": "443279ac-bd79-11e9-897b-0242ac130003-2-fe6a-5d9a"
      },
      {
       "current": "193752a0-bd9b-11e9-897b-0242ac130003-4-65ce-551e-7738-4d90",
       "next": "193753ae-bd9b-11e9-897b-0242ac130003-3-1448-202b-8df1",
       "previous": "443279ac-bd79-11e9-897b-0242ac130003-3-fe6a-5d9a-3cb4"
      },
      {
       "current": "193752a0-bd9b-11e9-897b-0242ac130003-5-65ce-551e-7738-4d90-e704",
       "next": "193753ae-bd9b-11e9-897b-0242ac130003-4-1448-202b-8df1-c3e1",
       "previous": "443279ac-bd79-11e9-897b-0242ac130003-4-fe6a-5d9a-3cb4-6938"
      },
      {
       "current": "193752a0-bd9b-11e9-897b-0242ac130003-6-65ce-551e-7738-4d90-e704-5e1a",
       "next": "193753ae-bd9b-11e9-897b-0242ac130003-5-1448-202b-8df1-c3e1-2961",
       "previous": "443279ac-bd79-11e9-897b-0242ac130003-5-fe6a-5d9a-3cb4-6938-bd05"
      },
      {
       "current": "193752a0-bd9b-11e9-897b-0242ac130003-7-65ce-551e-7738-4d90-e704-5e1a-926b",
       "next": "193753ae-bd9b-11e9-897b-0242ac130003-6-1448-202b-8df1-c3e1-2961-9229",
       "previous": "443279ac-bd79-11e9-897b-0242ac130003-6-fe6a-5d9a-3cb4-6938-bd05-9e26"
      }
     ],
     "next": "193752a0-bd9b-11e9-897b-0242ac130003-6-65ce-551e-7738-4d90-e704-5e1a",
     "previous": "443279ac-bd79-11e9-897b-0242ac130003-6-fe6a-5d9a-3cb4-6938-bd05-9e26"
    }
   },
   "source": [
    "## keypairの作成"
   ]
  },
  {
   "cell_type": "markdown",
   "metadata": {
    "lc_cell_meme": {
     "current": "193752a0-bd9b-11e9-897b-0242ac130003-6-65ce-551e-7738-4d90-e704-5e1a",
     "history": [
      {
       "current": "193752a0-bd9b-11e9-897b-0242ac130003",
       "next": "193753ae-bd9b-11e9-897b-0242ac130003",
       "previous": "19375192-bd9b-11e9-897b-0242ac130003"
      },
      {
       "current": "193752a0-bd9b-11e9-897b-0242ac130003-1-65ce",
       "next": "193753ae-bd9b-11e9-897b-0242ac130003",
       "previous": "443279ac-bd79-11e9-897b-0242ac130003"
      },
      {
       "current": "193752a0-bd9b-11e9-897b-0242ac130003-2-65ce-551e",
       "next": "193753ae-bd9b-11e9-897b-0242ac130003-1-1448",
       "previous": "443279ac-bd79-11e9-897b-0242ac130003-1-fe6a"
      },
      {
       "current": "193752a0-bd9b-11e9-897b-0242ac130003-3-65ce-551e-7738",
       "next": "193753ae-bd9b-11e9-897b-0242ac130003-2-1448-202b",
       "previous": "443279ac-bd79-11e9-897b-0242ac130003-2-fe6a-5d9a"
      },
      {
       "current": "193752a0-bd9b-11e9-897b-0242ac130003-4-65ce-551e-7738-4d90",
       "next": "193753ae-bd9b-11e9-897b-0242ac130003-3-1448-202b-8df1",
       "previous": "443279ac-bd79-11e9-897b-0242ac130003-3-fe6a-5d9a-3cb4"
      },
      {
       "current": "193752a0-bd9b-11e9-897b-0242ac130003-5-65ce-551e-7738-4d90-e704",
       "next": "193753ae-bd9b-11e9-897b-0242ac130003-4-1448-202b-8df1-c3e1",
       "previous": "443279ac-bd79-11e9-897b-0242ac130003-4-fe6a-5d9a-3cb4-6938"
      },
      {
       "current": "193752a0-bd9b-11e9-897b-0242ac130003-6-65ce-551e-7738-4d90-e704-5e1a",
       "next": "193753ae-bd9b-11e9-897b-0242ac130003-5-1448-202b-8df1-c3e1-2961",
       "previous": "443279ac-bd79-11e9-897b-0242ac130003-5-fe6a-5d9a-3cb4-6938-bd05"
      },
      {
       "current": "193752a0-bd9b-11e9-897b-0242ac130003-6-65ce-551e-7738-4d90-e704-5e1a",
       "next": "193753ae-bd9b-11e9-897b-0242ac130003-6-1448-202b-8df1-c3e1-2961-9229",
       "previous": "443279ac-bd79-11e9-897b-0242ac130003-6-fe6a-5d9a-3cb4-6938-bd05-9e26"
      }
     ],
     "next": "193753ae-bd9b-11e9-897b-0242ac130003-6-1448-202b-8df1-c3e1-2961-9229",
     "previous": "193752a0-bd9b-11e9-897b-0242ac130003-7-65ce-551e-7738-4d90-e704-5e1a-926b"
    }
   },
   "source": [
    "クラウド上でLinuxマシンを起動する前に、ssh接続に必要となるkeypairを作成します。"
   ]
  },
  {
   "cell_type": "code",
   "execution_count": null,
   "metadata": {
    "lc_cell_meme": {
     "current": "193753ae-bd9b-11e9-897b-0242ac130003-6-1448-202b-8df1-c3e1-2961-9229",
     "history": [
      {
       "current": "193753ae-bd9b-11e9-897b-0242ac130003",
       "next": "193754b2-bd9b-11e9-897b-0242ac130003",
       "previous": "193752a0-bd9b-11e9-897b-0242ac130003"
      },
      {
       "current": "193753ae-bd9b-11e9-897b-0242ac130003",
       "next": "193755c0-bd9b-11e9-897b-0242ac130003",
       "previous": "193752a0-bd9b-11e9-897b-0242ac130003"
      },
      {
       "current": "193753ae-bd9b-11e9-897b-0242ac130003-1-1448",
       "next": "8c2ca728-bd79-11e9-897b-0242ac130003",
       "previous": "193752a0-bd9b-11e9-897b-0242ac130003"
      },
      {
       "current": "193753ae-bd9b-11e9-897b-0242ac130003-2-1448-202b",
       "next": "8c2ca728-bd79-11e9-897b-0242ac130003-1-3132",
       "previous": "193752a0-bd9b-11e9-897b-0242ac130003-1-65ce"
      },
      {
       "current": "193753ae-bd9b-11e9-897b-0242ac130003-3-1448-202b-8df1",
       "next": "8c2ca728-bd79-11e9-897b-0242ac130003-2-3132-9733",
       "previous": "193752a0-bd9b-11e9-897b-0242ac130003-2-65ce-551e"
      },
      {
       "current": "193753ae-bd9b-11e9-897b-0242ac130003-4-1448-202b-8df1-c3e1",
       "next": "8c2ca728-bd79-11e9-897b-0242ac130003-3-3132-9733-e87f",
       "previous": "193752a0-bd9b-11e9-897b-0242ac130003-3-65ce-551e-7738"
      },
      {
       "current": "193753ae-bd9b-11e9-897b-0242ac130003-5-1448-202b-8df1-c3e1-2961",
       "next": "8c2ca728-bd79-11e9-897b-0242ac130003-4-3132-9733-e87f-9517",
       "previous": "193752a0-bd9b-11e9-897b-0242ac130003-4-65ce-551e-7738-4d90"
      },
      {
       "current": "193753ae-bd9b-11e9-897b-0242ac130003-6-1448-202b-8df1-c3e1-2961-9229",
       "next": "8c2ca728-bd79-11e9-897b-0242ac130003-5-3132-9733-e87f-9517-080c",
       "previous": "193752a0-bd9b-11e9-897b-0242ac130003-5-65ce-551e-7738-4d90-e704"
      },
      {
       "current": "193753ae-bd9b-11e9-897b-0242ac130003-6-1448-202b-8df1-c3e1-2961-9229",
       "next": "8c2ca728-bd79-11e9-897b-0242ac130003-6-3132-9733-e87f-9517-080c-5e5b",
       "previous": "193752a0-bd9b-11e9-897b-0242ac130003-6-65ce-551e-7738-4d90-e704-5e1a"
      }
     ],
     "next": "8c2ca728-bd79-11e9-897b-0242ac130003-7-3132-9733-e87f-9517-080c-5e5b-5d3f",
     "previous": "193752a0-bd9b-11e9-897b-0242ac130003-6-65ce-551e-7738-4d90-e704-5e1a"
    },
    "lc_wrapper": {
     "log_history": [
      "/home/jovyan/data/notebooks/mnagaku/seminar-lc4ri/.log/20190813/20190813-151159-0540.log",
      "/home/jovyan/data/notebooks/mnagaku/seminar-lc4ri/.log/20190813/20190813-151939-0912.log",
      "/home/jovyan/data/notebooks/mnagaku/seminar-lc4ri/.log/20190813/20190813-152159-0990.log",
      "/home/jovyan/data/notebooks/mnagaku/seminar-lc4ri/.log/20190813/20190813-163747-0651.log",
      "/home/jovyan/data/notebooks/mnagaku/seminar-lc4ri/.log/20190813/20190813-163931-0166.log",
      "/home/jovyan/data/notebooks/mnagaku/seminar-lc4ri/.log/20190813/20190813-163942-0604.log",
      "/home/jovyan/data/notebooks/mnagaku/seminar-lc4ri/.log/20190813/20190813-164015-0355.log",
      "/home/jovyan/data/notebooks/mnagaku/seminar-lc4ri/.log/20190813/20190813-164221-0038.log",
      "/home/jovyan/data/notebooks/mnagaku/seminar-lc4ri/.log/20190813/20190813-164254-0322.log",
      "/home/jovyan/data/notebooks/mnagaku/seminar-lc4ri/.log/20190813/20190813-164346-0283.log",
      "/home/jovyan/data/notebooks/mnagaku/seminar-lc4ri/.log/20190813/20190813-164415-0072.log",
      "/home/jovyan/data/notebooks/mnagaku/seminar-lc4ri/.log/20190813/20190813-164518-0583.log",
      "/home/jovyan/data/notebooks/mnagaku/seminar-lc4ri/.log/20190813/20190813-171239-0278.log",
      "/home/jovyan/data/notebooks/mnagaku/seminar-lc4ri/.log/20190814/20190814-102338-0472.log",
      "/home/jovyan/data/notebooks/mnagaku/seminar-lc4ri/.log/20190814/20190814-102550-0929.log",
      "/home/jovyan/data/notebooks/mnagaku/seminar-lc4ri/.log/20190819/20190819-111633-0867.log",
      "/home/jovyan/data/notebooks/mnagaku/seminar-lc4ri/.log/20190820/20190820-141116-0445.log",
      "/home/jovyan/data/notebooks/mnagaku/seminar-lc4ri/.log/20190820/20190820-171735-0213.log",
      "/home/jovyan/data/notebooks/mnagaku/seminar-lc4ri/.log/20190821/20190821-162642-0345.log",
      "/home/jovyan/data/notebooks/mnagaku/seminar-lc4ri/.log/20190821/20190821-165820-0163.log",
      "/home/jovyan/data/notebooks/mnagaku/seminar-lc4ri/.log/20190821/20190821-165947-0885.log",
      "/home/jovyan/data/notebooks/mnagaku/seminar-lc4ri/.log/20190829/20190829-224344-0181.log",
      "/home/jovyan/data/notebooks/mnagaku/seminar-lc4ri/.log/20190830/20190830-134249-0600.log",
      "/home/jovyan/data/notebooks/mnagaku/seminar-lc4ri/.log/20190830/20190830-184311-0820.log",
      "/home/jovyan/data/notebooks/mnagaku/seminar-lc4ri/.log/20190831/20190831-141446-0060.log",
      "/home/jovyan/data/notebooks/mnagaku/seminar-lc4ri/.log/20190831/20190831-172002-0656.log",
      "/home/jovyan/opehub-deploy/.log/20191216/20191216-061158-0430.log",
      "/home/jovyan/opehub-deploy/.log/20191216/20191216-061256-0260.log",
      "/home/jovyan/opehub-deploy/.log/20191216/20191216-061333-0310.log",
      "/home/jovyan/opehub-deploy/.log/20191216/20191216-061615-0273.log",
      "/home/jovyan/opehub-deploy/.log/20191216/20191216-061739-0739.log",
      "/home/jovyan/opehub-deploy/.log/20191216/20191216-061816-0384.log",
      "/home/jovyan/opehub-deploy/.log/20191216/20191216-064103-0868.log",
      "/home/jovyan/opehub-deploy/.log/20191216/20191216-101600-0934.log",
      "/home/jovyan/opehub-deploy/.log/20191217/20191217-045807-0575.log",
      "/home/nagaku/notebooks/.log/20200309/20200309-111649-0340.log",
      "/home/nagaku/notebooks/.log/20200309/20200309-112739-0896.log",
      "/home/jovyan/.log/20200309/20200309-113824-0587.log",
      "/home/jovyan/.log/20200309/20200309-114143-0839.log",
      "/home/jovyan/.log/20200310/20200310-023624-0807.log",
      "/home/nagaku/notebooks/share/ngs/.log/20201027/20201027-004331-0679.log",
      "/home/nagaku/notebooks/share/ngs/.log/20201027/20201027-050140-0776.log",
      "/home/nagaku/notebooks/share/ngs/.log/20201027/20201027-074027-0519.log",
      "/home/nagaku/notebooks/docker-handson/.log/20201028/20201028-080504-0249.log",
      "/home/nagaku/notebooks/docker-handson/.log/20201028/20201028-093147-0188.log",
      "/home/nagaku/notebooks/docker-handson/.log/20201029/20201029-072105-0140.log",
      "/home/nagaku/notebooks/docker-handson/.log/20201029/20201029-235353-0750.log",
      "/home/nagaku/notebooks/docker-handson/.log/20201030/20201030-003833-0105.log",
      "/home/nagaku/notebooks/docker-handson/.log/20201030/20201030-012609-0780.log",
      "/home/nagaku/notebooks/docker-handson/.log/20201030/20201030-061508-0497.log"
     ]
    }
   },
   "outputs": [],
   "source": [
    "!aws ec2 delete-key-pair --key-name {username}\n",
    "row = !aws ec2 create-key-pair --key-name {username} \\\n",
    "        --query 'KeyMaterial' --output text\n",
    "\n",
    "with open(username + '.pem', mode='w') as f:\n",
    "    f.write('\\n'.join(row))\n",
    "\n",
    "import os\n",
    "os.chmod(username + '.pem', 0o600)"
   ]
  },
  {
   "cell_type": "markdown",
   "metadata": {
    "lc_cell_meme": {
     "current": "8c2ca728-bd79-11e9-897b-0242ac130003-7-3132-9733-e87f-9517-080c-5e5b-5d3f",
     "history": [
      {
       "current": "8c2ca728-bd79-11e9-897b-0242ac130003",
       "next": null,
       "previous": "443279ac-bd79-11e9-897b-0242ac130003"
      },
      {
       "current": "8c2ca728-bd79-11e9-897b-0242ac130003",
       "next": "193756c4-bd9b-11e9-897b-0242ac130003",
       "previous": "193755c0-bd9b-11e9-897b-0242ac130003"
      },
      {
       "current": "8c2ca728-bd79-11e9-897b-0242ac130003",
       "next": "0cbeec7a-bdac-11e9-897b-0242ac130003",
       "previous": "193755c0-bd9b-11e9-897b-0242ac130003"
      },
      {
       "current": "8c2ca728-bd79-11e9-897b-0242ac130003",
       "next": "cbbe9e10-c26e-11e9-aed2-0242ac120003",
       "previous": "193755c0-bd9b-11e9-897b-0242ac130003"
      },
      {
       "current": "8c2ca728-bd79-11e9-897b-0242ac130003",
       "next": "0cbeec7a-bdac-11e9-897b-0242ac130003",
       "previous": "193755c0-bd9b-11e9-897b-0242ac130003"
      },
      {
       "current": "8c2ca728-bd79-11e9-897b-0242ac130003",
       "next": "0cbeec7a-bdac-11e9-897b-0242ac130003",
       "previous": "193753ae-bd9b-11e9-897b-0242ac130003"
      },
      {
       "current": "8c2ca728-bd79-11e9-897b-0242ac130003-1-3132",
       "next": "0b668e08-cb0a-11e9-b4d8-0242ac120002",
       "previous": "193753ae-bd9b-11e9-897b-0242ac130003"
      },
      {
       "current": "8c2ca728-bd79-11e9-897b-0242ac130003-2-3132-9733",
       "next": "0b668e08-cb0a-11e9-b4d8-0242ac120002-1-bffb",
       "previous": "193753ae-bd9b-11e9-897b-0242ac130003-1-1448"
      },
      {
       "current": "8c2ca728-bd79-11e9-897b-0242ac130003-3-3132-9733-e87f",
       "next": "0b668e08-cb0a-11e9-b4d8-0242ac120002-2-bffb-daef",
       "previous": "193753ae-bd9b-11e9-897b-0242ac130003-2-1448-202b"
      },
      {
       "current": "8c2ca728-bd79-11e9-897b-0242ac130003-4-3132-9733-e87f-9517",
       "next": "0b668e08-cb0a-11e9-b4d8-0242ac120002-3-bffb-daef-23c8",
       "previous": "193753ae-bd9b-11e9-897b-0242ac130003-3-1448-202b-8df1"
      },
      {
       "current": "8c2ca728-bd79-11e9-897b-0242ac130003-5-3132-9733-e87f-9517-080c",
       "next": "0b668e08-cb0a-11e9-b4d8-0242ac120002-4-bffb-daef-23c8-702a",
       "previous": "193753ae-bd9b-11e9-897b-0242ac130003-4-1448-202b-8df1-c3e1"
      },
      {
       "current": "8c2ca728-bd79-11e9-897b-0242ac130003-6-3132-9733-e87f-9517-080c-5e5b",
       "next": "0b668e08-cb0a-11e9-b4d8-0242ac120002-5-bffb-daef-23c8-702a-871a",
       "previous": "193753ae-bd9b-11e9-897b-0242ac130003-5-1448-202b-8df1-c3e1-2961"
      },
      {
       "current": "8c2ca728-bd79-11e9-897b-0242ac130003-7-3132-9733-e87f-9517-080c-5e5b-5d3f",
       "next": "0b668e08-cb0a-11e9-b4d8-0242ac120002-6-bffb-daef-23c8-702a-871a-27d4",
       "previous": "193753ae-bd9b-11e9-897b-0242ac130003-6-1448-202b-8df1-c3e1-2961-9229"
      }
     ],
     "next": "8c2ca728-bd79-11e9-897b-0242ac130003-6-3132-9733-e87f-9517-080c-5e5b",
     "previous": "193753ae-bd9b-11e9-897b-0242ac130003-6-1448-202b-8df1-c3e1-2961-9229"
    }
   },
   "source": [
    "## 仮想マシンの起動"
   ]
  },
  {
   "cell_type": "markdown",
   "metadata": {
    "lc_cell_meme": {
     "current": "8c2ca728-bd79-11e9-897b-0242ac130003-6-3132-9733-e87f-9517-080c-5e5b",
     "history": [
      {
       "current": "8c2ca728-bd79-11e9-897b-0242ac130003",
       "next": null,
       "previous": "443279ac-bd79-11e9-897b-0242ac130003"
      },
      {
       "current": "8c2ca728-bd79-11e9-897b-0242ac130003",
       "next": "193756c4-bd9b-11e9-897b-0242ac130003",
       "previous": "193755c0-bd9b-11e9-897b-0242ac130003"
      },
      {
       "current": "8c2ca728-bd79-11e9-897b-0242ac130003",
       "next": "0cbeec7a-bdac-11e9-897b-0242ac130003",
       "previous": "193755c0-bd9b-11e9-897b-0242ac130003"
      },
      {
       "current": "8c2ca728-bd79-11e9-897b-0242ac130003",
       "next": "cbbe9e10-c26e-11e9-aed2-0242ac120003",
       "previous": "193755c0-bd9b-11e9-897b-0242ac130003"
      },
      {
       "current": "8c2ca728-bd79-11e9-897b-0242ac130003",
       "next": "0cbeec7a-bdac-11e9-897b-0242ac130003",
       "previous": "193755c0-bd9b-11e9-897b-0242ac130003"
      },
      {
       "current": "8c2ca728-bd79-11e9-897b-0242ac130003",
       "next": "0cbeec7a-bdac-11e9-897b-0242ac130003",
       "previous": "193753ae-bd9b-11e9-897b-0242ac130003"
      },
      {
       "current": "8c2ca728-bd79-11e9-897b-0242ac130003-1-3132",
       "next": "0b668e08-cb0a-11e9-b4d8-0242ac120002",
       "previous": "193753ae-bd9b-11e9-897b-0242ac130003"
      },
      {
       "current": "8c2ca728-bd79-11e9-897b-0242ac130003-2-3132-9733",
       "next": "0b668e08-cb0a-11e9-b4d8-0242ac120002-1-bffb",
       "previous": "193753ae-bd9b-11e9-897b-0242ac130003-1-1448"
      },
      {
       "current": "8c2ca728-bd79-11e9-897b-0242ac130003-3-3132-9733-e87f",
       "next": "0b668e08-cb0a-11e9-b4d8-0242ac120002-2-bffb-daef",
       "previous": "193753ae-bd9b-11e9-897b-0242ac130003-2-1448-202b"
      },
      {
       "current": "8c2ca728-bd79-11e9-897b-0242ac130003-4-3132-9733-e87f-9517",
       "next": "0b668e08-cb0a-11e9-b4d8-0242ac120002-3-bffb-daef-23c8",
       "previous": "193753ae-bd9b-11e9-897b-0242ac130003-3-1448-202b-8df1"
      },
      {
       "current": "8c2ca728-bd79-11e9-897b-0242ac130003-5-3132-9733-e87f-9517-080c",
       "next": "0b668e08-cb0a-11e9-b4d8-0242ac120002-4-bffb-daef-23c8-702a",
       "previous": "193753ae-bd9b-11e9-897b-0242ac130003-4-1448-202b-8df1-c3e1"
      },
      {
       "current": "8c2ca728-bd79-11e9-897b-0242ac130003-6-3132-9733-e87f-9517-080c-5e5b",
       "next": "0b668e08-cb0a-11e9-b4d8-0242ac120002-5-bffb-daef-23c8-702a-871a",
       "previous": "193753ae-bd9b-11e9-897b-0242ac130003-5-1448-202b-8df1-c3e1-2961"
      },
      {
       "current": "8c2ca728-bd79-11e9-897b-0242ac130003-6-3132-9733-e87f-9517-080c-5e5b",
       "next": "0b668e08-cb0a-11e9-b4d8-0242ac120002-6-bffb-daef-23c8-702a-871a-27d4",
       "previous": "193753ae-bd9b-11e9-897b-0242ac130003-6-1448-202b-8df1-c3e1-2961-9229"
      }
     ],
     "next": "0b668e08-cb0a-11e9-b4d8-0242ac120002-6-bffb-daef-23c8-702a-871a-27d4",
     "previous": "8c2ca728-bd79-11e9-897b-0242ac130003-7-3132-9733-e87f-9517-080c-5e5b-5d3f"
    }
   },
   "source": [
    "ansibleでec2インスタンスを起動します。ディストリビューションはCentOS7とします。\n",
    "\n",
    "マーケットプレイスでCentOS7のAMIを調べます。"
   ]
  },
  {
   "cell_type": "code",
   "execution_count": null,
   "metadata": {
    "lc_cell_meme": {
     "current": "0b668e08-cb0a-11e9-b4d8-0242ac120002-6-bffb-daef-23c8-702a-871a-27d4",
     "history": [
      {
       "current": "0b668e08-cb0a-11e9-b4d8-0242ac120002",
       "next": "0cbeec7a-bdac-11e9-897b-0242ac130003",
       "previous": "8c2ca728-bd79-11e9-897b-0242ac130003"
      },
      {
       "current": "0b668e08-cb0a-11e9-b4d8-0242ac120002-1-bffb",
       "next": "c6baf17a-1fcf-11ea-9346-0242ac110002",
       "previous": "8c2ca728-bd79-11e9-897b-0242ac130003"
      },
      {
       "current": "0b668e08-cb0a-11e9-b4d8-0242ac120002-2-bffb-daef",
       "next": "c6baf17a-1fcf-11ea-9346-0242ac110002-1-f121",
       "previous": "8c2ca728-bd79-11e9-897b-0242ac130003-1-3132"
      },
      {
       "current": "0b668e08-cb0a-11e9-b4d8-0242ac120002-3-bffb-daef-23c8",
       "next": "c6baf17a-1fcf-11ea-9346-0242ac110002-2-f121-e112",
       "previous": "8c2ca728-bd79-11e9-897b-0242ac130003-2-3132-9733"
      },
      {
       "current": "0b668e08-cb0a-11e9-b4d8-0242ac120002-4-bffb-daef-23c8-702a",
       "next": "c6baf17a-1fcf-11ea-9346-0242ac110002-3-f121-e112-5367",
       "previous": "8c2ca728-bd79-11e9-897b-0242ac130003-3-3132-9733-e87f"
      },
      {
       "current": "0b668e08-cb0a-11e9-b4d8-0242ac120002-5-bffb-daef-23c8-702a-871a",
       "next": "c6baf17a-1fcf-11ea-9346-0242ac110002-4-f121-e112-5367-711c",
       "previous": "8c2ca728-bd79-11e9-897b-0242ac130003-4-3132-9733-e87f-9517"
      },
      {
       "current": "0b668e08-cb0a-11e9-b4d8-0242ac120002-6-bffb-daef-23c8-702a-871a-27d4",
       "next": "c6baf17a-1fcf-11ea-9346-0242ac110002-5-f121-e112-5367-711c-7854",
       "previous": "8c2ca728-bd79-11e9-897b-0242ac130003-5-3132-9733-e87f-9517-080c"
      }
     ],
     "next": "c6baf17a-1fcf-11ea-9346-0242ac110002-6-f121-e112-5367-711c-7854-3919",
     "previous": "8c2ca728-bd79-11e9-897b-0242ac130003-6-3132-9733-e87f-9517-080c-5e5b"
    },
    "lc_wrapper": {
     "log_history": [
      "/home/jovyan/data/notebooks/mnagaku/seminar-lc4ri/.log/20190830/20190830-184325-0290.log",
      "/home/jovyan/data/notebooks/mnagaku/seminar-lc4ri/.log/20190831/20190831-172004-0528.log",
      "/home/jovyan/opehub-deploy/.log/20191216/20191216-061426-0842.log",
      "/home/jovyan/opehub-deploy/.log/20191216/20191216-061520-0278.log",
      "/home/jovyan/opehub-deploy/.log/20191216/20191216-062325-0723.log",
      "/home/jovyan/opehub-deploy/.log/20191216/20191216-064127-0165.log",
      "/home/jovyan/opehub-deploy/.log/20191216/20191216-101606-0136.log",
      "/home/jovyan/opehub-deploy/.log/20191217/20191217-045820-0982.log",
      "/home/nagaku/notebooks/.log/20200309/20200309-111654-0460.log",
      "/home/nagaku/notebooks/.log/20200309/20200309-112742-0041.log",
      "/home/jovyan/.log/20200309/20200309-114150-0255.log",
      "/home/jovyan/.log/20200310/20200310-023631-0946.log",
      "/home/nagaku/notebooks/share/ngs/.log/20201027/20201027-004335-0630.log",
      "/home/nagaku/notebooks/share/ngs/.log/20201027/20201027-050143-0216.log",
      "/home/nagaku/notebooks/share/ngs/.log/20201027/20201027-074029-0983.log",
      "/home/nagaku/notebooks/docker-handson/.log/20201028/20201028-080513-0280.log",
      "/home/nagaku/notebooks/docker-handson/.log/20201028/20201028-093156-0898.log",
      "/home/nagaku/notebooks/docker-handson/.log/20201029/20201029-072111-0240.log",
      "/home/nagaku/notebooks/docker-handson/.log/20201029/20201029-235400-0983.log",
      "/home/nagaku/notebooks/docker-handson/.log/20201030/20201030-003837-0580.log",
      "/home/nagaku/notebooks/docker-handson/.log/20201030/20201030-012614-0263.log",
      "/home/nagaku/notebooks/docker-handson/.log/20201030/20201030-061512-0969.log"
     ]
    },
    "pinned_outputs": [
     {
      "execution_count": 5,
      "outputs": [
       {
        "name": "stdout",
        "output_type": "stream",
        "text": "[\r\n    {\r\n        \"ami\": \"ami-0bc06212a56393ee1\",\r\n        \"date\": \"2020-03-09T21:54:48.000Z\",\r\n        \"text\": \"CentOS Linux 7 x86_64 HVM EBS ENA 2002_01\"\r\n    },\r\n    {\r\n        \"ami\": \"ami-01ed306a12b7d1c96\",\r\n        \"date\": \"2019-01-30T23:43:37.000Z\",\r\n        \"text\": \"CentOS Linux 7 x86_64 HVM EBS ENA 1901_01\"\r\n    },\r\n    {\r\n        \"ami\": \"ami-3ecc8f46\",\r\n        \"date\": \"2018-06-13T15:58:14.000Z\",\r\n        \"text\": \"CentOS Linux 7 x86_64 HVM EBS ENA 1805_01\"\r\n    },\r\n    {\r\n        \"ami\": \"ami-5490ed2c\",\r\n        \"date\": \"2018-05-17T09:30:44.000Z\",\r\n        \"text\": \"CentOS Linux 7 x86_64 HVM EBS ENA 1804_2\"\r\n    },\r\n    {\r\n        \"ami\": \"ami-0ebdd976\",\r\n        \"date\": \"2018-04-04T00:11:39.000Z\",\r\n        \"text\": \"CentOS Linux 7 x86_64 HVM EBS ENA 1803_01\"\r\n    },\r\n    {\r\n        \"ami\": \"ami-b63ae0ce\",\r\n        \"date\": \"2017-12-05T14:49:18.000Z\",\r\n        \"text\": \"CentOS Linux 7 x86_64 HVM EBS 1708_11.01\"\r\n    }\r\n]\r\n"
       }
      ]
     }
    ]
   },
   "outputs": [],
   "source": [
    "!aws ec2 describe-images --owners aws-marketplace \\\n",
    "--filters Name=product-code,Values=aw0evgkw8e5c1q413zgy5pjce \\\n",
    "--query 'reverse(sort_by(Images[].\\\n",
    "{ami:ImageId, date:CreationDate, text:Description}, &date))'"
   ]
  },
  {
   "cell_type": "markdown",
   "metadata": {
    "lc_cell_meme": {
     "current": "c6baf17a-1fcf-11ea-9346-0242ac110002-6-f121-e112-5367-711c-7854-3919",
     "history": [
      {
       "current": "c6baf17a-1fcf-11ea-9346-0242ac110002-1-f121",
       "next": "c6baf45e-1fcf-11ea-9346-0242ac110002",
       "previous": "0b668e08-cb0a-11e9-b4d8-0242ac120002"
      },
      {
       "current": "c6baf17a-1fcf-11ea-9346-0242ac110002-2-f121-e112",
       "next": "c6baf45e-1fcf-11ea-9346-0242ac110002-1-1b84",
       "previous": "0b668e08-cb0a-11e9-b4d8-0242ac120002-1-bffb"
      },
      {
       "current": "c6baf17a-1fcf-11ea-9346-0242ac110002-3-f121-e112-5367",
       "next": "c6baf45e-1fcf-11ea-9346-0242ac110002-2-1b84-5fef",
       "previous": "0b668e08-cb0a-11e9-b4d8-0242ac120002-2-bffb-daef"
      },
      {
       "current": "c6baf17a-1fcf-11ea-9346-0242ac110002-4-f121-e112-5367-711c",
       "next": "c6baf45e-1fcf-11ea-9346-0242ac110002-3-1b84-5fef-dd03",
       "previous": "0b668e08-cb0a-11e9-b4d8-0242ac120002-3-bffb-daef-23c8"
      },
      {
       "current": "c6baf17a-1fcf-11ea-9346-0242ac110002-5-f121-e112-5367-711c-7854",
       "next": "c6baf45e-1fcf-11ea-9346-0242ac110002-4-1b84-5fef-dd03-30b5",
       "previous": "0b668e08-cb0a-11e9-b4d8-0242ac120002-4-bffb-daef-23c8-702a"
      },
      {
       "current": "c6baf17a-1fcf-11ea-9346-0242ac110002-6-f121-e112-5367-711c-7854-3919",
       "next": "c6baf45e-1fcf-11ea-9346-0242ac110002-5-1b84-5fef-dd03-30b5-ea0f",
       "previous": "0b668e08-cb0a-11e9-b4d8-0242ac120002-5-bffb-daef-23c8-702a-871a"
      }
     ],
     "next": "c6baf45e-1fcf-11ea-9346-0242ac110002-6-1b84-5fef-dd03-30b5-ea0f-0111",
     "previous": "0b668e08-cb0a-11e9-b4d8-0242ac120002-6-bffb-daef-23c8-702a-871a-27d4"
    }
   },
   "source": [
    "セキュリティグループを調べます。"
   ]
  },
  {
   "cell_type": "code",
   "execution_count": null,
   "metadata": {
    "lc_cell_meme": {
     "current": "c6baf45e-1fcf-11ea-9346-0242ac110002-6-1b84-5fef-dd03-30b5-ea0f-0111",
     "history": [
      {
       "current": "c6baf45e-1fcf-11ea-9346-0242ac110002",
       "next": "0cbeec7a-bdac-11e9-897b-0242ac130003",
       "previous": "c6baf17a-1fcf-11ea-9346-0242ac110002"
      },
      {
       "current": "c6baf45e-1fcf-11ea-9346-0242ac110002-1-1b84",
       "next": "0e3fea0a-1fd0-11ea-9346-0242ac110002",
       "previous": "c6baf17a-1fcf-11ea-9346-0242ac110002"
      },
      {
       "current": "c6baf45e-1fcf-11ea-9346-0242ac110002-2-1b84-5fef",
       "next": "0e3fea0a-1fd0-11ea-9346-0242ac110002-1-aa71",
       "previous": "c6baf17a-1fcf-11ea-9346-0242ac110002-1-f121"
      },
      {
       "current": "c6baf45e-1fcf-11ea-9346-0242ac110002-3-1b84-5fef-dd03",
       "next": "0e3fea0a-1fd0-11ea-9346-0242ac110002-2-aa71-016f",
       "previous": "c6baf17a-1fcf-11ea-9346-0242ac110002-2-f121-e112"
      },
      {
       "current": "c6baf45e-1fcf-11ea-9346-0242ac110002-4-1b84-5fef-dd03-30b5",
       "next": "0e3fea0a-1fd0-11ea-9346-0242ac110002-3-aa71-016f-77a0",
       "previous": "c6baf17a-1fcf-11ea-9346-0242ac110002-3-f121-e112-5367"
      },
      {
       "current": "c6baf45e-1fcf-11ea-9346-0242ac110002-5-1b84-5fef-dd03-30b5-ea0f",
       "next": "0e3fea0a-1fd0-11ea-9346-0242ac110002-4-aa71-016f-77a0-e24e",
       "previous": "c6baf17a-1fcf-11ea-9346-0242ac110002-4-f121-e112-5367-711c"
      },
      {
       "current": "c6baf45e-1fcf-11ea-9346-0242ac110002-6-1b84-5fef-dd03-30b5-ea0f-0111",
       "next": "0e3fea0a-1fd0-11ea-9346-0242ac110002-5-aa71-016f-77a0-e24e-96b4",
       "previous": "c6baf17a-1fcf-11ea-9346-0242ac110002-5-f121-e112-5367-711c-7854"
      }
     ],
     "next": "0e3fea0a-1fd0-11ea-9346-0242ac110002-6-aa71-016f-77a0-e24e-96b4-e892",
     "previous": "c6baf17a-1fcf-11ea-9346-0242ac110002-6-f121-e112-5367-711c-7854-3919"
    },
    "lc_wrapper": {
     "log_history": [
      "/home/jovyan/opehub-deploy/.log/20191216/20191216-064604-0489.log",
      "/home/jovyan/opehub-deploy/.log/20191216/20191216-101609-0756.log",
      "/home/jovyan/opehub-deploy/.log/20191217/20191217-045828-0671.log",
      "/home/nagaku/notebooks/.log/20200309/20200309-111703-0740.log",
      "/home/nagaku/notebooks/.log/20200309/20200309-112745-0492.log",
      "/home/jovyan/.log/20200309/20200309-114153-0911.log",
      "/home/jovyan/.log/20200310/20200310-023635-0587.log",
      "/home/nagaku/notebooks/share/ngs/.log/20201027/20201027-004401-0920.log",
      "/home/nagaku/notebooks/share/ngs/.log/20201027/20201027-050146-0955.log",
      "/home/nagaku/notebooks/share/ngs/.log/20201027/20201027-074033-0869.log",
      "/home/nagaku/notebooks/docker-handson/.log/20201028/20201028-080518-0045.log",
      "/home/nagaku/notebooks/docker-handson/.log/20201028/20201028-093201-0955.log",
      "/home/nagaku/notebooks/docker-handson/.log/20201029/20201029-072116-0544.log",
      "/home/nagaku/notebooks/docker-handson/.log/20201029/20201029-235405-0526.log",
      "/home/nagaku/notebooks/docker-handson/.log/20201030/20201030-003841-0975.log",
      "/home/nagaku/notebooks/docker-handson/.log/20201030/20201030-012619-0060.log",
      "/home/nagaku/notebooks/docker-handson/.log/20201030/20201030-061517-0526.log"
     ]
    },
    "pinned_outputs": [
     {
      "execution_count": 6,
      "outputs": [
       {
        "name": "stdout",
        "output_type": "stream",
        "text": "[\r\n    {\r\n        \"name\": \"default\",\r\n        \"id\": \"sg-ea6d64c2\",\r\n        \"vpc\": \"vpc-acfdb9d4\"\r\n    }\r\n]\r\n"
       }
      ]
     }
    ]
   },
   "outputs": [],
   "source": [
    "!aws ec2 describe-security-groups --query 'sort_by(SecurityGroups[].\\\n",
    "{name:GroupName, id:GroupId, vpc:VpcId}, &name)'"
   ]
  },
  {
   "cell_type": "markdown",
   "metadata": {
    "lc_cell_meme": {
     "current": "0e3fea0a-1fd0-11ea-9346-0242ac110002-6-aa71-016f-77a0-e24e-96b4-e892",
     "history": [
      {
       "current": "0e3fea0a-1fd0-11ea-9346-0242ac110002-1-aa71",
       "next": "0e3fec12-1fd0-11ea-9346-0242ac110002",
       "previous": "c6baf45e-1fcf-11ea-9346-0242ac110002"
      },
      {
       "current": "0e3fea0a-1fd0-11ea-9346-0242ac110002-2-aa71-016f",
       "next": "0e3fec12-1fd0-11ea-9346-0242ac110002-1-53df",
       "previous": "c6baf45e-1fcf-11ea-9346-0242ac110002-1-1b84"
      },
      {
       "current": "0e3fea0a-1fd0-11ea-9346-0242ac110002-3-aa71-016f-77a0",
       "next": "0e3fec12-1fd0-11ea-9346-0242ac110002-2-53df-c3bc",
       "previous": "c6baf45e-1fcf-11ea-9346-0242ac110002-2-1b84-5fef"
      },
      {
       "current": "0e3fea0a-1fd0-11ea-9346-0242ac110002-4-aa71-016f-77a0-e24e",
       "next": "0e3fec12-1fd0-11ea-9346-0242ac110002-3-53df-c3bc-30da",
       "previous": "c6baf45e-1fcf-11ea-9346-0242ac110002-3-1b84-5fef-dd03"
      },
      {
       "current": "0e3fea0a-1fd0-11ea-9346-0242ac110002-5-aa71-016f-77a0-e24e-96b4",
       "next": "0e3fec12-1fd0-11ea-9346-0242ac110002-4-53df-c3bc-30da-050f",
       "previous": "c6baf45e-1fcf-11ea-9346-0242ac110002-4-1b84-5fef-dd03-30b5"
      },
      {
       "current": "0e3fea0a-1fd0-11ea-9346-0242ac110002-6-aa71-016f-77a0-e24e-96b4-e892",
       "next": "0e3fec12-1fd0-11ea-9346-0242ac110002-5-53df-c3bc-30da-050f-de00",
       "previous": "c6baf45e-1fcf-11ea-9346-0242ac110002-5-1b84-5fef-dd03-30b5-ea0f"
      }
     ],
     "next": "0e3fec12-1fd0-11ea-9346-0242ac110002-6-53df-c3bc-30da-050f-de00-70ac",
     "previous": "c6baf45e-1fcf-11ea-9346-0242ac110002-6-1b84-5fef-dd03-30b5-ea0f-0111"
    }
   },
   "source": [
    "サブネットを調べます。"
   ]
  },
  {
   "cell_type": "code",
   "execution_count": null,
   "metadata": {
    "lc_cell_meme": {
     "current": "0e3fec12-1fd0-11ea-9346-0242ac110002-6-53df-c3bc-30da-050f-de00-70ac",
     "history": [
      {
       "current": "0e3fec12-1fd0-11ea-9346-0242ac110002-1-53df",
       "next": "0cbeec7a-bdac-11e9-897b-0242ac130003",
       "previous": "0e3fea0a-1fd0-11ea-9346-0242ac110002"
      },
      {
       "current": "0e3fec12-1fd0-11ea-9346-0242ac110002-1-53df",
       "next": "0cbeec7a-bdac-11e9-897b-0242ac130003-1-fdcb",
       "previous": "0e3fea0a-1fd0-11ea-9346-0242ac110002-1-aa71"
      },
      {
       "current": "0e3fec12-1fd0-11ea-9346-0242ac110002-2-53df-c3bc",
       "next": "98a0bed6-61f7-11ea-ba1c-0242ac120004",
       "previous": "0e3fea0a-1fd0-11ea-9346-0242ac110002-1-aa71"
      },
      {
       "current": "0e3fec12-1fd0-11ea-9346-0242ac110002-3-53df-c3bc-30da",
       "next": "98a0bed6-61f7-11ea-ba1c-0242ac120004-1-eb0a",
       "previous": "0e3fea0a-1fd0-11ea-9346-0242ac110002-2-aa71-016f"
      },
      {
       "current": "0e3fec12-1fd0-11ea-9346-0242ac110002-4-53df-c3bc-30da-050f",
       "next": "98a0bed6-61f7-11ea-ba1c-0242ac120004-2-eb0a-25de",
       "previous": "0e3fea0a-1fd0-11ea-9346-0242ac110002-3-aa71-016f-77a0"
      },
      {
       "current": "0e3fec12-1fd0-11ea-9346-0242ac110002-5-53df-c3bc-30da-050f-de00",
       "next": "98a0bed6-61f7-11ea-ba1c-0242ac120004-3-eb0a-25de-9bfa",
       "previous": "0e3fea0a-1fd0-11ea-9346-0242ac110002-4-aa71-016f-77a0-e24e"
      },
      {
       "current": "0e3fec12-1fd0-11ea-9346-0242ac110002-6-53df-c3bc-30da-050f-de00-70ac",
       "next": "98a0bed6-61f7-11ea-ba1c-0242ac120004-4-eb0a-25de-9bfa-9135",
       "previous": "0e3fea0a-1fd0-11ea-9346-0242ac110002-5-aa71-016f-77a0-e24e-96b4"
      }
     ],
     "next": "98a0bed6-61f7-11ea-ba1c-0242ac120004-5-eb0a-25de-9bfa-9135-a240",
     "previous": "0e3fea0a-1fd0-11ea-9346-0242ac110002-6-aa71-016f-77a0-e24e-96b4-e892"
    },
    "lc_wrapper": {
     "log_history": [
      "/home/jovyan/opehub-deploy/.log/20191216/20191216-064729-0163.log",
      "/home/jovyan/opehub-deploy/.log/20191216/20191216-064801-0763.log",
      "/home/jovyan/opehub-deploy/.log/20191216/20191216-101611-0399.log",
      "/home/jovyan/opehub-deploy/.log/20191217/20191217-045830-0334.log",
      "/home/nagaku/notebooks/.log/20200309/20200309-111722-0920.log",
      "/home/nagaku/notebooks/.log/20200309/20200309-112747-0097.log",
      "/home/jovyan/.log/20200309/20200309-114155-0733.log",
      "/home/jovyan/.log/20200310/20200310-023637-0429.log",
      "/home/nagaku/notebooks/share/ngs/.log/20201027/20201027-004403-0668.log",
      "/home/nagaku/notebooks/share/ngs/.log/20201027/20201027-050148-0661.log",
      "/home/nagaku/notebooks/share/ngs/.log/20201027/20201027-074035-0600.log",
      "/home/nagaku/notebooks/docker-handson/.log/20201028/20201028-080520-0797.log",
      "/home/nagaku/notebooks/docker-handson/.log/20201028/20201028-093204-0713.log",
      "/home/nagaku/notebooks/docker-handson/.log/20201029/20201029-072119-0299.log",
      "/home/nagaku/notebooks/docker-handson/.log/20201029/20201029-235408-0293.log",
      "/home/nagaku/notebooks/docker-handson/.log/20201030/20201030-003844-0720.log",
      "/home/nagaku/notebooks/docker-handson/.log/20201030/20201030-012621-0792.log",
      "/home/nagaku/notebooks/docker-handson/.log/20201030/20201030-061520-0300.log"
     ]
    },
    "pinned_outputs": [
     {
      "execution_count": 7,
      "outputs": [
       {
        "name": "stdout",
        "output_type": "stream",
        "text": "[\r\n    {\r\n        \"id\": \"subnet-d223f2aa\",\r\n        \"vpc\": \"vpc-acfdb9d4\",\r\n        \"az\": \"us-west-2a\"\r\n    },\r\n    {\r\n        \"id\": \"subnet-d61ae89c\",\r\n        \"vpc\": \"vpc-acfdb9d4\",\r\n        \"az\": \"us-west-2b\"\r\n    },\r\n    {\r\n        \"id\": \"subnet-35b11268\",\r\n        \"vpc\": \"vpc-acfdb9d4\",\r\n        \"az\": \"us-west-2c\"\r\n    },\r\n    {\r\n        \"id\": \"subnet-916c37ba\",\r\n        \"vpc\": \"vpc-acfdb9d4\",\r\n        \"az\": \"us-west-2d\"\r\n    }\r\n]\r\n"
       }
      ]
     }
    ]
   },
   "outputs": [],
   "source": [
    "!aws ec2 describe-subnets --query 'sort_by(Subnets[].\\\n",
    "{id:SubnetId, vpc:VpcId, az:AvailabilityZone}, &az)'"
   ]
  },
  {
   "cell_type": "markdown",
   "metadata": {
    "lc_cell_meme": {
     "current": "98a0bed6-61f7-11ea-ba1c-0242ac120004-5-eb0a-25de-9bfa-9135-a240",
     "history": [
      {
       "current": "98a0bed6-61f7-11ea-ba1c-0242ac120004-1-eb0a",
       "next": "0cbeec7a-bdac-11e9-897b-0242ac130003-1-fdcb",
       "previous": "0e3fec12-1fd0-11ea-9346-0242ac110002-1-53df"
      },
      {
       "current": "98a0bed6-61f7-11ea-ba1c-0242ac120004-2-eb0a-25de",
       "next": "0cbeec7a-bdac-11e9-897b-0242ac130003-2-fdcb-c1aa",
       "previous": "0e3fec12-1fd0-11ea-9346-0242ac110002-2-53df-c3bc"
      },
      {
       "current": "98a0bed6-61f7-11ea-ba1c-0242ac120004-3-eb0a-25de-9bfa",
       "next": "50087e78-6276-11ea-b92a-0242ac110002",
       "previous": "0e3fec12-1fd0-11ea-9346-0242ac110002-3-53df-c3bc-30da"
      },
      {
       "current": "98a0bed6-61f7-11ea-ba1c-0242ac120004-4-eb0a-25de-9bfa-9135",
       "next": "50087e78-6276-11ea-b92a-0242ac110002-1-3c06",
       "previous": "0e3fec12-1fd0-11ea-9346-0242ac110002-4-53df-c3bc-30da-050f"
      },
      {
       "current": "98a0bed6-61f7-11ea-ba1c-0242ac120004-4-eb0a-25de-9bfa-9135",
       "next": "50087e78-6276-11ea-b92a-0242ac110002-2-3c06-22a3",
       "previous": "0e3fec12-1fd0-11ea-9346-0242ac110002-5-53df-c3bc-30da-050f-de00"
      },
      {
       "current": "98a0bed6-61f7-11ea-ba1c-0242ac120004-5-eb0a-25de-9bfa-9135-a240",
       "next": "50087e78-6276-11ea-b92a-0242ac110002-4-3c06-22a3-12e6-8102",
       "previous": "0e3fec12-1fd0-11ea-9346-0242ac110002-5-53df-c3bc-30da-050f-de00"
      }
     ],
     "next": "50087e78-6276-11ea-b92a-0242ac110002-5-3c06-22a3-12e6-8102-1ac1",
     "previous": "0e3fec12-1fd0-11ea-9346-0242ac110002-6-53df-c3bc-30da-050f-de00-70ac"
    }
   },
   "source": [
    "t3a.mediumでスポットインスタンスを起動します。\n",
    "\n",
    "ansibleで起動するためのplaybookを書きます。"
   ]
  },
  {
   "cell_type": "code",
   "execution_count": null,
   "metadata": {
    "lc_cell_meme": {
     "current": "50087e78-6276-11ea-b92a-0242ac110002-5-3c06-22a3-12e6-8102-1ac1",
     "history": [
      {
       "current": "50087e78-6276-11ea-b92a-0242ac110002",
       "next": "5008867a-6276-11ea-b92a-0242ac110002",
       "previous": "98a0bed6-61f7-11ea-ba1c-0242ac120004-2-eb0a-25de"
      },
      {
       "current": "50087e78-6276-11ea-b92a-0242ac110002-1-3c06",
       "next": "5008867a-6276-11ea-b92a-0242ac110002-1-b6a1",
       "previous": "98a0bed6-61f7-11ea-ba1c-0242ac120004-2-eb0a-25de"
      },
      {
       "current": "50087e78-6276-11ea-b92a-0242ac110002-2-3c06-22a3",
       "next": "5008867a-6276-11ea-b92a-0242ac110002-2-b6a1-ba86",
       "previous": "98a0bed6-61f7-11ea-ba1c-0242ac120004-3-eb0a-25de-9bfa"
      },
      {
       "current": "50087e78-6276-11ea-b92a-0242ac110002-5-3c06-22a3-12e6-8102-1ac1",
       "next": "5008867a-6276-11ea-b92a-0242ac110002-3-b6a1-ba86-ce9f",
       "previous": "98a0bed6-61f7-11ea-ba1c-0242ac120004-4-eb0a-25de-9bfa-9135"
      }
     ],
     "next": "5008867a-6276-11ea-b92a-0242ac110002-4-b6a1-ba86-ce9f-d767",
     "previous": "98a0bed6-61f7-11ea-ba1c-0242ac120004-5-eb0a-25de-9bfa-9135-a240"
    },
    "lc_wrapper": {
     "log_history": [
      "/home/jovyan/.log/20200310/20200310-023644-0269.log",
      "/home/nagaku/notebooks/share/ngs/.log/20201027/20201027-004431-0771.log",
      "/home/nagaku/notebooks/share/ngs/.log/20201027/20201027-050150-0280.log",
      "/home/nagaku/notebooks/share/ngs/.log/20201027/20201027-050217-0397.log",
      "/home/nagaku/notebooks/share/ngs/.log/20201027/20201027-074037-0259.log",
      "/home/nagaku/notebooks/docker-handson/.log/20201028/20201028-081154-0000.log",
      "/home/nagaku/notebooks/docker-handson/.log/20201028/20201028-093207-0379.log",
      "/home/nagaku/notebooks/docker-handson/.log/20201029/20201029-072121-0961.log",
      "/home/nagaku/notebooks/docker-handson/.log/20201029/20201029-235410-0962.log",
      "/home/nagaku/notebooks/docker-handson/.log/20201029/20201029-235915-0209.log",
      "/home/nagaku/notebooks/docker-handson/.log/20201030/20201030-003847-0367.log",
      "/home/nagaku/notebooks/docker-handson/.log/20201030/20201030-012624-0450.log",
      "/home/nagaku/notebooks/docker-handson/.log/20201030/20201030-061522-0963.log"
     ]
    },
    "pinned_outputs": [
     {
      "execution_count": 8,
      "outputs": [
       {
        "name": "stdout",
        "output_type": "stream",
        "text": "---\r\n- hosts: localhost\r\n  gather_facts: no\r\n  tasks:\r\n  - name: \"create ec2 instance\"\r\n    amazon.aws.ec2:\r\n      region: us-west-2\r\n      key_name: nagaku\r\n      instance_type: t3a.medium\r\n      image: ami-0bc06212a56393ee1\r\n      group: default\r\n      vpc_subnet_id: subnet-916c37ba\r\n      wait: yes\r\n      assign_public_ip: yes\r\n      spot_price: \"0.9\"\r\n      instance_initiated_shutdown_behavior: terminate\r\n      volumes:\r\n        - device_name: /dev/sda1\r\n          volume_type: gp2\r\n          volume_size: 32\r\n          delete_on_termination: true\r\n      instance_tags:\r\n        Name: nagaku_docker_spot\r\n        Owner: nagaku\r\n#      profile: default # インスタンスロールが効いてる場合は不要\r\n    register: ec2\r\n\r\n  - name: \"return status\"\r\n    debug:\r\n      msg: \"{{ ec2 }}\"\r\n"
       }
      ]
     }
    ]
   },
   "outputs": [],
   "source": [
    "image = 'ami-0bc06212a56393ee1' # CentOS7\n",
    "instance_type = 't3a.medium'\n",
    "subnet = 'subnet-916c37ba' # 先に作成済みのものを先の結果から引き写す\n",
    "sg = 'default' # 先に作成済みのものを先の結果から引き写す\n",
    "\n",
    "content = f'''\n",
    "---\n",
    "- hosts: localhost\n",
    "  gather_facts: no\n",
    "  tasks:\n",
    "  - name: \"create ec2 instance\"\n",
    "    amazon.aws.ec2:\n",
    "      region: {target_region}\n",
    "      key_name: {username}\n",
    "      instance_type: {instance_type}\n",
    "      image: {image}\n",
    "      group: {sg}\n",
    "      vpc_subnet_id: {subnet}\n",
    "      wait: yes\n",
    "      assign_public_ip: yes\n",
    "      spot_price: \"0.9\"\n",
    "      instance_initiated_shutdown_behavior: terminate\n",
    "      volumes:\n",
    "        - device_name: /dev/sda1\n",
    "          volume_type: gp2\n",
    "          volume_size: 32\n",
    "          delete_on_termination: true\n",
    "      instance_tags:\n",
    "        Name: {username}_docker_spot\n",
    "        Owner: {username}\n",
    "#      profile: default # インスタンスロールが効いてる場合は不要\n",
    "    register: ec2\n",
    "\n",
    "  - name: \"return status\"\n",
    "    debug:\n",
    "      msg: \"{{{{ ec2 }}}}\"\n",
    "'''.strip()\n",
    "\n",
    "with open('create_ec2_instance.yml', 'w') as f:\n",
    "    print(content, file=f)\n",
    "\n",
    "!cat create_ec2_instance.yml"
   ]
  },
  {
   "cell_type": "markdown",
   "metadata": {
    "lc_cell_meme": {
     "current": "5008867a-6276-11ea-b92a-0242ac110002-4-b6a1-ba86-ce9f-d767",
     "history": [
      {
       "current": "5008867a-6276-11ea-b92a-0242ac110002-2-b6a1-ba86",
       "next": "500889ea-6276-11ea-b92a-0242ac110002",
       "previous": "50087e78-6276-11ea-b92a-0242ac110002"
      },
      {
       "current": "5008867a-6276-11ea-b92a-0242ac110002-3-b6a1-ba86-ce9f",
       "next": "500889ea-6276-11ea-b92a-0242ac110002-1-7e2f",
       "previous": "50087e78-6276-11ea-b92a-0242ac110002-1-3c06"
      },
      {
       "current": "5008867a-6276-11ea-b92a-0242ac110002-3-b6a1-ba86-ce9f",
       "next": "500889ea-6276-11ea-b92a-0242ac110002-2-7e2f-04ce",
       "previous": "50087e78-6276-11ea-b92a-0242ac110002-2-3c06-22a3"
      },
      {
       "current": "5008867a-6276-11ea-b92a-0242ac110002-4-b6a1-ba86-ce9f-d767",
       "next": "500889ea-6276-11ea-b92a-0242ac110002-2-7e2f-04ce",
       "previous": "50087e78-6276-11ea-b92a-0242ac110002-4-3c06-22a3-12e6-8102"
      }
     ],
     "next": "500889ea-6276-11ea-b92a-0242ac110002-3-7e2f-04ce-6398",
     "previous": "50087e78-6276-11ea-b92a-0242ac110002-5-3c06-22a3-12e6-8102-1ac1"
    }
   },
   "source": [
    "起動。"
   ]
  },
  {
   "cell_type": "code",
   "execution_count": null,
   "metadata": {
    "lc_cell_meme": {
     "current": "500889ea-6276-11ea-b92a-0242ac110002-3-7e2f-04ce-6398",
     "history": [
      {
       "current": "500889ea-6276-11ea-b92a-0242ac110002",
       "next": "50088cec-6276-11ea-b92a-0242ac110002",
       "previous": "5008867a-6276-11ea-b92a-0242ac110002"
      },
      {
       "current": "500889ea-6276-11ea-b92a-0242ac110002-1-7e2f",
       "next": "c1ad2982-c318-11e9-adb5-0242ac120003-3-26dc-1b62-0f71",
       "previous": "5008867a-6276-11ea-b92a-0242ac110002-1-b6a1"
      },
      {
       "current": "500889ea-6276-11ea-b92a-0242ac110002-2-7e2f-04ce",
       "next": "c1ad2982-c318-11e9-adb5-0242ac120003-4-26dc-1b62-0f71-58f5",
       "previous": "5008867a-6276-11ea-b92a-0242ac110002-2-b6a1-ba86"
      },
      {
       "current": "500889ea-6276-11ea-b92a-0242ac110002-3-7e2f-04ce-6398",
       "next": "c1ad2982-c318-11e9-adb5-0242ac120003-5-26dc-1b62-0f71-58f5-0336",
       "previous": "5008867a-6276-11ea-b92a-0242ac110002-3-b6a1-ba86-ce9f"
      }
     ],
     "next": "c1ad2982-c318-11e9-adb5-0242ac120003-6-26dc-1b62-0f71-58f5-0336-f3c4",
     "previous": "5008867a-6276-11ea-b92a-0242ac110002-4-b6a1-ba86-ce9f-d767"
    },
    "lc_wrapper": {
     "log_history": [
      "/home/jovyan/.log/20200310/20200310-023648-0520.log",
      "/home/nagaku/notebooks/share/ngs/.log/20201027/20201027-004438-0051.log",
      "/home/nagaku/notebooks/share/ngs/.log/20201027/20201027-050221-0023.log",
      "/home/nagaku/notebooks/share/ngs/.log/20201027/20201027-074038-0087.log",
      "/home/nagaku/notebooks/docker-handson/.log/20201028/20201028-081200-0326.log",
      "/home/nagaku/notebooks/docker-handson/.log/20201028/20201028-093208-0232.log",
      "/home/nagaku/notebooks/docker-handson/.log/20201029/20201029-072122-0815.log",
      "/home/nagaku/notebooks/docker-handson/.log/20201029/20201029-235411-0811.log",
      "/home/nagaku/notebooks/docker-handson/.log/20201029/20201029-235916-0091.log",
      "/home/nagaku/notebooks/docker-handson/.log/20201030/20201030-003848-0215.log",
      "/home/nagaku/notebooks/docker-handson/.log/20201030/20201030-012625-0292.log",
      "/home/nagaku/notebooks/docker-handson/.log/20201030/20201030-061523-0817.log"
     ]
    },
    "pinned_outputs": [
     {
      "execution_count": 9,
      "outputs": [
       {
        "name": "stdout",
        "output_type": "stream",
        "text": "{'changed': True, 'failed': False, 'instance_ids': ['i-08c39c86e82595377'], 'instances': [{'ami_launch_index': '0', 'architecture': 'x86_64', 'block_device_mapping': {'/dev/sda1': {'delete_on_termination': True, 'status': 'attached', 'volume_id': 'vol-06e97942c7abcc52f'}}, 'dns_name': 'ec2-44-226-199-178.us-west-2.compute.amazonaws.com', 'ebs_optimized': False, 'groups': {'sg-ea6d64c2': 'default'}, 'hypervisor': 'xen', 'id': 'i-08c39c86e82595377', 'image_id': 'ami-0bc06212a56393ee1', 'instance_type': 't3a.medium', 'kernel': None, 'key_name': 'nagaku', 'launch_time': '2020-10-30T06:15:27.000Z', 'placement': 'us-west-2d', 'private_dns_name': 'ip-172-31-63-5.us-west-2.compute.internal', 'private_ip': '172.31.63.5', 'public_dns_name': 'ec2-44-226-199-178.us-west-2.compute.amazonaws.com', 'public_ip': '44.226.199.178', 'ramdisk': None, 'region': 'us-west-2', 'root_device_name': '/dev/sda1', 'root_device_type': 'ebs', 'state': 'running', 'state_code': 16, 'tags': {'Name': 'nagaku_docker_spot', 'Owner': 'nagaku'}, 'tenancy': 'default', 'virtualization_type': 'hvm'}], 'tagged_instances': []}\n"
       }
      ]
     }
    ]
   },
   "outputs": [],
   "source": [
    "row = !ansible-playbook create_ec2_instance.yml\n",
    "\n",
    "import json\n",
    "\n",
    "while row[0].find('    \"msg\": {') == -1:\n",
    "    del row[0]\n",
    "row[0] = \"{\"\n",
    "c = 0\n",
    "for line in row :\n",
    "    c += 1\n",
    "    if line.find('    }') == 0:\n",
    "        break\n",
    "row = row[:c]\n",
    "linux = json.loads(''.join(row))\n",
    "print(linux)"
   ]
  },
  {
   "cell_type": "markdown",
   "metadata": {
    "lc_cell_meme": {
     "current": "c1ad2982-c318-11e9-adb5-0242ac120003-6-26dc-1b62-0f71-58f5-0336-f3c4",
     "history": [
      {
       "current": "c1ad2982-c318-11e9-adb5-0242ac120003-1-26dc",
       "next": "c1ad2bb2-c318-11e9-adb5-0242ac120003",
       "previous": "0cbeec7a-bdac-11e9-897b-0242ac130003"
      },
      {
       "current": "c1ad2982-c318-11e9-adb5-0242ac120003-2-26dc-1b62",
       "next": "c1ad2bb2-c318-11e9-adb5-0242ac120003-1-8054",
       "previous": "0cbeec7a-bdac-11e9-897b-0242ac130003-1-fdcb"
      },
      {
       "current": "c1ad2982-c318-11e9-adb5-0242ac120003-3-26dc-1b62-0f71",
       "next": "c1ad2bb2-c318-11e9-adb5-0242ac120003-2-8054-4a31",
       "previous": "0cbeec7a-bdac-11e9-897b-0242ac130003-2-fdcb-c1aa"
      },
      {
       "current": "c1ad2982-c318-11e9-adb5-0242ac120003-3-26dc-1b62-0f71",
       "next": "c1ad2bb2-c318-11e9-adb5-0242ac120003-3-8054-4a31-f20e",
       "previous": "0cbeec7a-bdac-11e9-897b-0242ac130003-3-fdcb-c1aa-8b70"
      },
      {
       "current": "c1ad2982-c318-11e9-adb5-0242ac120003-4-26dc-1b62-0f71-58f5",
       "next": "c1ad2bb2-c318-11e9-adb5-0242ac120003-3-8054-4a31-f20e",
       "previous": "500889ea-6276-11ea-b92a-0242ac110002"
      },
      {
       "current": "c1ad2982-c318-11e9-adb5-0242ac120003-5-26dc-1b62-0f71-58f5-0336",
       "next": "c1ad2bb2-c318-11e9-adb5-0242ac120003-4-8054-4a31-f20e-65cb",
       "previous": "500889ea-6276-11ea-b92a-0242ac110002-1-7e2f"
      },
      {
       "current": "c1ad2982-c318-11e9-adb5-0242ac120003-6-26dc-1b62-0f71-58f5-0336-f3c4",
       "next": "c1ad2bb2-c318-11e9-adb5-0242ac120003-5-8054-4a31-f20e-65cb-32a7",
       "previous": "500889ea-6276-11ea-b92a-0242ac110002-2-7e2f-04ce"
      }
     ],
     "next": "c1ad2bb2-c318-11e9-adb5-0242ac120003-6-8054-4a31-f20e-65cb-32a7-17a6",
     "previous": "500889ea-6276-11ea-b92a-0242ac110002-3-7e2f-04ce-6398"
    }
   },
   "source": [
    "起動が完了するまで待ちます。"
   ]
  },
  {
   "cell_type": "code",
   "execution_count": null,
   "metadata": {
    "lc_cell_meme": {
     "current": "c1ad2bb2-c318-11e9-adb5-0242ac120003-6-8054-4a31-f20e-65cb-32a7-17a6",
     "history": [
      {
       "current": "c1ad2bb2-c318-11e9-adb5-0242ac120003-1-8054",
       "next": "47965d3a-bdb4-11e9-897b-0242ac130003",
       "previous": "c1ad2982-c318-11e9-adb5-0242ac120003"
      },
      {
       "current": "c1ad2bb2-c318-11e9-adb5-0242ac120003-2-8054-4a31",
       "next": "47965d3a-bdb4-11e9-897b-0242ac130003-1-1b9e",
       "previous": "c1ad2982-c318-11e9-adb5-0242ac120003-1-26dc"
      },
      {
       "current": "c1ad2bb2-c318-11e9-adb5-0242ac120003-3-8054-4a31-f20e",
       "next": "47965d3a-bdb4-11e9-897b-0242ac130003-2-1b9e-4390",
       "previous": "c1ad2982-c318-11e9-adb5-0242ac120003-2-26dc-1b62"
      },
      {
       "current": "c1ad2bb2-c318-11e9-adb5-0242ac120003-4-8054-4a31-f20e-65cb",
       "next": "47965d3a-bdb4-11e9-897b-0242ac130003-3-1b9e-4390-de12",
       "previous": "c1ad2982-c318-11e9-adb5-0242ac120003-3-26dc-1b62-0f71"
      },
      {
       "current": "c1ad2bb2-c318-11e9-adb5-0242ac120003-5-8054-4a31-f20e-65cb-32a7",
       "next": "47965d3a-bdb4-11e9-897b-0242ac130003-4-1b9e-4390-de12-c576",
       "previous": "c1ad2982-c318-11e9-adb5-0242ac120003-4-26dc-1b62-0f71-58f5"
      },
      {
       "current": "c1ad2bb2-c318-11e9-adb5-0242ac120003-6-8054-4a31-f20e-65cb-32a7-17a6",
       "next": "47965d3a-bdb4-11e9-897b-0242ac130003-5-1b9e-4390-de12-c576-d627",
       "previous": "c1ad2982-c318-11e9-adb5-0242ac120003-5-26dc-1b62-0f71-58f5-0336"
      }
     ],
     "next": "47965d3a-bdb4-11e9-897b-0242ac130003-6-1b9e-4390-de12-c576-d627-4900",
     "previous": "c1ad2982-c318-11e9-adb5-0242ac120003-6-26dc-1b62-0f71-58f5-0336-f3c4"
    },
    "lc_wrapper": {
     "log_history": [
      "/home/jovyan/data/notebooks/mnagaku/seminar-lc4ri/.log/20190820/20190820-143152-0880.log",
      "/home/jovyan/data/notebooks/mnagaku/seminar-lc4ri/.log/20190820/20190820-143633-0650.log",
      "/home/jovyan/data/notebooks/mnagaku/seminar-lc4ri/.log/20190820/20190820-143737-0642.log",
      "/home/jovyan/data/notebooks/mnagaku/seminar-lc4ri/.log/20190820/20190820-172506-0169.log",
      "/home/jovyan/data/notebooks/mnagaku/seminar-lc4ri/.log/20190820/20190820-175205-0113.log",
      "/home/jovyan/data/notebooks/mnagaku/seminar-lc4ri/.log/20190820/20190820-185312-0855.log",
      "/home/jovyan/data/notebooks/mnagaku/seminar-lc4ri/.log/20190820/20190820-185356-0060.log",
      "/home/jovyan/data/notebooks/mnagaku/seminar-lc4ri/.log/20190820/20190820-185650-0252.log",
      "/home/jovyan/data/notebooks/mnagaku/seminar-lc4ri/.log/20190820/20190820-191120-0311.log",
      "/home/jovyan/data/notebooks/mnagaku/seminar-lc4ri/.log/20190820/20190820-202335-0437.log",
      "/home/jovyan/data/notebooks/mnagaku/seminar-lc4ri/.log/20190821/20190821-162708-0328.log",
      "/home/jovyan/data/notebooks/mnagaku/seminar-lc4ri/.log/20190821/20190821-170007-0300.log",
      "/home/jovyan/data/notebooks/mnagaku/seminar-lc4ri/.log/20190829/20190829-224412-0832.log",
      "/home/jovyan/data/notebooks/mnagaku/seminar-lc4ri/.log/20190830/20190830-134318-0403.log",
      "/home/jovyan/data/notebooks/mnagaku/seminar-lc4ri/.log/20190830/20190830-184527-0749.log",
      "/home/jovyan/data/notebooks/mnagaku/seminar-lc4ri/.log/20190830/20190830-191042-0419.log",
      "/home/jovyan/data/notebooks/mnagaku/seminar-lc4ri/.log/20190830/20190830-193614-0947.log",
      "/home/jovyan/data/notebooks/mnagaku/seminar-lc4ri/.log/20190831/20190831-141501-0986.log",
      "/home/jovyan/data/notebooks/mnagaku/seminar-lc4ri/.log/20190831/20190831-150200-0240.log",
      "/home/jovyan/data/notebooks/mnagaku/seminar-lc4ri/.log/20190831/20190831-152909-0747.log",
      "/home/jovyan/data/notebooks/mnagaku/seminar-lc4ri/.log/20190831/20190831-172033-0491.log",
      "/home/jovyan/opehub-deploy/.log/20191216/20191216-065246-0433.log",
      "/home/jovyan/opehub-deploy/.log/20191216/20191216-065521-0829.log",
      "/home/jovyan/opehub-deploy/.log/20191217/20191217-045912-0566.log",
      "/home/nagaku/notebooks/.log/20200309/20200309-111802-0108.log",
      "/home/nagaku/notebooks/.log/20200309/20200309-112842-0265.log",
      "/home/jovyan/.log/20200309/20200309-114223-0964.log",
      "/home/jovyan/.log/20200310/20200310-023709-0783.log",
      "/home/nagaku/notebooks/share/ngs/.log/20201027/20201027-004511-0389.log",
      "/home/nagaku/notebooks/share/ngs/.log/20201027/20201027-050254-0253.log",
      "/home/nagaku/notebooks/share/ngs/.log/20201027/20201027-074111-0535.log",
      "/home/nagaku/notebooks/docker-handson/.log/20201028/20201028-081242-0543.log",
      "/home/nagaku/notebooks/docker-handson/.log/20201028/20201028-093246-0412.log",
      "/home/nagaku/notebooks/docker-handson/.log/20201029/20201029-072524-0071.log",
      "/home/nagaku/notebooks/docker-handson/.log/20201029/20201029-235429-0603.log",
      "/home/nagaku/notebooks/docker-handson/.log/20201029/20201029-235949-0173.log",
      "/home/nagaku/notebooks/docker-handson/.log/20201030/20201030-003922-0577.log",
      "/home/nagaku/notebooks/docker-handson/.log/20201030/20201030-012659-0165.log",
      "/home/nagaku/notebooks/docker-handson/.log/20201030/20201030-061602-0013.log"
     ]
    }
   },
   "outputs": [],
   "source": [
    "!aws ec2 wait instance-status-ok --include-all-instances --instance-ids {linux['instance_ids'][0]}"
   ]
  },
  {
   "cell_type": "markdown",
   "metadata": {
    "lc_cell_meme": {
     "current": "47965d3a-bdb4-11e9-897b-0242ac130003-6-1b9e-4390-de12-c576-d627-4900",
     "history": [
      {
       "current": "47965d3a-bdb4-11e9-897b-0242ac130003",
       "next": "0cbef012-bdac-11e9-897b-0242ac130003",
       "previous": "0cbeec7a-bdac-11e9-897b-0242ac130003"
      },
      {
       "current": "47965d3a-bdb4-11e9-897b-0242ac130003",
       "next": "0cbef012-bdac-11e9-897b-0242ac130003",
       "previous": "7e26d370-c309-11e9-adb5-0242ac120003"
      },
      {
       "current": "47965d3a-bdb4-11e9-897b-0242ac130003-1-1b9e",
       "next": "0cbef012-bdac-11e9-897b-0242ac130003",
       "previous": "c1ad2bb2-c318-11e9-adb5-0242ac120003"
      },
      {
       "current": "47965d3a-bdb4-11e9-897b-0242ac130003-2-1b9e-4390",
       "next": "0cbef012-bdac-11e9-897b-0242ac130003-1-c4ea",
       "previous": "c1ad2bb2-c318-11e9-adb5-0242ac120003-1-8054"
      },
      {
       "current": "47965d3a-bdb4-11e9-897b-0242ac130003-3-1b9e-4390-de12",
       "next": "0cbef012-bdac-11e9-897b-0242ac130003-2-c4ea-70fa",
       "previous": "c1ad2bb2-c318-11e9-adb5-0242ac120003-2-8054-4a31"
      },
      {
       "current": "47965d3a-bdb4-11e9-897b-0242ac130003-4-1b9e-4390-de12-c576",
       "next": "0cbef012-bdac-11e9-897b-0242ac130003-3-c4ea-70fa-f732",
       "previous": "c1ad2bb2-c318-11e9-adb5-0242ac120003-3-8054-4a31-f20e"
      },
      {
       "current": "47965d3a-bdb4-11e9-897b-0242ac130003-5-1b9e-4390-de12-c576-d627",
       "next": "0cbef012-bdac-11e9-897b-0242ac130003-4-c4ea-70fa-f732-3af8",
       "previous": "c1ad2bb2-c318-11e9-adb5-0242ac120003-4-8054-4a31-f20e-65cb"
      },
      {
       "current": "47965d3a-bdb4-11e9-897b-0242ac130003-6-1b9e-4390-de12-c576-d627-4900",
       "next": "0cbef012-bdac-11e9-897b-0242ac130003-5-c4ea-70fa-f732-3af8-530c",
       "previous": "c1ad2bb2-c318-11e9-adb5-0242ac120003-5-8054-4a31-f20e-65cb-32a7"
      }
     ],
     "next": "0cbef012-bdac-11e9-897b-0242ac130003-6-c4ea-70fa-f732-3af8-530c-07dd",
     "previous": "c1ad2bb2-c318-11e9-adb5-0242ac120003-6-8054-4a31-f20e-65cb-32a7-17a6"
    }
   },
   "source": [
    "ansibleの接続情報を作成します。\n",
    "\n",
    "インスタンスがJupyterと同じVPC内に起動している場合、接続先にはprivate_ipを指定します。そうでない場合は、Jupyterから接続できるようにセキュリティグループを設定の上、public_ipを指定します。"
   ]
  },
  {
   "cell_type": "code",
   "execution_count": null,
   "metadata": {
    "lc_cell_meme": {
     "current": "0cbef012-bdac-11e9-897b-0242ac130003-6-c4ea-70fa-f732-3af8-530c-07dd",
     "history": [
      {
       "current": "0cbef012-bdac-11e9-897b-0242ac130003",
       "next": "0cbef1a2-bdac-11e9-897b-0242ac130003",
       "previous": "0cbeec7a-bdac-11e9-897b-0242ac130003"
      },
      {
       "current": "0cbef012-bdac-11e9-897b-0242ac130003",
       "next": "8548ac2a-bdad-11e9-897b-0242ac130003",
       "previous": "0cbeec7a-bdac-11e9-897b-0242ac130003"
      },
      {
       "current": "0cbef012-bdac-11e9-897b-0242ac130003-1-c4ea",
       "next": "8548ac2a-bdad-11e9-897b-0242ac130003",
       "previous": "47965d3a-bdb4-11e9-897b-0242ac130003"
      },
      {
       "current": "0cbef012-bdac-11e9-897b-0242ac130003-2-c4ea-70fa",
       "next": "8548ac2a-bdad-11e9-897b-0242ac130003-1-32c8",
       "previous": "47965d3a-bdb4-11e9-897b-0242ac130003-1-1b9e"
      },
      {
       "current": "0cbef012-bdac-11e9-897b-0242ac130003-3-c4ea-70fa-f732",
       "next": "8548ac2a-bdad-11e9-897b-0242ac130003-2-32c8-1609",
       "previous": "47965d3a-bdb4-11e9-897b-0242ac130003-2-1b9e-4390"
      },
      {
       "current": "0cbef012-bdac-11e9-897b-0242ac130003-4-c4ea-70fa-f732-3af8",
       "next": "8548ac2a-bdad-11e9-897b-0242ac130003-3-32c8-1609-7238",
       "previous": "47965d3a-bdb4-11e9-897b-0242ac130003-3-1b9e-4390-de12"
      },
      {
       "current": "0cbef012-bdac-11e9-897b-0242ac130003-5-c4ea-70fa-f732-3af8-530c",
       "next": "8548ac2a-bdad-11e9-897b-0242ac130003-4-32c8-1609-7238-21fb",
       "previous": "47965d3a-bdb4-11e9-897b-0242ac130003-4-1b9e-4390-de12-c576"
      },
      {
       "current": "0cbef012-bdac-11e9-897b-0242ac130003-6-c4ea-70fa-f732-3af8-530c-07dd",
       "next": "8548ac2a-bdad-11e9-897b-0242ac130003-5-32c8-1609-7238-21fb-201c",
       "previous": "47965d3a-bdb4-11e9-897b-0242ac130003-5-1b9e-4390-de12-c576-d627"
      }
     ],
     "next": "8548ac2a-bdad-11e9-897b-0242ac130003-6-32c8-1609-7238-21fb-201c-eeea",
     "previous": "47965d3a-bdb4-11e9-897b-0242ac130003-6-1b9e-4390-de12-c576-d627-4900"
    },
    "lc_wrapper": {
     "log_history": [
      "/home/jovyan/data/notebooks/mnagaku/seminar-lc4ri/.log/20190813/20190813-182144-0706.log",
      "/home/jovyan/data/notebooks/mnagaku/seminar-lc4ri/.log/20190813/20190813-183420-0260.log",
      "/home/jovyan/data/notebooks/mnagaku/seminar-lc4ri/.log/20190813/20190813-183835-0097.log",
      "/home/jovyan/data/notebooks/mnagaku/seminar-lc4ri/.log/20190814/20190814-102704-0617.log",
      "/home/jovyan/data/notebooks/mnagaku/seminar-lc4ri/.log/20190814/20190814-163738-0034.log",
      "/home/jovyan/data/notebooks/mnagaku/seminar-lc4ri/.log/20190814/20190814-163929-0545.log",
      "/home/jovyan/data/notebooks/mnagaku/seminar-lc4ri/.log/20190814/20190814-173648-0543.log",
      "/home/jovyan/data/notebooks/mnagaku/seminar-lc4ri/.log/20190814/20190814-174000-0736.log",
      "/home/jovyan/data/notebooks/mnagaku/seminar-lc4ri/.log/20190819/20190819-111723-0440.log",
      "/home/jovyan/data/notebooks/mnagaku/seminar-lc4ri/.log/20190819/20190819-134126-0045.log",
      "/home/jovyan/data/notebooks/mnagaku/seminar-lc4ri/.log/20190819/20190819-175310-0357.log",
      "/home/jovyan/data/notebooks/mnagaku/seminar-lc4ri/.log/20190819/20190819-185401-0350.log",
      "/home/jovyan/data/notebooks/mnagaku/seminar-lc4ri/.log/20190820/20190820-141221-0955.log",
      "/home/jovyan/data/notebooks/mnagaku/seminar-lc4ri/.log/20190820/20190820-144113-0345.log",
      "/home/jovyan/data/notebooks/mnagaku/seminar-lc4ri/.log/20190820/20190820-172804-0482.log",
      "/home/jovyan/data/notebooks/mnagaku/seminar-lc4ri/.log/20190820/20190820-173115-0771.log",
      "/home/jovyan/data/notebooks/mnagaku/seminar-lc4ri/.log/20190820/20190820-175452-0407.log",
      "/home/jovyan/data/notebooks/mnagaku/seminar-lc4ri/.log/20190820/20190820-191831-0904.log",
      "/home/jovyan/data/notebooks/mnagaku/seminar-lc4ri/.log/20190820/20190820-191846-0652.log",
      "/home/jovyan/data/notebooks/mnagaku/seminar-lc4ri/.log/20190820/20190820-202547-0197.log",
      "/home/jovyan/data/notebooks/mnagaku/seminar-lc4ri/.log/20190821/20190821-162955-0381.log",
      "/home/jovyan/data/notebooks/mnagaku/seminar-lc4ri/.log/20190821/20190821-170334-0618.log",
      "/home/jovyan/data/notebooks/mnagaku/seminar-lc4ri/.log/20190829/20190829-224902-0325.log",
      "/home/jovyan/data/notebooks/mnagaku/seminar-lc4ri/.log/20190830/20190830-134606-0239.log",
      "/home/jovyan/data/notebooks/mnagaku/seminar-lc4ri/.log/20190830/20190830-184800-0051.log",
      "/home/jovyan/data/notebooks/mnagaku/seminar-lc4ri/.log/20190830/20190830-191259-0261.log",
      "/home/jovyan/data/notebooks/mnagaku/seminar-lc4ri/.log/20190830/20190830-193902-0213.log",
      "/home/jovyan/data/notebooks/mnagaku/seminar-lc4ri/.log/20190831/20190831-141633-0605.log",
      "/home/jovyan/data/notebooks/mnagaku/seminar-lc4ri/.log/20190831/20190831-150447-0411.log",
      "/home/jovyan/data/notebooks/mnagaku/seminar-lc4ri/.log/20190831/20190831-153226-0933.log",
      "/home/jovyan/data/notebooks/mnagaku/seminar-lc4ri/.log/20190831/20190831-172235-0462.log",
      "/home/jovyan/opehub-deploy/.log/20191216/20191216-071808-0041.log",
      "/home/jovyan/opehub-deploy/.log/20191217/20191217-050146-0275.log",
      "/home/nagaku/notebooks/.log/20200309/20200309-112247-0837.log",
      "/home/nagaku/notebooks/.log/20200309/20200309-113133-0403.log",
      "/home/jovyan/.log/20200309/20200309-114622-0994.log",
      "/home/jovyan/.log/20200310/20200310-023946-0785.log",
      "/home/nagaku/notebooks/share/ngs/.log/20201027/20201027-004813-0714.log",
      "/home/nagaku/notebooks/share/ngs/.log/20201027/20201027-004908-0244.log",
      "/home/nagaku/notebooks/share/ngs/.log/20201027/20201027-050426-0282.log",
      "/home/nagaku/notebooks/share/ngs/.log/20201027/20201027-074328-0722.log",
      "/home/nagaku/notebooks/docker-handson/.log/20201028/20201028-081756-0644.log",
      "/home/nagaku/notebooks/docker-handson/.log/20201028/20201028-093549-0769.log",
      "/home/nagaku/notebooks/docker-handson/.log/20201029/20201029-072857-0719.log",
      "/home/nagaku/notebooks/docker-handson/.log/20201029/20201029-235647-0886.log",
      "/home/nagaku/notebooks/docker-handson/.log/20201030/20201030-000252-0523.log",
      "/home/nagaku/notebooks/docker-handson/.log/20201030/20201030-004140-0914.log",
      "/home/nagaku/notebooks/docker-handson/.log/20201030/20201030-013002-0725.log",
      "/home/nagaku/notebooks/docker-handson/.log/20201030/20201030-061850-0398.log"
     ]
    }
   },
   "outputs": [],
   "source": [
    "host = linux[\"instances\"][0][\"private_ip\"]\n",
    "ansible_user = \"centos\"\n",
    "ansible_ssh_private_key_file = username + \".pem\"\n",
    "\n",
    "with open('hosts', mode='w') as f:\n",
    "    f.write(host + ' ansible_user=' + ansible_user + ' ansible_ssh_private_key_file='\n",
    "            + ansible_ssh_private_key_file)"
   ]
  },
  {
   "cell_type": "markdown",
   "metadata": {
    "lc_cell_meme": {
     "current": "8548ac2a-bdad-11e9-897b-0242ac130003-6-32c8-1609-7238-21fb-201c-eeea",
     "history": [
      {
       "current": "8548ac2a-bdad-11e9-897b-0242ac130003",
       "next": "0cbef1a2-bdac-11e9-897b-0242ac130003",
       "previous": "0cbef012-bdac-11e9-897b-0242ac130003"
      },
      {
       "current": "8548ac2a-bdad-11e9-897b-0242ac130003",
       "next": "29db25ea-cb11-11e9-b4d8-0242ac120002",
       "previous": "0cbef012-bdac-11e9-897b-0242ac130003"
      },
      {
       "current": "8548ac2a-bdad-11e9-897b-0242ac130003-1-32c8",
       "next": "82503b60-208a-11ea-99c8-0242ac110002",
       "previous": "0cbef012-bdac-11e9-897b-0242ac130003"
      },
      {
       "current": "8548ac2a-bdad-11e9-897b-0242ac130003-2-32c8-1609",
       "next": "82503b60-208a-11ea-99c8-0242ac110002-1-9ad8",
       "previous": "0cbef012-bdac-11e9-897b-0242ac130003-1-c4ea"
      },
      {
       "current": "8548ac2a-bdad-11e9-897b-0242ac130003-3-32c8-1609-7238",
       "next": "82503b60-208a-11ea-99c8-0242ac110002-2-9ad8-ecea",
       "previous": "0cbef012-bdac-11e9-897b-0242ac130003-2-c4ea-70fa"
      },
      {
       "current": "8548ac2a-bdad-11e9-897b-0242ac130003-4-32c8-1609-7238-21fb",
       "next": "82503b60-208a-11ea-99c8-0242ac110002-3-9ad8-ecea-00a4",
       "previous": "0cbef012-bdac-11e9-897b-0242ac130003-3-c4ea-70fa-f732"
      },
      {
       "current": "8548ac2a-bdad-11e9-897b-0242ac130003-5-32c8-1609-7238-21fb-201c",
       "next": "82503b60-208a-11ea-99c8-0242ac110002-4-9ad8-ecea-00a4-5e20",
       "previous": "0cbef012-bdac-11e9-897b-0242ac130003-4-c4ea-70fa-f732-3af8"
      },
      {
       "current": "8548ac2a-bdad-11e9-897b-0242ac130003-6-32c8-1609-7238-21fb-201c-eeea",
       "next": "82503b60-208a-11ea-99c8-0242ac110002-5-9ad8-ecea-00a4-5e20-f212",
       "previous": "0cbef012-bdac-11e9-897b-0242ac130003-5-c4ea-70fa-f732-3af8-530c"
      }
     ],
     "next": "82503b60-208a-11ea-99c8-0242ac110002-6-9ad8-ecea-00a4-5e20-f212-e0c2",
     "previous": "0cbef012-bdac-11e9-897b-0242ac130003-6-c4ea-70fa-f732-3af8-530c-07dd"
    }
   },
   "source": [
    "作成した接続情報を使う前に、対象となるLinuxマシンを信頼できるホストとして、fingerprint登録しておきます。JupyterのTerminalを使って、ダミーのssh実行を行うと登録されます。"
   ]
  },
  {
   "cell_type": "code",
   "execution_count": null,
   "metadata": {
    "lc_cell_meme": {
     "current": "82503b60-208a-11ea-99c8-0242ac110002-6-9ad8-ecea-00a4-5e20-f212-e0c2",
     "history": [
      {
       "current": "82503b60-208a-11ea-99c8-0242ac110002-1-9ad8",
       "next": "8548ac2a-bdad-11e9-897b-0242ac130003",
       "previous": "8548ac2a-bdad-11e9-897b-0242ac130003"
      },
      {
       "current": "82503b60-208a-11ea-99c8-0242ac110002-1-9ad8",
       "next": "8548ac2a-bdad-11e9-897b-0242ac130003-1-3ff0",
       "previous": "8548ac2a-bdad-11e9-897b-0242ac130003-1-32c8"
      },
      {
       "current": "82503b60-208a-11ea-99c8-0242ac110002-2-9ad8-ecea",
       "next": "8548ac2a-bdad-11e9-897b-0242ac130003-2-3ff0-a5ed",
       "previous": "8548ac2a-bdad-11e9-897b-0242ac130003-1-32c8"
      },
      {
       "current": "82503b60-208a-11ea-99c8-0242ac110002-3-9ad8-ecea-00a4",
       "next": "8548ac2a-bdad-11e9-897b-0242ac130003-3-3ff0-a5ed-c160",
       "previous": "8548ac2a-bdad-11e9-897b-0242ac130003-2-32c8-1609"
      },
      {
       "current": "82503b60-208a-11ea-99c8-0242ac110002-4-9ad8-ecea-00a4-5e20",
       "next": "8548ac2a-bdad-11e9-897b-0242ac130003-4-3ff0-a5ed-c160-4dcf",
       "previous": "8548ac2a-bdad-11e9-897b-0242ac130003-3-32c8-1609-7238"
      },
      {
       "current": "82503b60-208a-11ea-99c8-0242ac110002-5-9ad8-ecea-00a4-5e20-f212",
       "next": "8548ac2a-bdad-11e9-897b-0242ac130003-5-3ff0-a5ed-c160-4dcf-58ef",
       "previous": "8548ac2a-bdad-11e9-897b-0242ac130003-4-32c8-1609-7238-21fb"
      },
      {
       "current": "82503b60-208a-11ea-99c8-0242ac110002-6-9ad8-ecea-00a4-5e20-f212-e0c2",
       "next": "8548ac2a-bdad-11e9-897b-0242ac130003-6-3ff0-a5ed-c160-4dcf-58ef-760f",
       "previous": "8548ac2a-bdad-11e9-897b-0242ac130003-5-32c8-1609-7238-21fb-201c"
      },
      {
       "current": "82503b60-208a-11ea-99c8-0242ac110002-6-9ad8-ecea-00a4-5e20-f212-e0c2",
       "next": "8548ac2a-bdad-11e9-897b-0242ac130003-7-3ff0-a5ed-c160-4dcf-58ef-760f-cb80",
       "previous": "8548ac2a-bdad-11e9-897b-0242ac130003-6-32c8-1609-7238-21fb-201c-eeea"
      }
     ],
     "next": "8548ac2a-bdad-11e9-897b-0242ac130003-8-3ff0-a5ed-c160-4dcf-58ef-760f-cb80-4372",
     "previous": "8548ac2a-bdad-11e9-897b-0242ac130003-6-32c8-1609-7238-21fb-201c-eeea"
    },
    "lc_wrapper": {
     "log_history": [
      "/home/jovyan/opehub-deploy/.log/20191217/20191217-050323-0988.log",
      "/home/jovyan/opehub-deploy/.log/20191217/20191217-050901-0142.log",
      "/home/nagaku/notebooks/.log/20200309/20200309-112249-0403.log",
      "/home/nagaku/notebooks/.log/20200309/20200309-113133-0956.log",
      "/home/jovyan/.log/20200309/20200309-114624-0487.log",
      "/home/jovyan/.log/20200310/20200310-023949-0261.log",
      "/home/nagaku/notebooks/share/ngs/.log/20201027/20201027-004813-0724.log",
      "/home/nagaku/notebooks/share/ngs/.log/20201027/20201027-004909-0063.log",
      "/home/nagaku/notebooks/share/ngs/.log/20201027/20201027-050426-0294.log",
      "/home/nagaku/notebooks/share/ngs/.log/20201027/20201027-074328-0736.log",
      "/home/nagaku/notebooks/docker-handson/.log/20201028/20201028-081758-0017.log",
      "/home/nagaku/notebooks/docker-handson/.log/20201028/20201028-093549-0780.log",
      "/home/nagaku/notebooks/docker-handson/.log/20201029/20201029-072857-0732.log",
      "/home/nagaku/notebooks/docker-handson/.log/20201029/20201029-235647-0901.log",
      "/home/nagaku/notebooks/docker-handson/.log/20201030/20201030-000252-0536.log",
      "/home/nagaku/notebooks/docker-handson/.log/20201030/20201030-004140-0925.log",
      "/home/nagaku/notebooks/docker-handson/.log/20201030/20201030-013002-0736.log",
      "/home/nagaku/notebooks/docker-handson/.log/20201030/20201030-061850-0409.log"
     ]
    },
    "pinned_outputs": [
     {
      "execution_count": 12,
      "outputs": [
       {
        "name": "stdout",
        "output_type": "stream",
        "text": "ssh -i /home/nagaku/notebooks/docker-handson/nagaku.pem centos@172.31.63.5\n"
       }
      ]
     }
    ]
   },
   "outputs": [],
   "source": [
    "pwd = !pwd\n",
    "print(\"ssh -i \"+pwd[0]+\"/\"+ansible_ssh_private_key_file+\" \"+ansible_user+\"@\"+host)"
   ]
  },
  {
   "cell_type": "markdown",
   "metadata": {
    "lc_cell_meme": {
     "current": "8548ac2a-bdad-11e9-897b-0242ac130003-8-3ff0-a5ed-c160-4dcf-58ef-760f-cb80-4372",
     "history": [
      {
       "current": "8548ac2a-bdad-11e9-897b-0242ac130003",
       "next": "0cbef1a2-bdac-11e9-897b-0242ac130003",
       "previous": "0cbef012-bdac-11e9-897b-0242ac130003"
      },
      {
       "current": "8548ac2a-bdad-11e9-897b-0242ac130003",
       "next": "29db25ea-cb11-11e9-b4d8-0242ac120002",
       "previous": "0cbef012-bdac-11e9-897b-0242ac130003"
      },
      {
       "current": "8548ac2a-bdad-11e9-897b-0242ac130003-1-3ff0",
       "next": "29db25ea-cb11-11e9-b4d8-0242ac120002",
       "previous": "82503b60-208a-11ea-99c8-0242ac110002"
      },
      {
       "current": "8548ac2a-bdad-11e9-897b-0242ac130003-2-3ff0-a5ed",
       "next": "29db25ea-cb11-11e9-b4d8-0242ac120002-1-f351",
       "previous": "82503b60-208a-11ea-99c8-0242ac110002-1-9ad8"
      },
      {
       "current": "8548ac2a-bdad-11e9-897b-0242ac130003-3-3ff0-a5ed-c160",
       "next": "eb7b0f78-61f5-11ea-ba1c-0242ac120004",
       "previous": "82503b60-208a-11ea-99c8-0242ac110002-1-9ad8"
      },
      {
       "current": "8548ac2a-bdad-11e9-897b-0242ac130003-4-3ff0-a5ed-c160-4dcf",
       "next": "eb7b0f78-61f5-11ea-ba1c-0242ac120004-1-d557",
       "previous": "82503b60-208a-11ea-99c8-0242ac110002-2-9ad8-ecea"
      },
      {
       "current": "8548ac2a-bdad-11e9-897b-0242ac130003-5-3ff0-a5ed-c160-4dcf-58ef",
       "next": "eb7b0f78-61f5-11ea-ba1c-0242ac120004-2-d557-eb40",
       "previous": "82503b60-208a-11ea-99c8-0242ac110002-3-9ad8-ecea-00a4"
      },
      {
       "current": "8548ac2a-bdad-11e9-897b-0242ac130003-6-3ff0-a5ed-c160-4dcf-58ef-760f",
       "next": "eb7b0f78-61f5-11ea-ba1c-0242ac120004-3-d557-eb40-7548",
       "previous": "82503b60-208a-11ea-99c8-0242ac110002-4-9ad8-ecea-00a4-5e20"
      },
      {
       "current": "8548ac2a-bdad-11e9-897b-0242ac130003-7-3ff0-a5ed-c160-4dcf-58ef-760f-cb80",
       "next": "eb7b0f78-61f5-11ea-ba1c-0242ac120004-4-d557-eb40-7548-fa73",
       "previous": "82503b60-208a-11ea-99c8-0242ac110002-5-9ad8-ecea-00a4-5e20-f212"
      },
      {
       "current": "8548ac2a-bdad-11e9-897b-0242ac130003-7-3ff0-a5ed-c160-4dcf-58ef-760f-cb80",
       "next": "eb7b0f78-61f5-11ea-ba1c-0242ac120004-5-d557-eb40-7548-fa73-8845",
       "previous": "82503b60-208a-11ea-99c8-0242ac110002-6-9ad8-ecea-00a4-5e20-f212-e0c2"
      },
      {
       "current": "8548ac2a-bdad-11e9-897b-0242ac130003-7-3ff0-a5ed-c160-4dcf-58ef-760f-cb80",
       "next": "f7b63fa2-18f6-11eb-8a40-0242ac140004",
       "previous": "82503b60-208a-11ea-99c8-0242ac110002-6-9ad8-ecea-00a4-5e20-f212-e0c2"
      },
      {
       "current": "8548ac2a-bdad-11e9-897b-0242ac130003-7-3ff0-a5ed-c160-4dcf-58ef-760f-cb80",
       "next": "f7b63fa2-18f6-11eb-8a40-0242ac140004-1-bcb2",
       "previous": "82503b60-208a-11ea-99c8-0242ac110002-6-9ad8-ecea-00a4-5e20-f212-e0c2"
      },
      {
       "current": "8548ac2a-bdad-11e9-897b-0242ac130003-8-3ff0-a5ed-c160-4dcf-58ef-760f-cb80-4372",
       "next": "68738d4a-18f6-11eb-8a40-0242ac140004",
       "previous": "82503b60-208a-11ea-99c8-0242ac110002-6-9ad8-ecea-00a4-5e20-f212-e0c2"
      }
     ],
     "next": "54634672-1a42-11eb-b030-0242ac140004",
     "previous": "82503b60-208a-11ea-99c8-0242ac110002-6-9ad8-ecea-00a4-5e20-f212-e0c2"
    }
   },
   "source": [
    "```\n",
    "$ ssh -i xxxx.pem centos@（対象となるLinuxマシンのIPアドレス）\n",
    "（中略）\n",
    "Are you sure you want to continue connecting (yes/no)? yes←信頼しますよの意味で入力する\n",
    "（以下略）\n",
    "```\n",
    "\n",
    "として、fingerprint登録します。ssh接続は\n",
    "```\n",
    "$ exit\n",
    "```\n",
    "で終了させてください。\n",
    "\n",
    "実務では、ansibleの対象となるLinuxマシンが大量だったり不定だったりするかも知れません。その場合は、sshやansibleの設定で、fingerprint登録の有無を確認しないこともできます。\n",
    "\n",
    "人手の作業を見落とさないように、必ず失敗するセルを置いておきます。"
   ]
  },
  {
   "cell_type": "code",
   "execution_count": null,
   "metadata": {
    "lc_cell_meme": {
     "current": "54634672-1a42-11eb-b030-0242ac140004",
     "next": "8548ac2a-bdad-11e9-897b-0242ac130003-7-3ff0-a5ed-c160-4dcf-58ef-760f-cb80",
     "previous": "8548ac2a-bdad-11e9-897b-0242ac130003-8-3ff0-a5ed-c160-4dcf-58ef-760f-cb80-4372"
    },
    "lc_wrapper": {
     "log_history": [
      "/home/nagaku/notebooks/docker-handson/.log/20201030/20201030-000751-0917.log",
      "/home/nagaku/notebooks/docker-handson/.log/20201030/20201030-004140-0945.log",
      "/home/nagaku/notebooks/docker-handson/.log/20201030/20201030-013002-0754.log",
      "/home/nagaku/notebooks/docker-handson/.log/20201030/20201030-061850-0429.log"
     ]
    },
    "pinned_outputs": [
     {
      "execution_count": 13,
      "outputs": [
       {
        "ename": "Exception",
        "evalue": "",
        "output_type": "error",
        "traceback": [
         "\u001b[0;31m---------------------------------------------------------------------------\u001b[0m",
         "\u001b[0;31mException\u001b[0m                                 Traceback (most recent call last)",
         "\u001b[0;32m<ipython-input-13-2aee0157c87b>\u001b[0m in \u001b[0;36m<module>\u001b[0;34m\u001b[0m\n\u001b[0;32m----> 1\u001b[0;31m \u001b[0;32mraise\u001b[0m \u001b[0mException\u001b[0m\u001b[0;34m\u001b[0m\u001b[0;34m\u001b[0m\u001b[0m\n\u001b[0m",
         "\u001b[0;31mException\u001b[0m: "
        ]
       }
      ]
     }
    ],
    "scrolled": false
   },
   "outputs": [],
   "source": [
    "raise Exception"
   ]
  },
  {
   "cell_type": "markdown",
   "metadata": {
    "lc_cell_meme": {
     "current": "8548ac2a-bdad-11e9-897b-0242ac130003-7-3ff0-a5ed-c160-4dcf-58ef-760f-cb80",
     "history": [
      {
       "current": "8548ac2a-bdad-11e9-897b-0242ac130003",
       "next": "0cbef1a2-bdac-11e9-897b-0242ac130003",
       "previous": "0cbef012-bdac-11e9-897b-0242ac130003"
      },
      {
       "current": "8548ac2a-bdad-11e9-897b-0242ac130003",
       "next": "29db25ea-cb11-11e9-b4d8-0242ac120002",
       "previous": "0cbef012-bdac-11e9-897b-0242ac130003"
      },
      {
       "current": "8548ac2a-bdad-11e9-897b-0242ac130003-1-3ff0",
       "next": "29db25ea-cb11-11e9-b4d8-0242ac120002",
       "previous": "82503b60-208a-11ea-99c8-0242ac110002"
      },
      {
       "current": "8548ac2a-bdad-11e9-897b-0242ac130003-2-3ff0-a5ed",
       "next": "29db25ea-cb11-11e9-b4d8-0242ac120002-1-f351",
       "previous": "82503b60-208a-11ea-99c8-0242ac110002-1-9ad8"
      },
      {
       "current": "8548ac2a-bdad-11e9-897b-0242ac130003-3-3ff0-a5ed-c160",
       "next": "eb7b0f78-61f5-11ea-ba1c-0242ac120004",
       "previous": "82503b60-208a-11ea-99c8-0242ac110002-1-9ad8"
      },
      {
       "current": "8548ac2a-bdad-11e9-897b-0242ac130003-4-3ff0-a5ed-c160-4dcf",
       "next": "eb7b0f78-61f5-11ea-ba1c-0242ac120004-1-d557",
       "previous": "82503b60-208a-11ea-99c8-0242ac110002-2-9ad8-ecea"
      },
      {
       "current": "8548ac2a-bdad-11e9-897b-0242ac130003-5-3ff0-a5ed-c160-4dcf-58ef",
       "next": "eb7b0f78-61f5-11ea-ba1c-0242ac120004-2-d557-eb40",
       "previous": "82503b60-208a-11ea-99c8-0242ac110002-3-9ad8-ecea-00a4"
      },
      {
       "current": "8548ac2a-bdad-11e9-897b-0242ac130003-6-3ff0-a5ed-c160-4dcf-58ef-760f",
       "next": "eb7b0f78-61f5-11ea-ba1c-0242ac120004-3-d557-eb40-7548",
       "previous": "82503b60-208a-11ea-99c8-0242ac110002-4-9ad8-ecea-00a4-5e20"
      },
      {
       "current": "8548ac2a-bdad-11e9-897b-0242ac130003-7-3ff0-a5ed-c160-4dcf-58ef-760f-cb80",
       "next": "eb7b0f78-61f5-11ea-ba1c-0242ac120004-4-d557-eb40-7548-fa73",
       "previous": "82503b60-208a-11ea-99c8-0242ac110002-5-9ad8-ecea-00a4-5e20-f212"
      },
      {
       "current": "8548ac2a-bdad-11e9-897b-0242ac130003-7-3ff0-a5ed-c160-4dcf-58ef-760f-cb80",
       "next": "eb7b0f78-61f5-11ea-ba1c-0242ac120004-5-d557-eb40-7548-fa73-8845",
       "previous": "82503b60-208a-11ea-99c8-0242ac110002-6-9ad8-ecea-00a4-5e20-f212-e0c2"
      },
      {
       "current": "8548ac2a-bdad-11e9-897b-0242ac130003-7-3ff0-a5ed-c160-4dcf-58ef-760f-cb80",
       "next": "f7b63fa2-18f6-11eb-8a40-0242ac140004",
       "previous": "82503b60-208a-11ea-99c8-0242ac110002-6-9ad8-ecea-00a4-5e20-f212-e0c2"
      },
      {
       "current": "8548ac2a-bdad-11e9-897b-0242ac130003-7-3ff0-a5ed-c160-4dcf-58ef-760f-cb80",
       "next": "f7b63fa2-18f6-11eb-8a40-0242ac140004-1-bcb2",
       "previous": "82503b60-208a-11ea-99c8-0242ac110002-6-9ad8-ecea-00a4-5e20-f212-e0c2"
      },
      {
       "current": "8548ac2a-bdad-11e9-897b-0242ac130003-7-3ff0-a5ed-c160-4dcf-58ef-760f-cb80",
       "next": "68738d4a-18f6-11eb-8a40-0242ac140004",
       "previous": "82503b60-208a-11ea-99c8-0242ac110002-6-9ad8-ecea-00a4-5e20-f212-e0c2"
      }
     ],
     "next": "68738d4a-18f6-11eb-8a40-0242ac140004",
     "previous": "54634672-1a42-11eb-b030-0242ac140004"
    }
   },
   "source": [
    "ansibleでyum updateが動くことを確認します。"
   ]
  },
  {
   "cell_type": "code",
   "execution_count": null,
   "metadata": {
    "lc_cell_meme": {
     "current": "68738d4a-18f6-11eb-8a40-0242ac140004",
     "history": [
      {
       "current": "68738d4a-18f6-11eb-8a40-0242ac140004",
       "next": "68738f52-18f6-11eb-8a40-0242ac140004",
       "previous": "29db25ea-cb11-11e9-b4d8-0242ac120002-6-f351-eb50-8755-a69b-1aaa-2768"
      },
      {
       "current": "68738d4a-18f6-11eb-8a40-0242ac140004",
       "next": "68738f52-18f6-11eb-8a40-0242ac140004",
       "previous": "f7b63fa2-18f6-11eb-8a40-0242ac140004"
      },
      {
       "current": "68738d4a-18f6-11eb-8a40-0242ac140004",
       "next": "3f03b6f0-18f7-11eb-8a40-0242ac140004",
       "previous": "f7b63fa2-18f6-11eb-8a40-0242ac140004-1-bcb2"
      },
      {
       "current": "68738d4a-18f6-11eb-8a40-0242ac140004",
       "next": "68738f52-18f6-11eb-8a40-0242ac140004",
       "previous": "3f03b6f0-18f7-11eb-8a40-0242ac140004"
      },
      {
       "current": "68738d4a-18f6-11eb-8a40-0242ac140004",
       "next": "68738f52-18f6-11eb-8a40-0242ac140004",
       "previous": "e5663c76-18fb-11eb-8a40-0242ac140004"
      },
      {
       "current": "68738d4a-18f6-11eb-8a40-0242ac140004",
       "next": "e5663c76-18fb-11eb-8a40-0242ac140004",
       "previous": "e5663ba4-18fb-11eb-8a40-0242ac140004"
      }
     ],
     "next": "f7b63fa2-18f6-11eb-8a40-0242ac140004-1-bcb2",
     "previous": "8548ac2a-bdad-11e9-897b-0242ac130003-7-3ff0-a5ed-c160-4dcf-58ef-760f-cb80"
    },
    "lc_wrapper": {
     "log_history": [
      "/home/nagaku/notebooks/docker-handson/.log/20201028/20201028-082531-0319.log",
      "/home/nagaku/notebooks/docker-handson/.log/20201028/20201028-082648-0196.log",
      "/home/nagaku/notebooks/docker-handson/.log/20201028/20201028-093612-0955.log",
      "/home/nagaku/notebooks/docker-handson/.log/20201029/20201029-072857-0754.log",
      "/home/nagaku/notebooks/docker-handson/.log/20201029/20201029-072937-0080.log",
      "/home/nagaku/notebooks/docker-handson/.log/20201030/20201030-000331-0710.log",
      "/home/nagaku/notebooks/docker-handson/.log/20201030/20201030-004316-0301.log",
      "/home/nagaku/notebooks/docker-handson/.log/20201030/20201030-013304-0060.log",
      "/home/nagaku/notebooks/docker-handson/.log/20201030/20201030-062109-0643.log"
     ]
    },
    "pinned_outputs": [
     {
      "execution_count": 14,
      "outputs": [
       {
        "name": "stdout",
        "output_type": "stream",
        "text": "\u001b[0;33m172.31.63.5 | CHANGED => {\u001b[0m\r\n\u001b[0;33m    \"ansible_facts\": {\u001b[0m\r\n\u001b[0;33m        \"discovered_interpreter_python\": \"/usr/bin/python\"\u001b[0m\r\n\u001b[0;33m    },\u001b[0m\r\n\u001b[0;33m    \"changed\": true,\u001b[0m\r\n\u001b[0;33m    \"changes\": {\u001b[0m\r\n\u001b[0;33m        \"installed\": [],\u001b[0m\r\n\u001b[0;33m        \"updated\": [\u001b[0m\r\n\u001b[0;33m            [\u001b[0m\r\n\u001b[0;33m                \"python-urlgrabber\",\u001b[0m\r\n\u001b[0;33m                \"3.10-10.el7.noarch from base\"\u001b[0m\r\n\u001b[0;33m            ],\u001b[0m\r\n\u001b[0;33m            [\u001b[0m\r\n\u001b[0;33m                \"kexec-tools\",\u001b[0m\r\n\u001b[0;33m                \"2.0.15-43.el7.x86_64 from base\"\u001b[0m\r\n\u001b[0;33m            ],\u001b[0m\r\n\u001b[0;33m            [\u001b[0m\r\n\u001b[0;33m                \"rpm-build-libs\",\u001b[0m\r\n\u001b[0;33m                \"4.11.3-43.el7.x86_64 from base\"\u001b[0m\r\n\u001b[0;33m            ],\u001b[0m\r\n\u001b[0;33m            [\u001b[0m\r\n\u001b[0;33m                \"libsmartcols\",\u001b[0m\r\n\u001b[0;33m                \"2.23.2-63.el7.x86_64 from base\"\u001b[0m\r\n\u001b[0;33m            ],\u001b[0m\r\n\u001b[0;33m            [\u001b[0m\r\n\u001b[0;33m                \"rsyslog\",\u001b[0m\r\n\u001b[0;33m                \"8.24.0-52.el7_8.2.x86_64 from updates\"\u001b[0m\r\n\u001b[0;33m            ],\u001b[0m\r\n\u001b[0;33m            [\u001b[0m\r\n\u001b[0;33m                \"systemd\",\u001b[0m\r\n\u001b[0;33m                \"219-73.el7_8.9.x86_64 from updates\"\u001b[0m\r\n\u001b[0;33m            ],\u001b[0m\r\n\u001b[0;33m            [\u001b[0m\r\n\u001b[0;33m                \"util-linux\",\u001b[0m\r\n\u001b[0;33m                \"2.23.2-63.el7.x86_64 from base\"\u001b[0m\r\n\u001b[0;33m            ],\u001b[0m\r\n\u001b[0;33m            [\u001b[0m\r\n\u001b[0;33m                \"centos-release\",\u001b[0m\r\n\u001b[0;33m                \"7-8.2003.0.el7.centos.x86_64 from base\"\u001b[0m\r\n\u001b[0;33m            ],\u001b[0m\r\n\u001b[0;33m            [\u001b[0m\r\n\u001b[0;33m                \"policycoreutils-python\",\u001b[0m\r\n\u001b[0;33m                \"2.5-34.el7.x86_64 from base\"\u001b[0m\r\n\u001b[0;33m            ],\u001b[0m\r\n\u001b[0;33m            [\u001b[0m\r\n\u001b[0;33m                \"libacl\",\u001b[0m\r\n\u001b[0;33m                \"2.2.51-15.el7.x86_64 from base\"\u001b[0m\r\n\u001b[0;33m            ],\u001b[0m\r\n\u001b[0;33m            [\u001b[0m\r\n\u001b[0;33m                \"dracut-config-rescue\",\u001b[0m\r\n\u001b[0;33m                \"033-568.el7.x86_64 from base\"\u001b[0m\r\n\u001b[0;33m            ],\u001b[0m\r\n\u001b[0;33m            [\u001b[0m\r\n\u001b[0;33m                \"policycoreutils\",\u001b[0m\r\n\u001b[0;33m                \"2.5-34.el7.x86_64 from base\"\u001b[0m\r\n\u001b[0;33m            ],\u001b[0m\r\n\u001b[0;33m            [\u001b[0m\r\n\u001b[0;33m                \"iptables\",\u001b[0m\r\n\u001b[0;33m                \"1.4.21-34.el7.x86_64 from base\"\u001b[0m\r\n\u001b[0;33m            ],\u001b[0m\r\n\u001b[0;33m            [\u001b[0m\r\n\u001b[0;33m                \"grub2-pc\",\u001b[0m\r\n\u001b[0;33m                \"1:2.02-0.86.el7.centos.x86_64 from updates\"\u001b[0m\r\n\u001b[0;33m            ],\u001b[0m\r\n\u001b[0;33m            [\u001b[0m\r\n\u001b[0;33m                \"dbus-libs\",\u001b[0m\r\n\u001b[0;33m                \"1:1.10.24-14.el7_8.x86_64 from updates\"\u001b[0m\r\n\u001b[0;33m            ],\u001b[0m\r\n\u001b[0;33m            [\u001b[0m\r\n\u001b[0;33m                \"python\",\u001b[0m\r\n\u001b[0;33m                \"2.7.5-88.el7.x86_64 from base\"\u001b[0m\r\n\u001b[0;33m            ],\u001b[0m\r\n\u001b[0;33m            [\u001b[0m\r\n\u001b[0;33m                \"systemd-libs\",\u001b[0m\r\n\u001b[0;33m                \"219-73.el7_8.9.x86_64 from updates\"\u001b[0m\r\n\u001b[0;33m            ],\u001b[0m\r\n\u001b[0;33m            [\u001b[0m\r\n\u001b[0;33m                \"ca-certificates\",\u001b[0m\r\n\u001b[0;33m                \"2020.2.41-70.0.el7_8.noarch from updates\"\u001b[0m\r\n\u001b[0;33m            ],\u001b[0m\r\n\u001b[0;33m            [\u001b[0m\r\n\u001b[0;33m                \"libseccomp\",\u001b[0m\r\n\u001b[0;33m                \"2.3.1-4.el7.x86_64 from base\"\u001b[0m\r\n\u001b[0;33m            ],\u001b[0m\r\n\u001b[0;33m            [\u001b[0m\r\n\u001b[0;33m                \"selinux-policy\",\u001b[0m\r\n\u001b[0;33m                \"3.13.1-266.el7_8.1.noarch from updates\"\u001b[0m\r\n\u001b[0;33m            ],\u001b[0m\r\n\u001b[0;33m            [\u001b[0m\r\n\u001b[0;33m                \"dhclient\",\u001b[0m\r\n\u001b[0;33m                \"12:4.2.5-79.el7.centos.x86_64 from base\"\u001b[0m\r\n\u001b[0;33m            ],\u001b[0m\r\n\u001b[0;33m            [\u001b[0m\r\n\u001b[0;33m                \"libss\",\u001b[0m\r\n\u001b[0;33m                \"1.42.9-17.el7.x86_64 from base\"\u001b[0m\r\n\u001b[0;33m            ],\u001b[0m\r\n\u001b[0;33m            [\u001b[0m\r\n\u001b[0;33m                \"numactl-libs\",\u001b[0m\r\n\u001b[0;33m                \"2.0.12-5.el7.x86_64 from base\"\u001b[0m\r\n\u001b[0;33m            ],\u001b[0m\r\n\u001b[0;33m            [\u001b[0m\r\n\u001b[0;33m                \"dbus\",\u001b[0m\r\n\u001b[0;33m                \"1:1.10.24-14.el7_8.x86_64 from updates\"\u001b[0m\r\n\u001b[0;33m            ],\u001b[0m\r\n\u001b[0;33m            [\u001b[0m\r\n\u001b[0;33m                \"python-requests\",\u001b[0m\r\n\u001b[0;33m                \"2.6.0-9.el7_8.noarch from updates\"\u001b[0m\r\n\u001b[0;33m            ],\u001b[0m\r\n\u001b[0;33m            [\u001b[0m\r\n\u001b[0;33m                \"tuned\",\u001b[0m\r\n\u001b[0;33m                \"2.11.0-8.el7.noarch from base\"\u001b[0m\r\n\u001b[0;33m            ],\u001b[0m\r\n\u001b[0;33m            [\u001b[0m\r\n\u001b[0;33m                \"krb5-libs\",\u001b[0m\r\n\u001b[0;33m                \"1.15.1-46.el7.x86_64 from base\"\u001b[0m\r\n\u001b[0;33m            ],\u001b[0m\r\n\u001b[0;33m            [\u001b[0m\r\n\u001b[0;33m                \"teamd\",\u001b[0m\r\n\u001b[0;33m                \"1.29-1.el7.x86_64 from base\"\u001b[0m\r\n\u001b[0;33m            ],\u001b[0m\r\n\u001b[0;33m            [\u001b[0m\r\n\u001b[0;33m                \"python-libs\",\u001b[0m\r\n\u001b[0;33m                \"2.7.5-88.el7.x86_64 from base\"\u001b[0m\r\n\u001b[0;33m            ],\u001b[0m\r\n\u001b[0;33m            [\u001b[0m\r\n\u001b[0;33m                \"libselinux-utils\",\u001b[0m\r\n\u001b[0;33m                \"2.5-15.el7.x86_64 from base\"\u001b[0m\r\n\u001b[0;33m            ],\u001b[0m\r\n\u001b[0;33m            [\u001b[0m\r\n\u001b[0;33m                \"kernel\",\u001b[0m\r\n\u001b[0;33m                \"3.10.0-1127.19.1.el7.x86_64 from updates\"\u001b[0m\r\n\u001b[0;33m            ],\u001b[0m\r\n\u001b[0;33m            [\u001b[0m\r\n\u001b[0;33m                \"parted\",\u001b[0m\r\n\u001b[0;33m                \"3.1-32.el7.x86_64 from base\"\u001b[0m\r\n\u001b[0;33m            ],\u001b[0m\r\n\u001b[0;33m            [\u001b[0m\r\n\u001b[0;33m                \"rpcbind\",\u001b[0m\r\n\u001b[0;33m                \"0.2.0-49.el7.x86_64 from base\"\u001b[0m\r\n\u001b[0;33m            ],\u001b[0m\r\n\u001b[0;33m            [\u001b[0m\r\n\u001b[0;33m                \"libblkid\",\u001b[0m\r\n\u001b[0;33m                \"2.23.2-63.el7.x86_64 from base\"\u001b[0m\r\n\u001b[0;33m            ],\u001b[0m\r\n\u001b[0;33m            [\u001b[0m\r\n\u001b[0;33m                \"grub2-common\",\u001b[0m\r\n\u001b[0;33m                \"1:2.02-0.86.el7.centos.noarch from updates\"\u001b[0m\r\n\u001b[0;33m            ],\u001b[0m\r\n\u001b[0;33m            [\u001b[0m\r\n\u001b[0;33m                \"sed\",\u001b[0m\r\n\u001b[0;33m                \"4.2.2-6.el7.x86_64 from base\"\u001b[0m\r\n\u001b[0;33m            ],\u001b[0m\r\n\u001b[0;33m            [\u001b[0m\r\n\u001b[0;33m                \"cryptsetup-libs\",\u001b[0m\r\n\u001b[0;33m                \"2.0.3-6.el7.x86_64 from base\"\u001b[0m\r\n\u001b[0;33m            ],\u001b[0m\r\n\u001b[0;33m            [\u001b[0m\r\n\u001b[0;33m                \"gettext-libs\",\u001b[0m\r\n\u001b[0;33m                \"0.19.8.1-3.el7.x86_64 from base\"\u001b[0m\r\n\u001b[0;33m            ],\u001b[0m\r\n\u001b[0;33m            [\u001b[0m\r\n\u001b[0;33m                \"kmod\",\u001b[0m\r\n\u001b[0;33m                \"20-28.el7.x86_64 from base\"\u001b[0m\r\n\u001b[0;33m            ],\u001b[0m\r\n\u001b[0;33m            [\u001b[0m\r\n\u001b[0;33m                \"rsync\",\u001b[0m\r\n\u001b[0;33m                \"3.1.2-10.el7.x86_64 from base\"\u001b[0m\r\n\u001b[0;33m            ],\u001b[0m\r\n\u001b[0;33m            [\u001b[0m\r\n\u001b[0;33m                \"hwdata\",\u001b[0m\r\n\u001b[0;33m                \"0.252-9.5.el7.x86_64 from base\"\u001b[0m\r\n\u001b[0;33m            ],\u001b[0m\r\n\u001b[0;33m            [\u001b[0m\r\n\u001b[0;33m                \"glibc\",\u001b[0m\r\n\u001b[0;33m                \"2.17-307.el7.1.x86_64 from base\"\u001b[0m\r\n\u001b[0;33m            ],\u001b[0m\r\n\u001b[0;33m            [\u001b[0m\r\n\u001b[0;33m                \"device-mapper\",\u001b[0m\r\n\u001b[0;33m                \"7:1.02.164-7.el7_8.2.x86_64 from updates\"\u001b[0m\r\n\u001b[0;33m            ],\u001b[0m\r\n\u001b[0;33m            [\u001b[0m\r\n\u001b[0;33m                \"kpartx\",\u001b[0m\r\n\u001b[0;33m                \"0.4.9-131.el7.x86_64 from base\"\u001b[0m\r\n\u001b[0;33m            ],\u001b[0m\r\n\u001b[0;33m            [\u001b[0m\r\n\u001b[0;33m                \"dracut-config-generic\",\u001b[0m\r\n\u001b[0;33m                \"033-568.el7.x86_64 from base\"\u001b[0m\r\n\u001b[0;33m            ],\u001b[0m\r\n\u001b[0;33m            [\u001b[0m\r\n\u001b[0;33m                \"systemd-sysv\",\u001b[0m\r\n\u001b[0;33m                \"219-73.el7_8.9.x86_64 from updates\"\u001b[0m\r\n\u001b[0;33m            ],\u001b[0m\r\n\u001b[0;33m            [\u001b[0m\r\n\u001b[0;33m                \"kmod-libs\",\u001b[0m\r\n\u001b[0;33m                \"20-28.el7.x86_64 from base\"\u001b[0m\r\n\u001b[0;33m            ],\u001b[0m\r\n\u001b[0;33m            [\u001b[0m\r\n\u001b[0;33m                \"kernel-tools\",\u001b[0m\r\n\u001b[0;33m                \"3.10.0-1127.19.1.el7.x86_64 from updates\"\u001b[0m\r\n\u001b[0;33m            ],\u001b[0m\r\n\u001b[0;33m            [\u001b[0m\r\n\u001b[0;33m                \"bash\",\u001b[0m\r\n\u001b[0;33m                \"4.2.46-34.el7.x86_64 from base\"\u001b[0m\r\n\u001b[0;33m            ],\u001b[0m\r\n\u001b[0;33m            [\u001b[0m\r\n\u001b[0;33m                \"glibc-common\",\u001b[0m\r\n\u001b[0;33m                \"2.17-307.el7.1.x86_64 from base\"\u001b[0m\r\n\u001b[0;33m            ],\u001b[0m\r\n\u001b[0;33m            [\u001b[0m\r\n\u001b[0;33m                \"elfutils-libs\",\u001b[0m\r\n\u001b[0;33m                \"0.176-4.el7.x86_64 from base\"\u001b[0m\r\n\u001b[0;33m            ],\u001b[0m\r\n\u001b[0;33m            [\u001b[0m\r\n\u001b[0;33m                \"libuuid\",\u001b[0m\r\n\u001b[0;33m                \"2.23.2-63.el7.x86_64 from base\"\u001b[0m\r\n\u001b[0;33m            ],\u001b[0m\r\n\u001b[0;33m            [\u001b[0m\r\n\u001b[0;33m                \"dhcp-common\",\u001b[0m\r\n\u001b[0;33m                \"12:4.2.5-79.el7.centos.x86_64 from base\"\u001b[0m\r\n\u001b[0;33m            ],\u001b[0m\r\n\u001b[0;33m            [\u001b[0m\r\n\u001b[0;33m                \"acl\",\u001b[0m\r\n\u001b[0;33m                \"2.2.51-15.el7.x86_64 from base\"\u001b[0m\r\n\u001b[0;33m            ],\u001b[0m\r\n\u001b[0;33m            [\u001b[0m\r\n\u001b[0;33m                \"libmount\",\u001b[0m\r\n\u001b[0;33m                \"2.23.2-63.el7.x86_64 from base\"\u001b[0m\r\n\u001b[0;33m            ],\u001b[0m\r\n\u001b[0;33m            [\u001b[0m\r\n\u001b[0;33m                \"yum\",\u001b[0m\r\n\u001b[0;33m                \"3.4.3-167.el7.centos.noarch from base\"\u001b[0m\r\n\u001b[0;33m            ],\u001b[0m\r\n\u001b[0;33m            [\u001b[0m\r\n\u001b[0;33m                \"cloud-init\",\u001b[0m\r\n\u001b[0;33m                \"18.5-6.el7.centos.5.x86_64 from updates\"\u001b[0m\r\n\u001b[0;33m            ],\u001b[0m\r\n\u001b[0;33m            [\u001b[0m\r\n\u001b[0;33m                \"e2fsprogs-libs\",\u001b[0m\r\n\u001b[0;33m                \"1.42.9-17.el7.x86_64 from base\"\u001b[0m\r\n\u001b[0;33m            ],\u001b[0m\r\n\u001b[0;33m            [\u001b[0m\r\n\u001b[0;33m                \"mariadb-libs\",\u001b[0m\r\n\u001b[0;33m                \"1:5.5.65-1.el7.x86_64 from base\"\u001b[0m\r\n\u001b[0;33m            ],\u001b[0m\r\n\u001b[0;33m            [\u001b[0m\r\n\u001b[0;33m                \"binutils\",\u001b[0m\r\n\u001b[0;33m                \"2.27-43.base.el7_8.1.x86_64 from updates\"\u001b[0m\r\n\u001b[0;33m            ],\u001b[0m\r\n\u001b[0;33m            [\u001b[0m\r\n\u001b[0;33m                \"bind-export-libs\",\u001b[0m\r\n\u001b[0;33m                \"32:9.11.4-16.P2.el7_8.6.x86_64 from updates\"\u001b[0m\r\n\u001b[0;33m            ],\u001b[0m\r\n\u001b[0;33m            [\u001b[0m\r\n\u001b[0;33m                \"gssproxy\",\u001b[0m\r\n\u001b[0;33m                \"0.7.0-28.el7.x86_64 from base\"\u001b[0m\r\n\u001b[0;33m            ],\u001b[0m\r\n\u001b[0;33m            [\u001b[0m\r\n\u001b[0;33m                \"file-libs\",\u001b[0m\r\n\u001b[0;33m                \"5.11-36.el7.x86_64 from base\"\u001b[0m\r\n\u001b[0;33m            ],\u001b[0m\r\n\u001b[0;33m            [\u001b[0m\r\n\u001b[0;33m                \"lshw\",\u001b[0m\r\n\u001b[0;33m                \"B.02.18-14.el7.x86_64 from base\"\u001b[0m\r\n\u001b[0;33m            ],\u001b[0m\r\n\u001b[0;33m            [\u001b[0m\r\n\u001b[0;33m                \"grub2-tools\",\u001b[0m\r\n\u001b[0;33m                \"1:2.02-0.86.el7.centos.x86_64 from updates\"\u001b[0m\r\n\u001b[0;33m            ],\u001b[0m\r\n\u001b[0;33m            [\u001b[0m\r\n\u001b[0;33m                \"sg3_utils-libs\",\u001b[0m\r\n\u001b[0;33m                \"1:1.37-19.el7.x86_64 from base\"\u001b[0m\r\n\u001b[0;33m            ],\u001b[0m\r\n\u001b[0;33m            [\u001b[0m\r\n\u001b[0;33m                \"shared-mime-info\",\u001b[0m\r\n\u001b[0;33m                \"1.8-5.el7.x86_64 from base\"\u001b[0m\r\n\u001b[0;33m            ],\u001b[0m\r\n\u001b[0;33m            [\u001b[0m\r\n\u001b[0;33m                \"iwl7260-firmware\",\u001b[0m\r\n\u001b[0;33m                \"25.30.13.0-76.el7.noarch from base\"\u001b[0m\r\n\u001b[0;33m            ],\u001b[0m\r\n\u001b[0;33m            [\u001b[0m\r\n\u001b[0;33m                \"rpm\",\u001b[0m\r\n\u001b[0;33m                \"4.11.3-43.el7.x86_64 from base\"\u001b[0m\r\n\u001b[0;33m            ],\u001b[0m\r\n\u001b[0;33m            [\u001b[0m\r\n\u001b[0;33m                \"grub2\",\u001b[0m\r\n\u001b[0;33m                \"1:2.02-0.86.el7.centos.x86_64 from updates\"\u001b[0m\r\n\u001b[0;33m            ],\u001b[0m\r\n\u001b[0;33m            [\u001b[0m\r\n\u001b[0;33m                \"python-perf\",\u001b[0m\r\n\u001b[0;33m                \"3.10.0-1127.19.1.el7.x86_64 from updates\"\u001b[0m\r\n\u001b[0;33m            ],\u001b[0m\r\n\u001b[0;33m            [\u001b[0m\r\n\u001b[0;33m                \"libteam\",\u001b[0m\r\n\u001b[0;33m                \"1.29-1.el7.x86_64 from base\"\u001b[0m\r\n\u001b[0;33m            ],\u001b[0m\r\n\u001b[0;33m            [\u001b[0m\r\n\u001b[0;33m                \"tzdata\",\u001b[0m\r\n\u001b[0;33m                \"2020a-1.el7.noarch from updates\"\u001b[0m\r\n\u001b[0;33m            ],\u001b[0m\r\n\u001b[0;33m            [\u001b[0m\r\n\u001b[0;33m                \"grub2-pc-modules\",\u001b[0m\r\n\u001b[0;33m                \"1:2.02-0.86.el7.centos.noarch from updates\"\u001b[0m\r\n\u001b[0;33m            ],\u001b[0m\r\n\u001b[0;33m            [\u001b[0m\r\n\u001b[0;33m                \"microcode_ctl\",\u001b[0m\r\n\u001b[0;33m                \"2:2.1-61.10.el7_8.x86_64 from updates\"\u001b[0m\r\n\u001b[0;33m            ],\u001b[0m\r\n\u001b[0;33m            [\u001b[0m\r\n\u001b[0;33m                \"libselinux-python\",\u001b[0m\r\n\u001b[0;33m                \"2.5-15.el7.x86_64 from base\"\u001b[0m\r\n\u001b[0;33m            ],\u001b[0m\r\n\u001b[0;33m            [\u001b[0m\r\n\u001b[0;33m                \"dracut\",\u001b[0m\r\n\u001b[0;33m                \"033-568.el7.x86_64 from base\"\u001b[0m\r\n\u001b[0;33m            ],\u001b[0m\r\n\u001b[0;33m            [\u001b[0m\r\n\u001b[0;33m                \"procps-ng\",\u001b[0m\r\n\u001b[0;33m                \"3.3.10-27.el7.x86_64 from base\"\u001b[0m\r\n\u001b[0;33m            ],\u001b[0m\r\n\u001b[0;33m            [\u001b[0m\r\n\u001b[0;33m                \"grub2-tools-extra\",\u001b[0m\r\n\u001b[0;33m                \"1:2.02-0.86.el7.centos.x86_64 from updates\"\u001b[0m\r\n\u001b[0;33m            ],\u001b[0m\r\n\u001b[0;33m            [\u001b[0m\r\n\u001b[0;33m                \"expat\",\u001b[0m\r\n\u001b[0;33m                \"2.1.0-11.el7.x86_64 from base\"\u001b[0m\r\n\u001b[0;33m            ],\u001b[0m\r\n\u001b[0;33m            [\u001b[0m\r\n\u001b[0;33m                \"nfs-utils\",\u001b[0m\r\n\u001b[0;33m                \"1:1.3.0-0.66.el7_8.x86_64 from updates\"\u001b[0m\r\n\u001b[0;33m            ],\u001b[0m\r\n\u001b[0;33m            [\u001b[0m\r\n\u001b[0;33m                \"yum-plugin-fastestmirror\",\u001b[0m\r\n\u001b[0;33m                \"1.1.31-54.el7_8.noarch from updates\"\u001b[0m\r\n\u001b[0;33m            ],\u001b[0m\r\n\u001b[0;33m            [\u001b[0m\r\n\u001b[0;33m                \"dhcp-libs\",\u001b[0m\r\n\u001b[0;33m                \"12:4.2.5-79.el7.centos.x86_64 from base\"\u001b[0m\r\n\u001b[0;33m            ],\u001b[0m\r\n\u001b[0;33m            [\u001b[0m\r\n\u001b[0;33m                \"setup\",\u001b[0m\r\n\u001b[0;33m                \"2.8.71-11.el7.noarch from base\"\u001b[0m\r\n\u001b[0;33m            ],\u001b[0m\r\n\u001b[0;33m            [\u001b[0m\r\n\u001b[0;33m                \"kernel-tools-libs\",\u001b[0m\r\n\u001b[0;33m                \"3.10.0-1127.19.1.el7.x86_64 from updates\"\u001b[0m\r\n\u001b[0;33m            ],\u001b[0m\r\n\u001b[0;33m            [\u001b[0m\r\n\u001b[0;33m                \"initscripts\",\u001b[0m\r\n\u001b[0;33m                \"9.49.49-1.el7.x86_64 from base\"\u001b[0m\r\n\u001b[0;33m            ],\u001b[0m\r\n\u001b[0;33m            [\u001b[0m\r\n\u001b[0;33m                \"libxml2-python\",\u001b[0m\r\n\u001b[0;33m                \"2.9.1-6.el7.4.x86_64 from base\"\u001b[0m\r\n\u001b[0;33m            ],\u001b[0m\r\n\u001b[0;33m            [\u001b[0m\r\n\u001b[0;33m                \"libselinux\",\u001b[0m\r\n\u001b[0;33m                \"2.5-15.el7.x86_64 from base\"\u001b[0m\r\n\u001b[0;33m            ],\u001b[0m\r\n\u001b[0;33m            [\u001b[0m\r\n\u001b[0;33m                \"libxml2\",\u001b[0m\r\n\u001b[0;33m                \"2.9.1-6.el7.4.x86_64 from base\"\u001b[0m\r\n\u001b[0;33m            ],\u001b[0m\r\n\u001b[0;33m            [\u001b[0m\r\n\u001b[0;33m                \"sudo\",\u001b[0m\r\n\u001b[0;33m                \"1.8.23-9.el7.x86_64 from base\"\u001b[0m\r\n\u001b[0;33m            ],\u001b[0m\r\n\u001b[0;33m            [\u001b[0m\r\n\u001b[0;33m                \"logrotate\",\u001b[0m\r\n\u001b[0;33m                \"3.8.6-19.el7.x86_64 from base\"\u001b[0m\r\n\u001b[0;33m            ],\u001b[0m\r\n\u001b[0;33m            [\u001b[0m\r\n\u001b[0;33m                \"selinux-policy-targeted\",\u001b[0m\r\n\u001b[0;33m                \"3.13.1-266.el7_8.1.noarch from updates\"\u001b[0m\r\n\u001b[0;33m            ],\u001b[0m\r\n\u001b[0;33m            [\u001b[0m\r\n\u001b[0;33m                \"file\",\u001b[0m\r\n\u001b[0;33m                \"5.11-36.el7.x86_64 from base\"\u001b[0m\r\n\u001b[0;33m            ],\u001b[0m\r\n\u001b[0;33m            [\u001b[0m\r\n\u001b[0;33m                \"curl\",\u001b[0m\r\n\u001b[0;33m                \"7.29.0-57.el7_8.1.x86_64 from updates\"\u001b[0m\r\n\u001b[0;33m            ],\u001b[0m\r\n\u001b[0;33m            [\u001b[0m\r\n\u001b[0;33m                \"libcurl\",\u001b[0m\r\n\u001b[0;33m                \"7.29.0-57.el7_8.1.x86_64 from updates\"\u001b[0m\r\n\u001b[0;33m            ],\u001b[0m\r\n\u001b[0;33m            [\u001b[0m\r\n\u001b[0;33m                \"dracut-network\",\u001b[0m\r\n\u001b[0;33m                \"033-568.el7.x86_64 from base\"\u001b[0m\r\n\u001b[0;33m            ],\u001b[0m\r\n\u001b[0;33m            [\u001b[0m\r\n\u001b[0;33m                \"gettext\",\u001b[0m\r\n\u001b[0;33m                \"0.19.8.1-3.el7.x86_64 from base\"\u001b[0m\r\n\u001b[0;33m            ],\u001b[0m\r\n\u001b[0;33m            [\u001b[0m\r\n\u001b[0;33m                \"elfutils-libelf\",\u001b[0m\r\n\u001b[0;33m                \"0.176-4.el7.x86_64 from base\"\u001b[0m\r\n\u001b[0;33m            ],\u001b[0m\r\n\u001b[0;33m            [\u001b[0m\r\n\u001b[0;33m                \"libcap\",\u001b[0m\r\n\u001b[0;33m                \"2.22-11.el7.x86_64 from base\"\u001b[0m\r\n\u001b[0;33m            ],\u001b[0m\r\n\u001b[0;33m            [\u001b[0m\r\n\u001b[0;33m                \"pam\",\u001b[0m\r\n\u001b[0;33m                \"1.1.8-23.el7.x86_64 from base\"\u001b[0m\r\n\u001b[0;33m            ],\u001b[0m\r\n\u001b[0;33m            [\u001b[0m\r\n\u001b[0;33m                \"passwd\",\u001b[0m\r\n\u001b[0;33m                \"0.79-6.el7.x86_64 from base\"\u001b[0m\r\n\u001b[0;33m            ],\u001b[0m\r\n\u001b[0;33m            [\u001b[0m\r\n\u001b[0;33m                \"yum-utils\",\u001b[0m\r\n\u001b[0;33m                \"1.1.31-54.el7_8.noarch from updates\"\u001b[0m\r\n\u001b[0;33m            ],\u001b[0m\r\n\u001b[0;33m            [\u001b[0m\r\n\u001b[0;33m                \"device-mapper-libs\",\u001b[0m\r\n\u001b[0;33m                \"7:1.02.164-7.el7_8.2.x86_64 from updates\"\u001b[0m\r\n\u001b[0;33m            ],\u001b[0m\r\n\u001b[0;33m            [\u001b[0m\r\n\u001b[0;33m                \"polkit\",\u001b[0m\r\n\u001b[0;33m                \"0.112-26.el7.x86_64 from base\"\u001b[0m\r\n\u001b[0;33m            ],\u001b[0m\r\n\u001b[0;33m            [\u001b[0m\r\n\u001b[0;33m                \"rpm-python\",\u001b[0m\r\n\u001b[0;33m                \"4.11.3-43.el7.x86_64 from base\"\u001b[0m\r\n\u001b[0;33m            ],\u001b[0m\r\n\u001b[0;33m            [\u001b[0m\r\n\u001b[0;33m                \"libffi\",\u001b[0m\r\n\u001b[0;33m                \"3.0.13-19.el7.x86_64 from base\"\u001b[0m\r\n\u001b[0;33m            ],\u001b[0m\r\n\u001b[0;33m            [\u001b[0m\r\n\u001b[0;33m                \"rpm-libs\",\u001b[0m\r\n\u001b[0;33m                \"4.11.3-43.el7.x86_64 from base\"\u001b[0m\r\n\u001b[0;33m            ],\u001b[0m\r\n\u001b[0;33m            [\u001b[0m\r\n\u001b[0;33m                \"postfix\",\u001b[0m\r\n\u001b[0;33m                \"2:2.10.1-9.el7.x86_64 from base\"\u001b[0m\r\n\u001b[0;33m            ],\u001b[0m\r\n\u001b[0;33m            [\u001b[0m\r\n\u001b[0;33m                \"sg3_utils\",\u001b[0m\r\n\u001b[0;33m                \"1:1.37-19.el7.x86_64 from base\"\u001b[0m\r\n\u001b[0;33m            ],\u001b[0m\r\n\u001b[0;33m            [\u001b[0m\r\n\u001b[0;33m                \"libcom_err\",\u001b[0m\r\n\u001b[0;33m                \"1.42.9-17.el7.x86_64 from base\"\u001b[0m\r\n\u001b[0;33m            ],\u001b[0m\r\n\u001b[0;33m            [\u001b[0m\r\n\u001b[0;33m                \"e2fsprogs\",\u001b[0m\r\n\u001b[0;33m                \"1.42.9-17.el7.x86_64 from base\"\u001b[0m\r\n\u001b[0;33m            ],\u001b[0m\r\n\u001b[0;33m            [\u001b[0m\r\n\u001b[0;33m                \"grub2-tools-minimal\",\u001b[0m\r\n\u001b[0;33m                \"1:2.02-0.86.el7.centos.x86_64 from updates\"\u001b[0m\r\n\u001b[0;33m            ],\u001b[0m\r\n\u001b[0;33m            [\u001b[0m\r\n\u001b[0;33m                \"elfutils-default-yama-scope\",\u001b[0m\r\n\u001b[0;33m                \"0.176-4.el7.noarch from base\"\u001b[0m\r\n\u001b[0;33m            ]\u001b[0m\r\n\u001b[0;33m        ]\u001b[0m\r\n\u001b[0;33m    },\u001b[0m\r\n\u001b[0;33m    \"msg\": \"warning: /var/cache/yum/x86_64/7/base/packages/acl-2.2.51-15.el7.x86_64.rpm: Header V3 RSA/SHA256 Signature, key ID f4a80eb5: NOKEY\\nImporting GPG key 0xF4A80EB5:\\n Userid     : \\\"CentOS-7 Key (CentOS 7 Official Signing Key) <security@centos.org>\\\"\\n Fingerprint: 6341 ab27 53d7 8a78 a7c2 7bb1 24c6 a8a7 f4a8 0eb5\\n Package    : centos-release-7-7.1908.0.el7.centos.x86_64 (installed)\\n From       : /etc/pki/rpm-gpg/RPM-GPG-KEY-CentOS-7\\n\",\u001b[0m\r\n\u001b[0;33m    \"obsoletes\": {\u001b[0m\r\n\u001b[0;33m        \"iwl7265-firmware\": {\u001b[0m\r\n\u001b[0;33m            \"dist\": \"noarch\",\u001b[0m\r\n\u001b[0;33m            \"repo\": \"installed\",\u001b[0m\r\n\u001b[0;33m            \"version\": \"22.0.7.0-72.el7\"\u001b[0m\r\n\u001b[0;33m        }\u001b[0m\r\n\u001b[0;33m    },\u001b[0m\r\n\u001b[0;33m    \"rc\": 0,\u001b[0m\r\n\u001b[0;33m    \"results\": [\u001b[0m\r\n\u001b[0;33m        \"Loaded plugins: fastestmirror\\nLoading mirror speeds from cached hostfile\\n * base: d36uatko69830t.cloudfront.net\\n * extras: d36uatko69830t.cloudfront.net\\n * updates: d36uatko69830t.cloudfront.net\\nResolving Dependencies\\n--> Running transaction check\\n---> Package acl.x86_64 0:2.2.51-14.el7 will be updated\\n---> Package acl.x86_64 0:2.2.51-15.el7 will be an update\\n---> Package bash.x86_64 0:4.2.46-33.el7 will be updated\\n---> Package bash.x86_64 0:4.2.46-34.el7 will be an update\\n---> Package bind-export-libs.x86_64 32:9.11.4-9.P2.el7 will be updated\\n---> Package bind-export-libs.x86_64 32:9.11.4-16.P2.el7_8.6 will be an update\\n---> Package binutils.x86_64 0:2.27-41.base.el7_7.2 will be updated\\n---> Package binutils.x86_64 0:2.27-43.base.el7_8.1 will be an update\\n---> Package ca-certificates.noarch 0:2019.2.32-76.el7_7 will be updated\\n---> Package ca-certificates.noarch 0:2020.2.41-70.0.el7_8 will be an update\\n---> Package centos-release.x86_64 0:7-7.1908.0.el7.centos will be updated\\n---> Package centos-release.x86_64 0:7-8.2003.0.el7.centos will be an update\\n---> Package cloud-init.x86_64 0:18.5-3.el7.centos will be updated\\n---> Package cloud-init.x86_64 0:18.5-6.el7.centos.5 will be an update\\n---> Package cryptsetup-libs.x86_64 0:2.0.3-5.el7 will be updated\\n---> Package cryptsetup-libs.x86_64 0:2.0.3-6.el7 will be an update\\n---> Package curl.x86_64 0:7.29.0-54.el7_7.2 will be updated\\n---> Package curl.x86_64 0:7.29.0-57.el7_8.1 will be an update\\n---> Package dbus.x86_64 1:1.10.24-13.el7_6 will be updated\\n---> Package dbus.x86_64 1:1.10.24-14.el7_8 will be an update\\n---> Package dbus-libs.x86_64 1:1.10.24-13.el7_6 will be updated\\n---> Package dbus-libs.x86_64 1:1.10.24-14.el7_8 will be an update\\n---> Package device-mapper.x86_64 7:1.02.158-2.el7_7.2 will be updated\\n---> Package device-mapper.x86_64 7:1.02.164-7.el7_8.2 will be an update\\n---> Package device-mapper-libs.x86_64 7:1.02.158-2.el7_7.2 will be updated\\n---> Package device-mapper-libs.x86_64 7:1.02.164-7.el7_8.2 will be an update\\n---> Package dhclient.x86_64 12:4.2.5-77.el7.centos will be updated\\n---> Package dhclient.x86_64 12:4.2.5-79.el7.centos will be an update\\n---> Package dhcp-common.x86_64 12:4.2.5-77.el7.centos will be updated\\n---> Package dhcp-common.x86_64 12:4.2.5-79.el7.centos will be an update\\n---> Package dhcp-libs.x86_64 12:4.2.5-77.el7.centos will be updated\\n---> Package dhcp-libs.x86_64 12:4.2.5-79.el7.centos will be an update\\n---> Package dracut.x86_64 0:033-564.el7 will be updated\\n---> Package dracut.x86_64 0:033-568.el7 will be an update\\n---> Package dracut-config-generic.x86_64 0:033-564.el7 will be updated\\n---> Package dracut-config-generic.x86_64 0:033-568.el7 will be an update\\n---> Package dracut-config-rescue.x86_64 0:033-564.el7 will be updated\\n---> Package dracut-config-rescue.x86_64 0:033-568.el7 will be an update\\n---> Package dracut-network.x86_64 0:033-564.el7 will be updated\\n---> Package dracut-network.x86_64 0:033-568.el7 will be an update\\n---> Package e2fsprogs.x86_64 0:1.42.9-16.el7 will be updated\\n---> Package e2fsprogs.x86_64 0:1.42.9-17.el7 will be an update\\n---> Package e2fsprogs-libs.x86_64 0:1.42.9-16.el7 will be updated\\n---> Package e2fsprogs-libs.x86_64 0:1.42.9-17.el7 will be an update\\n---> Package elfutils-default-yama-scope.noarch 0:0.176-2.el7 will be updated\\n---> Package elfutils-default-yama-scope.noarch 0:0.176-4.el7 will be an update\\n---> Package elfutils-libelf.x86_64 0:0.176-2.el7 will be updated\\n---> Package elfutils-libelf.x86_64 0:0.176-4.el7 will be an update\\n---> Package elfutils-libs.x86_64 0:0.176-2.el7 will be updated\\n---> Package elfutils-libs.x86_64 0:0.176-4.el7 will be an update\\n---> Package expat.x86_64 0:2.1.0-10.el7_3 will be updated\\n---> Package expat.x86_64 0:2.1.0-11.el7 will be an update\\n---> Package file.x86_64 0:5.11-35.el7 will be updated\\n---> Package file.x86_64 0:5.11-36.el7 will be an update\\n---> Package file-libs.x86_64 0:5.11-35.el7 will be updated\\n---> Package file-libs.x86_64 0:5.11-36.el7 will be an update\\n---> Package gettext.x86_64 0:0.19.8.1-2.el7 will be updated\\n---> Package gettext.x86_64 0:0.19.8.1-3.el7 will be an update\\n---> Package gettext-libs.x86_64 0:0.19.8.1-2.el7 will be updated\\n---> Package gettext-libs.x86_64 0:0.19.8.1-3.el7 will be an update\\n---> Package glibc.x86_64 0:2.17-292.el7 will be updated\\n---> Package glibc.x86_64 0:2.17-307.el7.1 will be an update\\n---> Package glibc-common.x86_64 0:2.17-292.el7 will be updated\\n---> Package glibc-common.x86_64 0:2.17-307.el7.1 will be an update\\n---> Package grub2.x86_64 1:2.02-0.80.el7.centos will be updated\\n---> Package grub2.x86_64 1:2.02-0.86.el7.centos will be an update\\n---> Package grub2-common.noarch 1:2.02-0.80.el7.centos will be updated\\n---> Package grub2-common.noarch 1:2.02-0.86.el7.centos will be an update\\n---> Package grub2-pc.x86_64 1:2.02-0.80.el7.centos will be updated\\n---> Package grub2-pc.x86_64 1:2.02-0.86.el7.centos will be an update\\n---> Package grub2-pc-modules.noarch 1:2.02-0.80.el7.centos will be updated\\n---> Package grub2-pc-modules.noarch 1:2.02-0.86.el7.centos will be an update\\n---> Package grub2-tools.x86_64 1:2.02-0.80.el7.centos will be updated\\n---> Package grub2-tools.x86_64 1:2.02-0.86.el7.centos will be an update\\n---> Package grub2-tools-extra.x86_64 1:2.02-0.80.el7.centos will be updated\\n---> Package grub2-tools-extra.x86_64 1:2.02-0.86.el7.centos will be an update\\n---> Package grub2-tools-minimal.x86_64 1:2.02-0.80.el7.centos will be updated\\n---> Package grub2-tools-minimal.x86_64 1:2.02-0.86.el7.centos will be an update\\n---> Package gssproxy.x86_64 0:0.7.0-26.el7 will be updated\\n---> Package gssproxy.x86_64 0:0.7.0-28.el7 will be an update\\n---> Package hwdata.x86_64 0:0.252-9.3.el7 will be updated\\n---> Package hwdata.x86_64 0:0.252-9.5.el7 will be an update\\n---> Package initscripts.x86_64 0:9.49.47-1.el7 will be updated\\n---> Package initscripts.x86_64 0:9.49.49-1.el7 will be an update\\n---> Package iptables.x86_64 0:1.4.21-33.el7 will be updated\\n---> Package iptables.x86_64 0:1.4.21-34.el7 will be an update\\n---> Package iwl7260-firmware.noarch 0:25.30.13.0-76.el7 will be obsoleting\\n---> Package iwl7265-firmware.noarch 0:22.0.7.0-72.el7 will be obsoleted\\n---> Package kernel.x86_64 0:3.10.0-1127.19.1.el7 will be installed\\n--> Processing Dependency: linux-firmware >= 20190429-72 for package: kernel-3.10.0-1127.19.1.el7.x86_64\\n---> Package kernel-tools.x86_64 0:3.10.0-1062.12.1.el7 will be updated\\n---> Package kernel-tools.x86_64 0:3.10.0-1127.19.1.el7 will be an update\\n---> Package kernel-tools-libs.x86_64 0:3.10.0-1062.12.1.el7 will be updated\\n---> Package kernel-tools-libs.x86_64 0:3.10.0-1127.19.1.el7 will be an update\\n---> Package kexec-tools.x86_64 0:2.0.15-33.el7 will be updated\\n---> Package kexec-tools.x86_64 0:2.0.15-43.el7 will be an update\\n---> Package kmod.x86_64 0:20-25.el7 will be updated\\n---> Package kmod.x86_64 0:20-28.el7 will be an update\\n---> Package kmod-libs.x86_64 0:20-25.el7 will be updated\\n---> Package kmod-libs.x86_64 0:20-28.el7 will be an update\\n---> Package kpartx.x86_64 0:0.4.9-127.el7 will be updated\\n---> Package kpartx.x86_64 0:0.4.9-131.el7 will be an update\\n---> Package krb5-libs.x86_64 0:1.15.1-37.el7_7.2 will be updated\\n---> Package krb5-libs.x86_64 0:1.15.1-46.el7 will be an update\\n---> Package libacl.x86_64 0:2.2.51-14.el7 will be updated\\n---> Package libacl.x86_64 0:2.2.51-15.el7 will be an update\\n---> Package libblkid.x86_64 0:2.23.2-61.el7_7.1 will be updated\\n---> Package libblkid.x86_64 0:2.23.2-63.el7 will be an update\\n---> Package libcap.x86_64 0:2.22-10.el7 will be updated\\n---> Package libcap.x86_64 0:2.22-11.el7 will be an update\\n---> Package libcom_err.x86_64 0:1.42.9-16.el7 will be updated\\n---> Package libcom_err.x86_64 0:1.42.9-17.el7 will be an update\\n---> Package libcurl.x86_64 0:7.29.0-54.el7_7.2 will be updated\\n---> Package libcurl.x86_64 0:7.29.0-57.el7_8.1 will be an update\\n---> Package libffi.x86_64 0:3.0.13-18.el7 will be updated\\n---> Package libffi.x86_64 0:3.0.13-19.el7 will be an update\\n---> Package libmount.x86_64 0:2.23.2-61.el7_7.1 will be updated\\n---> Package libmount.x86_64 0:2.23.2-63.el7 will be an update\\n---> Package libseccomp.x86_64 0:2.3.1-3.el7 will be updated\\n---> Package libseccomp.x86_64 0:2.3.1-4.el7 will be an update\\n---> Package libselinux.x86_64 0:2.5-14.1.el7 will be updated\\n---> Package libselinux.x86_64 0:2.5-15.el7 will be an update\\n---> Package libselinux-python.x86_64 0:2.5-14.1.el7 will be updated\\n---> Package libselinux-python.x86_64 0:2.5-15.el7 will be an update\\n---> Package libselinux-utils.x86_64 0:2.5-14.1.el7 will be updated\\n---> Package libselinux-utils.x86_64 0:2.5-15.el7 will be an update\\n---> Package libsmartcols.x86_64 0:2.23.2-61.el7_7.1 will be updated\\n---> Package libsmartcols.x86_64 0:2.23.2-63.el7 will be an update\\n---> Package libss.x86_64 0:1.42.9-16.el7 will be updated\\n---> Package libss.x86_64 0:1.42.9-17.el7 will be an update\\n---> Package libteam.x86_64 0:1.27-9.el7 will be updated\\n---> Package libteam.x86_64 0:1.29-1.el7 will be an update\\n---> Package libuuid.x86_64 0:2.23.2-61.el7_7.1 will be updated\\n---> Package libuuid.x86_64 0:2.23.2-63.el7 will be an update\\n---> Package libxml2.x86_64 0:2.9.1-6.el7_2.3 will be updated\\n---> Package libxml2.x86_64 0:2.9.1-6.el7.4 will be an update\\n---> Package libxml2-python.x86_64 0:2.9.1-6.el7_2.3 will be updated\\n---> Package libxml2-python.x86_64 0:2.9.1-6.el7.4 will be an update\\n---> Package logrotate.x86_64 0:3.8.6-17.el7 will be updated\\n---> Package logrotate.x86_64 0:3.8.6-19.el7 will be an update\\n---> Package lshw.x86_64 0:B.02.18-13.el7 will be updated\\n---> Package lshw.x86_64 0:B.02.18-14.el7 will be an update\\n---> Package mariadb-libs.x86_64 1:5.5.64-1.el7 will be updated\\n---> Package mariadb-libs.x86_64 1:5.5.65-1.el7 will be an update\\n---> Package microcode_ctl.x86_64 2:2.1-53.7.el7_7 will be updated\\n---> Package microcode_ctl.x86_64 2:2.1-61.10.el7_8 will be an update\\n---> Package nfs-utils.x86_64 1:1.3.0-0.65.el7 will be updated\\n---> Package nfs-utils.x86_64 1:1.3.0-0.66.el7_8 will be an update\\n---> Package numactl-libs.x86_64 0:2.0.12-3.el7_7.1 will be updated\\n---> Package numactl-libs.x86_64 0:2.0.12-5.el7 will be an update\\n---> Package pam.x86_64 0:1.1.8-22.el7 will be updated\\n---> Package pam.x86_64 0:1.1.8-23.el7 will be an update\\n---> Package parted.x86_64 0:3.1-31.el7 will be updated\\n---> Package parted.x86_64 0:3.1-32.el7 will be an update\\n---> Package passwd.x86_64 0:0.79-5.el7 will be updated\\n---> Package passwd.x86_64 0:0.79-6.el7 will be an update\\n---> Package policycoreutils.x86_64 0:2.5-33.el7 will be updated\\n---> Package policycoreutils.x86_64 0:2.5-34.el7 will be an update\\n---> Package policycoreutils-python.x86_64 0:2.5-33.el7 will be updated\\n---> Package policycoreutils-python.x86_64 0:2.5-34.el7 will be an update\\n---> Package polkit.x86_64 0:0.112-22.el7_7.1 will be updated\\n---> Package polkit.x86_64 0:0.112-26.el7 will be an update\\n---> Package postfix.x86_64 2:2.10.1-7.el7 will be updated\\n---> Package postfix.x86_64 2:2.10.1-9.el7 will be an update\\n---> Package procps-ng.x86_64 0:3.3.10-26.el7_7.1 will be updated\\n---> Package procps-ng.x86_64 0:3.3.10-27.el7 will be an update\\n---> Package python.x86_64 0:2.7.5-86.el7 will be updated\\n---> Package python.x86_64 0:2.7.5-88.el7 will be an update\\n---> Package python-libs.x86_64 0:2.7.5-86.el7 will be updated\\n---> Package python-libs.x86_64 0:2.7.5-88.el7 will be an update\\n---> Package python-perf.x86_64 0:3.10.0-1062.12.1.el7 will be updated\\n---> Package python-perf.x86_64 0:3.10.0-1127.19.1.el7 will be an update\\n---> Package python-requests.noarch 0:2.6.0-8.el7_7 will be updated\\n---> Package python-requests.noarch 0:2.6.0-9.el7_8 will be an update\\n---> Package python-urlgrabber.noarch 0:3.10-9.el7 will be updated\\n---> Package python-urlgrabber.noarch 0:3.10-10.el7 will be an update\\n---> Package rpcbind.x86_64 0:0.2.0-48.el7 will be updated\\n---> Package rpcbind.x86_64 0:0.2.0-49.el7 will be an update\\n---> Package rpm.x86_64 0:4.11.3-40.el7 will be updated\\n---> Package rpm.x86_64 0:4.11.3-43.el7 will be an update\\n---> Package rpm-build-libs.x86_64 0:4.11.3-40.el7 will be updated\\n---> Package rpm-build-libs.x86_64 0:4.11.3-43.el7 will be an update\\n---> Package rpm-libs.x86_64 0:4.11.3-40.el7 will be updated\\n---> Package rpm-libs.x86_64 0:4.11.3-43.el7 will be an update\\n---> Package rpm-python.x86_64 0:4.11.3-40.el7 will be updated\\n---> Package rpm-python.x86_64 0:4.11.3-43.el7 will be an update\\n---> Package rsync.x86_64 0:3.1.2-6.el7_6.1 will be updated\\n---> Package rsync.x86_64 0:3.1.2-10.el7 will be an update\\n---> Package rsyslog.x86_64 0:8.24.0-41.el7_7.2 will be updated\\n---> Package rsyslog.x86_64 0:8.24.0-52.el7_8.2 will be an update\\n---> Package sed.x86_64 0:4.2.2-5.el7 will be updated\\n---> Package sed.x86_64 0:4.2.2-6.el7 will be an update\\n---> Package selinux-policy.noarch 0:3.13.1-252.el7_7.6 will be updated\\n---> Package selinux-policy.noarch 0:3.13.1-266.el7_8.1 will be an update\\n---> Package selinux-policy-targeted.noarch 0:3.13.1-252.el7_7.6 will be updated\\n---> Package selinux-policy-targeted.noarch 0:3.13.1-266.el7_8.1 will be an update\\n---> Package setup.noarch 0:2.8.71-10.el7 will be updated\\n---> Package setup.noarch 0:2.8.71-11.el7 will be an update\\n---> Package sg3_utils.x86_64 0:1.37-18.el7_7.2 will be updated\\n---> Package sg3_utils.x86_64 1:1.37-19.el7 will be an update\\n---> Package sg3_utils-libs.x86_64 0:1.37-18.el7_7.2 will be updated\\n---> Package sg3_utils-libs.x86_64 1:1.37-19.el7 will be an update\\n---> Package shared-mime-info.x86_64 0:1.8-4.el7 will be updated\\n---> Package shared-mime-info.x86_64 0:1.8-5.el7 will be an update\\n---> Package sudo.x86_64 0:1.8.23-4.el7_7.2 will be updated\\n---> Package sudo.x86_64 0:1.8.23-9.el7 will be an update\\n---> Package systemd.x86_64 0:219-67.el7_7.3 will be updated\\n---> Package systemd.x86_64 0:219-73.el7_8.9 will be an update\\n---> Package systemd-libs.x86_64 0:219-67.el7_7.3 will be updated\\n---> Package systemd-libs.x86_64 0:219-73.el7_8.9 will be an update\\n---> Package systemd-sysv.x86_64 0:219-67.el7_7.3 will be updated\\n---> Package systemd-sysv.x86_64 0:219-73.el7_8.9 will be an update\\n---> Package teamd.x86_64 0:1.27-9.el7 will be updated\\n---> Package teamd.x86_64 0:1.29-1.el7 will be an update\\n---> Package tuned.noarch 0:2.11.0-5.el7_7.1 will be updated\\n---> Package tuned.noarch 0:2.11.0-8.el7 will be an update\\n---> Package tzdata.noarch 0:2019c-1.el7 will be updated\\n---> Package tzdata.noarch 0:2020a-1.el7 will be an update\\n---> Package util-linux.x86_64 0:2.23.2-61.el7_7.1 will be updated\\n---> Package util-linux.x86_64 0:2.23.2-63.el7 will be an update\\n---> Package yum.noarch 0:3.4.3-163.el7.centos will be updated\\n---> Package yum.noarch 0:3.4.3-167.el7.centos will be an update\\n---> Package yum-plugin-fastestmirror.noarch 0:1.1.31-52.el7 will be updated\\n---> Package yum-plugin-fastestmirror.noarch 0:1.1.31-54.el7_8 will be an update\\n---> Package yum-utils.noarch 0:1.1.31-52.el7 will be updated\\n---> Package yum-utils.noarch 0:1.1.31-54.el7_8 will be an update\\n--> Running transaction check\\n---> Package linux-firmware.noarch 0:20191203-76.gite8a0f4c.el7 will be installed\\n--> Finished Dependency Resolution\\n\\nDependencies Resolved\\n\\n================================================================================\\n Package                     Arch   Version                       Repository\\n                                                                           Size\\n================================================================================\\nInstalling:\\n iwl7260-firmware            noarch 25.30.13.0-76.el7             base     10 M\\n     replacing  iwl7265-firmware.noarch 22.0.7.0-72.el7\\n kernel                      x86_64 3.10.0-1127.19.1.el7          updates  50 M\\nUpdating:\\n acl                         x86_64 2.2.51-15.el7                 base     81 k\\n bash                        x86_64 4.2.46-34.el7                 base    1.0 M\\n bind-export-libs            x86_64 32:9.11.4-16.P2.el7_8.6       updates 1.1 M\\n binutils                    x86_64 2.27-43.base.el7_8.1          updates 5.9 M\\n ca-certificates             noarch 2020.2.41-70.0.el7_8          updates 382 k\\n centos-release              x86_64 7-8.2003.0.el7.centos         base     26 k\\n cloud-init                  x86_64 18.5-6.el7.centos.5           updates 887 k\\n cryptsetup-libs             x86_64 2.0.3-6.el7                   base    339 k\\n curl                        x86_64 7.29.0-57.el7_8.1             updates 271 k\\n dbus                        x86_64 1:1.10.24-14.el7_8            updates 245 k\\n dbus-libs                   x86_64 1:1.10.24-14.el7_8            updates 169 k\\n device-mapper               x86_64 7:1.02.164-7.el7_8.2          updates 295 k\\n device-mapper-libs          x86_64 7:1.02.164-7.el7_8.2          updates 324 k\\n dhclient                    x86_64 12:4.2.5-79.el7.centos        base    286 k\\n dhcp-common                 x86_64 12:4.2.5-79.el7.centos        base    176 k\\n dhcp-libs                   x86_64 12:4.2.5-79.el7.centos        base    133 k\\n dracut                      x86_64 033-568.el7                   base    329 k\\n dracut-config-generic       x86_64 033-568.el7                   base     59 k\\n dracut-config-rescue        x86_64 033-568.el7                   base     60 k\\n dracut-network              x86_64 033-568.el7                   base    103 k\\n e2fsprogs                   x86_64 1.42.9-17.el7                 base    699 k\\n e2fsprogs-libs              x86_64 1.42.9-17.el7                 base    168 k\\n elfutils-default-yama-scope noarch 0.176-4.el7                   base     33 k\\n elfutils-libelf             x86_64 0.176-4.el7                   base    195 k\\n elfutils-libs               x86_64 0.176-4.el7                   base    291 k\\n expat                       x86_64 2.1.0-11.el7                  base     81 k\\n file                        x86_64 5.11-36.el7                   base     57 k\\n file-libs                   x86_64 5.11-36.el7                   base    340 k\\n gettext                     x86_64 0.19.8.1-3.el7                base    1.0 M\\n gettext-libs                x86_64 0.19.8.1-3.el7                base    502 k\\n glibc                       x86_64 2.17-307.el7.1                base    3.6 M\\n glibc-common                x86_64 2.17-307.el7.1                base     11 M\\n grub2                       x86_64 1:2.02-0.86.el7.centos        updates  32 k\\n grub2-common                noarch 1:2.02-0.86.el7.centos        updates 729 k\\n grub2-pc                    x86_64 1:2.02-0.86.el7.centos        updates  32 k\\n grub2-pc-modules            noarch 1:2.02-0.86.el7.centos        updates 850 k\\n grub2-tools                 x86_64 1:2.02-0.86.el7.centos        updates 1.8 M\\n grub2-tools-extra           x86_64 1:2.02-0.86.el7.centos        updates 1.0 M\\n grub2-tools-minimal         x86_64 1:2.02-0.86.el7.centos        updates 174 k\\n gssproxy                    x86_64 0.7.0-28.el7                  base    110 k\\n hwdata                      x86_64 0.252-9.5.el7                 base    2.4 M\\n initscripts                 x86_64 9.49.49-1.el7                 base    440 k\\n iptables                    x86_64 1.4.21-34.el7                 base    432 k\\n kernel-tools                x86_64 3.10.0-1127.19.1.el7          updates 8.1 M\\n kernel-tools-libs           x86_64 3.10.0-1127.19.1.el7          updates 8.0 M\\n kexec-tools                 x86_64 2.0.15-43.el7                 base    349 k\\n kmod                        x86_64 20-28.el7                     base    123 k\\n kmod-libs                   x86_64 20-28.el7                     base     51 k\\n kpartx                      x86_64 0.4.9-131.el7                 base     80 k\\n krb5-libs                   x86_64 1.15.1-46.el7                 base    809 k\\n libacl                      x86_64 2.2.51-15.el7                 base     27 k\\n libblkid                    x86_64 2.23.2-63.el7                 base    182 k\\n libcap                      x86_64 2.22-11.el7                   base     47 k\\n libcom_err                  x86_64 1.42.9-17.el7                 base     42 k\\n libcurl                     x86_64 7.29.0-57.el7_8.1             updates 223 k\\n libffi                      x86_64 3.0.13-19.el7                 base     30 k\\n libmount                    x86_64 2.23.2-63.el7                 base    184 k\\n libseccomp                  x86_64 2.3.1-4.el7                   base     56 k\\n libselinux                  x86_64 2.5-15.el7                    base    162 k\\n libselinux-python           x86_64 2.5-15.el7                    base    236 k\\n libselinux-utils            x86_64 2.5-15.el7                    base    151 k\\n libsmartcols                x86_64 2.23.2-63.el7                 base    142 k\\n libss                       x86_64 1.42.9-17.el7                 base     46 k\\n libteam                     x86_64 1.29-1.el7                    base     50 k\\n libuuid                     x86_64 2.23.2-63.el7                 base     83 k\\n libxml2                     x86_64 2.9.1-6.el7.4                 base    668 k\\n libxml2-python              x86_64 2.9.1-6.el7.4                 base    247 k\\n logrotate                   x86_64 3.8.6-19.el7                  base     70 k\\n lshw                        x86_64 B.02.18-14.el7                base    321 k\\n mariadb-libs                x86_64 1:5.5.65-1.el7                base    759 k\\n microcode_ctl               x86_64 2:2.1-61.10.el7_8             updates 2.7 M\\n nfs-utils                   x86_64 1:1.3.0-0.66.el7_8            updates 412 k\\n numactl-libs                x86_64 2.0.12-5.el7                  base     30 k\\n pam                         x86_64 1.1.8-23.el7                  base    721 k\\n parted                      x86_64 3.1-32.el7                    base    609 k\\n passwd                      x86_64 0.79-6.el7                    base    106 k\\n policycoreutils             x86_64 2.5-34.el7                    base    917 k\\n policycoreutils-python      x86_64 2.5-34.el7                    base    457 k\\n polkit                      x86_64 0.112-26.el7                  base    170 k\\n postfix                     x86_64 2:2.10.1-9.el7                base    2.4 M\\n procps-ng                   x86_64 3.3.10-27.el7                 base    291 k\\n python                      x86_64 2.7.5-88.el7                  base     96 k\\n python-libs                 x86_64 2.7.5-88.el7                  base    5.6 M\\n python-perf                 x86_64 3.10.0-1127.19.1.el7          updates 8.1 M\\n python-requests             noarch 2.6.0-9.el7_8                 updates  94 k\\n python-urlgrabber           noarch 3.10-10.el7                   base    108 k\\n rpcbind                     x86_64 0.2.0-49.el7                  base     60 k\\n rpm                         x86_64 4.11.3-43.el7                 base    1.2 M\\n rpm-build-libs              x86_64 4.11.3-43.el7                 base    107 k\\n rpm-libs                    x86_64 4.11.3-43.el7                 base    278 k\\n rpm-python                  x86_64 4.11.3-43.el7                 base     84 k\\n rsync                       x86_64 3.1.2-10.el7                  base    404 k\\n rsyslog                     x86_64 8.24.0-52.el7_8.2             updates 621 k\\n sed                         x86_64 4.2.2-6.el7                   base    231 k\\n selinux-policy              noarch 3.13.1-266.el7_8.1            updates 497 k\\n selinux-policy-targeted     noarch 3.13.1-266.el7_8.1            updates 7.0 M\\n setup                       noarch 2.8.71-11.el7                 base    166 k\\n sg3_utils                   x86_64 1:1.37-19.el7                 base    646 k\\n sg3_utils-libs              x86_64 1:1.37-19.el7                 base     65 k\\n shared-mime-info            x86_64 1.8-5.el7                     base    312 k\\n sudo                        x86_64 1.8.23-9.el7                  base    842 k\\n systemd                     x86_64 219-73.el7_8.9                updates 5.1 M\\n systemd-libs                x86_64 219-73.el7_8.9                updates 416 k\\n systemd-sysv                x86_64 219-73.el7_8.9                updates  94 k\\n teamd                       x86_64 1.29-1.el7                    base    115 k\\n tuned                       noarch 2.11.0-8.el7                  base    268 k\\n tzdata                      noarch 2020a-1.el7                   updates 495 k\\n util-linux                  x86_64 2.23.2-63.el7                 base    2.0 M\\n yum                         noarch 3.4.3-167.el7.centos          base    1.2 M\\n yum-plugin-fastestmirror    noarch 1.1.31-54.el7_8               updates  34 k\\n yum-utils                   noarch 1.1.31-54.el7_8               updates 122 k\\nInstalling for dependencies:\\n linux-firmware              noarch 20191203-76.gite8a0f4c.el7    base     81 M\\n\\nTransaction Summary\\n================================================================================\\nInstall    2 Packages (+1 Dependent package)\\nUpgrade  111 Packages\\n\\nTotal download size: 246 M\\nDownloading packages:\\nDelta RPMs disabled because /usr/bin/applydeltarpm not installed.\\nPublic key for acl-2.2.51-15.el7.x86_64.rpm is not installed\\nPublic key for bind-export-libs-9.11.4-16.P2.el7_8.6.x86_64.rpm is not installed\\n--------------------------------------------------------------------------------\\nTotal                                               47 MB/s | 246 MB  00:05     \\nRetrieving key from file:///etc/pki/rpm-gpg/RPM-GPG-KEY-CentOS-7\\nRunning transaction check\\nRunning transaction test\\nTransaction test succeeded\\nRunning transaction\\n  Updating   : 1:grub2-common-2.02-0.86.el7.centos.noarch                 1/226 \\n  Updating   : centos-release-7-8.2003.0.el7.centos.x86_64                2/226 \\n  Updating   : setup-2.8.71-11.el7.noarch                                 3/226 \\nwarning: /etc/shadow created as /etc/shadow.rpmnew\\n  Updating   : 1:grub2-pc-modules-2.02-0.86.el7.centos.noarch             4/226 \\n  Updating   : tzdata-2020a-1.el7.noarch                                  5/226 \\n  Updating   : bash-4.2.46-34.el7.x86_64                                  6/226 \\n  Updating   : glibc-common-2.17-307.el7.1.x86_64                         7/226 \\n  Updating   : glibc-2.17-307.el7.1.x86_64                                8/226 \\n  Updating   : libselinux-2.5-15.el7.x86_64                               9/226 \\n  Updating   : libcap-2.22-11.el7.x86_64                                 10/226 \\n  Updating   : libcom_err-1.42.9-17.el7.x86_64                           11/226 \\n  Updating   : sed-4.2.2-6.el7.x86_64                                    12/226 \\n  Updating   : libacl-2.2.51-15.el7.x86_64                               13/226 \\n  Updating   : elfutils-libelf-0.176-4.el7.x86_64                        14/226 \\n  Updating   : libuuid-2.23.2-63.el7.x86_64                              15/226 \\n  Updating   : libblkid-2.23.2-63.el7.x86_64                             16/226 \\n  Updating   : pam-1.1.8-23.el7.x86_64                                   17/226 \\n  Updating   : krb5-libs-1.15.1-46.el7.x86_64                            18/226 \\n  Updating   : libxml2-2.9.1-6.el7.4.x86_64                              19/226 \\n  Updating   : libmount-2.23.2-63.el7.x86_64                             20/226 \\n  Updating   : file-libs-5.11-36.el7.x86_64                              21/226 \\n  Updating   : file-5.11-36.el7.x86_64                                   22/226 \\n  Updating   : expat-2.1.0-11.el7.x86_64                                 23/226 \\n  Updating   : libcurl-7.29.0-57.el7_8.1.x86_64                          24/226 \\n  Updating   : curl-7.29.0-57.el7_8.1.x86_64                             25/226 \\n  Updating   : rpm-4.11.3-43.el7.x86_64                                  26/226 \\n  Updating   : rpm-libs-4.11.3-43.el7.x86_64                             27/226 \\n  Updating   : rpm-build-libs-4.11.3-43.el7.x86_64                       28/226 \\n  Updating   : gettext-libs-0.19.8.1-3.el7.x86_64                        29/226 \\n  Updating   : 32:bind-export-libs-9.11.4-16.P2.el7_8.6.x86_64           30/226 \\n  Updating   : acl-2.2.51-15.el7.x86_64                                  31/226 \\n  Updating   : logrotate-3.8.6-19.el7.x86_64                             32/226 \\n  Updating   : e2fsprogs-libs-1.42.9-17.el7.x86_64                       33/226 \\n  Updating   : libss-1.42.9-17.el7.x86_64                                34/226 \\n  Updating   : e2fsprogs-1.42.9-17.el7.x86_64                            35/226 \\n  Updating   : libselinux-utils-2.5-15.el7.x86_64                        36/226 \\n  Updating   : kmod-libs-20-28.el7.x86_64                                37/226 \\n  Updating   : libteam-1.29-1.el7.x86_64                                 38/226 \\n  Updating   : binutils-2.27-43.base.el7_8.1.x86_64                      39/226 \\n  Updating   : 1:mariadb-libs-5.5.65-1.el7.x86_64                        40/226 \\n  Updating   : 1:sg3_utils-libs-1.37-19.el7.x86_64                       41/226 \\n  Updating   : kernel-tools-libs-3.10.0-1127.19.1.el7.x86_64             42/226 \\n  Updating   : libsmartcols-2.23.2-63.el7.x86_64                         43/226 \\n  Updating   : util-linux-2.23.2-63.el7.x86_64                           44/226 \\n  Updating   : procps-ng-3.3.10-27.el7.x86_64                            45/226 \\n  Updating   : kpartx-0.4.9-131.el7.x86_64                               46/226 \\n  Updating   : 7:device-mapper-1.02.164-7.el7_8.2.x86_64                 47/226 \\n  Updating   : 7:device-mapper-libs-1.02.164-7.el7_8.2.x86_64            48/226 \\n  Updating   : cryptsetup-libs-2.0.3-6.el7.x86_64                        49/226 \\n  Updating   : dracut-033-568.el7.x86_64                                 50/226 \\n  Updating   : kmod-20-28.el7.x86_64                                     51/226 \\n  Updating   : elfutils-libs-0.176-4.el7.x86_64                          52/226 \\n  Updating   : systemd-libs-219-73.el7_8.9.x86_64                        53/226 \\n  Updating   : 1:dbus-libs-1.10.24-14.el7_8.x86_64                       54/226 \\n  Updating   : systemd-219-73.el7_8.9.x86_64                             55/226 \\n  Updating   : 1:dbus-1.10.24-14.el7_8.x86_64                            56/226 \\n  Updating   : elfutils-default-yama-scope-0.176-4.el7.noarch            57/226 \\n  Updating   : policycoreutils-2.5-34.el7.x86_64                         58/226 \\n  Updating   : initscripts-9.49.49-1.el7.x86_64                          59/226 \\n  Updating   : 12:dhcp-libs-4.2.5-79.el7.centos.x86_64                   60/226 \\n  Updating   : 12:dhcp-common-4.2.5-79.el7.centos.x86_64                 61/226 \\n  Updating   : 12:dhclient-4.2.5-79.el7.centos.x86_64                    62/226 \\n  Updating   : dracut-network-033-568.el7.x86_64                         63/226 \\n  Updating   : selinux-policy-3.13.1-266.el7_8.1.noarch                  64/226 \\n  Updating   : polkit-0.112-26.el7.x86_64                                65/226 \\n  Updating   : gssproxy-0.7.0-28.el7.x86_64                              66/226 \\n  Updating   : hwdata-0.252-9.5.el7.x86_64                               67/226 \\n  Updating   : libffi-3.0.13-19.el7.x86_64                               68/226 \\n  Updating   : python-libs-2.7.5-88.el7.x86_64                           69/226 \\n  Updating   : python-2.7.5-88.el7.x86_64                                70/226 \\n  Updating   : gettext-0.19.8.1-3.el7.x86_64                             71/226 \\n  Updating   : 1:grub2-tools-minimal-2.02-0.86.el7.centos.x86_64         72/226 \\n  Updating   : 1:grub2-tools-2.02-0.86.el7.centos.x86_64                 73/226 \\n  Updating   : systemd-sysv-219-73.el7_8.9.x86_64                        74/226 \\n  Updating   : libselinux-python-2.5-15.el7.x86_64                       75/226 \\n  Updating   : policycoreutils-python-2.5-34.el7.x86_64                  76/226 \\n  Updating   : rpcbind-0.2.0-49.el7.x86_64                               77/226 \\n  Updating   : 1:grub2-tools-extra-2.02-0.86.el7.centos.x86_64           78/226 \\n  Updating   : 1:grub2-pc-2.02-0.86.el7.centos.x86_64                    79/226 \\n  Updating   : libxml2-python-2.9.1-6.el7.4.x86_64                       80/226 \\n  Updating   : rpm-python-4.11.3-43.el7.x86_64                           81/226 \\n  Updating   : python-perf-3.10.0-1127.19.1.el7.x86_64                   82/226 \\n  Updating   : python-urlgrabber-3.10-10.el7.noarch                      83/226 \\n  Updating   : yum-plugin-fastestmirror-1.1.31-54.el7_8.noarch           84/226 \\n  Updating   : yum-3.4.3-167.el7.centos.noarch                           85/226 \\n  Updating   : ca-certificates-2020.2.41-70.0.el7_8.noarch               86/226 \\n  Updating   : python-requests-2.6.0-9.el7_8.noarch                      87/226 \\n  Installing : linux-firmware-20191203-76.gite8a0f4c.el7.noarch          88/226 \\n  Installing : kernel-3.10.0-1127.19.1.el7.x86_64                        89/226 \\n  Updating   : cloud-init-18.5-6.el7.centos.5.x86_64                     90/226 \\n  Updating   : yum-utils-1.1.31-54.el7_8.noarch                          91/226 \\n  Updating   : tuned-2.11.0-8.el7.noarch                                 92/226 \\n  Updating   : 1:grub2-2.02-0.86.el7.centos.x86_64                       93/226 \\n  Updating   : 1:nfs-utils-1.3.0-0.66.el7_8.x86_64                       94/226 \\n  Updating   : 2:postfix-2.10.1-9.el7.x86_64                             95/226 \\n  Updating   : lshw-B.02.18-14.el7.x86_64                                96/226 \\n  Updating   : selinux-policy-targeted-3.13.1-266.el7_8.1.noarch         97/226 \\n  Updating   : kexec-tools-2.0.15-43.el7.x86_64                          98/226 \\n  Updating   : rsyslog-8.24.0-52.el7_8.2.x86_64                          99/226 \\n  Updating   : 2:microcode_ctl-2.1-61.10.el7_8.x86_64                   100/226 \\n  Updating   : rsync-3.1.2-10.el7.x86_64                                101/226 \\n  Updating   : teamd-1.29-1.el7.x86_64                                  102/226 \\n  Updating   : dracut-config-rescue-033-568.el7.x86_64                  103/226 \\n  Updating   : dracut-config-generic-033-568.el7.x86_64                 104/226 \\n  Updating   : parted-3.1-32.el7.x86_64                                 105/226 \\n  Updating   : kernel-tools-3.10.0-1127.19.1.el7.x86_64                 106/226 \\n  Updating   : 1:sg3_utils-1.37-19.el7.x86_64                           107/226 \\n  Updating   : shared-mime-info-1.8-5.el7.x86_64                        108/226 \\n  Updating   : passwd-0.79-6.el7.x86_64                                 109/226 \\n  Updating   : sudo-1.8.23-9.el7.x86_64                                 110/226 \\n  Updating   : iptables-1.4.21-34.el7.x86_64                            111/226 \\n  Updating   : libseccomp-2.3.1-4.el7.x86_64                            112/226 \\n  Updating   : numactl-libs-2.0.12-5.el7.x86_64                         113/226 \\n  Installing : iwl7260-firmware-25.30.13.0-76.el7.noarch                114/226 \\n  Cleanup    : cloud-init-18.5-3.el7.centos.x86_64                      115/226 \\n  Cleanup    : 1:nfs-utils-1.3.0-0.65.el7.x86_64                        116/226 \\n  Cleanup    : gssproxy-0.7.0-26.el7.x86_64                             117/226 \\n  Cleanup    : kexec-tools-2.0.15-33.el7.x86_64                         118/226 \\n  Cleanup    : parted-3.1-31.el7.x86_64                                 119/226 \\n  Cleanup    : tuned-2.11.0-5.el7_7.1.noarch                            120/226 \\n  Cleanup    : polkit-0.112-22.el7_7.1.x86_64                           121/226 \\n  Cleanup    : rpcbind-0.2.0-48.el7.x86_64                              122/226 \\n  Cleanup    : e2fsprogs-1.42.9-16.el7.x86_64                           123/226 \\n  Cleanup    : policycoreutils-python-2.5-33.el7.x86_64                 124/226 \\n  Cleanup    : passwd-0.79-5.el7.x86_64                                 125/226 \\n  Cleanup    : rsyslog-8.24.0-41.el7_7.2.x86_64                         126/226 \\n  Cleanup    : sudo-1.8.23-4.el7_7.2.x86_64                             127/226 \\n  Cleanup    : 2:postfix-2.10.1-7.el7.x86_64                            128/226 \\n  Cleanup    : logrotate-3.8.6-17.el7.x86_64                            129/226 \\n  Cleanup    : teamd-1.27-9.el7.x86_64                                  130/226 \\n  Cleanup    : kernel-tools-3.10.0-1062.12.1.el7.x86_64                 131/226 \\n  Cleanup    : sg3_utils-1.37-18.el7_7.2.x86_64                         132/226 \\n  Cleanup    : yum-utils-1.1.31-52.el7.noarch                           133/226 \\n  Cleanup    : yum-plugin-fastestmirror-1.1.31-52.el7.noarch            134/226 \\n  Cleanup    : yum-3.4.3-163.el7.centos.noarch                          135/226 \\n  Cleanup    : dracut-network-033-564.el7.x86_64                        136/226 \\n  Cleanup    : 12:dhclient-4.2.5-77.el7.centos.x86_64                   137/226 \\n  Cleanup    : 2:microcode_ctl-2.1-53.7.el7_7.x86_64                    138/226 \\n  Cleanup    : selinux-policy-targeted-3.13.1-252.el7_7.6.noarch        139/226 \\n  Cleanup    : selinux-policy-3.13.1-252.el7_7.6.noarch                 140/226 \\n  Cleanup    : systemd-sysv-219-67.el7_7.3.x86_64                       141/226 \\n  Cleanup    : python-requests-2.6.0-8.el7_7.noarch                     142/226 \\n  Cleanup    : 1:grub2-2.02-0.80.el7.centos.x86_64                      143/226 \\n  Cleanup    : 1:grub2-pc-2.02-0.80.el7.centos.x86_64                   144/226 \\n  Cleanup    : dracut-config-rescue-033-564.el7.x86_64                  145/226 \\n  Cleanup    : rpm-python-4.11.3-40.el7.x86_64                          146/226 \\n  Cleanup    : rpm-build-libs-4.11.3-40.el7.x86_64                      147/226 \\n  Cleanup    : initscripts-9.49.47-1.el7.x86_64                         148/226 \\n  Cleanup    : 1:grub2-tools-extra-2.02-0.80.el7.centos.x86_64          149/226 \\n  Cleanup    : 1:grub2-tools-2.02-0.80.el7.centos.x86_64                150/226 \\n  Cleanup    : policycoreutils-2.5-33.el7.x86_64                        151/226 \\n  Cleanup    : rpm-libs-4.11.3-40.el7.x86_64                            152/226 \\n  Cleanup    : rpm-4.11.3-40.el7.x86_64                                 153/226 \\n  Cleanup    : libxml2-python-2.9.1-6.el7_2.3.x86_64                    154/226 \\n  Cleanup    : 1:grub2-tools-minimal-2.02-0.80.el7.centos.x86_64        155/226 \\n  Cleanup    : gettext-0.19.8.1-2.el7.x86_64                            156/226 \\n  Cleanup    : 32:bind-export-libs-9.11.4-9.P2.el7.x86_64               157/226 \\n  Cleanup    : file-5.11-35.el7.x86_64                                  158/226 \\n  Cleanup    : libselinux-python-2.5-14.1.el7.x86_64                    159/226 \\n  Cleanup    : python-perf-3.10.0-1062.12.1.el7.x86_64                  160/226 \\n  Cleanup    : shared-mime-info-1.8-4.el7.x86_64                        161/226 \\n  Cleanup    : rsync-3.1.2-6.el7_6.1.x86_64                             162/226 \\n  Cleanup    : gettext-libs-0.19.8.1-2.el7.x86_64                       163/226 \\n  Cleanup    : curl-7.29.0-54.el7_7.2.x86_64                            164/226 \\n  Cleanup    : libselinux-utils-2.5-14.1.el7.x86_64                     165/226 \\n  Cleanup    : e2fsprogs-libs-1.42.9-16.el7.x86_64                      166/226 \\n  Cleanup    : libss-1.42.9-16.el7.x86_64                               167/226 \\n  Cleanup    : lshw-B.02.18-13.el7.x86_64                               168/226 \\n  Cleanup    : hwdata-0.252-9.3.el7.x86_64                              169/226 \\n  Cleanup    : iptables-1.4.21-33.el7.x86_64                            170/226 \\n  Cleanup    : 1:grub2-pc-modules-2.02-0.80.el7.centos.noarch           171/226 \\n  Cleanup    : ca-certificates-2019.2.32-76.el7_7.noarch                172/226 \\n  Cleanup    : 12:dhcp-common-4.2.5-77.el7.centos.x86_64                173/226 \\n  Cleanup    : 12:dhcp-libs-4.2.5-77.el7.centos.x86_64                  174/226 \\n  Cleanup    : python-urlgrabber-3.10-9.el7.noarch                      175/226 \\n  Cleanup    : setup-2.8.71-10.el7.noarch                               176/226 \\n  Cleanup    : dracut-config-generic-033-564.el7.x86_64                 177/226 \\n  Cleanup    : 1:grub2-common-2.02-0.80.el7.centos.noarch               178/226 \\n  Erasing    : iwl7265-firmware-22.0.7.0-72.el7.noarch                  179/226 \\n  Cleanup    : 1:dbus-libs-1.10.24-13.el7_6.x86_64                      180/226 \\n  Cleanup    : procps-ng-3.3.10-26.el7_7.1.x86_64                       181/226 \\n  Cleanup    : util-linux-2.23.2-61.el7_7.1.x86_64                      182/226 \\n  Cleanup    : cryptsetup-libs-2.0.3-5.el7.x86_64                       183/226 \\n  Cleanup    : systemd-libs-219-67.el7_7.3.x86_64                       184/226 \\n  Cleanup    : kpartx-0.4.9-127.el7.x86_64                              185/226 \\n  Cleanup    : kmod-20-25.el7.x86_64                                    186/226 \\n  Cleanup    : dracut-033-564.el7.x86_64                                187/226 \\n  Cleanup    : elfutils-libs-0.176-2.el7.x86_64                         188/226 \\n  Cleanup    : elfutils-default-yama-scope-0.176-2.el7.noarch           189/226 \\n  Cleanup    : 7:device-mapper-libs-1.02.158-2.el7_7.2.x86_64           190/226 \\n  Cleanup    : 7:device-mapper-1.02.158-2.el7_7.2.x86_64                191/226 \\n  Cleanup    : 1:dbus-1.10.24-13.el7_6.x86_64                           192/226 \\n  Cleanup    : systemd-219-67.el7_7.3.x86_64                            193/226 \\n  Cleanup    : libmount-2.23.2-61.el7_7.1.x86_64                        194/226 \\n  Cleanup    : libcurl-7.29.0-54.el7_7.2.x86_64                         195/226 \\n  Cleanup    : krb5-libs-1.15.1-37.el7_7.2.x86_64                       196/226 \\n  Cleanup    : python-2.7.5-86.el7.x86_64                               197/226 \\n  Cleanup    : python-libs-2.7.5-86.el7.x86_64                          198/226 \\n  Cleanup    : sed-4.2.2-5.el7.x86_64                                   199/226 \\n  Cleanup    : libblkid-2.23.2-61.el7_7.1.x86_64                        200/226 \\n  Cleanup    : pam-1.1.8-22.el7.x86_64                                  201/226 \\n  Cleanup    : acl-2.2.51-14.el7.x86_64                                 202/226 \\n  Cleanup    : binutils-2.27-41.base.el7_7.2.x86_64                     203/226 \\n  Cleanup    : libacl-2.2.51-14.el7.x86_64                              204/226 \\n  Cleanup    : libuuid-2.23.2-61.el7_7.1.x86_64                         205/226 \\n  Cleanup    : expat-2.1.0-10.el7_3.x86_64                              206/226 \\n  Cleanup    : libffi-3.0.13-18.el7.x86_64                              207/226 \\n  Cleanup    : libcom_err-1.42.9-16.el7.x86_64                          208/226 \\n  Cleanup    : libcap-2.22-10.el7.x86_64                                209/226 \\n  Cleanup    : elfutils-libelf-0.176-2.el7.x86_64                       210/226 \\n  Cleanup    : kmod-libs-20-25.el7.x86_64                               211/226 \\n  Cleanup    : libsmartcols-2.23.2-61.el7_7.1.x86_64                    212/226 \\n  Cleanup    : libxml2-2.9.1-6.el7_2.3.x86_64                           213/226 \\n  Cleanup    : file-libs-5.11-35.el7.x86_64                             214/226 \\n  Cleanup    : sg3_utils-libs-1.37-18.el7_7.2.x86_64                    215/226 \\n  Cleanup    : kernel-tools-libs-3.10.0-1062.12.1.el7.x86_64            216/226 \\n  Cleanup    : libteam-1.27-9.el7.x86_64                                217/226 \\n  Cleanup    : 1:mariadb-libs-5.5.64-1.el7.x86_64                       218/226 \\n  Cleanup    : numactl-libs-2.0.12-3.el7_7.1.x86_64                     219/226 \\n  Cleanup    : libseccomp-2.3.1-3.el7.x86_64                            220/226 \\n  Cleanup    : centos-release-7-7.1908.0.el7.centos.x86_64              221/226 \\n  Cleanup    : bash-4.2.46-33.el7.x86_64                                222/226 \\n  Cleanup    : libselinux-2.5-14.1.el7.x86_64                           223/226 \\n  Cleanup    : glibc-common-2.17-292.el7.x86_64                         224/226 \\n  Cleanup    : glibc-2.17-292.el7.x86_64                                225/226 \\n  Cleanup    : tzdata-2019c-1.el7.noarch                                226/226 \\n  Verifying  : acl-2.2.51-15.el7.x86_64                                   1/226 \\n  Verifying  : 1:sg3_utils-1.37-19.el7.x86_64                             2/226 \\n  Verifying  : libacl-2.2.51-15.el7.x86_64                                3/226 \\n  Verifying  : kpartx-0.4.9-131.el7.x86_64                                4/226 \\n  Verifying  : centos-release-7-8.2003.0.el7.centos.x86_64                5/226 \\n  Verifying  : libxml2-python-2.9.1-6.el7.4.x86_64                        6/226 \\n  Verifying  : systemd-219-73.el7_8.9.x86_64                              7/226 \\n  Verifying  : rpm-python-4.11.3-43.el7.x86_64                            8/226 \\n  Verifying  : util-linux-2.23.2-63.el7.x86_64                            9/226 \\n  Verifying  : sed-4.2.2-6.el7.x86_64                                    10/226 \\n  Verifying  : python-2.7.5-88.el7.x86_64                                11/226 \\n  Verifying  : curl-7.29.0-57.el7_8.1.x86_64                             12/226 \\n  Verifying  : kmod-libs-20-28.el7.x86_64                                13/226 \\n  Verifying  : dracut-config-rescue-033-568.el7.x86_64                   14/226 \\n  Verifying  : kernel-tools-3.10.0-1127.19.1.el7.x86_64                  15/226 \\n  Verifying  : 32:bind-export-libs-9.11.4-16.P2.el7_8.6.x86_64           16/226 \\n  Verifying  : 1:grub2-tools-2.02-0.86.el7.centos.x86_64                 17/226 \\n  Verifying  : elfutils-libs-0.176-4.el7.x86_64                          18/226 \\n  Verifying  : libteam-1.29-1.el7.x86_64                                 19/226 \\n  Verifying  : libcap-2.22-11.el7.x86_64                                 20/226 \\n  Verifying  : gettext-0.19.8.1-3.el7.x86_64                             21/226 \\n  Verifying  : 2:postfix-2.10.1-9.el7.x86_64                             22/226 \\n  Verifying  : ca-certificates-2020.2.41-70.0.el7_8.noarch               23/226 \\n  Verifying  : setup-2.8.71-11.el7.noarch                                24/226 \\n  Verifying  : e2fsprogs-libs-1.42.9-17.el7.x86_64                       25/226 \\n  Verifying  : pam-1.1.8-23.el7.x86_64                                   26/226 \\n  Verifying  : 1:grub2-2.02-0.86.el7.centos.x86_64                       27/226 \\n  Verifying  : elfutils-default-yama-scope-0.176-4.el7.noarch            28/226 \\n  Verifying  : cryptsetup-libs-2.0.3-6.el7.x86_64                        29/226 \\n  Verifying  : selinux-policy-3.13.1-266.el7_8.1.noarch                  30/226 \\n  Verifying  : binutils-2.27-43.base.el7_8.1.x86_64                      31/226 \\n  Verifying  : rsyslog-8.24.0-52.el7_8.2.x86_64                          32/226 \\n  Verifying  : yum-3.4.3-167.el7.centos.noarch                           33/226 \\n  Verifying  : initscripts-9.49.49-1.el7.x86_64                          34/226 \\n  Verifying  : python-libs-2.7.5-88.el7.x86_64                           35/226 \\n  Verifying  : cloud-init-18.5-6.el7.centos.5.x86_64                     36/226 \\n  Verifying  : elfutils-libelf-0.176-4.el7.x86_64                        37/226 \\n  Verifying  : dracut-network-033-568.el7.x86_64                         38/226 \\n  Verifying  : 7:device-mapper-libs-1.02.164-7.el7_8.2.x86_64            39/226 \\n  Verifying  : libxml2-2.9.1-6.el7.4.x86_64                              40/226 \\n  Verifying  : tzdata-2020a-1.el7.noarch                                 41/226 \\n  Verifying  : systemd-libs-219-73.el7_8.9.x86_64                        42/226 \\n  Verifying  : 12:dhcp-libs-4.2.5-79.el7.centos.x86_64                   43/226 \\n  Verifying  : 1:grub2-pc-2.02-0.86.el7.centos.x86_64                    44/226 \\n  Verifying  : python-perf-3.10.0-1127.19.1.el7.x86_64                   45/226 \\n  Verifying  : file-5.11-36.el7.x86_64                                   46/226 \\n  Verifying  : selinux-policy-targeted-3.13.1-266.el7_8.1.noarch         47/226 \\n  Verifying  : 12:dhcp-common-4.2.5-79.el7.centos.x86_64                 48/226 \\n  Verifying  : parted-3.1-32.el7.x86_64                                  49/226 \\n  Verifying  : tuned-2.11.0-8.el7.noarch                                 50/226 \\n  Verifying  : systemd-sysv-219-73.el7_8.9.x86_64                        51/226 \\n  Verifying  : libselinux-2.5-15.el7.x86_64                              52/226 \\n  Verifying  : libcom_err-1.42.9-17.el7.x86_64                           53/226 \\n  Verifying  : gssproxy-0.7.0-28.el7.x86_64                              54/226 \\n  Verifying  : 1:nfs-utils-1.3.0-0.66.el7_8.x86_64                       55/226 \\n  Verifying  : yum-plugin-fastestmirror-1.1.31-54.el7_8.noarch           56/226 \\n  Verifying  : passwd-0.79-6.el7.x86_64                                  57/226 \\n  Verifying  : 7:device-mapper-1.02.164-7.el7_8.2.x86_64                 58/226 \\n  Verifying  : file-libs-5.11-36.el7.x86_64                              59/226 \\n  Verifying  : procps-ng-3.3.10-27.el7.x86_64                            60/226 \\n  Verifying  : iptables-1.4.21-34.el7.x86_64                             61/226 \\n  Verifying  : policycoreutils-2.5-34.el7.x86_64                         62/226 \\n  Verifying  : e2fsprogs-1.42.9-17.el7.x86_64                            63/226 \\n  Verifying  : glibc-common-2.17-307.el7.1.x86_64                        64/226 \\n  Verifying  : 1:dbus-1.10.24-14.el7_8.x86_64                            65/226 \\n  Verifying  : policycoreutils-python-2.5-34.el7.x86_64                  66/226 \\n  Verifying  : kmod-20-28.el7.x86_64                                     67/226 \\n  Verifying  : libblkid-2.23.2-63.el7.x86_64                             68/226 \\n  Verifying  : glibc-2.17-307.el7.1.x86_64                               69/226 \\n  Verifying  : rpm-4.11.3-43.el7.x86_64                                  70/226 \\n  Verifying  : hwdata-0.252-9.5.el7.x86_64                               71/226 \\n  Verifying  : iwl7260-firmware-25.30.13.0-76.el7.noarch                 72/226 \\n  Verifying  : 2:microcode_ctl-2.1-61.10.el7_8.x86_64                    73/226 \\n  Verifying  : polkit-0.112-26.el7.x86_64                                74/226 \\n  Verifying  : kexec-tools-2.0.15-43.el7.x86_64                          75/226 \\n  Verifying  : python-urlgrabber-3.10-10.el7.noarch                      76/226 \\n  Verifying  : logrotate-3.8.6-19.el7.x86_64                             77/226 \\n  Verifying  : 1:mariadb-libs-5.5.65-1.el7.x86_64                        78/226 \\n  Verifying  : 1:grub2-tools-extra-2.02-0.86.el7.centos.x86_64           79/226 \\n  Verifying  : libcurl-7.29.0-57.el7_8.1.x86_64                          80/226 \\n  Verifying  : rpm-libs-4.11.3-43.el7.x86_64                             81/226 \\n  Verifying  : 1:grub2-pc-modules-2.02-0.86.el7.centos.noarch            82/226 \\n  Verifying  : dracut-config-generic-033-568.el7.x86_64                  83/226 \\n  Verifying  : 12:dhclient-4.2.5-79.el7.centos.x86_64                    84/226 \\n  Verifying  : 1:dbus-libs-1.10.24-14.el7_8.x86_64                       85/226 \\n  Verifying  : gettext-libs-0.19.8.1-3.el7.x86_64                        86/226 \\n  Verifying  : rpcbind-0.2.0-49.el7.x86_64                               87/226 \\n  Verifying  : bash-4.2.46-34.el7.x86_64                                 88/226 \\n  Verifying  : krb5-libs-1.15.1-46.el7.x86_64                            89/226 \\n  Verifying  : rsync-3.1.2-10.el7.x86_64                                 90/226 \\n  Verifying  : 1:sg3_utils-libs-1.37-19.el7.x86_64                       91/226 \\n  Verifying  : rpm-build-libs-4.11.3-43.el7.x86_64                       92/226 \\n  Verifying  : libseccomp-2.3.1-4.el7.x86_64                             93/226 \\n  Verifying  : kernel-3.10.0-1127.19.1.el7.x86_64                        94/226 \\n  Verifying  : shared-mime-info-1.8-5.el7.x86_64                         95/226 \\n  Verifying  : libselinux-utils-2.5-15.el7.x86_64                        96/226 \\n  Verifying  : 1:grub2-common-2.02-0.86.el7.centos.noarch                97/226 \\n  Verifying  : linux-firmware-20191203-76.gite8a0f4c.el7.noarch          98/226 \\n  Verifying  : yum-utils-1.1.31-54.el7_8.noarch                          99/226 \\n  Verifying  : dracut-033-568.el7.x86_64                                100/226 \\n  Verifying  : libselinux-python-2.5-15.el7.x86_64                      101/226 \\n  Verifying  : libmount-2.23.2-63.el7.x86_64                            102/226 \\n  Verifying  : kernel-tools-libs-3.10.0-1127.19.1.el7.x86_64            103/226 \\n  Verifying  : 1:grub2-tools-minimal-2.02-0.86.el7.centos.x86_64        104/226 \\n  Verifying  : libuuid-2.23.2-63.el7.x86_64                             105/226 \\n  Verifying  : libss-1.42.9-17.el7.x86_64                               106/226 \\n  Verifying  : sudo-1.8.23-9.el7.x86_64                                 107/226 \\n  Verifying  : lshw-B.02.18-14.el7.x86_64                               108/226 \\n  Verifying  : numactl-libs-2.0.12-5.el7.x86_64                         109/226 \\n  Verifying  : expat-2.1.0-11.el7.x86_64                                110/226 \\n  Verifying  : python-requests-2.6.0-9.el7_8.noarch                     111/226 \\n  Verifying  : libsmartcols-2.23.2-63.el7.x86_64                        112/226 \\n  Verifying  : libffi-3.0.13-19.el7.x86_64                              113/226 \\n  Verifying  : teamd-1.29-1.el7.x86_64                                  114/226 \\n  Verifying  : dracut-config-generic-033-564.el7.x86_64                 115/226 \\n  Verifying  : 2:postfix-2.10.1-7.el7.x86_64                            116/226 \\n  Verifying  : tzdata-2019c-1.el7.noarch                                117/226 \\n  Verifying  : dracut-config-rescue-033-564.el7.x86_64                  118/226 \\n  Verifying  : initscripts-9.49.47-1.el7.x86_64                         119/226 \\n  Verifying  : kernel-tools-3.10.0-1062.12.1.el7.x86_64                 120/226 \\n  Verifying  : lshw-B.02.18-13.el7.x86_64                               121/226 \\n  Verifying  : elfutils-default-yama-scope-0.176-2.el7.noarch           122/226 \\n  Verifying  : acl-2.2.51-14.el7.x86_64                                 123/226 \\n  Verifying  : binutils-2.27-41.base.el7_7.2.x86_64                     124/226 \\n  Verifying  : dracut-network-033-564.el7.x86_64                        125/226 \\n  Verifying  : python-libs-2.7.5-86.el7.x86_64                          126/226 \\n  Verifying  : rsyslog-8.24.0-41.el7_7.2.x86_64                         127/226 \\n  Verifying  : gettext-0.19.8.1-2.el7.x86_64                            128/226 \\n  Verifying  : file-libs-5.11-35.el7.x86_64                             129/226 \\n  Verifying  : libcurl-7.29.0-54.el7_7.2.x86_64                         130/226 \\n  Verifying  : ca-certificates-2019.2.32-76.el7_7.noarch                131/226 \\n  Verifying  : tuned-2.11.0-5.el7_7.1.noarch                            132/226 \\n  Verifying  : kexec-tools-2.0.15-33.el7.x86_64                         133/226 \\n  Verifying  : file-5.11-35.el7.x86_64                                  134/226 \\n  Verifying  : libss-1.42.9-16.el7.x86_64                               135/226 \\n  Verifying  : logrotate-3.8.6-17.el7.x86_64                            136/226 \\n  Verifying  : systemd-sysv-219-67.el7_7.3.x86_64                       137/226 \\n  Verifying  : rpm-libs-4.11.3-40.el7.x86_64                            138/226 \\n  Verifying  : libselinux-python-2.5-14.1.el7.x86_64                    139/226 \\n  Verifying  : 12:dhcp-libs-4.2.5-77.el7.centos.x86_64                  140/226 \\n  Verifying  : python-requests-2.6.0-8.el7_7.noarch                     141/226 \\n  Verifying  : libffi-3.0.13-18.el7.x86_64                              142/226 \\n  Verifying  : 1:grub2-common-2.02-0.80.el7.centos.noarch               143/226 \\n  Verifying  : hwdata-0.252-9.3.el7.x86_64                              144/226 \\n  Verifying  : libteam-1.27-9.el7.x86_64                                145/226 \\n  Verifying  : elfutils-libelf-0.176-2.el7.x86_64                       146/226 \\n  Verifying  : setup-2.8.71-10.el7.noarch                               147/226 \\n  Verifying  : 1:grub2-tools-2.02-0.80.el7.centos.x86_64                148/226 \\n  Verifying  : 1:grub2-pc-2.02-0.80.el7.centos.x86_64                   149/226 \\n  Verifying  : util-linux-2.23.2-61.el7_7.1.x86_64                      150/226 \\n  Verifying  : sudo-1.8.23-4.el7_7.2.x86_64                             151/226 \\n  Verifying  : kernel-tools-libs-3.10.0-1062.12.1.el7.x86_64            152/226 \\n  Verifying  : polkit-0.112-22.el7_7.1.x86_64                           153/226 \\n  Verifying  : iptables-1.4.21-33.el7.x86_64                            154/226 \\n  Verifying  : 32:bind-export-libs-9.11.4-9.P2.el7.x86_64               155/226 \\n  Verifying  : libuuid-2.23.2-61.el7_7.1.x86_64                         156/226 \\n  Verifying  : 1:grub2-2.02-0.80.el7.centos.x86_64                      157/226 \\n  Verifying  : passwd-0.79-5.el7.x86_64                                 158/226 \\n  Verifying  : python-urlgrabber-3.10-9.el7.noarch                      159/226 \\n  Verifying  : python-2.7.5-86.el7.x86_64                               160/226 \\n  Verifying  : systemd-libs-219-67.el7_7.3.x86_64                       161/226 \\n  Verifying  : cloud-init-18.5-3.el7.centos.x86_64                      162/226 \\n  Verifying  : libxml2-python-2.9.1-6.el7_2.3.x86_64                    163/226 \\n  Verifying  : numactl-libs-2.0.12-3.el7_7.1.x86_64                     164/226 \\n  Verifying  : policycoreutils-2.5-33.el7.x86_64                        165/226 \\n  Verifying  : libblkid-2.23.2-61.el7_7.1.x86_64                        166/226 \\n  Verifying  : libselinux-utils-2.5-14.1.el7.x86_64                     167/226 \\n  Verifying  : yum-utils-1.1.31-52.el7.noarch                           168/226 \\n  Verifying  : e2fsprogs-libs-1.42.9-16.el7.x86_64                      169/226 \\n  Verifying  : shared-mime-info-1.8-4.el7.x86_64                        170/226 \\n  Verifying  : 12:dhcp-common-4.2.5-77.el7.centos.x86_64                171/226 \\n  Verifying  : yum-plugin-fastestmirror-1.1.31-52.el7.noarch            172/226 \\n  Verifying  : libselinux-2.5-14.1.el7.x86_64                           173/226 \\n  Verifying  : kmod-libs-20-25.el7.x86_64                               174/226 \\n  Verifying  : libseccomp-2.3.1-3.el7.x86_64                            175/226 \\n  Verifying  : centos-release-7-7.1908.0.el7.centos.x86_64              176/226 \\n  Verifying  : gettext-libs-0.19.8.1-2.el7.x86_64                       177/226 \\n  Verifying  : 7:device-mapper-1.02.158-2.el7_7.2.x86_64                178/226 \\n  Verifying  : cryptsetup-libs-2.0.3-5.el7.x86_64                       179/226 \\n  Verifying  : libxml2-2.9.1-6.el7_2.3.x86_64                           180/226 \\n  Verifying  : teamd-1.27-9.el7.x86_64                                  181/226 \\n  Verifying  : policycoreutils-python-2.5-33.el7.x86_64                 182/226 \\n  Verifying  : 1:dbus-libs-1.10.24-13.el7_6.x86_64                      183/226 \\n  Verifying  : sed-4.2.2-5.el7.x86_64                                   184/226 \\n  Verifying  : 1:dbus-1.10.24-13.el7_6.x86_64                           185/226 \\n  Verifying  : yum-3.4.3-163.el7.centos.noarch                          186/226 \\n  Verifying  : glibc-common-2.17-292.el7.x86_64                         187/226 \\n  Verifying  : gssproxy-0.7.0-26.el7.x86_64                             188/226 \\n  Verifying  : selinux-policy-targeted-3.13.1-252.el7_7.6.noarch        189/226 \\n  Verifying  : pam-1.1.8-22.el7.x86_64                                  190/226 \\n  Verifying  : sg3_utils-libs-1.37-18.el7_7.2.x86_64                    191/226 \\n  Verifying  : 2:microcode_ctl-2.1-53.7.el7_7.x86_64                    192/226 \\n  Verifying  : iwl7265-firmware-22.0.7.0-72.el7.noarch                  193/226 \\n  Verifying  : 1:grub2-tools-minimal-2.02-0.80.el7.centos.x86_64        194/226 \\n  Verifying  : python-perf-3.10.0-1062.12.1.el7.x86_64                  195/226 \\n  Verifying  : expat-2.1.0-10.el7_3.x86_64                              196/226 \\n  Verifying  : 1:mariadb-libs-5.5.64-1.el7.x86_64                       197/226 \\n  Verifying  : 1:grub2-tools-extra-2.02-0.80.el7.centos.x86_64          198/226 \\n  Verifying  : bash-4.2.46-33.el7.x86_64                                199/226 \\n  Verifying  : parted-3.1-31.el7.x86_64                                 200/226 \\n  Verifying  : elfutils-libs-0.176-2.el7.x86_64                         201/226 \\n  Verifying  : 1:nfs-utils-1.3.0-0.65.el7.x86_64                        202/226 \\n  Verifying  : rsync-3.1.2-6.el7_6.1.x86_64                             203/226 \\n  Verifying  : selinux-policy-3.13.1-252.el7_7.6.noarch                 204/226 \\n  Verifying  : 1:grub2-pc-modules-2.02-0.80.el7.centos.noarch           205/226 \\n  Verifying  : rpm-4.11.3-40.el7.x86_64                                 206/226 \\n  Verifying  : procps-ng-3.3.10-26.el7_7.1.x86_64                       207/226 \\n  Verifying  : sg3_utils-1.37-18.el7_7.2.x86_64                         208/226 \\n  Verifying  : krb5-libs-1.15.1-37.el7_7.2.x86_64                       209/226 \\n  Verifying  : dracut-033-564.el7.x86_64                                210/226 \\n  Verifying  : rpm-python-4.11.3-40.el7.x86_64                          211/226 \\n  Verifying  : curl-7.29.0-54.el7_7.2.x86_64                            212/226 \\n  Verifying  : libmount-2.23.2-61.el7_7.1.x86_64                        213/226 \\n  Verifying  : 7:device-mapper-libs-1.02.158-2.el7_7.2.x86_64           214/226 \\n  Verifying  : systemd-219-67.el7_7.3.x86_64                            215/226 \\n  Verifying  : libacl-2.2.51-14.el7.x86_64                              216/226 \\n  Verifying  : kpartx-0.4.9-127.el7.x86_64                              217/226 \\n  Verifying  : libcap-2.22-10.el7.x86_64                                218/226 \\n  Verifying  : libcom_err-1.42.9-16.el7.x86_64                          219/226 \\n  Verifying  : glibc-2.17-292.el7.x86_64                                220/226 \\n  Verifying  : rpcbind-0.2.0-48.el7.x86_64                              221/226 \\n  Verifying  : libsmartcols-2.23.2-61.el7_7.1.x86_64                    222/226 \\n  Verifying  : kmod-20-25.el7.x86_64                                    223/226 \\n  Verifying  : e2fsprogs-1.42.9-16.el7.x86_64                           224/226 \\n  Verifying  : rpm-build-libs-4.11.3-40.el7.x86_64                      225/226 \\n  Verifying  : 12:dhclient-4.2.5-77.el7.centos.x86_64                   226/226 \\n\\nInstalled:\\n  iwl7260-firmware.noarch 0:25.30.13.0-76.el7                                   \\n  kernel.x86_64 0:3.10.0-1127.19.1.el7                                          \\n\\nDependency Installed:\\n  linux-firmware.noarch 0:20191203-76.gite8a0f4c.el7                            \\n\\nUpdated:\\n  acl.x86_64 0:2.2.51-15.el7                                                    \\n  bash.x86_64 0:4.2.46-34.el7                                                   \\n  bind-export-libs.x86_64 32:9.11.4-16.P2.el7_8.6                               \\n  binutils.x86_64 0:2.27-43.base.el7_8.1                                        \\n  ca-certificates.noarch 0:2020.2.41-70.0.el7_8                                 \\n  centos-release.x86_64 0:7-8.2003.0.el7.centos                                 \\n  cloud-init.x86_64 0:18.5-6.el7.centos.5                                       \\n  cryptsetup-libs.x86_64 0:2.0.3-6.el7                                          \\n  curl.x86_64 0:7.29.0-57.el7_8.1                                               \\n  dbus.x86_64 1:1.10.24-14.el7_8                                                \\n  dbus-libs.x86_64 1:1.10.24-14.el7_8                                           \\n  device-mapper.x86_64 7:1.02.164-7.el7_8.2                                     \\n  device-mapper-libs.x86_64 7:1.02.164-7.el7_8.2                                \\n  dhclient.x86_64 12:4.2.5-79.el7.centos                                        \\n  dhcp-common.x86_64 12:4.2.5-79.el7.centos                                     \\n  dhcp-libs.x86_64 12:4.2.5-79.el7.centos                                       \\n  dracut.x86_64 0:033-568.el7                                                   \\n  dracut-config-generic.x86_64 0:033-568.el7                                    \\n  dracut-config-rescue.x86_64 0:033-568.el7                                     \\n  dracut-network.x86_64 0:033-568.el7                                           \\n  e2fsprogs.x86_64 0:1.42.9-17.el7                                              \\n  e2fsprogs-libs.x86_64 0:1.42.9-17.el7                                         \\n  elfutils-default-yama-scope.noarch 0:0.176-4.el7                              \\n  elfutils-libelf.x86_64 0:0.176-4.el7                                          \\n  elfutils-libs.x86_64 0:0.176-4.el7                                            \\n  expat.x86_64 0:2.1.0-11.el7                                                   \\n  file.x86_64 0:5.11-36.el7                                                     \\n  file-libs.x86_64 0:5.11-36.el7                                                \\n  gettext.x86_64 0:0.19.8.1-3.el7                                               \\n  gettext-libs.x86_64 0:0.19.8.1-3.el7                                          \\n  glibc.x86_64 0:2.17-307.el7.1                                                 \\n  glibc-common.x86_64 0:2.17-307.el7.1                                          \\n  grub2.x86_64 1:2.02-0.86.el7.centos                                           \\n  grub2-common.noarch 1:2.02-0.86.el7.centos                                    \\n  grub2-pc.x86_64 1:2.02-0.86.el7.centos                                        \\n  grub2-pc-modules.noarch 1:2.02-0.86.el7.centos                                \\n  grub2-tools.x86_64 1:2.02-0.86.el7.centos                                     \\n  grub2-tools-extra.x86_64 1:2.02-0.86.el7.centos                               \\n  grub2-tools-minimal.x86_64 1:2.02-0.86.el7.centos                             \\n  gssproxy.x86_64 0:0.7.0-28.el7                                                \\n  hwdata.x86_64 0:0.252-9.5.el7                                                 \\n  initscripts.x86_64 0:9.49.49-1.el7                                            \\n  iptables.x86_64 0:1.4.21-34.el7                                               \\n  kernel-tools.x86_64 0:3.10.0-1127.19.1.el7                                    \\n  kernel-tools-libs.x86_64 0:3.10.0-1127.19.1.el7                               \\n  kexec-tools.x86_64 0:2.0.15-43.el7                                            \\n  kmod.x86_64 0:20-28.el7                                                       \\n  kmod-libs.x86_64 0:20-28.el7                                                  \\n  kpartx.x86_64 0:0.4.9-131.el7                                                 \\n  krb5-libs.x86_64 0:1.15.1-46.el7                                              \\n  libacl.x86_64 0:2.2.51-15.el7                                                 \\n  libblkid.x86_64 0:2.23.2-63.el7                                               \\n  libcap.x86_64 0:2.22-11.el7                                                   \\n  libcom_err.x86_64 0:1.42.9-17.el7                                             \\n  libcurl.x86_64 0:7.29.0-57.el7_8.1                                            \\n  libffi.x86_64 0:3.0.13-19.el7                                                 \\n  libmount.x86_64 0:2.23.2-63.el7                                               \\n  libseccomp.x86_64 0:2.3.1-4.el7                                               \\n  libselinux.x86_64 0:2.5-15.el7                                                \\n  libselinux-python.x86_64 0:2.5-15.el7                                         \\n  libselinux-utils.x86_64 0:2.5-15.el7                                          \\n  libsmartcols.x86_64 0:2.23.2-63.el7                                           \\n  libss.x86_64 0:1.42.9-17.el7                                                  \\n  libteam.x86_64 0:1.29-1.el7                                                   \\n  libuuid.x86_64 0:2.23.2-63.el7                                                \\n  libxml2.x86_64 0:2.9.1-6.el7.4                                                \\n  libxml2-python.x86_64 0:2.9.1-6.el7.4                                         \\n  logrotate.x86_64 0:3.8.6-19.el7                                               \\n  lshw.x86_64 0:B.02.18-14.el7                                                  \\n  mariadb-libs.x86_64 1:5.5.65-1.el7                                            \\n  microcode_ctl.x86_64 2:2.1-61.10.el7_8                                        \\n  nfs-utils.x86_64 1:1.3.0-0.66.el7_8                                           \\n  numactl-libs.x86_64 0:2.0.12-5.el7                                            \\n  pam.x86_64 0:1.1.8-23.el7                                                     \\n  parted.x86_64 0:3.1-32.el7                                                    \\n  passwd.x86_64 0:0.79-6.el7                                                    \\n  policycoreutils.x86_64 0:2.5-34.el7                                           \\n  policycoreutils-python.x86_64 0:2.5-34.el7                                    \\n  polkit.x86_64 0:0.112-26.el7                                                  \\n  postfix.x86_64 2:2.10.1-9.el7                                                 \\n  procps-ng.x86_64 0:3.3.10-27.el7                                              \\n  python.x86_64 0:2.7.5-88.el7                                                  \\n  python-libs.x86_64 0:2.7.5-88.el7                                             \\n  python-perf.x86_64 0:3.10.0-1127.19.1.el7                                     \\n  python-requests.noarch 0:2.6.0-9.el7_8                                        \\n  python-urlgrabber.noarch 0:3.10-10.el7                                        \\n  rpcbind.x86_64 0:0.2.0-49.el7                                                 \\n  rpm.x86_64 0:4.11.3-43.el7                                                    \\n  rpm-build-libs.x86_64 0:4.11.3-43.el7                                         \\n  rpm-libs.x86_64 0:4.11.3-43.el7                                               \\n  rpm-python.x86_64 0:4.11.3-43.el7                                             \\n  rsync.x86_64 0:3.1.2-10.el7                                                   \\n  rsyslog.x86_64 0:8.24.0-52.el7_8.2                                            \\n  sed.x86_64 0:4.2.2-6.el7                                                      \\n  selinux-policy.noarch 0:3.13.1-266.el7_8.1                                    \\n  selinux-policy-targeted.noarch 0:3.13.1-266.el7_8.1                           \\n  setup.noarch 0:2.8.71-11.el7                                                  \\n  sg3_utils.x86_64 1:1.37-19.el7                                                \\n  sg3_utils-libs.x86_64 1:1.37-19.el7                                           \\n  shared-mime-info.x86_64 0:1.8-5.el7                                           \\n  sudo.x86_64 0:1.8.23-9.el7                                                    \\n  systemd.x86_64 0:219-73.el7_8.9                                               \\n  systemd-libs.x86_64 0:219-73.el7_8.9                                          \\n  systemd-sysv.x86_64 0:219-73.el7_8.9                                          \\n  teamd.x86_64 0:1.29-1.el7                                                     \\n  tuned.noarch 0:2.11.0-8.el7                                                   \\n  tzdata.noarch 0:2020a-1.el7                                                   \\n  util-linux.x86_64 0:2.23.2-63.el7                                             \\n  yum.noarch 0:3.4.3-167.el7.centos                                             \\n  yum-plugin-fastestmirror.noarch 0:1.1.31-54.el7_8                             \\n  yum-utils.noarch 0:1.1.31-54.el7_8                                            \\n\\nReplaced:\\n  iwl7265-firmware.noarch 0:22.0.7.0-72.el7                                     \\n\\nComplete!\\n\"\u001b[0m\r\n\u001b[0;33m    ]\u001b[0m\r\n\u001b[0;33m}\u001b[0m\r\n"
       }
      ]
     }
    ]
   },
   "outputs": [],
   "source": [
    "!ansible -i hosts $host -m yum -a \"name=* state=latest\" --become"
   ]
  },
  {
   "cell_type": "markdown",
   "metadata": {
    "lc_cell_meme": {
     "current": "f7b63fa2-18f6-11eb-8a40-0242ac140004-1-bcb2",
     "history": [
      {
       "current": "f7b63fa2-18f6-11eb-8a40-0242ac140004-1-bcb2",
       "next": "68738d4a-18f6-11eb-8a40-0242ac140004",
       "previous": "8548ac2a-bdad-11e9-897b-0242ac130003-7-3ff0-a5ed-c160-4dcf-58ef-760f-cb80"
      },
      {
       "current": "f7b63fa2-18f6-11eb-8a40-0242ac140004-1-bcb2",
       "next": "3f03b6f0-18f7-11eb-8a40-0242ac140004",
       "previous": "8548ac2a-bdad-11e9-897b-0242ac130003-7-3ff0-a5ed-c160-4dcf-58ef-760f-cb80"
      },
      {
       "current": "f7b63fa2-18f6-11eb-8a40-0242ac140004-1-bcb2",
       "next": "563048a8-18fb-11eb-8a40-0242ac140004",
       "previous": "8548ac2a-bdad-11e9-897b-0242ac130003-7-3ff0-a5ed-c160-4dcf-58ef-760f-cb80"
      },
      {
       "current": "f7b63fa2-18f6-11eb-8a40-0242ac140004-1-bcb2",
       "next": "563048a8-18fb-11eb-8a40-0242ac140004",
       "previous": "68738d4a-18f6-11eb-8a40-0242ac140004"
      },
      {
       "current": "f7b63fa2-18f6-11eb-8a40-0242ac140004-1-bcb2",
       "next": "c2caf7be-1901-11eb-8a40-0242ac140004",
       "previous": "68738d4a-18f6-11eb-8a40-0242ac140004"
      }
     ],
     "next": "563048a8-18fb-11eb-8a40-0242ac140004",
     "previous": "68738d4a-18f6-11eb-8a40-0242ac140004"
    }
   },
   "source": [
    "## Docker環境を構築"
   ]
  },
  {
   "cell_type": "markdown",
   "metadata": {
    "lc_cell_meme": {
     "current": "563048a8-18fb-11eb-8a40-0242ac140004",
     "history": [
      {
       "current": "563048a8-18fb-11eb-8a40-0242ac140004",
       "next": "56304a42-18fb-11eb-8a40-0242ac140004",
       "previous": "f7b63fa2-18f6-11eb-8a40-0242ac140004-1-bcb2"
      },
      {
       "current": "563048a8-18fb-11eb-8a40-0242ac140004",
       "next": "56304a42-18fb-11eb-8a40-0242ac140004",
       "previous": "c2caf7be-1901-11eb-8a40-0242ac140004"
      }
     ],
     "next": "56304a42-18fb-11eb-8a40-0242ac140004",
     "previous": "f7b63fa2-18f6-11eb-8a40-0242ac140004-1-bcb2"
    }
   },
   "source": [
    "https://docs.docker.com/engine/install/centos/\n",
    "\n",
    "公式手順を使って構築します。"
   ]
  },
  {
   "cell_type": "code",
   "execution_count": null,
   "metadata": {
    "lc_cell_meme": {
     "current": "56304a42-18fb-11eb-8a40-0242ac140004",
     "history": [
      {
       "current": "56304a42-18fb-11eb-8a40-0242ac140004",
       "next": "3f03b6f0-18f7-11eb-8a40-0242ac140004",
       "previous": "563048a8-18fb-11eb-8a40-0242ac140004"
      },
      {
       "current": "56304a42-18fb-11eb-8a40-0242ac140004",
       "next": "e5663a00-18fb-11eb-8a40-0242ac140004",
       "previous": "563048a8-18fb-11eb-8a40-0242ac140004"
      }
     ],
     "next": "3f03b6f0-18f7-11eb-8a40-0242ac140004",
     "previous": "563048a8-18fb-11eb-8a40-0242ac140004"
    },
    "lc_wrapper": {
     "log_history": [
      "/home/nagaku/notebooks/docker-handson/.log/20201028/20201028-094017-0323.log",
      "/home/nagaku/notebooks/docker-handson/.log/20201028/20201028-094356-0516.log",
      "/home/nagaku/notebooks/docker-handson/.log/20201029/20201029-073723-0477.log",
      "/home/nagaku/notebooks/docker-handson/.log/20201030/20201030-000807-0953.log",
      "/home/nagaku/notebooks/docker-handson/.log/20201030/20201030-004716-0479.log",
      "/home/nagaku/notebooks/docker-handson/.log/20201030/20201030-013851-0641.log",
      "/home/nagaku/notebooks/docker-handson/.log/20201030/20201030-062529-0939.log"
     ]
    },
    "pinned_outputs": [
     {
      "execution_count": 15,
      "outputs": [
       {
        "name": "stdout",
        "output_type": "stream",
        "text": "\u001b[0;32m172.31.63.5 | SUCCESS => {\u001b[0m\r\n\u001b[0;32m    \"ansible_facts\": {\u001b[0m\r\n\u001b[0;32m        \"discovered_interpreter_python\": \"/usr/bin/python\"\u001b[0m\r\n\u001b[0;32m    },\u001b[0m\r\n\u001b[0;32m    \"changed\": false,\u001b[0m\r\n\u001b[0;32m    \"msg\": \"\",\u001b[0m\r\n\u001b[0;32m    \"rc\": 0,\u001b[0m\r\n\u001b[0;32m    \"results\": [\u001b[0m\r\n\u001b[0;32m        \"docker is not installed\",\u001b[0m\r\n\u001b[0;32m        \"docker-client is not installed\",\u001b[0m\r\n\u001b[0;32m        \"docker-client-latest is not installed\",\u001b[0m\r\n\u001b[0;32m        \"docker-common is not installed\",\u001b[0m\r\n\u001b[0;32m        \"docker-latest is not installed\",\u001b[0m\r\n\u001b[0;32m        \"docker-latest-logrotate is not installed\",\u001b[0m\r\n\u001b[0;32m        \"docker-logrotate is not installed\",\u001b[0m\r\n\u001b[0;32m        \"docker-engine is not installed\"\u001b[0m\r\n\u001b[0;32m    ]\u001b[0m\r\n\u001b[0;32m}\u001b[0m\r\n"
       }
      ]
     }
    ]
   },
   "outputs": [],
   "source": [
    "!ansible -i hosts $host -m yum -a \"name=docker,docker-client,docker-client-latest,docker-common,docker-latest,docker-latest-logrotate,docker-logrotate,docker-engine \\\n",
    "state=absent autoremove=yes\" --become"
   ]
  },
  {
   "cell_type": "code",
   "execution_count": null,
   "metadata": {
    "lc_cell_meme": {
     "current": "3f03b6f0-18f7-11eb-8a40-0242ac140004",
     "history": [
      {
       "current": "3f03b6f0-18f7-11eb-8a40-0242ac140004",
       "next": "68738f52-18f6-11eb-8a40-0242ac140004",
       "previous": "68738d4a-18f6-11eb-8a40-0242ac140004"
      },
      {
       "current": "3f03b6f0-18f7-11eb-8a40-0242ac140004",
       "next": "68738d4a-18f6-11eb-8a40-0242ac140004",
       "previous": "f7b63fa2-18f6-11eb-8a40-0242ac140004-1-bcb2"
      },
      {
       "current": "3f03b6f0-18f7-11eb-8a40-0242ac140004",
       "next": "68738d4a-18f6-11eb-8a40-0242ac140004",
       "previous": "56304a42-18fb-11eb-8a40-0242ac140004"
      },
      {
       "current": "3f03b6f0-18f7-11eb-8a40-0242ac140004",
       "next": "68738d4a-18f6-11eb-8a40-0242ac140004",
       "previous": "e5663c76-18fb-11eb-8a40-0242ac140004"
      }
     ],
     "next": "03097116-18fd-11eb-8a40-0242ac140004",
     "previous": "56304a42-18fb-11eb-8a40-0242ac140004"
    },
    "lc_wrapper": {
     "log_history": [
      "/home/nagaku/notebooks/docker-handson/.log/20201028/20201028-082635-0424.log",
      "/home/nagaku/notebooks/docker-handson/.log/20201028/20201028-094420-0787.log",
      "/home/nagaku/notebooks/docker-handson/.log/20201029/20201029-073726-0975.log",
      "/home/nagaku/notebooks/docker-handson/.log/20201030/20201030-000811-0487.log",
      "/home/nagaku/notebooks/docker-handson/.log/20201030/20201030-004719-0796.log",
      "/home/nagaku/notebooks/docker-handson/.log/20201030/20201030-013855-0504.log",
      "/home/nagaku/notebooks/docker-handson/.log/20201030/20201030-062533-0081.log"
     ]
    },
    "pinned_outputs": [
     {
      "execution_count": 16,
      "outputs": [
       {
        "name": "stdout",
        "output_type": "stream",
        "text": "\u001b[0;32m172.31.63.5 | SUCCESS => {\u001b[0m\r\n\u001b[0;32m    \"ansible_facts\": {\u001b[0m\r\n\u001b[0;32m        \"discovered_interpreter_python\": \"/usr/bin/python\"\u001b[0m\r\n\u001b[0;32m    },\u001b[0m\r\n\u001b[0;32m    \"changed\": false,\u001b[0m\r\n\u001b[0;32m    \"changes\": {\u001b[0m\r\n\u001b[0;32m        \"installed\": [],\u001b[0m\r\n\u001b[0;32m        \"updated\": []\u001b[0m\r\n\u001b[0;32m    },\u001b[0m\r\n\u001b[0;32m    \"msg\": \"\",\u001b[0m\r\n\u001b[0;32m    \"rc\": 0,\u001b[0m\r\n\u001b[0;32m    \"results\": [\u001b[0m\r\n\u001b[0;32m        \"All packages providing yum-utils are up to date\",\u001b[0m\r\n\u001b[0;32m        \"\"\u001b[0m\r\n\u001b[0;32m    ]\u001b[0m\r\n\u001b[0;32m}\u001b[0m\r\n"
       }
      ]
     }
    ]
   },
   "outputs": [],
   "source": [
    "!ansible -i hosts $host -m yum -a \"name=yum-utils state=latest\" --become"
   ]
  },
  {
   "cell_type": "code",
   "execution_count": null,
   "metadata": {
    "lc_cell_meme": {
     "current": "03097116-18fd-11eb-8a40-0242ac140004",
     "next": "e5663a00-18fb-11eb-8a40-0242ac140004",
     "previous": "3f03b6f0-18f7-11eb-8a40-0242ac140004"
    },
    "lc_wrapper": {
     "log_history": [
      "/home/nagaku/notebooks/docker-handson/.log/20201028/20201028-094425-0627.log",
      "/home/nagaku/notebooks/docker-handson/.log/20201029/20201029-073730-0349.log",
      "/home/nagaku/notebooks/docker-handson/.log/20201030/20201030-000815-0242.log",
      "/home/nagaku/notebooks/docker-handson/.log/20201030/20201030-004723-0230.log",
      "/home/nagaku/notebooks/docker-handson/.log/20201030/20201030-013859-0184.log",
      "/home/nagaku/notebooks/docker-handson/.log/20201030/20201030-062536-0381.log"
     ]
    },
    "pinned_outputs": [
     {
      "execution_count": 17,
      "outputs": [
       {
        "name": "stdout",
        "output_type": "stream",
        "text": "\u001b[0;33m172.31.63.5 | CHANGED | rc=0 >>\u001b[0m\r\n\u001b[0;33mLoaded plugins: fastestmirror\u001b[0m\r\n\u001b[0;33madding repo from: https://download.docker.com/linux/centos/docker-ce.repo\u001b[0m\r\n\u001b[0;33mgrabbing file https://download.docker.com/linux/centos/docker-ce.repo to /etc/yum.repos.d/docker-ce.repo\u001b[0m\r\n\u001b[0;33mrepo saved to /etc/yum.repos.d/docker-ce.repo\u001b[0m\r\n"
       }
      ]
     }
    ]
   },
   "outputs": [],
   "source": [
    "!ansible -i hosts $host -a \"yum-config-manager --add-repo \\\n",
    "https://download.docker.com/linux/centos/docker-ce.repo\" --become"
   ]
  },
  {
   "cell_type": "code",
   "execution_count": null,
   "metadata": {
    "lc_cell_meme": {
     "current": "e5663a00-18fb-11eb-8a40-0242ac140004",
     "history": [
      {
       "current": "e5663a00-18fb-11eb-8a40-0242ac140004",
       "next": "e5663ba4-18fb-11eb-8a40-0242ac140004",
       "previous": "56304a42-18fb-11eb-8a40-0242ac140004"
      },
      {
       "current": "e5663a00-18fb-11eb-8a40-0242ac140004",
       "next": "e5663ba4-18fb-11eb-8a40-0242ac140004",
       "previous": "03097116-18fd-11eb-8a40-0242ac140004"
      }
     ],
     "next": "68739024-18f6-11eb-8a40-0242ac140004",
     "previous": "03097116-18fd-11eb-8a40-0242ac140004"
    },
    "lc_wrapper": {
     "log_history": [
      "/home/nagaku/notebooks/docker-handson/.log/20201028/20201028-094434-0146.log",
      "/home/nagaku/notebooks/docker-handson/.log/20201028/20201028-094451-0790.log",
      "/home/nagaku/notebooks/docker-handson/.log/20201029/20201029-073732-0547.log",
      "/home/nagaku/notebooks/docker-handson/.log/20201030/20201030-000817-0882.log",
      "/home/nagaku/notebooks/docker-handson/.log/20201030/20201030-004725-0482.log",
      "/home/nagaku/notebooks/docker-handson/.log/20201030/20201030-013901-0619.log",
      "/home/nagaku/notebooks/docker-handson/.log/20201030/20201030-062538-0562.log"
     ]
    },
    "pinned_outputs": [
     {
      "execution_count": 18,
      "outputs": [
       {
        "name": "stdout",
        "output_type": "stream",
        "text": "\u001b[0;33m172.31.63.5 | CHANGED => {\u001b[0m\r\n\u001b[0;33m    \"ansible_facts\": {\u001b[0m\r\n\u001b[0;33m        \"discovered_interpreter_python\": \"/usr/bin/python\"\u001b[0m\r\n\u001b[0;33m    },\u001b[0m\r\n\u001b[0;33m    \"changed\": true,\u001b[0m\r\n\u001b[0;33m    \"changes\": {\u001b[0m\r\n\u001b[0;33m        \"installed\": [\u001b[0m\r\n\u001b[0;33m            \"docker-ce\",\u001b[0m\r\n\u001b[0;33m            \"docker-ce-cli\",\u001b[0m\r\n\u001b[0;33m            \"containerd.io\"\u001b[0m\r\n\u001b[0;33m        ],\u001b[0m\r\n\u001b[0;33m        \"updated\": []\u001b[0m\r\n\u001b[0;33m    },\u001b[0m\r\n\u001b[0;33m    \"msg\": \"warning: /var/cache/yum/x86_64/7/docker-ce-stable/packages/containerd.io-1.3.7-3.1.el7.x86_64.rpm: Header V4 RSA/SHA512 Signature, key ID 621e9f35: NOKEY\\nImporting GPG key 0x621E9F35:\\n Userid     : \\\"Docker Release (CE rpm) <docker@docker.com>\\\"\\n Fingerprint: 060a 61c5 1b55 8a7f 742b 77aa c52f eb6b 621e 9f35\\n From       : https://download.docker.com/linux/centos/gpg\\n\",\u001b[0m\r\n\u001b[0;33m    \"rc\": 0,\u001b[0m\r\n\u001b[0;33m    \"results\": [\u001b[0m\r\n\u001b[0;33m        \"Loaded plugins: fastestmirror\\nLoading mirror speeds from cached hostfile\\n * base: d36uatko69830t.cloudfront.net\\n * extras: d36uatko69830t.cloudfront.net\\n * updates: d36uatko69830t.cloudfront.net\\nResolving Dependencies\\n--> Running transaction check\\n---> Package containerd.io.x86_64 0:1.3.7-3.1.el7 will be installed\\n--> Processing Dependency: container-selinux >= 2:2.74 for package: containerd.io-1.3.7-3.1.el7.x86_64\\n---> Package docker-ce.x86_64 3:19.03.13-3.el7 will be installed\\n---> Package docker-ce-cli.x86_64 1:19.03.13-3.el7 will be installed\\n--> Running transaction check\\n---> Package container-selinux.noarch 2:2.119.2-1.911c772.el7_8 will be installed\\n--> Finished Dependency Resolution\\n\\nDependencies Resolved\\n\\n================================================================================\\n Package            Arch    Version                     Repository         Size\\n================================================================================\\nInstalling:\\n containerd.io      x86_64  1.3.7-3.1.el7               docker-ce-stable   29 M\\n docker-ce          x86_64  3:19.03.13-3.el7            docker-ce-stable   24 M\\n docker-ce-cli      x86_64  1:19.03.13-3.el7            docker-ce-stable   38 M\\nInstalling for dependencies:\\n container-selinux  noarch  2:2.119.2-1.911c772.el7_8   extras             40 k\\n\\nTransaction Summary\\n================================================================================\\nInstall  3 Packages (+1 Dependent package)\\n\\nTotal download size: 91 M\\nInstalled size: 385 M\\nDownloading packages:\\nPublic key for containerd.io-1.3.7-3.1.el7.x86_64.rpm is not installed\\n--------------------------------------------------------------------------------\\nTotal                                               31 MB/s |  91 MB  00:02     \\nRetrieving key from https://download.docker.com/linux/centos/gpg\\nRunning transaction check\\nRunning transaction test\\nTransaction test succeeded\\nRunning transaction\\n  Installing : 2:container-selinux-2.119.2-1.911c772.el7_8.noarch           1/4 \\n  Installing : containerd.io-1.3.7-3.1.el7.x86_64                           2/4 \\n  Installing : 1:docker-ce-cli-19.03.13-3.el7.x86_64                        3/4 \\n  Installing : 3:docker-ce-19.03.13-3.el7.x86_64                            4/4 \\n  Verifying  : containerd.io-1.3.7-3.1.el7.x86_64                           1/4 \\n  Verifying  : 2:container-selinux-2.119.2-1.911c772.el7_8.noarch           2/4 \\n  Verifying  : 1:docker-ce-cli-19.03.13-3.el7.x86_64                        3/4 \\n  Verifying  : 3:docker-ce-19.03.13-3.el7.x86_64                            4/4 \\n\\nInstalled:\\n  containerd.io.x86_64 0:1.3.7-3.1.el7     docker-ce.x86_64 3:19.03.13-3.el7   \\n  docker-ce-cli.x86_64 1:19.03.13-3.el7   \\n\\nDependency Installed:\\n  container-selinux.noarch 2:2.119.2-1.911c772.el7_8                            \\n\\nComplete!\\n\"\u001b[0m\r\n\u001b[0;33m    ]\u001b[0m\r\n\u001b[0;33m}\u001b[0m\r\n"
       }
      ]
     }
    ]
   },
   "outputs": [],
   "source": [
    "!ansible -i hosts $host -m yum -a \"name=docker-ce,docker-ce-cli,containerd.io \\\n",
    "state=latest\" --become"
   ]
  },
  {
   "cell_type": "code",
   "execution_count": null,
   "metadata": {
    "lc_cell_meme": {
     "current": "68739024-18f6-11eb-8a40-0242ac140004",
     "history": [
      {
       "current": "68739024-18f6-11eb-8a40-0242ac140004",
       "next": "687390e2-18f6-11eb-8a40-0242ac140004",
       "previous": "68738f52-18f6-11eb-8a40-0242ac140004"
      },
      {
       "current": "68739024-18f6-11eb-8a40-0242ac140004",
       "next": "eb7b0f78-61f5-11ea-ba1c-0242ac120004-5-d557-eb40-7548-fa73-8845",
       "previous": "68738f52-18f6-11eb-8a40-0242ac140004"
      },
      {
       "current": "68739024-18f6-11eb-8a40-0242ac140004",
       "next": "3f03b86c-18f7-11eb-8a40-0242ac140004",
       "previous": "68738f52-18f6-11eb-8a40-0242ac140004"
      }
     ],
     "next": "3f03b86c-18f7-11eb-8a40-0242ac140004",
     "previous": "e5663a00-18fb-11eb-8a40-0242ac140004"
    },
    "lc_wrapper": {
     "log_history": [
      "/home/nagaku/notebooks/docker-handson/.log/20201028/20201028-082812-0376.log",
      "/home/nagaku/notebooks/docker-handson/.log/20201028/20201028-094018-0870.log",
      "/home/nagaku/notebooks/docker-handson/.log/20201028/20201028-094542-0207.log",
      "/home/nagaku/notebooks/docker-handson/.log/20201029/20201029-073804-0813.log",
      "/home/nagaku/notebooks/docker-handson/.log/20201030/20201030-000851-0470.log",
      "/home/nagaku/notebooks/docker-handson/.log/20201030/20201030-004758-0249.log",
      "/home/nagaku/notebooks/docker-handson/.log/20201030/20201030-013940-0031.log",
      "/home/nagaku/notebooks/docker-handson/.log/20201030/20201030-062612-0911.log"
     ]
    },
    "pinned_outputs": [
     {
      "execution_count": 19,
      "outputs": [
       {
        "name": "stdout",
        "output_type": "stream",
        "text": "\u001b[0;33m172.31.63.5 | CHANGED => {\u001b[0m\r\n\u001b[0;33m    \"ansible_facts\": {\u001b[0m\r\n\u001b[0;33m        \"discovered_interpreter_python\": \"/usr/bin/python\"\u001b[0m\r\n\u001b[0;33m    },\u001b[0m\r\n\u001b[0;33m    \"changed\": true,\u001b[0m\r\n\u001b[0;33m    \"enabled\": true,\u001b[0m\r\n\u001b[0;33m    \"name\": \"docker\",\u001b[0m\r\n\u001b[0;33m    \"state\": \"started\",\u001b[0m\r\n\u001b[0;33m    \"status\": {\u001b[0m\r\n\u001b[0;33m        \"ActiveEnterTimestampMonotonic\": \"0\",\u001b[0m\r\n\u001b[0;33m        \"ActiveExitTimestampMonotonic\": \"0\",\u001b[0m\r\n\u001b[0;33m        \"ActiveState\": \"inactive\",\u001b[0m\r\n\u001b[0;33m        \"After\": \"systemd-journald.socket system.slice firewalld.service network-online.target containerd.service docker.socket basic.target\",\u001b[0m\r\n\u001b[0;33m        \"AllowIsolate\": \"no\",\u001b[0m\r\n\u001b[0;33m        \"AmbientCapabilities\": \"0\",\u001b[0m\r\n\u001b[0;33m        \"AssertResult\": \"no\",\u001b[0m\r\n\u001b[0;33m        \"AssertTimestampMonotonic\": \"0\",\u001b[0m\r\n\u001b[0;33m        \"Before\": \"shutdown.target\",\u001b[0m\r\n\u001b[0;33m        \"BindsTo\": \"containerd.service\",\u001b[0m\r\n\u001b[0;33m        \"BlockIOAccounting\": \"no\",\u001b[0m\r\n\u001b[0;33m        \"BlockIOWeight\": \"18446744073709551615\",\u001b[0m\r\n\u001b[0;33m        \"CPUAccounting\": \"no\",\u001b[0m\r\n\u001b[0;33m        \"CPUQuotaPerSecUSec\": \"infinity\",\u001b[0m\r\n\u001b[0;33m        \"CPUSchedulingPolicy\": \"0\",\u001b[0m\r\n\u001b[0;33m        \"CPUSchedulingPriority\": \"0\",\u001b[0m\r\n\u001b[0;33m        \"CPUSchedulingResetOnFork\": \"no\",\u001b[0m\r\n\u001b[0;33m        \"CPUShares\": \"18446744073709551615\",\u001b[0m\r\n\u001b[0;33m        \"CanIsolate\": \"no\",\u001b[0m\r\n\u001b[0;33m        \"CanReload\": \"yes\",\u001b[0m\r\n\u001b[0;33m        \"CanStart\": \"yes\",\u001b[0m\r\n\u001b[0;33m        \"CanStop\": \"yes\",\u001b[0m\r\n\u001b[0;33m        \"CapabilityBoundingSet\": \"18446744073709551615\",\u001b[0m\r\n\u001b[0;33m        \"ConditionResult\": \"no\",\u001b[0m\r\n\u001b[0;33m        \"ConditionTimestampMonotonic\": \"0\",\u001b[0m\r\n\u001b[0;33m        \"Conflicts\": \"shutdown.target\",\u001b[0m\r\n\u001b[0;33m        \"ConsistsOf\": \"docker.socket\",\u001b[0m\r\n\u001b[0;33m        \"ControlPID\": \"0\",\u001b[0m\r\n\u001b[0;33m        \"DefaultDependencies\": \"yes\",\u001b[0m\r\n\u001b[0;33m        \"Delegate\": \"yes\",\u001b[0m\r\n\u001b[0;33m        \"Description\": \"Docker Application Container Engine\",\u001b[0m\r\n\u001b[0;33m        \"DevicePolicy\": \"auto\",\u001b[0m\r\n\u001b[0;33m        \"Documentation\": \"https://docs.docker.com\",\u001b[0m\r\n\u001b[0;33m        \"ExecMainCode\": \"0\",\u001b[0m\r\n\u001b[0;33m        \"ExecMainExitTimestampMonotonic\": \"0\",\u001b[0m\r\n\u001b[0;33m        \"ExecMainPID\": \"0\",\u001b[0m\r\n\u001b[0;33m        \"ExecMainStartTimestampMonotonic\": \"0\",\u001b[0m\r\n\u001b[0;33m        \"ExecMainStatus\": \"0\",\u001b[0m\r\n\u001b[0;33m        \"ExecReload\": \"{ path=/bin/kill ; argv[]=/bin/kill -s HUP $MAINPID ; ignore_errors=no ; start_time=[n/a] ; stop_time=[n/a] ; pid=0 ; code=(null) ; status=0/0 }\",\u001b[0m\r\n\u001b[0;33m        \"ExecStart\": \"{ path=/usr/bin/dockerd ; argv[]=/usr/bin/dockerd -H fd:// --containerd=/run/containerd/containerd.sock ; ignore_errors=no ; start_time=[n/a] ; stop_time=[n/a] ; pid=0 ; code=(null) ; status=0/0 }\",\u001b[0m\r\n\u001b[0;33m        \"FailureAction\": \"none\",\u001b[0m\r\n\u001b[0;33m        \"FileDescriptorStoreMax\": \"0\",\u001b[0m\r\n\u001b[0;33m        \"FragmentPath\": \"/usr/lib/systemd/system/docker.service\",\u001b[0m\r\n\u001b[0;33m        \"GuessMainPID\": \"yes\",\u001b[0m\r\n\u001b[0;33m        \"IOScheduling\": \"0\",\u001b[0m\r\n\u001b[0;33m        \"Id\": \"docker.service\",\u001b[0m\r\n\u001b[0;33m        \"IgnoreOnIsolate\": \"no\",\u001b[0m\r\n\u001b[0;33m        \"IgnoreOnSnapshot\": \"no\",\u001b[0m\r\n\u001b[0;33m        \"IgnoreSIGPIPE\": \"yes\",\u001b[0m\r\n\u001b[0;33m        \"InactiveEnterTimestampMonotonic\": \"0\",\u001b[0m\r\n\u001b[0;33m        \"InactiveExitTimestampMonotonic\": \"0\",\u001b[0m\r\n\u001b[0;33m        \"JobTimeoutAction\": \"none\",\u001b[0m\r\n\u001b[0;33m        \"JobTimeoutUSec\": \"0\",\u001b[0m\r\n\u001b[0;33m        \"KillMode\": \"process\",\u001b[0m\r\n\u001b[0;33m        \"KillSignal\": \"15\",\u001b[0m\r\n\u001b[0;33m        \"LimitAS\": \"18446744073709551615\",\u001b[0m\r\n\u001b[0;33m        \"LimitCORE\": \"18446744073709551615\",\u001b[0m\r\n\u001b[0;33m        \"LimitCPU\": \"18446744073709551615\",\u001b[0m\r\n\u001b[0;33m        \"LimitDATA\": \"18446744073709551615\",\u001b[0m\r\n\u001b[0;33m        \"LimitFSIZE\": \"18446744073709551615\",\u001b[0m\r\n\u001b[0;33m        \"LimitLOCKS\": \"18446744073709551615\",\u001b[0m\r\n\u001b[0;33m        \"LimitMEMLOCK\": \"65536\",\u001b[0m\r\n\u001b[0;33m        \"LimitMSGQUEUE\": \"819200\",\u001b[0m\r\n\u001b[0;33m        \"LimitNICE\": \"0\",\u001b[0m\r\n\u001b[0;33m        \"LimitNOFILE\": \"18446744073709551615\",\u001b[0m\r\n\u001b[0;33m        \"LimitNPROC\": \"18446744073709551615\",\u001b[0m\r\n\u001b[0;33m        \"LimitRSS\": \"18446744073709551615\",\u001b[0m\r\n\u001b[0;33m        \"LimitRTPRIO\": \"0\",\u001b[0m\r\n\u001b[0;33m        \"LimitRTTIME\": \"18446744073709551615\",\u001b[0m\r\n\u001b[0;33m        \"LimitSIGPENDING\": \"14778\",\u001b[0m\r\n\u001b[0;33m        \"LimitSTACK\": \"18446744073709551615\",\u001b[0m\r\n\u001b[0;33m        \"LoadState\": \"loaded\",\u001b[0m\r\n\u001b[0;33m        \"MainPID\": \"0\",\u001b[0m\r\n\u001b[0;33m        \"MemoryAccounting\": \"no\",\u001b[0m\r\n\u001b[0;33m        \"MemoryCurrent\": \"18446744073709551615\",\u001b[0m\r\n\u001b[0;33m        \"MemoryLimit\": \"18446744073709551615\",\u001b[0m\r\n\u001b[0;33m        \"MountFlags\": \"0\",\u001b[0m\r\n\u001b[0;33m        \"Names\": \"docker.service\",\u001b[0m\r\n\u001b[0;33m        \"NeedDaemonReload\": \"no\",\u001b[0m\r\n\u001b[0;33m        \"Nice\": \"0\",\u001b[0m\r\n\u001b[0;33m        \"NoNewPrivileges\": \"no\",\u001b[0m\r\n\u001b[0;33m        \"NonBlocking\": \"no\",\u001b[0m\r\n\u001b[0;33m        \"NotifyAccess\": \"main\",\u001b[0m\r\n\u001b[0;33m        \"OOMScoreAdjust\": \"0\",\u001b[0m\r\n\u001b[0;33m        \"OnFailureJobMode\": \"replace\",\u001b[0m\r\n\u001b[0;33m        \"PermissionsStartOnly\": \"no\",\u001b[0m\r\n\u001b[0;33m        \"PrivateDevices\": \"no\",\u001b[0m\r\n\u001b[0;33m        \"PrivateNetwork\": \"no\",\u001b[0m\r\n\u001b[0;33m        \"PrivateTmp\": \"no\",\u001b[0m\r\n\u001b[0;33m        \"ProtectHome\": \"no\",\u001b[0m\r\n\u001b[0;33m        \"ProtectSystem\": \"no\",\u001b[0m\r\n\u001b[0;33m        \"RefuseManualStart\": \"no\",\u001b[0m\r\n\u001b[0;33m        \"RefuseManualStop\": \"no\",\u001b[0m\r\n\u001b[0;33m        \"RemainAfterExit\": \"no\",\u001b[0m\r\n\u001b[0;33m        \"Requires\": \"basic.target docker.socket system.slice\",\u001b[0m\r\n\u001b[0;33m        \"Restart\": \"always\",\u001b[0m\r\n\u001b[0;33m        \"RestartUSec\": \"2s\",\u001b[0m\r\n\u001b[0;33m        \"Result\": \"success\",\u001b[0m\r\n\u001b[0;33m        \"RootDirectoryStartOnly\": \"no\",\u001b[0m\r\n\u001b[0;33m        \"RuntimeDirectoryMode\": \"0755\",\u001b[0m\r\n\u001b[0;33m        \"SameProcessGroup\": \"no\",\u001b[0m\r\n\u001b[0;33m        \"SecureBits\": \"0\",\u001b[0m\r\n\u001b[0;33m        \"SendSIGHUP\": \"no\",\u001b[0m\r\n\u001b[0;33m        \"SendSIGKILL\": \"yes\",\u001b[0m\r\n\u001b[0;33m        \"Slice\": \"system.slice\",\u001b[0m\r\n\u001b[0;33m        \"StandardError\": \"inherit\",\u001b[0m\r\n\u001b[0;33m        \"StandardInput\": \"null\",\u001b[0m\r\n\u001b[0;33m        \"StandardOutput\": \"journal\",\u001b[0m\r\n\u001b[0;33m        \"StartLimitAction\": \"none\",\u001b[0m\r\n\u001b[0;33m        \"StartLimitBurst\": \"3\",\u001b[0m\r\n\u001b[0;33m        \"StartLimitInterval\": \"60000000\",\u001b[0m\r\n\u001b[0;33m        \"StartupBlockIOWeight\": \"18446744073709551615\",\u001b[0m\r\n\u001b[0;33m        \"StartupCPUShares\": \"18446744073709551615\",\u001b[0m\r\n\u001b[0;33m        \"StatusErrno\": \"0\",\u001b[0m\r\n\u001b[0;33m        \"StopWhenUnneeded\": \"no\",\u001b[0m\r\n\u001b[0;33m        \"SubState\": \"dead\",\u001b[0m\r\n\u001b[0;33m        \"SyslogLevelPrefix\": \"yes\",\u001b[0m\r\n\u001b[0;33m        \"SyslogPriority\": \"30\",\u001b[0m\r\n\u001b[0;33m        \"SystemCallErrorNumber\": \"0\",\u001b[0m\r\n\u001b[0;33m        \"TTYReset\": \"no\",\u001b[0m\r\n\u001b[0;33m        \"TTYVHangup\": \"no\",\u001b[0m\r\n\u001b[0;33m        \"TTYVTDisallocate\": \"no\",\u001b[0m\r\n\u001b[0;33m        \"TasksAccounting\": \"no\",\u001b[0m\r\n\u001b[0;33m        \"TasksCurrent\": \"18446744073709551615\",\u001b[0m\r\n\u001b[0;33m        \"TasksMax\": \"18446744073709551615\",\u001b[0m\r\n\u001b[0;33m        \"TimeoutStartUSec\": \"0\",\u001b[0m\r\n\u001b[0;33m        \"TimeoutStopUSec\": \"0\",\u001b[0m\r\n\u001b[0;33m        \"TimerSlackNSec\": \"50000\",\u001b[0m\r\n\u001b[0;33m        \"Transient\": \"no\",\u001b[0m\r\n\u001b[0;33m        \"TriggeredBy\": \"docker.socket\",\u001b[0m\r\n\u001b[0;33m        \"Type\": \"notify\",\u001b[0m\r\n\u001b[0;33m        \"UMask\": \"0022\",\u001b[0m\r\n\u001b[0;33m        \"UnitFilePreset\": \"disabled\",\u001b[0m\r\n\u001b[0;33m        \"UnitFileState\": \"disabled\",\u001b[0m\r\n\u001b[0;33m        \"Wants\": \"network-online.target\",\u001b[0m\r\n\u001b[0;33m        \"WatchdogTimestampMonotonic\": \"0\",\u001b[0m\r\n\u001b[0;33m        \"WatchdogUSec\": \"0\"\u001b[0m\r\n\u001b[0;33m    }\u001b[0m\r\n\u001b[0;33m}\u001b[0m\r\n"
       }
      ]
     }
    ]
   },
   "outputs": [],
   "source": [
    "!ansible -i hosts $host -m service \\\n",
    "-a \"name=docker state=started enabled=yes\" --become"
   ]
  },
  {
   "cell_type": "code",
   "execution_count": null,
   "metadata": {
    "lc_cell_meme": {
     "current": "3f03b86c-18f7-11eb-8a40-0242ac140004",
     "history": [
      {
       "current": "3f03b86c-18f7-11eb-8a40-0242ac140004",
       "next": "eb7b0f78-61f5-11ea-ba1c-0242ac120004-5-d557-eb40-7548-fa73-8845",
       "previous": "68739024-18f6-11eb-8a40-0242ac140004"
      }
     ],
     "next": "ce92b668-18f7-11eb-8a40-0242ac140004",
     "previous": "68739024-18f6-11eb-8a40-0242ac140004"
    },
    "lc_wrapper": {
     "log_history": [
      "/home/nagaku/notebooks/docker-handson/.log/20201028/20201028-082908-0098.log",
      "/home/nagaku/notebooks/docker-handson/.log/20201028/20201028-094549-0379.log",
      "/home/nagaku/notebooks/docker-handson/.log/20201029/20201029-073809-0098.log",
      "/home/nagaku/notebooks/docker-handson/.log/20201030/20201030-000856-0322.log",
      "/home/nagaku/notebooks/docker-handson/.log/20201030/20201030-004803-0796.log",
      "/home/nagaku/notebooks/docker-handson/.log/20201030/20201030-013944-0810.log",
      "/home/nagaku/notebooks/docker-handson/.log/20201030/20201030-062617-0136.log"
     ]
    },
    "pinned_outputs": [
     {
      "execution_count": 20,
      "outputs": [
       {
        "name": "stdout",
        "output_type": "stream",
        "text": "\u001b[0;33m172.31.63.5 | CHANGED | rc=0 >>\u001b[0m\r\n\u001b[0;33mDocker version 19.03.13, build 4484c46d9d\u001b[0m\r\n"
       }
      ]
     }
    ]
   },
   "outputs": [],
   "source": [
    "!ansible -i hosts $host -a \"docker --version\" --become"
   ]
  },
  {
   "cell_type": "code",
   "execution_count": null,
   "metadata": {
    "lc_cell_meme": {
     "current": "ce92b668-18f7-11eb-8a40-0242ac140004",
     "history": [
      {
       "current": "ce92b668-18f7-11eb-8a40-0242ac140004",
       "next": "ce92b7ee-18f7-11eb-8a40-0242ac140004",
       "previous": "3f03b86c-18f7-11eb-8a40-0242ac140004"
      }
     ],
     "next": "e5663ba4-18fb-11eb-8a40-0242ac140004-1-41e6",
     "previous": "3f03b86c-18f7-11eb-8a40-0242ac140004"
    },
    "lc_wrapper": {
     "log_history": [
      "/home/nagaku/notebooks/docker-handson/.log/20201028/20201028-082912-0829.log",
      "/home/nagaku/notebooks/docker-handson/.log/20201028/20201028-094552-0807.log",
      "/home/nagaku/notebooks/docker-handson/.log/20201029/20201029-073811-0015.log",
      "/home/nagaku/notebooks/docker-handson/.log/20201030/20201030-000858-0514.log",
      "/home/nagaku/notebooks/docker-handson/.log/20201030/20201030-004805-0755.log",
      "/home/nagaku/notebooks/docker-handson/.log/20201030/20201030-013947-0061.log",
      "/home/nagaku/notebooks/docker-handson/.log/20201030/20201030-062619-0003.log"
     ]
    },
    "pinned_outputs": [
     {
      "execution_count": 21,
      "outputs": [
       {
        "name": "stdout",
        "output_type": "stream",
        "text": "\u001b[0;33m172.31.63.5 | CHANGED | rc=0 >>\u001b[0m\r\n\u001b[0;33mCONTAINER ID        IMAGE               COMMAND             CREATED             STATUS              PORTS               NAMES\u001b[0m\r\n"
       }
      ]
     }
    ],
    "scrolled": true
   },
   "outputs": [],
   "source": [
    "!ansible -i hosts $host -a \"docker ps -a\" --become"
   ]
  },
  {
   "cell_type": "markdown",
   "metadata": {
    "lc_cell_meme": {
     "current": "e5663ba4-18fb-11eb-8a40-0242ac140004-1-41e6",
     "history": [
      {
       "current": "e5663ba4-18fb-11eb-8a40-0242ac140004",
       "next": "e5663c76-18fb-11eb-8a40-0242ac140004",
       "previous": "e5663a00-18fb-11eb-8a40-0242ac140004"
      },
      {
       "current": "e5663ba4-18fb-11eb-8a40-0242ac140004",
       "next": "68738d4a-18f6-11eb-8a40-0242ac140004",
       "previous": "e5663a00-18fb-11eb-8a40-0242ac140004"
      },
      {
       "current": "e5663ba4-18fb-11eb-8a40-0242ac140004-1-41e6",
       "next": "e5663c76-18fb-11eb-8a40-0242ac140004",
       "previous": "e5663a00-18fb-11eb-8a40-0242ac140004"
      },
      {
       "current": "e5663ba4-18fb-11eb-8a40-0242ac140004-1-41e6",
       "next": "e5663c76-18fb-11eb-8a40-0242ac140004",
       "previous": "ce92b668-18f7-11eb-8a40-0242ac140004"
      },
      {
       "current": "e5663ba4-18fb-11eb-8a40-0242ac140004-1-41e6",
       "next": "15f5b958-1900-11eb-8a40-0242ac140004",
       "previous": "ce92b668-18f7-11eb-8a40-0242ac140004"
      }
     ],
     "next": "c925add6-19b8-11eb-a66f-0242ac140004",
     "previous": "ce92b668-18f7-11eb-8a40-0242ac140004"
    }
   },
   "source": [
    "docker-composeをインストールします。\n",
    "\n",
    "https://docs.docker.com/compose/install/"
   ]
  },
  {
   "cell_type": "code",
   "execution_count": null,
   "metadata": {
    "lc_cell_meme": {
     "current": "c925add6-19b8-11eb-a66f-0242ac140004",
     "history": [
      {
       "current": "c925add6-19b8-11eb-a66f-0242ac140004",
       "next": "c925b024-19b8-11eb-a66f-0242ac140004",
       "previous": "e5663ba4-18fb-11eb-8a40-0242ac140004-1-41e6"
      },
      {
       "current": "c925add6-19b8-11eb-a66f-0242ac140004",
       "next": "2e983570-19ba-11eb-a66f-0242ac140004",
       "previous": "e5663ba4-18fb-11eb-8a40-0242ac140004-1-41e6"
      }
     ],
     "next": "c925b024-19b8-11eb-a66f-0242ac140004",
     "previous": "e5663ba4-18fb-11eb-8a40-0242ac140004-1-41e6"
    },
    "lc_wrapper": {
     "log_history": [
      "/home/nagaku/notebooks/docker-handson/.log/20201029/20201029-074032-0156.log",
      "/home/nagaku/notebooks/docker-handson/.log/20201029/20201029-074042-0877.log",
      "/home/nagaku/notebooks/docker-handson/.log/20201030/20201030-000900-0761.log",
      "/home/nagaku/notebooks/docker-handson/.log/20201030/20201030-004807-0598.log",
      "/home/nagaku/notebooks/docker-handson/.log/20201030/20201030-013949-0131.log",
      "/home/nagaku/notebooks/docker-handson/.log/20201030/20201030-062620-0915.log"
     ]
    }
   },
   "outputs": [],
   "source": [
    "unames = !ansible -i hosts $host -a \"uname -s\""
   ]
  },
  {
   "cell_type": "code",
   "execution_count": null,
   "metadata": {
    "lc_cell_meme": {
     "current": "c925b024-19b8-11eb-a66f-0242ac140004",
     "history": [
      {
       "current": "c925b024-19b8-11eb-a66f-0242ac140004",
       "next": "15f5b958-1900-11eb-8a40-0242ac140004",
       "previous": "c925add6-19b8-11eb-a66f-0242ac140004"
      },
      {
       "current": "c925b024-19b8-11eb-a66f-0242ac140004",
       "next": "15f5b958-1900-11eb-8a40-0242ac140004",
       "previous": "2e983570-19ba-11eb-a66f-0242ac140004"
      },
      {
       "current": "c925b024-19b8-11eb-a66f-0242ac140004",
       "next": "15f5b958-1900-11eb-8a40-0242ac140004-1-6eee",
       "previous": "c925add6-19b8-11eb-a66f-0242ac140004"
      },
      {
       "current": "c925b024-19b8-11eb-a66f-0242ac140004",
       "next": "4cd2ab78-19bb-11eb-a66f-0242ac140004",
       "previous": "c925add6-19b8-11eb-a66f-0242ac140004"
      }
     ],
     "next": "4cd2ab78-19bb-11eb-a66f-0242ac140004-1-9134",
     "previous": "c925add6-19b8-11eb-a66f-0242ac140004"
    },
    "lc_wrapper": {
     "log_history": [
      "/home/nagaku/notebooks/docker-handson/.log/20201029/20201029-074125-0066.log",
      "/home/nagaku/notebooks/docker-handson/.log/20201030/20201030-000902-0232.log",
      "/home/nagaku/notebooks/docker-handson/.log/20201030/20201030-004808-0536.log",
      "/home/nagaku/notebooks/docker-handson/.log/20201030/20201030-013950-0163.log",
      "/home/nagaku/notebooks/docker-handson/.log/20201030/20201030-062621-0865.log"
     ]
    }
   },
   "outputs": [],
   "source": [
    "unamem = !ansible -i hosts $host -a \"uname -m\""
   ]
  },
  {
   "cell_type": "code",
   "execution_count": null,
   "metadata": {
    "lc_cell_meme": {
     "current": "4cd2ab78-19bb-11eb-a66f-0242ac140004-1-9134",
     "history": [
      {
       "current": "4cd2ab78-19bb-11eb-a66f-0242ac140004",
       "next": "15f5bade-1900-11eb-8a40-0242ac140004",
       "previous": "15f5b958-1900-11eb-8a40-0242ac140004"
      },
      {
       "current": "4cd2ab78-19bb-11eb-a66f-0242ac140004-1-9134",
       "next": "15f5bade-1900-11eb-8a40-0242ac140004",
       "previous": "c925b024-19b8-11eb-a66f-0242ac140004"
      }
     ],
     "next": "4cd2ab78-19bb-11eb-a66f-0242ac140004",
     "previous": "c925b024-19b8-11eb-a66f-0242ac140004"
    },
    "lc_wrapper": {
     "log_history": [
      "/home/nagaku/notebooks/docker-handson/.log/20201029/20201029-075007-0294.log",
      "/home/nagaku/notebooks/docker-handson/.log/20201029/20201029-075525-0555.log",
      "/home/nagaku/notebooks/docker-handson/.log/20201029/20201029-075543-0256.log",
      "/home/nagaku/notebooks/docker-handson/.log/20201029/20201029-075608-0370.log",
      "/home/nagaku/notebooks/docker-handson/.log/20201029/20201029-075822-0243.log",
      "/home/nagaku/notebooks/docker-handson/.log/20201029/20201029-075854-0690.log",
      "/home/nagaku/notebooks/docker-handson/.log/20201029/20201029-080055-0713.log",
      "/home/nagaku/notebooks/docker-handson/.log/20201029/20201029-080238-0730.log",
      "/home/nagaku/notebooks/docker-handson/.log/20201029/20201029-080252-0692.log",
      "/home/nagaku/notebooks/docker-handson/.log/20201029/20201029-080404-0379.log",
      "/home/nagaku/notebooks/docker-handson/.log/20201029/20201029-080418-0531.log",
      "/home/nagaku/notebooks/docker-handson/.log/20201029/20201029-080504-0752.log",
      "/home/nagaku/notebooks/docker-handson/.log/20201029/20201029-080519-0788.log",
      "/home/nagaku/notebooks/docker-handson/.log/20201029/20201029-080550-0570.log",
      "/home/nagaku/notebooks/docker-handson/.log/20201029/20201029-080605-0191.log",
      "/home/nagaku/notebooks/docker-handson/.log/20201029/20201029-080733-0563.log",
      "/home/nagaku/notebooks/docker-handson/.log/20201030/20201030-000903-0409.log",
      "/home/nagaku/notebooks/docker-handson/.log/20201030/20201030-004809-0471.log",
      "/home/nagaku/notebooks/docker-handson/.log/20201030/20201030-013951-0567.log",
      "/home/nagaku/notebooks/docker-handson/.log/20201030/20201030-062622-0817.log"
     ]
    }
   },
   "outputs": [],
   "source": [
    "urlargs = \"\\\"url=https://github.com/docker/compose/releases/download/1.27.4/\\\n",
    "docker-compose-\"+unames[1]+\"-\"+unamem[1]\\\n",
    "+\" dest=/usr/local/bin/docker-compose mode=0555\\\"\""
   ]
  },
  {
   "cell_type": "code",
   "execution_count": null,
   "metadata": {
    "lc_cell_meme": {
     "current": "4cd2ab78-19bb-11eb-a66f-0242ac140004",
     "history": [
      {
       "current": "4cd2ab78-19bb-11eb-a66f-0242ac140004",
       "next": "15f5bade-1900-11eb-8a40-0242ac140004",
       "previous": "15f5b958-1900-11eb-8a40-0242ac140004"
      },
      {
       "current": "4cd2ab78-19bb-11eb-a66f-0242ac140004",
       "next": "15f5bade-1900-11eb-8a40-0242ac140004",
       "previous": "c925b024-19b8-11eb-a66f-0242ac140004"
      },
      {
       "current": "4cd2ab78-19bb-11eb-a66f-0242ac140004",
       "next": "15f5bade-1900-11eb-8a40-0242ac140004",
       "previous": "4cd2ab78-19bb-11eb-a66f-0242ac140004-1-9134"
      }
     ],
     "next": "995c14f2-1902-11eb-8a40-0242ac140004",
     "previous": "4cd2ab78-19bb-11eb-a66f-0242ac140004-1-9134"
    },
    "lc_wrapper": {
     "log_history": [
      "/home/nagaku/notebooks/docker-handson/.log/20201029/20201029-075007-0294.log",
      "/home/nagaku/notebooks/docker-handson/.log/20201029/20201029-075525-0555.log",
      "/home/nagaku/notebooks/docker-handson/.log/20201029/20201029-075543-0256.log",
      "/home/nagaku/notebooks/docker-handson/.log/20201029/20201029-075608-0370.log",
      "/home/nagaku/notebooks/docker-handson/.log/20201029/20201029-075822-0243.log",
      "/home/nagaku/notebooks/docker-handson/.log/20201029/20201029-075854-0690.log",
      "/home/nagaku/notebooks/docker-handson/.log/20201029/20201029-080055-0713.log",
      "/home/nagaku/notebooks/docker-handson/.log/20201029/20201029-080238-0730.log",
      "/home/nagaku/notebooks/docker-handson/.log/20201029/20201029-080252-0692.log",
      "/home/nagaku/notebooks/docker-handson/.log/20201029/20201029-080404-0379.log",
      "/home/nagaku/notebooks/docker-handson/.log/20201029/20201029-080418-0531.log",
      "/home/nagaku/notebooks/docker-handson/.log/20201029/20201029-080504-0752.log",
      "/home/nagaku/notebooks/docker-handson/.log/20201029/20201029-080519-0788.log",
      "/home/nagaku/notebooks/docker-handson/.log/20201029/20201029-080550-0570.log",
      "/home/nagaku/notebooks/docker-handson/.log/20201029/20201029-080605-0191.log",
      "/home/nagaku/notebooks/docker-handson/.log/20201029/20201029-080644-0639.log",
      "/home/nagaku/notebooks/docker-handson/.log/20201029/20201029-080718-0239.log",
      "/home/nagaku/notebooks/docker-handson/.log/20201029/20201029-080734-0726.log",
      "/home/nagaku/notebooks/docker-handson/.log/20201029/20201029-080820-0932.log",
      "/home/nagaku/notebooks/docker-handson/.log/20201030/20201030-000903-0422.log",
      "/home/nagaku/notebooks/docker-handson/.log/20201030/20201030-004809-0482.log",
      "/home/nagaku/notebooks/docker-handson/.log/20201030/20201030-013951-0579.log",
      "/home/nagaku/notebooks/docker-handson/.log/20201030/20201030-062622-0831.log"
     ]
    },
    "pinned_outputs": [
     {
      "execution_count": 25,
      "outputs": [
       {
        "name": "stdout",
        "output_type": "stream",
        "text": "\u001b[0;33m172.31.63.5 | CHANGED => {\u001b[0m\r\n\u001b[0;33m    \"ansible_facts\": {\u001b[0m\r\n\u001b[0;33m        \"discovered_interpreter_python\": \"/usr/bin/python\"\u001b[0m\r\n\u001b[0;33m    },\u001b[0m\r\n\u001b[0;33m    \"changed\": true,\u001b[0m\r\n\u001b[0;33m    \"checksum_dest\": null,\u001b[0m\r\n\u001b[0;33m    \"checksum_src\": \"3ac4327e01d3cbb1f15b10ca52ca4d0205242c96\",\u001b[0m\r\n\u001b[0;33m    \"dest\": \"/usr/local/bin/docker-compose\",\u001b[0m\r\n\u001b[0;33m    \"elapsed\": 1,\u001b[0m\r\n\u001b[0;33m    \"gid\": 0,\u001b[0m\r\n\u001b[0;33m    \"group\": \"root\",\u001b[0m\r\n\u001b[0;33m    \"md5sum\": \"bec660213f97d788d129410d047f261f\",\u001b[0m\r\n\u001b[0;33m    \"mode\": \"0555\",\u001b[0m\r\n\u001b[0;33m    \"msg\": \"OK (12218968 bytes)\",\u001b[0m\r\n\u001b[0;33m    \"owner\": \"root\",\u001b[0m\r\n\u001b[0;33m    \"secontext\": \"system_u:object_r:bin_t:s0\",\u001b[0m\r\n\u001b[0;33m    \"size\": 12218968,\u001b[0m\r\n\u001b[0;33m    \"src\": \"/home/centos/.ansible/tmp/ansible-tmp-1604039184.0238206-424-69574569682519/tmpfC8CL2\",\u001b[0m\r\n\u001b[0;33m    \"state\": \"file\",\u001b[0m\r\n\u001b[0;33m    \"status_code\": 200,\u001b[0m\r\n\u001b[0;33m    \"uid\": 0,\u001b[0m\r\n\u001b[0;33m    \"url\": \"https://github.com/docker/compose/releases/download/1.27.4/docker-compose-Linux-x86_64\"\u001b[0m\r\n\u001b[0;33m}\u001b[0m\r\n"
       }
      ]
     }
    ]
   },
   "outputs": [],
   "source": [
    "!ansible -i hosts $host -m get_url -a $urlargs --become"
   ]
  },
  {
   "cell_type": "code",
   "execution_count": null,
   "metadata": {
    "lc_cell_meme": {
     "current": "995c14f2-1902-11eb-8a40-0242ac140004",
     "history": [
      {
       "current": "995c14f2-1902-11eb-8a40-0242ac140004",
       "next": "ce92b7ee-18f7-11eb-8a40-0242ac140004",
       "previous": "15f5bade-1900-11eb-8a40-0242ac140004"
      }
     ],
     "next": "ce92b7ee-18f7-11eb-8a40-0242ac140004",
     "previous": "4cd2ab78-19bb-11eb-a66f-0242ac140004"
    },
    "lc_wrapper": {
     "log_history": [
      "/home/nagaku/notebooks/docker-handson/.log/20201028/20201028-094710-0867.log",
      "/home/nagaku/notebooks/docker-handson/.log/20201029/20201029-081335-0487.log",
      "/home/nagaku/notebooks/docker-handson/.log/20201030/20201030-000907-0418.log",
      "/home/nagaku/notebooks/docker-handson/.log/20201030/20201030-004812-0958.log",
      "/home/nagaku/notebooks/docker-handson/.log/20201030/20201030-013955-0345.log",
      "/home/nagaku/notebooks/docker-handson/.log/20201030/20201030-062626-0498.log"
     ]
    },
    "pinned_outputs": [
     {
      "execution_count": 26,
      "outputs": [
       {
        "name": "stdout",
        "output_type": "stream",
        "text": "\u001b[0;33m172.31.63.5 | CHANGED => {\u001b[0m\r\n\u001b[0;33m    \"ansible_facts\": {\u001b[0m\r\n\u001b[0;33m        \"discovered_interpreter_python\": \"/usr/bin/python\"\u001b[0m\r\n\u001b[0;33m    },\u001b[0m\r\n\u001b[0;33m    \"changed\": true,\u001b[0m\r\n\u001b[0;33m    \"dest\": \"/usr/bin/docker-compose\",\u001b[0m\r\n\u001b[0;33m    \"gid\": 0,\u001b[0m\r\n\u001b[0;33m    \"group\": \"root\",\u001b[0m\r\n\u001b[0;33m    \"mode\": \"0777\",\u001b[0m\r\n\u001b[0;33m    \"owner\": \"root\",\u001b[0m\r\n\u001b[0;33m    \"secontext\": \"unconfined_u:object_r:bin_t:s0\",\u001b[0m\r\n\u001b[0;33m    \"size\": 29,\u001b[0m\r\n\u001b[0;33m    \"src\": \"/usr/local/bin/docker-compose\",\u001b[0m\r\n\u001b[0;33m    \"state\": \"link\",\u001b[0m\r\n\u001b[0;33m    \"uid\": 0\u001b[0m\r\n\u001b[0;33m}\u001b[0m\r\n"
       }
      ]
     }
    ]
   },
   "outputs": [],
   "source": [
    "!ansible -i hosts $host -m file -a \"src=/usr/local/bin/docker-compose \\\n",
    "dest=/usr/bin/docker-compose state=link\" --become"
   ]
  },
  {
   "cell_type": "code",
   "execution_count": null,
   "metadata": {
    "lc_cell_meme": {
     "current": "ce92b7ee-18f7-11eb-8a40-0242ac140004",
     "history": [
      {
       "current": "ce92b7ee-18f7-11eb-8a40-0242ac140004",
       "next": "ce92b8c0-18f7-11eb-8a40-0242ac140004",
       "previous": "ce92b668-18f7-11eb-8a40-0242ac140004"
      },
      {
       "current": "ce92b7ee-18f7-11eb-8a40-0242ac140004",
       "next": "ce92b8c0-18f7-11eb-8a40-0242ac140004",
       "previous": "68738f52-18f6-11eb-8a40-0242ac140004"
      },
      {
       "current": "ce92b7ee-18f7-11eb-8a40-0242ac140004",
       "next": "e5663c76-18fb-11eb-8a40-0242ac140004",
       "previous": "15f5bade-1900-11eb-8a40-0242ac140004"
      },
      {
       "current": "ce92b7ee-18f7-11eb-8a40-0242ac140004",
       "next": "15f5bba6-1900-11eb-8a40-0242ac140004-1-d246",
       "previous": "15f5bade-1900-11eb-8a40-0242ac140004"
      }
     ],
     "next": "15f5bba6-1900-11eb-8a40-0242ac140004-1-d246",
     "previous": "995c14f2-1902-11eb-8a40-0242ac140004"
    },
    "lc_wrapper": {
     "log_history": [
      "/home/nagaku/notebooks/docker-handson/.log/20201028/20201028-082934-0781.log",
      "/home/nagaku/notebooks/docker-handson/.log/20201028/20201028-094605-0674.log",
      "/home/nagaku/notebooks/docker-handson/.log/20201028/20201028-094717-0204.log",
      "/home/nagaku/notebooks/docker-handson/.log/20201028/20201028-094732-0237.log",
      "/home/nagaku/notebooks/docker-handson/.log/20201028/20201028-094753-0518.log",
      "/home/nagaku/notebooks/docker-handson/.log/20201029/20201029-080829-0168.log",
      "/home/nagaku/notebooks/docker-handson/.log/20201029/20201029-081001-0143.log",
      "/home/nagaku/notebooks/docker-handson/.log/20201029/20201029-081342-0344.log",
      "/home/nagaku/notebooks/docker-handson/.log/20201030/20201030-000909-0530.log",
      "/home/nagaku/notebooks/docker-handson/.log/20201030/20201030-004814-0875.log",
      "/home/nagaku/notebooks/docker-handson/.log/20201030/20201030-013957-0512.log",
      "/home/nagaku/notebooks/docker-handson/.log/20201030/20201030-062628-0359.log"
     ]
    },
    "pinned_outputs": [
     {
      "execution_count": 27,
      "outputs": [
       {
        "name": "stdout",
        "output_type": "stream",
        "text": "\u001b[0;33m172.31.63.5 | CHANGED | rc=0 >>\u001b[0m\r\n\u001b[0;33mdocker-compose version 1.27.4, build 40524192\u001b[0m\r\n\u001b[0;33mdocker-py version: 4.3.1\u001b[0m\r\n\u001b[0;33mCPython version: 3.7.7\u001b[0m\r\n\u001b[0;33mOpenSSL version: OpenSSL 1.1.0l  10 Sep 2019\u001b[0m\r\n"
       }
      ]
     }
    ]
   },
   "outputs": [],
   "source": [
    "!ansible -i hosts $host -a \"docker-compose version\" --become"
   ]
  },
  {
   "cell_type": "markdown",
   "metadata": {
    "lc_cell_meme": {
     "current": "15f5bba6-1900-11eb-8a40-0242ac140004-1-d246",
     "history": [
      {
       "current": "15f5bba6-1900-11eb-8a40-0242ac140004-1-d246",
       "next": "68738f52-18f6-11eb-8a40-0242ac140004",
       "previous": "e5663c76-18fb-11eb-8a40-0242ac140004"
      },
      {
       "current": "15f5bba6-1900-11eb-8a40-0242ac140004-1-d246",
       "next": "68738f52-18f6-11eb-8a40-0242ac140004",
       "previous": "ce92b7ee-18f7-11eb-8a40-0242ac140004"
      },
      {
       "current": "15f5bba6-1900-11eb-8a40-0242ac140004-1-d246",
       "next": "687390e2-18f6-11eb-8a40-0242ac140004",
       "previous": "ce92b7ee-18f7-11eb-8a40-0242ac140004"
      },
      {
       "current": "15f5bba6-1900-11eb-8a40-0242ac140004-1-d246",
       "next": "68738f52-18f6-11eb-8a40-0242ac140004",
       "previous": "ce92b7ee-18f7-11eb-8a40-0242ac140004"
      },
      {
       "current": "15f5bba6-1900-11eb-8a40-0242ac140004-1-d246",
       "next": "c518ef26-19bf-11eb-a66f-0242ac140004",
       "previous": "ce92b7ee-18f7-11eb-8a40-0242ac140004"
      }
     ],
     "next": "68738f52-18f6-11eb-8a40-0242ac140004",
     "previous": "ce92b7ee-18f7-11eb-8a40-0242ac140004"
    }
   },
   "source": [
    "## sshカーネル用の設定ファイルを作成"
   ]
  },
  {
   "cell_type": "code",
   "execution_count": null,
   "metadata": {
    "lc_cell_meme": {
     "current": "68738f52-18f6-11eb-8a40-0242ac140004",
     "history": [
      {
       "current": "68738f52-18f6-11eb-8a40-0242ac140004",
       "next": "68739024-18f6-11eb-8a40-0242ac140004",
       "previous": "68738d4a-18f6-11eb-8a40-0242ac140004"
      },
      {
       "current": "68738f52-18f6-11eb-8a40-0242ac140004",
       "next": "68739024-18f6-11eb-8a40-0242ac140004",
       "previous": "3f03b6f0-18f7-11eb-8a40-0242ac140004"
      },
      {
       "current": "68738f52-18f6-11eb-8a40-0242ac140004",
       "next": "68739024-18f6-11eb-8a40-0242ac140004",
       "previous": "68738d4a-18f6-11eb-8a40-0242ac140004"
      },
      {
       "current": "68738f52-18f6-11eb-8a40-0242ac140004",
       "next": "68739024-18f6-11eb-8a40-0242ac140004",
       "previous": "e5663c76-18fb-11eb-8a40-0242ac140004"
      },
      {
       "current": "68738f52-18f6-11eb-8a40-0242ac140004",
       "next": "ce92b7ee-18f7-11eb-8a40-0242ac140004",
       "previous": "e5663c76-18fb-11eb-8a40-0242ac140004"
      },
      {
       "current": "68738f52-18f6-11eb-8a40-0242ac140004",
       "next": "ce92b7ee-18f7-11eb-8a40-0242ac140004",
       "previous": "15f5bba6-1900-11eb-8a40-0242ac140004"
      },
      {
       "current": "68738f52-18f6-11eb-8a40-0242ac140004",
       "next": "ce92b8c0-18f7-11eb-8a40-0242ac140004",
       "previous": "15f5bba6-1900-11eb-8a40-0242ac140004"
      },
      {
       "current": "68738f52-18f6-11eb-8a40-0242ac140004",
       "next": "e5663c76-18fb-11eb-8a40-0242ac140004",
       "previous": "15f5bba6-1900-11eb-8a40-0242ac140004-1-d246"
      },
      {
       "current": "68738f52-18f6-11eb-8a40-0242ac140004",
       "next": "ce92b8c0-18f7-11eb-8a40-0242ac140004-1-bd67",
       "previous": "15f5bba6-1900-11eb-8a40-0242ac140004-1-d246"
      },
      {
       "current": "68738f52-18f6-11eb-8a40-0242ac140004",
       "next": "ce92b8c0-18f7-11eb-8a40-0242ac140004-1-bd67",
       "previous": "687390e2-18f6-11eb-8a40-0242ac140004"
      },
      {
       "current": "68738f52-18f6-11eb-8a40-0242ac140004",
       "next": "ce92b8c0-18f7-11eb-8a40-0242ac140004-1-bd67",
       "previous": "15f5bba6-1900-11eb-8a40-0242ac140004-1-d246"
      },
      {
       "current": "68738f52-18f6-11eb-8a40-0242ac140004",
       "next": "ce92b8c0-18f7-11eb-8a40-0242ac140004-1-bd67",
       "previous": "c518ef26-19bf-11eb-a66f-0242ac140004"
      }
     ],
     "next": "ce92b8c0-18f7-11eb-8a40-0242ac140004-1-bd67",
     "previous": "15f5bba6-1900-11eb-8a40-0242ac140004-1-d246"
    },
    "lc_wrapper": {
     "log_history": [
      "/home/nagaku/notebooks/docker-handson/.log/20201028/20201028-082535-0099.log",
      "/home/nagaku/notebooks/docker-handson/.log/20201028/20201028-082735-0948.log",
      "/home/nagaku/notebooks/docker-handson/.log/20201029/20201029-081512-0658.log",
      "/home/nagaku/notebooks/docker-handson/.log/20201029/20201029-081903-0564.log",
      "/home/nagaku/notebooks/docker-handson/.log/20201029/20201029-082135-0311.log",
      "/home/nagaku/notebooks/docker-handson/.log/20201029/20201029-082428-0523.log",
      "/home/nagaku/notebooks/docker-handson/.log/20201029/20201029-082945-0266.log",
      "/home/nagaku/notebooks/docker-handson/.log/20201030/20201030-000937-0275.log",
      "/home/nagaku/notebooks/docker-handson/.log/20201030/20201030-004817-0532.log",
      "/home/nagaku/notebooks/docker-handson/.log/20201030/20201030-014001-0132.log",
      "/home/nagaku/notebooks/docker-handson/.log/20201030/20201030-020827-0557.log",
      "/home/nagaku/notebooks/docker-handson/.log/20201030/20201030-062630-0857.log"
     ]
    },
    "pinned_outputs": [
     {
      "execution_count": 28,
      "outputs": [
       {
        "name": "stdout",
        "output_type": "stream",
        "text": "Host target\r\n  Hostname 172.31.63.5\r\n  User centos\r\n  Port 22\r\n  IdentityFile /home/nagaku/notebooks/docker-handson/nagaku.pem\r\n#public_ip 44.226.199.178\r\n"
       }
      ]
     }
    ]
   },
   "outputs": [],
   "source": [
    "public_ip = linux['instances'][0]['public_ip']\n",
    "!echo \"Host target\" > ~/.ssh/config\n",
    "!echo \"  Hostname $host\" >> ~/.ssh/config\n",
    "!echo \"  User $ansible_user\" >> ~/.ssh/config\n",
    "!echo \"  Port 22\" >> ~/.ssh/config\n",
    "!echo \"  IdentityFile $(pwd)/$ansible_ssh_private_key_file\" >> ~/.ssh/config\n",
    "!echo \"#public_ip $public_ip\" >> ~/.ssh/config\n",
    "!cat ~/.ssh/config"
   ]
  },
  {
   "cell_type": "markdown",
   "metadata": {
    "lc_cell_meme": {
     "current": "ce92b8c0-18f7-11eb-8a40-0242ac140004-1-bd67",
     "history": [
      {
       "current": "ce92b8c0-18f7-11eb-8a40-0242ac140004",
       "next": "eb7b0f78-61f5-11ea-ba1c-0242ac120004-5-d557-eb40-7548-fa73-8845",
       "previous": "ce92b7ee-18f7-11eb-8a40-0242ac140004"
      },
      {
       "current": "ce92b8c0-18f7-11eb-8a40-0242ac140004",
       "next": "eb7b0f78-61f5-11ea-ba1c-0242ac120004-5-d557-eb40-7548-fa73-8845",
       "previous": "68738f52-18f6-11eb-8a40-0242ac140004"
      },
      {
       "current": "ce92b8c0-18f7-11eb-8a40-0242ac140004-1-bd67",
       "next": "eb7b0f78-61f5-11ea-ba1c-0242ac120004-5-d557-eb40-7548-fa73-8845",
       "previous": "e5663c76-18fb-11eb-8a40-0242ac140004"
      },
      {
       "current": "ce92b8c0-18f7-11eb-8a40-0242ac140004-1-bd67",
       "next": "e5663c76-18fb-11eb-8a40-0242ac140004",
       "previous": "68738f52-18f6-11eb-8a40-0242ac140004"
      },
      {
       "current": "ce92b8c0-18f7-11eb-8a40-0242ac140004-1-bd67",
       "next": "687390e2-18f6-11eb-8a40-0242ac140004",
       "previous": "68738f52-18f6-11eb-8a40-0242ac140004"
      },
      {
       "current": "ce92b8c0-18f7-11eb-8a40-0242ac140004-1-bd67",
       "next": "6873918c-18f6-11eb-8a40-0242ac140004",
       "previous": "68738f52-18f6-11eb-8a40-0242ac140004"
      }
     ],
     "next": "48f679ce-1a44-11eb-b030-0242ac140004",
     "previous": "68738f52-18f6-11eb-8a40-0242ac140004"
    }
   },
   "source": [
    "## 仮想マシンの破棄"
   ]
  },
  {
   "cell_type": "markdown",
   "metadata": {
    "lc_cell_meme": {
     "current": "48f679ce-1a44-11eb-b030-0242ac140004",
     "execution_end_time": "2020-10-30T00:09:12.468817Z",
     "next": "48f67bd6-1a44-11eb-b030-0242ac140004",
     "previous": "ce92b8c0-18f7-11eb-8a40-0242ac140004-1-bd67"
    },
    "lc_wrapper": {
     "log_history": [
      "/home/nagaku/notebooks/docker-handson/.log/20201030/20201030-000912-0459.log"
     ]
    }
   },
   "source": [
    "誤って実行してしまわないように、必ず失敗するセルを置いておきます。"
   ]
  },
  {
   "cell_type": "code",
   "execution_count": null,
   "metadata": {
    "lc_cell_meme": {
     "current": "48f67bd6-1a44-11eb-b030-0242ac140004",
     "next": "6873918c-18f6-11eb-8a40-0242ac140004",
     "previous": "48f679ce-1a44-11eb-b030-0242ac140004"
    },
    "lc_wrapper": {
     "log_history": [
      "/home/nagaku/notebooks/docker-handson/.log/20201030/20201030-004822-0525.log",
      "/home/nagaku/notebooks/docker-handson/.log/20201030/20201030-014007-0011.log",
      "/home/nagaku/notebooks/docker-handson/.log/20201030/20201030-062636-0886.log"
     ]
    },
    "pinned_outputs": [
     {
      "execution_count": 29,
      "outputs": [
       {
        "ename": "Exception",
        "evalue": "",
        "output_type": "error",
        "traceback": [
         "\u001b[0;31m---------------------------------------------------------------------------\u001b[0m",
         "\u001b[0;31mException\u001b[0m                                 Traceback (most recent call last)",
         "\u001b[0;32m<ipython-input-29-2aee0157c87b>\u001b[0m in \u001b[0;36m<module>\u001b[0;34m\u001b[0m\n\u001b[0;32m----> 1\u001b[0;31m \u001b[0;32mraise\u001b[0m \u001b[0mException\u001b[0m\u001b[0;34m\u001b[0m\u001b[0;34m\u001b[0m\u001b[0m\n\u001b[0m",
         "\u001b[0;31mException\u001b[0m: "
        ]
       }
      ]
     }
    ]
   },
   "outputs": [],
   "source": [
    "raise Exception"
   ]
  },
  {
   "cell_type": "code",
   "execution_count": null,
   "metadata": {
    "lc_cell_meme": {
     "current": "6873918c-18f6-11eb-8a40-0242ac140004",
     "history": [
      {
       "current": "6873918c-18f6-11eb-8a40-0242ac140004",
       "next": "87d0290e-17ee-11eb-814e-0242ac120004-1-be30",
       "previous": "687390e2-18f6-11eb-8a40-0242ac140004"
      },
      {
       "current": "6873918c-18f6-11eb-8a40-0242ac140004",
       "next": "a47e52e6-1fe8-11ea-9346-0242ac110002-6-a656-90d1-545d-4136-6b8f-739b",
       "previous": "687390e2-18f6-11eb-8a40-0242ac140004"
      },
      {
       "current": "6873918c-18f6-11eb-8a40-0242ac140004",
       "next": "a47e52e6-1fe8-11ea-9346-0242ac110002-6-a656-90d1-545d-4136-6b8f-739b",
       "previous": "ce92b8c0-18f7-11eb-8a40-0242ac140004-1-bd67"
      },
      {
       "current": "6873918c-18f6-11eb-8a40-0242ac140004",
       "next": null,
       "previous": "ce92b8c0-18f7-11eb-8a40-0242ac140004-1-bd67"
      },
      {
       "current": "6873918c-18f6-11eb-8a40-0242ac140004",
       "next": null,
       "previous": "48f67bd6-1a44-11eb-b030-0242ac140004"
      }
     ],
     "next": "90a2f16c-1a44-11eb-b030-0242ac140004",
     "previous": "48f67bd6-1a44-11eb-b030-0242ac140004"
    },
    "lc_wrapper": {
     "log_history": [
      "/home/nagaku/notebooks/docker-handson/.log/20201029/20201029-082725-0177.log",
      "/home/nagaku/notebooks/docker-handson/.log/20201029/20201029-083644-0313.log",
      "/home/nagaku/notebooks/docker-handson/.log/20201030/20201030-001113-0026.log",
      "/home/nagaku/notebooks/docker-handson/.log/20201030/20201030-005330-0597.log",
      "/home/nagaku/notebooks/docker-handson/.log/20201030/20201030-064757-0561.log"
     ]
    },
    "pinned_outputs": [
     {
      "execution_count": 30,
      "outputs": [
       {
        "name": "stdout",
        "output_type": "stream",
        "text": "{\r\n    \"TerminatingInstances\": [\r\n        {\r\n            \"CurrentState\": {\r\n                \"Code\": 32,\r\n                \"Name\": \"shutting-down\"\r\n            },\r\n            \"InstanceId\": \"i-08c39c86e82595377\",\r\n            \"PreviousState\": {\r\n                \"Code\": 16,\r\n                \"Name\": \"running\"\r\n            }\r\n        }\r\n    ]\r\n}\r\n"
       }
      ]
     }
    ]
   },
   "outputs": [],
   "source": [
    "!aws ec2 terminate-instances --instance-ids {linux['instance_ids'][0]}"
   ]
  },
  {
   "cell_type": "code",
   "execution_count": null,
   "metadata": {
    "lc_cell_meme": {
     "current": "90a2f16c-1a44-11eb-b030-0242ac140004",
     "next": null,
     "previous": "6873918c-18f6-11eb-8a40-0242ac140004"
    }
   },
   "outputs": [],
   "source": []
  }
 ],
 "metadata": {
  "kernelspec": {
   "display_name": "Python 3",
   "language": "python",
   "name": "python3"
  },
  "language_info": {
   "file_extension": ".py",
   "mimetype": "text/x-python",
   "name": "python",
   "nbconvert_exporter": "python",
   "pygments_lexer": "ipython3",
   "version": "3.8.6"
  },
  "lc_notebook_meme": {
   "current": "fd1fbdc2-bd78-11e9-897b-0242ac130003",
   "lc_server_signature": {
    "current": {
     "notebook_dir": "/home/nagaku/notebooks",
     "notebook_path": "/docker-handson",
     "server_url": "https://operationhub.kgr-lab.com/user/nagaku/",
     "signature_id": "95e8698e-1505-11eb-a6b9-0242ac120002"
    },
    "history": [
     {
      "notebook_dir": "/home/jovyan",
      "notebook_path": "/data/notebooks/mnagaku/seminar-lc4ri",
      "server_url": "http://localhost:8888/",
      "signature_id": "2aeac838-bd78-11e9-897b-0242ac130003"
     },
     {
      "notebook_dir": "/home/jovyan",
      "notebook_path": "/data/notebooks/mnagaku/seminar-lc4ri",
      "server_url": "http://localhost:8888/",
      "signature_id": "fdfd5484-be2c-11e9-bf95-0242ac120003"
     },
     {
      "notebook_dir": "/home/jovyan",
      "notebook_path": "/data/notebooks/mnagaku/seminar-lc4ri",
      "server_url": "http://localhost:8888/",
      "signature_id": "897b9ca0-c224-11e9-aed2-0242ac120003"
     },
     {
      "notebook_dir": "/home/jovyan",
      "notebook_path": "/data/notebooks/mnagaku/seminar-lc4ri",
      "server_url": "http://localhost:8888/",
      "signature_id": "c18ec10c-c306-11e9-adb5-0242ac120003"
     },
     {
      "notebook_dir": "/home/jovyan",
      "notebook_path": "/data/notebooks/mnagaku/seminar-lc4ri",
      "server_url": "http://localhost:8888/",
      "signature_id": "ff9db736-c3d9-11e9-9868-0242ac120003"
     },
     {
      "notebook_dir": "/home/jovyan",
      "notebook_path": "/data/notebooks/mnagaku/seminar-lc4ri",
      "server_url": "http://localhost:8888/",
      "signature_id": "60d2da1a-c3e2-11e9-a49b-0242ac130003"
     },
     {
      "notebook_dir": "/home/jovyan",
      "notebook_path": "/data/notebooks/mnagaku/seminar-lc4ri",
      "server_url": "http://localhost:8888/",
      "signature_id": "8ef05dc0-ca61-11e9-8a1c-0242ac120003"
     },
     {
      "notebook_dir": "/home/jovyan",
      "notebook_path": "/data/notebooks/mnagaku/seminar-lc4ri",
      "server_url": "http://localhost:8888/",
      "signature_id": "d4fd5750-cad9-11e9-9998-0242ac120003"
     },
     {
      "notebook_dir": "/home/jovyan",
      "notebook_path": "/data/notebooks/mnagaku/seminar-lc4ri",
      "server_url": "http://localhost:8888/",
      "signature_id": "9e80cb0e-cb00-11e9-b4d8-0242ac120002"
     },
     {
      "notebook_dir": "/home/jovyan",
      "notebook_path": "/data/notebooks/mnagaku/seminar-lc4ri",
      "server_url": "http://localhost:8888/",
      "signature_id": "4e92ee6e-cbab-11e9-b72d-0242ac120003"
     },
     {
      "notebook_dir": "/home/jovyan",
      "notebook_path": "/data/notebooks/mnagaku/seminar-lc4ri",
      "server_url": "http://localhost:8888/",
      "signature_id": "a933d282-cbe9-11e9-8830-0242ac150003"
     },
     {
      "notebook_dir": "/home/jovyan",
      "notebook_path": "/data/notebooks/mnagaku/seminar-lc4ri",
      "server_url": "http://localhost:8888/",
      "signature_id": "a7e2ef66-cc58-11e9-8d4e-0242ac120003"
     },
     {
      "notebook_dir": "/home/jovyan",
      "notebook_path": "/opehub-deploy",
      "server_url": "http://127.0.0.1:8888/",
      "signature_id": "7f75830e-1fc8-11ea-9346-0242ac110002"
     },
     {
      "notebook_dir": "/home/jovyan",
      "notebook_path": "/opehub-deploy",
      "server_url": "http://127.0.0.1:8888/",
      "signature_id": "7a755c96-2089-11ea-99c8-0242ac110002"
     },
     {
      "notebook_dir": "/home/nagaku/notebooks",
      "notebook_path": "/",
      "server_url": "https://34.223.48.197/user/nagaku/",
      "signature_id": "17dd5b40-4d59-11ea-813a-0242ac120002"
     },
     {
      "notebook_dir": "/home/jovyan",
      "notebook_path": "/",
      "server_url": "http://localhost:8888/",
      "signature_id": "6680fada-61fa-11ea-9a18-0242ac110002"
     },
     {
      "notebook_dir": "/home/jovyan",
      "notebook_path": "/",
      "server_url": "http://localhost:8888/",
      "signature_id": "e2c34d7a-6275-11ea-b92a-0242ac110002"
     },
     {
      "notebook_dir": "/home/nagaku/notebooks",
      "notebook_path": "/work-ngs",
      "server_url": "https://lmopehub.kgr-lab.com/user/nagaku/",
      "signature_id": "17dd5b40-4d59-11ea-813a-0242ac120002"
     },
     {
      "notebook_dir": "/home/nagaku/notebooks",
      "notebook_path": "/share/ngs",
      "server_url": "https://lmopehub.kgr-lab.com/user/nagaku/",
      "signature_id": "17dd5b40-4d59-11ea-813a-0242ac120002"
     }
    ]
   }
  },
  "toc": {
   "base_numbering": 1,
   "nav_menu": {},
   "number_sections": true,
   "sideBar": true,
   "skip_h1_title": false,
   "title_cell": "Table of Contents",
   "title_sidebar": "Contents",
   "toc_cell": false,
   "toc_position": {
    "height": "calc(100% - 180px)",
    "left": "10px",
    "top": "150px",
    "width": "259.797px"
   },
   "toc_section_display": true,
   "toc_window_display": true
  }
 },
 "nbformat": 4,
 "nbformat_minor": 2
}
