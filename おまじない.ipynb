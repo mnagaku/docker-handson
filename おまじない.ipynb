{
 "cells": [
  {
   "cell_type": "markdown",
   "metadata": {
    "lc_cell_meme": {
     "current": "c694a8e4-8fcf-11e8-9258-0242ac110003",
     "next": "c694a97a-8fcf-11e8-9258-0242ac110003",
     "previous": null
    }
   },
   "source": [
    "# 作業環境の準備"
   ]
  },
  {
   "cell_type": "markdown",
   "metadata": {
    "lc_cell_meme": {
     "current": "c694a97a-8fcf-11e8-9258-0242ac110003",
     "history": [
      {
       "current": "c694a97a-8fcf-11e8-9258-0242ac110003",
       "next": "c694a9f2-8fcf-11e8-9258-0242ac110003",
       "previous": "c694a8e4-8fcf-11e8-9258-0242ac110003"
      },
      {
       "current": "c694a97a-8fcf-11e8-9258-0242ac110003",
       "next": "ebae6f7a-8fcf-11e8-9258-0242ac110003",
       "previous": "c694a8e4-8fcf-11e8-9258-0242ac110003"
      },
      {
       "current": "c694a97a-8fcf-11e8-9258-0242ac110003",
       "next": "e1efcf58-8fd2-11e8-acbe-0242ac110004",
       "previous": "c694a8e4-8fcf-11e8-9258-0242ac110003"
      },
      {
       "current": "c694a97a-8fcf-11e8-9258-0242ac110003",
       "next": "cd5f58c4-8fe1-11e8-9cef-0242ac110004",
       "previous": "c694a8e4-8fcf-11e8-9258-0242ac110003"
      },
      {
       "current": "c694a97a-8fcf-11e8-9258-0242ac110003",
       "next": "923c2048-9157-11e8-8094-0242ac110004",
       "previous": "c694a8e4-8fcf-11e8-9258-0242ac110003"
      }
     ],
     "next": "c2c79e46-915b-11e8-8094-0242ac110004",
     "previous": "c694a8e4-8fcf-11e8-9258-0242ac110003"
    }
   },
   "source": [
    "## dockerコマンドのインストール"
   ]
  },
  {
   "cell_type": "markdown",
   "metadata": {
    "lc_cell_meme": {
     "current": "c2c79e46-915b-11e8-8094-0242ac110004",
     "next": "923c2048-9157-11e8-8094-0242ac110004",
     "previous": "c694a97a-8fcf-11e8-9258-0242ac110003"
    }
   },
   "source": [
    "dockerコマンドが入ってないことを確認してから始める。"
   ]
  },
  {
   "cell_type": "code",
   "execution_count": null,
   "metadata": {
    "lc_cell_meme": {
     "current": "923c2048-9157-11e8-8094-0242ac110004",
     "history": [
      {
       "current": "923c2048-9157-11e8-8094-0242ac110004",
       "next": "cd5f58c4-8fe1-11e8-9cef-0242ac110004",
       "previous": "c694a97a-8fcf-11e8-9258-0242ac110003"
      }
     ],
     "next": "cd5f58c4-8fe1-11e8-9cef-0242ac110004",
     "previous": "c2c79e46-915b-11e8-8094-0242ac110004"
    }
   },
   "outputs": [],
   "source": [
    "! ! docker"
   ]
  },
  {
   "cell_type": "markdown",
   "metadata": {
    "lc_cell_meme": {
     "current": "cd5f58c4-8fe1-11e8-9cef-0242ac110004",
     "history": [
      {
       "current": "cd5f58c4-8fe1-11e8-9cef-0242ac110004",
       "next": "e1efcf58-8fd2-11e8-acbe-0242ac110004",
       "previous": "c694a97a-8fcf-11e8-9258-0242ac110003"
      }
     ],
     "next": "e1efcf58-8fd2-11e8-acbe-0242ac110004",
     "previous": "923c2048-9157-11e8-8094-0242ac110004"
    }
   },
   "source": [
    "基本的には\n",
    "\n",
    "https://qiita.com/minamijoyo/items/c937fb4f646dc1ff064a\n",
    "\n",
    "で、tgzからdockerコマンドだけ抜いて配備する。\n",
    "\n",
    "ただ、URLは、getからdownloadに修正が必要だった。"
   ]
  },
  {
   "cell_type": "code",
   "execution_count": null,
   "metadata": {
    "lc_cell_meme": {
     "current": "e1efcf58-8fd2-11e8-acbe-0242ac110004",
     "history": [
      {
       "current": "e1efcf58-8fd2-11e8-acbe-0242ac110004",
       "next": "ebae6f7a-8fcf-11e8-9258-0242ac110003",
       "previous": "c694a97a-8fcf-11e8-9258-0242ac110003"
      },
      {
       "current": "e1efcf58-8fd2-11e8-acbe-0242ac110004",
       "next": "ebae6f7a-8fcf-11e8-9258-0242ac110003",
       "previous": "cd5f58c4-8fe1-11e8-9cef-0242ac110004"
      }
     ],
     "next": "a3f27e3e-8fe2-11e8-9cef-0242ac110004",
     "previous": "cd5f58c4-8fe1-11e8-9cef-0242ac110004"
    }
   },
   "outputs": [],
   "source": [
    "!curl -fsSL https://download.docker.com/linux/static/stable/x86_64/docker-18.09.3.tgz | sudo tar -xzC /usr/local/bin --strip=1 docker/docker"
   ]
  },
  {
   "cell_type": "code",
   "execution_count": null,
   "metadata": {
    "lc_cell_meme": {
     "current": "a3f27e3e-8fe2-11e8-9cef-0242ac110004",
     "history": [
      {
       "current": "a3f27e3e-8fe2-11e8-9cef-0242ac110004",
       "next": "ebae6f7a-8fcf-11e8-9258-0242ac110003",
       "previous": "e1efcf58-8fd2-11e8-acbe-0242ac110004"
      },
      {
       "current": "a3f27e3e-8fe2-11e8-9cef-0242ac110004",
       "next": "a0cd4f46-4715-11e9-bf43-0242ac130004",
       "previous": "e1efcf58-8fd2-11e8-acbe-0242ac110004"
      }
     ],
     "next": "34319372-493d-11e9-892e-0242ac120002",
     "previous": "e1efcf58-8fd2-11e8-acbe-0242ac110004"
    },
    "scrolled": true
   },
   "outputs": [],
   "source": [
    "!sudo docker version"
   ]
  },
  {
   "cell_type": "markdown",
   "metadata": {
    "lc_cell_meme": {
     "current": "34319372-493d-11e9-892e-0242ac120002",
     "history": [
      {
       "current": "34319372-493d-11e9-892e-0242ac120002",
       "next": null,
       "previous": "a3f27e3e-8fe2-11e8-9cef-0242ac110004"
      }
     ],
     "next": "7bb50dbe-493d-11e9-892e-0242ac120002",
     "previous": "a3f27e3e-8fe2-11e8-9cef-0242ac110004"
    }
   },
   "source": [
    "## docker-composeコマンドのインストール"
   ]
  },
  {
   "cell_type": "markdown",
   "metadata": {
    "lc_cell_meme": {
     "current": "7bb50dbe-493d-11e9-892e-0242ac120002",
     "next": "7bb51372-493d-11e9-892e-0242ac120002",
     "previous": "34319372-493d-11e9-892e-0242ac120002"
    }
   },
   "source": [
    "docker-composeコマンドが入ってないことを確認してから始める。"
   ]
  },
  {
   "cell_type": "code",
   "execution_count": null,
   "metadata": {
    "lc_cell_meme": {
     "current": "7bb51372-493d-11e9-892e-0242ac120002",
     "history": [
      {
       "current": "7bb51372-493d-11e9-892e-0242ac120002",
       "next": "7bb51714-493d-11e9-892e-0242ac120002",
       "previous": "7bb50dbe-493d-11e9-892e-0242ac120002"
      }
     ],
     "next": "c3390cbc-493d-11e9-892e-0242ac120002",
     "previous": "7bb50dbe-493d-11e9-892e-0242ac120002"
    }
   },
   "outputs": [],
   "source": [
    "! ! docker-compose"
   ]
  },
  {
   "cell_type": "markdown",
   "metadata": {
    "lc_cell_meme": {
     "current": "c3390cbc-493d-11e9-892e-0242ac120002",
     "next": "7bb51714-493d-11e9-892e-0242ac120002",
     "previous": "7bb51372-493d-11e9-892e-0242ac120002"
    }
   },
   "source": [
    "https://docs.docker.com/compose/install/\n",
    "\n",
    "に従ってインストール。"
   ]
  },
  {
   "cell_type": "code",
   "execution_count": null,
   "metadata": {
    "lc_cell_meme": {
     "current": "7bb51714-493d-11e9-892e-0242ac120002",
     "history": [
      {
       "current": "7bb51714-493d-11e9-892e-0242ac120002",
       "next": null,
       "previous": "7bb51372-493d-11e9-892e-0242ac120002"
      }
     ],
     "next": "c3390f6e-493d-11e9-892e-0242ac120002",
     "previous": "c3390cbc-493d-11e9-892e-0242ac120002"
    }
   },
   "outputs": [],
   "source": [
    "!sudo curl -L \"https://github.com/docker/compose/releases/download/1.23.2/docker-compose-$(uname -s)-$(uname -m)\" -o /usr/local/bin/docker-compose"
   ]
  },
  {
   "cell_type": "code",
   "execution_count": null,
   "metadata": {
    "lc_cell_meme": {
     "current": "c3390f6e-493d-11e9-892e-0242ac120002",
     "next": "c33910ea-493d-11e9-892e-0242ac120002",
     "previous": "7bb51714-493d-11e9-892e-0242ac120002"
    }
   },
   "outputs": [],
   "source": [
    "!sudo chmod +x /usr/local/bin/docker-compose"
   ]
  },
  {
   "cell_type": "code",
   "execution_count": null,
   "metadata": {
    "lc_cell_meme": {
     "current": "c33910ea-493d-11e9-892e-0242ac120002",
     "next": "c3391252-493d-11e9-892e-0242ac120002",
     "previous": "c3390f6e-493d-11e9-892e-0242ac120002"
    }
   },
   "outputs": [],
   "source": [
    "!docker-compose --version"
   ]
  },
  {
   "cell_type": "code",
   "execution_count": null,
   "metadata": {
    "lc_cell_meme": {
     "current": "c3391252-493d-11e9-892e-0242ac120002",
     "next": null,
     "previous": "c33910ea-493d-11e9-892e-0242ac120002"
    }
   },
   "outputs": [],
   "source": []
  }
 ],
 "metadata": {
  "kernelspec": {
   "display_name": "Python 3 (LC_wrapper)",
   "language": "python",
   "name": "python3-wrapper"
  },
  "language_info": {
   "file_extension": ".py",
   "mimetype": "text/x-python",
   "name": "python",
   "nbconvert_exporter": "python",
   "pygments_lexer": "ipython3",
   "version": "3.7.1"
  },
  "lc_notebook_meme": {
   "current": "c694a772-8fcf-11e8-9258-0242ac110003",
   "lc_server_signature": {
    "current": {
     "notebook_dir": "/home/jovyan",
     "notebook_path": "/docker-handson",
     "server_url": "http://localhost:8888/",
     "signature_id": "e181c450-4a07-11e9-9bd0-0242ac120002"
    },
    "history": [
     {
      "notebook_dir": "/home/jovyan",
      "notebook_path": "/openforum2018",
      "server_url": "http://localhost:8888/",
      "signature_id": "e9d7c404-8fce-11e8-9258-0242ac110003"
     },
     {
      "notebook_dir": "/home/jovyan",
      "notebook_path": "/openforum2018",
      "server_url": "http://localhost:8888/",
      "signature_id": "8701e43c-8fd2-11e8-acbe-0242ac110004"
     },
     {
      "notebook_dir": "/home/jovyan",
      "notebook_path": "/openforum2018",
      "server_url": "http://localhost:8888/",
      "signature_id": "9e4d37b6-8fde-11e8-9cef-0242ac110004"
     },
     {
      "notebook_dir": "/home/jovyan",
      "notebook_path": "/openforum2018",
      "server_url": "http://localhost:8888/",
      "signature_id": "d0d4ecbc-9081-11e8-b68b-0242ac110003"
     },
     {
      "notebook_dir": "/home/jovyan",
      "notebook_path": "/openforum2018",
      "server_url": "http://localhost:8888/",
      "signature_id": "90a924e0-9082-11e8-83c9-0242ac110004"
     },
     {
      "notebook_dir": "/home/jovyan",
      "notebook_path": "/openforum2018",
      "server_url": "http://localhost:8888/",
      "signature_id": "817f4af0-9085-11e8-a148-0242ac110004"
     },
     {
      "notebook_dir": "/home/jovyan",
      "notebook_path": "/openforum2018",
      "server_url": "http://localhost:8888/",
      "signature_id": "7ecf8670-9090-11e8-bec3-0242ac110004"
     },
     {
      "notebook_dir": "/home/jovyan",
      "notebook_path": "/openforum2018",
      "server_url": "http://localhost:8888/",
      "signature_id": "832e7ef0-9091-11e8-8886-0242ac110004"
     },
     {
      "notebook_dir": "/home/jovyan",
      "notebook_path": "/openforum2018",
      "server_url": "http://localhost:8888/",
      "signature_id": "dd07d3ae-90b9-11e8-87fa-0242ac110003"
     },
     {
      "notebook_dir": "/home/jovyan",
      "notebook_path": "/openforum2018",
      "server_url": "http://localhost:8888/",
      "signature_id": "e6b007f0-9154-11e8-8094-0242ac110004"
     },
     {
      "notebook_dir": "/home/jovyan",
      "notebook_path": "/jtf2018",
      "server_url": "http://localhost:8888/",
      "signature_id": "339a2bb2-916a-11e8-9bb4-0242ac110004"
     },
     {
      "notebook_dir": "/home/jovyan",
      "notebook_path": "/jtf2018",
      "server_url": "http://localhost:8888/",
      "signature_id": "fd0ae980-9194-11e8-970c-0242ac110003"
     },
     {
      "notebook_dir": "/home/jovyan",
      "notebook_path": "/docker-handson",
      "server_url": "http://localhost:8888/",
      "signature_id": "6be8f178-470f-11e9-bf43-0242ac130004"
     },
     {
      "notebook_dir": "/home/jovyan",
      "notebook_path": "/docker-handson",
      "server_url": "http://localhost:8888/",
      "signature_id": "d9588906-493c-11e9-892e-0242ac120002"
     },
     {
      "notebook_dir": "/home/jovyan",
      "notebook_path": "/docker-handson",
      "server_url": "http://localhost:8888/",
      "signature_id": "8241fd1c-49de-11e9-91dd-0242ac120002"
     },
     {
      "notebook_dir": "/home/jovyan",
      "notebook_path": "/docker-handson",
      "server_url": "http://localhost:8888/",
      "signature_id": "31eff266-49f1-11e9-8353-0242ac120002"
     },
     {
      "notebook_dir": "/home/jovyan",
      "notebook_path": "/docker-handson",
      "server_url": "http://localhost:8888/",
      "signature_id": "70f8869c-49fd-11e9-95a3-0242ac120002"
     }
    ]
   }
  },
  "toc": {
   "base_numbering": 1,
   "nav_menu": {},
   "number_sections": true,
   "sideBar": true,
   "skip_h1_title": false,
   "title_cell": "Table of Contents",
   "title_sidebar": "Contents",
   "toc_cell": false,
   "toc_position": {},
   "toc_section_display": true,
   "toc_window_display": true
  }
 },
 "nbformat": 4,
 "nbformat_minor": 2
}
